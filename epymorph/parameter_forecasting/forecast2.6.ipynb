{
 "cells": [
  {
   "cell_type": "code",
   "execution_count": 1,
   "id": "f6cadbc6",
   "metadata": {},
   "outputs": [],
   "source": [
    "import numpy as np\n",
    "import scipy as sp\n",
    "from epymorph.kit import *"
   ]
  },
  {
   "cell_type": "code",
   "execution_count": 2,
   "id": "739b12e3",
   "metadata": {},
   "outputs": [],
   "source": [
    "from epymorph.params import ParamFunctionNumpy\n",
    "\n",
    "\n",
    "class UniformPrior:\n",
    "    def __init__(self, lower, upper):\n",
    "        self.lower = lower\n",
    "        self.upper = upper\n",
    "\n",
    "    def sample(self, size, rng):\n",
    "        return sp.stats.uniform.rvs(\n",
    "            loc=self.lower, scale=(self.upper - self.lower), size=size, random_state=rng\n",
    "        )\n",
    "\n",
    "\n",
    "class GBM(ParamFunctionNumpy):\n",
    "    def __init__(self, initial=None, voliatility=0.2):\n",
    "        self.initial = initial\n",
    "        self.voliatility = voliatility\n",
    "        super().__init__()\n",
    "\n",
    "    def evaluate(self):\n",
    "        result = np.zeros(shape=(self.time_frame.days, self.scope.nodes))\n",
    "        if self.initial is None:\n",
    "            # Default behavior if initial is None (e.g., initialize with 1.0)\n",
    "            result[0, :] = np.ones(self.scope.nodes)\n",
    "        elif isinstance(self.initial, UniformPrior):\n",
    "            # Sample from the UniformPrior if initial is a UniformPrior object\n",
    "            result[0, :] = self.initial.sample(self.scope.nodes, self.rng)\n",
    "        else:\n",
    "            # Otherwise, use the initial value directly (e.g., fixed number like 100.0)\n",
    "            result[0, :] = np.full(self.scope.nodes, self.initial)\n",
    "        for i in range(self.time_frame.days - 1):\n",
    "            result[i + 1, :] = np.exp(\n",
    "                self.rng.normal(np.log(result[i, :]), self.voliatility)\n",
    "            )\n",
    "        return result"
   ]
  },
  {
   "cell_type": "code",
   "execution_count": 3,
   "id": "1eac1034",
   "metadata": {},
   "outputs": [],
   "source": [
    "from epymorph.adrio import acs5\n",
    "from epymorph import *  # noqa: F403\n",
    "from epymorph.geography.us_census import StateScope\n",
    "from epymorph.data.ipm.sirh import SIRH\n",
    "from epymorph.data.mm.no import No\n",
    "from epymorph.initializer import Proportional\n",
    "from epymorph.rume import SingleStrataRUME\n",
    "from epymorph.time import TimeFrame\n"
   ]
  },
  {
   "cell_type": "code",
   "execution_count": 146,
   "id": "6c711d5a",
   "metadata": {},
   "outputs": [],
   "source": [
    "from types import SimpleNamespace\n",
    "from typing import Callable\n",
    "from epymorph import initializer\n",
    "from epymorph.attribute import NamePattern\n",
    "from epymorph.simulation import ParamValue\n",
    "from epymorph.simulator.basic.basic_simulator import RUMEType\n",
    "from epymorph.util import CovariantMapping\n",
    "import dataclasses\n",
    "\n",
    "\n",
    "class ForecastSimulator:\n",
    "    \"\"\"The RUME we will use for the simulation.\"\"\"\n",
    "\n",
    "    @staticmethod\n",
    "    def run(\n",
    "        rume: RUMEType,\n",
    "        num_realizations: int,\n",
    "        params: CovariantMapping[str | NamePattern, ParamValue] | None = None,\n",
    "        rng_factory: Callable[[], np.random.Generator] | None = None,\n",
    "    ):\n",
    "        days = rume.time_frame.days\n",
    "        taus = rume.num_tau_steps\n",
    "        R = num_realizations\n",
    "        S = days * taus\n",
    "        N = rume.scope.nodes\n",
    "        C = rume.ipm.num_compartments\n",
    "        E = rume.ipm.num_events\n",
    "\n",
    "        initial = np.empty(shape=(R, N, C), dtype=np.int64)\n",
    "        compartments = np.empty(shape=(R, S, N, C), dtype=np.int64)\n",
    "        events = np.empty(shape=(R, S, N, E), dtype=np.int64)\n",
    "\n",
    "        rng = (rng_factory or np.random.default_rng)()\n",
    "\n",
    "        dummy_data = rume.evaluate_params(override_params=params, rng=rng)\n",
    "\n",
    "        return_params = {}\n",
    "        for key in dummy_data.to_dict().keys():\n",
    "            # Store the results with the shape of (number of realizations, shape of the raw data)\n",
    "            return_params[str(key)] = np.empty(\n",
    "                shape=(R,) + dummy_data.get_raw(key).shape,\n",
    "                dtype=dummy_data.get_raw(key).dtype,\n",
    "            )\n",
    "\n",
    "        for i in range(R):\n",
    "            data = rume.evaluate_params(override_params=params, rng=rng)\n",
    "            evaluated_params = dict(\n",
    "                zip(\n",
    "                    [str(key) for key in data.to_dict().keys()],\n",
    "                    [data.get_raw(key) for key in data.to_dict().keys()],\n",
    "                )\n",
    "            )\n",
    "\n",
    "            sim = BasicSimulator(rume)\n",
    "\n",
    "            out = sim.run(params=evaluated_params, rng_factory=(lambda: rng))\n",
    "\n",
    "            initial[i, ...] = out.initial\n",
    "            compartments[i, ...] = out.compartments\n",
    "            events[i, ...] = out.events\n",
    "\n",
    "            for key in evaluated_params.keys():\n",
    "                return_params[key][i, ...] = evaluated_params[key]\n",
    "\n",
    "        return SimpleNamespace(\n",
    "            rume=rume,\n",
    "            initial=initial,\n",
    "            compartments=compartments,\n",
    "            events=events,\n",
    "            params=return_params,\n",
    "        )\n",
    "\n",
    "    @staticmethod\n",
    "    def extend(\n",
    "        output,\n",
    "        duration: int,\n",
    "        params: dict,  # CovariantMapping[str | NamePattern, ParamValue],\n",
    "        rng_factory: Callable[[], np.random.Generator] | None = None,\n",
    "    ):\n",
    "        rume = output.rume\n",
    "        days = duration\n",
    "        taus = rume.num_tau_steps\n",
    "        R = output.compartments.shape[0]\n",
    "        print(\"num realisations = \", R)\n",
    "        S = days * taus\n",
    "        N = rume.scope.nodes\n",
    "        C = rume.ipm.num_compartments\n",
    "        E = rume.ipm.num_events\n",
    "        forecast_start_date = rume.time_frame.end_date.strftime(\"%Y-%m-%d\")\n",
    "\n",
    "        initial = np.empty(shape=(R, N, C), dtype=np.int64)\n",
    "        compartments = np.empty(shape=(R, S, N, C), dtype=np.int64)\n",
    "        events = np.empty(shape=(R, S, N, E), dtype=np.int64)\n",
    "\n",
    "        rng = (rng_factory or np.random.default_rng)()\n",
    "\n",
    "        param_names = list(params.keys())\n",
    "        parameters = {}\n",
    "        for param in param_names:\n",
    "            parameters[param] = np.array(\n",
    "                [0.2]\n",
    "            )  # using a default value to create dummy data\n",
    "\n",
    "        dummy_data = rume.evaluate_params(override_params=parameters, rng=rng)\n",
    "\n",
    "        return_params = {}\n",
    "        for key in dummy_data.to_dict().keys():\n",
    "            # Store the results with the shape of (number of realizations, shape of the raw data)\n",
    "            return_params[str(key)] = np.empty(\n",
    "                shape=(R,) + dummy_data.get_raw(key).shape,\n",
    "                dtype=dummy_data.get_raw(key).dtype,\n",
    "            )\n",
    "\n",
    "        print(\"return_params = \", return_params[\"gpm:all::ipm::beta\"].shape)\n",
    "\n",
    "        for i in range(R):\n",
    "            parameters = {}\n",
    "            for param in param_names:\n",
    "                param_array = output.params[\"gpm:all::ipm::\" + param]\n",
    "                indexing_tuple = (\n",
    "                    (i, -1, slice(None)) if param_array.ndim == 3 else (i, slice(None))\n",
    "                )\n",
    "                if not isinstance(params[param], (int, float, np.ndarray)):\n",
    "                    params[param].initial = param_array[indexing_tuple]\n",
    "                    parameters[param] = params[param]\n",
    "                else:\n",
    "                    parameters[param] = params[param]\n",
    "\n",
    "            rume_propagate = dataclasses.replace(\n",
    "                rume,\n",
    "                time_frame=TimeFrame.of(forecast_start_date, duration),\n",
    "                strata=[\n",
    "                    dataclasses.replace(\n",
    "                        g,\n",
    "                        init=initializer.Explicit(initials=output.compartments[i][-1]),\n",
    "                    )  # Initialize with state values\n",
    "                    for g in output.rume.strata  # For each stratum, set the initial state\n",
    "                ],\n",
    "            )\n",
    "\n",
    "            data = rume_propagate.evaluate_params(\n",
    "                override_params=parameters, rng=np.random.default_rng(seed=1)\n",
    "            )\n",
    "            evaluated_params = dict(\n",
    "                zip(\n",
    "                    [str(key) for key in data.to_dict().keys()],\n",
    "                    [data.get_raw(key) for key in data.to_dict().keys()],\n",
    "                )\n",
    "            )\n",
    "\n",
    "            print(\"evaluated_params = \", evaluated_params[\"gpm:all::ipm::beta\"].shape)\n",
    "\n",
    "            sim = BasicSimulator(rume_propagate)\n",
    "\n",
    "            # Run the simulation and collect the output based on observations\n",
    "            # (dynamic params)\n",
    "            out = sim.run(evaluated_params, rng_factory=(lambda: rng))\n",
    "\n",
    "            initial[i, ...] = out.initial\n",
    "            compartments[i, ...] = out.compartments\n",
    "            events[i, ...] = out.events\n",
    "\n",
    "            for key in evaluated_params.keys():\n",
    "                print(\"key = \", key)\n",
    "                print(\n",
    "                    \"return params[key] \", return_params[key].shape, return_params[key]\n",
    "                )\n",
    "                print(\n",
    "                    \"evaluated_params[key] \",\n",
    "                    evaluated_params[key].shape,\n",
    "                    evaluated_params[key],\n",
    "                )\n",
    "                return_params[key][i, ...] = evaluated_params[key]\n",
    "\n",
    "        return SimpleNamespace(\n",
    "            rume=rume,\n",
    "            initial=initial,\n",
    "            compartments=compartments,\n",
    "            events=events,\n",
    "            params=return_params,\n",
    "        )\n"
   ]
  },
  {
   "cell_type": "code",
   "execution_count": 148,
   "id": "621b4d11",
   "metadata": {},
   "outputs": [],
   "source": [
    "rume = SingleStrataRUME.build(\n",
    "    ipm=SIRH(),\n",
    "    mm=No(),\n",
    "    scope=StateScope.in_states([\"AZ\"], year=2015),\n",
    "    init=Proportional(ratios=np.array([9999, 1, 0, 0], dtype=np.int64)),\n",
    "    time_frame=TimeFrame.of(\"2022-10-01\", 2),\n",
    "    params={\n",
    "        \"beta\": GBM(initial=UniformPrior(lower=0.4, upper=0.41), voliatility=0.01),\n",
    "        \"gamma\": 0.25,\n",
    "        \"xi\": 1 / 365,  # 0.0111,\n",
    "        \"hospitalization_prob\": 0.01,\n",
    "        \"hospitalization_duration\": 5.0,\n",
    "        \"population\": acs5.Population(),\n",
    "    },\n",
    ")"
   ]
  },
  {
   "cell_type": "code",
   "execution_count": 149,
   "id": "27220f0b",
   "metadata": {},
   "outputs": [],
   "source": [
    "forecast_output = ForecastSimulator.run(rume=rume, num_realizations=10)"
   ]
  },
  {
   "cell_type": "code",
   "execution_count": 150,
   "id": "3a2ac7b7",
   "metadata": {},
   "outputs": [
    {
     "data": {
      "text/plain": [
       "(10, 2, 1, 4)"
      ]
     },
     "execution_count": 150,
     "metadata": {},
     "output_type": "execute_result"
    }
   ],
   "source": [
    "forecast_output.compartments.shape"
   ]
  },
  {
   "cell_type": "code",
   "execution_count": null,
   "id": "9cfabd64",
   "metadata": {},
   "outputs": [],
   "source": [
    "forecast_output.params"
   ]
  },
  {
   "cell_type": "code",
   "execution_count": 152,
   "id": "9a83aa66",
   "metadata": {},
   "outputs": [
    {
     "name": "stdout",
     "output_type": "stream",
     "text": [
      "num realisations =  10\n",
      "return_params =  (10, 1)\n",
      "evaluated_params =  (5, 1)\n",
      "key =  gpm:all::ipm::beta\n",
      "return params[key]  (10, 1) [[5.]\n",
      " [5.]\n",
      " [5.]\n",
      " [5.]\n",
      " [5.]\n",
      " [5.]\n",
      " [5.]\n",
      " [5.]\n",
      " [5.]\n",
      " [5.]]\n",
      "evaluated_params[key]  (5, 1) [[0.40902122]\n",
      " [0.41043718]\n",
      " [0.4138233 ]\n",
      " [0.41519298]\n",
      " [0.40981747]]\n"
     ]
    },
    {
     "ename": "ValueError",
     "evalue": "could not broadcast input array from shape (5,1) into shape (1,)",
     "output_type": "error",
     "traceback": [
      "\u001b[1;31m---------------------------------------------------------------------------\u001b[0m",
      "\u001b[1;31mValueError\u001b[0m                                Traceback (most recent call last)",
      "Cell \u001b[1;32mIn[152], line 1\u001b[0m\n\u001b[1;32m----> 1\u001b[0m forecast_extend \u001b[38;5;241m=\u001b[39m \u001b[43mForecastSimulator\u001b[49m\u001b[38;5;241;43m.\u001b[39;49m\u001b[43mextend\u001b[49m\u001b[43m(\u001b[49m\n\u001b[0;32m      2\u001b[0m \u001b[43m    \u001b[49m\u001b[43mforecast_output\u001b[49m\u001b[43m,\u001b[49m\n\u001b[0;32m      3\u001b[0m \u001b[43m    \u001b[49m\u001b[38;5;241;43m5\u001b[39;49m\u001b[43m,\u001b[49m\n\u001b[0;32m      4\u001b[0m \u001b[43m    \u001b[49m\u001b[43mparams\u001b[49m\u001b[38;5;241;43m=\u001b[39;49m\u001b[43m{\u001b[49m\u001b[38;5;124;43m\"\u001b[39;49m\u001b[38;5;124;43mbeta\u001b[39;49m\u001b[38;5;124;43m\"\u001b[39;49m\u001b[43m:\u001b[49m\u001b[43m \u001b[49m\u001b[43mGBM\u001b[49m\u001b[43m(\u001b[49m\u001b[43minitial\u001b[49m\u001b[38;5;241;43m=\u001b[39;49m\u001b[38;5;28;43;01mNone\u001b[39;49;00m\u001b[43m,\u001b[49m\u001b[43m \u001b[49m\u001b[43mvoliatility\u001b[49m\u001b[38;5;241;43m=\u001b[39;49m\u001b[38;5;241;43m0.01\u001b[39;49m\u001b[43m)\u001b[49m\u001b[43m}\u001b[49m\u001b[43m,\u001b[49m\n\u001b[0;32m      5\u001b[0m \u001b[43m)\u001b[49m\n",
      "Cell \u001b[1;32mIn[146], line 173\u001b[0m, in \u001b[0;36mForecastSimulator.extend\u001b[1;34m(output, duration, params, rng_factory)\u001b[0m\n\u001b[0;32m    165\u001b[0m         \u001b[38;5;28mprint\u001b[39m(\n\u001b[0;32m    166\u001b[0m             \u001b[38;5;124m\"\u001b[39m\u001b[38;5;124mreturn params[key] \u001b[39m\u001b[38;5;124m\"\u001b[39m, return_params[key]\u001b[38;5;241m.\u001b[39mshape, return_params[key]\n\u001b[0;32m    167\u001b[0m         )\n\u001b[0;32m    168\u001b[0m         \u001b[38;5;28mprint\u001b[39m(\n\u001b[0;32m    169\u001b[0m             \u001b[38;5;124m\"\u001b[39m\u001b[38;5;124mevaluated_params[key] \u001b[39m\u001b[38;5;124m\"\u001b[39m,\n\u001b[0;32m    170\u001b[0m             evaluated_params[key]\u001b[38;5;241m.\u001b[39mshape,\n\u001b[0;32m    171\u001b[0m             evaluated_params[key],\n\u001b[0;32m    172\u001b[0m         )\n\u001b[1;32m--> 173\u001b[0m         \u001b[43mreturn_params\u001b[49m\u001b[43m[\u001b[49m\u001b[43mkey\u001b[49m\u001b[43m]\u001b[49m\u001b[43m[\u001b[49m\u001b[43mi\u001b[49m\u001b[43m,\u001b[49m\u001b[43m \u001b[49m\u001b[38;5;241;43m.\u001b[39;49m\u001b[38;5;241;43m.\u001b[39;49m\u001b[38;5;241;43m.\u001b[39;49m\u001b[43m]\u001b[49m \u001b[38;5;241m=\u001b[39m evaluated_params[key]\n\u001b[0;32m    175\u001b[0m \u001b[38;5;28;01mreturn\u001b[39;00m SimpleNamespace(\n\u001b[0;32m    176\u001b[0m     rume\u001b[38;5;241m=\u001b[39mrume,\n\u001b[0;32m    177\u001b[0m     initial\u001b[38;5;241m=\u001b[39minitial,\n\u001b[1;32m   (...)\u001b[0m\n\u001b[0;32m    180\u001b[0m     params\u001b[38;5;241m=\u001b[39mreturn_params,\n\u001b[0;32m    181\u001b[0m )\n",
      "\u001b[1;31mValueError\u001b[0m: could not broadcast input array from shape (5,1) into shape (1,)"
     ]
    }
   ],
   "source": [
    "forecast_extend = ForecastSimulator.extend(\n",
    "    forecast_output,\n",
    "    5,\n",
    "    params={\"beta\": GBM(initial=None, voliatility=0.01)},\n",
    ")"
   ]
  },
  {
   "cell_type": "code",
   "execution_count": null,
   "id": "dcbda840",
   "metadata": {},
   "outputs": [],
   "source": []
  },
  {
   "cell_type": "code",
   "execution_count": null,
   "id": "e6f81051",
   "metadata": {},
   "outputs": [],
   "source": []
  },
  {
   "cell_type": "code",
   "execution_count": null,
   "id": "b41dca2f",
   "metadata": {},
   "outputs": [],
   "source": []
  },
  {
   "cell_type": "code",
   "execution_count": null,
   "id": "6c9954ef",
   "metadata": {},
   "outputs": [],
   "source": []
  },
  {
   "cell_type": "code",
   "execution_count": null,
   "id": "95fe0ef0",
   "metadata": {},
   "outputs": [],
   "source": []
  },
  {
   "cell_type": "code",
   "execution_count": 74,
   "id": "2d840317",
   "metadata": {},
   "outputs": [
    {
     "data": {
      "text/plain": [
       "['beta',\n",
       " 'gamma',\n",
       " 'xi',\n",
       " 'hospitalization_prob',\n",
       " 'hospitalization_duration',\n",
       " 'population',\n",
       " 'label']"
      ]
     },
     "execution_count": 74,
     "metadata": {},
     "output_type": "execute_result"
    }
   ],
   "source": [
    "param_names = [key.split(\"::\")[-1] for key in forecast_output.params.keys()]\n",
    "param_names"
   ]
  },
  {
   "cell_type": "code",
   "execution_count": 101,
   "id": "4f669133",
   "metadata": {},
   "outputs": [
    {
     "data": {
      "text/plain": [
       "array([[0.40445935],\n",
       "       [0.40286018],\n",
       "       [0.39853281],\n",
       "       [0.39466837],\n",
       "       [0.39114458],\n",
       "       [0.38441981],\n",
       "       [0.38343928],\n",
       "       [0.38083885],\n",
       "       [0.38117172],\n",
       "       [0.37722004]])"
      ]
     },
     "execution_count": 101,
     "metadata": {},
     "output_type": "execute_result"
    }
   ],
   "source": [
    "forecast_output.params[\"gpm:all::ipm::beta\"][0]"
   ]
  },
  {
   "cell_type": "code",
   "execution_count": null,
   "id": "b6506cca",
   "metadata": {},
   "outputs": [
    {
     "data": {
      "text/plain": [
       "100"
      ]
     },
     "execution_count": 115,
     "metadata": {},
     "output_type": "execute_result"
    }
   ],
   "source": [
    "len(forecast_output.compartments)  # .shape[0]"
   ]
  },
  {
   "cell_type": "code",
   "execution_count": null,
   "id": "226788d6",
   "metadata": {},
   "outputs": [],
   "source": [
    "rume = SingleStrataRUME.build(\n",
    "    ipm=SIRH(),\n",
    "    mm=No(),\n",
    "    scope=StateScope.in_states([\"AZ\"], year=2015),\n",
    "    init=Proportional(ratios=np.array([9999, 1, 0, 0], dtype=np.int64)),\n",
    "    time_frame=TimeFrame.of(\"2022-10-01\", 10),\n",
    "    params={\n",
    "        \"beta\": GBM(initial=None, voliatility=0.01),\n",
    "        \"gamma\": 0.25,\n",
    "        \"xi\": 1 / 365,  # 0.0111,\n",
    "        \"hospitalization_prob\": 0.01,\n",
    "        \"hospitalization_duration\": 5.0,\n",
    "        \"population\": acs5.Population(),\n",
    "    },\n",
    ")"
   ]
  },
  {
   "cell_type": "code",
   "execution_count": null,
   "id": "ed2248b4",
   "metadata": {},
   "outputs": [
    {
     "data": {
      "text/plain": [
       "{'beta': <__main__.GBM at 0x20ab8c17710>,\n",
       " 'gamma': 0.25,\n",
       " 'xi': 0.0027397260273972603,\n",
       " 'hospitalization_prob': 0.01,\n",
       " 'hospitalization_duration': 5.0,\n",
       " 'population': <epymorph.adrio.acs5.Population at 0x20ab8f70c90>}"
      ]
     },
     "execution_count": 110,
     "metadata": {},
     "output_type": "execute_result"
    }
   ],
   "source": [
    "extracted_params = {}\n",
    "\n",
    "# Loop over rume.params and extract key-value pairs\n",
    "for key, value in rume.params.items():\n",
    "    # You can use the 'id' as the key for simplicity\n",
    "    extracted_params[key.id] = value\n",
    "\n",
    "extracted_params"
   ]
  },
  {
   "cell_type": "code",
   "execution_count": 109,
   "id": "ee616470",
   "metadata": {},
   "outputs": [
    {
     "data": {
      "text/plain": [
       "[array([[0.40511822],\n",
       "        [0.40846045],\n",
       "        [0.40981239],\n",
       "        [0.40450654],\n",
       "        [0.40818539],\n",
       "        [0.4100115 ],\n",
       "        [0.40781583],\n",
       "        [0.41019262],\n",
       "        [0.4116908 ],\n",
       "        [0.4129035 ]]),\n",
       " array(0.25),\n",
       " array(0.00273973),\n",
       " array(0.01),\n",
       " array(5.),\n",
       " array([6641928], dtype=int64),\n",
       " array(['AZ'], dtype='<U2')]"
      ]
     },
     "execution_count": 109,
     "metadata": {},
     "output_type": "execute_result"
    }
   ],
   "source": [
    "rume.params\n",
    "data = rume.evaluate_params(rng=np.random.default_rng(seed=1))\n",
    "[data.get_raw(key) for key in data.to_dict().keys()]"
   ]
  },
  {
   "cell_type": "code",
   "execution_count": null,
   "id": "20d7c306",
   "metadata": {},
   "outputs": [],
   "source": [
    "params = {\"beta\": GBM(initial=None, voliatility=0.01)}\n",
    "\n",
    "\n",
    "def run(output, params):\n",
    "    param_names = list(params.keys())\n",
    "    for i in range(1):\n",
    "        parameters = {}\n",
    "        for param in param_names:\n",
    "            param_array = output.params[\"gpm:all::ipm::\" + param]\n",
    "            indexing_tuple = (\n",
    "                (i, -1, slice(None)) if param_array.ndim == 3 else (i, slice(None))\n",
    "            )\n",
    "            if not isinstance(params[param], (int, float, np.ndarray)):\n",
    "                params[param].initial = param_array[indexing_tuple]\n",
    "                parameters[param] = params[param]\n",
    "            else:\n",
    "                parameters[param] = params[param]\n",
    "\n",
    "            data = rume.evaluate_params(\n",
    "                override_params=parameters, rng=np.random.default_rng(seed=1)\n",
    "            )\n",
    "            evaluated_params = dict(\n",
    "                zip(\n",
    "                    [str(key) for key in data.to_dict().keys()],\n",
    "                    [data.get_raw(key) for key in data.to_dict().keys()],\n",
    "                )\n",
    "            )\n",
    "\n",
    "            print(evaluated_params)"
   ]
  },
  {
   "cell_type": "code",
   "execution_count": null,
   "id": "d3b98924",
   "metadata": {},
   "outputs": [
    {
     "name": "stdout",
     "output_type": "stream",
     "text": [
      "{'gpm:all::ipm::beta': array([[0.37722004],\n",
      "       [0.37852591],\n",
      "       [0.38164876],\n",
      "       [0.38291195],\n",
      "       [0.37795438],\n",
      "       [0.38139175],\n",
      "       [0.38309799],\n",
      "       [0.38104644],\n",
      "       [0.38326722],\n",
      "       [0.38466706]]), 'gpm:all::ipm::gamma': array(0.25), 'gpm:all::ipm::xi': array(0.00273973), 'gpm:all::ipm::hospitalization_prob': array(0.01), 'gpm:all::ipm::hospitalization_duration': array(5.), 'gpm:all::init::population': array([6641928], dtype=int64), 'meta::geo::label': array(['AZ'], dtype='<U2')}\n"
     ]
    }
   ],
   "source": [
    "run(forecast_output, params=None, rume=rume)"
   ]
  },
  {
   "cell_type": "code",
   "execution_count": null,
   "id": "9717c56c",
   "metadata": {},
   "outputs": [],
   "source": [
    "def run(output, params):\n",
    "    param_names = list(params.keys())\n",
    "    rume = output.rume\n",
    "    evaluated_params = {}\n",
    "    out = None\n",
    "    forecast_start_date = rume.time_frame.end_date.strftime(\"%Y-%m-%d\")\n",
    "    for i in range(1):\n",
    "        parameters = {}\n",
    "        for param in param_names:\n",
    "            param_array = output.params[\"gpm:all::ipm::\" + param]\n",
    "            indexing_tuple = (\n",
    "                (i, -1, slice(None)) if param_array.ndim == 3 else (i, slice(None))\n",
    "            )\n",
    "            if not isinstance(params[param], (int, float, np.ndarray)):\n",
    "                params[param].initial = param_array[indexing_tuple]\n",
    "                parameters[param] = params[param]\n",
    "            else:\n",
    "                parameters[param] = params[param]\n",
    "\n",
    "        rume_propagate = dataclasses.replace(\n",
    "            rume,\n",
    "            time_frame=TimeFrame.of(forecast_start_date, 10),\n",
    "            strata=[\n",
    "                dataclasses.replace(\n",
    "                    g,\n",
    "                    init=initializer.Explicit(initials=output.compartments[i][-1]),\n",
    "                )  # Initialize with state values\n",
    "                for g in output.rume.strata  # For each stratum, set the initial state\n",
    "            ],\n",
    "        )\n",
    "\n",
    "        data = rume_propagate.evaluate_params(\n",
    "            override_params=parameters, rng=np.random.default_rng(seed=1)\n",
    "        )\n",
    "        evaluated_params = dict(\n",
    "            zip(\n",
    "                [str(key) for key in data.to_dict().keys()],\n",
    "                [data.get_raw(key) for key in data.to_dict().keys()],\n",
    "            )\n",
    "        )\n",
    "\n",
    "        evaluated_params = evaluated_params\n",
    "        print(evaluated_params)\n",
    "\n",
    "        sim = BasicSimulator(rume_propagate)\n",
    "\n",
    "        out = sim.run(evaluated_params)\n",
    "\n",
    "    return evaluated_params, out\n"
   ]
  },
  {
   "cell_type": "code",
   "execution_count": 70,
   "id": "0b33d6df",
   "metadata": {},
   "outputs": [
    {
     "data": {
      "text/plain": [
       "array([[6639471,    1358,    1094,       5]], dtype=int64)"
      ]
     },
     "execution_count": 70,
     "metadata": {},
     "output_type": "execute_result"
    }
   ],
   "source": [
    "forecast_output.compartments[0][-1]"
   ]
  },
  {
   "cell_type": "code",
   "execution_count": 71,
   "id": "a04657f3",
   "metadata": {},
   "outputs": [
    {
     "name": "stdout",
     "output_type": "stream",
     "text": [
      "{'gpm:all::ipm::beta': array([[0.4105499 ],\n",
      "       [0.41197115],\n",
      "       [0.41536992],\n",
      "       [0.41674473],\n",
      "       [0.41134912],\n",
      "       [0.4150902 ],\n",
      "       [0.4169472 ],\n",
      "       [0.41471439],\n",
      "       [0.41713139],\n",
      "       [0.41865491]]), 'gpm:all::ipm::gamma': array(0.25), 'gpm:all::ipm::xi': array(0.00273973), 'gpm:all::ipm::hospitalization_prob': array(0.01), 'gpm:all::ipm::hospitalization_duration': array(5.), 'meta::geo::label': array(['AZ'], dtype='<U2')}\n"
     ]
    }
   ],
   "source": [
    "evaluated_params, out = run(\n",
    "    forecast_output, params={\"beta\": GBM(initial=None, voliatility=0.01)}\n",
    ")"
   ]
  },
  {
   "cell_type": "code",
   "execution_count": null,
   "id": "7f1a337c",
   "metadata": {},
   "outputs": [],
   "source": [
    "sim = BasicSimulator(rume)\n",
    "\n",
    "# Run the simulation and collect the output based on observations\n",
    "# (dynamic params)\n",
    "out = sim.run(evaluated_params)"
   ]
  },
  {
   "cell_type": "code",
   "execution_count": 87,
   "id": "f8465c7e",
   "metadata": {},
   "outputs": [
    {
     "data": {
      "text/plain": [
       "True"
      ]
     },
     "execution_count": 87,
     "metadata": {},
     "output_type": "execute_result"
    }
   ],
   "source": [
    "not isinstance(params[\"beta\"], (int, float, str, bool))"
   ]
  },
  {
   "cell_type": "code",
   "execution_count": null,
   "id": "c4965b1a",
   "metadata": {},
   "outputs": [],
   "source": [
    "param_types = {}\n",
    "\n",
    "for key, value in params.items():\n",
    "    if callable(value):\n",
    "        param_types[key] = \"function\"\n",
    "    elif isinstance(value, object) and not isinstance(\n",
    "        value, type\n",
    "    ):  # Check if it's an instance of any class\n",
    "        param_types[key] = \"class instance\"\n",
    "    elif isinstance(\n",
    "        value, type\n",
    "    ):  # This means it's a class type itself, not an instance\n",
    "        param_types[key] = \"class\"\n",
    "    elif isinstance(\n",
    "        value, (int, float, str, bool)\n",
    "    ):  # Check if it's a static value (number, string, etc.)\n",
    "        param_types[key] = \"static value\"\n",
    "    else:\n",
    "        param_types[key] = \"unknown\""
   ]
  },
  {
   "cell_type": "code",
   "execution_count": 71,
   "id": "11305fdb",
   "metadata": {},
   "outputs": [
    {
     "data": {
      "text/plain": [
       "{'beta': 'class instance', 'gama': 'class instance'}"
      ]
     },
     "execution_count": 71,
     "metadata": {},
     "output_type": "execute_result"
    }
   ],
   "source": [
    "param_types"
   ]
  },
  {
   "cell_type": "code",
   "execution_count": null,
   "id": "3930a12c",
   "metadata": {},
   "outputs": [],
   "source": []
  }
 ],
 "metadata": {
  "kernelspec": {
   "display_name": ".venv",
   "language": "python",
   "name": "python3"
  },
  "language_info": {
   "codemirror_mode": {
    "name": "ipython",
    "version": 3
   },
   "file_extension": ".py",
   "mimetype": "text/x-python",
   "name": "python",
   "nbconvert_exporter": "python",
   "pygments_lexer": "ipython3",
   "version": "3.11.0"
  }
 },
 "nbformat": 4,
 "nbformat_minor": 5
}
