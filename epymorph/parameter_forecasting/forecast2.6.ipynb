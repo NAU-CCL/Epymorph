{
 "cells": [
  {
   "cell_type": "code",
   "execution_count": 165,
   "id": "f6cadbc6",
   "metadata": {},
   "outputs": [],
   "source": [
    "import numpy as np\n",
    "import scipy as sp\n",
    "from epymorph.kit import *"
   ]
  },
  {
   "cell_type": "code",
   "execution_count": 166,
   "id": "739b12e3",
   "metadata": {},
   "outputs": [],
   "source": [
    "from epymorph.params import ParamFunctionNumpy\n",
    "\n",
    "\n",
    "class UniformPrior:\n",
    "    def __init__(self, lower, upper):\n",
    "        self.lower = lower\n",
    "        self.upper = upper\n",
    "\n",
    "    def sample(self, size, rng):\n",
    "        return sp.stats.uniform.rvs(\n",
    "            loc=self.lower, scale=(self.upper - self.lower), size=size, random_state=rng\n",
    "        )\n",
    "\n",
    "\n",
    "class GBM(ParamFunctionNumpy):\n",
    "    def __init__(self, initial=None, voliatility=0.2):\n",
    "        self.initial = initial\n",
    "        self.voliatility = voliatility\n",
    "        super().__init__()\n",
    "\n",
    "    def evaluate(self):\n",
    "        result = np.zeros(shape=(self.time_frame.days, self.scope.nodes))\n",
    "        if self.initial is None:\n",
    "            # Default behavior if initial is None (e.g., initialize with 1.0)\n",
    "            result[0, :] = np.ones(self.scope.nodes)\n",
    "        elif isinstance(self.initial, UniformPrior):\n",
    "            # Sample from the UniformPrior if initial is a UniformPrior object\n",
    "            result[0, :] = self.initial.sample(self.scope.nodes, self.rng)\n",
    "        else:\n",
    "            # Otherwise, use the initial value directly (e.g., fixed number like 100.0)\n",
    "            result[0, :] = np.full(self.scope.nodes, self.initial)\n",
    "        for i in range(self.time_frame.days - 1):\n",
    "            result[i + 1, :] = np.exp(\n",
    "                self.rng.normal(np.log(result[i, :]), self.voliatility)\n",
    "            )\n",
    "        return result"
   ]
  },
  {
   "cell_type": "code",
   "execution_count": 167,
   "id": "1eac1034",
   "metadata": {},
   "outputs": [],
   "source": [
    "from epymorph.adrio import acs5\n",
    "from epymorph import *  # noqa: F403\n",
    "from epymorph.geography.us_census import StateScope\n",
    "from epymorph.data.ipm.sirh import SIRH\n",
    "from epymorph.data.mm.no import No\n",
    "from epymorph.initializer import Proportional\n",
    "from epymorph.rume import SingleStrataRUME\n",
    "from epymorph.time import TimeFrame\n"
   ]
  },
  {
   "cell_type": "code",
   "execution_count": 168,
   "id": "832e4611",
   "metadata": {},
   "outputs": [],
   "source": [
    "from epymorph.params import ResultDType\n",
    "from numpy.typing import NDArray\n",
    "\n",
    "\n",
    "class ParamLoader(ParamFunctionNumpy):\n",
    "    def __init__(self, realizations: NDArray[ResultDType]):\n",
    "        self.realizations = realizations\n",
    "\n",
    "    def evaluate(self):\n",
    "        return self.realizations[0, ...]\n",
    "\n",
    "    def get_realization(self, index: int = 0):\n",
    "        return self.realizations[index, ...]"
   ]
  },
  {
   "cell_type": "code",
   "execution_count": null,
   "id": "6c711d5a",
   "metadata": {},
   "outputs": [],
   "source": [
    "from types import SimpleNamespace\n",
    "from typing import Callable\n",
    "from epymorph import initializer\n",
    "from epymorph.attribute import NamePattern\n",
    "from epymorph.simulation import ParamValue\n",
    "from epymorph.simulator.basic.basic_simulator import RUMEType\n",
    "from epymorph.util import CovariantMapping\n",
    "import dataclasses\n",
    "\n",
    "\n",
    "class ForecastSimulator:\n",
    "    \"\"\"The RUME we will use for the simulation.\"\"\"\n",
    "\n",
    "    @staticmethod\n",
    "    def run(\n",
    "        rume: RUMEType,\n",
    "        num_realizations: int,\n",
    "        params: CovariantMapping[str | NamePattern, ParamValue] | None = None,\n",
    "        rng_factory: Callable[[], np.random.Generator] | None = None,\n",
    "    ):\n",
    "        days = rume.time_frame.days\n",
    "        taus = rume.num_tau_steps\n",
    "        R = num_realizations\n",
    "        S = days * taus\n",
    "        N = rume.scope.nodes\n",
    "        C = rume.ipm.num_compartments\n",
    "        E = rume.ipm.num_events\n",
    "\n",
    "        initial = np.empty(shape=(R, N, C), dtype=np.int64)\n",
    "        compartments = np.empty(shape=(R, S, N, C), dtype=np.int64)\n",
    "        events = np.empty(shape=(R, S, N, E), dtype=np.int64)\n",
    "\n",
    "        rng = (rng_factory or np.random.default_rng)()\n",
    "\n",
    "        dummy_data = rume.evaluate_params(override_params=params, rng=rng)\n",
    "\n",
    "        return_params = {}\n",
    "        for key in dummy_data.to_dict().keys():\n",
    "            # Store the results with the shape of (number of realizations, shape of the raw data)\n",
    "            return_params[str(key)] = np.empty(\n",
    "                shape=(R,) + dummy_data.get_raw(key).shape,\n",
    "                dtype=dummy_data.get_raw(key).dtype,\n",
    "            )\n",
    "\n",
    "        if params is None:\n",
    "            params = rume.params\n",
    "        for i in range(R):\n",
    "            new_params = {}\n",
    "            for name_pattern, param_value in params.items():\n",
    "                if isinstance(param_value, ParamLoader):\n",
    "                    realization = param_value.get_realization(i)\n",
    "                    new_params[name_pattern] = realization\n",
    "                    print(\"realization = \", realization)\n",
    "            data = rume.evaluate_params(override_params=new_params, rng=rng)\n",
    "            evaluated_params = dict(\n",
    "                zip(\n",
    "                    [str(key) for key in data.to_dict().keys()],\n",
    "                    [data.get_raw(key) for key in data.to_dict().keys()],\n",
    "                )\n",
    "            )\n",
    "\n",
    "            sim = BasicSimulator(rume)\n",
    "\n",
    "            out = sim.run(params=evaluated_params, rng_factory=(lambda: rng))\n",
    "\n",
    "            initial[i, ...] = out.initial\n",
    "            compartments[i, ...] = out.compartments\n",
    "            events[i, ...] = out.events\n",
    "\n",
    "            for key in evaluated_params.keys():\n",
    "                return_params[key][i, ...] = evaluated_params[key]\n",
    "\n",
    "        return SimpleNamespace(\n",
    "            rume=rume,\n",
    "            initial=initial,\n",
    "            compartments=compartments,\n",
    "            events=events,\n",
    "            params=return_params,\n",
    "        )\n",
    "\n",
    "    @staticmethod\n",
    "    def extend(\n",
    "        output,\n",
    "        duration: int,\n",
    "        params: CovariantMapping[str | NamePattern, ParamValue] | None = None,\n",
    "        rng_factory: Callable[[], np.random.Generator] | None = None,\n",
    "    ):\n",
    "        forecast_start_date = output.rume.time_frame.end_date.strftime(\"%Y-%m-%d\")\n",
    "\n",
    "        for key, value in output.params.items():\n",
    "            if len(value.shape) > 1 and value.shape[1] >= output.rume.time_frame.days:\n",
    "                output.params[key] = value[:, output.rume.time_frame.days :]\n",
    "        # print(output.params)\n",
    "        # print(output.params[\"gpm:all::ipm::\" + 'beta'].shape[1])\n",
    "\n",
    "        new_params = {}\n",
    "        if params is None:\n",
    "            params_override = False\n",
    "            params = output.rume.params\n",
    "            param_names = []\n",
    "            for name_pattern, param_value in params.items():  # type: ignore\n",
    "                if isinstance(param_value, ParamFunctionNumpy):\n",
    "                    param_names.append(name_pattern.id)  # type: ignore\n",
    "                    new_params[name_pattern.id] = np.zeros(\n",
    "                        output.params[\"gpm:all::ipm::\" + name_pattern.id].shape[1]\n",
    "                    )  # type: ignore\n",
    "            # params = new_params\n",
    "        else:\n",
    "            params_override = True\n",
    "            param_names = list(params.keys())\n",
    "\n",
    "        rume = dataclasses.replace(\n",
    "            output.rume, time_frame=TimeFrame.of(forecast_start_date, duration)\n",
    "        )\n",
    "\n",
    "        days = duration\n",
    "        taus = rume.num_tau_steps\n",
    "        R = output.compartments.shape[0]\n",
    "        S = days * taus\n",
    "        N = rume.scope.nodes\n",
    "        C = rume.ipm.num_compartments\n",
    "        E = rume.ipm.num_events\n",
    "\n",
    "        initial = np.empty(shape=(R, N, C), dtype=np.int64)\n",
    "        compartments = np.empty(shape=(R, S, N, C), dtype=np.int64)\n",
    "        events = np.empty(shape=(R, S, N, E), dtype=np.int64)\n",
    "\n",
    "        rng = (rng_factory or np.random.default_rng)()\n",
    "\n",
    "        dummy_data = rume.evaluate_params(override_params=new_params, rng=rng)\n",
    "\n",
    "        return_params = {}\n",
    "        for key in dummy_data.to_dict().keys():\n",
    "            # Store the results with the shape of (number of realizations, shape of the raw data)\n",
    "            return_params[str(key)] = np.empty(\n",
    "                shape=(R,) + dummy_data.get_raw(key).shape,\n",
    "                dtype=dummy_data.get_raw(key).dtype,\n",
    "            )\n",
    "\n",
    "        # print(\"return params = \", return_params)\n",
    "        # print('shape = ',return_params[\"gpm:all::ipm::beta\"].shape)\n",
    "        # print('params = ', params)\n",
    "\n",
    "        for i in range(R):\n",
    "            new_parameters = {}\n",
    "            for param in param_names:\n",
    "                param_array = output.params[\"gpm:all::ipm::\" + param]\n",
    "                indexing_tuple = (\n",
    "                    (i, -1, slice(None)) if param_array.ndim == 3 else (i, slice(None))\n",
    "                )\n",
    "                key = NamePattern(strata=\"*\", module=\"*\", id=param)  # type: ignore\n",
    "                if isinstance(params[key], ParamLoader):  # type: ignore\n",
    "                    # print('enter')\n",
    "                    if params_override:\n",
    "                        # If the value is a ParamLoader instance, evaluate or get a realization\n",
    "                        realization = params[param].get_realization(i)  # type: ignore\n",
    "                        new_parameters[param] = realization  # type: ignore\n",
    "                    else:\n",
    "                        if (\n",
    "                            param_array.shape[1]  # type: ignore\n",
    "                            < duration\n",
    "                        ):\n",
    "                            raise ValueError(\n",
    "                                \"Missing data for the parameters..check duration and \"\n",
    "                                \"parameter space being estimated\"\n",
    "                            )\n",
    "                        else:\n",
    "                            new_parameters[param] = param_array[i]\n",
    "                            # print(\"params aray = \", param_array[i])\n",
    "                elif isinstance(params[param], ParamFunctionNumpy):  # type: ignore\n",
    "                    params[param].initial = param_array[indexing_tuple]  # type: ignore\n",
    "                    new_parameters[param] = params[param]  # type: ignore\n",
    "                else:\n",
    "                    new_parameters[name_pattern] = param_value  # type: ignore\n",
    "\n",
    "            rume_propagate = dataclasses.replace(\n",
    "                rume,\n",
    "                strata=[\n",
    "                    dataclasses.replace(\n",
    "                        g,\n",
    "                        init=initializer.Explicit(initials=output.compartments[i][-1]),\n",
    "                    )  # Initialize with state values\n",
    "                    for g in output.rume.strata  # For each stratum, set the initial state\n",
    "                ],\n",
    "            )\n",
    "\n",
    "            data = rume_propagate.evaluate_params(\n",
    "                override_params=new_parameters, rng=rng\n",
    "            )\n",
    "            evaluated_params = dict(\n",
    "                zip(\n",
    "                    [str(key) for key in data.to_dict().keys()],\n",
    "                    [data.get_raw(key) for key in data.to_dict().keys()],\n",
    "                )\n",
    "            )\n",
    "\n",
    "            # print('evaluated = ', evaluated_params)\n",
    "            # print('shape = ',evaluated_params[\"gpm:all::ipm::beta\"].shape)\n",
    "\n",
    "            sim = BasicSimulator(rume_propagate)\n",
    "\n",
    "            # Run the simulation and collect the output based on observations\n",
    "            # (dynamic params)\n",
    "            out = sim.run(evaluated_params, rng_factory=(lambda: rng))\n",
    "\n",
    "            initial[i, ...] = out.initial\n",
    "            compartments[i, ...] = out.compartments\n",
    "            events[i, ...] = out.events\n",
    "\n",
    "            for key in evaluated_params.keys():\n",
    "                return_params[key][i, ...] = evaluated_params[key]\n",
    "\n",
    "        return SimpleNamespace(\n",
    "            rume=rume,\n",
    "            initial=initial,\n",
    "            compartments=compartments,\n",
    "            events=events,\n",
    "            params=return_params,\n",
    "        )\n"
   ]
  },
  {
   "cell_type": "code",
   "execution_count": 170,
   "id": "621b4d11",
   "metadata": {},
   "outputs": [],
   "source": [
    "rng = np.random.default_rng()\n",
    "rume = SingleStrataRUME.build(\n",
    "    ipm=SIRH(),\n",
    "    mm=No(),\n",
    "    scope=StateScope.in_states([\"AZ\"], year=2015),\n",
    "    init=Proportional(ratios=np.array([9999, 1, 0, 0], dtype=np.int64)),\n",
    "    time_frame=TimeFrame.of(\"2022-10-01\", 5),\n",
    "    params={\n",
    "        # \"beta\": GBM(initial=UniformPrior(lower=0.4, upper=0.41), voliatility=0.01),\n",
    "        \"beta\": ParamLoader(rng.random((7, 10))),\n",
    "        \"gamma\": 0.25,\n",
    "        \"xi\": 1 / 365,  # 0.0111,\n",
    "        \"hospitalization_prob\": 0.01,\n",
    "        \"hospitalization_duration\": 5.0,\n",
    "        \"population\": acs5.Population(),\n",
    "    },\n",
    ")"
   ]
  },
  {
   "cell_type": "code",
   "execution_count": 171,
   "id": "27220f0b",
   "metadata": {},
   "outputs": [
    {
     "name": "stdout",
     "output_type": "stream",
     "text": [
      "realization =  [0.45045798 0.1630732  0.07558923 0.6657657  0.5684364  0.05543542\n",
      " 0.07792022 0.05687567 0.74831525 0.47860779]\n",
      "realization =  [0.54201223 0.58452107 0.98496233 0.28819757 0.19147916 0.18434658\n",
      " 0.46584541 0.61338148 0.02928364 0.18485286]\n",
      "realization =  [0.99940042 0.55641859 0.26577084 0.96927116 0.41583815 0.52896151\n",
      " 0.3499858  0.87790774 0.51377728 0.60192181]\n",
      "realization =  [0.24445098 0.07500481 0.62652451 0.79670622 0.14903919 0.70336311\n",
      " 0.8030516  0.84179637 0.31018354 0.95708124]\n",
      "realization =  [0.51067941 0.09395831 0.0301252  0.7224867  0.35327166 0.36054446\n",
      " 0.41820937 0.45025591 0.99936254 0.54245537]\n",
      "realization =  [0.70380973 0.36718295 0.63553061 0.29370756 0.64326146 0.09847948\n",
      " 0.8458998  0.18115939 0.88257431 0.63322203]\n",
      "realization =  [0.24033951 0.42331997 0.97920779 0.56731855 0.5945175  0.60019737\n",
      " 0.06739907 0.97381445 0.3198935  0.8834911 ]\n"
     ]
    }
   ],
   "source": [
    "forecast_output = ForecastSimulator.run(rume=rume, num_realizations=7)"
   ]
  },
  {
   "cell_type": "code",
   "execution_count": 172,
   "id": "7ffa9073",
   "metadata": {},
   "outputs": [
    {
     "data": {
      "text/plain": [
       "5"
      ]
     },
     "execution_count": 172,
     "metadata": {},
     "output_type": "execute_result"
    }
   ],
   "source": [
    "forecast_output.rume.time_frame.days"
   ]
  },
  {
   "cell_type": "code",
   "execution_count": 173,
   "id": "3a2ac7b7",
   "metadata": {},
   "outputs": [
    {
     "data": {
      "text/plain": [
       "(7, 5, 1, 4)"
      ]
     },
     "execution_count": 173,
     "metadata": {},
     "output_type": "execute_result"
    }
   ],
   "source": [
    "forecast_output.compartments.shape"
   ]
  },
  {
   "cell_type": "code",
   "execution_count": 174,
   "id": "0d0a1f44",
   "metadata": {},
   "outputs": [
    {
     "data": {
      "text/plain": [
       "{'gpm:all::ipm::beta': array([[0.45045798, 0.1630732 , 0.07558923, 0.6657657 , 0.5684364 ,\n",
       "         0.05543542, 0.07792022, 0.05687567, 0.74831525, 0.47860779],\n",
       "        [0.54201223, 0.58452107, 0.98496233, 0.28819757, 0.19147916,\n",
       "         0.18434658, 0.46584541, 0.61338148, 0.02928364, 0.18485286],\n",
       "        [0.99940042, 0.55641859, 0.26577084, 0.96927116, 0.41583815,\n",
       "         0.52896151, 0.3499858 , 0.87790774, 0.51377728, 0.60192181],\n",
       "        [0.24445098, 0.07500481, 0.62652451, 0.79670622, 0.14903919,\n",
       "         0.70336311, 0.8030516 , 0.84179637, 0.31018354, 0.95708124],\n",
       "        [0.51067941, 0.09395831, 0.0301252 , 0.7224867 , 0.35327166,\n",
       "         0.36054446, 0.41820937, 0.45025591, 0.99936254, 0.54245537],\n",
       "        [0.70380973, 0.36718295, 0.63553061, 0.29370756, 0.64326146,\n",
       "         0.09847948, 0.8458998 , 0.18115939, 0.88257431, 0.63322203],\n",
       "        [0.24033951, 0.42331997, 0.97920779, 0.56731855, 0.5945175 ,\n",
       "         0.60019737, 0.06739907, 0.97381445, 0.3198935 , 0.8834911 ]]),\n",
       " 'gpm:all::ipm::gamma': array([0.25, 0.25, 0.25, 0.25, 0.25, 0.25, 0.25]),\n",
       " 'gpm:all::ipm::xi': array([0.00273973, 0.00273973, 0.00273973, 0.00273973, 0.00273973,\n",
       "        0.00273973, 0.00273973]),\n",
       " 'gpm:all::ipm::hospitalization_prob': array([0.01, 0.01, 0.01, 0.01, 0.01, 0.01, 0.01]),\n",
       " 'gpm:all::ipm::hospitalization_duration': array([5., 5., 5., 5., 5., 5., 5.]),\n",
       " 'gpm:all::init::population': array([[6641928],\n",
       "        [6641928],\n",
       "        [6641928],\n",
       "        [6641928],\n",
       "        [6641928],\n",
       "        [6641928],\n",
       "        [6641928]], dtype=int64),\n",
       " 'meta::geo::label': array([['AZ'],\n",
       "        ['AZ'],\n",
       "        ['AZ'],\n",
       "        ['AZ'],\n",
       "        ['AZ'],\n",
       "        ['AZ'],\n",
       "        ['AZ']], dtype='<U2')}"
      ]
     },
     "execution_count": 174,
     "metadata": {},
     "output_type": "execute_result"
    }
   ],
   "source": [
    "forecast_output.params"
   ]
  },
  {
   "cell_type": "code",
   "execution_count": 175,
   "id": "9a83aa66",
   "metadata": {},
   "outputs": [],
   "source": [
    "forecast_extend = ForecastSimulator.extend(\n",
    "    forecast_output,\n",
    "    duration=5,  # , params={\"beta\": GBM(initial=None, voliatility=0.01)}\n",
    ")"
   ]
  },
  {
   "cell_type": "code",
   "execution_count": 176,
   "id": "0b27fa87",
   "metadata": {},
   "outputs": [
    {
     "data": {
      "text/plain": [
       "(7, 5, 1, 4)"
      ]
     },
     "execution_count": 176,
     "metadata": {},
     "output_type": "execute_result"
    }
   ],
   "source": [
    "forecast_extend.compartments.shape"
   ]
  },
  {
   "cell_type": "code",
   "execution_count": 177,
   "metadata": {},
   "outputs": [
    {
     "data": {
      "text/plain": [
       "{'gpm:all::ipm::beta': array([[0.05543542, 0.07792022, 0.05687567, 0.74831525, 0.47860779],\n",
       "        [0.18434658, 0.46584541, 0.61338148, 0.02928364, 0.18485286],\n",
       "        [0.52896151, 0.3499858 , 0.87790774, 0.51377728, 0.60192181],\n",
       "        [0.70336311, 0.8030516 , 0.84179637, 0.31018354, 0.95708124],\n",
       "        [0.36054446, 0.41820937, 0.45025591, 0.99936254, 0.54245537],\n",
       "        [0.09847948, 0.8458998 , 0.18115939, 0.88257431, 0.63322203],\n",
       "        [0.60019737, 0.06739907, 0.97381445, 0.3198935 , 0.8834911 ]]),\n",
       " 'gpm:all::ipm::gamma': array([0.25, 0.25, 0.25, 0.25, 0.25, 0.25, 0.25]),\n",
       " 'gpm:all::ipm::xi': array([0.00273973, 0.00273973, 0.00273973, 0.00273973, 0.00273973,\n",
       "        0.00273973, 0.00273973]),\n",
       " 'gpm:all::ipm::hospitalization_prob': array([0.01, 0.01, 0.01, 0.01, 0.01, 0.01, 0.01]),\n",
       " 'gpm:all::ipm::hospitalization_duration': array([5., 5., 5., 5., 5., 5., 5.]),\n",
       " 'gpm:all::init::population': array([[25895968444448860],\n",
       "        [23925768161198147],\n",
       "        [32370111954616435],\n",
       "        [14637166947926108],\n",
       "        [25895925493989427],\n",
       "        [32651531097342047],\n",
       "        [          6488178]], dtype=int64),\n",
       " 'meta::geo::label': array([['AZ'],\n",
       "        ['AZ'],\n",
       "        ['AZ'],\n",
       "        ['AZ'],\n",
       "        ['AZ'],\n",
       "        ['AZ'],\n",
       "        ['AZ']], dtype='<U2')}"
      ]
     },
     "execution_count": 177,
     "metadata": {},
     "output_type": "execute_result"
    }
   ],
   "source": [
    "forecast_extend.params"
   ]
  },
  {
   "cell_type": "code",
   "execution_count": null,
   "id": "e7c54222",
   "metadata": {},
   "outputs": [],
   "source": []
  },
  {
   "cell_type": "code",
   "execution_count": null,
   "id": "3b0cdd52",
   "metadata": {},
   "outputs": [],
   "source": []
  },
  {
   "cell_type": "code",
   "execution_count": null,
   "id": "ae9fd025",
   "metadata": {},
   "outputs": [],
   "source": []
  },
  {
   "cell_type": "code",
   "execution_count": 32,
   "id": "b6d0d4c0",
   "metadata": {},
   "outputs": [
    {
     "data": {
      "text/plain": [
       "{'gpm:all::ipm::beta': array([[0.96552842, 0.13095013, 0.44895435, 0.05187637, 0.92524406],\n",
       "        [0.58430256, 0.8251559 , 0.96852491, 0.45787162, 0.28761924],\n",
       "        [0.38929357, 0.40932384, 0.37978491, 0.68732463, 0.05499807],\n",
       "        [0.57324701, 0.98129156, 0.56744396, 0.08360449, 0.45954573],\n",
       "        [0.32684272, 0.69944276, 0.14999393, 0.52671305, 0.34052873],\n",
       "        [0.09256068, 0.75083752, 0.36588713, 0.37690154, 0.2087942 ],\n",
       "        [0.07830595, 0.26561788, 0.75764892, 0.27503524, 0.86674014],\n",
       "        [0.13954575, 0.96963345, 0.07376746, 0.98094978, 0.75382525],\n",
       "        [0.41940521, 0.91047526, 0.95029018, 0.98575689, 0.65672581],\n",
       "        [0.37680579, 0.10087524, 0.66243995, 0.05149404, 0.22546074]]),\n",
       " 'gpm:all::ipm::gamma': array([0.25, 0.25, 0.25, 0.25, 0.25, 0.25, 0.25, 0.25, 0.25, 0.25]),\n",
       " 'gpm:all::ipm::xi': array([0.00273973, 0.00273973, 0.00273973, 0.00273973, 0.00273973,\n",
       "        0.00273973, 0.00273973, 0.00273973, 0.00273973, 0.00273973]),\n",
       " 'gpm:all::ipm::hospitalization_prob': array([0.01, 0.01, 0.01, 0.01, 0.01, 0.01, 0.01, 0.01, 0.01, 0.01]),\n",
       " 'gpm:all::ipm::hospitalization_duration': array([5., 5., 5., 5., 5., 5., 5., 5., 5., 5.]),\n",
       " 'gpm:all::init::population': array([[6641928],\n",
       "        [6641928],\n",
       "        [6641928],\n",
       "        [6641928],\n",
       "        [6641928],\n",
       "        [6641928],\n",
       "        [6641928],\n",
       "        [6641928],\n",
       "        [6641928],\n",
       "        [6641928]], dtype=int64),\n",
       " 'meta::geo::label': array([['AZ'],\n",
       "        ['AZ'],\n",
       "        ['AZ'],\n",
       "        ['AZ'],\n",
       "        ['AZ'],\n",
       "        ['AZ'],\n",
       "        ['AZ'],\n",
       "        ['AZ'],\n",
       "        ['AZ'],\n",
       "        ['AZ']], dtype='<U2')}"
      ]
     },
     "execution_count": 32,
     "metadata": {},
     "output_type": "execute_result"
    }
   ],
   "source": [
    "forecast_output.params"
   ]
  },
  {
   "cell_type": "code",
   "execution_count": 35,
   "id": "95fe0ef0",
   "metadata": {},
   "outputs": [
    {
     "name": "stdout",
     "output_type": "stream",
     "text": [
      "5\n"
     ]
    }
   ],
   "source": [
    "for param in param_names:\n",
    "    param_array = forecast_output.params[\"gpm:all::ipm::\" + param]\n",
    "    print(param_array.shape[1])"
   ]
  },
  {
   "cell_type": "code",
   "execution_count": 74,
   "id": "2d840317",
   "metadata": {},
   "outputs": [
    {
     "data": {
      "text/plain": [
       "['beta',\n",
       " 'gamma',\n",
       " 'xi',\n",
       " 'hospitalization_prob',\n",
       " 'hospitalization_duration',\n",
       " 'population',\n",
       " 'label']"
      ]
     },
     "execution_count": 74,
     "metadata": {},
     "output_type": "execute_result"
    }
   ],
   "source": [
    "param_names = [key.split(\"::\")[-1] for key in forecast_output.params.keys()]\n",
    "param_names"
   ]
  },
  {
   "cell_type": "code",
   "execution_count": 101,
   "id": "4f669133",
   "metadata": {},
   "outputs": [
    {
     "data": {
      "text/plain": [
       "array([[0.40445935],\n",
       "       [0.40286018],\n",
       "       [0.39853281],\n",
       "       [0.39466837],\n",
       "       [0.39114458],\n",
       "       [0.38441981],\n",
       "       [0.38343928],\n",
       "       [0.38083885],\n",
       "       [0.38117172],\n",
       "       [0.37722004]])"
      ]
     },
     "execution_count": 101,
     "metadata": {},
     "output_type": "execute_result"
    }
   ],
   "source": [
    "forecast_output.params[\"gpm:all::ipm::beta\"][0]"
   ]
  },
  {
   "cell_type": "code",
   "execution_count": null,
   "id": "b6506cca",
   "metadata": {},
   "outputs": [
    {
     "data": {
      "text/plain": [
       "100"
      ]
     },
     "execution_count": 115,
     "metadata": {},
     "output_type": "execute_result"
    }
   ],
   "source": [
    "len(forecast_output.compartments)  # .shape[0]"
   ]
  },
  {
   "cell_type": "code",
   "execution_count": null,
   "id": "226788d6",
   "metadata": {},
   "outputs": [],
   "source": [
    "rume = SingleStrataRUME.build(\n",
    "    ipm=SIRH(),\n",
    "    mm=No(),\n",
    "    scope=StateScope.in_states([\"AZ\"], year=2015),\n",
    "    init=Proportional(ratios=np.array([9999, 1, 0, 0], dtype=np.int64)),\n",
    "    time_frame=TimeFrame.of(\"2022-10-01\", 10),\n",
    "    params={\n",
    "        \"beta\": GBM(initial=None, voliatility=0.01),\n",
    "        \"gamma\": 0.25,\n",
    "        \"xi\": 1 / 365,  # 0.0111,\n",
    "        \"hospitalization_prob\": 0.01,\n",
    "        \"hospitalization_duration\": 5.0,\n",
    "        \"population\": acs5.Population(),\n",
    "    },\n",
    ")"
   ]
  },
  {
   "cell_type": "code",
   "execution_count": null,
   "id": "ed2248b4",
   "metadata": {},
   "outputs": [
    {
     "data": {
      "text/plain": [
       "{'beta': <__main__.GBM at 0x20ab8c17710>,\n",
       " 'gamma': 0.25,\n",
       " 'xi': 0.0027397260273972603,\n",
       " 'hospitalization_prob': 0.01,\n",
       " 'hospitalization_duration': 5.0,\n",
       " 'population': <epymorph.adrio.acs5.Population at 0x20ab8f70c90>}"
      ]
     },
     "execution_count": 110,
     "metadata": {},
     "output_type": "execute_result"
    }
   ],
   "source": [
    "extracted_params = {}\n",
    "\n",
    "# Loop over rume.params and extract key-value pairs\n",
    "for key, value in rume.params.items():\n",
    "    # You can use the 'id' as the key for simplicity\n",
    "    extracted_params[key.id] = value\n",
    "\n",
    "extracted_params"
   ]
  },
  {
   "cell_type": "code",
   "execution_count": 109,
   "id": "ee616470",
   "metadata": {},
   "outputs": [
    {
     "data": {
      "text/plain": [
       "[array([[0.40511822],\n",
       "        [0.40846045],\n",
       "        [0.40981239],\n",
       "        [0.40450654],\n",
       "        [0.40818539],\n",
       "        [0.4100115 ],\n",
       "        [0.40781583],\n",
       "        [0.41019262],\n",
       "        [0.4116908 ],\n",
       "        [0.4129035 ]]),\n",
       " array(0.25),\n",
       " array(0.00273973),\n",
       " array(0.01),\n",
       " array(5.),\n",
       " array([6641928], dtype=int64),\n",
       " array(['AZ'], dtype='<U2')]"
      ]
     },
     "execution_count": 109,
     "metadata": {},
     "output_type": "execute_result"
    }
   ],
   "source": [
    "rume.params\n",
    "data = rume.evaluate_params(rng=np.random.default_rng(seed=1))\n",
    "[data.get_raw(key) for key in data.to_dict().keys()]"
   ]
  },
  {
   "cell_type": "code",
   "execution_count": null,
   "id": "20d7c306",
   "metadata": {},
   "outputs": [],
   "source": [
    "params = {\"beta\": GBM(initial=None, voliatility=0.01)}\n",
    "\n",
    "\n",
    "def run(output, params):\n",
    "    param_names = list(params.keys())\n",
    "    for i in range(1):\n",
    "        parameters = {}\n",
    "        for param in param_names:\n",
    "            param_array = output.params[\"gpm:all::ipm::\" + param]\n",
    "            indexing_tuple = (\n",
    "                (i, -1, slice(None)) if param_array.ndim == 3 else (i, slice(None))\n",
    "            )\n",
    "            if not isinstance(params[param], (int, float, np.ndarray)):\n",
    "                params[param].initial = param_array[indexing_tuple]\n",
    "                parameters[param] = params[param]\n",
    "            else:\n",
    "                parameters[param] = params[param]\n",
    "\n",
    "            data = rume.evaluate_params(\n",
    "                override_params=parameters, rng=np.random.default_rng(seed=1)\n",
    "            )\n",
    "            evaluated_params = dict(\n",
    "                zip(\n",
    "                    [str(key) for key in data.to_dict().keys()],\n",
    "                    [data.get_raw(key) for key in data.to_dict().keys()],\n",
    "                )\n",
    "            )\n",
    "\n",
    "            print(evaluated_params)"
   ]
  },
  {
   "cell_type": "code",
   "execution_count": null,
   "id": "d3b98924",
   "metadata": {},
   "outputs": [
    {
     "name": "stdout",
     "output_type": "stream",
     "text": [
      "{'gpm:all::ipm::beta': array([[0.37722004],\n",
      "       [0.37852591],\n",
      "       [0.38164876],\n",
      "       [0.38291195],\n",
      "       [0.37795438],\n",
      "       [0.38139175],\n",
      "       [0.38309799],\n",
      "       [0.38104644],\n",
      "       [0.38326722],\n",
      "       [0.38466706]]), 'gpm:all::ipm::gamma': array(0.25), 'gpm:all::ipm::xi': array(0.00273973), 'gpm:all::ipm::hospitalization_prob': array(0.01), 'gpm:all::ipm::hospitalization_duration': array(5.), 'gpm:all::init::population': array([6641928], dtype=int64), 'meta::geo::label': array(['AZ'], dtype='<U2')}\n"
     ]
    }
   ],
   "source": [
    "run(forecast_output, params=None, rume=rume)"
   ]
  },
  {
   "cell_type": "code",
   "execution_count": null,
   "id": "9717c56c",
   "metadata": {},
   "outputs": [],
   "source": [
    "def run(output, params):\n",
    "    param_names = list(params.keys())\n",
    "    rume = output.rume\n",
    "    evaluated_params = {}\n",
    "    out = None\n",
    "    forecast_start_date = rume.time_frame.end_date.strftime(\"%Y-%m-%d\")\n",
    "    for i in range(1):\n",
    "        parameters = {}\n",
    "        for param in param_names:\n",
    "            param_array = output.params[\"gpm:all::ipm::\" + param]\n",
    "            indexing_tuple = (\n",
    "                (i, -1, slice(None)) if param_array.ndim == 3 else (i, slice(None))\n",
    "            )\n",
    "            if not isinstance(params[param], (int, float, np.ndarray)):\n",
    "                params[param].initial = param_array[indexing_tuple]\n",
    "                parameters[param] = params[param]\n",
    "            else:\n",
    "                parameters[param] = params[param]\n",
    "\n",
    "        rume_propagate = dataclasses.replace(\n",
    "            rume,\n",
    "            time_frame=TimeFrame.of(forecast_start_date, 10),\n",
    "            strata=[\n",
    "                dataclasses.replace(\n",
    "                    g,\n",
    "                    init=initializer.Explicit(initials=output.compartments[i][-1]),\n",
    "                )  # Initialize with state values\n",
    "                for g in output.rume.strata  # For each stratum, set the initial state\n",
    "            ],\n",
    "        )\n",
    "\n",
    "        data = rume_propagate.evaluate_params(\n",
    "            override_params=parameters, rng=np.random.default_rng(seed=1)\n",
    "        )\n",
    "        evaluated_params = dict(\n",
    "            zip(\n",
    "                [str(key) for key in data.to_dict().keys()],\n",
    "                [data.get_raw(key) for key in data.to_dict().keys()],\n",
    "            )\n",
    "        )\n",
    "\n",
    "        evaluated_params = evaluated_params\n",
    "        print(evaluated_params)\n",
    "\n",
    "        sim = BasicSimulator(rume_propagate)\n",
    "\n",
    "        out = sim.run(evaluated_params)\n",
    "\n",
    "    return evaluated_params, out\n"
   ]
  },
  {
   "cell_type": "code",
   "execution_count": 70,
   "id": "0b33d6df",
   "metadata": {},
   "outputs": [
    {
     "data": {
      "text/plain": [
       "array([[6639471,    1358,    1094,       5]], dtype=int64)"
      ]
     },
     "execution_count": 70,
     "metadata": {},
     "output_type": "execute_result"
    }
   ],
   "source": [
    "forecast_output.compartments[0][-1]"
   ]
  },
  {
   "cell_type": "code",
   "execution_count": 71,
   "id": "a04657f3",
   "metadata": {},
   "outputs": [
    {
     "name": "stdout",
     "output_type": "stream",
     "text": [
      "{'gpm:all::ipm::beta': array([[0.4105499 ],\n",
      "       [0.41197115],\n",
      "       [0.41536992],\n",
      "       [0.41674473],\n",
      "       [0.41134912],\n",
      "       [0.4150902 ],\n",
      "       [0.4169472 ],\n",
      "       [0.41471439],\n",
      "       [0.41713139],\n",
      "       [0.41865491]]), 'gpm:all::ipm::gamma': array(0.25), 'gpm:all::ipm::xi': array(0.00273973), 'gpm:all::ipm::hospitalization_prob': array(0.01), 'gpm:all::ipm::hospitalization_duration': array(5.), 'meta::geo::label': array(['AZ'], dtype='<U2')}\n"
     ]
    }
   ],
   "source": [
    "evaluated_params, out = run(\n",
    "    forecast_output, params={\"beta\": GBM(initial=None, voliatility=0.01)}\n",
    ")"
   ]
  },
  {
   "cell_type": "code",
   "execution_count": null,
   "id": "7f1a337c",
   "metadata": {},
   "outputs": [],
   "source": [
    "sim = BasicSimulator(rume)\n",
    "\n",
    "# Run the simulation and collect the output based on observations\n",
    "# (dynamic params)\n",
    "out = sim.run(evaluated_params)"
   ]
  },
  {
   "cell_type": "code",
   "execution_count": 87,
   "id": "f8465c7e",
   "metadata": {},
   "outputs": [
    {
     "data": {
      "text/plain": [
       "True"
      ]
     },
     "execution_count": 87,
     "metadata": {},
     "output_type": "execute_result"
    }
   ],
   "source": [
    "not isinstance(params[\"beta\"], (int, float, str, bool))"
   ]
  },
  {
   "cell_type": "code",
   "execution_count": null,
   "id": "c4965b1a",
   "metadata": {},
   "outputs": [],
   "source": [
    "param_types = {}\n",
    "\n",
    "for key, value in params.items():\n",
    "    if callable(value):\n",
    "        param_types[key] = \"function\"\n",
    "    elif isinstance(value, object) and not isinstance(\n",
    "        value, type\n",
    "    ):  # Check if it's an instance of any class\n",
    "        param_types[key] = \"class instance\"\n",
    "    elif isinstance(\n",
    "        value, type\n",
    "    ):  # This means it's a class type itself, not an instance\n",
    "        param_types[key] = \"class\"\n",
    "    elif isinstance(\n",
    "        value, (int, float, str, bool)\n",
    "    ):  # Check if it's a static value (number, string, etc.)\n",
    "        param_types[key] = \"static value\"\n",
    "    else:\n",
    "        param_types[key] = \"unknown\""
   ]
  },
  {
   "cell_type": "code",
   "execution_count": 71,
   "id": "11305fdb",
   "metadata": {},
   "outputs": [
    {
     "data": {
      "text/plain": [
       "{'beta': 'class instance', 'gama': 'class instance'}"
      ]
     },
     "execution_count": 71,
     "metadata": {},
     "output_type": "execute_result"
    }
   ],
   "source": [
    "param_types"
   ]
  },
  {
   "cell_type": "code",
   "execution_count": null,
   "id": "3930a12c",
   "metadata": {},
   "outputs": [],
   "source": []
  }
 ],
 "metadata": {
  "kernelspec": {
   "display_name": ".venv",
   "language": "python",
   "name": "python3"
  },
  "language_info": {
   "codemirror_mode": {
    "name": "ipython",
    "version": 3
   },
   "file_extension": ".py",
   "mimetype": "text/x-python",
   "name": "python",
   "nbconvert_exporter": "python",
   "pygments_lexer": "ipython3",
   "version": "3.11.0"
  }
 },
 "nbformat": 4,
 "nbformat_minor": 5
}
