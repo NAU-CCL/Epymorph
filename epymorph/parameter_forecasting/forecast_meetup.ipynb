{
 "cells": [
  {
   "cell_type": "code",
   "execution_count": null,
   "id": "54d68271",
   "metadata": {},
   "outputs": [],
   "source": [
    "import numpy as np\n",
    "from epymorph.kit import *\n",
    "\n",
    "from epymorph.adrio import acs5\n",
    "from epymorph import *  # noqa: F403\n",
    "from epymorph.geography.us_census import StateScope\n",
    "from epymorph.data.ipm.sirh import SIRH\n",
    "from epymorph.data.mm.no import No\n",
    "from epymorph.initializer import Proportional\n",
    "from epymorph.rume import SingleStrataRUME\n",
    "from epymorph.time import TimeFrame"
   ]
  },
  {
   "cell_type": "code",
   "execution_count": null,
   "id": "54a061b1",
   "metadata": {},
   "outputs": [],
   "source": [
    "from epymorph.params import ParamFunctionNumpy\n",
    "import scipy as sp\n",
    "\n",
    "\n",
    "class UniformPrior:\n",
    "    def __init__(self, lower, upper):\n",
    "        self.lower = lower\n",
    "        self.upper = upper\n",
    "\n",
    "    def sample(self, size, rng):\n",
    "        return sp.stats.uniform.rvs(\n",
    "            loc=self.lower, scale=(self.upper - self.lower), size=size, random_state=rng\n",
    "        )\n",
    "\n",
    "\n",
    "class GBM(ParamFunctionNumpy):\n",
    "    def __init__(self, initial=None, voliatility=0.2):\n",
    "        self.initial = initial\n",
    "        self.voliatility = voliatility\n",
    "        super().__init__()\n",
    "\n",
    "    def evaluate(self):\n",
    "        result = np.zeros(shape=(self.time_frame.days, self.scope.nodes))\n",
    "        if self.initial is None:\n",
    "            # Default behavior if initial is None (e.g., initialize with 1.0)\n",
    "            result[0, :] = np.ones(self.scope.nodes)\n",
    "        elif isinstance(self.initial, UniformPrior):\n",
    "            # Sample from the UniformPrior if initial is a UniformPrior object\n",
    "            result[0, :] = self.initial.sample(self.scope.nodes, self.rng)\n",
    "        else:\n",
    "            # Otherwise, use the initial value directly (e.g., fixed number like 100.0)\n",
    "            result[0, :] = np.full(self.scope.nodes, self.initial)\n",
    "        for i in range(self.time_frame.days - 1):\n",
    "            result[i + 1, :] = np.exp(\n",
    "                self.rng.normal(np.log(result[i, :]), self.voliatility)\n",
    "            )\n",
    "        return result"
   ]
  },
  {
   "cell_type": "code",
   "execution_count": null,
   "id": "c851b932",
   "metadata": {},
   "outputs": [],
   "source": [
    "class ForecastSimulator:\n",
    "    def __init__(self, rume, run_particlefilter: bool, forecast_time_frame):\n",
    "        return None"
   ]
  },
  {
   "cell_type": "code",
   "execution_count": null,
   "id": "76532025",
   "metadata": {},
   "outputs": [],
   "source": [
    "duration = 7 * 14\n",
    "t = np.arange(0, duration)\n",
    "true_beta = 0.03 * np.cos(t * 2 * np.pi / (365)) + 0.28\n",
    "\n",
    "rume = SingleStrataRUME.build(\n",
    "    ipm=SIRH(),\n",
    "    mm=No(),\n",
    "    scope=StateScope.in_states([\"AZ\"], year=2015),\n",
    "    init=Proportional(ratios=np.array([9999, 1, 0, 0], dtype=np.int64)),\n",
    "    time_frame=TimeFrame.of(\"2022-10-01\", 7 * 14),\n",
    "    params={\n",
    "        \"beta\": GBM(initial=UniformPrior(lower=0.4, upper=0.41), voliatility=0.01),\n",
    "        \"gamma\": 0.25,\n",
    "        \"xi\": 1 / 365,  # 0.0111,\n",
    "        \"hospitalization_prob\": 0.01,\n",
    "        \"hospitalization_duration\": 5.0,\n",
    "        \"population\": acs5.Population(),\n",
    "    },\n",
    ")"
   ]
  }
 ],
 "metadata": {
  "language_info": {
   "name": "python"
  }
 },
 "nbformat": 4,
 "nbformat_minor": 5
}
