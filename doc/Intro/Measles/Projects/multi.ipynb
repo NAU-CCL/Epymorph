{
 "cells": [
  {
   "cell_type": "code",
   "execution_count": 1,
   "metadata": {},
   "outputs": [],
   "source": [
    "import multiprocessing\n",
    "from multiprocessing import get_context\n",
    "from functools import partial\n",
    "\n",
    "from epymorph import *\n",
    "from epymorph.cli.run import save_csv\n",
    "from epymorph.initializer import single_location"
   ]
  },
  {
   "cell_type": "code",
   "execution_count": 2,
   "metadata": {},
   "outputs": [],
   "source": [
    "cpu_25 = int(multiprocessing.cpu_count() * 0.25) # Using 2 CPU cores\n",
    "cpu_50 = int(multiprocessing.cpu_count() * 0.50) # Using 4 CPU cores\n",
    "cpu_75 = int(multiprocessing.cpu_count() * 0.75) # Using 6 CPU cores\n",
    "cpu_100 = multiprocessing.cpu_count() # Using all CPU cores"
   ]
  },
  {
   "attachments": {},
   "cell_type": "markdown",
   "metadata": {},
   "source": [
    "# Movemeent model\n"
   ]
  },
  {
   "cell_type": "code",
   "execution_count": 18,
   "metadata": {},
   "outputs": [],
   "source": [
    "def job(weekday_phis: int, weekend_phis: int, output_name: str) -> None:\n",
    "    sim = StandardSimulation(\n",
    "        geo=geo_library['pei'](),\n",
    "        ipm=ipm_library['sirs'](),\n",
    "        mm=mm_library['Weekday_and_weekend'](),\n",
    "        params={\n",
    "            'beta': 0.4,\n",
    "            'gamma': 1 / 10,\n",
    "            'xi': 1 / 90,\n",
    "            'weekday_phi': weekday_phis,\n",
    "            'weekend_phi': weekend_phis,\n",
    "        },\n",
    "        time_frame=TimeFrame.of(\"2021-01-01\", 150),\n",
    "        initializer=partial(single_location, seed_size=1000, location=0),\n",
    "    )\n",
    "\n",
    "    out = sim.run()\n",
    "    save_csv(output_name, out)\n",
    "\n",
    "args = []\n",
    "weekday_phis = [10]\n",
    "weekend_phis = [10]\n",
    "for wday_phi in weekday_phis:\n",
    "    for wend_phi in weekend_phis:\n",
    "        args.extend([(wday_phi, wend_phi, f'scratch/Multiprocessing/sim-run-wday-{wday_phi}-wend-{wend_phi}-{i}.csv') for i in range(50)])\n",
    "\n",
    "p = get_context(\"fork\").Pool(cpu_75)\n",
    "results = p.starmap(job, args)\n",
    "p.close()\n",
    "p.join()"
   ]
  },
  {
   "attachments": {},
   "cell_type": "markdown",
   "metadata": {},
   "source": [
    "# IPM\n"
   ]
  },
  {
   "cell_type": "code",
   "execution_count": null,
   "metadata": {},
   "outputs": [],
   "source": [
    "def job(weekday_phis: int, weekend_phis: int, output_name: str) -> None:\n",
    "    sim = StandardSimulation(\n",
    "        geo=geo_library['pei'](),\n",
    "        ipm=ipm_library['sirs'](),\n",
    "        mm=mm_library['Weekday_and_weekend'](),\n",
    "        params={\n",
    "            'beta': 0.4,\n",
    "            'gamma': 1 / 10,\n",
    "            'xi': 1 / 90,\n",
    "            'weekday_phi': weekday_phis,\n",
    "            'weekend_phi': weekend_phis,\n",
    "        },\n",
    "        time_frame=TimeFrame.of(\"2021-01-01\", 150),\n",
    "        initializer=partial(single_location, seed_size=1000, location=0),\n",
    "    )\n",
    "\n",
    "    out = sim.run()\n",
    "    save_csv(output_name, out)\n",
    "\n",
    "args = []\n",
    "weekday_phis = [10]\n",
    "weekend_phis = [10]\n",
    "for wday_phi in weekday_phis:\n",
    "    for wend_phi in weekend_phis:\n",
    "        args.extend([(wday_phi, wend_phi, f'scratch/Multiprocessing/sim-run-wday-{wday_phi}-wend-{wend_phi}-{i}.csv') for i in range(50)])\n",
    "\n",
    "p = get_context(\"fork\").Pool(cpu_75)\n",
    "results = p.starmap(job, args)\n",
    "p.close()\n",
    "p.join()"
   ]
  },
  {
   "attachments": {},
   "cell_type": "markdown",
   "metadata": {},
   "source": [
    "# GEO\n"
   ]
  },
  {
   "cell_type": "code",
   "execution_count": null,
   "metadata": {},
   "outputs": [],
   "source": [
    "def job(weekday_phis: int, weekend_phis: int, output_name: str) -> None:\n",
    "    sim = StandardSimulation(\n",
    "        geo=geo_library['pei'](),\n",
    "        ipm=ipm_library['sirs'](),\n",
    "        mm=mm_library['Weekday_and_weekend'](),\n",
    "        params={\n",
    "            'beta': 0.4,\n",
    "            'gamma': 1 / 10,\n",
    "            'xi': 1 / 90,\n",
    "            'weekday_phi': weekday_phis,\n",
    "            'weekend_phi': weekend_phis,\n",
    "        },\n",
    "        time_frame=TimeFrame.of(\"2021-01-01\", 150),\n",
    "        initializer=partial(single_location, seed_size=1000, location=0),\n",
    "    )\n",
    "\n",
    "    out = sim.run()\n",
    "    save_csv(output_name, out)\n",
    "\n",
    "args = []\n",
    "weekday_phis = [10]\n",
    "weekend_phis = [10]\n",
    "for wday_phi in weekday_phis:\n",
    "    for wend_phi in weekend_phis:\n",
    "        args.extend([(wday_phi, wend_phi, f'scratch/Multiprocessing/sim-run-wday-{wday_phi}-wend-{wend_phi}-{i}.csv') for i in range(50)])\n",
    "\n",
    "p = get_context(\"fork\").Pool(cpu_75)\n",
    "results = p.starmap(job, args)\n",
    "p.close()\n",
    "p.join()"
   ]
  },
  {
   "attachments": {},
   "cell_type": "markdown",
   "metadata": {},
   "source": [
    "# Simulations\n"
   ]
  },
  {
   "cell_type": "code",
   "execution_count": null,
   "metadata": {},
   "outputs": [],
   "source": [
    "def job(weekday_phis: int, weekend_phis: int, output_name: str) -> None:\n",
    "    sim = StandardSimulation(\n",
    "        geo=geo_library['pei'](),\n",
    "        ipm=ipm_library['sirs'](),\n",
    "        mm=mm_library['Weekday_and_weekend'](),\n",
    "        params={\n",
    "            'beta': 0.4,\n",
    "            'gamma': 1 / 10,\n",
    "            'xi': 1 / 90,\n",
    "            'weekday_phi': weekday_phis,\n",
    "            'weekend_phi': weekend_phis,\n",
    "        },\n",
    "        time_frame=TimeFrame.of(\"2021-01-01\", 150),\n",
    "        initializer=partial(single_location, seed_size=1000, location=0),\n",
    "    )\n",
    "\n",
    "    out = sim.run()\n",
    "    save_csv(output_name, out)\n",
    "\n",
    "args = []\n",
    "weekday_phis = [10]\n",
    "weekend_phis = [10]\n",
    "for wday_phi in weekday_phis:\n",
    "    for wend_phi in weekend_phis:\n",
    "        args.extend([(wday_phi, wend_phi, f'scratch/Multiprocessing/sim-run-wday-{wday_phi}-wend-{wend_phi}-{i}.csv') for i in range(50)])\n",
    "\n",
    "p = get_context(\"fork\").Pool(cpu_75)\n",
    "results = p.starmap(job, args)\n",
    "p.close()"
   ]
  }
 ],
 "metadata": {
  "kernelspec": {
   "display_name": ".venv",
   "language": "python",
   "name": "python3"
  },
  "language_info": {
   "codemirror_mode": {
    "name": "ipython",
    "version": 3
   },
   "file_extension": ".py",
   "mimetype": "text/x-python",
   "name": "python",
   "nbconvert_exporter": "python",
   "pygments_lexer": "ipython3",
   "version": "3.11.7"
  }
 },
 "nbformat": 4,
 "nbformat_minor": 2
}
