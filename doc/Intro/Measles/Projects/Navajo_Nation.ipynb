{
 "cells": [
  {
   "cell_type": "code",
   "execution_count": 1,
   "metadata": {},
   "outputs": [],
   "source": [
    "from pygris import tribal_block_groups\n",
    "\n",
    "Arizona_TBG = tribal_block_groups(\n",
    "    year=2015,\n",
    ")\n",
    "Navajo_nation = Arizona_TBG[Arizona_TBG[\"AIANNHCE\"] == \"2430\"]"
   ]
  },
  {
   "cell_type": "code",
   "execution_count": 2,
   "metadata": {},
   "outputs": [],
   "source": [
    "Navajo_nation = Arizona_TBG[Arizona_TBG[\"AIANNHCE\"] == \"2430\"]\n"
   ]
  },
  {
   "cell_type": "code",
   "execution_count": 4,
   "metadata": {},
   "outputs": [],
   "source": [
    "import geopandas as gpd\n"
   ]
  },
  {
   "cell_type": "code",
   "execution_count": 5,
   "metadata": {},
   "outputs": [
    {
     "ename": "DriverError",
     "evalue": "/Users/alexandernez/Desktop/Github/Epymorph_vignettes/scratch/Shleby/Navajo_Nation_Chapters__Agencies__and_Chapter_Acres/Navajo_Nation_2013.shp: No such file or directory",
     "output_type": "error",
     "traceback": [
      "\u001b[0;31m---------------------------------------------------------------------------\u001b[0m",
      "\u001b[0;31mCPLE_OpenFailedError\u001b[0m                      Traceback (most recent call last)",
      "File \u001b[0;32mfiona/ogrext.pyx:136\u001b[0m, in \u001b[0;36mfiona.ogrext.gdal_open_vector\u001b[0;34m()\u001b[0m\n",
      "File \u001b[0;32mfiona/_err.pyx:291\u001b[0m, in \u001b[0;36mfiona._err.exc_wrap_pointer\u001b[0;34m()\u001b[0m\n",
      "\u001b[0;31mCPLE_OpenFailedError\u001b[0m: /Users/alexandernez/Desktop/Github/Epymorph_vignettes/scratch/Shleby/Navajo_Nation_Chapters__Agencies__and_Chapter_Acres/Navajo_Nation_2013.shp: No such file or directory",
      "\nDuring handling of the above exception, another exception occurred:\n",
      "\u001b[0;31mDriverError\u001b[0m                               Traceback (most recent call last)",
      "Cell \u001b[0;32mIn[5], line 2\u001b[0m\n\u001b[1;32m      1\u001b[0m NN_PATH \u001b[39m=\u001b[39m \u001b[39m'\u001b[39m\u001b[39m/Users/alexandernez/Desktop/Github/Epymorph_vignettes/scratch/Shleby/Navajo_Nation_Chapters__Agencies__and_Chapter_Acres/Navajo_Nation_2013.shp\u001b[39m\u001b[39m'\u001b[39m\n\u001b[0;32m----> 2\u001b[0m NN_gdf \u001b[39m=\u001b[39m gpd\u001b[39m.\u001b[39;49mread_file(NN_PATH)\n\u001b[1;32m      3\u001b[0m NN_gdf\n",
      "File \u001b[0;32m~/Desktop/Github/Epymorph_vignettes/.venv/lib/python3.11/site-packages/geopandas/io/file.py:289\u001b[0m, in \u001b[0;36m_read_file\u001b[0;34m(filename, bbox, mask, rows, engine, **kwargs)\u001b[0m\n\u001b[1;32m    286\u001b[0m     \u001b[39melse\u001b[39;00m:\n\u001b[1;32m    287\u001b[0m         path_or_bytes \u001b[39m=\u001b[39m filename\n\u001b[0;32m--> 289\u001b[0m     \u001b[39mreturn\u001b[39;00m _read_file_fiona(\n\u001b[1;32m    290\u001b[0m         path_or_bytes, from_bytes, bbox\u001b[39m=\u001b[39;49mbbox, mask\u001b[39m=\u001b[39;49mmask, rows\u001b[39m=\u001b[39;49mrows, \u001b[39m*\u001b[39;49m\u001b[39m*\u001b[39;49mkwargs\n\u001b[1;32m    291\u001b[0m     )\n\u001b[1;32m    293\u001b[0m \u001b[39melse\u001b[39;00m:\n\u001b[1;32m    294\u001b[0m     \u001b[39mraise\u001b[39;00m \u001b[39mValueError\u001b[39;00m(\u001b[39mf\u001b[39m\u001b[39m\"\u001b[39m\u001b[39munknown engine \u001b[39m\u001b[39m'\u001b[39m\u001b[39m{\u001b[39;00mengine\u001b[39m}\u001b[39;00m\u001b[39m'\u001b[39m\u001b[39m\"\u001b[39m)\n",
      "File \u001b[0;32m~/Desktop/Github/Epymorph_vignettes/.venv/lib/python3.11/site-packages/geopandas/io/file.py:315\u001b[0m, in \u001b[0;36m_read_file_fiona\u001b[0;34m(path_or_bytes, from_bytes, bbox, mask, rows, where, **kwargs)\u001b[0m\n\u001b[1;32m    312\u001b[0m     reader \u001b[39m=\u001b[39m fiona\u001b[39m.\u001b[39mopen\n\u001b[1;32m    314\u001b[0m \u001b[39mwith\u001b[39;00m fiona_env():\n\u001b[0;32m--> 315\u001b[0m     \u001b[39mwith\u001b[39;00m reader(path_or_bytes, \u001b[39m*\u001b[39;49m\u001b[39m*\u001b[39;49mkwargs) \u001b[39mas\u001b[39;00m features:\n\u001b[1;32m    316\u001b[0m         crs \u001b[39m=\u001b[39m features\u001b[39m.\u001b[39mcrs_wkt\n\u001b[1;32m    317\u001b[0m         \u001b[39m# attempt to get EPSG code\u001b[39;00m\n",
      "File \u001b[0;32m~/Desktop/Github/Epymorph_vignettes/.venv/lib/python3.11/site-packages/fiona/env.py:457\u001b[0m, in \u001b[0;36mensure_env_with_credentials.<locals>.wrapper\u001b[0;34m(*args, **kwds)\u001b[0m\n\u001b[1;32m    454\u001b[0m     session \u001b[39m=\u001b[39m DummySession()\n\u001b[1;32m    456\u001b[0m \u001b[39mwith\u001b[39;00m env_ctor(session\u001b[39m=\u001b[39msession):\n\u001b[0;32m--> 457\u001b[0m     \u001b[39mreturn\u001b[39;00m f(\u001b[39m*\u001b[39;49margs, \u001b[39m*\u001b[39;49m\u001b[39m*\u001b[39;49mkwds)\n",
      "File \u001b[0;32m~/Desktop/Github/Epymorph_vignettes/.venv/lib/python3.11/site-packages/fiona/__init__.py:292\u001b[0m, in \u001b[0;36mopen\u001b[0;34m(fp, mode, driver, schema, crs, encoding, layer, vfs, enabled_drivers, crs_wkt, allow_unsupported_drivers, **kwargs)\u001b[0m\n\u001b[1;32m    289\u001b[0m     path \u001b[39m=\u001b[39m parse_path(fp)\n\u001b[1;32m    291\u001b[0m \u001b[39mif\u001b[39;00m mode \u001b[39min\u001b[39;00m (\u001b[39m\"\u001b[39m\u001b[39ma\u001b[39m\u001b[39m\"\u001b[39m, \u001b[39m\"\u001b[39m\u001b[39mr\u001b[39m\u001b[39m\"\u001b[39m):\n\u001b[0;32m--> 292\u001b[0m     colxn \u001b[39m=\u001b[39m Collection(\n\u001b[1;32m    293\u001b[0m         path,\n\u001b[1;32m    294\u001b[0m         mode,\n\u001b[1;32m    295\u001b[0m         driver\u001b[39m=\u001b[39;49mdriver,\n\u001b[1;32m    296\u001b[0m         encoding\u001b[39m=\u001b[39;49mencoding,\n\u001b[1;32m    297\u001b[0m         layer\u001b[39m=\u001b[39;49mlayer,\n\u001b[1;32m    298\u001b[0m         enabled_drivers\u001b[39m=\u001b[39;49menabled_drivers,\n\u001b[1;32m    299\u001b[0m         allow_unsupported_drivers\u001b[39m=\u001b[39;49mallow_unsupported_drivers,\n\u001b[1;32m    300\u001b[0m         \u001b[39m*\u001b[39;49m\u001b[39m*\u001b[39;49mkwargs\n\u001b[1;32m    301\u001b[0m     )\n\u001b[1;32m    302\u001b[0m \u001b[39melif\u001b[39;00m mode \u001b[39m==\u001b[39m \u001b[39m\"\u001b[39m\u001b[39mw\u001b[39m\u001b[39m\"\u001b[39m:\n\u001b[1;32m    303\u001b[0m     colxn \u001b[39m=\u001b[39m Collection(\n\u001b[1;32m    304\u001b[0m         path,\n\u001b[1;32m    305\u001b[0m         mode,\n\u001b[0;32m   (...)\u001b[0m\n\u001b[1;32m    314\u001b[0m         \u001b[39m*\u001b[39m\u001b[39m*\u001b[39mkwargs\n\u001b[1;32m    315\u001b[0m     )\n",
      "File \u001b[0;32m~/Desktop/Github/Epymorph_vignettes/.venv/lib/python3.11/site-packages/fiona/collection.py:243\u001b[0m, in \u001b[0;36mCollection.__init__\u001b[0;34m(self, path, mode, driver, schema, crs, encoding, layer, vsi, archive, enabled_drivers, crs_wkt, ignore_fields, ignore_geometry, include_fields, wkt_version, allow_unsupported_drivers, **kwargs)\u001b[0m\n\u001b[1;32m    241\u001b[0m \u001b[39mif\u001b[39;00m \u001b[39mself\u001b[39m\u001b[39m.\u001b[39mmode \u001b[39m==\u001b[39m \u001b[39m\"\u001b[39m\u001b[39mr\u001b[39m\u001b[39m\"\u001b[39m:\n\u001b[1;32m    242\u001b[0m     \u001b[39mself\u001b[39m\u001b[39m.\u001b[39msession \u001b[39m=\u001b[39m Session()\n\u001b[0;32m--> 243\u001b[0m     \u001b[39mself\u001b[39;49m\u001b[39m.\u001b[39;49msession\u001b[39m.\u001b[39;49mstart(\u001b[39mself\u001b[39;49m, \u001b[39m*\u001b[39;49m\u001b[39m*\u001b[39;49mkwargs)\n\u001b[1;32m    244\u001b[0m \u001b[39melif\u001b[39;00m \u001b[39mself\u001b[39m\u001b[39m.\u001b[39mmode \u001b[39min\u001b[39;00m (\u001b[39m\"\u001b[39m\u001b[39ma\u001b[39m\u001b[39m\"\u001b[39m, \u001b[39m\"\u001b[39m\u001b[39mw\u001b[39m\u001b[39m\"\u001b[39m):\n\u001b[1;32m    245\u001b[0m     \u001b[39mself\u001b[39m\u001b[39m.\u001b[39msession \u001b[39m=\u001b[39m WritingSession()\n",
      "File \u001b[0;32mfiona/ogrext.pyx:588\u001b[0m, in \u001b[0;36mfiona.ogrext.Session.start\u001b[0;34m()\u001b[0m\n",
      "File \u001b[0;32mfiona/ogrext.pyx:143\u001b[0m, in \u001b[0;36mfiona.ogrext.gdal_open_vector\u001b[0;34m()\u001b[0m\n",
      "\u001b[0;31mDriverError\u001b[0m: /Users/alexandernez/Desktop/Github/Epymorph_vignettes/scratch/Shleby/Navajo_Nation_Chapters__Agencies__and_Chapter_Acres/Navajo_Nation_2013.shp: No such file or directory"
     ]
    }
   ],
   "source": [
    "NN_PATH = \"/Users/alexandernez/Desktop/Github/Epymorph_vignettes/scratch/Shleby/Navajo_Nation_Chapters__Agencies__and_Chapter_Acres/Navajo_Nation_2013.shp\"\n",
    "NN_gdf = gpd.read_file(NN_PATH)\n",
    "NN_gdf"
   ]
  },
  {
   "cell_type": "code",
   "execution_count": null,
   "metadata": {},
   "outputs": [],
   "source": [
    "difference = gpd.overlay(NN_gdf, Navajo_nation, how=\"difference\")\n",
    "NN_gdf.dissolve(\"Agency\")"
   ]
  },
  {
   "cell_type": "code",
   "execution_count": null,
   "metadata": {},
   "outputs": [],
   "source": [
    "fig, ax = plt.subplots(figsize=(10, 10), dpi=300)\n",
    "NN_gdf.plot(\n",
    "    ax=ax,\n",
    "    edgecolor=\"black\",\n",
    "    color=\"None\",\n",
    "    linewidth=0.2,\n",
    ")\n",
    "Navajo_nation.plot(ax=ax, edgecolor=\"blue\", color=\"grey\", linewidth=0.5, alpha=0.6)\n",
    "\n",
    "plt.axis(\"off\")\n",
    "plt.show()"
   ]
  },
  {
   "cell_type": "code",
   "execution_count": null,
   "metadata": {},
   "outputs": [],
   "source": [
    "fig = plt.figure(figsize=(10, 8), dpi=300)\n",
    "gs = gridspec.GridSpec(2, 2, figure=fig)\n",
    "\n",
    "ax1 = fig.add_subplot(gs[0, :])\n",
    "ax2 = fig.add_subplot(gs[1, 0])\n",
    "ax3 = fig.add_subplot(gs[1, 1])\n",
    "\n",
    "difference.plot(ax=ax1, color=\"blue\", edgecolor=\"black\", linewidth=0.1)\n",
    "ax1.set_title(\"Difference\")\n",
    "ax1.axis(\"off\")\n",
    "Navajo_nation.plot(ax=ax2, color=\"red\", edgecolor=\"black\", linewidth=0.1)\n",
    "ax2.set_title(\"Pygris CBG\")\n",
    "ax2.axis(\"off\")\n",
    "\n",
    "NN_gdf.plot(ax=ax3, color=\"green\", edgecolor=\"black\", linewidth=0.1)\n",
    "ax3.set_title(\"Navajo Nation: Chapters\")\n",
    "ax3.axis(\"off\")\n",
    "\n",
    "plt.tight_layout()\n",
    "plt.show()"
   ]
  },
  {
   "cell_type": "code",
   "execution_count": null,
   "metadata": {},
   "outputs": [],
   "source": [
    "####################### Loading Data from Pygris ##########################\n",
    "from pygris import tribal_block_groups\n",
    "\n",
    "Arizona_TBG = tribal_block_groups(\n",
    "    year=2015,\n",
    ")\n",
    "Navajo_nation = Arizona_TBG[Arizona_TBG[\"AIANNHCE\"] == \"2430\"]\n",
    "\n",
    "#################### Loading Data from ArcGIS ############################\n",
    "NN_PATH = \"/Users/alexandernez/Desktop/Github/Epymorph_vignettes/scratch/Shleby/Navajo_Nation_Chapters__Agencies__and_Chapter_Acres/Navajo_Nation_2013.shp\"\n",
    "NN_gdf = gpd.read_file(NN_PATH)\n",
    "\n",
    "##################### Settiong smae projection #########################\n",
    "Navajo_nation = Navajo_nation.to_crs(\"EPSG:4326\")\n",
    "NN_gdf = NN_gdf.to_crs(\"EPSG:4326\")\n",
    "\n",
    "######################## Differences ##################################\n",
    "difference = gpd.overlay(NN_gdf, Navajo_nation, how=\"difference\")\n",
    "\n",
    "######################## Maps ########################################\n",
    "fig = plt.figure(figsize=(10, 8), dpi=300)\n",
    "gs = gridspec.GridSpec(2, 2, figure=fig)\n",
    "\n",
    "ax1 = fig.add_subplot(gs[0, :])\n",
    "ax2 = fig.add_subplot(gs[1, 0])\n",
    "ax3 = fig.add_subplot(gs[1, 1])\n",
    "\n",
    "difference.plot(ax=ax1, color=\"blue\", edgecolor=\"black\", linewidth=0.1)\n",
    "ax1.set_title(\"Difference\")\n",
    "ax1.axis(\"off\")\n",
    "Navajo_nation.plot(ax=ax2, color=\"red\", edgecolor=\"black\", linewidth=0.1)\n",
    "ax2.set_title(\"Pygris CBG\")\n",
    "ax2.axis(\"off\")\n",
    "\n",
    "NN_gdf.plot(ax=ax3, color=\"green\", edgecolor=\"black\", linewidth=0.1)\n",
    "ax3.set_title(\"Navajo Nation: Chapters\")\n",
    "ax3.axis(\"off\")\n",
    "\n",
    "plt.tight_layout()\n",
    "plt.show()\n",
    "########################### another map ###########################\n",
    "fig, ax = plt.subplots(figsize=(10, 10), dpi=300)\n",
    "NN_gdf.plot(\n",
    "    ax=ax,\n",
    "    edgecolor=\"black\",\n",
    "    color=\"None\",\n",
    "    linewidth=0.2,\n",
    ")\n",
    "Navajo_nation.plot(ax=ax, edgecolor=\"blue\", color=\"grey\", linewidth=0.5, alpha=0.6)\n",
    "\n",
    "plt.axis(\"off\")\n",
    "plt.show()"
   ]
  }
 ],
 "metadata": {
  "kernelspec": {
   "display_name": ".venv",
   "language": "python",
   "name": "python3"
  },
  "language_info": {
   "codemirror_mode": {
    "name": "ipython",
    "version": 3
   },
   "file_extension": ".py",
   "mimetype": "text/x-python",
   "name": "python",
   "nbconvert_exporter": "python",
   "pygments_lexer": "ipython3",
   "version": "3.11.7"
  },
  "orig_nbformat": 4
 },
 "nbformat": 4,
 "nbformat_minor": 2
}
