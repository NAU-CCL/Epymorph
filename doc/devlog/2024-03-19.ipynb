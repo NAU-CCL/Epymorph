{
 "cells": [
  {
   "cell_type": "markdown",
   "metadata": {},
   "source": [
    "# devlog 2024-03-19\n",
    "\n",
    "Canonicalization of the code to create the `us_sw_counties_2015.geo` spec."
   ]
  },
  {
   "cell_type": "code",
   "execution_count": 1,
   "metadata": {},
   "outputs": [],
   "source": [
    "import numpy as np\n",
    "\n",
    "from epymorph.data_shape import Shapes\n",
    "from epymorph.geo.adrio.census.adrio_census import CensusGeography, Granularity\n",
    "from epymorph.geo.spec import AttribDef, CentroidDType, DynamicGeoSpec, Year\n",
    "\n",
    "spec = DynamicGeoSpec(\n",
    "    attributes=[\n",
    "        AttribDef('label', dtype=np.str_, shape=Shapes.N),\n",
    "        AttribDef('population', dtype=np.int64, shape=Shapes.N),\n",
    "        AttribDef('population_by_age', dtype=np.int64, shape=Shapes.NxA(3)),\n",
    "        AttribDef('centroid', dtype=CentroidDType, shape=Shapes.N),\n",
    "        AttribDef('geoid', dtype=np.str_, shape=Shapes.N),\n",
    "        AttribDef('dissimilarity_index', dtype=np.float64, shape=Shapes.N),\n",
    "        AttribDef('median_income', dtype=np.int64, shape=Shapes.N),\n",
    "        AttribDef('pop_density_km2', dtype=np.float64, shape=Shapes.N),\n",
    "        AttribDef('commuters', dtype=np.int64, shape=Shapes.NxN),\n",
    "    ],\n",
    "    time_period=Year(2015),\n",
    "    geography=CensusGeography(granularity=Granularity.COUNTY, filter={\n",
    "        'state': ['04', '08', '49', '35', '32'],\n",
    "        'county': ['*'],\n",
    "        'tract': ['*'],\n",
    "        'block group': ['*']\n",
    "    }),\n",
    "    source={\n",
    "        'label': 'Census:name',\n",
    "        'population': 'Census',\n",
    "        'population_by_age': 'Census',\n",
    "        'centroid': 'Census',\n",
    "        'geoid': 'Census',\n",
    "        'dissimilarity_index': 'Census',\n",
    "        'median_income': 'Census',\n",
    "        'pop_density_km2': 'Census',\n",
    "        'commuters': 'Census',\n",
    "    }\n",
    ")\n",
    "\n",
    "with open('./epymorph/data/geo/us_sw_counties_2015.geo', mode='w', encoding='utf-8') as f:\n",
    "    json = spec.serialize()\n",
    "    f.write(json)"
   ]
  }
 ],
 "metadata": {
  "kernelspec": {
   "display_name": ".venv",
   "language": "python",
   "name": "python3"
  },
  "language_info": {
   "codemirror_mode": {
    "name": "ipython",
    "version": 3
   },
   "file_extension": ".py",
   "mimetype": "text/x-python",
   "name": "python",
   "nbconvert_exporter": "python",
   "pygments_lexer": "ipython3",
   "version": "3.11.9"
  }
 },
 "nbformat": 4,
 "nbformat_minor": 2
}
