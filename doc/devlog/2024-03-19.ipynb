{
 "cells": [
  {
   "cell_type": "markdown",
   "metadata": {},
   "source": [
    "# devlog 2024-03-19\n",
    "\n",
    "Canonicalization of the code to create the `us_sw_counties_2015.geo` spec."
   ]
  },
  {
   "cell_type": "code",
   "execution_count": 1,
   "metadata": {},
   "outputs": [],
   "source": [
    "from epymorph.data_shape import Shapes\n",
    "from epymorph.data_type import CentroidDType\n",
    "from epymorph.geo.adrio.census.adrio_census import CensusGeography, Granularity\n",
    "from epymorph.geo.spec import DynamicGeoSpec, Year, attrib\n",
    "\n",
    "spec = DynamicGeoSpec(\n",
    "    attributes=[\n",
    "        attrib('label', dtype=str, shape=Shapes.N),\n",
    "        attrib('population', dtype=int, shape=Shapes.N),\n",
    "        attrib('population_by_age', dtype=int, shape=Shapes.NxA(3)),\n",
    "        attrib('centroid', dtype=CentroidDType, shape=Shapes.N),\n",
    "        attrib('geoid', dtype=str, shape=Shapes.N),\n",
    "        attrib('dissimilarity_index', dtype=float, shape=Shapes.N),\n",
    "        attrib('median_income', dtype=int, shape=Shapes.N),\n",
    "        attrib('pop_density_km2', dtype=float, shape=Shapes.N),\n",
    "        attrib('commuters', dtype=int, shape=Shapes.NxN),\n",
    "    ],\n",
    "    time_period=Year(2015),\n",
    "    geography=CensusGeography(granularity=Granularity.COUNTY, filter={\n",
    "        'state': ['04', '08', '49', '35', '32'],\n",
    "        'county': ['*'],\n",
    "        'tract': ['*'],\n",
    "        'block group': ['*']\n",
    "    }),\n",
    "    source={\n",
    "        'label': 'Census:name',\n",
    "        'population': 'Census',\n",
    "        'population_by_age': 'Census',\n",
    "        'centroid': 'Census',\n",
    "        'geoid': 'Census',\n",
    "        'dissimilarity_index': 'Census',\n",
    "        'median_income': 'Census',\n",
    "        'pop_density_km2': 'Census',\n",
    "        'commuters': 'Census',\n",
    "    }\n",
    ")\n",
    "\n",
    "with open('./epymorph/data/geo/us_sw_counties_2015.geo', mode='w', encoding='utf-8') as f:\n",
    "    json = spec.serialize()\n",
    "    f.write(json)"
   ]
  }
 ],
 "metadata": {
  "kernelspec": {
   "display_name": ".venv",
   "language": "python",
   "name": "python3"
  },
  "language_info": {
   "codemirror_mode": {
    "name": "ipython",
    "version": 3
   },
   "file_extension": ".py",
   "mimetype": "text/x-python",
   "name": "python",
   "nbconvert_exporter": "python",
   "pygments_lexer": "ipython3",
   "version": "3.11.9"
  }
 },
 "nbformat": 4,
 "nbformat_minor": 2
}
