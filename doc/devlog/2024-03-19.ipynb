{
 "cells": [
  {
   "cell_type": "markdown",
   "metadata": {},
   "source": [
    "# devlog 2024-03-19\n",
    "\n",
    "Canonicalization of the code to create the `us_sw_counties_2015.geo` spec."
   ]
  },
  {
   "cell_type": "code",
   "execution_count": 1,
   "metadata": {},
   "outputs": [],
   "source": [
    "from epymorph.data_shape import Shapes\n",
    "from epymorph.data_type import CentroidType\n",
    "from epymorph.geo.spec import DynamicGeoSpec, Year\n",
    "from epymorph.geography.us_census import CountyScope\n",
    "from epymorph.simulation import AttributeDef\n",
    "\n",
    "spec = DynamicGeoSpec(\n",
    "    attributes=[\n",
    "        AttributeDef('label', type=str, shape=Shapes.N),\n",
    "        AttributeDef('population', type=int, shape=Shapes.N),\n",
    "        # AttributeDef('population_by_age', dtype=int, shape=Shapes.NxA(3)),\n",
    "        AttributeDef('centroid', type=CentroidType, shape=Shapes.N),\n",
    "        AttributeDef('geoid', type=str, shape=Shapes.N),\n",
    "        AttributeDef('dissimilarity_index', type=float, shape=Shapes.N),\n",
    "        AttributeDef('median_income', type=int, shape=Shapes.N),\n",
    "        AttributeDef('pop_density_km2', type=float, shape=Shapes.N),\n",
    "        AttributeDef('commuters', type=int, shape=Shapes.NxN),\n",
    "    ],\n",
    "    time_period=Year(2015),\n",
    "    scope=CountyScope.in_states(['04', '08', '49', '35', '32'], 2010),\n",
    "    source={\n",
    "        'label': 'Census:name',\n",
    "        'population': 'Census',\n",
    "        # 'population_by_age': 'Census',\n",
    "        'centroid': 'Census',\n",
    "        'geoid': 'Census',\n",
    "        'dissimilarity_index': 'Census',\n",
    "        'median_income': 'Census',\n",
    "        'pop_density_km2': 'Census',\n",
    "        'commuters': 'Census',\n",
    "    }\n",
    ")\n",
    "\n",
    "with open('./epymorph/data/geo/us_sw_counties_2015.geo', mode='w', encoding='utf-8') as f:\n",
    "    json = spec.serialize()\n",
    "    f.write(json)"
   ]
  },
  {
   "cell_type": "code",
   "execution_count": 2,
   "metadata": {},
   "outputs": [],
   "source": [
    "# Test that we can load this geo back successfully...\n",
    "\n",
    "from typing import cast\n",
    "\n",
    "from epymorph import geo_library\n",
    "from epymorph.error import GeoValidationException\n",
    "from epymorph.geo.dynamic import DynamicGeo\n",
    "\n",
    "try:\n",
    "    geo = cast(DynamicGeo, geo_library['us_sw_counties_2015']())\n",
    "    geo.validate()\n",
    "except GeoValidationException as e:\n",
    "    print(e.pretty())"
   ]
  }
 ],
 "metadata": {
  "kernelspec": {
   "display_name": ".venv",
   "language": "python",
   "name": "python3"
  },
  "language_info": {
   "codemirror_mode": {
    "name": "ipython",
    "version": 3
   },
   "file_extension": ".py",
   "mimetype": "text/x-python",
   "name": "python",
   "nbconvert_exporter": "python",
   "pygments_lexer": "ipython3",
   "version": "3.11.9"
  }
 },
 "nbformat": 4,
 "nbformat_minor": 2
}
