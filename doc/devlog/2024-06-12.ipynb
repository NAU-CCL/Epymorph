{
 "cells": [
  {
   "cell_type": "markdown",
   "metadata": {},
   "source": [
    "# devlog 2024-06-12\n",
    "\n",
    "_author: Trevor Johnson_\n",
    "\n",
    "We have a new class of ADRIO capable of loading in data from CSV files with shapes N, TxN, and NxN. CSV files used must have a column (or two in the NxN case) to identify geographic location and a column containing the relevant data. A time column in YYYY-MM-DD format must also be included if loading in time-series data. Available formats for geographic identifiers are state_abbrev (AZ), county_state, (Maricopa County, Arizona), and geoid (04013).\n",
    "\n",
    "The following notebook runs through one example of each supported data shape and label type using locally stored CSV files."
   ]
  },
  {
   "cell_type": "code",
   "execution_count": 1,
   "metadata": {},
   "outputs": [],
   "source": [
    "from pathlib import Path\n",
    "\n",
    "from epymorph.data_shape import Shapes\n",
    "from epymorph.geo.adrio.file.adrio_file import FileSpec, FileSpecTime, FileSpecMatrix\n",
    "from epymorph.geo.spec import DynamicGeoSpec, Year\n",
    "from epymorph.geography.us_census import StateScope, CountyScope\n",
    "from epymorph.simulation import geo_attrib\n",
    "\n",
    "spec = DynamicGeoSpec(\n",
    "    attributes=[\n",
    "        geo_attrib('label', str, Shapes.N),\n",
    "        geo_attrib('population', int, Shapes.N),\n",
    "    ],\n",
    "    time_period=Year(2020),\n",
    "    scope=StateScope.in_states(['12', '13', '24', '37', '45', '51']),\n",
    "    source={\n",
    "        'label': \"Census:name\",\n",
    "        'population': FileSpec(file_path=Path(\"./epymorph/data/geo/csv/pei_population.csv\"),\n",
    "                               key_col=0, data_col=1, key_type=\"state_abbrev\", skiprows=None),\n",
    "    }\n",
    ")"
   ]
  },
  {
   "cell_type": "code",
   "execution_count": 2,
   "metadata": {},
   "outputs": [],
   "source": [
    "from epymorph.geo.adrio import adrio_maker_library\n",
    "from epymorph.geo.dynamic import DynamicGeo\n",
    "\n",
    "geo = DynamicGeo.from_library(spec, adrio_maker_library)\n",
    "\n",
    "geo.validate()"
   ]
  },
  {
   "cell_type": "code",
   "execution_count": 3,
   "metadata": {},
   "outputs": [],
   "source": [
    "spec = DynamicGeoSpec(\n",
    "    attributes=[\n",
    "        geo_attrib('label', str, Shapes.N),\n",
    "        geo_attrib('population', int, Shapes.N),\n",
    "        geo_attrib('population_0-19', int, Shapes.N),\n",
    "        geo_attrib('population_20-64', int, Shapes.N),\n",
    "        geo_attrib('population_65+', int, Shapes.N),\n",
    "    ],\n",
    "    time_period=Year(2015),\n",
    "    scope=CountyScope.in_states(['04', '08', '49', '35', '32']),\n",
    "    source={\n",
    "        'label': 'Census:name',\n",
    "        'population': 'Census',\n",
    "        'population_0-19': FileSpecTime(file_path=Path(\"./epymorph/data/geo/csv/us_sw_counties_population.csv\"),\n",
    "                                        time_col=0, key_col=1, data_col=2, key_type=\"county_state\", skiprows=1),\n",
    "        'population_20-64': FileSpecTime(file_path=Path(\"./epymorph/data/geo/csv/us_sw_counties_population.csv\"),\n",
    "                                         time_col=0, key_col=1, data_col=3, key_type=\"county_state\", skiprows=1),\n",
    "        'population_65+': FileSpecTime(file_path=Path(\"./epymorph/data/geo/csv/us_sw_counties_population.csv\"),\n",
    "                                       time_col=0, key_col=1, data_col=4, key_type=\"county_state\", skiprows=1),\n",
    "    }\n",
    ")"
   ]
  },
  {
   "cell_type": "code",
   "execution_count": 4,
   "metadata": {},
   "outputs": [],
   "source": [
    "geo = DynamicGeo.from_library(spec, adrio_maker_library)\n",
    "\n",
    "geo.validate()"
   ]
  },
  {
   "cell_type": "code",
   "execution_count": 5,
   "metadata": {},
   "outputs": [],
   "source": [
    "spec = DynamicGeoSpec(\n",
    "    attributes=[\n",
    "        geo_attrib('label', str, Shapes.N),\n",
    "        geo_attrib('population', int, Shapes.N),\n",
    "        geo_attrib('commuters', int, Shapes.NxN)\n",
    "    ],\n",
    "    time_period=Year(2015),\n",
    "    scope=CountyScope.in_counties(['35001', '04013', '04017']),\n",
    "    source={\n",
    "        'label': 'Census:name',\n",
    "        'population': 'Census',\n",
    "        'commuters': FileSpecMatrix(file_path=Path(\"./epymorph/data/geo/csv/counties_commuters.csv\"),\n",
    "                                    from_key_col=0, to_key_col=1, data_col=2, key_type=\"geoid\", skiprows=1)\n",
    "    }\n",
    ")"
   ]
  },
  {
   "cell_type": "code",
   "execution_count": 6,
   "metadata": {},
   "outputs": [],
   "source": [
    "geo = DynamicGeo.from_library(spec, adrio_maker_library)\n",
    "\n",
    "geo.validate()"
   ]
  }
 ],
 "metadata": {
  "kernelspec": {
   "display_name": ".venv",
   "language": "python",
   "name": "python3"
  },
  "language_info": {
   "codemirror_mode": {
    "name": "ipython",
    "version": 3
   },
   "file_extension": ".py",
   "mimetype": "text/x-python",
   "name": "python",
   "nbconvert_exporter": "python",
   "pygments_lexer": "ipython3",
   "version": "3.11.9"
  }
 },
 "nbformat": 4,
 "nbformat_minor": 2
}
