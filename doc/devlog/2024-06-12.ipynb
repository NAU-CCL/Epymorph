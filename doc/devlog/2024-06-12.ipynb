{
 "cells": [
  {
   "cell_type": "markdown",
   "metadata": {},
   "source": [
    "# devlog 2024-06-12\n",
    "\n",
    "_author: Trevor Johnson_\n",
    "\n",
    "We have a new class of ADRIO capable of loading in data from CSV files with shapes N, TxN, and NxN. CSV files used must have a column (or two in the NxN case) to identify geographic location and a column containing the relevant data. A time column in YYYY-MM-DD format must also be included if loading in time-series data. Available formats for geographic identifiers are state_abbrev (AZ), county_state, (Maricopa, Arizona), and geoid (04013).\n",
    "\n",
    "The following notebook creates a series of incorrectly sorted CSV files with various data formats and geographic identifiers, then creates CSV ADRIOs to load the data into NDArrays. Census ADRIOs are also created that fetch identical data and are used as a source of truth as to whether the CSV ADRIOs fetched, filtered, and sorted their data correctly."
   ]
  },
  {
   "cell_type": "code",
   "execution_count": 1,
   "metadata": {},
   "outputs": [
    {
     "name": "stdout",
     "output_type": "stream",
     "text": [
      "Evaluating Population ADRIO...\n",
      "Completed Population ADRIO (1.729s).\n"
     ]
    }
   ],
   "source": [
    "from datetime import date, datetime\n",
    "from pathlib import Path\n",
    "from unittest.mock import Mock\n",
    "\n",
    "import numpy as np\n",
    "from pandas import DataFrame, read_csv\n",
    "\n",
    "from epymorph import *\n",
    "from epymorph.data_shape import SimDimensions\n",
    "from epymorph.geo.adrio import acs5, us_tiger\n",
    "from epymorph.geo.adrio.commuting_flows import Commuters\n",
    "from epymorph.geo.adrio.csv import CSV, CSVMatrix, CSVTimeSeries\n",
    "from epymorph.geo.spec import Year\n",
    "from epymorph.geography.us_census import (STATE, CountyScope, StateScope,\n",
    "                                          get_us_counties, get_us_states)\n",
    "from epymorph.simulation import NamespacedAttributeResolver\n",
    "from epymorph.simulator.data import evaluate_param\n",
    "\n",
    "# create and store 'pei_population.csv'\n",
    "states_list = ['AZ', 'FL', 'GA', 'MD', 'NY', 'NC', 'SC', 'VA']\n",
    "scope = StateScope.in_states_by_code(states_list, 2015)\n",
    "data = Mock(spec=NamespacedAttributeResolver)\n",
    "dim = Mock(spec=SimDimensions)\n",
    "rng = Mock(spec=np.random.Generator)\n",
    "adrio = acs5.Population()\n",
    "result = adrio.evaluate_in_context(data, dim, scope, rng)\n",
    "\n",
    "df = DataFrame({'label': states_list, 'population': result})\n",
    "df.sort_values(by='population', inplace=True)\n",
    "df.to_csv(\"./scratch/pei_population.csv\", header=False, index=False)"
   ]
  },
  {
   "cell_type": "code",
   "execution_count": 2,
   "metadata": {},
   "outputs": [
    {
     "name": "stdout",
     "output_type": "stream",
     "text": [
      "Evaluating CSV ADRIO...\n",
      "Completed CSV ADRIO (0.006s).\n",
      "Evaluating Population ADRIO...\n",
      "Completed Population ADRIO (0.594s).\n"
     ]
    }
   ],
   "source": [
    "scope = StateScope.in_states(['12', '13', '24', '37', '45', '51'], 2015)\n",
    "csv_adrio = CSV(file_path=Path(\"./scratch/pei_population.csv\"), key_col=0,\n",
    "                data_col=1, data_type=int, key_type=\"state_abbrev\", skiprows=None)\n",
    "census_adrio = acs5.Population()\n",
    "\n",
    "csv_result = csv_adrio.evaluate_in_context(data, dim, scope, rng)\n",
    "census_result = census_adrio.evaluate_in_context(data, dim, scope, rng)"
   ]
  },
  {
   "cell_type": "code",
   "execution_count": 3,
   "metadata": {},
   "outputs": [],
   "source": [
    "# validate geo and ensure both ADRIOs fetched identical data\n",
    "if not np.array_equal(csv_result, census_result):\n",
    "    raise Exception(\"Data not equal.\")"
   ]
  },
  {
   "cell_type": "code",
   "execution_count": 5,
   "metadata": {},
   "outputs": [
    {
     "name": "stdout",
     "output_type": "stream",
     "text": [
      "Evaluating PopulationByAgeTable ADRIO...\n",
      "Completed PopulationByAgeTable ADRIO (2.485s).\n",
      "Evaluating PopulationByAge ADRIO...\n",
      "Completed PopulationByAge ADRIO (0.000s).\n",
      "Evaluating PopulationByAge ADRIO...\n",
      "Completed PopulationByAge ADRIO (0.001s).\n",
      "Evaluating PopulationByAge ADRIO...\n",
      "Completed PopulationByAge ADRIO (0.000s).\n"
     ]
    }
   ],
   "source": [
    "# create and store 'us_sw_counties_population.csv'\n",
    "\n",
    "# get commuters data from asc5\n",
    "states_list = ['04', '08', '49', '35', '32']\n",
    "scope = CountyScope.in_states(states_list, year=2015)\n",
    "rume = Rume.single_strata(\n",
    "    ipm=ipm_library['sirs'](),\n",
    "    mm=mm_library['centroids'](),\n",
    "    init=init.SingleLocation(location=0, seed_size=10_000),\n",
    "    scope=scope,\n",
    "    time_frame=TimeFrame.of(\"2015-01-01\", 300),\n",
    "    params={\n",
    "        'ipm::beta': 0.4,\n",
    "        'ipm::gamma': 1 / 5,\n",
    "        'ipm::xi': 1 / 90,\n",
    "        'mm::phi': 40.0,\n",
    "        'population': acs5.Population(),\n",
    "        'centroid': us_tiger.InternalPoint(),\n",
    "        'population_by_age_table': acs5.PopulationByAgeTable(),\n",
    "        'population_00-19': acs5.PopulationByAge(0, 19),\n",
    "        'population_20-64': acs5.PopulationByAge(20, 64),\n",
    "        'population_65-79': acs5.PopulationByAge(65, 79),\n",
    "        'geo::label': us_tiger.Name(),\n",
    "    }\n",
    ")\n",
    "\n",
    "young = evaluate_param(rume, 'population_00-19')\n",
    "adult = evaluate_param(rume, 'population_20-64')\n",
    "elderly = evaluate_param(rume, 'population_65-79')\n",
    "\n",
    "# get county and state info from shapefiles and convert to dataframes\n",
    "counties_info = get_us_counties(2010)\n",
    "states_info = get_us_states(2010)\n",
    "counties_info_df = DataFrame({\n",
    "    'state_geoid': [STATE.extract(county_id) for county_id in counties_info.geoid],\n",
    "    'geoid': counties_info.geoid,\n",
    "    'name': counties_info.name,\n",
    "})\n",
    "states_info_df = DataFrame({\n",
    "    'state_geoid': states_info.geoid,\n",
    "    'state_name': states_info.name,\n",
    "})\n",
    "\n",
    "# merge dataframes and create \"County, State\" name column\n",
    "merged_df = counties_info_df.merge(states_info_df, on='state_geoid')\n",
    "merged_df['county_name'] = merged_df['name'] + \", \" + merged_df['state_name']\n",
    "merged_df = merged_df.loc[merged_df['state_geoid'].isin(states_list)]\n",
    "\n",
    "# create and merge dataframes to be converted to csvs\n",
    "df = DataFrame({\n",
    "    'Date': [date(2015, 1, 1) for i in merged_df.index],\n",
    "    'County': merged_df['county_name'],\n",
    "    'Young': young,\n",
    "    'Adult': adult,\n",
    "    'Elderly': elderly,\n",
    "})\n",
    "\n",
    "# sort incorrectly and store as csv\n",
    "df.sort_values('Young', inplace=True)\n",
    "df.to_csv(\"./scratch/us_sw_counties_population.csv\", index=False)"
   ]
  },
  {
   "cell_type": "code",
   "execution_count": 6,
   "metadata": {},
   "outputs": [],
   "source": [
    "young_csv = CSV(file_path=Path(\"./scratch/us_sw_counties_population.csv\"),\n",
    "                key_col=1, data_col=2, data_type=int, key_type=\"county_state\", skiprows=1)\n",
    "adult_csv = CSV(file_path=Path(\"./scratch/us_sw_counties_population.csv\"),\n",
    "                key_col=1, data_col=3, data_type=int, key_type=\"county_state\", skiprows=1)\n",
    "elderly_csv = CSV(file_path=Path(\"./scratch/us_sw_counties_population.csv\"),\n",
    "                  key_col=1, data_col=4, data_type=int, key_type=\"county_state\", skiprows=1)"
   ]
  },
  {
   "cell_type": "code",
   "execution_count": 7,
   "metadata": {},
   "outputs": [
    {
     "name": "stdout",
     "output_type": "stream",
     "text": [
      "Evaluating CSV ADRIO...\n",
      "Completed CSV ADRIO (0.027s).\n",
      "Evaluating CSV ADRIO...\n",
      "Completed CSV ADRIO (0.030s).\n",
      "Evaluating CSV ADRIO...\n",
      "Completed CSV ADRIO (0.025s).\n"
     ]
    }
   ],
   "source": [
    "young_csv_result = young_csv.evaluate_in_context(data, dim, scope, rng)\n",
    "adult_csv_result = adult_csv.evaluate_in_context(data, dim, scope, rng)\n",
    "elderly_csv_result = elderly_csv.evaluate_in_context(data, dim, scope, rng)\n",
    "\n",
    "census_df = DataFrame({\n",
    "    'Young': young,\n",
    "    'Adult': adult,\n",
    "    'Elderly': elderly,\n",
    "})\n",
    "\n",
    "if not np.array_equal(young_csv_result, census_df['Young']):\n",
    "    raise Exception(\"Young data not equal.\")\n",
    "if not np.array_equal(adult_csv_result, census_df['Adult']):\n",
    "    raise Exception(\"Adult data not equal.\")\n",
    "if not np.array_equal(elderly_csv_result, census_df['Elderly']):\n",
    "    raise Exception(\"Elderly data not equal.\")"
   ]
  },
  {
   "cell_type": "code",
   "execution_count": 4,
   "metadata": {},
   "outputs": [],
   "source": [
    "# create and store 'vaccination_time_series.csv'\n",
    "fips = \",\".join(f\"'{node}'\" for node in ['08001', '35001', '04013', '04017'])\n",
    "url = f\"https://data.cdc.gov/resource/8xkx-amqh.csv?$select=date,fips,series_complete_yes&$where=fips%20in({fips})&$limit=1962781\"\n",
    "df = read_csv(url, dtype={'fips': str})\n",
    "\n",
    "df['date'] = [datetime.fromisoformat(\n",
    "    week.replace('/', '-')).date() for week in df['date']]\n",
    "\n",
    "df = df[df['date'] >= date(2021, 1, 1)]\n",
    "df = df[df['date'] <= date(2021, 12, 31)]\n",
    "\n",
    "df.to_csv('./scratch/vaccination_time_series.csv', index=False)"
   ]
  },
  {
   "cell_type": "code",
   "execution_count": 5,
   "metadata": {},
   "outputs": [],
   "source": [
    "scope = CountyScope.in_counties(['08001', '04013', '35001'], 2021)\n",
    "csv_adrio = CSVTimeSeries(file_path=Path(\"./scratch/vaccination_time_series.csv\"),\n",
    "                          time_col=0, time_period=Year(2021), key_col=1, data_col=2, data_type=float, key_type=\"geoid\", skiprows=1)"
   ]
  },
  {
   "cell_type": "code",
   "execution_count": 6,
   "metadata": {},
   "outputs": [
    {
     "name": "stdout",
     "output_type": "stream",
     "text": [
      "Evaluating CSVTimeSeries ADRIO...\n",
      "Completed CSVTimeSeries ADRIO (0.012s).\n"
     ]
    },
    {
     "data": {
      "text/plain": [
       "array([[8.200000e+01, 0.000000e+00, 0.000000e+00],\n",
       "       [9.400000e+01, 0.000000e+00, 0.000000e+00],\n",
       "       [1.140000e+02, 0.000000e+00, 0.000000e+00],\n",
       "       ...,\n",
       "       [2.395809e+06, 3.307850e+05, 4.484610e+05],\n",
       "       [2.398973e+06, 3.312020e+05, 4.489280e+05],\n",
       "       [2.402173e+06, 3.316520e+05, 4.495000e+05]])"
      ]
     },
     "metadata": {},
     "output_type": "display_data"
    }
   ],
   "source": [
    "csv_result = csv_adrio.evaluate_in_context(data, dim, scope, rng)\n",
    "display(csv_result)"
   ]
  },
  {
   "cell_type": "code",
   "execution_count": 10,
   "metadata": {},
   "outputs": [],
   "source": [
    "# create and store 'counties_commuters_2020.csv'\n",
    "scope = CountyScope.in_counties(['08001', '35001', '04013', '04017'], 2020)\n",
    "commuters_adrio = Commuters()\n",
    "df = commuters_adrio.evaluate_in_context(data, dim, scope, rng)\n",
    "df['res_geoid'] = df['res_state_code'] + df['res_county_code']\n",
    "df['wrk_geoid'] = df['wrk_state_code'].apply(lambda x: x[1:]) + df['wrk_county_code']\n",
    "\n",
    "df.sort_values(by='workers', inplace=True)\n",
    "\n",
    "df.to_csv('./scratch/counties_commuters_2020.csv',\n",
    "          columns=['res_geoid', 'wrk_geoid', 'workers'], index=False)"
   ]
  },
  {
   "cell_type": "code",
   "execution_count": 11,
   "metadata": {},
   "outputs": [],
   "source": [
    "scope = CountyScope.in_counties(['35001', '04013', '04017'], 2020)\n",
    "csv_adrio = CSVMatrix(file_path=Path(\"./scratch/counties_commuters_2020.csv\"),\n",
    "                      from_key_col=0, to_key_col=1, data_col=2, data_type=int, key_type=\"geoid\", skiprows=1)\n",
    "census_adrio = Commuters()"
   ]
  },
  {
   "cell_type": "code",
   "execution_count": 12,
   "metadata": {},
   "outputs": [],
   "source": [
    "if not np.array_equal(csv_adrio.evaluate_in_context(data, dim, scope, rng), census_adrio.evaluate_in_context(data, dim, scope, rng)):\n",
    "    raise Exception(\"Data not equal.\")"
   ]
  }
 ],
 "metadata": {
  "kernelspec": {
   "display_name": ".venv",
   "language": "python",
   "name": "python3"
  },
  "language_info": {
   "codemirror_mode": {
    "name": "ipython",
    "version": 3
   },
   "file_extension": ".py",
   "mimetype": "text/x-python",
   "name": "python",
   "nbconvert_exporter": "python",
   "pygments_lexer": "ipython3",
   "version": "3.11.9"
  }
 },
 "nbformat": 4,
 "nbformat_minor": 2
}
