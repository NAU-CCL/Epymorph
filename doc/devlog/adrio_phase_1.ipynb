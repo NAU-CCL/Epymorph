{
 "cells": [
  {
   "attachments": {},
   "cell_type": "markdown",
   "metadata": {},
   "source": [
    "### Active Data Resource Interface Objects (ADRIOs) Phase 1\n",
    "\n",
    "The ADRIO system is being developed as a way to simplify the process of assembling GEOs as part of the simulation workflow. ADRIOs are derived from an abstract class and each exists to interface with a specific resource and extract specific data from that resource (doing any necessary filtering and transformation along the way). Future implementations will utilize ADRIO templates for different data sources, but only a generalized outline exists for now. The ADRIOs created in this phase are used to satisfy an example use case. That is:\n",
    "\n",
    "I am a modeler working on a disease with human-to-human transmission and I believe certain social determinants of health are a significant factor in disease outcomes. I want to use EpiMoRPH to model a metapopulation at the county level in the US Southwest region. My existing disease data, that I hope to use for parameter fitting, comes from 2015. I need the following data for each county, filtering to Arizona, New Mexico, Nevada, Utah, and Colorado:\n",
    "\n",
    "- Each county’s name and state.\n",
    "- Geographic centroid.\n",
    "- Population in 2015, total as well as aggregated into age brackets: under 20, 20-to-64, and 65 and older.\n",
    "- Population density.\n",
    "- Median household annual income.\n",
    "- The [Dissimilarity Index](https://www.phenxtoolkit.org/protocols/view/211403) of racial segregation for selected minority groups (currently African Americans) calculated from the census tracts comprising each county.\n",
    "\n",
    "\n",
    "All data for this use case comes from Census tables and/or shape files. As such, a US Census API key is required to download much of it. These ADRIOs are configured to search for a key in an environment variable named \"CENSUS_API_KEY\". Please make sure you have an [API key](https://api.census.gov/data/key_signup.html) and have assigned it to an environment variable with this name if running the code yourself.\n",
    "\n",
    "The following 8 cells demonstrate the execution of each ADRIO. Each will fetch one of the required data fields and return it as a numpy array."
   ]
  },
  {
   "cell_type": "code",
   "execution_count": 3,
   "metadata": {},
   "outputs": [
    {
     "name": "stdout",
     "output_type": "stream",
     "text": [
      "5 items retrieved from cache\n",
      "['Apache County, Arizona' 'Cochise County, Arizona'\n",
      " 'Coconino County, Arizona' 'Gila County, Arizona'\n",
      " 'Graham County, Arizona' 'Greenlee County, Arizona'\n",
      " 'La Paz County, Arizona' 'Maricopa County, Arizona'\n",
      " 'Mohave County, Arizona' 'Navajo County, Arizona']\n"
     ]
    }
   ],
   "source": [
    "from epymorph.adrio.uscounties.name_and_state import NameAndState\n",
    "\n",
    "adrio = NameAndState() # County and state name for all counties\n",
    "\n",
    "data = adrio.fetch(nodes=['04','08','49','35','32'])   # Parameters are US state fips codes of the states relevant to the use case\n",
    "\n",
    "print(data[:10])"
   ]
  },
  {
   "cell_type": "code",
   "execution_count": 5,
   "metadata": {},
   "outputs": [
    {
     "name": "stdout",
     "output_type": "stream",
     "text": [
      "5 items retrieved from cache\n",
      "['04001' '04003' '04005' '04007' '04009' '04011' '04012' '04013' '04015'\n",
      " '04017']\n"
     ]
    }
   ],
   "source": [
    "from epymorph.adrio.uscounties.geoid import GEOID\n",
    "\n",
    "adrio = GEOID() # GEOID for all counties\n",
    "\n",
    "data = adrio.fetch(nodes=['04','08','49','35','32'])\n",
    "\n",
    "print(data[:10])"
   ]
  },
  {
   "cell_type": "code",
   "execution_count": 6,
   "metadata": {},
   "outputs": [
    {
     "name": "stdout",
     "output_type": "stream",
     "text": [
      "5 items retrieved from cache\n",
      "[(-118.33577887439804, 39.58087638098897)\n",
      " (-115.0135616989219, 36.2151981007958)\n",
      " (-119.61637202421979, 38.91224140787554)\n",
      " (-115.35771562105954, 41.145844176906984)\n",
      " (-117.63236603239478, 37.78469655140272)\n",
      " (-116.26855959836149, 39.98389202381407)\n",
      " (-118.11196813868902, 41.40684244857626)\n",
      " (-117.03790840153665, 39.93380604825583)\n",
      " (-114.8775399789504, 37.64333859826016)\n",
      " (-119.1891968409386, 39.02039771529712)]\n"
     ]
    }
   ],
   "source": [
    "from epymorph.adrio.uscounties.centroid import Centroid\n",
    "\n",
    "adrio = Centroid() # Geographic centroid for all counties\n",
    "\n",
    "data = adrio.fetch(nodes=['04','08','49','35','32'])\n",
    "\n",
    "print(data[:10])"
   ]
  },
  {
   "cell_type": "code",
   "execution_count": 7,
   "metadata": {},
   "outputs": [
    {
     "name": "stdout",
     "output_type": "stream",
     "text": [
      "5 items retrieved from cache\n",
      "[  72124  129647  136701   53165   37407    9023   20335 4018143  203362\n",
      "  107656]\n"
     ]
    }
   ],
   "source": [
    "from epymorph.adrio.uscounties.population import Population\n",
    "\n",
    "adrio = Population()  # Total population for each county\n",
    "\n",
    "data = adrio.fetch(nodes=['04','08','49','35','32'])\n",
    "\n",
    "print(data[:10])"
   ]
  },
  {
   "cell_type": "code",
   "execution_count": 8,
   "metadata": {},
   "outputs": [
    {
     "name": "stdout",
     "output_type": "stream",
     "text": [
      "5 items retrieved from cache\n",
      "[[   5704   13817    4271]\n",
      " [ 474694 1244219  285819]\n",
      " [   8704   25536   11884]\n",
      " [  14226   31726    5336]\n",
      " [    305     562     318]\n",
      " [    519    1004     233]\n",
      " [   4839   10089    2116]\n",
      " [   1714    3355     842]\n",
      " [   1276    2832    1104]\n",
      " [  11613   28387   10836]]\n"
     ]
    }
   ],
   "source": [
    "from epymorph.adrio.uscounties.population_by_age import PopulationByAge\n",
    "\n",
    "adrio = PopulationByAge()  # Aggregated population for each county\n",
    "\n",
    "data = adrio.fetch(nodes=['04','08','49','35','32'])\n",
    "\n",
    "print(data[:10])"
   ]
  },
  {
   "cell_type": "code",
   "execution_count": 9,
   "metadata": {},
   "outputs": [
    {
     "name": "stdout",
     "output_type": "stream",
     "text": [
      "5 items retrieved from cache\n",
      "[31757 45075 50234 39751 45964 51628 34466 54229 38488 35921]\n"
     ]
    }
   ],
   "source": [
    "from epymorph.adrio.uscounties.median_income import MedianIncome\n",
    "\n",
    "adrio = MedianIncome()  # Median income for each county\n",
    "\n",
    "data = adrio.fetch(nodes=['04','08','49','35','32'])\n",
    "\n",
    "print(data[:10])"
   ]
  },
  {
   "cell_type": "code",
   "execution_count": 1,
   "metadata": {},
   "outputs": [
    {
     "name": "stdout",
     "output_type": "stream",
     "text": [
      "5 items retrieved from cache\n",
      "5 items retrieved from cache\n",
      "[  2.   8.   3.   4.   3.   2.   2. 169.   6.   4.]\n"
     ]
    }
   ],
   "source": [
    "from epymorph.adrio.uscounties.pop_density_km2 import PopDensityKm2\n",
    "\n",
    "adrio = PopDensityKm2() # Population density for each county\n",
    "\n",
    "data = adrio.fetch(nodes=['04','08','49','35','32'])\n",
    "\n",
    "print(data[:10])"
   ]
  },
  {
   "cell_type": "code",
   "execution_count": 11,
   "metadata": {},
   "outputs": [
    {
     "name": "stdout",
     "output_type": "stream",
     "text": [
      "5 items retrieved from cache\n",
      "5 items retrieved from cache\n",
      "[0.56844015 0.33530496 0.51208923 0.49214145 0.5        0.5\n",
      " 0.57185422 0.5        0.51741716 0.24060141]\n"
     ]
    }
   ],
   "source": [
    "from epymorph.adrio.uscounties.dissimilarity_index import DissimilarityIndex\n",
    "\n",
    "adrio = DissimilarityIndex()    # Dissimilarity index for Afrian Americans for each county\n",
    "\n",
    "data = adrio.fetch(nodes=['04','08','49','35','32'])\n",
    "\n",
    "print(data[:10])"
   ]
  },
  {
   "attachments": {},
   "cell_type": "markdown",
   "metadata": {},
   "source": [
    "### GEO Assembly\n",
    "\n",
    "ADRIOs being able to individually fetch data is great, but we also need a more streamlined way to create a GEO object using data from a whole set of ADRIOs. That's where GEOSpecs come in. GEOSpecs are objects containing a list of geographic nodes and a list of ADRIOSpec objects, which are simply used to specify which ADRIOs to call on by their class name.\n",
    "\n",
    "The below code creates a GEOSpec object through its initializer and serializes it to a .geo file using a predefined serialize method. With this file created, an entry can be added to the geo_library in epymorph.data.__init__, mapping the name of the Geo (in this case us_sw_counties_2015) to a string file path pointing to its .geo file."
   ]
  },
  {
   "cell_type": "code",
   "execution_count": 1,
   "metadata": {},
   "outputs": [],
   "source": [
    "from epymorph.adrio.adrio import GEOSpec, ADRIOSpec, serialize\n",
    "\n",
    "spec = GEOSpec('us_sw_counties_2015', ['04','08','49','35','32'], \n",
    "                                       ADRIOSpec('NameAndState'),      # label ADRIO\n",
    "                                      [ADRIOSpec('GEOID'),\n",
    "                                       ADRIOSpec('Centroid'),\n",
    "                                       ADRIOSpec('MedianIncome'),\n",
    "                                       ADRIOSpec('Population'),\n",
    "                                       ADRIOSpec('PopulationByAge'),\n",
    "                                       ADRIOSpec('PopDensityKm2'),\n",
    "                                       ADRIOSpec('DissimilarityIndex')])\n",
    "\n",
    "serialize(spec, f'epymorph/data/geo/{spec.id}.geo')"
   ]
  },
  {
   "attachments": {},
   "cell_type": "markdown",
   "metadata": {},
   "source": [
    "With that done, the new Geo can be passed into the run command of the main epymorph program the same way existing .py Geo files have been. The only difference being that, instead of creating a Geo through the load function of a .py file, the Geo is created through a GEOBuilder object which uses a GEOSpec object to build a Geo through ADRIOs.\n",
    "\n",
    "The below code shows the run command being executed with an ADRIO-based Geo passed in. You can see the Geo's creation process execute after requirments are loaded."
   ]
  },
  {
   "cell_type": "code",
   "execution_count": 2,
   "metadata": {},
   "outputs": [
    {
     "name": "stdout",
     "output_type": "stream",
     "text": [
      "Loading requirements:\n",
      "[✓] IPM (simple_sirs)\n",
      "[✓] MM (no)\n",
      "[✓] Geo (us_sw_counties_2015)\n",
      "[✓] Parameters (file:/home/waff/Desktop/CCL/Epymorph/scratch/params.toml)\n",
      "Fetching GEO data from ADRIOs...\n",
      "Fetching label: name_and_state\n",
      "5 items retrieved from cache\n",
      "Fetching geoid\n",
      "5 items retrieved from cache\n",
      "Fetching centroid\n",
      "5 items retrieved from cache\n",
      "Fetching median_income\n",
      "5 items retrieved from cache\n",
      "Fetching population\n",
      "5 items retrieved from cache\n",
      "Fetching population_by_age\n",
      "5 items retrieved from cache\n",
      "Fetching pop_density_km2\n",
      "5 items retrieved from cache\n",
      "5 items retrieved from cache\n",
      "Fetching dissimilarity_index\n",
      "5 items retrieved from cache\n",
      "5 items retrieved from cache\n",
      "...done\n",
      "\n",
      "Running simulation:\n",
      "• 2010-01-01 to 2010-05-31 (150 days)\n",
      "• 158 geo nodes\n",
      "|####################| 100% \n",
      "Runtime: 1.767s\n",
      "Displaying chart: e0\n"
     ]
    },
    {
     "data": {
      "image/png": "[encoded data removed]",
      "text/plain": [
       "<Figure size 640x480 with 1 Axes>"
      ]
     },
     "metadata": {},
     "output_type": "display_data"
    },
    {
     "name": "stdout",
     "output_type": "stream",
     "text": [
      "Done\n"
     ]
    }
   ],
   "source": [
    "import os\n",
    "\n",
    "from epymorph.run import run\n",
    "\n",
    "dir = os.path.expanduser('~/Desktop/CCL/Epymorph/scratch')\n",
    "\n",
    "exit_code = run(\n",
    "    ipm_name = 'simple_sirs',\n",
    "    mm_name = 'no',\n",
    "    geo_name = 'us_sw_counties_2015',\n",
    "    start_date_str = '2010-01-01',\n",
    "    duration_str = '150d',\n",
    "    params_path = f\"{dir}/params.toml\",\n",
    "    out_path = None,\n",
    "    chart = 'e0',\n",
    "    profiling = False\n",
    ")"
   ]
  },
  {
   "attachments": {},
   "cell_type": "markdown",
   "metadata": {},
   "source": [
    "### Caching\n",
    "In order to prevent long wait times for data retrieval every time the simulation runs, data fetched by ADRIOs are cached in CSV files located in a .cache folder in the adrio directory. Once data has been fetched and cached once, future retrieval of that data is instant. A CLI command also exists to fetch and cache data from ADRIOs without running the simulation, allowing users to pre-load or refresh their cache at any time. This is demonstrated below."
   ]
  },
  {
   "cell_type": "code",
   "execution_count": 1,
   "metadata": {},
   "outputs": [
    {
     "name": "stdout",
     "output_type": "stream",
     "text": [
      "Fetching GEO data from ADRIOs...\n",
      "Fetching label: name_and_state\n",
      "Fetching geoid\n",
      "Fetching centroid\n",
      "Fetching median_income\n",
      "Fetching population\n",
      "Fetching population_by_age\n",
      "Fetching pop_density_km2\n",
      "Fetching dissimilarity_index\n",
      "...done\n",
      "Data successfully cached\n"
     ]
    }
   ],
   "source": [
    "from epymorph.__main__ import do_cache\n",
    "\n",
    "# \"cache\" subcommand demo\n",
    "exit_code = do_cache(\n",
    "    'us_sw_counties_2015',  # name of Geo\n",
    "    True                    # -f arg: determines whether to overwrite existing data\n",
    ")"
   ]
  }
 ],
 "metadata": {
  "kernelspec": {
   "display_name": ".venv",
   "language": "python",
   "name": "python3"
  },
  "language_info": {
   "codemirror_mode": {
    "name": "ipython",
    "version": 3
   },
   "file_extension": ".py",
   "mimetype": "text/x-python",
   "name": "python",
   "nbconvert_exporter": "python",
   "pygments_lexer": "ipython3",
   "version": "3.11.0"
  },
  "orig_nbformat": 4
 },
 "nbformat": 4,
 "nbformat_minor": 2
}
