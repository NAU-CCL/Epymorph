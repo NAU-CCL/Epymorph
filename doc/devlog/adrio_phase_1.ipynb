{
 "cells": [
  {
   "attachments": {},
   "cell_type": "markdown",
   "metadata": {},
   "source": [
    "### Active Data Resource Interface Objects (ADRIOs) Phase 1\n",
    "\n",
    "The ADRIO system is being developed as a way to simplify the process of assembling GEOs as part of the simulation workflow. ADRIOs are derived from an abstract class and each exists to interface with a specific resource and extract specific data from that resource (doing any necessary filtering and transformation along the way). Future implementations will utilize ADRIO templates for different data sources, but only a generalized outline exists for now. The ADRIOs created in this phase are used to satisfy an example use case. That is:\n",
    "\n",
    "I am a modeler working on a disease with human-to-human transmission and I believe certain social determinants of health are a significant factor in disease outcomes. I want to use EpiMoRPH to model a metapopulation at the county level in the US Southwest region. My existing disease data, that I hope to use for parameter fitting, comes from 2015. I need the following data for each county, filtering to Arizona, New Mexico, Nevada, Utah, and Colorado:\n",
    "\n",
    "- Each county’s name and state.\n",
    "- Geographic centroid.\n",
    "- Population in 2015, total as well as aggregated into age brackets: under 20, 20-to-64, and 65 and older.\n",
    "- Population density.\n",
    "- Median household annual income.\n",
    "- The [Dissimilarity Index](https://www.phenxtoolkit.org/protocols/view/211403) of racial segregation for selected minority groups (currently African Americans) calculated from the census tracts comprising each county.\n",
    "\n",
    "\n",
    "All data for this use case comes from Census tables and/or shape files. As such, a US Census API key is required to download much of it. These ADRIOs are configured to search for a key in an environment variable named \"CENSUS_API_KEY\". Please make sure you have an [API key](https://api.census.gov/data/key_signup.html) and have assigned it to an environment variable with this name if running the code yourself.\n",
    "\n",
    "The following 8 cells demonstrate the execution of each ADRIO. Each will fetch one of the required data fields and return it as a numpy array."
   ]
  },
  {
   "cell_type": "code",
   "execution_count": 2,
   "metadata": {},
   "outputs": [
    {
     "name": "stdout",
     "output_type": "stream",
     "text": [
      "5 items retrieved from cache\n",
      "['Apache County, Arizona' 'Cochise County, Arizona'\n",
      " 'Coconino County, Arizona' 'Gila County, Arizona'\n",
      " 'Graham County, Arizona' 'Greenlee County, Arizona'\n",
      " 'La Paz County, Arizona' 'Maricopa County, Arizona'\n",
      " 'Mohave County, Arizona' 'Navajo County, Arizona']\n"
     ]
    }
   ],
   "source": [
    "from epymorph.adrio.uscounties.name_and_state import NameAndState\n",
    "\n",
    "adrio = NameAndState() # County and state name for all counties\n",
    "\n",
    "data = adrio.fetch(nodes=['04','08','49','35','32'])   # Parameters are US state fips codes of the states relevant to the use case\n",
    "\n",
    "print(data[:10])"
   ]
  },
  {
   "cell_type": "code",
   "execution_count": 3,
   "metadata": {},
   "outputs": [
    {
     "name": "stdout",
     "output_type": "stream",
     "text": [
      "5 items retrieved from cache\n",
      "['04001' '04003' '04005' '04007' '04009' '04011' '04012' '04013' '04015'\n",
      " '04017']\n"
     ]
    }
   ],
   "source": [
    "from epymorph.adrio.uscounties.geoid import GEOID\n",
    "\n",
    "adrio = GEOID() # GEOID for all counties\n",
    "\n",
    "data = adrio.fetch(nodes=['04','08','49','35','32'])\n",
    "\n",
    "print(data[:10])"
   ]
  },
  {
   "cell_type": "code",
   "execution_count": 4,
   "metadata": {},
   "outputs": [
    {
     "name": "stdout",
     "output_type": "stream",
     "text": [
      "5 items retrieved from cache\n",
      "[(-118.33577887439804, 39.58087638098897)\n",
      " (-115.0135616989219, 36.2151981007958)\n",
      " (-119.61637202421979, 38.91224140787554)\n",
      " (-115.35771562105954, 41.145844176906984)\n",
      " (-117.63236603239478, 37.78469655140272)\n",
      " (-116.26855959836149, 39.98389202381407)\n",
      " (-118.11196813868902, 41.40684244857626)\n",
      " (-117.03790840153665, 39.93380604825583)\n",
      " (-114.8775399789504, 37.64333859826016)\n",
      " (-119.1891968409386, 39.02039771529712)]\n"
     ]
    }
   ],
   "source": [
    "from epymorph.adrio.uscounties.centroid import Centroid\n",
    "\n",
    "adrio = Centroid() # Geographic centroid for all counties\n",
    "\n",
    "data = adrio.fetch(nodes=['04','08','49','35','32'])\n",
    "\n",
    "print(data[:10])"
   ]
  },
  {
   "cell_type": "code",
   "execution_count": 1,
   "metadata": {},
   "outputs": [
    {
     "name": "stdout",
     "output_type": "stream",
     "text": [
      "5 items retrieved from cache\n",
      "[  72124  129647  136701   53165   37407    9023   20335 4018143  203362\n",
      "  107656]\n"
     ]
    }
   ],
   "source": [
    "from epymorph.adrio.uscounties.population import Population\n",
    "\n",
    "adrio = Population()  # Total population for each county\n",
    "\n",
    "data = adrio.fetch(nodes=['04','08','49','35','32'])\n",
    "\n",
    "print(data[:10])"
   ]
  },
  {
   "cell_type": "code",
   "execution_count": 6,
   "metadata": {},
   "outputs": [
    {
     "name": "stdout",
     "output_type": "stream",
     "text": [
      "5 items retrieved from cache\n",
      "[[   5704   13817    4271]\n",
      " [ 474694 1244219  285819]\n",
      " [   8704   25536   11884]\n",
      " [  14226   31726    5336]\n",
      " [    305     562     318]\n",
      " [    519    1004     233]\n",
      " [   4839   10089    2116]\n",
      " [   1714    3355     842]\n",
      " [   1276    2832    1104]\n",
      " [  11613   28387   10836]]\n"
     ]
    }
   ],
   "source": [
    "from epymorph.adrio.uscounties.population_by_age import PopulationByAge\n",
    "\n",
    "adrio = PopulationByAge()  # Aggregated population for each county\n",
    "\n",
    "data = adrio.fetch(nodes=['04','08','49','35','32'])\n",
    "\n",
    "print(data[:10])"
   ]
  },
  {
   "cell_type": "code",
   "execution_count": 7,
   "metadata": {},
   "outputs": [
    {
     "name": "stdout",
     "output_type": "stream",
     "text": [
      "5 items retrieved from cache\n",
      "[31757 45075 50234 39751 45964 51628 34466 54229 38488 35921]\n"
     ]
    }
   ],
   "source": [
    "from epymorph.adrio.uscounties.median_income import MedianIncome\n",
    "\n",
    "adrio = MedianIncome()  # Median income for each county\n",
    "\n",
    "data = adrio.fetch(nodes=['04','08','49','35','32'])\n",
    "\n",
    "print(data[:10])"
   ]
  },
  {
   "cell_type": "code",
   "execution_count": 8,
   "metadata": {},
   "outputs": [
    {
     "name": "stdout",
     "output_type": "stream",
     "text": [
      "5 items retrieved from cache\n",
      "5 items retrieved from cache\n",
      "[  2.   8.   3.   4.   3.   2.   2. 169.   6.   4.]\n"
     ]
    }
   ],
   "source": [
    "from epymorph.adrio.uscounties.pop_density_km2 import PopDensityKm2\n",
    "\n",
    "adrio = PopDensityKm2() # Population density for each county\n",
    "\n",
    "data = adrio.fetch(nodes=['04','08','49','35','32'])\n",
    "\n",
    "print(data[:10])"
   ]
  },
  {
   "cell_type": "code",
   "execution_count": 9,
   "metadata": {},
   "outputs": [
    {
     "name": "stdout",
     "output_type": "stream",
     "text": [
      "5 items retrieved from cache\n",
      "5 items retrieved from cache\n",
      "[0.56844015 0.33530496 0.51208923 0.49214145 0.5        0.5\n",
      " 0.57185422 0.5        0.51741716 0.24060141]\n"
     ]
    }
   ],
   "source": [
    "from epymorph.adrio.uscounties.dissimilarity_index import DissimilarityIndex\n",
    "\n",
    "adrio = DissimilarityIndex()    # Dissimilarity index for Afrian Americans for each county\n",
    "\n",
    "data = adrio.fetch(nodes=['04','08','49','35','32'])\n",
    "\n",
    "print(data[:10])"
   ]
  },
  {
   "cell_type": "markdown",
   "metadata": {},
   "source": [
    "### WIP ADRIOS\n",
    "\n",
    "The next four cells are used to demonstrate work in progress ADRIOs for the Maricopa county cbg 2019 geo. They fetch data at the block group or tract level which is not yet easy to implement into the current system. These ADRIOs do not have caching functionality, but rather fetch and output their data directly."
   ]
  },
  {
   "cell_type": "code",
   "execution_count": 1,
   "metadata": {},
   "outputs": [
    {
     "name": "stdout",
     "output_type": "stream",
     "text": [
      "[34.  27.7 35.  ... 73.6 30.5 64.9]\n"
     ]
    }
   ],
   "source": [
    "from epymorph.adrio.cbg.median_age import MedianAge\n",
    "\n",
    "adrio = MedianAge()\n",
    "\n",
    "data = adrio.fetch(state=['04'], county=['013'])\n",
    "\n",
    "print(data)"
   ]
  },
  {
   "cell_type": "code",
   "execution_count": 2,
   "metadata": {},
   "outputs": [
    {
     "name": "stdout",
     "output_type": "stream",
     "text": [
      "[3.41 4.1  3.07 ... 1.7  1.67 2.23]\n"
     ]
    }
   ],
   "source": [
    "from epymorph.adrio.cbg.average_household_size import AverageHouseholdSize\n",
    "\n",
    "adrio = AverageHouseholdSize()\n",
    "\n",
    "data = adrio.fetch(state=['04'], county=['013'])\n",
    "\n",
    "print(data)"
   ]
  },
  {
   "cell_type": "code",
   "execution_count": 1,
   "metadata": {},
   "outputs": [
    {
     "name": "stdout",
     "output_type": "stream",
     "text": [
      "[[ 764  481  614  328  137  170]\n",
      " [ 959  501  685  373   51   93]\n",
      " [ 668  471  643  326  112  179]\n",
      " ...\n",
      " [2289    0    0   10  149  211]\n",
      " [2461  436  109  137   64   77]\n",
      " [1134   70  167   83  215  252]]\n"
     ]
    }
   ],
   "source": [
    "from epymorph.adrio.cbg.population_by_age_x6 import PopulationByAgex6\n",
    "\n",
    "adrio = PopulationByAgex6()\n",
    "\n",
    "data = adrio.fetch(state=['04'], county=['013'])\n",
    "\n",
    "print(data)"
   ]
  },
  {
   "cell_type": "code",
   "execution_count": 1,
   "metadata": {},
   "outputs": [
    {
     "name": "stdout",
     "output_type": "stream",
     "text": [
      "[0.4423 0.5439 0.5185 0.4983 0.5608 0.3515 0.4376 0.4137 0.3742 0.3793\n",
      " 0.4532 0.356  0.3891 0.3734 0.4186 0.374  0.3089 0.474  0.4112 0.3952\n",
      " 0.3625 0.4152 0.401  0.4068 0.3616 0.3486 0.4099 0.3667 0.4042 0.338\n",
      " 0.3579 0.3183 0.418  0.3131 0.3051 0.3693 0.3783 0.3854 0.4333 0.321\n",
      " 0.3799 0.431  0.3691 0.3367 0.4178 0.3963 0.3319 0.4007 0.3677 0.3774\n",
      " 0.332  0.3621 0.5    0.3865 0.322  0.3224 0.3268 0.3705 0.3228 0.3543\n",
      " 0.2946 0.382  0.3053 0.3892 0.3915 0.3657 0.344  0.3014 0.2981 0.3907\n",
      " 0.3345 0.3622 0.2857 0.2873 0.3317 0.3035 0.2755 0.2996 0.3977 0.3215\n",
      " 0.3365 0.4321 0.3536 0.2349 0.4329 0.3665 0.4131 0.4815 0.4221 0.3528\n",
      " 0.4226 0.3906 0.3693 0.3102 0.429  0.3814 0.4731 0.3549 0.3923 0.4403\n",
      " 0.3285 0.4896 0.3367 0.36   0.3971 0.4989 0.3431 0.3567 0.3701 0.3253\n",
      " 0.3303 0.3872 0.3621 0.3509 0.3759 0.3614 0.3295 0.4015 0.3828 0.3668\n",
      " 0.3088 0.341  0.3719 0.3559 0.3105 0.2846 0.3829 0.392  0.3892 0.3696\n",
      " 0.2604 0.4038 0.3971 0.3925 0.2967 0.3241 0.3204 0.3181 0.3387 0.3482\n",
      " 0.3716 0.3474 0.3015 0.386  0.3991 0.397  0.465  0.3625 0.3753 0.4886\n",
      " 0.476  0.5388 0.4434 0.4784 0.467  0.3537 0.3647 0.3976 0.3629 0.5092\n",
      " 0.4242 0.3628 0.4388 0.3109 0.384  0.4324 0.3416 0.4153 0.3012 0.3966\n",
      " 0.3601 0.4188 0.3897 0.417  0.4116 0.3933 0.4817 0.38   0.5537 0.4095\n",
      " 0.4237 0.4039 0.3788 0.3797 0.4759 0.5636 0.4216 0.3955 0.3779 0.393\n",
      " 0.4055 0.4779 0.3874 0.4455 0.4361 0.3425 0.4227 0.3817 0.5145 0.422\n",
      " 0.3334 0.4081 0.3422 0.4247 0.4887 0.4865 0.4196 0.399  0.3454 0.4733\n",
      " 0.4367 0.4123 0.4431 0.509  0.4636 0.3907 0.4273 0.4002 0.3993 0.3193\n",
      " 0.3328 0.4439 0.3719 0.3885 0.3769 0.3465 0.3887 0.3536 0.3821 0.3675\n",
      " 0.3139 0.356  0.3772 0.3375 0.4452 0.3979 0.4323 0.4399 0.4171 0.3762\n",
      " 0.3551 0.3802 0.4527 0.3983 0.4623 0.4088 0.4464 0.4765 0.3802 0.3839\n",
      " 0.5885 0.486  0.4857 0.4142 0.5183 0.5219 0.4485 0.4397 0.4418 0.4969\n",
      " 0.4606 0.446  0.4203 0.4579 0.3986 0.3927 0.4464 0.4507 0.419  0.4552\n",
      " 0.4162 0.5389 0.4292 0.4499 0.4533 0.5294 0.4776 0.5255 0.4564 0.4753\n",
      " 0.4666 0.5846 0.5035 0.3541 0.4062 0.3835 0.4178 0.4206 0.4585 0.3705\n",
      " 0.5111 0.4505 0.4706 0.4725 0.4575 0.5505 0.5996 0.5182 0.5365 0.4634\n",
      " 0.5214 0.4485 0.5916 0.3866 0.4128 0.4882 0.4291 0.4401 0.4673 0.4545\n",
      " 0.4026 0.4317 0.4568 0.3787 0.408  0.4896 0.3109 0.4315 0.4647 0.3581\n",
      " 0.3833 0.3555 0.4395 0.3793 0.3431 0.3806 0.2628 0.345  0.3561 0.3428\n",
      " 0.3946 0.3467 0.3748 0.4441 0.465  0.3975 0.4791 0.4507 0.4168 0.4299\n",
      " 0.407  0.462  0.5733 0.481  0.4028 0.5334 0.4974 0.385  0.3844 0.3053\n",
      " 0.3769 0.3598 0.4959 0.4022 0.3968 0.4288 0.4094 0.408  0.5039 0.5328\n",
      " 0.4289 0.4085 0.664  0.3963 0.4445 0.4101 0.3116 0.4348 0.3189 0.391\n",
      " 0.3297 0.3388 0.3405 0.3754 0.4108 0.33   0.3113 0.3694 0.3238 0.5061\n",
      " 0.3859 0.4896 0.4725 0.5379 0.5464 0.4611 0.4873 0.474  0.579  0.5\n",
      " 0.4134 0.3715 0.3724 0.4022 0.4061 0.3734 0.5    0.3985 0.4754 0.6054\n",
      " 0.4283 0.4836 0.5024 0.4501 0.3722 0.5191 0.4455 0.4387 0.4239 0.5149\n",
      " 0.4343 0.4445 0.49   0.4522 0.3433 0.4346 0.4295 0.4363 0.3729 0.4676\n",
      " 0.4018 0.3408 0.3761 0.3549 0.3306 0.4286 0.3971 0.4283 0.4877 0.3536\n",
      " 0.4209 0.353  0.3113 0.3359 0.4497 0.2992 0.2916 0.4074 0.3499 0.333\n",
      " 0.3581 0.3604 0.3804 0.3623 0.4363 0.4355 0.4544 0.3768 0.3889 0.3702\n",
      " 0.3912 0.423  0.3863 0.4107 0.3724 0.4122 0.35   0.5081 0.3594 0.3698\n",
      " 0.4564 0.326  0.3368 0.4821 0.4158 0.5043 0.3983 0.4294 0.3979 0.3382\n",
      " 0.4962 0.4813 0.4303 0.4714 0.5289 0.4841 0.4184 0.4135 0.4843 0.3946\n",
      " 0.5202 0.4532 0.5018 0.4801 0.5105 0.5041 0.5283 0.4159 0.5033 0.4671\n",
      " 0.454  0.4078 0.3963 0.4115 0.4347 0.4073 0.4347 0.4846 0.5369 0.4782\n",
      " 0.4337 0.4407 0.5124 0.4142 0.3309 0.545  0.3951 0.4742 0.5266 0.4299\n",
      " 0.4747 0.3533 0.4398 0.3889 0.4494 0.5682 0.394  0.5588 0.5476 0.5239\n",
      " 0.3459 0.4043 0.4349 0.433  0.4066 0.4173 0.4618 0.4267 0.4751 0.4565\n",
      " 0.4422 0.6499 0.472  0.4028 0.5493 0.5877 0.4741 0.5234 0.4496 0.4866\n",
      " 0.4851 0.3773 0.3315 0.4096 0.3665 0.4428 0.4445 0.3534 0.4224 0.3563\n",
      " 0.3982 0.365  0.3532 0.4145 0.3359 0.3479 0.4353 0.3783 0.3563 0.3925\n",
      " 0.3879 0.3533 0.5196 0.3383 0.4733 0.3783 0.3528 0.3683 0.4792 0.4027\n",
      " 0.4118 0.4069 0.3368 0.3988 0.3969 0.4126 0.451  0.3413 0.4518 0.4604\n",
      " 0.4289 0.4021 0.4623 0.3142 0.3929 0.372  0.4116 0.424  0.4167 0.4577\n",
      " 0.4553 0.38   0.5088 0.4944 0.4099 0.4333 0.4456 0.3066 0.3966 0.4473\n",
      " 0.379  0.4238 0.4642 0.4148 0.3465 0.4451 0.4003 0.4709 0.4265 0.446\n",
      " 0.4037 0.4195 0.4638 0.3587 0.4378 0.3877 0.3924 0.4199 0.3435 0.3735\n",
      " 0.3986 0.4283 0.4468 0.3818 0.4753 0.3827 0.4616 0.3327 0.3829 0.3468\n",
      " 0.3944 0.3549 0.457  0.4553 0.3927 0.5188 0.4254 0.4499 0.3428 0.4068\n",
      " 0.4521 0.3241 0.3425 0.3223 0.454  0.4048 0.3227 0.3409 0.346  0.401\n",
      " 0.3925 0.3269 0.3682 0.4112 0.3965 0.4466 0.3575 0.4116 0.3191 0.4322\n",
      " 0.4165 0.3609 0.3991 0.4667 0.4124 0.3536 0.3746 0.3722 0.3573 0.3789\n",
      " 0.4528 0.3813 0.397  0.3806 0.4218 0.3456 0.3066 0.5379 0.3963 0.4118\n",
      " 0.4112 0.4111 0.3819 0.3823 0.348  0.3585 0.4053 0.4221 0.3247 0.4013\n",
      " 0.421  0.4713 0.4449 0.4119 0.4125 0.3846 0.3782 0.3601 0.3445 0.3764\n",
      " 0.3624 0.3803 0.3662 0.3409 0.3371 0.3801 0.4931 0.3628 0.3933 0.4315\n",
      " 0.2914 0.4479 0.3733 0.2951 0.368  0.41   0.5282 0.4526 0.4438 0.3563\n",
      " 0.4208 0.3835 0.4496 0.4803 0.4563 0.4202 0.475  0.4166 0.34   0.4055\n",
      " 0.3282 0.4035 0.3441 0.3852 0.2877 0.2894 0.3855 0.3646 0.3488 0.3008\n",
      " 0.3225 0.4473 0.327  0.3624 0.3197 0.4129 0.3885 0.361  0.3957 0.3624\n",
      " 0.3966 0.4137 0.3551 0.3841 0.4627 0.4165 0.3999 0.3591 0.4397 0.3347\n",
      " 0.3295 0.3664 0.2835 0.3262 0.3871 0.4039 0.4206 0.4459 0.3877 0.3349\n",
      " 0.3855 0.3211 0.3686 0.4912 0.3625 0.4006 0.377  0.4404 0.46   0.3988\n",
      " 0.3616 0.3628 0.4544 0.426  0.339  0.3143 0.3838 0.3928 0.376  0.325\n",
      " 0.3059 0.4093 0.3809 0.4443 0.3386 0.3601 0.3321 0.3692 0.481  0.3813\n",
      " 0.48   0.3657 0.4799 0.3715 0.3663 0.3557 0.3512 0.3032 0.3465 0.4622\n",
      " 0.3454 0.4    0.4108 0.4264 0.3419 0.4382 0.3964 0.4128 0.3578 0.3651\n",
      " 0.4565 0.4002 0.3692 0.0039 0.3692 0.4624 0.5571 0.4131 0.3754 0.3665\n",
      " 0.4102 0.367  0.34   0.4035 0.3974 0.4355 0.3865 0.4155 0.3481 0.3292\n",
      " 0.3591 0.3497 0.3409 0.3356 0.2989 0.3623 0.3961 0.4438 0.3877 0.3895\n",
      " 0.3061 0.3884 0.3873 0.282  0.2721 0.4243 0.3823 0.3584 0.5026 0.4532\n",
      " 0.344  0.2991 0.3662 0.3857 0.4079 0.4053 0.3291 0.3695 0.3619 0.4435\n",
      " 0.3277 0.3689 0.3328 0.3875 0.3566 0.3545 0.3658 0.3486 0.2944 0.2872\n",
      " 0.2716 0.3043 0.2968 0.4181 0.4155 0.3099 0.2827 0.3712 0.2885 0.345\n",
      " 0.283  0.405  0.4026 0.3993 0.3991 0.3565 0.3837 0.3125 0.3149 0.4866\n",
      " 0.3941 0.4024 0.4224 0.494  0.39   0.3422 0.4771 0.4912 0.5    0.3703\n",
      " 0.4913 0.5    0.5    0.5    0.2801 0.5   ]\n"
     ]
    }
   ],
   "source": [
    "from epymorph.adrio.tract.gini_index import GiniIndex\n",
    "\n",
    "adrio = GiniIndex()\n",
    "\n",
    "data = adrio.fetch(state=['04'], county=['013'])\n",
    "\n",
    "print(data)"
   ]
  },
  {
   "attachments": {},
   "cell_type": "markdown",
   "metadata": {},
   "source": [
    "### GEO Assembly\n",
    "\n",
    "ADRIOs being able to individually fetch data is great, but we also need a more streamlined way to create a GEO object using data from a whole set of ADRIOs. That's where GEOSpecs come in. GEOSpecs are objects containing a list of geographic nodes and a list of ADRIOSpec objects, which are simply used to specify which ADRIOs to call on by their class name.\n",
    "\n",
    "The below code creates a GEOSpec object through its initializer and serializes it to a .geo file using a predefined serialize method. With this file created, an entry can be added to the geo_library in epymorph.data.__init__, mapping the name of the Geo (in this case us_sw_counties_2015) to a string file path pointing to its .geo file."
   ]
  },
  {
   "cell_type": "code",
   "execution_count": 1,
   "metadata": {},
   "outputs": [],
   "source": [
    "from epymorph.adrio.adrio import GEOSpec, ADRIOSpec, serialize\n",
    "\n",
    "spec = GEOSpec('us_sw_counties_2015', ['04','08','49','35','32'], \n",
    "                                       ADRIOSpec('NameAndState'),      # label ADRIO\n",
    "                                      [ADRIOSpec('GEOID'),\n",
    "                                       ADRIOSpec('Centroid'),\n",
    "                                       ADRIOSpec('MedianIncome'),\n",
    "                                       ADRIOSpec('Population'),\n",
    "                                       ADRIOSpec('PopulationByAge'),\n",
    "                                       ADRIOSpec('PopDensityKm2'),\n",
    "                                       ADRIOSpec('DissimilarityIndex')])\n",
    "\n",
    "serialize(spec, f'epymorph/data/geo/{spec.id}.geo')"
   ]
  },
  {
   "attachments": {},
   "cell_type": "markdown",
   "metadata": {},
   "source": [
    "With that done, the new Geo can be passed into the run command of the main epymorph program the same way existing .py Geo files have been. The only difference being that, instead of creating a Geo through the load function of a .py file, the Geo is created through a GEOBuilder object which uses a GEOSpec object to build a Geo through ADRIOs.\n",
    "\n",
    "The below code shows the run command being executed with an ADRIO-based Geo passed in. You can see the Geo's creation process execute after requirments are loaded."
   ]
  },
  {
   "cell_type": "code",
   "execution_count": 4,
   "metadata": {},
   "outputs": [
    {
     "name": "stdout",
     "output_type": "stream",
     "text": [
      "Loading requirements:\n",
      "[✓] IPM (no)\n",
      "[✓] MM (no)\n",
      "[✓] Geo (us_sw_counties_2015)\n",
      "Fetching GEO data from ADRIOs...\n",
      "Fetching name_and_state\n",
      "5 items retrieved from cache\n",
      "Fetching geoid\n",
      "5 items retrieved from cache\n",
      "Fetching centroid\n",
      "5 items retrieved from cache\n",
      "Fetching median_income\n",
      "5 items retrieved from cache\n",
      "Fetching population\n",
      "5 items retrieved from cache\n",
      "Fetching population_by_age\n",
      "5 items retrieved from cache\n",
      "Fetching pop_density_km2\n",
      "5 items retrieved from cache\n",
      "5 items retrieved from cache\n",
      "Fetching dissimilarity_index\n",
      "5 items retrieved from cache\n",
      "5 items retrieved from cache\n",
      "...done\n",
      "\n",
      "Running simulation (BasicEngine):\n",
      "• 2010-01-01 to 2010-05-31 (150 days)\n",
      "• 158 geo nodes\n",
      "|####################| 100% \n",
      "Runtime: 1.464s\n",
      "Done\n"
     ]
    }
   ],
   "source": [
    "from epymorph.run import run\n",
    "\n",
    "\"\"\"\n",
    "toml file contents:\n",
    "\n",
    "ipm = 'no'\n",
    "mm = 'no'\n",
    "geo = 'us_sw_counties_2015'\n",
    "start_date = '2010-01-01'\n",
    "duration = '150d'\n",
    "\n",
    "[params]\n",
    "theta = 0.1\n",
    "move_control = 0.9\n",
    "infection_duration = 4.0\n",
    "immunity_duration = 90.0\n",
    "infection_seed_loc = 0\n",
    "infection_seed_size = 10000\n",
    "\"\"\"\n",
    "\n",
    "exit_code = run(\n",
    "    input_path=\"scratch/adrio_test.toml\",\n",
    "    out_path= None,\n",
    "    chart=None,\n",
    "    profiling= False,\n",
    "    engine_id=None\n",
    ")"
   ]
  },
  {
   "attachments": {},
   "cell_type": "markdown",
   "metadata": {},
   "source": [
    "### Caching\n",
    "In order to prevent long wait times for data retrieval every time the simulation runs, data fetched by ADRIOs are cached in CSV files located in a .cache folder in the adrio directory. Once data has been fetched and cached once, future retrieval of that data is instant. A CLI command also exists to fetch and cache data from ADRIOs without running the simulation, allowing users to pre-load or refresh their cache at any time. This is demonstrated below."
   ]
  },
  {
   "cell_type": "code",
   "execution_count": 2,
   "metadata": {},
   "outputs": [
    {
     "name": "stdout",
     "output_type": "stream",
     "text": [
      "Fetching GEO data from ADRIOs...\n",
      "Fetching name_and_state\n",
      "Fetching geoid\n",
      "Fetching centroid\n",
      "Fetching median_income\n",
      "Fetching population\n",
      "Fetching population_by_age\n",
      "Fetching pop_density_km2\n",
      "Fetching dissimilarity_index\n",
      "...done\n",
      "Data successfully cached\n"
     ]
    }
   ],
   "source": [
    "from epymorph.cache import cache_geo\n",
    "\n",
    "# \"cache\" subcommand demo\n",
    "exit_code = cache_geo(\n",
    "    'us_sw_counties_2015',  # name of Geo\n",
    "    True                    # -f arg: determines whether to overwrite existing data\n",
    ")"
   ]
  }
 ],
 "metadata": {
  "kernelspec": {
   "display_name": ".venv",
   "language": "python",
   "name": "python3"
  },
  "language_info": {
   "codemirror_mode": {
    "name": "ipython",
    "version": 3
   },
   "file_extension": ".py",
   "mimetype": "text/x-python",
   "name": "python",
   "nbconvert_exporter": "python",
   "pygments_lexer": "ipython3",
   "version": "3.11.0rc1"
  },
  "orig_nbformat": 4
 },
 "nbformat": 4,
 "nbformat_minor": 2
}
