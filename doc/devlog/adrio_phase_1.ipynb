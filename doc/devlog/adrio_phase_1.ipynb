{
 "cells": [
  {
   "attachments": {},
   "cell_type": "markdown",
   "metadata": {},
   "source": [
    "### Active Data Resource Interface Objects (ADRIOs) Phase 1\n",
    "\n",
    "The ADRIO system is being developed as a way to simplify the process of assembling GEOs as part of the simulation workflow. ADRIOs are derived from an abstract class and each exists to interface with a specific resource and extract specific data from that resource (doing any necessary filtering and transformation along the way). Future implementations will utilize ADRIO templates for different data sources, but only a generalized outline exists for now. The ADRIOs created in this phase are used to satisfy an example use case. That is:\n",
    "\n",
    "I am a modeler working on a disease with human-to-human transmission and I believe certain social determinants of health are a significant factor in disease outcomes. I want to use EpiMoRPH to model a metapopulation at the county level in the US Southwest region. My existing disease data, that I hope to use for parameter fitting, comes from 2015. I need the following data for each county, filtering to Arizona, New Mexico, Nevada, Utah, and Colorado:\n",
    "\n",
    "- Each county’s name and state.\n",
    "- Geographic centroid.\n",
    "- Population in 2015, total as well as aggregated into age brackets: under 20, 20-to-64, and 65 and older.\n",
    "- Population density.\n",
    "- Median household annual income.\n",
    "- The [Dissimilarity Index](https://www.phenxtoolkit.org/protocols/view/211403) of racial segregation for selected minority groups (currently African Americans) calculated from the census tracts comprising each county.\n",
    "\n",
    "\n",
    "All data for this use case comes from Census tables and/or shape files. As such, a US Census API key is required to download much of it. These ADRIOs are configured to search for a key in an environment variable named \"CENSUS_API_KEY\". Please make sure you have an [API key](https://api.census.gov/data/key_signup.html) and have assigned it to an environment variable with this name if running the code yourself.\n",
    "\n",
    "The following 7 cells demonstrate the execution of each ADRIO. Each will fetch one of the required data fields and return it as a numpy array."
   ]
  },
  {
   "cell_type": "code",
   "execution_count": 1,
   "metadata": {},
   "outputs": [
    {
     "name": "stdout",
     "output_type": "stream",
     "text": [
      "5 items retrieved from cache\n",
      "['Apache County, Arizona' 'Cochise County, Arizona'\n",
      " 'Coconino County, Arizona' 'Gila County, Arizona'\n",
      " 'Graham County, Arizona' 'Greenlee County, Arizona'\n",
      " 'La Paz County, Arizona' 'Maricopa County, Arizona'\n",
      " 'Mohave County, Arizona' 'Navajo County, Arizona']\n"
     ]
    }
   ],
   "source": [
    "from epymorph.adrio.uscounties.name_and_state import NameAndState\n",
    "\n",
    "adrio = NameAndState() # County and state name for all counties\n",
    "\n",
    "data = adrio.fetch(nodes=['04','08','49','35','32'])   # Parameters are US state fips codes of the states relevant to the use case\n",
    "\n",
    "print(data[:10])"
   ]
  },
  {
   "cell_type": "code",
   "execution_count": 2,
   "metadata": {},
   "outputs": [
    {
     "name": "stdout",
     "output_type": "stream",
     "text": [
      "5 items retrieved from cache\n",
      "[(-109.48884599933983, 35.39561636599861)\n",
      " (-109.75114065250403, 31.879565188531135)\n",
      " (-111.77051224094002, 35.83872946080435)\n",
      " (-110.81173660151235, 33.7997522507843)\n",
      " (-109.88743768095468, 32.93271630691242)\n",
      " (-109.24009746315183, 33.21535710506059)\n",
      " (-113.98133797066632, 33.729264046343694)\n",
      " (-112.49123306907562, 33.34883422171268)\n",
      " (-113.75790896737138, 35.70406048391267)\n",
      " (-110.32140292874823, 35.39953935366874)]\n"
     ]
    }
   ],
   "source": [
    "from epymorph.adrio.uscounties.centroid import Centroid\n",
    "\n",
    "adrio = Centroid() # Geographic centroid for all counties\n",
    "\n",
    "data = adrio.fetch(nodes=['04','08','49','35','32'])\n",
    "\n",
    "print(data[:10])"
   ]
  },
  {
   "cell_type": "code",
   "execution_count": 3,
   "metadata": {},
   "outputs": [
    {
     "name": "stdout",
     "output_type": "stream",
     "text": [
      "5 items retrieved from cache\n",
      "[[1.200000e+01 9.900000e+01 7.212400e+04 4.000000e+00 1.000000e+00]\n",
      " [1.100000e+01 9.800000e+01 1.296470e+05 4.000000e+00 3.000000e+00]\n",
      " [5.000000e+00 9.200000e+01 1.367010e+05 4.000000e+00 5.000000e+00]\n",
      " [1.000000e+00 8.800000e+01 5.316500e+04 4.000000e+00 7.000000e+00]\n",
      " [1.000000e+01 9.700000e+01 3.740700e+04 4.000000e+00 9.000000e+00]\n",
      " [7.000000e+00 9.400000e+01 9.023000e+03 4.000000e+00 1.100000e+01]\n",
      " [3.000000e+00 9.000000e+01 2.033500e+04 4.000000e+00 1.200000e+01]\n",
      " [0.000000e+00 8.700000e+01 4.018143e+06 4.000000e+00 1.300000e+01]\n",
      " [4.000000e+00 9.100000e+01 2.033620e+05 4.000000e+00 1.500000e+01]\n",
      " [1.400000e+01 1.010000e+02 1.076560e+05 4.000000e+00 1.700000e+01]]\n"
     ]
    }
   ],
   "source": [
    "from epymorph.adrio.uscounties.population import Population\n",
    "\n",
    "adrio = Population()  # Total population for each county\n",
    "\n",
    "data = adrio.fetch(nodes=['04','08','49','35','32'])\n",
    "\n",
    "print(data[:10])"
   ]
  },
  {
   "cell_type": "code",
   "execution_count": 4,
   "metadata": {},
   "outputs": [
    {
     "name": "stdout",
     "output_type": "stream",
     "text": [
      "5 items retrieved from cache\n",
      "[[  20955   40055   10119]\n",
      " [  29010   71626   26045]\n",
      " [  31609   87184   16264]\n",
      " [  10736   26725   14063]\n",
      " [  10263   21767    4755]\n",
      " [   2607    5242    1108]\n",
      " [   3527    8991    7095]\n",
      " [ 988587 2379592  569916]\n",
      " [  37659  105003   54562]\n",
      " [  29650   58501   17884]]\n"
     ]
    }
   ],
   "source": [
    "from epymorph.adrio.uscounties.population_by_age import PopulationByAge\n",
    "\n",
    "adrio = PopulationByAge()  # Aggregated population for each county\n",
    "\n",
    "data = adrio.fetch(nodes=['04','08','49','35','32'])\n",
    "\n",
    "print(data[:10])"
   ]
  },
  {
   "cell_type": "code",
   "execution_count": 5,
   "metadata": {},
   "outputs": [
    {
     "name": "stdout",
     "output_type": "stream",
     "text": [
      "5 items retrieved from cache\n",
      "[31757 45075 50234 39751 45964 51628 34466 54229 38488 35921]\n"
     ]
    }
   ],
   "source": [
    "from epymorph.adrio.uscounties.median_income import MedianIncome\n",
    "\n",
    "adrio = MedianIncome()  # Median income for each county\n",
    "\n",
    "data = adrio.fetch(nodes=['04','08','49','35','32'])\n",
    "\n",
    "print(data[:10])"
   ]
  },
  {
   "cell_type": "code",
   "execution_count": 2,
   "metadata": {},
   "outputs": [
    {
     "name": "stdout",
     "output_type": "stream",
     "text": [
      "5 items retrieved from cache\n",
      "5 items retrieved from cache\n",
      "[  2.   8.   3.   4.   3.   2.   2. 169.   6.   4.]\n"
     ]
    }
   ],
   "source": [
    "from epymorph.adrio.uscounties.pop_density_km2 import PopDensityKm2\n",
    "\n",
    "adrio = PopDensityKm2() # Population density for each county\n",
    "\n",
    "data = adrio.fetch(nodes=['04','08','49','35','32'])\n",
    "\n",
    "print(data[:10])"
   ]
  },
  {
   "cell_type": "code",
   "execution_count": 7,
   "metadata": {},
   "outputs": [
    {
     "name": "stdout",
     "output_type": "stream",
     "text": [
      "5 items retrieved from cache\n",
      "5 items retrieved from cache\n",
      "[0.68003176 0.44684799 0.40285892 0.69179817 0.52144034 0.24977493\n",
      " 0.88432116 0.40776111 0.53031332 0.6586828 ]\n"
     ]
    }
   ],
   "source": [
    "from epymorph.adrio.uscounties.dissimilarity_index import DissimilarityIndex\n",
    "\n",
    "adrio = DissimilarityIndex()    # Dissimilarity index for Afrian Americans for each county\n",
    "\n",
    "data = adrio.fetch(nodes=['04','08','49','35','32'])\n",
    "\n",
    "print(data[:10])"
   ]
  },
  {
   "attachments": {},
   "cell_type": "markdown",
   "metadata": {},
   "source": [
    "### GEO Assembly\n",
    "\n",
    "ADRIOs being able to individually fetch data is great, but we also need a more streamlined way to create a GEO object using data from a whole set of ADRIOs. That's where GEOSpecs come in. GEOSpecs are objects containing a list of geographic nodes and a list of ADRIOSpec objects, which are simply used to specify which ADRIOs to call on by their class name.\n",
    "\n",
    "The below code creates a GEOSpec object through its initializer and serializes it to a .geo file using a predefined serialize method. With this file created, an entry can be added to the geo_library in epymorph.data.__init__, mapping the name of the Geo (in this case us_sw_counties_2015) to a string file path pointing to its .geo file."
   ]
  },
  {
   "cell_type": "code",
   "execution_count": 10,
   "metadata": {},
   "outputs": [],
   "source": [
    "from epymorph.adrio.adrio import GEOSpec, ADRIOSpec, serialize\n",
    "\n",
    "spec = GEOSpec('us_sw_counties_2015', ['04','08','49','35','32'], \n",
    "                                       ADRIOSpec('NameAndState'),      # label ADRIO\n",
    "                                      [ADRIOSpec('Centroid'),\n",
    "                                       ADRIOSpec('MedianIncome'),\n",
    "                                       ADRIOSpec('Population'),\n",
    "                                       ADRIOSpec('PopulationByAge'),\n",
    "                                       ADRIOSpec('PopDensityKm2'),\n",
    "                                       ADRIOSpec('DissimilarityIndex')])\n",
    "\n",
    "serialize(spec, f'epymorph/data/geo/{spec.id}.geo')"
   ]
  },
  {
   "attachments": {},
   "cell_type": "markdown",
   "metadata": {},
   "source": [
    "With that done, the new Geo can be passed into the run command of the main epymorph program the same way existing .py Geo files have been. The only difference being that, instead of creating a Geo through the load function of a .py file, the Geo is created through a GEOBuilder object which uses a GEOSpec object to build a Geo through ADRIOs.\n",
    "\n",
    "The below code shows the run command being executed with an ADRIO-based Geo passed in. You can see the Geo's creation process execute after requirments are loaded. After that, the program will error out since this Geo does not yet have any ipm/mm combinations to accomidate its data. Nevertheless, the ability to load in Geos using this new methodology is aptly demonstrated."
   ]
  },
  {
   "cell_type": "code",
   "execution_count": 1,
   "metadata": {},
   "outputs": [
    {
     "name": "stdout",
     "output_type": "stream",
     "text": [
      "Loading requirements:\n",
      "[✓] IPM (simple_sirs)\n",
      "[✓] MM (no)\n",
      "[✓] Geo (us_sw_counties_2015)\n",
      "[✓] Parameters (file:/home/waff/Desktop/CCL/Epymorph/scratch/params.toml)\n",
      "Fetching GEO data from ADRIOs...\n",
      "Fetching label: name_and_state\n",
      "5 items retrieved from cache\n",
      "Fetching centroid\n",
      "5 items retrieved from cache\n",
      "Fetching median_income\n",
      "5 items retrieved from cache\n",
      "Fetching population\n",
      "5 items retrieved from cache\n",
      "Fetching population_by_age\n",
      "5 items retrieved from cache\n",
      "Fetching pop_density_km2\n",
      "5 items retrieved from cache\n",
      "5 items retrieved from cache\n",
      "Fetching dissimilarity_index\n",
      "5 items retrieved from cache\n",
      "5 items retrieved from cache\n",
      "...done\n",
      "\n",
      "Running simulation:\n",
      "• 2010-01-01 to 2010-05-31 (150 days)\n",
      "• 158 geo nodes\n",
      "|                    | 0% \r"
     ]
    },
    {
     "ename": "ValueError",
     "evalue": "setting an array element with a sequence.",
     "output_type": "error",
     "traceback": [
      "\u001b[0;31m---------------------------------------------------------------------------\u001b[0m",
      "\u001b[0;31mTypeError\u001b[0m                                 Traceback (most recent call last)",
      "\u001b[0;31mTypeError\u001b[0m: only size-1 arrays can be converted to Python scalars",
      "\nThe above exception was the direct cause of the following exception:\n",
      "\u001b[0;31mValueError\u001b[0m                                Traceback (most recent call last)",
      "Cell \u001b[0;32mIn[1], line 7\u001b[0m\n\u001b[1;32m      3\u001b[0m \u001b[39mfrom\u001b[39;00m \u001b[39mepymorph\u001b[39;00m\u001b[39m.\u001b[39;00m\u001b[39mrun\u001b[39;00m \u001b[39mimport\u001b[39;00m run\n\u001b[1;32m      5\u001b[0m \u001b[39mdir\u001b[39m \u001b[39m=\u001b[39m os\u001b[39m.\u001b[39mpath\u001b[39m.\u001b[39mexpanduser(\u001b[39m'\u001b[39m\u001b[39m~/Desktop/CCL/Epymorph/scratch\u001b[39m\u001b[39m'\u001b[39m)\n\u001b[0;32m----> 7\u001b[0m exit_code \u001b[39m=\u001b[39m run(\n\u001b[1;32m      8\u001b[0m     ipm_name \u001b[39m=\u001b[39;49m \u001b[39m'\u001b[39;49m\u001b[39msimple_sirs\u001b[39;49m\u001b[39m'\u001b[39;49m,\n\u001b[1;32m      9\u001b[0m     mm_name \u001b[39m=\u001b[39;49m \u001b[39m'\u001b[39;49m\u001b[39mno\u001b[39;49m\u001b[39m'\u001b[39;49m,\n\u001b[1;32m     10\u001b[0m     geo_name \u001b[39m=\u001b[39;49m \u001b[39m'\u001b[39;49m\u001b[39mus_sw_counties_2015\u001b[39;49m\u001b[39m'\u001b[39;49m,\n\u001b[1;32m     11\u001b[0m     start_date_str \u001b[39m=\u001b[39;49m \u001b[39m'\u001b[39;49m\u001b[39m2010-01-01\u001b[39;49m\u001b[39m'\u001b[39;49m,\n\u001b[1;32m     12\u001b[0m     duration_str \u001b[39m=\u001b[39;49m \u001b[39m'\u001b[39;49m\u001b[39m150d\u001b[39;49m\u001b[39m'\u001b[39;49m,\n\u001b[1;32m     13\u001b[0m     params_path \u001b[39m=\u001b[39;49m \u001b[39mf\u001b[39;49m\u001b[39m\"\u001b[39;49m\u001b[39m{\u001b[39;49;00m\u001b[39mdir\u001b[39;49m\u001b[39m}\u001b[39;49;00m\u001b[39m/params.toml\u001b[39;49m\u001b[39m\"\u001b[39;49m,\n\u001b[1;32m     14\u001b[0m     out_path \u001b[39m=\u001b[39;49m \u001b[39mNone\u001b[39;49;00m,\n\u001b[1;32m     15\u001b[0m     chart \u001b[39m=\u001b[39;49m \u001b[39m'\u001b[39;49m\u001b[39me0\u001b[39;49m\u001b[39m'\u001b[39;49m,\n\u001b[1;32m     16\u001b[0m     profiling \u001b[39m=\u001b[39;49m \u001b[39mFalse\u001b[39;49;00m\n\u001b[1;32m     17\u001b[0m )\n",
      "File \u001b[0;32m~/Desktop/CCL/Epymorph/epymorph/run.py:207\u001b[0m, in \u001b[0;36mrun\u001b[0;34m(ipm_name, mm_name, geo_name, start_date_str, duration_str, params_path, out_path, chart, profiling)\u001b[0m\n\u001b[1;32m    204\u001b[0m sim\u001b[39m.\u001b[39mon_end\u001b[39m.\u001b[39msubscribe(\u001b[39mlambda\u001b[39;00m _: \u001b[39mprint\u001b[39m(progress(\u001b[39m1.0\u001b[39m)))\n\u001b[1;32m    206\u001b[0m t0 \u001b[39m=\u001b[39m time\u001b[39m.\u001b[39mperf_counter()\n\u001b[0;32m--> 207\u001b[0m out \u001b[39m=\u001b[39m sim\u001b[39m.\u001b[39;49mrun(params, start_date, duration_days, progress\u001b[39m=\u001b[39;49m\u001b[39mTrue\u001b[39;49;00m)\n\u001b[1;32m    208\u001b[0m t1 \u001b[39m=\u001b[39m time\u001b[39m.\u001b[39mperf_counter()\n\u001b[1;32m    210\u001b[0m \u001b[39mprint\u001b[39m(\u001b[39mf\u001b[39m\u001b[39m\"\u001b[39m\u001b[39mRuntime: \u001b[39m\u001b[39m{\u001b[39;00m(t1\u001b[39m \u001b[39m\u001b[39m-\u001b[39m\u001b[39m \u001b[39mt0)\u001b[39m:\u001b[39;00m\u001b[39m.3f\u001b[39m\u001b[39m}\u001b[39;00m\u001b[39ms\u001b[39m\u001b[39m\"\u001b[39m)\n",
      "File \u001b[0;32m~/Desktop/CCL/Epymorph/epymorph/simulation.py:188\u001b[0m, in \u001b[0;36mSimulation.run\u001b[0;34m(self, param, start_date, duration_days, rng, progress)\u001b[0m\n\u001b[1;32m    185\u001b[0m mvm \u001b[39m=\u001b[39m \u001b[39mself\u001b[39m\u001b[39m.\u001b[39mmvm_builder\u001b[39m.\u001b[39mbuild(ctx)\n\u001b[1;32m    187\u001b[0m \u001b[39mself\u001b[39m\u001b[39m.\u001b[39mon_start\u001b[39m.\u001b[39mpublish(\u001b[39mNone\u001b[39;00m)\n\u001b[0;32m--> 188\u001b[0m out \u001b[39m=\u001b[39m \u001b[39mself\u001b[39;49m\u001b[39m.\u001b[39;49m_run_internal((ctx, ipm, mvm))\n\u001b[1;32m    189\u001b[0m \u001b[39mself\u001b[39m\u001b[39m.\u001b[39mon_end\u001b[39m.\u001b[39mpublish(\u001b[39mNone\u001b[39;00m)\n\u001b[1;32m    190\u001b[0m \u001b[39mreturn\u001b[39;00m out\n",
      "File \u001b[0;32m~/Desktop/CCL/Epymorph/epymorph/simulation.py:149\u001b[0m, in \u001b[0;36mSimulation._run_internal\u001b[0;34m(self, args)\u001b[0m\n\u001b[1;32m    146\u001b[0m \u001b[39mdef\u001b[39;00m \u001b[39m_run_internal\u001b[39m(\u001b[39mself\u001b[39m, args: \u001b[39mtuple\u001b[39m[SimContext, Ipm, Movement]) \u001b[39m-\u001b[39m\u001b[39m>\u001b[39m Output:\n\u001b[1;32m    147\u001b[0m     ctx, ipm, mvm \u001b[39m=\u001b[39m args\n\u001b[1;32m    148\u001b[0m     world \u001b[39m=\u001b[39m World\u001b[39m.\u001b[39minitialize(\n\u001b[0;32m--> 149\u001b[0m         \u001b[39mself\u001b[39;49m\u001b[39m.\u001b[39;49mipm_builder\u001b[39m.\u001b[39;49minitialize_compartments(ctx)\n\u001b[1;32m    150\u001b[0m     )\n\u001b[1;32m    151\u001b[0m     out \u001b[39m=\u001b[39m Output(ctx)\n\u001b[1;32m    152\u001b[0m     \u001b[39mfor\u001b[39;00m tick \u001b[39min\u001b[39;00m ctx\u001b[39m.\u001b[39mclock\u001b[39m.\u001b[39mticks:\n",
      "File \u001b[0;32m~/Desktop/CCL/Epymorph/epymorph/data/ipm/simple_sirs.py:41\u001b[0m, in \u001b[0;36mBuilder.initialize_compartments\u001b[0;34m(self, ctx)\u001b[0m\n\u001b[1;32m     39\u001b[0m \u001b[39m# The populations of all locations start off Susceptible.\u001b[39;00m\n\u001b[1;32m     40\u001b[0m \u001b[39mfor\u001b[39;00m i \u001b[39min\u001b[39;00m \u001b[39mrange\u001b[39m(num_nodes):\n\u001b[0;32m---> 41\u001b[0m     cs[i][\u001b[39m0\u001b[39;49m] \u001b[39m=\u001b[39m population[i]\n\u001b[1;32m     42\u001b[0m \u001b[39m# With a seeded infection in one location.\u001b[39;00m\n\u001b[1;32m     43\u001b[0m si \u001b[39m=\u001b[39m ctx\u001b[39m.\u001b[39mparam[\u001b[39m'\u001b[39m\u001b[39minfection_seed_loc\u001b[39m\u001b[39m'\u001b[39m]\n",
      "\u001b[0;31mValueError\u001b[0m: setting an array element with a sequence."
     ]
    }
   ],
   "source": [
    "import os\n",
    "\n",
    "from epymorph.run import run\n",
    "\n",
    "dir = os.path.expanduser('~/Desktop/CCL/Epymorph/scratch')\n",
    "\n",
    "exit_code = run(\n",
    "    ipm_name = 'simple_sirs',\n",
    "    mm_name = 'no',\n",
    "    geo_name = 'us_sw_counties_2015',\n",
    "    start_date_str = '2010-01-01',\n",
    "    duration_str = '150d',\n",
    "    params_path = f\"{dir}/params.toml\",\n",
    "    out_path = None,\n",
    "    chart = 'e0',\n",
    "    profiling = False\n",
    ")"
   ]
  },
  {
   "attachments": {},
   "cell_type": "markdown",
   "metadata": {},
   "source": [
    "### Caching\n",
    "In order to prevent long wait times for data retrieval every time the simulation runs, data fetched by ADRIOs are cached in CSV files located in a .cache folder in the adrio directory. Once data has been fetched and cached once, future retrieval of that data is instant. A CLI command also exists to fetch and cache data from ADRIOs without running the simulation, allowing users to pre-load or refresh their cache at any time. This is demonstrated below."
   ]
  },
  {
   "cell_type": "code",
   "execution_count": 2,
   "metadata": {},
   "outputs": [
    {
     "name": "stdout",
     "output_type": "stream",
     "text": [
      "Fetching GEO data from ADRIOs...\n",
      "Fetching label: name_and_state\n",
      "Fetching geographic_centroid\n",
      "Fetching median_income\n",
      "Fetching population\n",
      "Fetching population_by_age\n",
      "Fetching population_density\n",
      "Fetching dissimilarity_index\n",
      "...done\n",
      "Data successfully cached\n"
     ]
    }
   ],
   "source": [
    "from epymorph.__main__ import do_cache\n",
    "\n",
    "# \"cache\" subcommand demo\n",
    "exit_code = do_cache(\n",
    "    'us_sw_counties_2015',  # name of Geo\n",
    "    True                    # -f arg: determines whether to overwrite existing data\n",
    ")"
   ]
  }
 ],
 "metadata": {
  "kernelspec": {
   "display_name": ".venv",
   "language": "python",
   "name": "python3"
  },
  "language_info": {
   "codemirror_mode": {
    "name": "ipython",
    "version": 3
   },
   "file_extension": ".py",
   "mimetype": "text/x-python",
   "name": "python",
   "nbconvert_exporter": "python",
   "pygments_lexer": "ipython3",
   "version": "3.11.0"
  },
  "orig_nbformat": 4
 },
 "nbformat": 4,
 "nbformat_minor": 2
}
