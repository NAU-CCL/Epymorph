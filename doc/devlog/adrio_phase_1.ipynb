{
 "cells": [
  {
   "attachments": {},
   "cell_type": "markdown",
   "metadata": {},
   "source": [
    "### Active Data Resource Interface Objects (ADRIOs) Phase 1\n",
    "\n",
    "The ADRIO system is being developed as a way to simplify the process of assembling GEOs as part of the simulation workflow. ADRIOs are derived from an abstract class and each exists to interface with a specific resource and extract specific data from that resource (doing any necessary filtering and transformation along the way). Future implementations will utilize ADRIO templates for different data sources, but only a generalized outline exists for now. The ADRIOs created in this phase are used to satisfy an example use case. That is:\n",
    "\n",
    "I am a modeler working on a disease with human-to-human transmission and I believe certain social determinants of health are a significant factor in disease outcomes. I want to use EpiMoRPH to model a metapopulation at the county level in the US Southwest region. My existing disease data, that I hope to use for parameter fitting, comes from 2015. I need the following data for each county, filtering to Arizona, New Mexico, Nevada, Utah, and Colorado:\n",
    "\n",
    "- Each county’s name and state.\n",
    "- Geographic centroid.\n",
    "- Population in 2015, total as well as aggregated into age brackets: under 20, 20-to-64, and 65 and older.\n",
    "- Population density.\n",
    "- Median household annual income.\n",
    "- The [Dissimilarity Index](https://www.phenxtoolkit.org/protocols/view/211403) of racial segregation for selected minority groups (currently African Americans) calculated from the census tracts comprising each county.\n",
    "\n",
    "\n",
    "All data for this use case comes from Census tables and/or shape files. As such, a US Census API key is required to download much of it. These ADRIOs are configured to search for a key in an environment variable named \"CENSUS_API_KEY\". Please make sure you have an [API key](https://api.census.gov/data/key_signup.html) and have assigned it to an environment variable with this name if running the code yourself."
   ]
  },
  {
   "attachments": {},
   "cell_type": "markdown",
   "metadata": {},
   "source": [
    "### GEO Assembly\n",
    "\n",
    "ADRIOs being able to individually fetch data is great, but we also need a more streamlined way to create a GEO object using data from a whole set of ADRIOs. That's where GEOSpecs come in. GEOSpecs are objects containing a list of geographic nodes and a list of ADRIOSpec objects, which are simply used to specify which ADRIOs to call on by their class name.\n",
    "\n",
    "The below code creates a GEOSpec object through its initializer and serializes it to a .geo file using a predefined serialize method. With this file created, an entry can be added to the geo_library in epymorph.data.__init__, mapping the name of the Geo (in this case us_sw_counties_2015) to a string file path pointing to its .geo file."
   ]
  },
  {
   "cell_type": "code",
   "execution_count": 2,
   "metadata": {},
   "outputs": [],
   "source": [
    "from epymorph.adrio.adrio import GEOSpec, ADRIOSpec, serialize\n",
    "from epymorph.adrio.adrio_census import Granularity\n",
    "\n",
    "spec = GEOSpec('us_sw_counties_2015', Granularity.COUNTY.value,\n",
    "               {'state': ['04','08','49','35','32'], 'county': ['*'], 'tract': ['*']}, \n",
    "                                       ADRIOSpec('NameAndState'),      # label ADRIO\n",
    "                                      [ADRIOSpec('GEOID'),\n",
    "                                       ADRIOSpec('Centroid'),\n",
    "                                       ADRIOSpec('MedianIncome'),\n",
    "                                       ADRIOSpec('Population'),\n",
    "                                       ADRIOSpec('PopulationByAge'),\n",
    "                                       ADRIOSpec('PopDensityKm2'),\n",
    "                                       ADRIOSpec('DissimilarityIndex')], 2015)\n",
    "\n",
    "serialize(spec, f'epymorph/data/geo/{spec.id}.geo')"
   ]
  },
  {
   "attachments": {},
   "cell_type": "markdown",
   "metadata": {},
   "source": [
    "With that done, the new Geo can be passed into the run command of the main epymorph program the same way existing .py Geo files have been. The only difference being that, instead of creating a Geo through the load function of a .py file, the Geo is created through a GEOBuilder object which uses a GEOSpec object to build a Geo through ADRIOs.\n",
    "\n",
    "The below code shows the run command being executed with an ADRIO-based Geo passed in. You can see the Geo's creation process execute after requirments are loaded."
   ]
  },
  {
   "cell_type": "code",
   "execution_count": 2,
   "metadata": {},
   "outputs": [
    {
     "name": "stdout",
     "output_type": "stream",
     "text": [
      "Loading requirements:\n",
      "[✓] IPM (no)\n",
      "[✓] MM (no)\n",
      "[✓] Geo (us_sw_counties_2015)\n",
      "\n",
      "Running simulation (BasicEngine):\n",
      "• 2010-01-01 to 2010-05-31 (150 days)\n",
      "• 158 geo nodes\n",
      "|####################| 100% \n",
      "Runtime: 1.377s\n",
      "Done\n"
     ]
    }
   ],
   "source": [
    "from epymorph.run import run\n",
    "\n",
    "\"\"\"\n",
    "toml file contents:\n",
    "\n",
    "ipm = 'no'\n",
    "mm = 'no'\n",
    "geo = 'us_sw_counties_2015'\n",
    "start_date = '2010-01-01'\n",
    "duration = '150d'\n",
    "\n",
    "[params]\n",
    "theta = 0.1\n",
    "move_control = 0.9\n",
    "infection_duration = 4.0\n",
    "immunity_duration = 90.0\n",
    "infection_seed_loc = 0\n",
    "infection_seed_size = 10000\n",
    "\"\"\"\n",
    "\n",
    "exit_code = run(\n",
    "    input_path=\"scratch/adrio_test.toml\",\n",
    "    out_path= None,\n",
    "    chart=None,\n",
    "    profiling= False,\n",
    "    engine_id=None\n",
    ")"
   ]
  },
  {
   "cell_type": "markdown",
   "metadata": {},
   "source": [
    "### Individual ADRIOS"
   ]
  },
  {
   "cell_type": "code",
   "execution_count": 3,
   "metadata": {},
   "outputs": [
    {
     "name": "stdout",
     "output_type": "stream",
     "text": [
      "['Apache County, Arizona' 'Cochise County, Arizona'\n",
      " 'Coconino County, Arizona' 'Gila County, Arizona'\n",
      " 'Graham County, Arizona' 'Greenlee County, Arizona'\n",
      " 'La Paz County, Arizona' 'Maricopa County, Arizona'\n",
      " 'Mohave County, Arizona' 'Navajo County, Arizona']\n"
     ]
    }
   ],
   "source": [
    "from epymorph.adrio.census.name_and_state import NameAndState\n",
    "\n",
    "adrio = NameAndState(spec=spec) # County and state name for all counties\n",
    "\n",
    "data = adrio.fetch()\n",
    "\n",
    "print(data[:10])"
   ]
  },
  {
   "cell_type": "code",
   "execution_count": 4,
   "metadata": {},
   "outputs": [
    {
     "name": "stdout",
     "output_type": "stream",
     "text": [
      "['04001' '04003' '04005' '04007' '04009' '04011' '04012' '04013' '04015'\n",
      " '04017']\n"
     ]
    }
   ],
   "source": [
    "from epymorph.adrio.census.geoid import GEOID\n",
    "\n",
    "adrio = GEOID(spec=spec) # GEOID for all counties\n",
    "\n",
    "data = adrio.fetch()\n",
    "\n",
    "print(data[:10])"
   ]
  },
  {
   "cell_type": "code",
   "execution_count": 1,
   "metadata": {},
   "outputs": [
    {
     "name": "stdout",
     "output_type": "stream",
     "text": [
      "[(-109.488846  , 35.39561637) (-109.75114065, 31.87956519)\n",
      " (-111.77051224, 35.83872946) (-110.8117366 , 33.79975225)\n",
      " (-109.88743768, 32.93271631) (-109.24009746, 33.21535711)\n",
      " (-113.98133797, 33.72926405) (-112.49123307, 33.34883422)\n",
      " (-113.75790897, 35.70406048) (-110.32140293, 35.39953935)]\n"
     ]
    }
   ],
   "source": [
    "from epymorph.adrio.census.centroid import Centroid\n",
    "\n",
    "adrio = Centroid(spec=spec) # Geographic centroid for all counties\n",
    "\n",
    "data = adrio.fetch()\n",
    "\n",
    "print(data[:10])"
   ]
  },
  {
   "cell_type": "code",
   "execution_count": 1,
   "metadata": {},
   "outputs": [
    {
     "name": "stdout",
     "output_type": "stream",
     "text": [
      "[  72124  129647  136701   53165   37407    9023   20335 4018143  203362\n",
      "  107656]\n"
     ]
    }
   ],
   "source": [
    "from epymorph.adrio.census.population import Population\n",
    "\n",
    "adrio = Population(spec=spec)  # Total population for each county\n",
    "\n",
    "data = adrio.fetch()\n",
    "\n",
    "print(data[:10])"
   ]
  },
  {
   "cell_type": "code",
   "execution_count": 2,
   "metadata": {},
   "outputs": [
    {
     "name": "stdout",
     "output_type": "stream",
     "text": [
      "[[  22828   39037    9793]\n",
      " [  31434   71109   25723]\n",
      " [  34188   86420   15400]\n",
      " [  11621   26653   14018]\n",
      " [  11086   21271    4807]\n",
      " [   2779    5183    1125]\n",
      " [   3822    8872    7283]\n",
      " [1071519 2342120  562347]\n",
      " [  41094  105003   54455]\n",
      " [  32138   57385   17347]]\n"
     ]
    }
   ],
   "source": [
    "from epymorph.adrio.census.population_by_age import PopulationByAge\n",
    "\n",
    "adrio = PopulationByAge(spec=spec)  # Aggregated population for each county\n",
    "\n",
    "data = adrio.fetch()\n",
    "\n",
    "print(data[:10])"
   ]
  },
  {
   "cell_type": "code",
   "execution_count": 3,
   "metadata": {},
   "outputs": [
    {
     "name": "stdout",
     "output_type": "stream",
     "text": [
      "[31757 45075 50234 39751 45964 51628 34466 54229 38488 35921]\n"
     ]
    }
   ],
   "source": [
    "from epymorph.adrio.census.median_income import MedianIncome\n",
    "\n",
    "adrio = MedianIncome(spec=spec)  # Median income for each county\n",
    "\n",
    "data = adrio.fetch()\n",
    "\n",
    "print(data[:10])"
   ]
  },
  {
   "cell_type": "code",
   "execution_count": 2,
   "metadata": {},
   "outputs": [
    {
     "name": "stdout",
     "output_type": "stream",
     "text": [
      "[  2.   8.   3.   4.   3.   2.   2. 169.   6.   4.]\n"
     ]
    }
   ],
   "source": [
    "from epymorph.adrio.census.pop_density_km2 import PopDensityKm2\n",
    "\n",
    "adrio = PopDensityKm2(spec=spec) # Population density for each county\n",
    "\n",
    "data = adrio.fetch()\n",
    "\n",
    "print(data[:10])"
   ]
  },
  {
   "cell_type": "code",
   "execution_count": 2,
   "metadata": {},
   "outputs": [
    {
     "name": "stdout",
     "output_type": "stream",
     "text": [
      "[0.68003176 0.44684799 0.40285892 0.69179817 0.52144034 0.24977493\n",
      " 0.88432116 0.40776111 0.53031332 0.6586828 ]\n"
     ]
    }
   ],
   "source": [
    "from epymorph.adrio.census.dissimilarity_index import DissimilarityIndex\n",
    "\n",
    "adrio = DissimilarityIndex(spec=spec)    # Dissimilarity index for Afrian Americans for each county\n",
    "\n",
    "data = adrio.fetch()\n",
    "\n",
    "print(data[:10])"
   ]
  },
  {
   "cell_type": "markdown",
   "metadata": {},
   "source": [
    "### WIP ADRIOS\n",
    "\n",
    "The next four cells are used to demonstrate work in progress ADRIOs for the Maricopa county cbg 2019 geo. They fetch data at the block group or tract level which is not yet easy to implement into the current system. These ADRIOs do not have caching functionality, but rather fetch and output their data directly."
   ]
  },
  {
   "cell_type": "code",
   "execution_count": 5,
   "metadata": {},
   "outputs": [],
   "source": [
    "from epymorph.adrio.adrio import GEOSpec, ADRIOSpec, serialize\n",
    "from epymorph.adrio.adrio_census import Granularity\n",
    "\n",
    "maricopa = GEOSpec('maricopa_cbg_2019', Granularity.CBG.value,\n",
    "               {'state': ['04'], 'county': ['013'], 'tract': ['*'], 'block group': ['*']}, \n",
    "                                       ADRIOSpec('NameAndState'),      # label ADRIO\n",
    "                                      [ADRIOSpec('GEOID'),\n",
    "                                       ADRIOSpec('Centroid'),\n",
    "                                       ADRIOSpec('MedianIncome'),\n",
    "                                       ADRIOSpec('Population'),\n",
    "                                       ADRIOSpec('PopulationByAge'),\n",
    "                                       ADRIOSpec('PopulationByAgex6'),\n",
    "                                       ADRIOSpec('PopDensityKm2'),\n",
    "                                       ADRIOSpec('MedianAge'),\n",
    "                                       ADRIOSpec('AverageHouseholdSize'),\n",
    "                                       ADRIOSpec('GiniIndex')], 2015)\n",
    "\n",
    "serialize(maricopa, f'epymorph/data/geo/{maricopa.id}.geo')"
   ]
  },
  {
   "cell_type": "code",
   "execution_count": 6,
   "metadata": {},
   "outputs": [
    {
     "name": "stdout",
     "output_type": "stream",
     "text": [
      "[34.1 43.4 46.8 43.6 36.1 36.8 30.7 31.8 37.  39.3]\n"
     ]
    }
   ],
   "source": [
    "from epymorph.adrio.census.median_age import MedianAge\n",
    "\n",
    "adrio = MedianAge(spec=maricopa)\n",
    "\n",
    "data = adrio.fetch()\n",
    "\n",
    "print(data[:10])"
   ]
  },
  {
   "cell_type": "code",
   "execution_count": 2,
   "metadata": {},
   "outputs": [
    {
     "name": "stdout",
     "output_type": "stream",
     "text": [
      "[3.41 4.1  3.07 ... 1.7  1.67 2.23]\n"
     ]
    }
   ],
   "source": [
    "from epymorph.adrio.census.average_household_size import AverageHouseholdSize\n",
    "\n",
    "adrio = AverageHouseholdSize(spec=maricopa)\n",
    "\n",
    "data = adrio.fetch()\n",
    "\n",
    "print(data[:10])"
   ]
  },
  {
   "cell_type": "code",
   "execution_count": 5,
   "metadata": {},
   "outputs": [
    {
     "name": "stdout",
     "output_type": "stream",
     "text": [
      "[[764 481 614 328 137 170]\n",
      " [959 501 685 373  51  93]\n",
      " [668 471 643 326 112 179]\n",
      " [737 216 676 431 426 428]\n",
      " [327 496 329 388  80  28]\n",
      " [387 285 461 329 232 224]\n",
      " [816 249 705 201  89 109]\n",
      " [944 593 929 270 180 244]\n",
      " [246 154 384 235 102  34]\n",
      " [151 164 373 326 237 326]]\n"
     ]
    }
   ],
   "source": [
    "from epymorph.adrio.census.population_by_age_x6 import PopulationByAgex6\n",
    "\n",
    "adrio = PopulationByAgex6(spec=maricopa)\n",
    "\n",
    "data = adrio.fetch()\n",
    "\n",
    "print(data[:10])"
   ]
  },
  {
   "cell_type": "code",
   "execution_count": 4,
   "metadata": {},
   "outputs": [
    {
     "name": "stdout",
     "output_type": "stream",
     "text": [
      "[0.4423 0.5439 0.5185 0.4983 0.5608 0.3515 0.4376 0.4137 0.3742 0.3793]\n"
     ]
    }
   ],
   "source": [
    "from epymorph.adrio.census.gini_index import GiniIndex\n",
    "\n",
    "adrio = GiniIndex(spec=maricopa)\n",
    "\n",
    "data = adrio.fetch()\n",
    "\n",
    "print(data[:10])"
   ]
  },
  {
   "attachments": {},
   "cell_type": "markdown",
   "metadata": {},
   "source": [
    "### Caching\n",
    "In order to prevent long wait times for data retrieval every time the simulation runs, data fetched by ADRIOs are cached in CSV files located in a .cache folder in the adrio directory. Once data has been fetched and cached once, future retrieval of that data is instant. A CLI command also exists to fetch and cache data from ADRIOs without running the simulation, allowing users to pre-load or refresh their cache at any time. This is demonstrated below."
   ]
  },
  {
   "cell_type": "code",
   "execution_count": 2,
   "metadata": {},
   "outputs": [
    {
     "name": "stdout",
     "output_type": "stream",
     "text": [
      "Fetching GEO data from ADRIOs...\n",
      "Fetching name_and_state\n",
      "Fetching geoid\n",
      "Fetching centroid\n",
      "Fetching median_income\n",
      "Fetching population\n",
      "Fetching population_by_age\n",
      "Fetching pop_density_km2\n",
      "Fetching dissimilarity_index\n",
      "...done\n",
      "Data successfully cached\n"
     ]
    }
   ],
   "source": [
    "from epymorph.cache import cache_geo\n",
    "\n",
    "# \"cache\" subcommand demo\n",
    "exit_code = cache_geo(\n",
    "    'us_sw_counties_2015',  # name of Geo\n",
    "    True                    # -f arg: determines whether to overwrite existing data\n",
    ")"
   ]
  }
 ],
 "metadata": {
  "kernelspec": {
   "display_name": ".venv",
   "language": "python",
   "name": "python3"
  },
  "language_info": {
   "codemirror_mode": {
    "name": "ipython",
    "version": 3
   },
   "file_extension": ".py",
   "mimetype": "text/x-python",
   "name": "python",
   "nbconvert_exporter": "python",
   "pygments_lexer": "ipython3",
   "version": "3.11.0rc1"
  },
  "orig_nbformat": 4
 },
 "nbformat": 4,
 "nbformat_minor": 2
}
