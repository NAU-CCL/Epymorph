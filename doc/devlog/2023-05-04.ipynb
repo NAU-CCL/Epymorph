{
 "cells": [
  {
   "attachments": {},
   "cell_type": "markdown",
   "metadata": {},
   "source": [
    "# Epymorph dev log: May 4th, 2023\n",
    "\n",
    "_author: Tyler Coles_\n",
    "\n",
    "_as of git hash: e68975b8abfde0f9e02fc01889408c2b86da7ef7_\n",
    "\n",
    "Let's experiment with running simulations in parallel to take advantage of all of these fancy processor cores we've got. By default, Python runs in a single process in a single thread. But with a bit of work we can use Python's `multiprocessing` library to speed things up.\n",
    "\n",
    "There are potentially many ways to parallelize code execution, depending on what you're trying to accomplish. If we were trying to make a single simulation execution as fast as possible (especially imagining large EpiMoRPH simulations featuring many geo nodes) we would have to parallelize the inner workings of the program. This would be a very involved task!\n",
    "\n",
    "However we are also interested in other kinds of workloads, like running the same simulation many times in order to express the stochastic nature of our results. If we run this simulation 1,000 times, we could ask what are the maximum and minimum numbers of infections likely in North Carolina on day 30? Since each simulation run is entirely independent, we can divide and conquer without having to alter any program internals. We can run 1,000 trials across 4 parallel processes by running 250 on each. Then we gather and summarize the results. As we'll demonstrate, this is quite effective.\n",
    "\n",
    "## Setup"
   ]
  },
  {
   "cell_type": "code",
   "execution_count": 1,
   "metadata": {},
   "outputs": [],
   "source": [
    "import time\n",
    "from datetime import date\n",
    "from functools import reduce\n",
    "from itertools import repeat\n",
    "from multiprocessing import Pool\n",
    "\n",
    "import matplotlib.pyplot as plt\n",
    "import numpy as np\n",
    "\n",
    "from epymorph.simulation import Simulation, OutputAggregate\n",
    "from epymorph.model.geo_pei import load_geo as load_pei_geo\n",
    "from epymorph.model.ipm_pei import PeiModelBuilder as load_pei_ipm\n",
    "from epymorph.model.mvm_pei import load_mvm as load_pei_mvm\n",
    "\n",
    "\n",
    "# Run a number of `trials` across `parallelism` number of processes.\n",
    "# Return the total time spent running all trials.\n",
    "def run(parallelism: int, trials: int) -> float:\n",
    "    # Figure out how many \"chunks\" we need\n",
    "    chunks = list(repeat(trials // parallelism, parallelism))\n",
    "    chunks[0] += trials % parallelism # giving the remainder to the first process\n",
    "    assert sum(chunks) == trials\n",
    "    \n",
    "    # Then process the chunks in parallel\n",
    "    t0 = time.perf_counter()\n",
    "    with Pool(parallelism) as p:\n",
    "        results = p.map(_process_chunk, chunks)\n",
    "    # Finally merge as though we were going to use the output\n",
    "    # although all we're interested in now is the execution time.\n",
    "    reduce(lambda a, b: a.merge(b), results)\n",
    "    t1 = time.perf_counter()\n",
    "    return t1 - t0\n",
    "\n",
    "# Create the simulation and run a chunk of trials on a single thread.\n",
    "# Simulation has a method for this.\n",
    "def _process_chunk(trials: int) -> OutputAggregate:\n",
    "    return Simulation(\n",
    "        geo=load_pei_geo(),\n",
    "        ipm_builder=load_pei_ipm(),\n",
    "        mvm_builder=load_pei_mvm()\n",
    "    ).run_trials(\n",
    "        trials,\n",
    "        param={\n",
    "            'theta': 0.1,\n",
    "            'move_control': 0.9,\n",
    "            'infection_duration': 4.0,\n",
    "            'immunity_duration': 90.0,\n",
    "            'infection_seed_loc': 0,\n",
    "            'infection_seed_size': 10_000\n",
    "        },\n",
    "        start_date = date(2023, 1, 1),\n",
    "        duration_days = 150,\n",
    "        rng=np.random.default_rng(1)\n",
    "    )"
   ]
  },
  {
   "attachments": {},
   "cell_type": "markdown",
   "metadata": {},
   "source": [
    "## Blasting our cores\n",
    "\n",
    "With the setup out of the way, we can test the effect of increasing numbers of parallel processes on the average runtime per simulation.\n",
    "\n",
    "My machine is an 8-core Intel i7-9700 (max 4.7 GHz). Running this takes almost 22 minutes. Your results will vary based on your technical specs!"
   ]
  },
  {
   "cell_type": "code",
   "execution_count": 2,
   "metadata": {},
   "outputs": [],
   "source": [
    "# How many parallel processes per attempt?\n",
    "procs = [1, 2, 4, 6, 8, 10, 12]\n",
    "\n",
    "# Average run time for each `pars` running 10, 100, and 1000 trials\n",
    "avg_10   = [1000 * run(p, 10) / 10 for p in procs]\n",
    "avg_100  = [1000 * run(p, 100) / 100 for p in procs]\n",
    "avg_1000 = [1000 * run(p, 1000) / 1000 for p in procs]"
   ]
  },
  {
   "attachments": {},
   "cell_type": "markdown",
   "metadata": {},
   "source": [
    "And now we can scatter plot the average runtimes."
   ]
  },
  {
   "cell_type": "code",
   "execution_count": 3,
   "metadata": {},
   "outputs": [
    {
     "data": {
      "image/png": "[encoded data removed]",
      "text/plain": [
       "<Figure size 640x480 with 1 Axes>"
      ]
     },
     "metadata": {},
     "output_type": "display_data"
    }
   ],
   "source": [
    "fig, ax = plt.subplots()\n",
    "ax.set_title('Average runtime per simulation, parallelized')\n",
    "ax.set_xlabel('parallel processes')\n",
    "ax.set_ylabel('time (ms)')\n",
    "x_axis = range(len(procs))\n",
    "ax.set_xticks(x_axis, procs)\n",
    "ax.scatter(x_axis, avg_10, label=\"10 trials\")\n",
    "ax.scatter(x_axis, avg_100, label=\"100 trials\")\n",
    "ax.scatter(x_axis, avg_1000, label=\"1000 trials\")\n",
    "ax.legend()\n",
    "fig.tight_layout()\n",
    "plt.show()"
   ]
  },
  {
   "attachments": {},
   "cell_type": "markdown",
   "metadata": {},
   "source": [
    "Running only 10 trials, we get a lot of noise likely due to the fact that the overhead of handling child processes is around the same order of magnitude as actual simulation processing time, as well as interference from other activity on the machine. And at high numbers of processes we actually reverse gains from running in parallel.\n",
    "\n",
    "Running 100 and 1,000 tasks however, we see a roughly exponential speed-up by engaging more cores until we hit eight, the number of cores on the machine. Adding more processes past this point definitely does not improve performance. Interestingly, the penalty from the extra overhead is still pretty low. I suspect if we kept going (say 64 processes) we'd see the price of overhead."
   ]
  },
  {
   "cell_type": "code",
   "execution_count": 4,
   "metadata": {},
   "outputs": [
    {
     "name": "stdout",
     "output_type": "stream",
     "text": [
      "93.2980034999855\n",
      "222.82322790000762\n"
     ]
    }
   ],
   "source": [
    "print(1000 * run(8, 100) / 100)\n",
    "print(1000 * run(64, 100) / 100)"
   ]
  },
  {
   "attachments": {},
   "cell_type": "markdown",
   "metadata": {},
   "source": [
    "Yeah! Like that."
   ]
  }
 ],
 "metadata": {
  "kernelspec": {
   "display_name": ".venv",
   "language": "python",
   "name": "python3"
  },
  "language_info": {
   "codemirror_mode": {
    "name": "ipython",
    "version": 3
   },
   "file_extension": ".py",
   "mimetype": "text/x-python",
   "name": "python",
   "nbconvert_exporter": "python",
   "pygments_lexer": "ipython3",
   "version": "3.11.0rc1"
  },
  "orig_nbformat": 4
 },
 "nbformat": 4,
 "nbformat_minor": 2
}
