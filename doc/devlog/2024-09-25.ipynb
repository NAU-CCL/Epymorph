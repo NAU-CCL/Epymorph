{
 "cells": [
  {
   "cell_type": "markdown",
   "metadata": {},
   "source": [
    "# 2024/09/25 Humidity Demo\n",
    "_Author: Meaghan Freund_\n",
    "\n",
    "Demonstrations for calculating relative and absolute humidity."
   ]
  },
  {
   "cell_type": "markdown",
   "metadata": {},
   "source": [
    "### Relative Humidity (%)"
   ]
  },
  {
   "cell_type": "code",
   "execution_count": 1,
   "metadata": {},
   "outputs": [
    {
     "name": "stdout",
     "output_type": "stream",
     "text": [
      "Loading epymorph.adrio.us_tiger.GeometricCentroid:\n",
      "  |####################| 100%  (1.566s)\n",
      "Loading epymorph.adrio.prism.Temperature:\n",
      "  |####################| 100%  (0.197s)\n",
      "Loading epymorph.adrio.prism.DewPoint:\n",
      "  |####################| 100%  (0.188s)\n",
      "Loading epymorph.adrio.humidity.RelativeHumidity:\n",
      "  |####################| 100%  (0.000s)\n"
     ]
    }
   ],
   "source": [
    "from datetime import date\n",
    "from epymorph.kit import *\n",
    "from epymorph.adrio import us_tiger, prism, humidity\n",
    "\n",
    "\n",
    "scope = StateScope.in_states([\"FL\", \"GA\", \"MD\", \"NC\", \"SC\", \"VA\"], year=2020)\n",
    "\n",
    "time_period = TimeFrame.range(date(2015, 9, 1), date(2015, 9, 15))\n",
    "\n",
    "dim = SimDimensions.build(\n",
    "    start_date=time_period.start_date,\n",
    "    days=time_period.duration_days,\n",
    "    nodes=scope.nodes,\n",
    "    tau_step_lengths=[1.0],\n",
    "    compartments=1,\n",
    "    events=0,\n",
    ")\n",
    "\n",
    "with sim_messaging():\n",
    "    relH = (\n",
    "        humidity.RelativeHumidity()\n",
    "        .with_context(\n",
    "            scope=scope,\n",
    "            dim=dim,\n",
    "            params={\n",
    "                \"centroid\": us_tiger.GeometricCentroid(),\n",
    "                \"temperature\": prism.Temperature(time_period, \"Mean\"),\n",
    "                \"dewpoint\": prism.DewPoint(time_period),\n",
    "            },\n",
    "        )\n",
    "        .evaluate()\n",
    "    )"
   ]
  },
  {
   "cell_type": "code",
   "execution_count": 2,
   "metadata": {},
   "outputs": [
    {
     "name": "stdout",
     "output_type": "stream",
     "text": [
      "States: ['12' '13' '24' '37' '45' '51']\n",
      "\n",
      "Relative Humidity %:\n",
      " [[82.29247707 78.73673715 70.56217196 90.31227335 76.14893317 74.48283823]\n",
      " [85.25185444 72.48473366 67.41792538 70.68458439 70.01324731 69.17132151]\n",
      " [78.29976357 75.54821181 67.15069971 67.48447965 67.13281399 67.73227384]\n",
      " [77.32186688 80.19254851 67.01082176 70.51711361 73.6904453  68.21675678]\n",
      " [79.93455281 68.10161981 67.9206651  69.85678071 67.00621659 74.10909072]\n",
      " [75.81833625 71.89186563 74.84465422 76.6365127  70.37072625 77.65832266]\n",
      " [74.34317473 75.70718238 60.61078428 80.48693349 73.27456982 68.48137665]\n",
      " [84.95526673 81.65340323 67.8126301  76.89748941 74.37605125 73.30764455]\n",
      " [81.79063605 78.07472153 66.82747446 78.40718529 77.2757879  72.09381854]\n",
      " [78.33560913 78.30970421 66.91818963 76.00375206 73.22660548 71.21517857]\n",
      " [79.10596205 73.49101524 74.43710298 75.07644244 72.31160603 86.17382683]\n",
      " [75.26973271 77.30220293 64.54166222 80.32495257 74.14833877 70.34289327]\n",
      " [82.36947073 89.88308743 86.42973676 86.60547114 86.70889621 89.37982246]\n",
      " [87.03743915 61.83458686 61.69276135 59.5260582  56.20604293 64.50581352]\n",
      " [74.2548915  62.02495383 56.46315471 56.88246216 55.68443265 61.12441233]]\n",
      "\n"
     ]
    }
   ],
   "source": [
    "print(f\"States: {scope.node_ids}\\n\")\n",
    "\n",
    "print(f\"Relative Humidity %:\\n {relH}\\n\")"
   ]
  },
  {
   "cell_type": "markdown",
   "metadata": {},
   "source": [
    "### Absolute Humidity (kg/m^3)"
   ]
  },
  {
   "cell_type": "code",
   "execution_count": 3,
   "metadata": {},
   "outputs": [
    {
     "name": "stdout",
     "output_type": "stream",
     "text": [
      "Loading epymorph.adrio.us_tiger.GeometricCentroid:\n",
      "  |####################| 100%  (1.527s)\n",
      "Loading epymorph.adrio.prism.Temperature:\n",
      "  |####################| 100%  (0.189s)\n",
      "Loading epymorph.adrio.prism.DewPoint:\n",
      "  |####################| 100%  (0.190s)\n",
      "Loading epymorph.adrio.humidity.AbsoluteHumidity:\n",
      "Loading epymorph.adrio.humidity.RelativeHumidity:\n",
      "  |####################| 100%  (0.000s)\n",
      "  |####################| 100%  (0.000s)\n"
     ]
    }
   ],
   "source": [
    "from datetime import date\n",
    "from epymorph.kit import *\n",
    "from epymorph.adrio import us_tiger, prism, humidity\n",
    "\n",
    "\n",
    "scope = StateScope.in_states([\"FL\", \"GA\", \"MD\", \"NC\", \"SC\", \"VA\"], year=2020)\n",
    "\n",
    "time_period = TimeFrame.range(date(2015, 9, 1), date(2015, 9, 15))\n",
    "\n",
    "dim = SimDimensions.build(\n",
    "    start_date=time_period.start_date,\n",
    "    days=time_period.duration_days,\n",
    "    nodes=scope.nodes,\n",
    "    tau_step_lengths=[1.0],\n",
    "    compartments=1,\n",
    "    events=0,\n",
    ")\n",
    "\n",
    "with sim_messaging():\n",
    "    absH = (\n",
    "        humidity.AbsoluteHumidity()\n",
    "        .with_context(\n",
    "            scope=scope,\n",
    "            dim=dim,\n",
    "            params={\n",
    "                \"centroid\": us_tiger.GeometricCentroid(),\n",
    "                \"temperature\": prism.Temperature(time_period, \"Mean\"),\n",
    "                \"dewpoint\": prism.DewPoint(time_period),\n",
    "                \"relativehumidity\": humidity.RelativeHumidity(),\n",
    "            },\n",
    "        )\n",
    "        .evaluate()\n",
    "    )"
   ]
  },
  {
   "cell_type": "code",
   "execution_count": 4,
   "metadata": {},
   "outputs": [
    {
     "name": "stdout",
     "output_type": "stream",
     "text": [
      "States: ['12' '13' '24' '37' '45' '51']\n",
      "\n",
      "Absolute Humidity in kilograms/m^3:\n",
      " [[0.02157049 0.01756676 0.01619405 0.01713875 0.01772859 0.01615852]\n",
      " [0.02196012 0.01795541 0.01697285 0.01679116 0.01778455 0.01695887]\n",
      " [0.02144872 0.0191554  0.0165168  0.01696885 0.01825382 0.0159444 ]\n",
      " [0.02165772 0.01945792 0.0170474  0.01703492 0.01899462 0.01663736]\n",
      " [0.02040071 0.01781235 0.01724438 0.01715848 0.01777634 0.01714062]\n",
      " [0.02036741 0.01728276 0.0145759  0.01683907 0.01703094 0.01598974]\n",
      " [0.02004383 0.01709421 0.01193905 0.01717102 0.01756007 0.01442969]\n",
      " [0.02104921 0.01831033 0.01569843 0.01734535 0.01813853 0.01624217]\n",
      " [0.02111527 0.01925519 0.01722752 0.01858397 0.01926944 0.01734197]\n",
      " [0.02167872 0.01893431 0.01819047 0.01919721 0.01936023 0.01833424]\n",
      " [0.02153306 0.01797879 0.01564714 0.01801404 0.01788959 0.01784365]\n",
      " [0.02060285 0.01778488 0.01247926 0.01763154 0.01783718 0.01448929]\n",
      " [0.02064383 0.01444779 0.01458403 0.0154779  0.01575996 0.01438727]\n",
      " [0.01796495 0.00944938 0.00850683 0.00863338 0.0092333  0.0085051 ]\n",
      " [0.01828865 0.01049121 0.00855442 0.00852249 0.00897823 0.00858981]]\n",
      "\n"
     ]
    }
   ],
   "source": [
    "print(f\"States: {scope.node_ids}\\n\")\n",
    "\n",
    "print(f\"Absolute Humidity in kilograms/m^3:\\n {absH}\\n\")"
   ]
  }
 ],
 "metadata": {
  "kernelspec": {
   "display_name": ".venv",
   "language": "python",
   "name": "python3"
  },
  "language_info": {
   "codemirror_mode": {
    "name": "ipython",
    "version": 3
   },
   "file_extension": ".py",
   "mimetype": "text/x-python",
   "name": "python",
   "nbconvert_exporter": "python",
   "pygments_lexer": "ipython3",
   "version": "3.11.11"
  }
 },
 "nbformat": 4,
 "nbformat_minor": 2
}
