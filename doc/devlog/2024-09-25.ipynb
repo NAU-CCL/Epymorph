{
 "cells": [
  {
   "cell_type": "markdown",
   "metadata": {},
   "source": [
    "# 2024/09/25 Humidity Demo\n",
    "_Author: Meaghan Freund_\n",
    "\n",
    "Demonstrations for calculating relative and absolute humidity."
   ]
  },
  {
   "cell_type": "markdown",
   "metadata": {},
   "source": [
    "### Relative Humidity (%)"
   ]
  },
  {
   "cell_type": "code",
   "execution_count": 1,
   "metadata": {},
   "outputs": [],
   "source": [
    "from epymorph.geography.us_census import StateScope\n",
    "from epymorph import *\n",
    "from epymorph.adrio import acs5, us_tiger\n",
    "from epymorph.simulator.data import evaluate_param\n",
    "from datetime import date\n",
    "from epymorph.adrio import prism, humidity\n",
    "\n",
    "\n",
    "county_scope = StateScope.in_states_by_code([\"FL\", \"GA\", \"MD\", \"NC\", \"SC\", \"VA\"])\n",
    "time_period = TimeFrame.range(date(2015, 1, 1), date(2015, 1, 15))\n",
    "geoids = county_scope.get_node_ids()\n",
    "\n",
    "rume = SingleStrataRume.build(\n",
    "    ipm_library[\"no\"](),\n",
    "    mm_library[\"no\"](),\n",
    "    init.NoInfection(),\n",
    "    scope=county_scope,\n",
    "    time_frame=time_period,\n",
    "    params={\n",
    "        \"population\": acs5.Population(),\n",
    "        \"centroid\": us_tiger.GeometricCentroid(),\n",
    "        \"temperature\": prism.Temperature(time_period, \"Mean\"),\n",
    "        \"dewpoint\": prism.DewPoint(time_period),\n",
    "        \"relativehumidity\": humidity.RelativeHumidity(),\n",
    "    },\n",
    ")\n",
    "\n",
    "relH = evaluate_param(rume, \"relativehumidity\")\n"
   ]
  },
  {
   "cell_type": "code",
   "execution_count": 2,
   "metadata": {},
   "outputs": [
    {
     "name": "stdout",
     "output_type": "stream",
     "text": [
      "States: ['12' '13' '24' '37' '45' '51']\n",
      "\n",
      "Relative Humidity %:\n",
      " [[ 83.61927163  79.87217601  56.43918036  67.5494922   73.7501839\n",
      "   50.58387268]\n",
      " [ 85.98317408  78.23812415  61.12279595  80.89997286  77.99601048\n",
      "   53.45116124]\n",
      " [ 89.1552689   83.47227924  60.69525932  84.16171241  86.48476124\n",
      "   68.07457157]\n",
      " [ 79.08083496  99.76319877  89.46953623  83.98141437  92.6651085\n",
      "   97.21622206]\n",
      " [ 81.80074711  88.29827061  69.47385839  92.38753794  94.73891079\n",
      "   80.64134223]\n",
      " [ 70.24037954  60.39284731  39.34112873  57.22515057  66.00795954\n",
      "   41.48133863]\n",
      " [ 81.23449933  52.73150648  82.05882746  56.82248301  52.36634863\n",
      "   49.24377893]\n",
      " [ 55.12471405  45.63406582  46.17231149  45.04803095  47.32503641\n",
      "   39.33834348]\n",
      " [ 69.95583264  45.49818487  43.64381603  40.48591661  41.53884835\n",
      "   40.93676006]\n",
      " [ 71.59209294  37.78576987  40.55630956  38.1181184   33.52148228\n",
      "   36.38055726]\n",
      " [ 71.15411018  37.55047596  48.15219392  42.49742606  35.88669005\n",
      "   40.32263822]\n",
      " [ 93.40036053  74.6427846   82.0149808   65.51667145  61.48872745\n",
      "   61.94998441]\n",
      " [ 88.1841062  100.02747117  88.83016024  99.8761043  100.01355073\n",
      "  100.02122448]\n",
      " [ 84.40083324  99.4272854   50.8095516   91.56428615  92.69596108\n",
      "   69.94511923]\n",
      " [ 82.99559806  90.37184528  77.73585574  99.39281218  87.32125546\n",
      "   99.74957926]]\n",
      "\n"
     ]
    }
   ],
   "source": [
    "print(f\"States: {geoids}\\n\")\n",
    "\n",
    "print(f\"Relative Humidity %:\\n {relH}\\n\")"
   ]
  },
  {
   "cell_type": "markdown",
   "metadata": {},
   "source": [
    "### Absolute Humidity (kg/m^3)"
   ]
  },
  {
   "cell_type": "code",
   "execution_count": 3,
   "metadata": {},
   "outputs": [],
   "source": [
    "from epymorph.geography.us_census import StateScope\n",
    "from epymorph import *\n",
    "from epymorph.adrio import acs5, us_tiger\n",
    "from epymorph.simulator.data import evaluate_param\n",
    "from datetime import date\n",
    "from epymorph.adrio import prism, humidity\n",
    "\n",
    "\n",
    "county_scope = StateScope.in_states_by_code([\"FL\", \"GA\", \"MD\", \"NC\", \"SC\", \"VA\"])\n",
    "time_period = TimeFrame.range(date(2015, 1, 1), date(2015, 1, 15))\n",
    "geoids = county_scope.get_node_ids()\n",
    "\n",
    "rume = SingleStrataRume.build(\n",
    "    ipm_library[\"no\"](),\n",
    "    mm_library[\"no\"](),\n",
    "    init.NoInfection(),\n",
    "    scope=county_scope,\n",
    "    time_frame=time_period,\n",
    "    params={\n",
    "        \"population\": acs5.Population(),\n",
    "        \"centroid\": us_tiger.GeometricCentroid(),\n",
    "        \"temperature\": prism.Temperature(time_period, \"Mean\"),\n",
    "        \"dewpoint\": prism.DewPoint(time_period),\n",
    "        \"absH\": humidity.AbsoluteHumidity(),\n",
    "        \"relativehumidity\": humidity.RelativeHumidity(),\n",
    "    },\n",
    ")\n",
    "\n",
    "absH = evaluate_param(rume, \"absH\")\n",
    "temperature = evaluate_param(rume, \"temperature\")"
   ]
  },
  {
   "cell_type": "code",
   "execution_count": 4,
   "metadata": {},
   "outputs": [
    {
     "name": "stdout",
     "output_type": "stream",
     "text": [
      "States: ['12' '13' '24' '37' '45' '51']\n",
      "\n",
      "Absolute Humidity in kilograms/m^3:\n",
      " [[0.01085655 0.00577876 0.00215845 0.00368196 0.00476881 0.00247064]\n",
      " [0.01278304 0.00623837 0.00281835 0.00495549 0.00595335 0.00321913]\n",
      " [0.01576369 0.0081994  0.00338341 0.00716931 0.00842705 0.00489881]\n",
      " [0.01661666 0.01319691 0.00571111 0.00950758 0.01228919 0.00676053]\n",
      " [0.0162739  0.00932434 0.00678746 0.01025527 0.01110052 0.00751644]\n",
      " [0.00901315 0.00427643 0.00179686 0.00360452 0.00491348 0.00231688]\n",
      " [0.00930235 0.00410924 0.00260727 0.0037623  0.00409085 0.00267434]\n",
      " [0.00526389 0.00222888 0.00122192 0.00168292 0.00224878 0.00115047]\n",
      " [0.00542149 0.00165614 0.00117033 0.00121764 0.00142985 0.00107115]\n",
      " [0.00649437 0.00205779 0.00160709 0.00197537 0.00209953 0.00157747]\n",
      " [0.00720717 0.00239043 0.00133877 0.00171033 0.00209357 0.00133249]\n",
      " [0.01436508 0.00561416 0.00300649 0.00314602 0.00393966 0.00263761]\n",
      " [0.0148984  0.00760028 0.0050097  0.00741854 0.00847656 0.00596073]\n",
      " [0.01390671 0.00784824 0.00212202 0.00508417 0.00670789 0.00314273]\n",
      " [0.01095293 0.00615338 0.00316374 0.00484091 0.00530213 0.00420527]]\n",
      "\n"
     ]
    }
   ],
   "source": [
    "print(f\"States: {geoids}\\n\")\n",
    "\n",
    "print(f\"Absolute Humidity in kilograms/m^3:\\n {absH}\\n\")"
   ]
  }
 ],
 "metadata": {
  "kernelspec": {
   "display_name": ".venv",
   "language": "python",
   "name": "python3"
  },
  "language_info": {
   "codemirror_mode": {
    "name": "ipython",
    "version": 3
   },
   "file_extension": ".py",
   "mimetype": "text/x-python",
   "name": "python",
   "nbconvert_exporter": "python",
   "pygments_lexer": "ipython3",
   "version": "3.11.0rc1"
  }
 },
 "nbformat": 4,
 "nbformat_minor": 2
}
