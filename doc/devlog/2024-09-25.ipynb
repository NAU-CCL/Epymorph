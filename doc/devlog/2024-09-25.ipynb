{
 "cells": [
  {
   "cell_type": "markdown",
   "metadata": {},
   "source": [
    "# 2024/09/25 Humidity Demo\n",
    "_Author: Meaghan Freund_\n",
    "\n",
    "Demonstrations for calculating relative and absolute humidity."
   ]
  },
  {
   "cell_type": "markdown",
   "metadata": {},
   "source": [
    "### Relative Humidity (%)"
   ]
  },
  {
   "cell_type": "code",
   "execution_count": 7,
   "metadata": {},
   "outputs": [],
   "source": [
    "from epymorph.geography.us_census import StateScope\n",
    "from epymorph import *\n",
    "from epymorph.adrio import acs5, us_tiger\n",
    "from epymorph.simulator.data import evaluate_param\n",
    "from datetime import date\n",
    "from epymorph.adrio import prism, humidity\n",
    "\n",
    "\n",
    "county_scope = StateScope.in_states_by_code([\"FL\", \"GA\", \"MD\", \"NC\", \"SC\", \"VA\"])\n",
    "time_period = TimeFrame.range(date(2015, 1, 1), date(2015, 1, 15))\n",
    "geoids = county_scope.get_node_ids()\n",
    "\n",
    "rume = SingleStrataRume.build(\n",
    "    ipm_library[\"no\"](),\n",
    "    mm_library[\"no\"](),\n",
    "    init.NoInfection(),\n",
    "    scope=county_scope,\n",
    "    time_frame=time_period,\n",
    "    params={\n",
    "        \"population\": acs5.Population(),\n",
    "        \"centroid\": us_tiger.GeometricCentroid(),\n",
    "        \"temperature\": prism.Temperature(time_period, \"Mean\"),\n",
    "        \"dewpoint\": prism.DewPoint(time_period),\n",
    "        \"relativehumidity\": humidity.RelativeHumidity(),\n",
    "    },\n",
    ")\n",
    "\n",
    "relH = evaluate_param(rume, \"relativehumidity\")"
   ]
  },
  {
   "cell_type": "code",
   "execution_count": 8,
   "metadata": {},
   "outputs": [
    {
     "name": "stdout",
     "output_type": "stream",
     "text": [
      "States: ['12' '13' '24' '37' '45' '51']\n",
      "\n",
      "Relative Humidity %:\n",
      " [[ 83.61927163  79.87217601  56.43918036  67.5494922   73.7501839\n",
      "   50.58387268]\n",
      " [ 85.98317408  78.23812415  61.12279595  80.89997286  77.99601048\n",
      "   53.45116124]\n",
      " [ 89.1552689   83.47227924  60.69525932  84.16171241  86.48476124\n",
      "   68.07457157]\n",
      " [ 79.08083496  99.76319877  89.46953623  83.98141437  92.6651085\n",
      "   97.21622206]\n",
      " [ 81.80074711  88.29827061  69.47385839  92.38753794  94.73891079\n",
      "   80.64134223]\n",
      " [ 70.24037954  60.39284731  39.34112873  57.22515057  66.00795954\n",
      "   41.48133863]\n",
      " [ 81.23449933  52.73150648  82.05882746  56.82248301  52.36634863\n",
      "   49.24377893]\n",
      " [ 55.12471405  45.63406582  46.17231149  45.04803095  47.32503641\n",
      "   39.33834348]\n",
      " [ 69.95583264  45.49818487  43.64381603  40.48591661  41.53884835\n",
      "   40.93676006]\n",
      " [ 71.59209294  37.78576987  40.55630956  38.1181184   33.52148228\n",
      "   36.38055726]\n",
      " [ 71.15411018  37.55047596  48.15219392  42.49742606  35.88669005\n",
      "   40.32263822]\n",
      " [ 93.40036053  74.6427846   82.0149808   65.51667145  61.48872745\n",
      "   61.94998441]\n",
      " [ 88.1841062  100.02747117  88.83016024  99.8761043  100.01355073\n",
      "  100.02122448]\n",
      " [ 84.40083324  99.4272854   50.8095516   91.56428615  92.69596108\n",
      "   69.94511923]\n",
      " [ 82.99559806  90.37184528  77.73585574  99.39281218  87.32125546\n",
      "   99.74957926]]\n",
      "\n"
     ]
    }
   ],
   "source": [
    "print(f\"States: {geoids}\\n\")\n",
    "\n",
    "print(f\"Relative Humidity %:\\n {relH}\\n\")"
   ]
  },
  {
   "cell_type": "markdown",
   "metadata": {},
   "source": [
    "### Absolute Humidity (kg/m^3)"
   ]
  },
  {
   "cell_type": "code",
   "execution_count": 9,
   "metadata": {},
   "outputs": [],
   "source": [
    "from epymorph.geography.us_census import StateScope\n",
    "from epymorph import *\n",
    "from epymorph.adrio import acs5, us_tiger\n",
    "from epymorph.simulator.data import evaluate_param\n",
    "from datetime import date\n",
    "from epymorph.adrio import prism, humidity\n",
    "\n",
    "\n",
    "county_scope = StateScope.in_states_by_code([\"FL\", \"GA\", \"MD\", \"NC\", \"SC\", \"VA\"])\n",
    "time_period = TimeFrame.range(date(2015, 1, 1), date(2015, 1, 15))\n",
    "geoids = county_scope.get_node_ids()\n",
    "\n",
    "rume = SingleStrataRume.build(\n",
    "    ipm_library[\"no\"](),\n",
    "    mm_library[\"no\"](),\n",
    "    init.NoInfection(),\n",
    "    scope=county_scope,\n",
    "    time_frame=time_period,\n",
    "    params={\n",
    "        \"population\": acs5.Population(),\n",
    "        \"centroid\": us_tiger.GeometricCentroid(),\n",
    "        \"temperature\": prism.Temperature(time_period, \"Mean\"),\n",
    "        \"dewpoint\": prism.DewPoint(time_period),\n",
    "        \"absH\": humidity.AbsoluteHumidity(),\n",
    "        \"relativehumidity\": humidity.RelativeHumidity(),\n",
    "    },\n",
    ")\n",
    "\n",
    "absH = evaluate_param(rume, \"absH\")\n",
    "temperature = evaluate_param(rume, \"temperature\")"
   ]
  },
  {
   "cell_type": "code",
   "execution_count": 10,
   "metadata": {},
   "outputs": [
    {
     "name": "stdout",
     "output_type": "stream",
     "text": [
      "States: ['12' '13' '24' '37' '45' '51']\n",
      "\n",
      "Absolute Humidity in kilograms/m^3:\n",
      " [[0.01086831 0.00578211 0.00215872 0.0036833  0.00477116 0.00247135]\n",
      " [0.01279853 0.00624247 0.00281904 0.00495772 0.00595705 0.00322053]\n",
      " [0.01578549 0.00820622 0.00338469 0.00717441 0.008434   0.00490163]\n",
      " [0.0166426  0.01321143 0.00571386 0.00951668 0.01230275 0.00676423]\n",
      " [0.01629838 0.00933269 0.00679308 0.01026491 0.01111149 0.00752235]\n",
      " [0.00902281 0.00427883 0.00179729 0.00360622 0.00491643 0.00231777]\n",
      " [0.00931135 0.00411186 0.0026073  0.00376421 0.00409347 0.0026753 ]\n",
      " [0.00526814 0.00222952 0.00122181 0.0016831  0.00224938 0.00115043]\n",
      " [0.00542492 0.00165629 0.00117022 0.00121762 0.00142993 0.00107104]\n",
      " [0.00649933 0.00205854 0.00160732 0.00197602 0.00210051 0.00157779]\n",
      " [0.00721336 0.00239157 0.00133868 0.0017106  0.00209444 0.00133253]\n",
      " [0.01438296 0.00561758 0.00300678 0.00314689 0.00394157 0.00263812]\n",
      " [0.01491833 0.00760497 0.00501165 0.00742299 0.00848256 0.00596329]\n",
      " [0.01392496 0.00785333 0.00212241 0.00508609 0.00671177 0.00314345]\n",
      " [0.01096496 0.00615665 0.00316426 0.00484229 0.00530449 0.00420606]]\n",
      "\n"
     ]
    }
   ],
   "source": [
    "print(f\"States: {geoids}\\n\")\n",
    "\n",
    "print(f\"Absolute Humidity in kilograms/m^3:\\n {absH}\\n\")"
   ]
  }
 ],
 "metadata": {
  "kernelspec": {
   "display_name": ".venv",
   "language": "python",
   "name": "python3"
  },
  "language_info": {
   "codemirror_mode": {
    "name": "ipython",
    "version": 3
   },
   "file_extension": ".py",
   "mimetype": "text/x-python",
   "name": "python",
   "nbconvert_exporter": "python",
   "pygments_lexer": "ipython3",
   "version": "3.11.0rc1"
  }
 },
 "nbformat": 4,
 "nbformat_minor": 2
}
