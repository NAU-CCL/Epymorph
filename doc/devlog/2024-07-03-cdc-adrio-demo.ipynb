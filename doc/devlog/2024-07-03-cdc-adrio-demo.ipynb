{
 "cells": [
  {
   "cell_type": "markdown",
   "metadata": {},
   "source": [
    "# 2024-07-03 CDC ADRIO Demo\n",
    "\n",
    "_author: Trevor Johnson_\n",
    "\n",
    "This devlog will demonstrate the functionality of a new 'CDC ADRIO maker' which fetches data from various CDC and HealthData datasets. Six datasets are currenlty included, each with their own limitations and set of supported attributes. A comprehensive list of attributes and their limitations can be found below."
   ]
  },
  {
   "cell_type": "markdown",
   "metadata": {},
   "source": [
    "| Attribute Name | Dates | Granularity | Dataset | Description |\n",
    "| --- | --- | --- | --- | --- |\n",
    "| covid_cases_per_100k | 2/24/2022 - 5/4/2023 | County, State | United States COVID 19 Community Levels by County | Weekly number of COVID\\-19 cases per 100k population. |\n",
    "| covid_hospitalizations_per_100k | 2/24/2022 - 5/4/2023 | County, State | United States COVID 19 Community Levels by County | Weekly number of COVID\\-19 hospitalizations per 100k population. |\n",
    "| covid_hospitalization_avg_facility | 12/13/2020 - 5/10/2023 | County, State | COVID-19 Reported Patient Impact and Hospital Capacity by Facility | Weekly averages of COVID\\-19 hospitalizations reported by facility. |\n",
    "| covid_hospitalization_sum_facility | 12/13/2020 - 5/10/2023 | County, State | COVID-19 Reported Patient Impact and Hospital Capacity by Facility | Weekly sums of COVID\\-19 hospitalizations reported by facility. |\n",
    "| influenza_hospitalization_avg_facility | 12/13/2020 - 5/10/2023 | County, State | COVID-19 Reported Patient Impact and Hospital Capacity by Facility | Weekly averages of influenza hospitalizations reported by facility. |\n",
    "| influenza_hospitalization_sum_facility | 12/13/2020 - 5/10/2023 | County, State | COVID-19 Reported Patient Impact and Hospital Capacity by Facility | Weekly sums of influenza hospitalizations reported by facility. |\n",
    "| covid_hospitalization_avg_state | 1/04/2020 - present | State | Weekly United States Hospitalization Metrics by Jurisdiction | Weekly averages of COVID\\-19 hospitalizations reported by state. |\n",
    "| covid_hospitalization_sum_state | 1/04/2020 - present | State | Weekly United States Hospitalization Metrics by Jurisdiction | Weekly sums of COVID\\-19 hospitalizations reported by state. |\n",
    "| influenza_hospitalization_avg_state | 1/04/2020 - present | State | Weekly United States Hospitalization Metrics by Jurisdiction | Weekly averages of influenza hospitalizations reported by state. |\n",
    "| influenza_hospitalization_avg_state | 1/04/2020 - present | State | Weekly United States Hospitalization Metrics by Jurisdiction | Weekly sums of influenza hospitalizations reported by state. |\n",
    "| full_covid_vaccinations | 12/13/2020 - 5/10/2024 | County, State | COVID-19 Vaccinations in the United States,County | Weekly cumulative total of individuals who have compeleted a series of COVID\\-19 vaccinations. |\n",
    "| one_dose_covid_vaccinations | 12/13/2020 - 5/10/2024 | County, State | COVID-19 Vaccinations in the United States,County | Weely cumulative total of individuals who have recieved at least one dose of COVID\\-19 vaccination. |\n",
    "| covid_booster_doses | 12/13/2020 - 5/10/2024 | County, State | COVID-19 Vaccinations in the United States,County | Weekly cumulative total of COVID\\-19 booster doses administered. |\n",
    "| covid_deaths_county | 1/4/2020 - 4/5/2024 | County, State | AH COVID-19 Death Counts by County and Week, 2020-present | Weekly number of COVID\\-19 deaths reported by county.  |\n",
    "| covid_deaths_state | 1/4/2020 - present | State | Provisional COVID-19 Death Counts by Week Ending Date and State | Weekly number of COVID\\-19 deaths reported by state. |\n",
    "| influenza_deaths | 1/4/2020 - present | State | Provisional COVID-19 Death Counts by Week Ending Date and State | Weekly number of influenza deaths reported by state. |"
   ]
  },
  {
   "cell_type": "markdown",
   "metadata": {},
   "source": [
    "## **Demo**\n",
<<<<<<< HEAD
<<<<<<< HEAD
    "ADRIO maker functionality will be demonstrated one dataset at a time. A brief description of each dataset will be given and one ADRIO for each of its attributes will be created and run."
=======
    "ADRIO maker functionality will be demonstrated one dataset at a time. First, CSVs containing label and population attributes must be created and stored for use in the demo geos to allow them to have a flexible date range. Following that, a brief description of each dataset will be given and a geo containing all of its attributes will be created and run."
>>>>>>> dc43c17 (Added attribute table to devlog.)
=======
    "ADRIO maker functionality will be demonstrated one dataset at a time. A brief description of each dataset will be given and one ADRIO for each of its attributes will be created and run."
>>>>>>> ef5f604 (Date filtering and devlog improvements.)
   ]
  },
  {
   "cell_type": "code",
   "execution_count": 1,
   "metadata": {},
   "outputs": [],
   "source": [
<<<<<<< HEAD
<<<<<<< HEAD
    "from epymorph.geo.adrio.cdc.adrio_cdc import ADRIOMakerCDC\n",
    "from epymorph.geography.us_census import CountyScope, StateScope\n",
    "\n",
    "maker = ADRIOMakerCDC()\n",
    "county_scope = CountyScope.in_states(['04', '08'])\n",
    "state_scope = StateScope.in_states(['04', '08'])"
=======
    "from pandas import DataFrame\n",
    "from epymorph.data_shape import Shapes\n",
    "from epymorph.geo.adrio.census.adrio_census import ADRIOMakerCensus\n",
    "from epymorph.geo.spec import Year\n",
    "from epymorph.geography.us_census import CountyScope\n",
    "from epymorph.simulation import geo_attrib\n",
    "\n",
    "\n",
    "# create and store 'cdc_label_pop_county.csv'\n",
    "census_maker = ADRIOMakerCensus()\n",
    "states_list = ['AZ', 'CO']\n",
    "geoid = census_maker.make_adrio(geo_attrib(\n",
    "    'geoid', str, Shapes.N), CountyScope.in_states_by_code(states_list), Year(2022))\n",
    "name = census_maker.make_adrio(geo_attrib(\n",
    "    'name', str, Shapes.N), CountyScope.in_states_by_code(states_list), Year(2022))\n",
    "population = census_maker.make_adrio(geo_attrib(\n",
    "    'population', int, Shapes.N), CountyScope.in_states_by_code(states_list), Year(2022))\n",
    "df = DataFrame({'geoid': geoid.get_value(), 'name': name.get_value(),\n",
    "               'population': population.get_value()})\n",
    "df.to_csv(\"./scratch/cdc_label_pop_county.csv\", header=False, index=False)"
   ]
  },
  {
   "cell_type": "code",
   "execution_count": 2,
   "metadata": {},
   "outputs": [],
   "source": [
    "from epymorph.geography.us_census import StateScope\n",
    "\n",
    "\n",
    "# create and store 'cdc_label_pop_state.csv'\n",
    "census_maker = ADRIOMakerCensus()\n",
    "states_list = ['AZ', 'CO']\n",
    "geoid = census_maker.make_adrio(geo_attrib(\n",
    "    'geoid', str, Shapes.N), StateScope.in_states_by_code(states_list), Year(2022))\n",
    "name = census_maker.make_adrio(geo_attrib(\n",
    "    'name', str, Shapes.N), StateScope.in_states_by_code(states_list), Year(2022))\n",
    "population = census_maker.make_adrio(geo_attrib(\n",
    "    'population', int, Shapes.N), StateScope.in_states_by_code(states_list), Year(2022))\n",
    "df = DataFrame({'geoid': geoid.get_value(), 'name': name.get_value(),\n",
    "               'population': population.get_value()})\n",
    "df.to_csv(\"./scratch/cdc_label_pop_state.csv\", header=False, index=False)"
>>>>>>> dc43c17 (Added attribute table to devlog.)
=======
    "from epymorph.geo.adrio.cdc.adrio_cdc import ADRIOMakerCDC\n",
    "from epymorph.geography.us_census import CountyScope, StateScope\n",
    "\n",
    "maker = ADRIOMakerCDC()\n",
    "county_scope = CountyScope.in_states(['04', '08'])\n",
    "state_scope = StateScope.in_states(['04', '08'])"
>>>>>>> ef5f604 (Date filtering and devlog improvements.)
   ]
  },
  {
   "cell_type": "markdown",
   "metadata": {},
   "source": [
    "### **United States COVID 19 Community Levels by County**\n",
    "This dataset is used to fetch data on reported COVID-19 cases and hospitalizations per 100k population.\n",
    "\n",
    "- Supported attributes: covid_cases_per_100k, covid_hospitalizations_per_100k\n",
    "- Available date range: 2/24/2022 to 5/4/2023\n",
    "- Granularity: county, state\n",
    "\n",
    "https://healthdata.gov/dataset/United-States-COVID-19-Community-Levels-by-County/nn5b-j5u9/about_data"
   ]
  },
  {
   "cell_type": "code",
<<<<<<< HEAD
<<<<<<< HEAD
   "execution_count": 2,
=======
   "execution_count": 3,
>>>>>>> dc43c17 (Added attribute table to devlog.)
=======
   "execution_count": 2,
>>>>>>> ef5f604 (Date filtering and devlog improvements.)
   "metadata": {},
   "outputs": [],
   "source": [
    "from datetime import date\n",
<<<<<<< HEAD
<<<<<<< HEAD
    "\n",
    "from epymorph.data_shape import Shapes\n",
    "from epymorph.geo.spec import DateRange\n",
    "from epymorph.simulation import AttributeDef\n",
    "\n",
    "time_period = DateRange(date(2022, 2, 24), date(2023, 5, 4))\n",
    "\n",
    "cases = maker.make_adrio(AttributeDef(\"covid_cases_per_100k\", int,\n",
    "                         Shapes.TxN), county_scope, time_period)\n",
    "hospitalizations = maker.make_adrio(AttributeDef(\n",
    "    \"covid_hospitalizations_per_100k\", int, Shapes.TxN), county_scope, time_period)"
=======
    "from pathlib import Path\n",
=======
>>>>>>> ef5f604 (Date filtering and devlog improvements.)
    "\n",
    "from epymorph.data_shape import Shapes\n",
    "from epymorph.geo.spec import DateRange\n",
    "from epymorph.simulation import geo_attrib\n",
    "\n",
    "time_period = DateRange(date(2022, 2, 24), date(2023, 5, 4))\n",
    "\n",
<<<<<<< HEAD
    "spec = DynamicGeoSpec(\n",
    "    attributes=[\n",
    "        geo_attrib('label', str, Shapes.N),\n",
    "        geo_attrib('population', int, Shapes.N),\n",
    "        geo_attrib(\"covid_cases_per_100k\", int, Shapes.TxN),\n",
    "        geo_attrib(\"covid_hospitalizations_per_100k\", int, Shapes.TxN),\n",
    "    ],\n",
    "    time_period=DateRange(date(2022, 2, 24), date(2023, 5, 4)),\n",
    "    scope=CountyScope.in_states(['04', '08']),\n",
    "    source={\n",
    "        'label': CSVSpec(file_path=Path(\"./scratch/cdc_label_pop_county.csv\"),\n",
    "                         key_col=0, data_col=1, key_type=\"geoid\", skiprows=None),\n",
    "        'population': CSVSpec(file_path=Path(\"./scratch/cdc_label_pop_county.csv\"),\n",
    "                              key_col=0, data_col=2, key_type=\"geoid\", skiprows=None),\n",
    "        \"covid_cases_per_100k\": \"CDC\",\n",
    "        \"covid_hospitalizations_per_100k\": \"CDC\",\n",
    "    }\n",
    ")"
>>>>>>> dc43c17 (Added attribute table to devlog.)
=======
    "cases = maker.make_adrio(geo_attrib(\"covid_cases_per_100k\", int,\n",
    "                         Shapes.TxN), county_scope, time_period)\n",
    "hospitalizations = maker.make_adrio(geo_attrib(\n",
    "    \"covid_hospitalizations_per_100k\", int, Shapes.TxN), county_scope, time_period)"
>>>>>>> ef5f604 (Date filtering and devlog improvements.)
   ]
  },
  {
   "cell_type": "code",
<<<<<<< HEAD
<<<<<<< HEAD
   "execution_count": 3,
=======
   "execution_count": 4,
>>>>>>> dc43c17 (Added attribute table to devlog.)
=======
   "execution_count": 3,
>>>>>>> ef5f604 (Date filtering and devlog improvements.)
   "metadata": {},
   "outputs": [
    {
     "name": "stdout",
     "output_type": "stream",
     "text": [
      "COVID cases per 100k:\n",
<<<<<<< HEAD
<<<<<<< HEAD
<<<<<<< HEAD
=======
>>>>>>> 64527af (Combine query cases, add paging, return date string.)
      " [('2022-02-24', array([332, 260, 181, 236, 272, 231, 165, 190, 186, 288, 238, 203, 109,\n",
      "        148, 170, 142, 277, 164, 106, 139, 394, 152, 161, 186, 109,  41,\n",
      "        353, 180, 395, 118, 198, 170,  48, 193, 177, 224, 209, 436, 231,\n",
      "        112, 152, 137,   0, 260,   0, 207,   0, 183,  61, 183, 233, 296,\n",
      "        122, 240, 306,   0, 255, 213, 215, 134, 284,  80,  84, 234, 348,\n",
      "        221, 219, 268, 363, 179, 278, 549, 207, 266, 148,  86, 203, 183,\n",
      "        129]))\n",
      " ('2022-03-03', array([ 97, 100,  78,  57,  56,  84,  90,  77,  60,  83,  64,  55,  32,\n",
      "         32,  46,  90, 190, 108,  49, 279,  89, 126,  86, 171,   0,  51,\n",
      "        219, 180, 329,  78, 105, 104,  97,  93,  70,  78, 144, 399, 169,\n",
      "        112,  95, 475, 121, 101, 143, 105, 142,  28,  24,  87, 177, 186,\n",
      "        192, 325, 243,   0, 180, 114, 135,  37, 114,  60,  74,  70, 208,\n",
      "         98, 157, 253, 257, 187, 175,   0,  85,  88, 174,  86, 122, 149,\n",
      "         79]))\n",
      " ('2022-03-10', array([ 293,  131,  132,   96,  102,   94,  118,  158,  111,  220,  121,\n",
      "         111,   70,   49,   98,   83,  271,   61,  178,  195,  251,  105,\n",
      "          93,  201,  327,   72,   97,  154,  395,   19,  125,   78,  291,\n",
      "          79,  121,   52,  154,  340,  116,   48,  120,  148,    0,  362,\n",
      "           0,  104,  142,  211,   86,  293,  131,  689,  350,  584,  151,\n",
      "         650,   90,  336,   93,   92,  136,  100,   58,   70,  146,  123,\n",
      "         270,   47,  133,  401,  161, 1236,   73,  133,  128,  212,  122,\n",
      "         115,   49]))                                                                   ]\n",
<<<<<<< HEAD
      "\n",
      "COVID hospitalizations per 100k:\n",
      " [('2022-02-24', array([25, 15, 19, 19, 15, 15, 40, 19, 28, 22, 15, 19, 15, 19, 40,  7, 14,\n",
      "         7, 22, 15,  9,  9,  9,  0,  9,  7, 14, 14,  9,  5,  9,  7, 22,  7,\n",
      "        12,  7,  9,  5, 12,  7,  7,  9,  9, 15,  0,  7,  9,  9,  0, 22, 11,\n",
      "        15,  9, 31, 12, 14, 43, 22,  9, 11,  9,  9,  7, 31, 12,  9, 15, 12,\n",
      "        14, 43, 14, 22,  9, 31,  7,  9, 11, 11, 11]))\n",
      " ('2022-03-03', array([19, 11, 13, 13, 11, 11, 31, 13, 17, 10, 11, 13, 11, 13, 31,  5,  6,\n",
      "         5, 10,  7,  0,  6,  6,  0,  4,  5,  6,  6,  0,  3,  7,  5, 10,  5,\n",
      "        12,  5,  4,  3, 12,  5,  5,  7,  7,  9,  1,  5,  0,  4,  0, 10,  7,\n",
      "         9,  4, 13, 12,  6, 10, 10,  7,  7,  0,  7,  5, 13, 12,  0,  9, 12,\n",
      "         6, 10,  6, 10,  7, 13,  5,  4,  7,  7,  7]))\n",
      " ('2022-03-10', array([13, 10, 10, 10, 10, 10, 23, 10,  9,  9, 10, 10, 10, 10, 23,  4,  8,\n",
      "         4,  9,  7,  0,  4,  4,  3,  3,  4,  8,  8,  0,  3,  4,  4,  9,  4,\n",
      "         7,  4,  3,  3,  7,  4,  4,  4,  4,  6,  1,  4,  0,  3,  3,  9,  5,\n",
      "         6,  3, 10,  7,  8,  0,  9,  4,  4,  0,  4,  4, 10,  7,  0,  6,  7,\n",
      "         8,  0,  8,  9,  4, 10,  4,  3,  4,  4,  4]))                                     ]\n"
=======
      " [[332 260 181 ... 203 183 129]\n",
      " [ 97 100  78 ... 122 149  79]\n",
      " [293 131 132 ... 122 115  49]\n",
      " ...\n",
      " [204  50  73 ...   0  48  29]\n",
      " [344  66 119 ...  20  67   0]\n",
      " [247  40  73 ...   0  28  29]]\n",
      "\n",
      "COVID hospitalizations per 100k:\n",
      " [[25 15 19 ... 11 11 11]\n",
      " [19 11 13 ...  7  7  7]\n",
      " [13 10 10 ...  4  4  4]\n",
      " ...\n",
      " [ 8  3  4 ...  3  3  3]\n",
<<<<<<< HEAD
      " [ 8  3  4 ...  1  1  1]]\n"
>>>>>>> dc43c17 (Added attribute table to devlog.)
=======
      " [ 8  3  4 ...  1  1  1]\n",
      " [10  1  3 ...  2  2  2]]\n"
>>>>>>> ef5f604 (Date filtering and devlog improvements.)
=======
      "\n",
      "COVID hospitalizations per 100k:\n",
      " [('2022-02-24', array([25, 15, 19, 19, 15, 15, 40, 19, 28, 22, 15, 19, 15, 19, 40,  7, 14,\n",
      "         7, 22, 15,  9,  9,  9,  0,  9,  7, 14, 14,  9,  5,  9,  7, 22,  7,\n",
      "        12,  7,  9,  5, 12,  7,  7,  9,  9, 15,  0,  7,  9,  9,  0, 22, 11,\n",
      "        15,  9, 31, 12, 14, 43, 22,  9, 11,  9,  9,  7, 31, 12,  9, 15, 12,\n",
      "        14, 43, 14, 22,  9, 31,  7,  9, 11, 11, 11]))\n",
      " ('2022-03-03', array([19, 11, 13, 13, 11, 11, 31, 13, 17, 10, 11, 13, 11, 13, 31,  5,  6,\n",
      "         5, 10,  7,  0,  6,  6,  0,  4,  5,  6,  6,  0,  3,  7,  5, 10,  5,\n",
      "        12,  5,  4,  3, 12,  5,  5,  7,  7,  9,  1,  5,  0,  4,  0, 10,  7,\n",
      "         9,  4, 13, 12,  6, 10, 10,  7,  7,  0,  7,  5, 13, 12,  0,  9, 12,\n",
      "         6, 10,  6, 10,  7, 13,  5,  4,  7,  7,  7]))\n",
      " ('2022-03-10', array([13, 10, 10, 10, 10, 10, 23, 10,  9,  9, 10, 10, 10, 10, 23,  4,  8,\n",
      "         4,  9,  7,  0,  4,  4,  3,  3,  4,  8,  8,  0,  3,  4,  4,  9,  4,\n",
      "         7,  4,  3,  3,  7,  4,  4,  4,  4,  6,  1,  4,  0,  3,  3,  9,  5,\n",
      "         6,  3, 10,  7,  8,  0,  9,  4,  4,  0,  4,  4, 10,  7,  0,  6,  7,\n",
      "         8,  0,  8,  9,  4, 10,  4,  3,  4,  4,  4]))                                     ]\n"
>>>>>>> 64527af (Combine query cases, add paging, return date string.)
=======
      " [[('2022-02-24',  332) ('2022-02-24',  260) ('2022-02-24',  181)\n",
      "  ('2022-02-24',  236) ('2022-02-24',  272) ('2022-02-24',  231)\n",
      "  ('2022-02-24',  165) ('2022-02-24',  190) ('2022-02-24',  186)\n",
      "  ('2022-02-24',  288) ('2022-02-24',  238) ('2022-02-24',  203)\n",
      "  ('2022-02-24',  109) ('2022-02-24',  148) ('2022-02-24',  170)\n",
      "  ('2022-02-24',  142) ('2022-02-24',  277) ('2022-02-24',  164)\n",
      "  ('2022-02-24',  106) ('2022-02-24',  139) ('2022-02-24',  394)\n",
      "  ('2022-02-24',  152) ('2022-02-24',  161) ('2022-02-24',  186)\n",
      "  ('2022-02-24',  109) ('2022-02-24',   41) ('2022-02-24',  353)\n",
      "  ('2022-02-24',  180) ('2022-02-24',  395) ('2022-02-24',  118)\n",
      "  ('2022-02-24',  198) ('2022-02-24',  170) ('2022-02-24',   48)\n",
      "  ('2022-02-24',  193) ('2022-02-24',  177) ('2022-02-24',  224)\n",
      "  ('2022-02-24',  209) ('2022-02-24',  436) ('2022-02-24',  231)\n",
      "  ('2022-02-24',  112) ('2022-02-24',  152) ('2022-02-24',  137)\n",
      "  ('2022-02-24',    0) ('2022-02-24',  260) ('2022-02-24',    0)\n",
      "  ('2022-02-24',  207) ('2022-02-24',    0) ('2022-02-24',  183)\n",
      "  ('2022-02-24',   61) ('2022-02-24',  183) ('2022-02-24',  233)\n",
      "  ('2022-02-24',  296) ('2022-02-24',  122) ('2022-02-24',  240)\n",
      "  ('2022-02-24',  306) ('2022-02-24',    0) ('2022-02-24',  255)\n",
      "  ('2022-02-24',  213) ('2022-02-24',  215) ('2022-02-24',  134)\n",
      "  ('2022-02-24',  284) ('2022-02-24',   80) ('2022-02-24',   84)\n",
      "  ('2022-02-24',  234) ('2022-02-24',  348) ('2022-02-24',  221)\n",
      "  ('2022-02-24',  219) ('2022-02-24',  268) ('2022-02-24',  363)\n",
      "  ('2022-02-24',  179) ('2022-02-24',  278) ('2022-02-24',  549)\n",
      "  ('2022-02-24',  207) ('2022-02-24',  266) ('2022-02-24',  148)\n",
      "  ('2022-02-24',   86) ('2022-02-24',  203) ('2022-02-24',  183)\n",
      "  ('2022-02-24',  129)]\n",
      " [('2022-03-03',   97) ('2022-03-03',  100) ('2022-03-03',   78)\n",
      "  ('2022-03-03',   57) ('2022-03-03',   56) ('2022-03-03',   84)\n",
      "  ('2022-03-03',   90) ('2022-03-03',   77) ('2022-03-03',   60)\n",
      "  ('2022-03-03',   83) ('2022-03-03',   64) ('2022-03-03',   55)\n",
      "  ('2022-03-03',   32) ('2022-03-03',   32) ('2022-03-03',   46)\n",
      "  ('2022-03-03',   90) ('2022-03-03',  190) ('2022-03-03',  108)\n",
      "  ('2022-03-03',   49) ('2022-03-03',  279) ('2022-03-03',   89)\n",
      "  ('2022-03-03',  126) ('2022-03-03',   86) ('2022-03-03',  171)\n",
      "  ('2022-03-03',    0) ('2022-03-03',   51) ('2022-03-03',  219)\n",
      "  ('2022-03-03',  180) ('2022-03-03',  329) ('2022-03-03',   78)\n",
      "  ('2022-03-03',  105) ('2022-03-03',  104) ('2022-03-03',   97)\n",
      "  ('2022-03-03',   93) ('2022-03-03',   70) ('2022-03-03',   78)\n",
      "  ('2022-03-03',  144) ('2022-03-03',  399) ('2022-03-03',  169)\n",
      "  ('2022-03-03',  112) ('2022-03-03',   95) ('2022-03-03',  475)\n",
      "  ('2022-03-03',  121) ('2022-03-03',  101) ('2022-03-03',  143)\n",
      "  ('2022-03-03',  105) ('2022-03-03',  142) ('2022-03-03',   28)\n",
      "  ('2022-03-03',   24) ('2022-03-03',   87) ('2022-03-03',  177)\n",
      "  ('2022-03-03',  186) ('2022-03-03',  192) ('2022-03-03',  325)\n",
      "  ('2022-03-03',  243) ('2022-03-03',    0) ('2022-03-03',  180)\n",
      "  ('2022-03-03',  114) ('2022-03-03',  135) ('2022-03-03',   37)\n",
      "  ('2022-03-03',  114) ('2022-03-03',   60) ('2022-03-03',   74)\n",
      "  ('2022-03-03',   70) ('2022-03-03',  208) ('2022-03-03',   98)\n",
      "  ('2022-03-03',  157) ('2022-03-03',  253) ('2022-03-03',  257)\n",
      "  ('2022-03-03',  187) ('2022-03-03',  175) ('2022-03-03',    0)\n",
      "  ('2022-03-03',   85) ('2022-03-03',   88) ('2022-03-03',  174)\n",
      "  ('2022-03-03',   86) ('2022-03-03',  122) ('2022-03-03',  149)\n",
      "  ('2022-03-03',   79)]\n",
      " [('2022-03-10',  293) ('2022-03-10',  131) ('2022-03-10',  132)\n",
      "  ('2022-03-10',   96) ('2022-03-10',  102) ('2022-03-10',   94)\n",
      "  ('2022-03-10',  118) ('2022-03-10',  158) ('2022-03-10',  111)\n",
      "  ('2022-03-10',  220) ('2022-03-10',  121) ('2022-03-10',  111)\n",
      "  ('2022-03-10',   70) ('2022-03-10',   49) ('2022-03-10',   98)\n",
      "  ('2022-03-10',   83) ('2022-03-10',  271) ('2022-03-10',   61)\n",
      "  ('2022-03-10',  178) ('2022-03-10',  195) ('2022-03-10',  251)\n",
      "  ('2022-03-10',  105) ('2022-03-10',   93) ('2022-03-10',  201)\n",
      "  ('2022-03-10',  327) ('2022-03-10',   72) ('2022-03-10',   97)\n",
      "  ('2022-03-10',  154) ('2022-03-10',  395) ('2022-03-10',   19)\n",
      "  ('2022-03-10',  125) ('2022-03-10',   78) ('2022-03-10',  291)\n",
      "  ('2022-03-10',   79) ('2022-03-10',  121) ('2022-03-10',   52)\n",
      "  ('2022-03-10',  154) ('2022-03-10',  340) ('2022-03-10',  116)\n",
      "  ('2022-03-10',   48) ('2022-03-10',  120) ('2022-03-10',  148)\n",
      "  ('2022-03-10',    0) ('2022-03-10',  362) ('2022-03-10',    0)\n",
      "  ('2022-03-10',  104) ('2022-03-10',  142) ('2022-03-10',  211)\n",
      "  ('2022-03-10',   86) ('2022-03-10',  293) ('2022-03-10',  131)\n",
      "  ('2022-03-10',  689) ('2022-03-10',  350) ('2022-03-10',  584)\n",
      "  ('2022-03-10',  151) ('2022-03-10',  650) ('2022-03-10',   90)\n",
      "  ('2022-03-10',  336) ('2022-03-10',   93) ('2022-03-10',   92)\n",
      "  ('2022-03-10',  136) ('2022-03-10',  100) ('2022-03-10',   58)\n",
      "  ('2022-03-10',   70) ('2022-03-10',  146) ('2022-03-10',  123)\n",
      "  ('2022-03-10',  270) ('2022-03-10',   47) ('2022-03-10',  133)\n",
      "  ('2022-03-10',  401) ('2022-03-10',  161) ('2022-03-10', 1236)\n",
      "  ('2022-03-10',   73) ('2022-03-10',  133) ('2022-03-10',  128)\n",
      "  ('2022-03-10',  212) ('2022-03-10',  122) ('2022-03-10',  115)\n",
      "  ('2022-03-10',   49)]]\n",
      "\n",
      "COVID hospitalizations per 100k:\n",
      " [[('2022-02-24', 25) ('2022-02-24', 15) ('2022-02-24', 19)\n",
      "  ('2022-02-24', 19) ('2022-02-24', 15) ('2022-02-24', 15)\n",
      "  ('2022-02-24', 40) ('2022-02-24', 19) ('2022-02-24', 28)\n",
      "  ('2022-02-24', 22) ('2022-02-24', 15) ('2022-02-24', 19)\n",
      "  ('2022-02-24', 15) ('2022-02-24', 19) ('2022-02-24', 40)\n",
      "  ('2022-02-24',  7) ('2022-02-24', 14) ('2022-02-24',  7)\n",
      "  ('2022-02-24', 22) ('2022-02-24', 15) ('2022-02-24',  9)\n",
      "  ('2022-02-24',  9) ('2022-02-24',  9) ('2022-02-24',  0)\n",
      "  ('2022-02-24',  9) ('2022-02-24',  7) ('2022-02-24', 14)\n",
      "  ('2022-02-24', 14) ('2022-02-24',  9) ('2022-02-24',  5)\n",
      "  ('2022-02-24',  9) ('2022-02-24',  7) ('2022-02-24', 22)\n",
      "  ('2022-02-24',  7) ('2022-02-24', 12) ('2022-02-24',  7)\n",
      "  ('2022-02-24',  9) ('2022-02-24',  5) ('2022-02-24', 12)\n",
      "  ('2022-02-24',  7) ('2022-02-24',  7) ('2022-02-24',  9)\n",
      "  ('2022-02-24',  9) ('2022-02-24', 15) ('2022-02-24',  0)\n",
      "  ('2022-02-24',  7) ('2022-02-24',  9) ('2022-02-24',  9)\n",
      "  ('2022-02-24',  0) ('2022-02-24', 22) ('2022-02-24', 11)\n",
      "  ('2022-02-24', 15) ('2022-02-24',  9) ('2022-02-24', 31)\n",
      "  ('2022-02-24', 12) ('2022-02-24', 14) ('2022-02-24', 43)\n",
      "  ('2022-02-24', 22) ('2022-02-24',  9) ('2022-02-24', 11)\n",
      "  ('2022-02-24',  9) ('2022-02-24',  9) ('2022-02-24',  7)\n",
      "  ('2022-02-24', 31) ('2022-02-24', 12) ('2022-02-24',  9)\n",
      "  ('2022-02-24', 15) ('2022-02-24', 12) ('2022-02-24', 14)\n",
      "  ('2022-02-24', 43) ('2022-02-24', 14) ('2022-02-24', 22)\n",
      "  ('2022-02-24',  9) ('2022-02-24', 31) ('2022-02-24',  7)\n",
      "  ('2022-02-24',  9) ('2022-02-24', 11) ('2022-02-24', 11)\n",
      "  ('2022-02-24', 11)]\n",
      " [('2022-03-03', 19) ('2022-03-03', 11) ('2022-03-03', 13)\n",
      "  ('2022-03-03', 13) ('2022-03-03', 11) ('2022-03-03', 11)\n",
      "  ('2022-03-03', 31) ('2022-03-03', 13) ('2022-03-03', 17)\n",
      "  ('2022-03-03', 10) ('2022-03-03', 11) ('2022-03-03', 13)\n",
      "  ('2022-03-03', 11) ('2022-03-03', 13) ('2022-03-03', 31)\n",
      "  ('2022-03-03',  5) ('2022-03-03',  6) ('2022-03-03',  5)\n",
      "  ('2022-03-03', 10) ('2022-03-03',  7) ('2022-03-03',  0)\n",
      "  ('2022-03-03',  6) ('2022-03-03',  6) ('2022-03-03',  0)\n",
      "  ('2022-03-03',  4) ('2022-03-03',  5) ('2022-03-03',  6)\n",
      "  ('2022-03-03',  6) ('2022-03-03',  0) ('2022-03-03',  3)\n",
      "  ('2022-03-03',  7) ('2022-03-03',  5) ('2022-03-03', 10)\n",
      "  ('2022-03-03',  5) ('2022-03-03', 12) ('2022-03-03',  5)\n",
      "  ('2022-03-03',  4) ('2022-03-03',  3) ('2022-03-03', 12)\n",
      "  ('2022-03-03',  5) ('2022-03-03',  5) ('2022-03-03',  7)\n",
      "  ('2022-03-03',  7) ('2022-03-03',  9) ('2022-03-03',  1)\n",
      "  ('2022-03-03',  5) ('2022-03-03',  0) ('2022-03-03',  4)\n",
      "  ('2022-03-03',  0) ('2022-03-03', 10) ('2022-03-03',  7)\n",
      "  ('2022-03-03',  9) ('2022-03-03',  4) ('2022-03-03', 13)\n",
      "  ('2022-03-03', 12) ('2022-03-03',  6) ('2022-03-03', 10)\n",
      "  ('2022-03-03', 10) ('2022-03-03',  7) ('2022-03-03',  7)\n",
      "  ('2022-03-03',  0) ('2022-03-03',  7) ('2022-03-03',  5)\n",
      "  ('2022-03-03', 13) ('2022-03-03', 12) ('2022-03-03',  0)\n",
      "  ('2022-03-03',  9) ('2022-03-03', 12) ('2022-03-03',  6)\n",
      "  ('2022-03-03', 10) ('2022-03-03',  6) ('2022-03-03', 10)\n",
      "  ('2022-03-03',  7) ('2022-03-03', 13) ('2022-03-03',  5)\n",
      "  ('2022-03-03',  4) ('2022-03-03',  7) ('2022-03-03',  7)\n",
      "  ('2022-03-03',  7)]\n",
      " [('2022-03-10', 13) ('2022-03-10', 10) ('2022-03-10', 10)\n",
      "  ('2022-03-10', 10) ('2022-03-10', 10) ('2022-03-10', 10)\n",
      "  ('2022-03-10', 23) ('2022-03-10', 10) ('2022-03-10',  9)\n",
      "  ('2022-03-10',  9) ('2022-03-10', 10) ('2022-03-10', 10)\n",
      "  ('2022-03-10', 10) ('2022-03-10', 10) ('2022-03-10', 23)\n",
      "  ('2022-03-10',  4) ('2022-03-10',  8) ('2022-03-10',  4)\n",
      "  ('2022-03-10',  9) ('2022-03-10',  7) ('2022-03-10',  0)\n",
      "  ('2022-03-10',  4) ('2022-03-10',  4) ('2022-03-10',  3)\n",
      "  ('2022-03-10',  3) ('2022-03-10',  4) ('2022-03-10',  8)\n",
      "  ('2022-03-10',  8) ('2022-03-10',  0) ('2022-03-10',  3)\n",
      "  ('2022-03-10',  4) ('2022-03-10',  4) ('2022-03-10',  9)\n",
      "  ('2022-03-10',  4) ('2022-03-10',  7) ('2022-03-10',  4)\n",
      "  ('2022-03-10',  3) ('2022-03-10',  3) ('2022-03-10',  7)\n",
      "  ('2022-03-10',  4) ('2022-03-10',  4) ('2022-03-10',  4)\n",
      "  ('2022-03-10',  4) ('2022-03-10',  6) ('2022-03-10',  1)\n",
      "  ('2022-03-10',  4) ('2022-03-10',  0) ('2022-03-10',  3)\n",
      "  ('2022-03-10',  3) ('2022-03-10',  9) ('2022-03-10',  5)\n",
      "  ('2022-03-10',  6) ('2022-03-10',  3) ('2022-03-10', 10)\n",
      "  ('2022-03-10',  7) ('2022-03-10',  8) ('2022-03-10',  0)\n",
      "  ('2022-03-10',  9) ('2022-03-10',  4) ('2022-03-10',  4)\n",
      "  ('2022-03-10',  0) ('2022-03-10',  4) ('2022-03-10',  4)\n",
      "  ('2022-03-10', 10) ('2022-03-10',  7) ('2022-03-10',  0)\n",
      "  ('2022-03-10',  6) ('2022-03-10',  7) ('2022-03-10',  8)\n",
      "  ('2022-03-10',  0) ('2022-03-10',  8) ('2022-03-10',  9)\n",
      "  ('2022-03-10',  4) ('2022-03-10', 10) ('2022-03-10',  4)\n",
      "  ('2022-03-10',  3) ('2022-03-10',  4) ('2022-03-10',  4)\n",
      "  ('2022-03-10',  4)]]\n"
>>>>>>> 91bd772 (Change return shape to individual tuples.)
     ]
    }
   ],
   "source": [
<<<<<<< HEAD
<<<<<<< HEAD
<<<<<<< HEAD
    "print(f\"COVID cases per 100k:\\n {cases.get_value()[:3]}\\n\")\n",
    "print(f\"COVID hospitalizations per 100k:\\n {hospitalizations.get_value()[:3]}\")"
=======
    "from epymorph.geo.dynamic import DynamicGeo\n",
    "from epymorph.geo.adrio import adrio_maker_library\n",
    "\n",
    "\n",
    "geo = DynamicGeo.from_library(spec, adrio_maker_library)\n",
    "\n",
    "print(f\"COVID cases per 100k:\\n {geo['covid_cases_per_100k']}\\n\")\n",
    "print(f\"COVID hospitalizations per 100k:\\n {geo['covid_hospitalizations_per_100k']}\")"
>>>>>>> dc43c17 (Added attribute table to devlog.)
=======
    "print(f\"COVID cases per 100k:\\n {cases.get_value()}\\n\")\n",
    "print(f\"COVID hospitalizations per 100k:\\n {hospitalizations.get_value()}\")"
>>>>>>> ef5f604 (Date filtering and devlog improvements.)
=======
    "print(f\"COVID cases per 100k:\\n {cases.get_value()[:3]}\\n\")\n",
    "print(f\"COVID hospitalizations per 100k:\\n {hospitalizations.get_value()[:3]}\")"
>>>>>>> 64527af (Combine query cases, add paging, return date string.)
   ]
  },
  {
   "cell_type": "markdown",
   "metadata": {},
   "source": [
    "### **COVID-19 Reported Patient Impact and Hospital Capacity by Facility**\n",
    "This dataset is used to fetch hospitalization data for COVID-19 and other respiratory illnesses.\n",
    "\n",
    "- Supported attributes: covid_hospitalization_avg_facility, covid_hospitalization_sum_facility, influenza_hospitalization_avg_facility, influenza_hospitalization_sum_facility\n",
    "- Available date range: 12/13/2020 to 5/10/2023\n",
    "- Granularity: county, state\n",
    "\n",
    "https://healthdata.gov/Hospital/COVID-19-Reported-Patient-Impact-and-Hospital-Capa/anag-cw7u/about_data\n"
   ]
  },
  {
   "cell_type": "code",
<<<<<<< HEAD
<<<<<<< HEAD
<<<<<<< HEAD
   "execution_count": 4,
=======
   "execution_count": 8,
>>>>>>> 91bd772 (Change return shape to individual tuples.)
   "metadata": {},
   "outputs": [],
   "source": [
    "time_period = DateRange(date(2020, 12, 13), date(2023, 5, 10))\n",
    "\n",
    "covid_avg = maker.make_adrio(AttributeDef(\n",
    "    \"covid_hospitalization_avg_facility\", float, Shapes.TxN), county_scope, time_period)\n",
    "covid_sum = maker.make_adrio(AttributeDef(\n",
    "    \"covid_hospitalization_sum_facility\", int, Shapes.TxN), county_scope, time_period)\n",
    "flu_avg = maker.make_adrio(AttributeDef(\n",
    "    \"influenza_hospitalization_avg_facility\", float, Shapes.TxN), county_scope, time_period)\n",
    "flu_sum = maker.make_adrio(AttributeDef(\n",
    "    \"influenza_hospitalization_sum_facility\", int, Shapes.TxN), county_scope, time_period)"
=======
   "execution_count": 5,
   "metadata": {},
   "outputs": [],
   "source": [
    "spec = DynamicGeoSpec(\n",
    "    attributes=[\n",
    "        geo_attrib('label', str, Shapes.N),\n",
    "        geo_attrib('population', int, Shapes.N),\n",
    "        geo_attrib(\"covid_hospitalization_avg_facility\", float, Shapes.TxN),\n",
    "        geo_attrib(\"covid_hospitalization_sum_facility\", int, Shapes.TxN),\n",
    "        geo_attrib(\"influenza_hospitalization_avg_facility\", float, Shapes.TxN),\n",
    "        geo_attrib(\"influenza_hospitalization_sum_facility\", int, Shapes.TxN),\n",
    "    ],\n",
    "    time_period=DateRange(date(2020, 12, 13), date(2023, 5, 10)),\n",
    "    scope=CountyScope.in_states(['04', '08']),\n",
    "    source={\n",
    "        'label': CSVSpec(file_path=Path(\"./scratch/cdc_label_pop_county.csv\"),\n",
    "                         key_col=0, data_col=1, key_type=\"geoid\", skiprows=None),\n",
    "        'population': CSVSpec(file_path=Path(\"./scratch/cdc_label_pop_county.csv\"),\n",
    "                              key_col=0, data_col=2, key_type=\"geoid\", skiprows=None),\n",
    "        \"covid_hospitalization_avg_facility\": \"CDC\",\n",
    "        \"covid_hospitalization_sum_facility\": \"CDC\",\n",
    "        \"influenza_hospitalization_avg_facility\": \"CDC\",\n",
    "        \"influenza_hospitalization_sum_facility\": \"CDC\",\n",
    "    }\n",
    ")"
>>>>>>> dc43c17 (Added attribute table to devlog.)
=======
   "execution_count": 4,
   "metadata": {},
   "outputs": [],
   "source": [
    "time_period = DateRange(date(2020, 12, 13), date(2023, 5, 10))\n",
    "\n",
    "covid_avg = maker.make_adrio(geo_attrib(\n",
    "    \"covid_hospitalization_avg_facility\", float, Shapes.TxN), county_scope, time_period)\n",
    "covid_sum = maker.make_adrio(geo_attrib(\n",
    "    \"covid_hospitalization_sum_facility\", int, Shapes.TxN), county_scope, time_period)\n",
    "flu_avg = maker.make_adrio(geo_attrib(\n",
    "    \"influenza_hospitalization_avg_facility\", float, Shapes.TxN), county_scope, time_period)\n",
    "flu_sum = maker.make_adrio(geo_attrib(\n",
    "    \"influenza_hospitalization_sum_facility\", int, Shapes.TxN), county_scope, time_period)"
>>>>>>> ef5f604 (Date filtering and devlog improvements.)
   ]
  },
  {
   "cell_type": "code",
<<<<<<< HEAD
<<<<<<< HEAD
<<<<<<< HEAD
   "execution_count": 5,
=======
   "execution_count": 6,
>>>>>>> dc43c17 (Added attribute table to devlog.)
=======
   "execution_count": 5,
>>>>>>> ef5f604 (Date filtering and devlog improvements.)
=======
   "execution_count": 9,
>>>>>>> 91bd772 (Change return shape to individual tuples.)
   "metadata": {},
   "outputs": [
    {
     "name": "stdout",
     "output_type": "stream",
     "text": [
      "COVID hospitalization average:\n",
<<<<<<< HEAD
<<<<<<< HEAD
<<<<<<< HEAD
=======
>>>>>>> 64527af (Combine query cases, add paging, return date string.)
      " [('2020-12-13', array([ 6.40000e+00, -9.99999e+05, -9.99999e+05,  2.88000e+01,\n",
      "         2.48000e+01,  1.96000e+01, -9.99999e+05, -9.99999e+05,\n",
      "         7.29000e+01, -9.99999e+05,  1.65600e+02,  8.80000e+00,\n",
      "         2.21000e+02,  3.23200e+02,  1.60600e+02,  8.90000e+00,\n",
      "         1.44300e+02, -9.99999e+05, -9.99999e+05,  7.07000e+01,\n",
      "        -9.99999e+05,  0.00000e+00,  0.00000e+00,  0.00000e+00,\n",
      "         0.00000e+00,  7.89000e+01,  2.74000e+01, -9.99999e+05,\n",
      "        -9.99999e+05,  8.10000e+00,  0.00000e+00,  0.00000e+00,\n",
      "        -9.99999e+05,  0.00000e+00,  3.33000e+01, -9.99999e+05,\n",
      "         0.00000e+00,  0.00000e+00,  1.60000e+01, -9.99999e+05,\n",
      "         0.00000e+00,  0.00000e+00,  6.30000e+00,  5.26000e+01,\n",
      "        -9.99999e+05,  0.00000e+00,  1.04000e+01,  4.90000e+00,\n",
      "         8.40000e+00,  6.10000e+00,  0.00000e+00, -9.99999e+05,\n",
      "         1.14000e+01, -9.99999e+05,  0.00000e+00,  0.00000e+00,\n",
      "         0.00000e+00, -9.99999e+05,  0.00000e+00,  4.27000e+01,\n",
      "         0.00000e+00]))\n",
      " ('2020-12-20', array([ 1.28000e+01, -9.99999e+05,  1.03300e+02,  1.17000e+01,\n",
      "         1.11000e+01,  6.70000e+00, -9.99999e+05,  1.54200e+02,\n",
      "         6.50000e+01, -9.99999e+05,  1.66000e+02,  8.00000e+00,\n",
      "         2.48400e+02,  3.08000e+02,  1.31800e+02,  0.00000e+00,\n",
      "         4.74000e+01,  0.00000e+00, -9.99999e+05,  5.50000e+01,\n",
      "         0.00000e+00, -9.99999e+05,  0.00000e+00,  0.00000e+00,\n",
      "         1.19000e+01,  6.20000e+01,  3.66000e+01,  0.00000e+00,\n",
      "         1.01100e+02,  4.40000e+00, -9.99999e+05,  0.00000e+00,\n",
      "        -9.99999e+05,  0.00000e+00,  3.23000e+01,  0.00000e+00,\n",
      "         0.00000e+00, -9.99999e+05,  1.27000e+01, -9.99999e+05,\n",
      "         0.00000e+00,  0.00000e+00,  0.00000e+00,  1.18000e+01,\n",
      "        -9.99999e+05,  0.00000e+00,  0.00000e+00, -9.99999e+05,\n",
      "         0.00000e+00, -9.99999e+05,  0.00000e+00,  0.00000e+00,\n",
      "         1.13000e+01, -9.99999e+05,  0.00000e+00,  0.00000e+00,\n",
      "         0.00000e+00,  0.00000e+00,  0.00000e+00,  5.72000e+01,\n",
      "        -9.99999e+05]))\n",
      " ('2020-12-27', array([ 1.14000e+01, -9.99999e+05, -9.99999e+05,  3.48000e+01,\n",
      "         3.26000e+01,  5.80000e+00, -9.99999e+05,  2.31700e+02,\n",
      "         6.18000e+01, -9.99999e+05,  1.64900e+02,  9.20000e+00,\n",
      "         1.39300e+02,  2.70600e+02, -9.99999e+05,  6.70000e+00,\n",
      "         1.02500e+02, -9.99999e+05, -9.99999e+05,  4.29000e+01,\n",
      "         0.00000e+00, -9.99999e+05,  0.00000e+00,  0.00000e+00,\n",
      "         0.00000e+00,  7.56000e+01,  5.39000e+01, -9.99999e+05,\n",
      "         0.00000e+00,  0.00000e+00, -9.99999e+05,  0.00000e+00,\n",
      "         0.00000e+00, -9.99999e+05,  2.56000e+01,  0.00000e+00,\n",
      "        -9.99999e+05,  0.00000e+00,  1.36000e+01, -9.99999e+05,\n",
      "        -9.99999e+05, -9.99999e+05,  6.30000e+00,  3.31000e+01,\n",
      "        -9.99999e+05,  4.60000e+00,  0.00000e+00,  0.00000e+00,\n",
      "         5.40000e+00, -9.99999e+05,  0.00000e+00,  0.00000e+00,\n",
      "         6.30000e+00, -9.99999e+05,  0.00000e+00,  0.00000e+00,\n",
      "         0.00000e+00, -9.99999e+05, -9.99999e+05,  3.72000e+01,\n",
      "        -9.99999e+05]))                                                       ]\n",
<<<<<<< HEAD
=======
      " [[('2020-12-13',  6.40000e+00) ('2020-12-13', -9.99999e+05)\n",
      "  ('2020-12-13', -9.99999e+05) ('2020-12-13',  2.88000e+01)\n",
      "  ('2020-12-13',  2.48000e+01) ('2020-12-13',  1.96000e+01)\n",
      "  ('2020-12-13', -9.99999e+05) ('2020-12-13', -9.99999e+05)\n",
      "  ('2020-12-13',  7.29000e+01) ('2020-12-13', -9.99999e+05)\n",
      "  ('2020-12-13',  1.65600e+02) ('2020-12-13',  8.80000e+00)\n",
      "  ('2020-12-13',  2.21000e+02) ('2020-12-13',  3.23200e+02)\n",
      "  ('2020-12-13',  1.60600e+02) ('2020-12-13',  8.90000e+00)\n",
      "  ('2020-12-13',  1.44300e+02) ('2020-12-13', -9.99999e+05)\n",
      "  ('2020-12-13', -9.99999e+05) ('2020-12-13',  7.07000e+01)\n",
      "  ('2020-12-13', -9.99999e+05) ('2020-12-13',  0.00000e+00)\n",
      "  ('2020-12-13',  0.00000e+00) ('2020-12-13',  0.00000e+00)\n",
      "  ('2020-12-13',  0.00000e+00) ('2020-12-13',  7.89000e+01)\n",
      "  ('2020-12-13',  2.74000e+01) ('2020-12-13', -9.99999e+05)\n",
      "  ('2020-12-13', -9.99999e+05) ('2020-12-13',  8.10000e+00)\n",
      "  ('2020-12-13',  0.00000e+00) ('2020-12-13',  0.00000e+00)\n",
      "  ('2020-12-13', -9.99999e+05) ('2020-12-13',  0.00000e+00)\n",
      "  ('2020-12-13',  3.33000e+01) ('2020-12-13', -9.99999e+05)\n",
      "  ('2020-12-13',  0.00000e+00) ('2020-12-13',  0.00000e+00)\n",
      "  ('2020-12-13',  1.60000e+01) ('2020-12-13', -9.99999e+05)\n",
      "  ('2020-12-13',  0.00000e+00) ('2020-12-13',  0.00000e+00)\n",
      "  ('2020-12-13',  6.30000e+00) ('2020-12-13',  5.26000e+01)\n",
      "  ('2020-12-13', -9.99999e+05) ('2020-12-13',  0.00000e+00)\n",
      "  ('2020-12-13',  1.04000e+01) ('2020-12-13',  4.90000e+00)\n",
      "  ('2020-12-13',  8.40000e+00) ('2020-12-13',  6.10000e+00)\n",
      "  ('2020-12-13',  0.00000e+00) ('2020-12-13', -9.99999e+05)\n",
      "  ('2020-12-13',  1.14000e+01) ('2020-12-13', -9.99999e+05)\n",
      "  ('2020-12-13',  0.00000e+00) ('2020-12-13',  0.00000e+00)\n",
      "  ('2020-12-13',  0.00000e+00) ('2020-12-13', -9.99999e+05)\n",
      "  ('2020-12-13',  0.00000e+00) ('2020-12-13',  4.27000e+01)\n",
      "  ('2020-12-13',  0.00000e+00)]\n",
      " [('2020-12-20',  1.28000e+01) ('2020-12-20', -9.99999e+05)\n",
      "  ('2020-12-20',  1.03300e+02) ('2020-12-20',  1.17000e+01)\n",
      "  ('2020-12-20',  1.11000e+01) ('2020-12-20',  6.70000e+00)\n",
      "  ('2020-12-20', -9.99999e+05) ('2020-12-20',  1.54200e+02)\n",
      "  ('2020-12-20',  6.50000e+01) ('2020-12-20', -9.99999e+05)\n",
      "  ('2020-12-20',  1.66000e+02) ('2020-12-20',  8.00000e+00)\n",
      "  ('2020-12-20',  2.48400e+02) ('2020-12-20',  3.08000e+02)\n",
      "  ('2020-12-20',  1.31800e+02) ('2020-12-20',  0.00000e+00)\n",
      "  ('2020-12-20',  4.74000e+01) ('2020-12-20',  0.00000e+00)\n",
      "  ('2020-12-20', -9.99999e+05) ('2020-12-20',  5.50000e+01)\n",
      "  ('2020-12-20',  0.00000e+00) ('2020-12-20', -9.99999e+05)\n",
      "  ('2020-12-20',  0.00000e+00) ('2020-12-20',  0.00000e+00)\n",
      "  ('2020-12-20',  1.19000e+01) ('2020-12-20',  6.20000e+01)\n",
      "  ('2020-12-20',  3.66000e+01) ('2020-12-20',  0.00000e+00)\n",
      "  ('2020-12-20',  1.01100e+02) ('2020-12-20',  4.40000e+00)\n",
      "  ('2020-12-20', -9.99999e+05) ('2020-12-20',  0.00000e+00)\n",
      "  ('2020-12-20', -9.99999e+05) ('2020-12-20',  0.00000e+00)\n",
      "  ('2020-12-20',  3.23000e+01) ('2020-12-20',  0.00000e+00)\n",
      "  ('2020-12-20',  0.00000e+00) ('2020-12-20', -9.99999e+05)\n",
      "  ('2020-12-20',  1.27000e+01) ('2020-12-20', -9.99999e+05)\n",
      "  ('2020-12-20',  0.00000e+00) ('2020-12-20',  0.00000e+00)\n",
      "  ('2020-12-20',  0.00000e+00) ('2020-12-20',  1.18000e+01)\n",
      "  ('2020-12-20', -9.99999e+05) ('2020-12-20',  0.00000e+00)\n",
      "  ('2020-12-20',  0.00000e+00) ('2020-12-20', -9.99999e+05)\n",
      "  ('2020-12-20',  0.00000e+00) ('2020-12-20', -9.99999e+05)\n",
      "  ('2020-12-20',  0.00000e+00) ('2020-12-20',  0.00000e+00)\n",
      "  ('2020-12-20',  1.13000e+01) ('2020-12-20', -9.99999e+05)\n",
      "  ('2020-12-20',  0.00000e+00) ('2020-12-20',  0.00000e+00)\n",
      "  ('2020-12-20',  0.00000e+00) ('2020-12-20',  0.00000e+00)\n",
      "  ('2020-12-20',  0.00000e+00) ('2020-12-20',  5.72000e+01)\n",
      "  ('2020-12-20', -9.99999e+05)]\n",
      " [('2020-12-27',  1.14000e+01) ('2020-12-27', -9.99999e+05)\n",
      "  ('2020-12-27', -9.99999e+05) ('2020-12-27',  3.48000e+01)\n",
      "  ('2020-12-27',  3.26000e+01) ('2020-12-27',  5.80000e+00)\n",
      "  ('2020-12-27', -9.99999e+05) ('2020-12-27',  2.31700e+02)\n",
      "  ('2020-12-27',  6.18000e+01) ('2020-12-27', -9.99999e+05)\n",
      "  ('2020-12-27',  1.64900e+02) ('2020-12-27',  9.20000e+00)\n",
      "  ('2020-12-27',  1.39300e+02) ('2020-12-27',  2.70600e+02)\n",
      "  ('2020-12-27', -9.99999e+05) ('2020-12-27',  6.70000e+00)\n",
      "  ('2020-12-27',  1.02500e+02) ('2020-12-27', -9.99999e+05)\n",
      "  ('2020-12-27', -9.99999e+05) ('2020-12-27',  4.29000e+01)\n",
      "  ('2020-12-27',  0.00000e+00) ('2020-12-27', -9.99999e+05)\n",
      "  ('2020-12-27',  0.00000e+00) ('2020-12-27',  0.00000e+00)\n",
      "  ('2020-12-27',  0.00000e+00) ('2020-12-27',  7.56000e+01)\n",
      "  ('2020-12-27',  5.39000e+01) ('2020-12-27', -9.99999e+05)\n",
      "  ('2020-12-27',  0.00000e+00) ('2020-12-27',  0.00000e+00)\n",
      "  ('2020-12-27', -9.99999e+05) ('2020-12-27',  0.00000e+00)\n",
      "  ('2020-12-27',  0.00000e+00) ('2020-12-27', -9.99999e+05)\n",
      "  ('2020-12-27',  2.56000e+01) ('2020-12-27',  0.00000e+00)\n",
      "  ('2020-12-27', -9.99999e+05) ('2020-12-27',  0.00000e+00)\n",
      "  ('2020-12-27',  1.36000e+01) ('2020-12-27', -9.99999e+05)\n",
      "  ('2020-12-27', -9.99999e+05) ('2020-12-27', -9.99999e+05)\n",
      "  ('2020-12-27',  6.30000e+00) ('2020-12-27',  3.31000e+01)\n",
      "  ('2020-12-27', -9.99999e+05) ('2020-12-27',  4.60000e+00)\n",
      "  ('2020-12-27',  0.00000e+00) ('2020-12-27',  0.00000e+00)\n",
      "  ('2020-12-27',  5.40000e+00) ('2020-12-27', -9.99999e+05)\n",
      "  ('2020-12-27',  0.00000e+00) ('2020-12-27',  0.00000e+00)\n",
      "  ('2020-12-27',  6.30000e+00) ('2020-12-27', -9.99999e+05)\n",
      "  ('2020-12-27',  0.00000e+00) ('2020-12-27',  0.00000e+00)\n",
      "  ('2020-12-27',  0.00000e+00) ('2020-12-27', -9.99999e+05)\n",
      "  ('2020-12-27', -9.99999e+05) ('2020-12-27',  3.72000e+01)\n",
      "  ('2020-12-27', -9.99999e+05)]]\n",
>>>>>>> 91bd772 (Change return shape to individual tuples.)
      "\n",
      "COVID hospitalization sum:\n",
      " [[('2020-12-13',      45) ('2020-12-13',     448) ('2020-12-13',     678)\n",
      "  ('2020-12-13',     201) ('2020-12-13',     174) ('2020-12-13',      98)\n",
      "  ('2020-12-13', -999999) ('2020-12-13', -999999) ('2020-12-13',     510)\n",
      "  ('2020-12-13',    4685) ('2020-12-13',    1158) ('2020-12-13',      62)\n",
      "  ('2020-12-13',    1546) ('2020-12-13',    2262) ('2020-12-13',    1124)\n",
      "  ('2020-12-13',      62) ('2020-12-13',    1010) ('2020-12-13',       6)\n",
      "  ('2020-12-13',       6) ('2020-12-13',     494) ('2020-12-13', -999999)\n",
      "  ('2020-12-13',       0) ('2020-12-13',       0) ('2020-12-13',       0)\n",
      "  ('2020-12-13',       0) ('2020-12-13',     552) ('2020-12-13',     192)\n",
      "  ('2020-12-13',       8) ('2020-12-13',    1479) ('2020-12-13',      57)\n",
      "  ('2020-12-13',       0) ('2020-12-13',       0) ('2020-12-13',       5)\n",
      "  ('2020-12-13',       0) ('2020-12-13',     233) ('2020-12-13', -999999)\n",
      "  ('2020-12-13',       0) ('2020-12-13',       0) ('2020-12-13',     112)\n",
      "  ('2020-12-13',      89) ('2020-12-13',       0) ('2020-12-13',       0)\n",
      "  ('2020-12-13',      44) ('2020-12-13',     368) ('2020-12-13',      26)\n",
      "  ('2020-12-13',       0) ('2020-12-13',      73) ('2020-12-13',      34)\n",
      "  ('2020-12-13',      59) ('2020-12-13',      43) ('2020-12-13',       0)\n",
      "  ('2020-12-13',      11) ('2020-12-13',      80) ('2020-12-13', -999999)\n",
      "  ('2020-12-13',       0) ('2020-12-13',       0) ('2020-12-13',       0)\n",
      "  ('2020-12-13',       6) ('2020-12-13',       0) ('2020-12-13',     299)\n",
      "  ('2020-12-13',       0)]\n",
      " [('2020-12-20',      90) ('2020-12-20',     445) ('2020-12-20',     723)\n",
      "  ('2020-12-20',      82) ('2020-12-20',      78) ('2020-12-20',      40)\n",
      "  ('2020-12-20',   24739) ('2020-12-20',    1079) ('2020-12-20',     374)\n",
      "  ('2020-12-20',    5148) ('2020-12-20',    1162) ('2020-12-20',      56)\n",
      "  ('2020-12-20',    1738) ('2020-12-20',    2156) ('2020-12-20',     922)\n",
      "  ('2020-12-20',       0) ('2020-12-20',     332) ('2020-12-20',       0)\n",
      "  ('2020-12-20',       5) ('2020-12-20',     385) ('2020-12-20',       0)\n",
      "  ('2020-12-20',      21) ('2020-12-20',       0) ('2020-12-20',       0)\n",
      "  ('2020-12-20',      83) ('2020-12-20',     434) ('2020-12-20',     256)\n",
      "  ('2020-12-20',       0) ('2020-12-20',     708) ('2020-12-20',      31)\n",
      "  ('2020-12-20',       9) ('2020-12-20',       0) ('2020-12-20',       9)\n",
      "  ('2020-12-20',       0) ('2020-12-20',     226) ('2020-12-20',       0)\n",
      "  ('2020-12-20',       0) ('2020-12-20',       4) ('2020-12-20',      89)\n",
      "  ('2020-12-20',     373) ('2020-12-20',       0) ('2020-12-20',       0)\n",
      "  ('2020-12-20',       0) ('2020-12-20',      83) ('2020-12-20',      17)\n",
      "  ('2020-12-20',       0) ('2020-12-20',       0) ('2020-12-20', -999999)\n",
      "  ('2020-12-20',       0) ('2020-12-20',      12) ('2020-12-20',       0)\n",
      "  ('2020-12-20',       0) ('2020-12-20',      79) ('2020-12-20',       4)\n",
      "  ('2020-12-20',       0) ('2020-12-20',       0) ('2020-12-20',       0)\n",
      "  ('2020-12-20',       0) ('2020-12-20',       0) ('2020-12-20',     400)\n",
      "  ('2020-12-20',      15)]\n",
      " [('2020-12-27',      80) ('2020-12-27',     272) ('2020-12-27',     751)\n",
      "  ('2020-12-27',     244) ('2020-12-27',     228) ('2020-12-27',      23)\n",
      "  ('2020-12-27',   33878) ('2020-12-27',    1622) ('2020-12-27',     432)\n",
      "  ('2020-12-27',    6180) ('2020-12-27',    1154) ('2020-12-27',      64)\n",
      "  ('2020-12-27',     975) ('2020-12-27',    1894) ('2020-12-27',     945)\n",
      "  ('2020-12-27',      47) ('2020-12-27',     718) ('2020-12-27',      14)\n",
      "  ('2020-12-27',      13) ('2020-12-27',     300) ('2020-12-27',       0)\n",
      "  ('2020-12-27', -999999) ('2020-12-27',       0) ('2020-12-27',       0)\n",
      "  ('2020-12-27',       0) ('2020-12-27',     529) ('2020-12-27',     377)\n",
      "  ('2020-12-27',      12) ('2020-12-27',       0) ('2020-12-27',       0)\n",
      "  ('2020-12-27',      54) ('2020-12-27',       0) ('2020-12-27',       0)\n",
      "  ('2020-12-27',      13) ('2020-12-27',     179) ('2020-12-27',       0)\n",
      "  ('2020-12-27', -999999) ('2020-12-27',       0) ('2020-12-27',      95)\n",
      "  ('2020-12-27', -999999) ('2020-12-27',       8) ('2020-12-27', -999999)\n",
      "  ('2020-12-27',      44) ('2020-12-27',     232) ('2020-12-27',      19)\n",
      "  ('2020-12-27',      32) ('2020-12-27',       0) ('2020-12-27',       0)\n",
      "  ('2020-12-27',      38) ('2020-12-27',      54) ('2020-12-27',       0)\n",
      "  ('2020-12-27',       0) ('2020-12-27',      44) ('2020-12-27', -999999)\n",
      "  ('2020-12-27',       0) ('2020-12-27',       0) ('2020-12-27',       0)\n",
      "  ('2020-12-27',      11) ('2020-12-27',       9) ('2020-12-27',     260)\n",
      "  ('2020-12-27', -999999)]]\n",
      "\n",
      "Influenza hospitalization average:\n",
      " [[('2020-12-13',       0.) ('2020-12-13',       0.)\n",
      "  ('2020-12-13',       0.) ('2020-12-13',       0.)\n",
      "  ('2020-12-13', -999999.) ('2020-12-13',       0.)\n",
      "  ('2020-12-13', -999999.) ('2020-12-13', -999999.)\n",
      "  ('2020-12-13',       0.) ('2020-12-13', -999999.)\n",
      "  ('2020-12-13',       0.) ('2020-12-13',       0.)\n",
      "  ('2020-12-13',       0.) ('2020-12-13',       0.)\n",
      "  ('2020-12-13',       0.) ('2020-12-13',       0.)\n",
      "  ('2020-12-13',       0.) ('2020-12-13',       0.)\n",
      "  ('2020-12-13',       0.) ('2020-12-13',       0.)\n",
      "  ('2020-12-13', -999999.) ('2020-12-13',       0.)\n",
      "  ('2020-12-13',       0.) ('2020-12-13',       0.)\n",
      "  ('2020-12-13',       0.) ('2020-12-13',       0.)\n",
      "  ('2020-12-13',       0.) ('2020-12-13',       0.)\n",
      "  ('2020-12-13',       0.) ('2020-12-13',       0.)\n",
      "  ('2020-12-13',       0.) ('2020-12-13',       0.)\n",
      "  ('2020-12-13',       0.) ('2020-12-13',       0.)\n",
      "  ('2020-12-13',       0.) ('2020-12-13',       0.)\n",
      "  ('2020-12-13',       0.) ('2020-12-13',       0.)\n",
      "  ('2020-12-13', -999999.) ('2020-12-13',       0.)\n",
      "  ('2020-12-13',       0.) ('2020-12-13',       0.)\n",
      "  ('2020-12-13',       0.) ('2020-12-13',       0.)\n",
      "  ('2020-12-13',       0.) ('2020-12-13',       0.)\n",
      "  ('2020-12-13',       0.) ('2020-12-13',       0.)\n",
      "  ('2020-12-13',       0.) ('2020-12-13',       0.)\n",
      "  ('2020-12-13',       0.) ('2020-12-13',       0.)\n",
      "  ('2020-12-13',       0.) ('2020-12-13',       0.)\n",
      "  ('2020-12-13',       0.) ('2020-12-13',       0.)\n",
      "  ('2020-12-13',       0.) ('2020-12-13',       0.)\n",
      "  ('2020-12-13',       0.) ('2020-12-13', -999999.)\n",
      "  ('2020-12-13',       0.)]\n",
      " [('2020-12-20', -999999.) ('2020-12-20',       0.)\n",
      "  ('2020-12-20',       0.) ('2020-12-20',       0.)\n",
      "  ('2020-12-20',       0.) ('2020-12-20',       0.)\n",
      "  ('2020-12-20', -999999.) ('2020-12-20',       0.)\n",
      "  ('2020-12-20',       0.) ('2020-12-20', -999999.)\n",
      "  ('2020-12-20',       0.) ('2020-12-20',       0.)\n",
      "  ('2020-12-20',       0.) ('2020-12-20',       0.)\n",
      "  ('2020-12-20', -999999.) ('2020-12-20',       0.)\n",
      "  ('2020-12-20',       0.) ('2020-12-20',       0.)\n",
      "  ('2020-12-20',       0.) ('2020-12-20',       0.)\n",
      "  ('2020-12-20',       0.) ('2020-12-20',       0.)\n",
      "  ('2020-12-20',       0.) ('2020-12-20',       0.)\n",
      "  ('2020-12-20',       0.) ('2020-12-20',       0.)\n",
      "  ('2020-12-20',       0.) ('2020-12-20',       0.)\n",
      "  ('2020-12-20',       0.) ('2020-12-20',       0.)\n",
      "  ('2020-12-20',       0.) ('2020-12-20',       0.)\n",
      "  ('2020-12-20',       0.) ('2020-12-20',       0.)\n",
      "  ('2020-12-20',       0.) ('2020-12-20',       0.)\n",
      "  ('2020-12-20',       0.) ('2020-12-20',       0.)\n",
      "  ('2020-12-20', -999999.) ('2020-12-20',       0.)\n",
      "  ('2020-12-20',       0.) ('2020-12-20',       0.)\n",
      "  ('2020-12-20',       0.) ('2020-12-20',       0.)\n",
      "  ('2020-12-20',       0.) ('2020-12-20',       0.)\n",
      "  ('2020-12-20',       0.) ('2020-12-20',       0.)\n",
      "  ('2020-12-20',       0.) ('2020-12-20',       0.)\n",
      "  ('2020-12-20',       0.) ('2020-12-20',       0.)\n",
      "  ('2020-12-20',       0.) ('2020-12-20',       0.)\n",
      "  ('2020-12-20',       0.) ('2020-12-20',       0.)\n",
      "  ('2020-12-20',       0.) ('2020-12-20',       0.)\n",
      "  ('2020-12-20',       0.) ('2020-12-20', -999999.)\n",
      "  ('2020-12-20',       0.)]\n",
      " [('2020-12-27', -999999.) ('2020-12-27',       0.)\n",
      "  ('2020-12-27',       0.) ('2020-12-27',       0.)\n",
      "  ('2020-12-27',       0.) ('2020-12-27',       0.)\n",
      "  ('2020-12-27', -999999.) ('2020-12-27',       0.)\n",
      "  ('2020-12-27',       0.) ('2020-12-27', -999999.)\n",
      "  ('2020-12-27', -999999.) ('2020-12-27',       0.)\n",
      "  ('2020-12-27',       0.) ('2020-12-27',       0.)\n",
      "  ('2020-12-27',       0.) ('2020-12-27',       0.)\n",
      "  ('2020-12-27',       0.) ('2020-12-27',       0.)\n",
      "  ('2020-12-27',       0.) ('2020-12-27',       0.)\n",
      "  ('2020-12-27',       0.) ('2020-12-27',       0.)\n",
      "  ('2020-12-27',       0.) ('2020-12-27',       0.)\n",
      "  ('2020-12-27',       0.) ('2020-12-27',       0.)\n",
      "  ('2020-12-27',       0.) ('2020-12-27',       0.)\n",
      "  ('2020-12-27',       0.) ('2020-12-27',       0.)\n",
      "  ('2020-12-27',       0.) ('2020-12-27',       0.)\n",
      "  ('2020-12-27',       0.) ('2020-12-27',       0.)\n",
      "  ('2020-12-27',       0.) ('2020-12-27',       0.)\n",
      "  ('2020-12-27',       0.) ('2020-12-27',       0.)\n",
      "  ('2020-12-27', -999999.) ('2020-12-27',       0.)\n",
      "  ('2020-12-27',       0.) ('2020-12-27',       0.)\n",
      "  ('2020-12-27',       0.) ('2020-12-27',       0.)\n",
      "  ('2020-12-27',       0.) ('2020-12-27',       0.)\n",
      "  ('2020-12-27',       0.) ('2020-12-27',       0.)\n",
      "  ('2020-12-27',       0.) ('2020-12-27',       0.)\n",
      "  ('2020-12-27',       0.) ('2020-12-27',       0.)\n",
      "  ('2020-12-27',       0.) ('2020-12-27',       0.)\n",
      "  ('2020-12-27',       0.) ('2020-12-27',       0.)\n",
      "  ('2020-12-27',       0.) ('2020-12-27',       0.)\n",
      "  ('2020-12-27',       0.) ('2020-12-27', -999999.)\n",
      "  ('2020-12-27',       0.)]]\n",
      "\n",
      "Influenza hospitalization sum:\n",
<<<<<<< HEAD
      " [('2020-12-13', array([      0,       0,       0,       0, -999999,       0, -999999,\n",
      "        -999999,       0, -999999,       0,       0,       0,       0,\n",
      "              0,       0,       0,       0,       0,       0,       6,\n",
      "              0,       0,       0,       0,       0,       0,       0,\n",
      "              0,       0,       0,       0,       0,       0,       0,\n",
      "              0,       0,       0,       7,       0,       0,       0,\n",
      "              0,       0,       0,       0,       0,       0,       0,\n",
      "              0,       0,       0,       0,       0,       0,       0,\n",
      "              0,       0,       0,      14,       0]))\n",
      " ('2020-12-20', array([-999999,       0,       0,       0,       0,       0, -999999,\n",
      "              0,       0,      10,       0,       0,       0,       0,\n",
      "        -999999,       0,       0,       0,       0,       0,       0,\n",
      "              0,       0,       0,       0,       0,       0,       0,\n",
      "              0,       0,       0,       0,       0,       0,       0,\n",
      "              0,       0,       0,       7,       0,       0,       0,\n",
      "              0,       0,       0,       0,       0,       0,       0,\n",
      "              0,       0,       0,       0,       0,       0,       0,\n",
      "              0,       0,       0,      14,       0]))\n",
      " ('2020-12-27', array([-999999,       0,       0,       0,       0,       0, -999999,\n",
      "              0,       0, -999999, -999999,       0,       0,       0,\n",
      "              0,       0,       0,       0,       0,       0,       0,\n",
      "              0,       0,       0,       0,       0,       0,       0,\n",
      "              0,       0,       0,       0,       0,       0,       0,\n",
      "              0,       0,       0,       7,       0,       0,       0,\n",
      "              0,       0,       0,       0,       0,       0,       0,\n",
      "              0,       0,       0,       0,       0,       0,       0,\n",
      "              0,       0,       0,      14,       0]))                               ]\n"
=======
      " [[ 6.40000e+00 -9.99999e+05 -9.99999e+05 ... -9.99999e+05  6.20000e+01\n",
      "  -9.99999e+05]\n",
      " [ 6.40000e+00 -9.99999e+05  5.37000e+01 ... -9.99999e+05  5.72000e+01\n",
      "  -9.99999e+05]\n",
      " [ 5.70000e+00 -9.99999e+05 -9.99999e+05 ... -9.99999e+05  3.72000e+01\n",
      "  -9.99999e+05]\n",
      " ...\n",
      " [-9.99999e+05 -9.99999e+05  6.70000e+00 ...  0.00000e+00 -9.99999e+05\n",
      "   0.00000e+00]\n",
      " [-9.99999e+05 -9.99999e+05  5.70000e+00 ...  0.00000e+00 -9.99999e+05\n",
      "   0.00000e+00]\n",
      " [-9.99999e+05 -9.99999e+05  5.00000e+00 ...  0.00000e+00 -9.99999e+05\n",
      "   0.00000e+00]]\n",
=======
>>>>>>> 64527af (Combine query cases, add paging, return date string.)
      "\n",
      "COVID hospitalization sum:\n",
      " [('2020-12-13', array([     45,     448,     678,     201,     174,      98, -999999,\n",
      "        -999999,     510,    4685,    1158,      62,    1546,    2262,\n",
      "           1124,      62,    1010,       6,       6,     494, -999999,\n",
      "              0,       0,       0,       0,     552,     192,       8,\n",
      "           1479,      57,       0,       0,       5,       0,     233,\n",
      "        -999999,       0,       0,     112,      89,       0,       0,\n",
      "             44,     368,      26,       0,      73,      34,      59,\n",
      "             43,       0,      11,      80, -999999,       0,       0,\n",
      "              0,       6,       0,     299,       0]))\n",
      " ('2020-12-20', array([     90,     445,     723,      82,      78,      40,   24739,\n",
      "           1079,     374,    5148,    1162,      56,    1738,    2156,\n",
      "            922,       0,     332,       0,       5,     385,       0,\n",
      "             21,       0,       0,      83,     434,     256,       0,\n",
      "            708,      31,       9,       0,       9,       0,     226,\n",
      "              0,       0,       4,      89,     373,       0,       0,\n",
      "              0,      83,      17,       0,       0, -999999,       0,\n",
      "             12,       0,       0,      79,       4,       0,       0,\n",
      "              0,       0,       0,     400,      15]))\n",
      " ('2020-12-27', array([     80,     272,     751,     244,     228,      23,   33878,\n",
      "           1622,     432,    6180,    1154,      64,     975,    1894,\n",
      "            945,      47,     718,      14,      13,     300,       0,\n",
      "        -999999,       0,       0,       0,     529,     377,      12,\n",
      "              0,       0,      54,       0,       0,      13,     179,\n",
      "              0, -999999,       0,      95, -999999,       8, -999999,\n",
      "             44,     232,      19,      32,       0,       0,      38,\n",
      "             54,       0,       0,      44, -999999,       0,       0,\n",
      "              0,      11,       9,     260, -999999]))                               ]\n",
      "\n",
      "Influenza hospitalization average:\n",
      " [('2020-12-13', array([      0.,       0.,       0.,       0., -999999.,       0.,\n",
      "        -999999., -999999.,       0., -999999.,       0.,       0.,\n",
      "              0.,       0.,       0.,       0.,       0.,       0.,\n",
      "              0.,       0., -999999.,       0.,       0.,       0.,\n",
      "              0.,       0.,       0.,       0.,       0.,       0.,\n",
      "              0.,       0.,       0.,       0.,       0.,       0.,\n",
      "              0.,       0., -999999.,       0.,       0.,       0.,\n",
      "              0.,       0.,       0.,       0.,       0.,       0.,\n",
      "              0.,       0.,       0.,       0.,       0.,       0.,\n",
      "              0.,       0.,       0.,       0.,       0., -999999.,\n",
      "              0.]))\n",
      " ('2020-12-20', array([-999999.,       0.,       0.,       0.,       0.,       0.,\n",
      "        -999999.,       0.,       0., -999999.,       0.,       0.,\n",
      "              0.,       0., -999999.,       0.,       0.,       0.,\n",
      "              0.,       0.,       0.,       0.,       0.,       0.,\n",
      "              0.,       0.,       0.,       0.,       0.,       0.,\n",
      "              0.,       0.,       0.,       0.,       0.,       0.,\n",
      "              0.,       0., -999999.,       0.,       0.,       0.,\n",
      "              0.,       0.,       0.,       0.,       0.,       0.,\n",
      "              0.,       0.,       0.,       0.,       0.,       0.,\n",
      "              0.,       0.,       0.,       0.,       0., -999999.,\n",
      "              0.]))\n",
      " ('2020-12-27', array([-999999.,       0.,       0.,       0.,       0.,       0.,\n",
      "        -999999.,       0.,       0., -999999., -999999.,       0.,\n",
      "              0.,       0.,       0.,       0.,       0.,       0.,\n",
      "              0.,       0.,       0.,       0.,       0.,       0.,\n",
      "              0.,       0.,       0.,       0.,       0.,       0.,\n",
      "              0.,       0.,       0.,       0.,       0.,       0.,\n",
      "              0.,       0., -999999.,       0.,       0.,       0.,\n",
      "              0.,       0.,       0.,       0.,       0.,       0.,\n",
      "              0.,       0.,       0.,       0.,       0.,       0.,\n",
      "              0.,       0.,       0.,       0.,       0., -999999.,\n",
      "              0.]))                                                               ]\n",
      "\n",
      "Influenza hospitalization sum:\n",
<<<<<<< HEAD
      " [[      0       0       0 ...       0      14       0]\n",
      " [-999999       0       0 ...       0      14       0]\n",
      " [-999999       0       0 ...       0      14       0]\n",
      " ...\n",
      " [      0       0       0 ...       0       0       0]\n",
      " [      0       0 -999999 ...       0       0       0]\n",
      " [      0       0       0 ...       0 -999999       0]]\n"
>>>>>>> dc43c17 (Added attribute table to devlog.)
=======
      " [('2020-12-13', array([      0,       0,       0,       0, -999999,       0, -999999,\n",
      "        -999999,       0, -999999,       0,       0,       0,       0,\n",
      "              0,       0,       0,       0,       0,       0,       6,\n",
      "              0,       0,       0,       0,       0,       0,       0,\n",
      "              0,       0,       0,       0,       0,       0,       0,\n",
      "              0,       0,       0,       7,       0,       0,       0,\n",
      "              0,       0,       0,       0,       0,       0,       0,\n",
      "              0,       0,       0,       0,       0,       0,       0,\n",
      "              0,       0,       0,      14,       0]))\n",
      " ('2020-12-20', array([-999999,       0,       0,       0,       0,       0, -999999,\n",
      "              0,       0,      10,       0,       0,       0,       0,\n",
      "        -999999,       0,       0,       0,       0,       0,       0,\n",
      "              0,       0,       0,       0,       0,       0,       0,\n",
      "              0,       0,       0,       0,       0,       0,       0,\n",
      "              0,       0,       0,       7,       0,       0,       0,\n",
      "              0,       0,       0,       0,       0,       0,       0,\n",
      "              0,       0,       0,       0,       0,       0,       0,\n",
      "              0,       0,       0,      14,       0]))\n",
      " ('2020-12-27', array([-999999,       0,       0,       0,       0,       0, -999999,\n",
      "              0,       0, -999999, -999999,       0,       0,       0,\n",
      "              0,       0,       0,       0,       0,       0,       0,\n",
      "              0,       0,       0,       0,       0,       0,       0,\n",
      "              0,       0,       0,       0,       0,       0,       0,\n",
      "              0,       0,       0,       7,       0,       0,       0,\n",
      "              0,       0,       0,       0,       0,       0,       0,\n",
      "              0,       0,       0,       0,       0,       0,       0,\n",
      "              0,       0,       0,      14,       0]))                               ]\n"
>>>>>>> 64527af (Combine query cases, add paging, return date string.)
=======
      " [[('2020-12-13',       0) ('2020-12-13',       0) ('2020-12-13',       0)\n",
      "  ('2020-12-13',       0) ('2020-12-13', -999999) ('2020-12-13',       0)\n",
      "  ('2020-12-13', -999999) ('2020-12-13', -999999) ('2020-12-13',       0)\n",
      "  ('2020-12-13', -999999) ('2020-12-13',       0) ('2020-12-13',       0)\n",
      "  ('2020-12-13',       0) ('2020-12-13',       0) ('2020-12-13',       0)\n",
      "  ('2020-12-13',       0) ('2020-12-13',       0) ('2020-12-13',       0)\n",
      "  ('2020-12-13',       0) ('2020-12-13',       0) ('2020-12-13',       6)\n",
      "  ('2020-12-13',       0) ('2020-12-13',       0) ('2020-12-13',       0)\n",
      "  ('2020-12-13',       0) ('2020-12-13',       0) ('2020-12-13',       0)\n",
      "  ('2020-12-13',       0) ('2020-12-13',       0) ('2020-12-13',       0)\n",
      "  ('2020-12-13',       0) ('2020-12-13',       0) ('2020-12-13',       0)\n",
      "  ('2020-12-13',       0) ('2020-12-13',       0) ('2020-12-13',       0)\n",
      "  ('2020-12-13',       0) ('2020-12-13',       0) ('2020-12-13',       7)\n",
      "  ('2020-12-13',       0) ('2020-12-13',       0) ('2020-12-13',       0)\n",
      "  ('2020-12-13',       0) ('2020-12-13',       0) ('2020-12-13',       0)\n",
      "  ('2020-12-13',       0) ('2020-12-13',       0) ('2020-12-13',       0)\n",
      "  ('2020-12-13',       0) ('2020-12-13',       0) ('2020-12-13',       0)\n",
      "  ('2020-12-13',       0) ('2020-12-13',       0) ('2020-12-13',       0)\n",
      "  ('2020-12-13',       0) ('2020-12-13',       0) ('2020-12-13',       0)\n",
      "  ('2020-12-13',       0) ('2020-12-13',       0) ('2020-12-13',      14)\n",
      "  ('2020-12-13',       0)]\n",
      " [('2020-12-20', -999999) ('2020-12-20',       0) ('2020-12-20',       0)\n",
      "  ('2020-12-20',       0) ('2020-12-20',       0) ('2020-12-20',       0)\n",
      "  ('2020-12-20', -999999) ('2020-12-20',       0) ('2020-12-20',       0)\n",
      "  ('2020-12-20',      10) ('2020-12-20',       0) ('2020-12-20',       0)\n",
      "  ('2020-12-20',       0) ('2020-12-20',       0) ('2020-12-20', -999999)\n",
      "  ('2020-12-20',       0) ('2020-12-20',       0) ('2020-12-20',       0)\n",
      "  ('2020-12-20',       0) ('2020-12-20',       0) ('2020-12-20',       0)\n",
      "  ('2020-12-20',       0) ('2020-12-20',       0) ('2020-12-20',       0)\n",
      "  ('2020-12-20',       0) ('2020-12-20',       0) ('2020-12-20',       0)\n",
      "  ('2020-12-20',       0) ('2020-12-20',       0) ('2020-12-20',       0)\n",
      "  ('2020-12-20',       0) ('2020-12-20',       0) ('2020-12-20',       0)\n",
      "  ('2020-12-20',       0) ('2020-12-20',       0) ('2020-12-20',       0)\n",
      "  ('2020-12-20',       0) ('2020-12-20',       0) ('2020-12-20',       7)\n",
      "  ('2020-12-20',       0) ('2020-12-20',       0) ('2020-12-20',       0)\n",
      "  ('2020-12-20',       0) ('2020-12-20',       0) ('2020-12-20',       0)\n",
      "  ('2020-12-20',       0) ('2020-12-20',       0) ('2020-12-20',       0)\n",
      "  ('2020-12-20',       0) ('2020-12-20',       0) ('2020-12-20',       0)\n",
      "  ('2020-12-20',       0) ('2020-12-20',       0) ('2020-12-20',       0)\n",
      "  ('2020-12-20',       0) ('2020-12-20',       0) ('2020-12-20',       0)\n",
      "  ('2020-12-20',       0) ('2020-12-20',       0) ('2020-12-20',      14)\n",
      "  ('2020-12-20',       0)]\n",
      " [('2020-12-27', -999999) ('2020-12-27',       0) ('2020-12-27',       0)\n",
      "  ('2020-12-27',       0) ('2020-12-27',       0) ('2020-12-27',       0)\n",
      "  ('2020-12-27', -999999) ('2020-12-27',       0) ('2020-12-27',       0)\n",
      "  ('2020-12-27', -999999) ('2020-12-27', -999999) ('2020-12-27',       0)\n",
      "  ('2020-12-27',       0) ('2020-12-27',       0) ('2020-12-27',       0)\n",
      "  ('2020-12-27',       0) ('2020-12-27',       0) ('2020-12-27',       0)\n",
      "  ('2020-12-27',       0) ('2020-12-27',       0) ('2020-12-27',       0)\n",
      "  ('2020-12-27',       0) ('2020-12-27',       0) ('2020-12-27',       0)\n",
      "  ('2020-12-27',       0) ('2020-12-27',       0) ('2020-12-27',       0)\n",
      "  ('2020-12-27',       0) ('2020-12-27',       0) ('2020-12-27',       0)\n",
      "  ('2020-12-27',       0) ('2020-12-27',       0) ('2020-12-27',       0)\n",
      "  ('2020-12-27',       0) ('2020-12-27',       0) ('2020-12-27',       0)\n",
      "  ('2020-12-27',       0) ('2020-12-27',       0) ('2020-12-27',       7)\n",
      "  ('2020-12-27',       0) ('2020-12-27',       0) ('2020-12-27',       0)\n",
      "  ('2020-12-27',       0) ('2020-12-27',       0) ('2020-12-27',       0)\n",
      "  ('2020-12-27',       0) ('2020-12-27',       0) ('2020-12-27',       0)\n",
      "  ('2020-12-27',       0) ('2020-12-27',       0) ('2020-12-27',       0)\n",
      "  ('2020-12-27',       0) ('2020-12-27',       0) ('2020-12-27',       0)\n",
      "  ('2020-12-27',       0) ('2020-12-27',       0) ('2020-12-27',       0)\n",
      "  ('2020-12-27',       0) ('2020-12-27',       0) ('2020-12-27',      14)\n",
      "  ('2020-12-27',       0)]]\n"
>>>>>>> 91bd772 (Change return shape to individual tuples.)
     ]
    }
   ],
   "source": [
<<<<<<< HEAD
<<<<<<< HEAD
<<<<<<< HEAD
=======
>>>>>>> 64527af (Combine query cases, add paging, return date string.)
    "print(f\"COVID hospitalization average:\\n {covid_avg.get_value()[:3]}\\n\")\n",
    "print(f\"COVID hospitalization sum:\\n {covid_sum.get_value()[:3]}\\n\")\n",
    "print(f\"Influenza hospitalization average:\\n {flu_avg.get_value()[:3]}\\n\")\n",
    "print(f\"Influenza hospitalization sum:\\n {flu_sum.get_value()[:3]}\")"
<<<<<<< HEAD
=======
    "geo = DynamicGeo.from_library(spec, adrio_maker_library)\n",
    "\n",
    "print(f\"COVID hospitalization average:\\n {geo['covid_hospitalization_avg_facility']}\\n\")\n",
    "print(f\"COVID hospitalization sum:\\n {geo['covid_hospitalization_sum_facility']}\\n\")\n",
    "print(\n",
    "    f\"Influenza hospitalization average:\\n {geo['influenza_hospitalization_avg_facility']}\\n\")\n",
    "print(\n",
    "    f\"Influenza hospitalization sum:\\n {geo['influenza_hospitalization_sum_facility']}\")"
>>>>>>> dc43c17 (Added attribute table to devlog.)
=======
    "print(f\"COVID hospitalization average:\\n {covid_avg.get_value()}\\n\")\n",
    "print(f\"COVID hospitalization sum:\\n {covid_sum.get_value()}\\n\")\n",
    "print(f\"Influenza hospitalization average:\\n {flu_avg.get_value()}\\n\")\n",
    "print(f\"Influenza hospitalization sum:\\n {flu_sum.get_value()}\")"
>>>>>>> ef5f604 (Date filtering and devlog improvements.)
=======
>>>>>>> 64527af (Combine query cases, add paging, return date string.)
   ]
  },
  {
   "cell_type": "markdown",
   "metadata": {},
   "source": [
    "### **Weekly United States Hospitalization Metrics by Jurisdiction**\n",
    "Like the previous dataset, this dataset is used to fetch hospitalization data for COVID-19 and other respiratory illnesses. Unlike the previous dataset however, it includes metrics reported voluntarily after the end of the manditory reporting period and is limited to state granularity.\n",
    "\n",
    "- Supported attributes: covid_hospitalization_avg_state, covid_hospitalization_sum_state, influenza_hospitalization_avg_state, influenza_hospitalization_sum_state\n",
    "- Available date range: 1/04/2020 to present. Data reported voluntary past 5/1/2024.\n",
    "- Granularity: state\n",
    "\n",
    "https://data.cdc.gov/Public-Health-Surveillance/Weekly-United-States-Hospitalization-Metrics-by-Ju/aemt-mg7g/about_data"
   ]
  },
  {
   "cell_type": "code",
<<<<<<< HEAD
<<<<<<< HEAD
<<<<<<< HEAD
   "execution_count": 6,
=======
   "execution_count": 10,
>>>>>>> 91bd772 (Change return shape to individual tuples.)
   "metadata": {},
   "outputs": [],
   "source": [
    "time_period = DateRange(date(2020, 12, 13), date(2024, 6, 28))\n",
    "\n",
    "covid_avg = maker.make_adrio(AttributeDef(\n",
    "    \"covid_hospitalization_avg_state\", float, Shapes.TxN), state_scope, time_period)\n",
    "covid_sum = maker.make_adrio(AttributeDef(\n",
    "    \"covid_hospitalization_sum_state\", int, Shapes.TxN), state_scope, time_period)\n",
    "flu_avg = maker.make_adrio(AttributeDef(\n",
    "    \"influenza_hospitalization_avg_state\", float, Shapes.TxN), state_scope, time_period)\n",
    "flu_sum = maker.make_adrio(AttributeDef(\n",
    "    \"influenza_hospitalization_sum_state\", int, Shapes.TxN), state_scope, time_period)"
=======
   "execution_count": 7,
   "metadata": {},
   "outputs": [],
   "source": [
    "spec = DynamicGeoSpec(\n",
    "    attributes=[\n",
    "        geo_attrib('label', str, Shapes.N),\n",
    "        geo_attrib('population', int, Shapes.N),\n",
    "        geo_attrib(\"covid_hospitalization_avg_state\", float, Shapes.TxN),\n",
    "        geo_attrib(\"covid_hospitalization_sum_state\", int, Shapes.TxN),\n",
    "        geo_attrib(\"influenza_hospitalization_avg_state\", float, Shapes.TxN),\n",
    "        geo_attrib(\"influenza_hospitalization_sum_state\", int, Shapes.TxN),\n",
    "    ],\n",
    "    time_period=DateRange(date(2020, 12, 13), date(2024, 6, 28)),\n",
    "    scope=StateScope.in_states(['04', '08']),\n",
    "    source={\n",
    "        'label': CSVSpec(file_path=Path(\"./scratch/cdc_label_pop_state.csv\"),\n",
    "                         key_col=0, data_col=1, key_type=\"geoid\", skiprows=None),\n",
    "        'population': CSVSpec(file_path=Path(\"./scratch/cdc_label_pop_state.csv\"),\n",
    "                              key_col=0, data_col=2, key_type=\"geoid\", skiprows=None),\n",
    "        \"covid_hospitalization_avg_state\": \"CDC\",\n",
    "        \"covid_hospitalization_sum_state\": \"CDC\",\n",
    "        \"influenza_hospitalization_avg_state\": \"CDC\",\n",
    "        \"influenza_hospitalization_sum_state\": \"CDC\",\n",
    "    }\n",
    ")"
>>>>>>> dc43c17 (Added attribute table to devlog.)
=======
   "execution_count": 6,
   "metadata": {},
   "outputs": [],
   "source": [
    "time_period = DateRange(date(2020, 12, 13), date(2024, 6, 28))\n",
    "\n",
    "covid_avg = maker.make_adrio(geo_attrib(\n",
    "    \"covid_hospitalization_avg_state\", float, Shapes.TxN), state_scope, time_period)\n",
    "covid_sum = maker.make_adrio(geo_attrib(\n",
    "    \"covid_hospitalization_sum_state\", int, Shapes.TxN), state_scope, time_period)\n",
    "flu_avg = maker.make_adrio(geo_attrib(\n",
    "    \"influenza_hospitalization_avg_state\", float, Shapes.TxN), state_scope, time_period)\n",
    "flu_sum = maker.make_adrio(geo_attrib(\n",
    "    \"influenza_hospitalization_sum_state\", int, Shapes.TxN), state_scope, time_period)"
>>>>>>> ef5f604 (Date filtering and devlog improvements.)
   ]
  },
  {
   "cell_type": "code",
<<<<<<< HEAD
<<<<<<< HEAD
<<<<<<< HEAD
   "execution_count": 7,
=======
   "execution_count": 11,
>>>>>>> 91bd772 (Change return shape to individual tuples.)
   "metadata": {},
   "outputs": [
    {
     "name": "stderr",
     "output_type": "stream",
     "text": [
<<<<<<< HEAD
<<<<<<< HEAD
<<<<<<< HEAD
      "/home/waff/Desktop/CCL/Epymorph/epymorph/geo/adrio/cdc/adrio_cdc.py:201: UserWarning: State level hospitalization data is voluntary past 5/1/2024.\n",
=======
      "/home/waff/Desktop/CCL/Epymorph/epymorph/geo/adrio/cdc/adrio_cdc.py:213: UserWarning: State level hospitalization data is voluntary past 5/1/2024.\n",
>>>>>>> 91bd772 (Change return shape to individual tuples.)
      "  warn(\"State level hospitalization data is voluntary past 5/1/2024.\")\n"
     ]
    },
    {
     "name": "stdout",
     "output_type": "stream",
     "text": [
      "COVID hospitalization average:\n",
      " [[('2020-12-19', 452.) ('2020-12-19', 199.)]\n",
      " [('2020-12-26', 472.) ('2020-12-26', 164.)]\n",
      " [('2021-01-02', 495.) ('2021-01-02', 150.)]]\n",
      "...\n",
      "\n"
     ]
    },
    {
     "name": "stderr",
     "output_type": "stream",
     "text": [
      "/home/waff/Desktop/CCL/Epymorph/epymorph/geo/adrio/cdc/adrio_cdc.py:213: UserWarning: State level hospitalization data is voluntary past 5/1/2024.\n",
      "  warn(\"State level hospitalization data is voluntary past 5/1/2024.\")\n"
     ]
    },
    {
     "name": "stdout",
     "output_type": "stream",
     "text": [
      "COVID hospitalization sum:\n",
      " [[('2020-12-19', 3164) ('2020-12-19', 1396)]\n",
      " [('2020-12-26', 3307) ('2020-12-26', 1148)]\n",
      " [('2021-01-02', 3465) ('2021-01-02', 1051)]]\n",
      "...\n",
      "\n"
     ]
    },
    {
     "name": "stderr",
     "output_type": "stream",
     "text": [
      "/home/waff/Desktop/CCL/Epymorph/epymorph/geo/adrio/cdc/adrio_cdc.py:213: UserWarning: State level hospitalization data is voluntary past 5/1/2024.\n",
      "  warn(\"State level hospitalization data is voluntary past 5/1/2024.\")\n"
     ]
    },
    {
     "name": "stdout",
     "output_type": "stream",
     "text": [
      "Influenza hospitalization average:\n",
      " [[('2020-12-19', 2.) ('2020-12-19', 1.)]\n",
      " [('2020-12-26', 1.) ('2020-12-26', 1.)]\n",
      " [('2021-01-02', 6.) ('2021-01-02', 0.)]]\n",
      "...\n",
      "\n"
     ]
    },
    {
     "name": "stderr",
     "output_type": "stream",
     "text": [
      "/home/waff/Desktop/CCL/Epymorph/epymorph/geo/adrio/cdc/adrio_cdc.py:213: UserWarning: State level hospitalization data is voluntary past 5/1/2024.\n",
      "  warn(\"State level hospitalization data is voluntary past 5/1/2024.\")\n"
     ]
    },
    {
     "name": "stdout",
     "output_type": "stream",
     "text": [
      "Influenza hospitalization sum:\n",
<<<<<<< HEAD
      " [('2020-12-19', array([11,  5])) ('2020-12-26', array([8, 5]))\n",
      " ('2021-01-02', array([44,  0]))]\n",
=======
   "execution_count": 8,
=======
   "execution_count": 7,
>>>>>>> ef5f604 (Date filtering and devlog improvements.)
   "metadata": {},
   "outputs": [
    {
     "name": "stderr",
     "output_type": "stream",
     "text": [
      "/home/waff/Desktop/CCL/Epymorph/epymorph/geo/adrio/cdc/adrio_cdc.py:199: UserWarning: State level hospitalization data is voluntary past 5/1/2024.\n",
=======
      "/home/waff/Desktop/CCL/Epymorph/epymorph/geo/adrio/cdc/adrio_cdc.py:224: UserWarning: State level hospitalization data is voluntary past 5/1/2024.\n",
>>>>>>> c2ecd81 (_api_query() function WIP.)
=======
      "/home/waff/Desktop/CCL/Epymorph/epymorph/geo/adrio/cdc/adrio_cdc.py:201: UserWarning: State level hospitalization data is voluntary past 5/1/2024.\n",
>>>>>>> 64527af (Combine query cases, add paging, return date string.)
      "  warn(\"State level hospitalization data is voluntary past 5/1/2024.\")\n"
     ]
    },
    {
     "name": "stdout",
     "output_type": "stream",
     "text": [
      "COVID hospitalization average:\n",
      " [('2020-12-19', array([452., 199.])) ('2020-12-26', array([472., 164.]))\n",
      " ('2021-01-02', array([495., 150.]))]\n",
      "...\n",
      "\n"
     ]
    },
    {
     "name": "stderr",
     "output_type": "stream",
     "text": [
      "/home/waff/Desktop/CCL/Epymorph/epymorph/geo/adrio/cdc/adrio_cdc.py:201: UserWarning: State level hospitalization data is voluntary past 5/1/2024.\n",
      "  warn(\"State level hospitalization data is voluntary past 5/1/2024.\")\n"
     ]
    },
    {
     "name": "stdout",
     "output_type": "stream",
     "text": [
      "COVID hospitalization sum:\n",
      " [('2020-12-19', array([3164, 1396])) ('2020-12-26', array([3307, 1148]))\n",
      " ('2021-01-02', array([3465, 1051]))]\n",
      "...\n",
      "\n"
     ]
    },
    {
     "name": "stderr",
     "output_type": "stream",
     "text": [
      "/home/waff/Desktop/CCL/Epymorph/epymorph/geo/adrio/cdc/adrio_cdc.py:201: UserWarning: State level hospitalization data is voluntary past 5/1/2024.\n",
      "  warn(\"State level hospitalization data is voluntary past 5/1/2024.\")\n"
     ]
    },
    {
     "name": "stdout",
     "output_type": "stream",
     "text": [
      "Influenza hospitalization average:\n",
      " [('2020-12-19', array([2., 1.])) ('2020-12-26', array([1., 1.]))\n",
      " ('2021-01-02', array([6., 0.]))]\n",
      "...\n",
      "\n"
     ]
    },
    {
     "name": "stderr",
     "output_type": "stream",
     "text": [
      "/home/waff/Desktop/CCL/Epymorph/epymorph/geo/adrio/cdc/adrio_cdc.py:201: UserWarning: State level hospitalization data is voluntary past 5/1/2024.\n",
      "  warn(\"State level hospitalization data is voluntary past 5/1/2024.\")\n"
     ]
    },
    {
     "name": "stdout",
     "output_type": "stream",
     "text": [
      "Influenza hospitalization sum:\n",
<<<<<<< HEAD
      " [[11  5]\n",
      " [ 8  5]\n",
      " [44  0]]\n",
>>>>>>> dc43c17 (Added attribute table to devlog.)
=======
      " [('2020-12-19', array([11,  5])) ('2020-12-26', array([8, 5]))\n",
      " ('2021-01-02', array([44,  0]))]\n",
>>>>>>> 64527af (Combine query cases, add paging, return date string.)
=======
      " [[('2020-12-19', 11) ('2020-12-19',  5)]\n",
      " [('2020-12-26',  8) ('2020-12-26',  5)]\n",
      " [('2021-01-02', 44) ('2021-01-02',  0)]]\n",
>>>>>>> 91bd772 (Change return shape to individual tuples.)
      "...\n"
     ]
    }
   ],
   "source": [
<<<<<<< HEAD
<<<<<<< HEAD
=======
>>>>>>> ef5f604 (Date filtering and devlog improvements.)
    "print(f\"COVID hospitalization average:\\n {covid_avg.get_value()[:3]}\\n...\\n\")\n",
    "print(f\"COVID hospitalization sum:\\n {covid_sum.get_value()[:3]}\\n...\\n\")\n",
    "print(f\"Influenza hospitalization average:\\n {flu_avg.get_value()[:3]}\\n...\\n\")\n",
    "print(f\"Influenza hospitalization sum:\\n {flu_sum.get_value()[:3]}\\n...\")"
<<<<<<< HEAD
=======
    "geo = DynamicGeo.from_library(spec, adrio_maker_library)\n",
    "\n",
    "print(\n",
    "    f\"COVID hospitalization average:\\n {geo['covid_hospitalization_avg_state'][:3]}\\n...\\n\")\n",
    "print(\n",
    "    f\"COVID hospitalization sum:\\n {geo['covid_hospitalization_sum_state'][:3]}\\n...\\n\")\n",
    "print(\n",
    "    f\"Influenza hospitalization average:\\n {geo['influenza_hospitalization_avg_state'][:3]}\\n...\\n\")\n",
    "print(\n",
    "    f\"Influenza hospitalization sum:\\n {geo['influenza_hospitalization_sum_state'][:3]}\\n...\")"
>>>>>>> dc43c17 (Added attribute table to devlog.)
=======
>>>>>>> ef5f604 (Date filtering and devlog improvements.)
   ]
  },
  {
   "cell_type": "markdown",
   "metadata": {},
   "source": [
    "### **COVID-19 Vaccinations in the United States,County**\n",
    "This dataset is used to fetch cumulative COVID-19 vaccination data.\n",
    "\n",
    "- Supported attributes: full_covid_vaccinations, one_dose_covid_vaccinations, covid_booster_doses\n",
    "- Available date range: 12/13/2020 to 5/10/2024.\n",
    "- Granularity: county, state\n",
    "\n",
    "https://data.cdc.gov/Vaccinations/COVID-19-Vaccinations-in-the-United-States-County/8xkx-amqh/about_data"
   ]
  },
  {
   "cell_type": "code",
<<<<<<< HEAD
<<<<<<< HEAD
<<<<<<< HEAD
   "execution_count": 8,
=======
   "execution_count": 12,
>>>>>>> 91bd772 (Change return shape to individual tuples.)
   "metadata": {},
   "outputs": [],
   "source": [
    "time_period = DateRange(date(2020, 12, 13), date(2024, 5, 10))\n",
    "\n",
    "full = maker.make_adrio(AttributeDef(\"full_covid_vaccinations\",\n",
    "                        int, Shapes.TxN), county_scope, time_period)\n",
    "one = maker.make_adrio(AttributeDef(\"one_dose_covid_vaccinations\",\n",
    "                       int, Shapes.TxN), county_scope, time_period)\n",
    "booster = maker.make_adrio(AttributeDef(\"covid_booster_doses\",\n",
    "                           int, Shapes.TxN), county_scope, time_period)"
=======
   "execution_count": 9,
   "metadata": {},
   "outputs": [],
   "source": [
    "spec = DynamicGeoSpec(\n",
    "    attributes=[\n",
    "        geo_attrib('label', str, Shapes.N),\n",
    "        geo_attrib('population', int, Shapes.N),\n",
    "        geo_attrib(\"full_covid_vaccinations\", int, Shapes.TxN),\n",
    "        geo_attrib(\"one_dose_covid_vaccinations\", int, Shapes.TxN),\n",
    "        geo_attrib(\"covid_booster_doses\", int, Shapes.TxN),\n",
    "    ],\n",
    "    time_period=DateRange(date(2020, 12, 13), date(2024, 5, 10)),\n",
    "    scope=CountyScope.in_states(['04', '08']),\n",
    "    source={\n",
    "        'label': CSVSpec(file_path=Path(\"./scratch/cdc_label_pop_county.csv\"),\n",
    "                         key_col=0, data_col=1, key_type=\"geoid\", skiprows=None),\n",
    "        'population': CSVSpec(file_path=Path(\"./scratch/cdc_label_pop_county.csv\"),\n",
    "                              key_col=0, data_col=2, key_type=\"geoid\", skiprows=None),\n",
    "        \"full_covid_vaccinations\": \"CDC\",\n",
    "        \"one_dose_covid_vaccinations\": \"CDC\",\n",
    "        \"covid_booster_doses\": \"CDC\",\n",
    "    }\n",
    ")"
>>>>>>> dc43c17 (Added attribute table to devlog.)
=======
   "execution_count": 8,
   "metadata": {},
   "outputs": [],
   "source": [
    "time_period = DateRange(date(2020, 12, 13), date(2024, 5, 10))\n",
    "\n",
    "full = maker.make_adrio(geo_attrib(\"full_covid_vaccinations\",\n",
    "                        int, Shapes.TxN), county_scope, time_period)\n",
    "one = maker.make_adrio(geo_attrib(\"one_dose_covid_vaccinations\",\n",
    "                       int, Shapes.TxN), county_scope, time_period)\n",
    "booster = maker.make_adrio(geo_attrib(\"covid_booster_doses\",\n",
    "                           int, Shapes.TxN), county_scope, time_period)"
>>>>>>> ef5f604 (Date filtering and devlog improvements.)
   ]
  },
  {
   "cell_type": "code",
<<<<<<< HEAD
<<<<<<< HEAD
<<<<<<< HEAD
   "execution_count": 9,
=======
   "execution_count": 10,
>>>>>>> dc43c17 (Added attribute table to devlog.)
=======
   "execution_count": 9,
>>>>>>> ef5f604 (Date filtering and devlog improvements.)
=======
   "execution_count": 18,
>>>>>>> 91bd772 (Change return shape to individual tuples.)
   "metadata": {},
   "outputs": [
    {
     "name": "stdout",
     "output_type": "stream",
     "text": [
      "Full COVID vaccinations:\n",
<<<<<<< HEAD
<<<<<<< HEAD
<<<<<<< HEAD
=======
>>>>>>> 64527af (Combine query cases, add paging, return date string.)
      " [('2020-12-13', array([0, 0, 0, 0, 0, 0, 0, 0, 0, 0, 0, 0, 0, 0, 0, 0, 0, 0, 0, 0, 0, 0,\n",
      "        0, 0, 0, 0, 0, 0, 0, 0, 0, 0, 0, 0, 0, 0, 0, 0, 0, 0, 0, 0, 0, 0,\n",
      "        0, 0, 0, 0, 0, 0, 0, 0, 0, 0, 0, 0, 0, 0, 0, 0, 0, 0, 0, 0, 0, 0,\n",
      "        0, 0, 0, 0, 0, 0, 0, 0, 0, 0, 0, 0, 0]))\n",
      " ('2020-12-14', array([0, 0, 0, 0, 0, 0, 0, 0, 0, 0, 0, 0, 0, 0, 0, 0, 0, 0, 0, 0, 0, 0,\n",
      "        0, 0, 0, 0, 0, 0, 0, 0, 0, 0, 0, 0, 0, 0, 0, 0, 0, 0, 0, 0, 0, 0,\n",
      "        0, 0, 0, 0, 0, 0, 0, 0, 0, 0, 0, 0, 0, 0, 0, 0, 0, 0, 0, 0, 0, 0,\n",
      "        0, 0, 0, 0, 0, 0, 0, 0, 0, 0, 0, 0, 0]))\n",
      " ('2020-12-15', array([0, 0, 0, 0, 0, 0, 0, 0, 0, 0, 0, 0, 0, 0, 0, 0, 0, 0, 0, 0, 0, 0,\n",
      "        0, 0, 0, 0, 0, 0, 0, 0, 0, 0, 0, 0, 0, 0, 0, 0, 0, 0, 0, 0, 0, 0,\n",
      "        0, 0, 0, 0, 0, 0, 0, 0, 0, 0, 0, 0, 0, 0, 0, 0, 0, 0, 0, 0, 0, 0,\n",
      "        0, 0, 0, 0, 0, 0, 0, 0, 0, 0, 0, 0, 0]))                                        ]\n",
<<<<<<< HEAD
=======
      " [[('2020-12-13', 0) ('2020-12-13', 0) ('2020-12-13', 0) ('2020-12-13', 0)\n",
      "  ('2020-12-13', 0) ('2020-12-13', 0) ('2020-12-13', 0) ('2020-12-13', 0)\n",
      "  ('2020-12-13', 0) ('2020-12-13', 0) ('2020-12-13', 0) ('2020-12-13', 0)\n",
      "  ('2020-12-13', 0) ('2020-12-13', 0) ('2020-12-13', 0) ('2020-12-13', 0)\n",
      "  ('2020-12-13', 0) ('2020-12-13', 0) ('2020-12-13', 0) ('2020-12-13', 0)\n",
      "  ('2020-12-13', 0) ('2020-12-13', 0) ('2020-12-13', 0) ('2020-12-13', 0)\n",
      "  ('2020-12-13', 0) ('2020-12-13', 0) ('2020-12-13', 0) ('2020-12-13', 0)\n",
      "  ('2020-12-13', 0) ('2020-12-13', 0) ('2020-12-13', 0) ('2020-12-13', 0)\n",
      "  ('2020-12-13', 0) ('2020-12-13', 0) ('2020-12-13', 0) ('2020-12-13', 0)\n",
      "  ('2020-12-13', 0) ('2020-12-13', 0) ('2020-12-13', 0) ('2020-12-13', 0)\n",
      "  ('2020-12-13', 0) ('2020-12-13', 0) ('2020-12-13', 0) ('2020-12-13', 0)\n",
      "  ('2020-12-13', 0) ('2020-12-13', 0) ('2020-12-13', 0) ('2020-12-13', 0)\n",
      "  ('2020-12-13', 0) ('2020-12-13', 0) ('2020-12-13', 0) ('2020-12-13', 0)\n",
      "  ('2020-12-13', 0) ('2020-12-13', 0) ('2020-12-13', 0) ('2020-12-13', 0)\n",
      "  ('2020-12-13', 0) ('2020-12-13', 0) ('2020-12-13', 0) ('2020-12-13', 0)\n",
      "  ('2020-12-13', 0) ('2020-12-13', 0) ('2020-12-13', 0) ('2020-12-13', 0)\n",
      "  ('2020-12-13', 0) ('2020-12-13', 0) ('2020-12-13', 0) ('2020-12-13', 0)\n",
      "  ('2020-12-13', 0) ('2020-12-13', 0) ('2020-12-13', 0) ('2020-12-13', 0)\n",
      "  ('2020-12-13', 0) ('2020-12-13', 0) ('2020-12-13', 0) ('2020-12-13', 0)\n",
      "  ('2020-12-13', 0) ('2020-12-13', 0) ('2020-12-13', 0)]\n",
      " [('2020-12-14', 0) ('2020-12-14', 0) ('2020-12-14', 0) ('2020-12-14', 0)\n",
      "  ('2020-12-14', 0) ('2020-12-14', 0) ('2020-12-14', 0) ('2020-12-14', 0)\n",
      "  ('2020-12-14', 0) ('2020-12-14', 0) ('2020-12-14', 0) ('2020-12-14', 0)\n",
      "  ('2020-12-14', 0) ('2020-12-14', 0) ('2020-12-14', 0) ('2020-12-14', 0)\n",
      "  ('2020-12-14', 0) ('2020-12-14', 0) ('2020-12-14', 0) ('2020-12-14', 0)\n",
      "  ('2020-12-14', 0) ('2020-12-14', 0) ('2020-12-14', 0) ('2020-12-14', 0)\n",
      "  ('2020-12-14', 0) ('2020-12-14', 0) ('2020-12-14', 0) ('2020-12-14', 0)\n",
      "  ('2020-12-14', 0) ('2020-12-14', 0) ('2020-12-14', 0) ('2020-12-14', 0)\n",
      "  ('2020-12-14', 0) ('2020-12-14', 0) ('2020-12-14', 0) ('2020-12-14', 0)\n",
      "  ('2020-12-14', 0) ('2020-12-14', 0) ('2020-12-14', 0) ('2020-12-14', 0)\n",
      "  ('2020-12-14', 0) ('2020-12-14', 0) ('2020-12-14', 0) ('2020-12-14', 0)\n",
      "  ('2020-12-14', 0) ('2020-12-14', 0) ('2020-12-14', 0) ('2020-12-14', 0)\n",
      "  ('2020-12-14', 0) ('2020-12-14', 0) ('2020-12-14', 0) ('2020-12-14', 0)\n",
      "  ('2020-12-14', 0) ('2020-12-14', 0) ('2020-12-14', 0) ('2020-12-14', 0)\n",
      "  ('2020-12-14', 0) ('2020-12-14', 0) ('2020-12-14', 0) ('2020-12-14', 0)\n",
      "  ('2020-12-14', 0) ('2020-12-14', 0) ('2020-12-14', 0) ('2020-12-14', 0)\n",
      "  ('2020-12-14', 0) ('2020-12-14', 0) ('2020-12-14', 0) ('2020-12-14', 0)\n",
      "  ('2020-12-14', 0) ('2020-12-14', 0) ('2020-12-14', 0) ('2020-12-14', 0)\n",
      "  ('2020-12-14', 0) ('2020-12-14', 0) ('2020-12-14', 0) ('2020-12-14', 0)\n",
      "  ('2020-12-14', 0) ('2020-12-14', 0) ('2020-12-14', 0)]\n",
      " [('2020-12-15', 0) ('2020-12-15', 0) ('2020-12-15', 0) ('2020-12-15', 0)\n",
      "  ('2020-12-15', 0) ('2020-12-15', 0) ('2020-12-15', 0) ('2020-12-15', 0)\n",
      "  ('2020-12-15', 0) ('2020-12-15', 0) ('2020-12-15', 0) ('2020-12-15', 0)\n",
      "  ('2020-12-15', 0) ('2020-12-15', 0) ('2020-12-15', 0) ('2020-12-15', 0)\n",
      "  ('2020-12-15', 0) ('2020-12-15', 0) ('2020-12-15', 0) ('2020-12-15', 0)\n",
      "  ('2020-12-15', 0) ('2020-12-15', 0) ('2020-12-15', 0) ('2020-12-15', 0)\n",
      "  ('2020-12-15', 0) ('2020-12-15', 0) ('2020-12-15', 0) ('2020-12-15', 0)\n",
      "  ('2020-12-15', 0) ('2020-12-15', 0) ('2020-12-15', 0) ('2020-12-15', 0)\n",
      "  ('2020-12-15', 0) ('2020-12-15', 0) ('2020-12-15', 0) ('2020-12-15', 0)\n",
      "  ('2020-12-15', 0) ('2020-12-15', 0) ('2020-12-15', 0) ('2020-12-15', 0)\n",
      "  ('2020-12-15', 0) ('2020-12-15', 0) ('2020-12-15', 0) ('2020-12-15', 0)\n",
      "  ('2020-12-15', 0) ('2020-12-15', 0) ('2020-12-15', 0) ('2020-12-15', 0)\n",
      "  ('2020-12-15', 0) ('2020-12-15', 0) ('2020-12-15', 0) ('2020-12-15', 0)\n",
      "  ('2020-12-15', 0) ('2020-12-15', 0) ('2020-12-15', 0) ('2020-12-15', 0)\n",
      "  ('2020-12-15', 0) ('2020-12-15', 0) ('2020-12-15', 0) ('2020-12-15', 0)\n",
      "  ('2020-12-15', 0) ('2020-12-15', 0) ('2020-12-15', 0) ('2020-12-15', 0)\n",
      "  ('2020-12-15', 0) ('2020-12-15', 0) ('2020-12-15', 0) ('2020-12-15', 0)\n",
      "  ('2020-12-15', 0) ('2020-12-15', 0) ('2020-12-15', 0) ('2020-12-15', 0)\n",
      "  ('2020-12-15', 0) ('2020-12-15', 0) ('2020-12-15', 0) ('2020-12-15', 0)\n",
      "  ('2020-12-15', 0) ('2020-12-15', 0) ('2020-12-15', 0)]]\n",
>>>>>>> 91bd772 (Change return shape to individual tuples.)
      "\n",
      "One dose COVID vaccinations:\n",
      " [[('2020-12-13', 0) ('2020-12-13', 0) ('2020-12-13', 0) ('2020-12-13', 0)\n",
      "  ('2020-12-13', 0) ('2020-12-13', 0) ('2020-12-13', 0) ('2020-12-13', 0)\n",
      "  ('2020-12-13', 0) ('2020-12-13', 0) ('2020-12-13', 0) ('2020-12-13', 0)\n",
      "  ('2020-12-13', 0) ('2020-12-13', 0) ('2020-12-13', 0) ('2020-12-13', 0)\n",
      "  ('2020-12-13', 0) ('2020-12-13', 0) ('2020-12-13', 0) ('2020-12-13', 0)\n",
      "  ('2020-12-13', 0) ('2020-12-13', 0) ('2020-12-13', 0) ('2020-12-13', 0)\n",
      "  ('2020-12-13', 0) ('2020-12-13', 0) ('2020-12-13', 0) ('2020-12-13', 0)\n",
      "  ('2020-12-13', 0) ('2020-12-13', 0) ('2020-12-13', 0) ('2020-12-13', 0)\n",
      "  ('2020-12-13', 0) ('2020-12-13', 0) ('2020-12-13', 0) ('2020-12-13', 0)\n",
      "  ('2020-12-13', 0) ('2020-12-13', 0) ('2020-12-13', 0) ('2020-12-13', 0)\n",
      "  ('2020-12-13', 0) ('2020-12-13', 0) ('2020-12-13', 0) ('2020-12-13', 0)\n",
      "  ('2020-12-13', 0) ('2020-12-13', 0) ('2020-12-13', 0) ('2020-12-13', 0)\n",
      "  ('2020-12-13', 0) ('2020-12-13', 0) ('2020-12-13', 0) ('2020-12-13', 0)\n",
      "  ('2020-12-13', 0) ('2020-12-13', 0) ('2020-12-13', 0) ('2020-12-13', 0)\n",
      "  ('2020-12-13', 0) ('2020-12-13', 0) ('2020-12-13', 0) ('2020-12-13', 0)\n",
      "  ('2020-12-13', 0) ('2020-12-13', 0) ('2020-12-13', 0) ('2020-12-13', 0)\n",
      "  ('2020-12-13', 0) ('2020-12-13', 0) ('2020-12-13', 0) ('2020-12-13', 0)\n",
      "  ('2020-12-13', 0) ('2020-12-13', 0) ('2020-12-13', 0) ('2020-12-13', 0)\n",
      "  ('2020-12-13', 0) ('2020-12-13', 0) ('2020-12-13', 0) ('2020-12-13', 0)\n",
      "  ('2020-12-13', 0) ('2020-12-13', 0) ('2020-12-13', 0)]\n",
      " [('2020-12-14', 0) ('2020-12-14', 0) ('2020-12-14', 0) ('2020-12-14', 0)\n",
      "  ('2020-12-14', 0) ('2020-12-14', 0) ('2020-12-14', 0) ('2020-12-14', 0)\n",
      "  ('2020-12-14', 0) ('2020-12-14', 0) ('2020-12-14', 0) ('2020-12-14', 0)\n",
      "  ('2020-12-14', 0) ('2020-12-14', 0) ('2020-12-14', 0) ('2020-12-14', 0)\n",
      "  ('2020-12-14', 0) ('2020-12-14', 0) ('2020-12-14', 0) ('2020-12-14', 0)\n",
      "  ('2020-12-14', 0) ('2020-12-14', 0) ('2020-12-14', 0) ('2020-12-14', 0)\n",
      "  ('2020-12-14', 0) ('2020-12-14', 0) ('2020-12-14', 0) ('2020-12-14', 0)\n",
      "  ('2020-12-14', 0) ('2020-12-14', 0) ('2020-12-14', 0) ('2020-12-14', 0)\n",
      "  ('2020-12-14', 0) ('2020-12-14', 0) ('2020-12-14', 0) ('2020-12-14', 0)\n",
      "  ('2020-12-14', 0) ('2020-12-14', 0) ('2020-12-14', 0) ('2020-12-14', 0)\n",
      "  ('2020-12-14', 0) ('2020-12-14', 0) ('2020-12-14', 0) ('2020-12-14', 0)\n",
      "  ('2020-12-14', 0) ('2020-12-14', 0) ('2020-12-14', 0) ('2020-12-14', 0)\n",
      "  ('2020-12-14', 0) ('2020-12-14', 0) ('2020-12-14', 0) ('2020-12-14', 0)\n",
      "  ('2020-12-14', 0) ('2020-12-14', 0) ('2020-12-14', 0) ('2020-12-14', 0)\n",
      "  ('2020-12-14', 0) ('2020-12-14', 0) ('2020-12-14', 0) ('2020-12-14', 0)\n",
      "  ('2020-12-14', 0) ('2020-12-14', 0) ('2020-12-14', 0) ('2020-12-14', 0)\n",
      "  ('2020-12-14', 0) ('2020-12-14', 0) ('2020-12-14', 0) ('2020-12-14', 0)\n",
      "  ('2020-12-14', 0) ('2020-12-14', 0) ('2020-12-14', 0) ('2020-12-14', 0)\n",
      "  ('2020-12-14', 0) ('2020-12-14', 0) ('2020-12-14', 0) ('2020-12-14', 0)\n",
      "  ('2020-12-14', 0) ('2020-12-14', 0) ('2020-12-14', 0)]\n",
      " [('2020-12-15', 0) ('2020-12-15', 0) ('2020-12-15', 0) ('2020-12-15', 0)\n",
      "  ('2020-12-15', 0) ('2020-12-15', 0) ('2020-12-15', 0) ('2020-12-15', 0)\n",
      "  ('2020-12-15', 0) ('2020-12-15', 0) ('2020-12-15', 0) ('2020-12-15', 0)\n",
      "  ('2020-12-15', 0) ('2020-12-15', 0) ('2020-12-15', 0) ('2020-12-15', 0)\n",
      "  ('2020-12-15', 0) ('2020-12-15', 0) ('2020-12-15', 0) ('2020-12-15', 0)\n",
      "  ('2020-12-15', 0) ('2020-12-15', 0) ('2020-12-15', 0) ('2020-12-15', 0)\n",
      "  ('2020-12-15', 0) ('2020-12-15', 0) ('2020-12-15', 0) ('2020-12-15', 0)\n",
      "  ('2020-12-15', 0) ('2020-12-15', 0) ('2020-12-15', 0) ('2020-12-15', 0)\n",
      "  ('2020-12-15', 0) ('2020-12-15', 0) ('2020-12-15', 0) ('2020-12-15', 0)\n",
      "  ('2020-12-15', 0) ('2020-12-15', 0) ('2020-12-15', 0) ('2020-12-15', 0)\n",
      "  ('2020-12-15', 0) ('2020-12-15', 0) ('2020-12-15', 0) ('2020-12-15', 0)\n",
      "  ('2020-12-15', 0) ('2020-12-15', 0) ('2020-12-15', 0) ('2020-12-15', 0)\n",
      "  ('2020-12-15', 0) ('2020-12-15', 0) ('2020-12-15', 0) ('2020-12-15', 0)\n",
      "  ('2020-12-15', 0) ('2020-12-15', 0) ('2020-12-15', 0) ('2020-12-15', 0)\n",
      "  ('2020-12-15', 0) ('2020-12-15', 0) ('2020-12-15', 0) ('2020-12-15', 0)\n",
      "  ('2020-12-15', 0) ('2020-12-15', 0) ('2020-12-15', 0) ('2020-12-15', 0)\n",
      "  ('2020-12-15', 0) ('2020-12-15', 0) ('2020-12-15', 0) ('2020-12-15', 0)\n",
      "  ('2020-12-15', 0) ('2020-12-15', 0) ('2020-12-15', 0) ('2020-12-15', 0)\n",
      "  ('2020-12-15', 0) ('2020-12-15', 0) ('2020-12-15', 0) ('2020-12-15', 0)\n",
      "  ('2020-12-15', 0) ('2020-12-15', 0) ('2020-12-15', 0)]]\n",
      "\n",
      "COVID booster doses:\n",
<<<<<<< HEAD
      " [('2020-12-13', array([0, 0, 0, 0, 0, 0, 0, 0, 0, 0, 0, 0, 0, 0, 0, 0, 0, 0, 0, 0, 0, 0,\n",
      "        0, 0, 0, 0, 0, 0, 0, 0, 0, 0, 0, 0, 0, 0, 0, 0, 0, 0, 0, 0, 0, 0,\n",
      "        0, 0, 0, 0, 0, 0, 0, 0, 0, 0, 0, 0, 0, 0, 0, 0, 0, 0, 0, 0, 0, 0,\n",
      "        0, 0, 0, 0, 0, 0, 0, 0, 0, 0, 0, 0, 0]))\n",
      " ('2020-12-14', array([0, 0, 0, 0, 0, 0, 0, 0, 0, 0, 0, 0, 0, 0, 0, 0, 0, 0, 0, 0, 0, 0,\n",
      "        0, 0, 0, 0, 0, 0, 0, 0, 0, 0, 0, 0, 0, 0, 0, 0, 0, 0, 0, 0, 0, 0,\n",
      "        0, 0, 0, 0, 0, 0, 0, 0, 0, 0, 0, 0, 0, 0, 0, 0, 0, 0, 0, 0, 0, 0,\n",
      "        0, 0, 0, 0, 0, 0, 0, 0, 0, 0, 0, 0, 0]))\n",
      " ('2020-12-15', array([0, 0, 0, 0, 0, 0, 0, 0, 0, 0, 0, 0, 0, 0, 0, 0, 0, 0, 0, 0, 0, 0,\n",
      "        0, 0, 0, 0, 0, 0, 0, 0, 0, 0, 0, 0, 0, 0, 0, 0, 0, 0, 0, 0, 0, 0,\n",
      "        0, 0, 0, 0, 0, 0, 0, 0, 0, 0, 0, 0, 0, 0, 0, 0, 0, 0, 0, 0, 0, 0,\n",
      "        0, 0, 0, 0, 0, 0, 0, 0, 0, 0, 0, 0, 0]))                                        ]\n"
=======
      " [[     0      0      0 ...      0      0      0]\n",
      " [     0      0      0 ...      0      0      0]\n",
      " [     0      0      0 ...      0      0      0]\n",
      " ...\n",
      " [ 80296  90170 119331 ...   1592 206984   4555]\n",
      " [ 80318  90188 119360 ...   1592 207075   4556]\n",
      " [ 80342  90203 119393 ...   1592 207109   4556]]\n",
=======
>>>>>>> 64527af (Combine query cases, add paging, return date string.)
      "\n",
      "One dose COVID vaccinations:\n",
      " [('2020-12-13', array([0, 0, 0, 0, 0, 0, 0, 0, 0, 0, 0, 0, 0, 0, 0, 0, 0, 0, 0, 0, 0, 0,\n",
      "        0, 0, 0, 0, 0, 0, 0, 0, 0, 0, 0, 0, 0, 0, 0, 0, 0, 0, 0, 0, 0, 0,\n",
      "        0, 0, 0, 0, 0, 0, 0, 0, 0, 0, 0, 0, 0, 0, 0, 0, 0, 0, 0, 0, 0, 0,\n",
      "        0, 0, 0, 0, 0, 0, 0, 0, 0, 0, 0, 0, 0]))\n",
      " ('2020-12-14', array([0, 0, 0, 0, 0, 0, 0, 0, 0, 0, 0, 0, 0, 0, 0, 0, 0, 0, 0, 0, 0, 0,\n",
      "        0, 0, 0, 0, 0, 0, 0, 0, 0, 0, 0, 0, 0, 0, 0, 0, 0, 0, 0, 0, 0, 0,\n",
      "        0, 0, 0, 0, 0, 0, 0, 0, 0, 0, 0, 0, 0, 0, 0, 0, 0, 0, 0, 0, 0, 0,\n",
      "        0, 0, 0, 0, 0, 0, 0, 0, 0, 0, 0, 0, 0]))\n",
      " ('2020-12-15', array([0, 0, 0, 0, 0, 0, 0, 0, 0, 0, 0, 0, 0, 0, 0, 0, 0, 0, 0, 0, 0, 0,\n",
      "        0, 0, 0, 0, 0, 0, 0, 0, 0, 0, 0, 0, 0, 0, 0, 0, 0, 0, 0, 0, 0, 0,\n",
      "        0, 0, 0, 0, 0, 0, 0, 0, 0, 0, 0, 0, 0, 0, 0, 0, 0, 0, 0, 0, 0, 0,\n",
      "        0, 0, 0, 0, 0, 0, 0, 0, 0, 0, 0, 0, 0]))                                        ]\n",
      "\n",
      "COVID booster doses:\n",
<<<<<<< HEAD
      " [[     0      0      0 ...      0      0      0]\n",
      " [     0      0      0 ...      0      0      0]\n",
      " [     0      0      0 ...      0      0      0]\n",
      " ...\n",
      " [ 44350  43430  64573 ...    811 109515   2171]\n",
      " [ 44383  43447  64614 ...    811 109634   2171]\n",
<<<<<<< HEAD
      " [ 44416  43472  64648 ...    811 109687   2172]]\n",
      "\n"
>>>>>>> dc43c17 (Added attribute table to devlog.)
=======
      " [ 44416  43472  64648 ...    811 109687   2172]]\n"
>>>>>>> c2ecd81 (_api_query() function WIP.)
=======
      " [('2020-12-13', array([0, 0, 0, 0, 0, 0, 0, 0, 0, 0, 0, 0, 0, 0, 0, 0, 0, 0, 0, 0, 0, 0,\n",
      "        0, 0, 0, 0, 0, 0, 0, 0, 0, 0, 0, 0, 0, 0, 0, 0, 0, 0, 0, 0, 0, 0,\n",
      "        0, 0, 0, 0, 0, 0, 0, 0, 0, 0, 0, 0, 0, 0, 0, 0, 0, 0, 0, 0, 0, 0,\n",
      "        0, 0, 0, 0, 0, 0, 0, 0, 0, 0, 0, 0, 0]))\n",
      " ('2020-12-14', array([0, 0, 0, 0, 0, 0, 0, 0, 0, 0, 0, 0, 0, 0, 0, 0, 0, 0, 0, 0, 0, 0,\n",
      "        0, 0, 0, 0, 0, 0, 0, 0, 0, 0, 0, 0, 0, 0, 0, 0, 0, 0, 0, 0, 0, 0,\n",
      "        0, 0, 0, 0, 0, 0, 0, 0, 0, 0, 0, 0, 0, 0, 0, 0, 0, 0, 0, 0, 0, 0,\n",
      "        0, 0, 0, 0, 0, 0, 0, 0, 0, 0, 0, 0, 0]))\n",
      " ('2020-12-15', array([0, 0, 0, 0, 0, 0, 0, 0, 0, 0, 0, 0, 0, 0, 0, 0, 0, 0, 0, 0, 0, 0,\n",
      "        0, 0, 0, 0, 0, 0, 0, 0, 0, 0, 0, 0, 0, 0, 0, 0, 0, 0, 0, 0, 0, 0,\n",
      "        0, 0, 0, 0, 0, 0, 0, 0, 0, 0, 0, 0, 0, 0, 0, 0, 0, 0, 0, 0, 0, 0,\n",
      "        0, 0, 0, 0, 0, 0, 0, 0, 0, 0, 0, 0, 0]))                                        ]\n"
>>>>>>> 64527af (Combine query cases, add paging, return date string.)
=======
      " [[('2020-12-13', 0) ('2020-12-13', 0) ('2020-12-13', 0) ('2020-12-13', 0)\n",
      "  ('2020-12-13', 0) ('2020-12-13', 0) ('2020-12-13', 0) ('2020-12-13', 0)\n",
      "  ('2020-12-13', 0) ('2020-12-13', 0) ('2020-12-13', 0) ('2020-12-13', 0)\n",
      "  ('2020-12-13', 0) ('2020-12-13', 0) ('2020-12-13', 0) ('2020-12-13', 0)\n",
      "  ('2020-12-13', 0) ('2020-12-13', 0) ('2020-12-13', 0) ('2020-12-13', 0)\n",
      "  ('2020-12-13', 0) ('2020-12-13', 0) ('2020-12-13', 0) ('2020-12-13', 0)\n",
      "  ('2020-12-13', 0) ('2020-12-13', 0) ('2020-12-13', 0) ('2020-12-13', 0)\n",
      "  ('2020-12-13', 0) ('2020-12-13', 0) ('2020-12-13', 0) ('2020-12-13', 0)\n",
      "  ('2020-12-13', 0) ('2020-12-13', 0) ('2020-12-13', 0) ('2020-12-13', 0)\n",
      "  ('2020-12-13', 0) ('2020-12-13', 0) ('2020-12-13', 0) ('2020-12-13', 0)\n",
      "  ('2020-12-13', 0) ('2020-12-13', 0) ('2020-12-13', 0) ('2020-12-13', 0)\n",
      "  ('2020-12-13', 0) ('2020-12-13', 0) ('2020-12-13', 0) ('2020-12-13', 0)\n",
      "  ('2020-12-13', 0) ('2020-12-13', 0) ('2020-12-13', 0) ('2020-12-13', 0)\n",
      "  ('2020-12-13', 0) ('2020-12-13', 0) ('2020-12-13', 0) ('2020-12-13', 0)\n",
      "  ('2020-12-13', 0) ('2020-12-13', 0) ('2020-12-13', 0) ('2020-12-13', 0)\n",
      "  ('2020-12-13', 0) ('2020-12-13', 0) ('2020-12-13', 0) ('2020-12-13', 0)\n",
      "  ('2020-12-13', 0) ('2020-12-13', 0) ('2020-12-13', 0) ('2020-12-13', 0)\n",
      "  ('2020-12-13', 0) ('2020-12-13', 0) ('2020-12-13', 0) ('2020-12-13', 0)\n",
      "  ('2020-12-13', 0) ('2020-12-13', 0) ('2020-12-13', 0) ('2020-12-13', 0)\n",
      "  ('2020-12-13', 0) ('2020-12-13', 0) ('2020-12-13', 0)]\n",
      " [('2020-12-14', 0) ('2020-12-14', 0) ('2020-12-14', 0) ('2020-12-14', 0)\n",
      "  ('2020-12-14', 0) ('2020-12-14', 0) ('2020-12-14', 0) ('2020-12-14', 0)\n",
      "  ('2020-12-14', 0) ('2020-12-14', 0) ('2020-12-14', 0) ('2020-12-14', 0)\n",
      "  ('2020-12-14', 0) ('2020-12-14', 0) ('2020-12-14', 0) ('2020-12-14', 0)\n",
      "  ('2020-12-14', 0) ('2020-12-14', 0) ('2020-12-14', 0) ('2020-12-14', 0)\n",
      "  ('2020-12-14', 0) ('2020-12-14', 0) ('2020-12-14', 0) ('2020-12-14', 0)\n",
      "  ('2020-12-14', 0) ('2020-12-14', 0) ('2020-12-14', 0) ('2020-12-14', 0)\n",
      "  ('2020-12-14', 0) ('2020-12-14', 0) ('2020-12-14', 0) ('2020-12-14', 0)\n",
      "  ('2020-12-14', 0) ('2020-12-14', 0) ('2020-12-14', 0) ('2020-12-14', 0)\n",
      "  ('2020-12-14', 0) ('2020-12-14', 0) ('2020-12-14', 0) ('2020-12-14', 0)\n",
      "  ('2020-12-14', 0) ('2020-12-14', 0) ('2020-12-14', 0) ('2020-12-14', 0)\n",
      "  ('2020-12-14', 0) ('2020-12-14', 0) ('2020-12-14', 0) ('2020-12-14', 0)\n",
      "  ('2020-12-14', 0) ('2020-12-14', 0) ('2020-12-14', 0) ('2020-12-14', 0)\n",
      "  ('2020-12-14', 0) ('2020-12-14', 0) ('2020-12-14', 0) ('2020-12-14', 0)\n",
      "  ('2020-12-14', 0) ('2020-12-14', 0) ('2020-12-14', 0) ('2020-12-14', 0)\n",
      "  ('2020-12-14', 0) ('2020-12-14', 0) ('2020-12-14', 0) ('2020-12-14', 0)\n",
      "  ('2020-12-14', 0) ('2020-12-14', 0) ('2020-12-14', 0) ('2020-12-14', 0)\n",
      "  ('2020-12-14', 0) ('2020-12-14', 0) ('2020-12-14', 0) ('2020-12-14', 0)\n",
      "  ('2020-12-14', 0) ('2020-12-14', 0) ('2020-12-14', 0) ('2020-12-14', 0)\n",
      "  ('2020-12-14', 0) ('2020-12-14', 0) ('2020-12-14', 0)]\n",
      " [('2020-12-15', 0) ('2020-12-15', 0) ('2020-12-15', 0) ('2020-12-15', 0)\n",
      "  ('2020-12-15', 0) ('2020-12-15', 0) ('2020-12-15', 0) ('2020-12-15', 0)\n",
      "  ('2020-12-15', 0) ('2020-12-15', 0) ('2020-12-15', 0) ('2020-12-15', 0)\n",
      "  ('2020-12-15', 0) ('2020-12-15', 0) ('2020-12-15', 0) ('2020-12-15', 0)\n",
      "  ('2020-12-15', 0) ('2020-12-15', 0) ('2020-12-15', 0) ('2020-12-15', 0)\n",
      "  ('2020-12-15', 0) ('2020-12-15', 0) ('2020-12-15', 0) ('2020-12-15', 0)\n",
      "  ('2020-12-15', 0) ('2020-12-15', 0) ('2020-12-15', 0) ('2020-12-15', 0)\n",
      "  ('2020-12-15', 0) ('2020-12-15', 0) ('2020-12-15', 0) ('2020-12-15', 0)\n",
      "  ('2020-12-15', 0) ('2020-12-15', 0) ('2020-12-15', 0) ('2020-12-15', 0)\n",
      "  ('2020-12-15', 0) ('2020-12-15', 0) ('2020-12-15', 0) ('2020-12-15', 0)\n",
      "  ('2020-12-15', 0) ('2020-12-15', 0) ('2020-12-15', 0) ('2020-12-15', 0)\n",
      "  ('2020-12-15', 0) ('2020-12-15', 0) ('2020-12-15', 0) ('2020-12-15', 0)\n",
      "  ('2020-12-15', 0) ('2020-12-15', 0) ('2020-12-15', 0) ('2020-12-15', 0)\n",
      "  ('2020-12-15', 0) ('2020-12-15', 0) ('2020-12-15', 0) ('2020-12-15', 0)\n",
      "  ('2020-12-15', 0) ('2020-12-15', 0) ('2020-12-15', 0) ('2020-12-15', 0)\n",
      "  ('2020-12-15', 0) ('2020-12-15', 0) ('2020-12-15', 0) ('2020-12-15', 0)\n",
      "  ('2020-12-15', 0) ('2020-12-15', 0) ('2020-12-15', 0) ('2020-12-15', 0)\n",
      "  ('2020-12-15', 0) ('2020-12-15', 0) ('2020-12-15', 0) ('2020-12-15', 0)\n",
      "  ('2020-12-15', 0) ('2020-12-15', 0) ('2020-12-15', 0) ('2020-12-15', 0)\n",
      "  ('2020-12-15', 0) ('2020-12-15', 0) ('2020-12-15', 0)]]\n"
>>>>>>> 91bd772 (Change return shape to individual tuples.)
     ]
    }
   ],
   "source": [
<<<<<<< HEAD
<<<<<<< HEAD
<<<<<<< HEAD
    "print(f\"Full COVID vaccinations:\\n {full.get_value()[:3]}\\n\")\n",
    "print(f\"One dose COVID vaccinations:\\n {one.get_value()[:3]}\\n\")\n",
    "print(f\"COVID booster doses:\\n {booster.get_value()[:3]}\")"
=======
    "geo = DynamicGeo.from_library(spec, adrio_maker_library)\n",
    "\n",
    "print(f\"Full COVID vaccinations:\\n {geo['full_covid_vaccinations']}\\n\")\n",
    "print(f\"One dose COVID vaccinations:\\n {geo['one_dose_covid_vaccinations']}\\n\")\n",
    "print(f\"COVID booster doses:\\n {geo['covid_booster_doses']}\\n\")"
>>>>>>> dc43c17 (Added attribute table to devlog.)
=======
    "print(f\"Full COVID vaccinations:\\n {full.get_value()}\\n\")\n",
    "print(f\"One dose COVID vaccinations:\\n {one.get_value()}\\n\")\n",
<<<<<<< HEAD
    "print(f\"COVID booster doses:\\n {booster.get_value()}\\n\")"
>>>>>>> ef5f604 (Date filtering and devlog improvements.)
=======
    "print(f\"COVID booster doses:\\n {booster.get_value()}\")"
>>>>>>> c2ecd81 (_api_query() function WIP.)
=======
    "print(f\"Full COVID vaccinations:\\n {full.get_value()[:3]}\\n\")\n",
    "print(f\"One dose COVID vaccinations:\\n {one.get_value()[:3]}\\n\")\n",
    "print(f\"COVID booster doses:\\n {booster.get_value()[:3]}\")"
>>>>>>> 64527af (Combine query cases, add paging, return date string.)
   ]
  },
  {
   "cell_type": "markdown",
   "metadata": {},
   "source": [
    "### **AH COVID-19 Death Counts by County and Week, 2020-present**\n",
    "This dataset is used to fetch data on COVID-19 deaths.\n",
    "\n",
    "- Supported attributes: covid_deaths_county\n",
    "- Available date range: 1/4/2020 to 4/5/2024.\n",
    "- Granularity: county, state\n",
    "\n",
    "https://data.cdc.gov/NCHS/AH-COVID-19-Death-Counts-by-County-and-Week-2020-p/ite7-j2w7/about_data"
   ]
  },
  {
   "cell_type": "code",
<<<<<<< HEAD
<<<<<<< HEAD
<<<<<<< HEAD
   "execution_count": 10,
=======
   "execution_count": 14,
>>>>>>> 91bd772 (Change return shape to individual tuples.)
   "metadata": {},
   "outputs": [],
   "source": [
    "deaths = maker.make_adrio(AttributeDef(\"covid_deaths_county\", int, Shapes.TxN),\n",
    "                          county_scope, DateRange(date(2020, 1, 4), date(2024, 4, 5)))"
=======
   "execution_count": 11,
   "metadata": {},
   "outputs": [],
   "source": [
    "spec = DynamicGeoSpec(\n",
    "    attributes=[\n",
    "        geo_attrib('label', str, Shapes.N),\n",
    "        geo_attrib('population', int, Shapes.N),\n",
    "        geo_attrib(\"covid_deaths_county\", int, Shapes.TxN),\n",
    "    ],\n",
    "    time_period=DateRange(date(2020, 1, 4), date(2024, 4, 5)),\n",
    "    scope=CountyScope.in_states(['04', '08']),\n",
    "    source={\n",
    "        'label': CSVSpec(file_path=Path(\"./scratch/cdc_label_pop_county.csv\"),\n",
    "                         key_col=0, data_col=1, key_type=\"geoid\", skiprows=None),\n",
    "        'population': CSVSpec(file_path=Path(\"./scratch/cdc_label_pop_county.csv\"),\n",
    "                              key_col=0, data_col=2, key_type=\"geoid\", skiprows=None),\n",
    "        \"covid_deaths_county\": \"CDC\"\n",
    "    }\n",
    ")"
>>>>>>> dc43c17 (Added attribute table to devlog.)
=======
   "execution_count": 10,
   "metadata": {},
   "outputs": [],
   "source": [
    "deaths = maker.make_adrio(geo_attrib(\"covid_deaths_county\", int, Shapes.TxN),\n",
    "                          county_scope, DateRange(date(2020, 1, 4), date(2024, 4, 5)))"
>>>>>>> ef5f604 (Date filtering and devlog improvements.)
   ]
  },
  {
   "cell_type": "code",
<<<<<<< HEAD
<<<<<<< HEAD
<<<<<<< HEAD
   "execution_count": 11,
=======
   "execution_count": 12,
>>>>>>> dc43c17 (Added attribute table to devlog.)
=======
   "execution_count": 11,
>>>>>>> ef5f604 (Date filtering and devlog improvements.)
=======
   "execution_count": 15,
>>>>>>> 91bd772 (Change return shape to individual tuples.)
   "metadata": {},
   "outputs": [
    {
     "name": "stdout",
     "output_type": "stream",
     "text": [
      "COVID deaths:\n",
<<<<<<< HEAD
<<<<<<< HEAD
<<<<<<< HEAD
=======
>>>>>>> 64527af (Combine query cases, add paging, return date string.)
      " [('2020-01-04', array([0, 0, 0, 0, 0, 0, 0, 0, 0, 0, 0, 0, 0, 0, 0, 0, 0, 0, 0, 0, 0, 0,\n",
      "        0, 0, 0, 0, 0, 0, 0, 0, 0, 0, 0, 0, 0, 0, 0, 0, 0, 0, 0, 0, 0, 0,\n",
      "        0, 0, 0, 0, 0, 0, 0, 0, 0, 0, 0, 0, 0, 0, 0, 0, 0, 0, 0, 0, 0, 0,\n",
      "        0, 0, 0, 0, 0, 0, 0, 0, 0, 0, 0, 0, 0]))\n",
      " ('2020-01-11', array([0, 0, 0, 0, 0, 0, 0, 0, 0, 0, 0, 0, 0, 0, 0, 0, 0, 0, 0, 0, 0, 0,\n",
      "        0, 0, 0, 0, 0, 0, 0, 0, 0, 0, 0, 0, 0, 0, 0, 0, 0, 0, 0, 0, 0, 0,\n",
      "        0, 0, 0, 0, 0, 0, 0, 0, 0, 0, 0, 0, 0, 0, 0, 0, 0, 0, 0, 0, 0, 0,\n",
      "        0, 0, 0, 0, 0, 0, 0, 0, 0, 0, 0, 0, 0]))\n",
      " ('2020-01-18', array([0, 0, 0, 0, 0, 0, 0, 0, 0, 0, 0, 0, 0, 0, 0, 0, 0, 0, 0, 0, 0, 0,\n",
      "        0, 0, 0, 0, 0, 0, 0, 0, 0, 0, 0, 0, 0, 0, 0, 0, 0, 0, 0, 0, 0, 0,\n",
      "        0, 0, 0, 0, 0, 0, 0, 0, 0, 0, 0, 0, 0, 0, 0, 0, 0, 0, 0, 0, 0, 0,\n",
      "        0, 0, 0, 0, 0, 0, 0, 0, 0, 0, 0, 0, 0]))                                        ]\n",
<<<<<<< HEAD
=======
      " [[0 0 0 ... 0 0 0]\n",
      " [0 0 0 ... 0 0 0]\n",
      " [0 0 0 ... 0 0 0]\n",
      " ...\n",
      " [0 0 0 ... 0 0 0]\n",
      " [0 0 0 ... 0 0 0]\n",
      " [0 0 0 ... 0 0 0]]\n",
>>>>>>> dc43c17 (Added attribute table to devlog.)
=======
>>>>>>> 64527af (Combine query cases, add paging, return date string.)
=======
      " [[('2020-01-04', 0) ('2020-01-04', 0) ('2020-01-04', 0) ('2020-01-04', 0)\n",
      "  ('2020-01-04', 0) ('2020-01-04', 0) ('2020-01-04', 0) ('2020-01-04', 0)\n",
      "  ('2020-01-04', 0) ('2020-01-04', 0) ('2020-01-04', 0) ('2020-01-04', 0)\n",
      "  ('2020-01-04', 0) ('2020-01-04', 0) ('2020-01-04', 0) ('2020-01-04', 0)\n",
      "  ('2020-01-04', 0) ('2020-01-04', 0) ('2020-01-04', 0) ('2020-01-04', 0)\n",
      "  ('2020-01-04', 0) ('2020-01-04', 0) ('2020-01-04', 0) ('2020-01-04', 0)\n",
      "  ('2020-01-04', 0) ('2020-01-04', 0) ('2020-01-04', 0) ('2020-01-04', 0)\n",
      "  ('2020-01-04', 0) ('2020-01-04', 0) ('2020-01-04', 0) ('2020-01-04', 0)\n",
      "  ('2020-01-04', 0) ('2020-01-04', 0) ('2020-01-04', 0) ('2020-01-04', 0)\n",
      "  ('2020-01-04', 0) ('2020-01-04', 0) ('2020-01-04', 0) ('2020-01-04', 0)\n",
      "  ('2020-01-04', 0) ('2020-01-04', 0) ('2020-01-04', 0) ('2020-01-04', 0)\n",
      "  ('2020-01-04', 0) ('2020-01-04', 0) ('2020-01-04', 0) ('2020-01-04', 0)\n",
      "  ('2020-01-04', 0) ('2020-01-04', 0) ('2020-01-04', 0) ('2020-01-04', 0)\n",
      "  ('2020-01-04', 0) ('2020-01-04', 0) ('2020-01-04', 0) ('2020-01-04', 0)\n",
      "  ('2020-01-04', 0) ('2020-01-04', 0) ('2020-01-04', 0) ('2020-01-04', 0)\n",
      "  ('2020-01-04', 0) ('2020-01-04', 0) ('2020-01-04', 0) ('2020-01-04', 0)\n",
      "  ('2020-01-04', 0) ('2020-01-04', 0) ('2020-01-04', 0) ('2020-01-04', 0)\n",
      "  ('2020-01-04', 0) ('2020-01-04', 0) ('2020-01-04', 0) ('2020-01-04', 0)\n",
      "  ('2020-01-04', 0) ('2020-01-04', 0) ('2020-01-04', 0) ('2020-01-04', 0)\n",
      "  ('2020-01-04', 0) ('2020-01-04', 0) ('2020-01-04', 0)]\n",
      " [('2020-01-11', 0) ('2020-01-11', 0) ('2020-01-11', 0) ('2020-01-11', 0)\n",
      "  ('2020-01-11', 0) ('2020-01-11', 0) ('2020-01-11', 0) ('2020-01-11', 0)\n",
      "  ('2020-01-11', 0) ('2020-01-11', 0) ('2020-01-11', 0) ('2020-01-11', 0)\n",
      "  ('2020-01-11', 0) ('2020-01-11', 0) ('2020-01-11', 0) ('2020-01-11', 0)\n",
      "  ('2020-01-11', 0) ('2020-01-11', 0) ('2020-01-11', 0) ('2020-01-11', 0)\n",
      "  ('2020-01-11', 0) ('2020-01-11', 0) ('2020-01-11', 0) ('2020-01-11', 0)\n",
      "  ('2020-01-11', 0) ('2020-01-11', 0) ('2020-01-11', 0) ('2020-01-11', 0)\n",
      "  ('2020-01-11', 0) ('2020-01-11', 0) ('2020-01-11', 0) ('2020-01-11', 0)\n",
      "  ('2020-01-11', 0) ('2020-01-11', 0) ('2020-01-11', 0) ('2020-01-11', 0)\n",
      "  ('2020-01-11', 0) ('2020-01-11', 0) ('2020-01-11', 0) ('2020-01-11', 0)\n",
      "  ('2020-01-11', 0) ('2020-01-11', 0) ('2020-01-11', 0) ('2020-01-11', 0)\n",
      "  ('2020-01-11', 0) ('2020-01-11', 0) ('2020-01-11', 0) ('2020-01-11', 0)\n",
      "  ('2020-01-11', 0) ('2020-01-11', 0) ('2020-01-11', 0) ('2020-01-11', 0)\n",
      "  ('2020-01-11', 0) ('2020-01-11', 0) ('2020-01-11', 0) ('2020-01-11', 0)\n",
      "  ('2020-01-11', 0) ('2020-01-11', 0) ('2020-01-11', 0) ('2020-01-11', 0)\n",
      "  ('2020-01-11', 0) ('2020-01-11', 0) ('2020-01-11', 0) ('2020-01-11', 0)\n",
      "  ('2020-01-11', 0) ('2020-01-11', 0) ('2020-01-11', 0) ('2020-01-11', 0)\n",
      "  ('2020-01-11', 0) ('2020-01-11', 0) ('2020-01-11', 0) ('2020-01-11', 0)\n",
      "  ('2020-01-11', 0) ('2020-01-11', 0) ('2020-01-11', 0) ('2020-01-11', 0)\n",
      "  ('2020-01-11', 0) ('2020-01-11', 0) ('2020-01-11', 0)]\n",
      " [('2020-01-18', 0) ('2020-01-18', 0) ('2020-01-18', 0) ('2020-01-18', 0)\n",
      "  ('2020-01-18', 0) ('2020-01-18', 0) ('2020-01-18', 0) ('2020-01-18', 0)\n",
      "  ('2020-01-18', 0) ('2020-01-18', 0) ('2020-01-18', 0) ('2020-01-18', 0)\n",
      "  ('2020-01-18', 0) ('2020-01-18', 0) ('2020-01-18', 0) ('2020-01-18', 0)\n",
      "  ('2020-01-18', 0) ('2020-01-18', 0) ('2020-01-18', 0) ('2020-01-18', 0)\n",
      "  ('2020-01-18', 0) ('2020-01-18', 0) ('2020-01-18', 0) ('2020-01-18', 0)\n",
      "  ('2020-01-18', 0) ('2020-01-18', 0) ('2020-01-18', 0) ('2020-01-18', 0)\n",
      "  ('2020-01-18', 0) ('2020-01-18', 0) ('2020-01-18', 0) ('2020-01-18', 0)\n",
      "  ('2020-01-18', 0) ('2020-01-18', 0) ('2020-01-18', 0) ('2020-01-18', 0)\n",
      "  ('2020-01-18', 0) ('2020-01-18', 0) ('2020-01-18', 0) ('2020-01-18', 0)\n",
      "  ('2020-01-18', 0) ('2020-01-18', 0) ('2020-01-18', 0) ('2020-01-18', 0)\n",
      "  ('2020-01-18', 0) ('2020-01-18', 0) ('2020-01-18', 0) ('2020-01-18', 0)\n",
      "  ('2020-01-18', 0) ('2020-01-18', 0) ('2020-01-18', 0) ('2020-01-18', 0)\n",
      "  ('2020-01-18', 0) ('2020-01-18', 0) ('2020-01-18', 0) ('2020-01-18', 0)\n",
      "  ('2020-01-18', 0) ('2020-01-18', 0) ('2020-01-18', 0) ('2020-01-18', 0)\n",
      "  ('2020-01-18', 0) ('2020-01-18', 0) ('2020-01-18', 0) ('2020-01-18', 0)\n",
      "  ('2020-01-18', 0) ('2020-01-18', 0) ('2020-01-18', 0) ('2020-01-18', 0)\n",
      "  ('2020-01-18', 0) ('2020-01-18', 0) ('2020-01-18', 0) ('2020-01-18', 0)\n",
      "  ('2020-01-18', 0) ('2020-01-18', 0) ('2020-01-18', 0) ('2020-01-18', 0)\n",
      "  ('2020-01-18', 0) ('2020-01-18', 0) ('2020-01-18', 0)]]\n",
>>>>>>> 91bd772 (Change return shape to individual tuples.)
      "\n"
     ]
    }
   ],
   "source": [
<<<<<<< HEAD
<<<<<<< HEAD
<<<<<<< HEAD
    "print(f\"COVID deaths:\\n {deaths.get_value()[:3]}\\n\")"
=======
    "geo = DynamicGeo.from_library(spec, adrio_maker_library)\n",
    "\n",
    "print(f\"COVID deaths:\\n {geo['covid_deaths_county']}\\n\")"
>>>>>>> dc43c17 (Added attribute table to devlog.)
=======
    "print(f\"COVID deaths:\\n {deaths.get_value()}\\n\")"
>>>>>>> ef5f604 (Date filtering and devlog improvements.)
=======
    "print(f\"COVID deaths:\\n {deaths.get_value()[:3]}\\n\")"
>>>>>>> 64527af (Combine query cases, add paging, return date string.)
   ]
  },
  {
   "cell_type": "markdown",
   "metadata": {},
   "source": [
    "### **Provisional COVID-19 Death Counts by Week Ending Date and State**\n",
    "This dataset is used to fetch data on COVID-19 and influenza deaths. It is continuously updated but only available for state granularity.\n",
    "\n",
    "- Supported attributes: covid_deaths_state, influenza_deaths\n",
    "- Available date range: 1/4/2020 to present.\n",
    "- Granularity: state\n",
    "\n",
    "https://data.cdc.gov/NCHS/Provisional-COVID-19-Death-Counts-by-Week-Ending-D/r8kw-7aab/about_data"
   ]
  },
  {
   "cell_type": "code",
<<<<<<< HEAD
<<<<<<< HEAD
<<<<<<< HEAD
   "execution_count": 12,
=======
   "execution_count": 16,
>>>>>>> 91bd772 (Change return shape to individual tuples.)
   "metadata": {},
   "outputs": [],
   "source": [
    "time_period = DateRange(date(2020, 1, 4), date(2024, 4, 5))\n",
    "\n",
    "covid_deaths = maker.make_adrio(AttributeDef(\n",
    "    \"covid_deaths_state\", int, Shapes.TxN), state_scope, time_period)\n",
    "flu_deaths = maker.make_adrio(AttributeDef(\n",
    "    \"influenza_deaths\", int, Shapes.TxN), state_scope, time_period)"
=======
   "execution_count": 13,
   "metadata": {},
   "outputs": [],
   "source": [
    "spec = DynamicGeoSpec(\n",
    "    attributes=[\n",
    "        geo_attrib('label', str, Shapes.N),\n",
    "        geo_attrib('population', int, Shapes.N),\n",
    "        geo_attrib(\"covid_deaths_state\", int, Shapes.TxN),\n",
    "        geo_attrib(\"influenza_deaths\", int, Shapes.TxN)\n",
    "    ],\n",
    "    time_period=DateRange(date(2020, 1, 4), date(2024, 4, 5)),\n",
    "    scope=StateScope.in_states(['04', '08']),\n",
    "    source={\n",
    "        'label': CSVSpec(file_path=Path(\"./scratch/cdc_label_pop_state.csv\"),\n",
    "                         key_col=0, data_col=1, key_type=\"geoid\", skiprows=None),\n",
    "        'population': CSVSpec(file_path=Path(\"./scratch/cdc_label_pop_state.csv\"),\n",
    "                              key_col=0, data_col=2, key_type=\"geoid\", skiprows=None),\n",
    "        \"covid_deaths_state\": \"CDC\",\n",
    "        \"influenza_deaths\": \"CDC\"\n",
    "    }\n",
    ")"
>>>>>>> dc43c17 (Added attribute table to devlog.)
=======
   "execution_count": 12,
   "metadata": {},
   "outputs": [],
   "source": [
    "time_period = DateRange(date(2020, 1, 4), date(2024, 4, 5))\n",
    "\n",
    "covid_deaths = maker.make_adrio(geo_attrib(\n",
    "    \"covid_deaths_state\", int, Shapes.TxN), state_scope, time_period)\n",
    "flu_deaths = maker.make_adrio(geo_attrib(\n",
    "    \"influenza_deaths\", int, Shapes.TxN), state_scope, time_period)"
>>>>>>> ef5f604 (Date filtering and devlog improvements.)
   ]
  },
  {
   "cell_type": "code",
<<<<<<< HEAD
<<<<<<< HEAD
<<<<<<< HEAD
   "execution_count": 13,
=======
   "execution_count": 14,
>>>>>>> dc43c17 (Added attribute table to devlog.)
=======
   "execution_count": 13,
>>>>>>> ef5f604 (Date filtering and devlog improvements.)
=======
   "execution_count": 17,
>>>>>>> 91bd772 (Change return shape to individual tuples.)
   "metadata": {},
   "outputs": [
    {
     "name": "stdout",
     "output_type": "stream",
     "text": [
      "COVID deaths:\n",
<<<<<<< HEAD
<<<<<<< HEAD
<<<<<<< HEAD
      " [('2020-01-04', array([0, 0])) ('2020-01-11', array([0, 0]))\n",
      " ('2020-01-18', array([0, 0]))]\n",
      "...\n",
      "\n",
      "Influenza deaths:\n",
      " [('2020-01-04', array([0, 0])) ('2020-01-11', array([0, 0]))\n",
      " ('2020-01-18', array([11,  0]))]\n",
=======
      " [[0 0]\n",
      " [0 0]\n",
      " [0 0]]\n",
      "...\n",
      "\n",
      "Influenza deaths:\n",
      " [[ 0  0]\n",
      " [ 0  0]\n",
      " [11  0]]\n",
>>>>>>> dc43c17 (Added attribute table to devlog.)
=======
      " [('2020-01-04', array([0, 0])) ('2020-01-11', array([0, 0]))\n",
      " ('2020-01-18', array([0, 0]))]\n",
      "...\n",
      "\n",
      "Influenza deaths:\n",
      " [('2020-01-04', array([0, 0])) ('2020-01-11', array([0, 0]))\n",
      " ('2020-01-18', array([11,  0]))]\n",
>>>>>>> 64527af (Combine query cases, add paging, return date string.)
=======
      " [[('2020-01-04', 0) ('2020-01-04', 0)]\n",
      " [('2020-01-11', 0) ('2020-01-11', 0)]\n",
      " [('2020-01-18', 0) ('2020-01-18', 0)]]\n",
      "...\n",
      "\n",
      "Influenza deaths:\n",
      " [[('2020-01-04',  0) ('2020-01-04',  0)]\n",
      " [('2020-01-11',  0) ('2020-01-11',  0)]\n",
      " [('2020-01-18', 11) ('2020-01-18',  0)]]\n",
>>>>>>> 91bd772 (Change return shape to individual tuples.)
      "...\n"
     ]
    }
   ],
   "source": [
<<<<<<< HEAD
<<<<<<< HEAD
    "print(f\"COVID deaths:\\n {covid_deaths.get_value()[:3]}\\n...\\n\")\n",
    "print(f\"Influenza deaths:\\n {flu_deaths.get_value()[:3]}\\n...\")"
=======
    "geo = DynamicGeo.from_library(spec, adrio_maker_library)\n",
    "\n",
    "print(f\"COVID deaths:\\n {geo['covid_deaths_state'][:3]}\\n...\\n\")\n",
    "print(f\"Influenza deaths:\\n {geo['influenza_deaths'][:3]}\\n...\")"
>>>>>>> dc43c17 (Added attribute table to devlog.)
=======
    "print(f\"COVID deaths:\\n {covid_deaths.get_value()[:3]}\\n...\\n\")\n",
    "print(f\"Influenza deaths:\\n {flu_deaths.get_value()[:3]}\\n...\")"
>>>>>>> ef5f604 (Date filtering and devlog improvements.)
   ]
  }
 ],
 "metadata": {
  "kernelspec": {
   "display_name": ".venv",
   "language": "python",
   "name": "python3"
  },
  "language_info": {
   "codemirror_mode": {
    "name": "ipython",
    "version": 3
   },
   "file_extension": ".py",
   "mimetype": "text/x-python",
   "name": "python",
   "nbconvert_exporter": "python",
   "pygments_lexer": "ipython3",
<<<<<<< HEAD
<<<<<<< HEAD
   "version": "3.11.9"
=======
   "version": "3.11.0"
>>>>>>> dc43c17 (Added attribute table to devlog.)
=======
   "version": "3.11.9"
>>>>>>> ef5f604 (Date filtering and devlog improvements.)
  }
 },
 "nbformat": 4,
 "nbformat_minor": 2
}
