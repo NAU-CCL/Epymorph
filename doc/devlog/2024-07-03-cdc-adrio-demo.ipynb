{
 "cells": [
  {
   "cell_type": "markdown",
   "metadata": {},
   "source": [
    "# 2024-07-03 CDC ADRIO Demo\n",
    "\n",
    "_author: Trevor Johnson_\n",
    "\n",
    "This devlog will demonstrate the functionality of a new 'CDC ADRIO maker' which fetches data from various CDC and HealthData datasets. Six datasets are currenlty included, each with their own limitations and set of supported attributes. A comprehensive list of attributes and their limitations can be found below."
   ]
  },
  {
   "cell_type": "markdown",
   "metadata": {},
   "source": [
    "| Attribute Name | Dates | Granularity | Dataset | Description |\n",
    "| --- | --- | --- | --- | --- |\n",
    "| covid_cases_per_100k | 2/24/2022 - 5/4/2023 | County, State | United States COVID 19 Community Levels by County | Weekly number of COVID\\-19 cases per 100k population. |\n",
    "| covid_hospitalizations_per_100k | 2/24/2022 - 5/4/2023 | County, State | United States COVID 19 Community Levels by County | Weekly number of COVID\\-19 hospitalizations per 100k population. |\n",
    "| covid_hospitalization_avg_facility | 12/13/2020 - 5/10/2023 | County, State | COVID-19 Reported Patient Impact and Hospital Capacity by Facility | Weekly averages of COVID\\-19 hospitalizations reported by facility. |\n",
    "| covid_hospitalization_sum_facility | 12/13/2020 - 5/10/2023 | County, State | COVID-19 Reported Patient Impact and Hospital Capacity by Facility | Weekly sums of COVID\\-19 hospitalizations reported by facility. |\n",
    "| influenza_hospitalization_avg_facility | 12/13/2020 - 5/10/2023 | County, State | COVID-19 Reported Patient Impact and Hospital Capacity by Facility | Weekly averages of influenza hospitalizations reported by facility. |\n",
    "| influenza_hospitalization_sum_facility | 12/13/2020 - 5/10/2023 | County, State | COVID-19 Reported Patient Impact and Hospital Capacity by Facility | Weekly sums of influenza hospitalizations reported by facility. |\n",
    "| covid_hospitalization_avg_state | 1/04/2020 - present | State | Weekly United States Hospitalization Metrics by Jurisdiction | Weekly averages of COVID\\-19 hospitalizations reported by state. |\n",
    "| covid_hospitalization_sum_state | 1/04/2020 - present | State | Weekly United States Hospitalization Metrics by Jurisdiction | Weekly sums of COVID\\-19 hospitalizations reported by state. |\n",
    "| influenza_hospitalization_avg_state | 1/04/2020 - present | State | Weekly United States Hospitalization Metrics by Jurisdiction | Weekly averages of influenza hospitalizations reported by state. |\n",
    "| influenza_hospitalization_avg_state | 1/04/2020 - present | State | Weekly United States Hospitalization Metrics by Jurisdiction | Weekly sums of influenza hospitalizations reported by state. |\n",
    "| full_covid_vaccinations | 12/13/2020 - 5/10/2024 | County, State | COVID-19 Vaccinations in the United States,County | Weekly cumulative total of individuals who have compeleted a series of COVID\\-19 vaccinations. |\n",
    "| one_dose_covid_vaccinations | 12/13/2020 - 5/10/2024 | County, State | COVID-19 Vaccinations in the United States,County | Weely cumulative total of individuals who have recieved at least one dose of COVID\\-19 vaccination. |\n",
    "| covid_booster_doses | 12/13/2020 - 5/10/2024 | County, State | COVID-19 Vaccinations in the United States,County | Weekly cumulative total of COVID\\-19 booster doses administered. |\n",
    "| covid_deaths_county | 1/4/2020 - 4/5/2024 | County, State | AH COVID-19 Death Counts by County and Week, 2020-present | Weekly number of COVID\\-19 deaths reported by county.  |\n",
    "| covid_deaths_state | 1/4/2020 - present | State | Provisional COVID-19 Death Counts by Week Ending Date and State | Weekly number of COVID\\-19 deaths reported by state. |\n",
    "| influenza_deaths | 1/4/2020 - present | State | Provisional COVID-19 Death Counts by Week Ending Date and State | Weekly number of influenza deaths reported by state. |"
   ]
  },
  {
   "cell_type": "markdown",
   "metadata": {},
   "source": [
    "## **Demo**\n",
    "ADRIO maker functionality will be demonstrated one dataset at a time. A brief description of each dataset will be given and one ADRIO for each of its attributes will be created and run."
   ]
  },
  {
   "cell_type": "code",
   "execution_count": 1,
   "metadata": {},
   "outputs": [],
   "source": [
    "from epymorph.geo.adrio.cdc.adrio_cdc import ADRIOMakerCDC\n",
    "from epymorph.geography.us_census import CountyScope, StateScope\n",
    "\n",
    "maker = ADRIOMakerCDC()\n",
    "county_scope = CountyScope.in_states(['04', '08'])\n",
    "state_scope = StateScope.in_states(['04', '08'])"
   ]
  },
  {
   "cell_type": "markdown",
   "metadata": {},
   "source": [
    "### **United States COVID 19 Community Levels by County**\n",
    "This dataset is used to fetch data on reported COVID-19 cases and hospitalizations per 100k population.\n",
    "\n",
    "- Supported attributes: covid_cases_per_100k, covid_hospitalizations_per_100k\n",
    "- Available date range: 2/24/2022 to 5/4/2023\n",
    "- Granularity: county, state\n",
    "\n",
    "https://healthdata.gov/dataset/United-States-COVID-19-Community-Levels-by-County/nn5b-j5u9/about_data"
   ]
  },
  {
   "cell_type": "code",
   "execution_count": 2,
   "metadata": {},
   "outputs": [],
   "source": [
    "from datetime import date\n",
    "\n",
    "from epymorph.data_shape import Shapes\n",
    "from epymorph.geo.spec import DateRange\n",
    "from epymorph.simulation import AttributeDef\n",
    "\n",
    "time_period = DateRange(date(2022, 2, 24), date(2023, 5, 4))\n",
    "\n",
    "cases = maker.make_adrio(AttributeDef(\"covid_cases_per_100k\", int,\n",
    "                         Shapes.TxN), state_scope, time_period)\n",
    "hospitalizations = maker.make_adrio(AttributeDef(\n",
    "    \"covid_hospitalizations_per_100k\", int, Shapes.TxN), state_scope, time_period)"
   ]
  },
  {
   "cell_type": "code",
   "execution_count": 3,
   "metadata": {},
   "outputs": [
    {
     "name": "stdout",
     "output_type": "stream",
     "text": [
      "COVID cases per 100k:\n",
      " [[('2022-02-24',  3217) ('2022-02-24', 12475)]\n",
      " [('2022-03-03',  1018) ('2022-03-03',  8795)]\n",
      " [('2022-03-10',  1912) ('2022-03-10', 12280)]]\n",
      "\n",
      "COVID hospitalizations per 100k:\n",
      " [[('2022-02-24', 334) ('2022-02-24', 822)]\n",
      " [('2022-03-03', 232) ('2022-03-03', 445)]\n",
      " [('2022-03-10', 186) ('2022-03-10', 332)]]\n"
     ]
    }
   ],
   "source": [
    "print(f\"COVID cases per 100k:\\n {cases.get_value()[:3]}\\n\")\n",
    "print(f\"COVID hospitalizations per 100k:\\n {hospitalizations.get_value()[:3]}\")"
   ]
  },
  {
   "cell_type": "markdown",
   "metadata": {},
   "source": [
    "### **COVID-19 Reported Patient Impact and Hospital Capacity by Facility**\n",
    "This dataset is used to fetch hospitalization data for COVID-19 and other respiratory illnesses.\n",
    "\n",
    "- Supported attributes: covid_hospitalization_avg_facility, covid_hospitalization_sum_facility, influenza_hospitalization_avg_facility, influenza_hospitalization_sum_facility\n",
    "- Available date range: 12/13/2020 to 5/10/2023\n",
    "- Granularity: county, state\n",
    "\n",
    "https://healthdata.gov/Hospital/COVID-19-Reported-Patient-Impact-and-Hospital-Capa/anag-cw7u/about_data\n"
   ]
  },
  {
   "cell_type": "code",
   "execution_count": 4,
   "metadata": {},
   "outputs": [],
   "source": [
    "time_period = DateRange(date(2020, 12, 13), date(2023, 5, 10))\n",
    "\n",
    "covid_avg = maker.make_adrio(AttributeDef(\n",
    "    \"covid_hospitalization_avg_facility\", float, Shapes.TxN), state_scope, time_period)\n",
    "covid_sum = maker.make_adrio(AttributeDef(\n",
    "    \"covid_hospitalization_sum_facility\", int, Shapes.TxN), state_scope, time_period)\n",
    "flu_avg = maker.make_adrio(AttributeDef(\n",
    "    \"influenza_hospitalization_avg_facility\", float, Shapes.TxN), state_scope, time_period)\n",
    "flu_sum = maker.make_adrio(AttributeDef(\n",
    "    \"influenza_hospitalization_sum_facility\", int, Shapes.TxN), state_scope, time_period)"
   ]
  },
  {
   "cell_type": "code",
   "execution_count": 5,
   "metadata": {},
   "outputs": [
    {
     "name": "stdout",
     "output_type": "stream",
     "text": [
      "COVID hospitalization average:\n",
      " [[('2020-12-13', -999999.) ('2020-12-13', -999999.)]\n",
      " [('2020-12-20', -999999.) ('2020-12-20', -999999.)]\n",
      " [('2020-12-27', -999999.) ('2020-12-27', -999999.)]]\n",
      "\n",
      "COVID hospitalization sum:\n",
      " [[('2020-12-13', -999999) ('2020-12-13', -999999)]\n",
      " [('2020-12-20',   24524) ('2020-12-20', -999999)]\n",
      " [('2020-12-27',   26680) ('2020-12-27', -999999)]]\n",
      "\n",
      "Influenza hospitalization average:\n",
      " [[('2020-12-13', -999999.) ('2020-12-13', -999999.)]\n",
      " [('2020-12-20', -999999.) ('2020-12-20', -999999.)]\n",
      " [('2020-12-27', -999999.) ('2020-12-27', -999999.)]]\n",
      "\n",
      "Influenza hospitalization sum:\n",
      " [[('2020-12-13', -999999) ('2020-12-13', -999999)]\n",
      " [('2020-12-20', -999999) ('2020-12-20', -999999)]\n",
      " [('2020-12-27', -999999) ('2020-12-27',      25)]]\n"
     ]
    }
   ],
   "source": [
    "print(f\"COVID hospitalization average:\\n {covid_avg.get_value()[:3]}\\n\")\n",
    "print(f\"COVID hospitalization sum:\\n {covid_sum.get_value()[:3]}\\n\")\n",
    "print(f\"Influenza hospitalization average:\\n {flu_avg.get_value()[:3]}\\n\")\n",
    "print(f\"Influenza hospitalization sum:\\n {flu_sum.get_value()[:3]}\")"
   ]
  },
  {
   "cell_type": "markdown",
   "metadata": {},
   "source": [
    "### **Weekly United States Hospitalization Metrics by Jurisdiction**\n",
    "Like the previous dataset, this dataset is used to fetch hospitalization data for COVID-19 and other respiratory illnesses. Unlike the previous dataset however, it includes metrics reported voluntarily after the end of the manditory reporting period and is limited to state granularity.\n",
    "\n",
    "- Supported attributes: covid_hospitalization_avg_state, covid_hospitalization_sum_state, influenza_hospitalization_avg_state, influenza_hospitalization_sum_state\n",
    "- Available date range: 1/04/2020 to present. Data reported voluntary past 5/1/2024.\n",
    "- Granularity: state\n",
    "\n",
    "https://data.cdc.gov/Public-Health-Surveillance/Weekly-United-States-Hospitalization-Metrics-by-Ju/aemt-mg7g/about_data"
   ]
  },
  {
   "cell_type": "code",
   "execution_count": 6,
   "metadata": {},
   "outputs": [],
   "source": [
    "time_period = DateRange(date(2020, 12, 13), date(2024, 6, 28))\n",
    "\n",
    "covid_avg = maker.make_adrio(AttributeDef(\n",
    "    \"covid_hospitalization_avg_state\", float, Shapes.TxN), state_scope, time_period)\n",
    "covid_sum = maker.make_adrio(AttributeDef(\n",
    "    \"covid_hospitalization_sum_state\", int, Shapes.TxN), state_scope, time_period)\n",
    "flu_avg = maker.make_adrio(AttributeDef(\n",
    "    \"influenza_hospitalization_avg_state\", float, Shapes.TxN), state_scope, time_period)\n",
    "flu_sum = maker.make_adrio(AttributeDef(\n",
    "    \"influenza_hospitalization_sum_state\", int, Shapes.TxN), state_scope, time_period)"
   ]
  },
  {
   "cell_type": "code",
   "execution_count": 7,
   "metadata": {},
   "outputs": [
    {
     "name": "stderr",
     "output_type": "stream",
     "text": [
      "/home/waff/Desktop/CCL/Epymorph/epymorph/geo/adrio/cdc/adrio_cdc.py:213: UserWarning: State level hospitalization data is voluntary past 5/1/2024.\n",
      "  warn(\"State level hospitalization data is voluntary past 5/1/2024.\")\n"
     ]
    },
    {
     "name": "stdout",
     "output_type": "stream",
     "text": [
      "COVID hospitalization average:\n",
      " [[('2020-12-19', 452.) ('2020-12-19', 199.)]\n",
      " [('2020-12-26', 472.) ('2020-12-26', 164.)]\n",
      " [('2021-01-02', 495.) ('2021-01-02', 150.)]]\n",
      "...\n",
      "\n"
     ]
    },
    {
     "name": "stderr",
     "output_type": "stream",
     "text": [
      "/home/waff/Desktop/CCL/Epymorph/epymorph/geo/adrio/cdc/adrio_cdc.py:213: UserWarning: State level hospitalization data is voluntary past 5/1/2024.\n",
      "  warn(\"State level hospitalization data is voluntary past 5/1/2024.\")\n"
     ]
    },
    {
     "name": "stdout",
     "output_type": "stream",
     "text": [
      "COVID hospitalization sum:\n",
      " [[('2020-12-19', 3164) ('2020-12-19', 1396)]\n",
      " [('2020-12-26', 3307) ('2020-12-26', 1148)]\n",
      " [('2021-01-02', 3465) ('2021-01-02', 1051)]]\n",
      "...\n",
      "\n"
     ]
    },
    {
     "name": "stderr",
     "output_type": "stream",
     "text": [
      "/home/waff/Desktop/CCL/Epymorph/epymorph/geo/adrio/cdc/adrio_cdc.py:213: UserWarning: State level hospitalization data is voluntary past 5/1/2024.\n",
      "  warn(\"State level hospitalization data is voluntary past 5/1/2024.\")\n"
     ]
    },
    {
     "name": "stdout",
     "output_type": "stream",
     "text": [
      "Influenza hospitalization average:\n",
      " [[('2020-12-19', 2.) ('2020-12-19', 1.)]\n",
      " [('2020-12-26', 1.) ('2020-12-26', 1.)]\n",
      " [('2021-01-02', 6.) ('2021-01-02', 0.)]]\n",
      "...\n",
      "\n"
     ]
    },
    {
     "name": "stderr",
     "output_type": "stream",
     "text": [
      "/home/waff/Desktop/CCL/Epymorph/epymorph/geo/adrio/cdc/adrio_cdc.py:213: UserWarning: State level hospitalization data is voluntary past 5/1/2024.\n",
      "  warn(\"State level hospitalization data is voluntary past 5/1/2024.\")\n"
     ]
    },
    {
     "name": "stdout",
     "output_type": "stream",
     "text": [
      "Influenza hospitalization sum:\n",
      " [[('2020-12-19', 11) ('2020-12-19',  5)]\n",
      " [('2020-12-26',  8) ('2020-12-26',  5)]\n",
      " [('2021-01-02', 44) ('2021-01-02',  0)]]\n",
      "...\n"
     ]
    }
   ],
   "source": [
    "print(f\"COVID hospitalization average:\\n {covid_avg.get_value()[:3]}\\n...\\n\")\n",
    "print(f\"COVID hospitalization sum:\\n {covid_sum.get_value()[:3]}\\n...\\n\")\n",
    "print(f\"Influenza hospitalization average:\\n {flu_avg.get_value()[:3]}\\n...\\n\")\n",
    "print(f\"Influenza hospitalization sum:\\n {flu_sum.get_value()[:3]}\\n...\")"
   ]
  },
  {
   "cell_type": "markdown",
   "metadata": {},
   "source": [
    "### **COVID-19 Vaccinations in the United States,County**\n",
    "This dataset is used to fetch cumulative COVID-19 vaccination data.\n",
    "\n",
    "- Supported attributes: full_covid_vaccinations, one_dose_covid_vaccinations, covid_booster_doses\n",
    "- Available date range: 12/13/2020 to 5/10/2024.\n",
    "- Granularity: county, state\n",
    "\n",
    "https://data.cdc.gov/Vaccinations/COVID-19-Vaccinations-in-the-United-States-County/8xkx-amqh/about_data"
   ]
  },
  {
   "cell_type": "code",
   "execution_count": 8,
   "metadata": {},
   "outputs": [],
   "source": [
    "time_period = DateRange(date(2020, 12, 13), date(2024, 5, 10))\n",
    "\n",
    "full = maker.make_adrio(AttributeDef(\"full_covid_vaccinations\",\n",
    "                        int, Shapes.TxN), state_scope, time_period)\n",
    "one = maker.make_adrio(AttributeDef(\"one_dose_covid_vaccinations\",\n",
    "                       int, Shapes.TxN), state_scope, time_period)\n",
    "booster = maker.make_adrio(AttributeDef(\"covid_booster_doses\",\n",
    "                           int, Shapes.TxN), state_scope, time_period)"
   ]
  },
  {
   "cell_type": "code",
   "execution_count": 9,
   "metadata": {},
   "outputs": [
    {
     "name": "stdout",
     "output_type": "stream",
     "text": [
      "Full COVID vaccinations:\n",
      " [[('2020-12-13', 0) ('2020-12-13', 0) ('2020-12-13', 0) ('2020-12-13', 0)\n",
      "  ('2020-12-13', 0) ('2020-12-13', 0) ('2020-12-13', 0) ('2020-12-13', 0)\n",
      "  ('2020-12-13', 0) ('2020-12-13', 0) ('2020-12-13', 0) ('2020-12-13', 0)\n",
      "  ('2020-12-13', 0) ('2020-12-13', 0) ('2020-12-13', 0) ('2020-12-13', 0)\n",
      "  ('2020-12-13', 0) ('2020-12-13', 0) ('2020-12-13', 0) ('2020-12-13', 0)\n",
      "  ('2020-12-13', 0) ('2020-12-13', 0) ('2020-12-13', 0) ('2020-12-13', 0)\n",
      "  ('2020-12-13', 0) ('2020-12-13', 0) ('2020-12-13', 0) ('2020-12-13', 0)\n",
      "  ('2020-12-13', 0) ('2020-12-13', 0) ('2020-12-13', 0) ('2020-12-13', 0)\n",
      "  ('2020-12-13', 0) ('2020-12-13', 0) ('2020-12-13', 0) ('2020-12-13', 0)\n",
      "  ('2020-12-13', 0) ('2020-12-13', 0) ('2020-12-13', 0) ('2020-12-13', 0)\n",
      "  ('2020-12-13', 0) ('2020-12-13', 0) ('2020-12-13', 0) ('2020-12-13', 0)\n",
      "  ('2020-12-13', 0) ('2020-12-13', 0) ('2020-12-13', 0) ('2020-12-13', 0)\n",
      "  ('2020-12-13', 0) ('2020-12-13', 0) ('2020-12-13', 0) ('2020-12-13', 0)\n",
      "  ('2020-12-13', 0) ('2020-12-13', 0) ('2020-12-13', 0) ('2020-12-13', 0)\n",
      "  ('2020-12-13', 0) ('2020-12-13', 0) ('2020-12-13', 0) ('2020-12-13', 0)\n",
      "  ('2020-12-13', 0) ('2020-12-13', 0) ('2020-12-13', 0) ('2020-12-13', 0)\n",
      "  ('2020-12-13', 0) ('2020-12-13', 0) ('2020-12-13', 0) ('2020-12-13', 0)\n",
      "  ('2020-12-13', 0) ('2020-12-13', 0) ('2020-12-13', 0) ('2020-12-13', 0)\n",
      "  ('2020-12-13', 0) ('2020-12-13', 0) ('2020-12-13', 0) ('2020-12-13', 0)\n",
      "  ('2020-12-13', 0) ('2020-12-13', 0) ('2020-12-13', 0)]\n",
      " [('2020-12-14', 0) ('2020-12-14', 0) ('2020-12-14', 0) ('2020-12-14', 0)\n",
      "  ('2020-12-14', 0) ('2020-12-14', 0) ('2020-12-14', 0) ('2020-12-14', 0)\n",
      "  ('2020-12-14', 0) ('2020-12-14', 0) ('2020-12-14', 0) ('2020-12-14', 0)\n",
      "  ('2020-12-14', 0) ('2020-12-14', 0) ('2020-12-14', 0) ('2020-12-14', 0)\n",
      "  ('2020-12-14', 0) ('2020-12-14', 0) ('2020-12-14', 0) ('2020-12-14', 0)\n",
      "  ('2020-12-14', 0) ('2020-12-14', 0) ('2020-12-14', 0) ('2020-12-14', 0)\n",
      "  ('2020-12-14', 0) ('2020-12-14', 0) ('2020-12-14', 0) ('2020-12-14', 0)\n",
      "  ('2020-12-14', 0) ('2020-12-14', 0) ('2020-12-14', 0) ('2020-12-14', 0)\n",
      "  ('2020-12-14', 0) ('2020-12-14', 0) ('2020-12-14', 0) ('2020-12-14', 0)\n",
      "  ('2020-12-14', 0) ('2020-12-14', 0) ('2020-12-14', 0) ('2020-12-14', 0)\n",
      "  ('2020-12-14', 0) ('2020-12-14', 0) ('2020-12-14', 0) ('2020-12-14', 0)\n",
      "  ('2020-12-14', 0) ('2020-12-14', 0) ('2020-12-14', 0) ('2020-12-14', 0)\n",
      "  ('2020-12-14', 0) ('2020-12-14', 0) ('2020-12-14', 0) ('2020-12-14', 0)\n",
      "  ('2020-12-14', 0) ('2020-12-14', 0) ('2020-12-14', 0) ('2020-12-14', 0)\n",
      "  ('2020-12-14', 0) ('2020-12-14', 0) ('2020-12-14', 0) ('2020-12-14', 0)\n",
      "  ('2020-12-14', 0) ('2020-12-14', 0) ('2020-12-14', 0) ('2020-12-14', 0)\n",
      "  ('2020-12-14', 0) ('2020-12-14', 0) ('2020-12-14', 0) ('2020-12-14', 0)\n",
      "  ('2020-12-14', 0) ('2020-12-14', 0) ('2020-12-14', 0) ('2020-12-14', 0)\n",
      "  ('2020-12-14', 0) ('2020-12-14', 0) ('2020-12-14', 0) ('2020-12-14', 0)\n",
      "  ('2020-12-14', 0) ('2020-12-14', 0) ('2020-12-14', 0)]\n",
      " [('2020-12-15', 0) ('2020-12-15', 0) ('2020-12-15', 0) ('2020-12-15', 0)\n",
      "  ('2020-12-15', 0) ('2020-12-15', 0) ('2020-12-15', 0) ('2020-12-15', 0)\n",
      "  ('2020-12-15', 0) ('2020-12-15', 0) ('2020-12-15', 0) ('2020-12-15', 0)\n",
      "  ('2020-12-15', 0) ('2020-12-15', 0) ('2020-12-15', 0) ('2020-12-15', 0)\n",
      "  ('2020-12-15', 0) ('2020-12-15', 0) ('2020-12-15', 0) ('2020-12-15', 0)\n",
      "  ('2020-12-15', 0) ('2020-12-15', 0) ('2020-12-15', 0) ('2020-12-15', 0)\n",
      "  ('2020-12-15', 0) ('2020-12-15', 0) ('2020-12-15', 0) ('2020-12-15', 0)\n",
      "  ('2020-12-15', 0) ('2020-12-15', 0) ('2020-12-15', 0) ('2020-12-15', 0)\n",
      "  ('2020-12-15', 0) ('2020-12-15', 0) ('2020-12-15', 0) ('2020-12-15', 0)\n",
      "  ('2020-12-15', 0) ('2020-12-15', 0) ('2020-12-15', 0) ('2020-12-15', 0)\n",
      "  ('2020-12-15', 0) ('2020-12-15', 0) ('2020-12-15', 0) ('2020-12-15', 0)\n",
      "  ('2020-12-15', 0) ('2020-12-15', 0) ('2020-12-15', 0) ('2020-12-15', 0)\n",
      "  ('2020-12-15', 0) ('2020-12-15', 0) ('2020-12-15', 0) ('2020-12-15', 0)\n",
      "  ('2020-12-15', 0) ('2020-12-15', 0) ('2020-12-15', 0) ('2020-12-15', 0)\n",
      "  ('2020-12-15', 0) ('2020-12-15', 0) ('2020-12-15', 0) ('2020-12-15', 0)\n",
      "  ('2020-12-15', 0) ('2020-12-15', 0) ('2020-12-15', 0) ('2020-12-15', 0)\n",
      "  ('2020-12-15', 0) ('2020-12-15', 0) ('2020-12-15', 0) ('2020-12-15', 0)\n",
      "  ('2020-12-15', 0) ('2020-12-15', 0) ('2020-12-15', 0) ('2020-12-15', 0)\n",
      "  ('2020-12-15', 0) ('2020-12-15', 0) ('2020-12-15', 0) ('2020-12-15', 0)\n",
      "  ('2020-12-15', 0) ('2020-12-15', 0) ('2020-12-15', 0)]]\n",
      "\n",
      "One dose COVID vaccinations:\n",
      " [[('2020-12-13', 0) ('2020-12-13', 0) ('2020-12-13', 0) ('2020-12-13', 0)\n",
      "  ('2020-12-13', 0) ('2020-12-13', 0) ('2020-12-13', 0) ('2020-12-13', 0)\n",
      "  ('2020-12-13', 0) ('2020-12-13', 0) ('2020-12-13', 0) ('2020-12-13', 0)\n",
      "  ('2020-12-13', 0) ('2020-12-13', 0) ('2020-12-13', 0) ('2020-12-13', 0)\n",
      "  ('2020-12-13', 0) ('2020-12-13', 0) ('2020-12-13', 0) ('2020-12-13', 0)\n",
      "  ('2020-12-13', 0) ('2020-12-13', 0) ('2020-12-13', 0) ('2020-12-13', 0)\n",
      "  ('2020-12-13', 0) ('2020-12-13', 0) ('2020-12-13', 0) ('2020-12-13', 0)\n",
      "  ('2020-12-13', 0) ('2020-12-13', 0) ('2020-12-13', 0) ('2020-12-13', 0)\n",
      "  ('2020-12-13', 0) ('2020-12-13', 0) ('2020-12-13', 0) ('2020-12-13', 0)\n",
      "  ('2020-12-13', 0) ('2020-12-13', 0) ('2020-12-13', 0) ('2020-12-13', 0)\n",
      "  ('2020-12-13', 0) ('2020-12-13', 0) ('2020-12-13', 0) ('2020-12-13', 0)\n",
      "  ('2020-12-13', 0) ('2020-12-13', 0) ('2020-12-13', 0) ('2020-12-13', 0)\n",
      "  ('2020-12-13', 0) ('2020-12-13', 0) ('2020-12-13', 0) ('2020-12-13', 0)\n",
      "  ('2020-12-13', 0) ('2020-12-13', 0) ('2020-12-13', 0) ('2020-12-13', 0)\n",
      "  ('2020-12-13', 0) ('2020-12-13', 0) ('2020-12-13', 0) ('2020-12-13', 0)\n",
      "  ('2020-12-13', 0) ('2020-12-13', 0) ('2020-12-13', 0) ('2020-12-13', 0)\n",
      "  ('2020-12-13', 0) ('2020-12-13', 0) ('2020-12-13', 0) ('2020-12-13', 0)\n",
      "  ('2020-12-13', 0) ('2020-12-13', 0) ('2020-12-13', 0) ('2020-12-13', 0)\n",
      "  ('2020-12-13', 0) ('2020-12-13', 0) ('2020-12-13', 0) ('2020-12-13', 0)\n",
      "  ('2020-12-13', 0) ('2020-12-13', 0) ('2020-12-13', 0)]\n",
      " [('2020-12-14', 0) ('2020-12-14', 0) ('2020-12-14', 0) ('2020-12-14', 0)\n",
      "  ('2020-12-14', 0) ('2020-12-14', 0) ('2020-12-14', 0) ('2020-12-14', 0)\n",
      "  ('2020-12-14', 0) ('2020-12-14', 0) ('2020-12-14', 0) ('2020-12-14', 0)\n",
      "  ('2020-12-14', 0) ('2020-12-14', 0) ('2020-12-14', 0) ('2020-12-14', 0)\n",
      "  ('2020-12-14', 0) ('2020-12-14', 0) ('2020-12-14', 0) ('2020-12-14', 0)\n",
      "  ('2020-12-14', 0) ('2020-12-14', 0) ('2020-12-14', 0) ('2020-12-14', 0)\n",
      "  ('2020-12-14', 0) ('2020-12-14', 0) ('2020-12-14', 0) ('2020-12-14', 0)\n",
      "  ('2020-12-14', 0) ('2020-12-14', 0) ('2020-12-14', 0) ('2020-12-14', 0)\n",
      "  ('2020-12-14', 0) ('2020-12-14', 0) ('2020-12-14', 0) ('2020-12-14', 0)\n",
      "  ('2020-12-14', 0) ('2020-12-14', 0) ('2020-12-14', 0) ('2020-12-14', 0)\n",
      "  ('2020-12-14', 0) ('2020-12-14', 0) ('2020-12-14', 0) ('2020-12-14', 0)\n",
      "  ('2020-12-14', 0) ('2020-12-14', 0) ('2020-12-14', 0) ('2020-12-14', 0)\n",
      "  ('2020-12-14', 0) ('2020-12-14', 0) ('2020-12-14', 0) ('2020-12-14', 0)\n",
      "  ('2020-12-14', 0) ('2020-12-14', 0) ('2020-12-14', 0) ('2020-12-14', 0)\n",
      "  ('2020-12-14', 0) ('2020-12-14', 0) ('2020-12-14', 0) ('2020-12-14', 0)\n",
      "  ('2020-12-14', 0) ('2020-12-14', 0) ('2020-12-14', 0) ('2020-12-14', 0)\n",
      "  ('2020-12-14', 0) ('2020-12-14', 0) ('2020-12-14', 0) ('2020-12-14', 0)\n",
      "  ('2020-12-14', 0) ('2020-12-14', 0) ('2020-12-14', 0) ('2020-12-14', 0)\n",
      "  ('2020-12-14', 0) ('2020-12-14', 0) ('2020-12-14', 0) ('2020-12-14', 0)\n",
      "  ('2020-12-14', 0) ('2020-12-14', 0) ('2020-12-14', 0)]\n",
      " [('2020-12-15', 0) ('2020-12-15', 0) ('2020-12-15', 0) ('2020-12-15', 0)\n",
      "  ('2020-12-15', 0) ('2020-12-15', 0) ('2020-12-15', 0) ('2020-12-15', 0)\n",
      "  ('2020-12-15', 0) ('2020-12-15', 0) ('2020-12-15', 0) ('2020-12-15', 0)\n",
      "  ('2020-12-15', 0) ('2020-12-15', 0) ('2020-12-15', 0) ('2020-12-15', 0)\n",
      "  ('2020-12-15', 0) ('2020-12-15', 0) ('2020-12-15', 0) ('2020-12-15', 0)\n",
      "  ('2020-12-15', 0) ('2020-12-15', 0) ('2020-12-15', 0) ('2020-12-15', 0)\n",
      "  ('2020-12-15', 0) ('2020-12-15', 0) ('2020-12-15', 0) ('2020-12-15', 0)\n",
      "  ('2020-12-15', 0) ('2020-12-15', 0) ('2020-12-15', 0) ('2020-12-15', 0)\n",
      "  ('2020-12-15', 0) ('2020-12-15', 0) ('2020-12-15', 0) ('2020-12-15', 0)\n",
      "  ('2020-12-15', 0) ('2020-12-15', 0) ('2020-12-15', 0) ('2020-12-15', 0)\n",
      "  ('2020-12-15', 0) ('2020-12-15', 0) ('2020-12-15', 0) ('2020-12-15', 0)\n",
      "  ('2020-12-15', 0) ('2020-12-15', 0) ('2020-12-15', 0) ('2020-12-15', 0)\n",
      "  ('2020-12-15', 0) ('2020-12-15', 0) ('2020-12-15', 0) ('2020-12-15', 0)\n",
      "  ('2020-12-15', 0) ('2020-12-15', 0) ('2020-12-15', 0) ('2020-12-15', 0)\n",
      "  ('2020-12-15', 0) ('2020-12-15', 0) ('2020-12-15', 0) ('2020-12-15', 0)\n",
      "  ('2020-12-15', 0) ('2020-12-15', 0) ('2020-12-15', 0) ('2020-12-15', 0)\n",
      "  ('2020-12-15', 0) ('2020-12-15', 0) ('2020-12-15', 0) ('2020-12-15', 0)\n",
      "  ('2020-12-15', 0) ('2020-12-15', 0) ('2020-12-15', 0) ('2020-12-15', 0)\n",
      "  ('2020-12-15', 0) ('2020-12-15', 0) ('2020-12-15', 0) ('2020-12-15', 0)\n",
      "  ('2020-12-15', 0) ('2020-12-15', 0) ('2020-12-15', 0)]]\n",
      "\n",
      "COVID booster doses:\n",
      " [[('2020-12-13', 0) ('2020-12-13', 0) ('2020-12-13', 0) ('2020-12-13', 0)\n",
      "  ('2020-12-13', 0) ('2020-12-13', 0) ('2020-12-13', 0) ('2020-12-13', 0)\n",
      "  ('2020-12-13', 0) ('2020-12-13', 0) ('2020-12-13', 0) ('2020-12-13', 0)\n",
      "  ('2020-12-13', 0) ('2020-12-13', 0) ('2020-12-13', 0) ('2020-12-13', 0)\n",
      "  ('2020-12-13', 0) ('2020-12-13', 0) ('2020-12-13', 0) ('2020-12-13', 0)\n",
      "  ('2020-12-13', 0) ('2020-12-13', 0) ('2020-12-13', 0) ('2020-12-13', 0)\n",
      "  ('2020-12-13', 0) ('2020-12-13', 0) ('2020-12-13', 0) ('2020-12-13', 0)\n",
      "  ('2020-12-13', 0) ('2020-12-13', 0) ('2020-12-13', 0) ('2020-12-13', 0)\n",
      "  ('2020-12-13', 0) ('2020-12-13', 0) ('2020-12-13', 0) ('2020-12-13', 0)\n",
      "  ('2020-12-13', 0) ('2020-12-13', 0) ('2020-12-13', 0) ('2020-12-13', 0)\n",
      "  ('2020-12-13', 0) ('2020-12-13', 0) ('2020-12-13', 0) ('2020-12-13', 0)\n",
      "  ('2020-12-13', 0) ('2020-12-13', 0) ('2020-12-13', 0) ('2020-12-13', 0)\n",
      "  ('2020-12-13', 0) ('2020-12-13', 0) ('2020-12-13', 0) ('2020-12-13', 0)\n",
      "  ('2020-12-13', 0) ('2020-12-13', 0) ('2020-12-13', 0) ('2020-12-13', 0)\n",
      "  ('2020-12-13', 0) ('2020-12-13', 0) ('2020-12-13', 0) ('2020-12-13', 0)\n",
      "  ('2020-12-13', 0) ('2020-12-13', 0) ('2020-12-13', 0) ('2020-12-13', 0)\n",
      "  ('2020-12-13', 0) ('2020-12-13', 0) ('2020-12-13', 0) ('2020-12-13', 0)\n",
      "  ('2020-12-13', 0) ('2020-12-13', 0) ('2020-12-13', 0) ('2020-12-13', 0)\n",
      "  ('2020-12-13', 0) ('2020-12-13', 0) ('2020-12-13', 0) ('2020-12-13', 0)\n",
      "  ('2020-12-13', 0) ('2020-12-13', 0) ('2020-12-13', 0)]\n",
      " [('2020-12-14', 0) ('2020-12-14', 0) ('2020-12-14', 0) ('2020-12-14', 0)\n",
      "  ('2020-12-14', 0) ('2020-12-14', 0) ('2020-12-14', 0) ('2020-12-14', 0)\n",
      "  ('2020-12-14', 0) ('2020-12-14', 0) ('2020-12-14', 0) ('2020-12-14', 0)\n",
      "  ('2020-12-14', 0) ('2020-12-14', 0) ('2020-12-14', 0) ('2020-12-14', 0)\n",
      "  ('2020-12-14', 0) ('2020-12-14', 0) ('2020-12-14', 0) ('2020-12-14', 0)\n",
      "  ('2020-12-14', 0) ('2020-12-14', 0) ('2020-12-14', 0) ('2020-12-14', 0)\n",
      "  ('2020-12-14', 0) ('2020-12-14', 0) ('2020-12-14', 0) ('2020-12-14', 0)\n",
      "  ('2020-12-14', 0) ('2020-12-14', 0) ('2020-12-14', 0) ('2020-12-14', 0)\n",
      "  ('2020-12-14', 0) ('2020-12-14', 0) ('2020-12-14', 0) ('2020-12-14', 0)\n",
      "  ('2020-12-14', 0) ('2020-12-14', 0) ('2020-12-14', 0) ('2020-12-14', 0)\n",
      "  ('2020-12-14', 0) ('2020-12-14', 0) ('2020-12-14', 0) ('2020-12-14', 0)\n",
      "  ('2020-12-14', 0) ('2020-12-14', 0) ('2020-12-14', 0) ('2020-12-14', 0)\n",
      "  ('2020-12-14', 0) ('2020-12-14', 0) ('2020-12-14', 0) ('2020-12-14', 0)\n",
      "  ('2020-12-14', 0) ('2020-12-14', 0) ('2020-12-14', 0) ('2020-12-14', 0)\n",
      "  ('2020-12-14', 0) ('2020-12-14', 0) ('2020-12-14', 0) ('2020-12-14', 0)\n",
      "  ('2020-12-14', 0) ('2020-12-14', 0) ('2020-12-14', 0) ('2020-12-14', 0)\n",
      "  ('2020-12-14', 0) ('2020-12-14', 0) ('2020-12-14', 0) ('2020-12-14', 0)\n",
      "  ('2020-12-14', 0) ('2020-12-14', 0) ('2020-12-14', 0) ('2020-12-14', 0)\n",
      "  ('2020-12-14', 0) ('2020-12-14', 0) ('2020-12-14', 0) ('2020-12-14', 0)\n",
      "  ('2020-12-14', 0) ('2020-12-14', 0) ('2020-12-14', 0)]\n",
      " [('2020-12-15', 0) ('2020-12-15', 0) ('2020-12-15', 0) ('2020-12-15', 0)\n",
      "  ('2020-12-15', 0) ('2020-12-15', 0) ('2020-12-15', 0) ('2020-12-15', 0)\n",
      "  ('2020-12-15', 0) ('2020-12-15', 0) ('2020-12-15', 0) ('2020-12-15', 0)\n",
      "  ('2020-12-15', 0) ('2020-12-15', 0) ('2020-12-15', 0) ('2020-12-15', 0)\n",
      "  ('2020-12-15', 0) ('2020-12-15', 0) ('2020-12-15', 0) ('2020-12-15', 0)\n",
      "  ('2020-12-15', 0) ('2020-12-15', 0) ('2020-12-15', 0) ('2020-12-15', 0)\n",
      "  ('2020-12-15', 0) ('2020-12-15', 0) ('2020-12-15', 0) ('2020-12-15', 0)\n",
      "  ('2020-12-15', 0) ('2020-12-15', 0) ('2020-12-15', 0) ('2020-12-15', 0)\n",
      "  ('2020-12-15', 0) ('2020-12-15', 0) ('2020-12-15', 0) ('2020-12-15', 0)\n",
      "  ('2020-12-15', 0) ('2020-12-15', 0) ('2020-12-15', 0) ('2020-12-15', 0)\n",
      "  ('2020-12-15', 0) ('2020-12-15', 0) ('2020-12-15', 0) ('2020-12-15', 0)\n",
      "  ('2020-12-15', 0) ('2020-12-15', 0) ('2020-12-15', 0) ('2020-12-15', 0)\n",
      "  ('2020-12-15', 0) ('2020-12-15', 0) ('2020-12-15', 0) ('2020-12-15', 0)\n",
      "  ('2020-12-15', 0) ('2020-12-15', 0) ('2020-12-15', 0) ('2020-12-15', 0)\n",
      "  ('2020-12-15', 0) ('2020-12-15', 0) ('2020-12-15', 0) ('2020-12-15', 0)\n",
      "  ('2020-12-15', 0) ('2020-12-15', 0) ('2020-12-15', 0) ('2020-12-15', 0)\n",
      "  ('2020-12-15', 0) ('2020-12-15', 0) ('2020-12-15', 0) ('2020-12-15', 0)\n",
      "  ('2020-12-15', 0) ('2020-12-15', 0) ('2020-12-15', 0) ('2020-12-15', 0)\n",
      "  ('2020-12-15', 0) ('2020-12-15', 0) ('2020-12-15', 0) ('2020-12-15', 0)\n",
      "  ('2020-12-15', 0) ('2020-12-15', 0) ('2020-12-15', 0)]]\n"
     ]
    }
   ],
   "source": [
    "print(f\"Full COVID vaccinations:\\n {full.get_value()[:3]}\\n\")\n",
    "print(f\"One dose COVID vaccinations:\\n {one.get_value()[:3]}\\n\")\n",
    "print(f\"COVID booster doses:\\n {booster.get_value()[:3]}\")"
   ]
  },
  {
   "cell_type": "markdown",
   "metadata": {},
   "source": [
    "### **AH COVID-19 Death Counts by County and Week, 2020-present**\n",
    "This dataset is used to fetch data on COVID-19 deaths.\n",
    "\n",
    "- Supported attributes: covid_deaths_county\n",
    "- Available date range: 1/4/2020 to 4/5/2024.\n",
    "- Granularity: county, state\n",
    "\n",
    "https://data.cdc.gov/NCHS/AH-COVID-19-Death-Counts-by-County-and-Week-2020-p/ite7-j2w7/about_data"
   ]
  },
  {
   "cell_type": "code",
   "execution_count": 10,
   "metadata": {},
   "outputs": [],
   "source": [
    "deaths = maker.make_adrio(AttributeDef(\"covid_deaths_county\", int, Shapes.TxN),\n",
    "                          state_scope, DateRange(date(2020, 1, 4), date(2024, 4, 5)))"
   ]
  },
  {
   "cell_type": "code",
   "execution_count": 11,
   "metadata": {},
   "outputs": [
    {
     "name": "stdout",
     "output_type": "stream",
     "text": [
      "COVID deaths:\n",
      " [[('2020-01-04', 0) ('2020-01-04', 0)]\n",
      " [('2020-01-11', 0) ('2020-01-11', 0)]\n",
      " [('2020-01-18', 0) ('2020-01-18', 0)]]\n",
      "\n"
     ]
    }
   ],
   "source": [
    "print(f\"COVID deaths:\\n {deaths.get_value()[:3]}\\n\")"
   ]
  },
  {
   "cell_type": "markdown",
   "metadata": {},
   "source": [
    "### **Provisional COVID-19 Death Counts by Week Ending Date and State**\n",
    "This dataset is used to fetch data on COVID-19 and influenza deaths. It is continuously updated but only available for state granularity.\n",
    "\n",
    "- Supported attributes: covid_deaths_state, influenza_deaths\n",
    "- Available date range: 1/4/2020 to present.\n",
    "- Granularity: state\n",
    "\n",
    "https://data.cdc.gov/NCHS/Provisional-COVID-19-Death-Counts-by-Week-Ending-D/r8kw-7aab/about_data"
   ]
  },
  {
   "cell_type": "code",
   "execution_count": 12,
   "metadata": {},
   "outputs": [],
   "source": [
    "time_period = DateRange(date(2020, 1, 4), date(2024, 4, 5))\n",
    "\n",
    "covid_deaths = maker.make_adrio(AttributeDef(\n",
    "    \"covid_deaths_state\", int, Shapes.TxN), state_scope, time_period)\n",
    "flu_deaths = maker.make_adrio(AttributeDef(\n",
    "    \"influenza_deaths\", int, Shapes.TxN), state_scope, time_period)"
   ]
  },
  {
   "cell_type": "code",
   "execution_count": 13,
   "metadata": {},
   "outputs": [
    {
     "name": "stdout",
     "output_type": "stream",
     "text": [
      "COVID deaths:\n",
      " [[('2020-01-04', 0) ('2020-01-04', 0)]\n",
      " [('2020-01-11', 0) ('2020-01-11', 0)]\n",
      " [('2020-01-18', 0) ('2020-01-18', 0)]]\n",
      "...\n",
      "\n",
      "Influenza deaths:\n",
      " [[('2020-01-04',  0) ('2020-01-04',  0)]\n",
      " [('2020-01-11',  0) ('2020-01-11',  0)]\n",
      " [('2020-01-18', 11) ('2020-01-18',  0)]]\n",
      "...\n"
     ]
    }
   ],
   "source": [
    "print(f\"COVID deaths:\\n {covid_deaths.get_value()[:3]}\\n...\\n\")\n",
    "print(f\"Influenza deaths:\\n {flu_deaths.get_value()[:3]}\\n...\")"
   ]
  }
 ],
 "metadata": {
  "kernelspec": {
   "display_name": ".venv",
   "language": "python",
   "name": "python3"
  },
  "language_info": {
   "codemirror_mode": {
    "name": "ipython",
    "version": 3
   },
   "file_extension": ".py",
   "mimetype": "text/x-python",
   "name": "python",
   "nbconvert_exporter": "python",
   "pygments_lexer": "ipython3",
   "version": "3.11.9"
  }
 },
 "nbformat": 4,
 "nbformat_minor": 2
}
