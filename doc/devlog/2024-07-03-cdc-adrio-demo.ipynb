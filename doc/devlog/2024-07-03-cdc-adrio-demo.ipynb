{
 "cells": [
  {
   "cell_type": "markdown",
   "metadata": {},
   "source": [
    "# 2024-07-03 CDC ADRIO Demo\n",
    "\n",
    "_author: Trevor Johnson_\n",
    "\n",
    "This devlog will demonstrate the functionality of a new 'CDC ADRIO maker' which fetches data from various CDC and HealthData datasets. Six datasets are currenlty included, each with their own limitations and set of supported attributes. A comprehensive list of attributes and their limitations can be found below."
   ]
  },
  {
   "cell_type": "markdown",
   "metadata": {},
   "source": [
    "| Attribute Name | Dates | Granularity | Dataset | Description |\n",
    "| --- | --- | --- | --- | --- |\n",
    "| covid_cases_per_100k | 2/24/2022 - 5/4/2023 | County, State | United States COVID 19 Community Levels by County | Weekly number of COVID\\-19 cases per 100k population. |\n",
    "| covid_hospitalizations_per_100k | 2/24/2022 - 5/4/2023 | County, State | United States COVID 19 Community Levels by County | Weekly number of COVID\\-19 hospitalizations per 100k population. |\n",
    "| covid_hospitalization_avg_facility | 12/13/2020 - 5/10/2023 | County, State | COVID-19 Reported Patient Impact and Hospital Capacity by Facility | Weekly averages of COVID\\-19 hospitalizations reported by facility. |\n",
    "| covid_hospitalization_sum_facility | 12/13/2020 - 5/10/2023 | County, State | COVID-19 Reported Patient Impact and Hospital Capacity by Facility | Weekly sums of COVID\\-19 hospitalizations reported by facility. |\n",
    "| influenza_hospitalization_avg_facility | 12/13/2020 - 5/10/2023 | County, State | COVID-19 Reported Patient Impact and Hospital Capacity by Facility | Weekly averages of influenza hospitalizations reported by facility. |\n",
    "| influenza_hospitalization_sum_facility | 12/13/2020 - 5/10/2023 | County, State | COVID-19 Reported Patient Impact and Hospital Capacity by Facility | Weekly sums of influenza hospitalizations reported by facility. |\n",
    "| covid_hospitalization_avg_state | 1/04/2020 - present | State | Weekly United States Hospitalization Metrics by Jurisdiction | Weekly averages of COVID\\-19 hospitalizations reported by state. |\n",
    "| covid_hospitalization_sum_state | 1/04/2020 - present | State | Weekly United States Hospitalization Metrics by Jurisdiction | Weekly sums of COVID\\-19 hospitalizations reported by state. |\n",
    "| influenza_hospitalization_avg_state | 1/04/2020 - present | State | Weekly United States Hospitalization Metrics by Jurisdiction | Weekly averages of influenza hospitalizations reported by state. |\n",
    "| influenza_hospitalization_avg_state | 1/04/2020 - present | State | Weekly United States Hospitalization Metrics by Jurisdiction | Weekly sums of influenza hospitalizations reported by state. |\n",
    "| full_covid_vaccinations | 12/13/2020 - 5/10/2024 | County, State | COVID-19 Vaccinations in the United States,County | Weekly cumulative total of individuals who have compeleted a series of COVID\\-19 vaccinations. |\n",
    "| one_dose_covid_vaccinations | 12/13/2020 - 5/10/2024 | County, State | COVID-19 Vaccinations in the United States,County | Weely cumulative total of individuals who have recieved at least one dose of COVID\\-19 vaccination. |\n",
    "| covid_booster_doses | 12/13/2020 - 5/10/2024 | County, State | COVID-19 Vaccinations in the United States,County | Weekly cumulative total of COVID\\-19 booster doses administered. |\n",
    "| covid_deaths_county | 1/4/2020 - 4/5/2024 | County, State | AH COVID-19 Death Counts by County and Week, 2020-present | Weekly number of COVID\\-19 deaths reported by county.  |\n",
    "| covid_deaths_state | 1/4/2020 - present | State | Provisional COVID-19 Death Counts by Week Ending Date and State | Weekly number of COVID\\-19 deaths reported by state. |\n",
    "| influenza_deaths | 1/4/2020 - present | State | Provisional COVID-19 Death Counts by Week Ending Date and State | Weekly number of influenza deaths reported by state. |"
   ]
  },
  {
   "cell_type": "markdown",
   "metadata": {},
   "source": [
    "## **Demo**\n",
    "ADRIO maker functionality will be demonstrated one dataset at a time. A brief description of each dataset will be given and one ADRIO for each of its attributes will be created and run."
   ]
  },
  {
   "cell_type": "code",
   "execution_count": 1,
   "metadata": {},
   "outputs": [],
   "source": [
    "from epymorph.geo.adrio.cdc.adrio_cdc import ADRIOMakerCDC\n",
    "from epymorph.geography.us_census import CountyScope, StateScope\n",
    "\n",
    "maker = ADRIOMakerCDC()\n",
    "county_scope = CountyScope.in_states(['04', '08'])\n",
    "state_scope = StateScope.in_states(['04', '08'])"
   ]
  },
  {
   "cell_type": "markdown",
   "metadata": {},
   "source": [
    "### **United States COVID 19 Community Levels by County**\n",
    "This dataset is used to fetch data on reported COVID-19 cases and hospitalizations per 100k population.\n",
    "\n",
    "- Supported attributes: covid_cases_per_100k, covid_hospitalizations_per_100k\n",
    "- Available date range: 2/24/2022 to 5/4/2023\n",
    "- Granularity: county, state\n",
    "\n",
    "https://healthdata.gov/dataset/United-States-COVID-19-Community-Levels-by-County/nn5b-j5u9/about_data"
   ]
  },
  {
   "cell_type": "code",
   "execution_count": 2,
   "metadata": {},
   "outputs": [],
   "source": [
    "from datetime import date\n",
    "\n",
    "from epymorph.data_shape import Shapes\n",
    "from epymorph.geo.spec import DateRange\n",
    "from epymorph.simulation import geo_attrib\n",
    "\n",
    "time_period = DateRange(date(2022, 2, 24), date(2023, 5, 4))\n",
    "\n",
    "cases = maker.make_adrio(geo_attrib(\"covid_cases_per_100k\", int,\n",
    "                         Shapes.TxN), county_scope, time_period)\n",
    "hospitalizations = maker.make_adrio(geo_attrib(\n",
    "    \"covid_hospitalizations_per_100k\", int, Shapes.TxN), county_scope, time_period)"
   ]
  },
  {
   "cell_type": "code",
   "execution_count": 3,
   "metadata": {},
   "outputs": [
    {
     "name": "stdout",
     "output_type": "stream",
     "text": [
      "COVID cases per 100k:\n",
      " [('2022-02-24', array([332, 260, 181, 236, 272, 231, 165, 190, 186, 288, 238, 203, 109,\n",
      "        148, 170, 142, 277, 164, 106, 139, 394, 152, 161, 186, 109,  41,\n",
      "        353, 180, 395, 118, 198, 170,  48, 193, 177, 224, 209, 436, 231,\n",
      "        112, 152, 137,   0, 260,   0, 207,   0, 183,  61, 183, 233, 296,\n",
      "        122, 240, 306,   0, 255, 213, 215, 134, 284,  80,  84, 234, 348,\n",
      "        221, 219, 268, 363, 179, 278, 549, 207, 266, 148,  86, 203, 183,\n",
      "        129]))\n",
      " ('2022-03-03', array([ 97, 100,  78,  57,  56,  84,  90,  77,  60,  83,  64,  55,  32,\n",
      "         32,  46,  90, 190, 108,  49, 279,  89, 126,  86, 171,   0,  51,\n",
      "        219, 180, 329,  78, 105, 104,  97,  93,  70,  78, 144, 399, 169,\n",
      "        112,  95, 475, 121, 101, 143, 105, 142,  28,  24,  87, 177, 186,\n",
      "        192, 325, 243,   0, 180, 114, 135,  37, 114,  60,  74,  70, 208,\n",
      "         98, 157, 253, 257, 187, 175,   0,  85,  88, 174,  86, 122, 149,\n",
      "         79]))\n",
      " ('2022-03-10', array([ 293,  131,  132,   96,  102,   94,  118,  158,  111,  220,  121,\n",
      "         111,   70,   49,   98,   83,  271,   61,  178,  195,  251,  105,\n",
      "          93,  201,  327,   72,   97,  154,  395,   19,  125,   78,  291,\n",
      "          79,  121,   52,  154,  340,  116,   48,  120,  148,    0,  362,\n",
      "           0,  104,  142,  211,   86,  293,  131,  689,  350,  584,  151,\n",
      "         650,   90,  336,   93,   92,  136,  100,   58,   70,  146,  123,\n",
      "         270,   47,  133,  401,  161, 1236,   73,  133,  128,  212,  122,\n",
      "         115,   49]))                                                                   ]\n",
      "\n",
      "COVID hospitalizations per 100k:\n",
      " [('2022-02-24', array([25, 15, 19, 19, 15, 15, 40, 19, 28, 22, 15, 19, 15, 19, 40,  7, 14,\n",
      "         7, 22, 15,  9,  9,  9,  0,  9,  7, 14, 14,  9,  5,  9,  7, 22,  7,\n",
      "        12,  7,  9,  5, 12,  7,  7,  9,  9, 15,  0,  7,  9,  9,  0, 22, 11,\n",
      "        15,  9, 31, 12, 14, 43, 22,  9, 11,  9,  9,  7, 31, 12,  9, 15, 12,\n",
      "        14, 43, 14, 22,  9, 31,  7,  9, 11, 11, 11]))\n",
      " ('2022-03-03', array([19, 11, 13, 13, 11, 11, 31, 13, 17, 10, 11, 13, 11, 13, 31,  5,  6,\n",
      "         5, 10,  7,  0,  6,  6,  0,  4,  5,  6,  6,  0,  3,  7,  5, 10,  5,\n",
      "        12,  5,  4,  3, 12,  5,  5,  7,  7,  9,  1,  5,  0,  4,  0, 10,  7,\n",
      "         9,  4, 13, 12,  6, 10, 10,  7,  7,  0,  7,  5, 13, 12,  0,  9, 12,\n",
      "         6, 10,  6, 10,  7, 13,  5,  4,  7,  7,  7]))\n",
      " ('2022-03-10', array([13, 10, 10, 10, 10, 10, 23, 10,  9,  9, 10, 10, 10, 10, 23,  4,  8,\n",
      "         4,  9,  7,  0,  4,  4,  3,  3,  4,  8,  8,  0,  3,  4,  4,  9,  4,\n",
      "         7,  4,  3,  3,  7,  4,  4,  4,  4,  6,  1,  4,  0,  3,  3,  9,  5,\n",
      "         6,  3, 10,  7,  8,  0,  9,  4,  4,  0,  4,  4, 10,  7,  0,  6,  7,\n",
      "         8,  0,  8,  9,  4, 10,  4,  3,  4,  4,  4]))                                     ]\n"
     ]
    }
   ],
   "source": [
    "print(f\"COVID cases per 100k:\\n {cases.get_value()[:3]}\\n\")\n",
    "print(f\"COVID hospitalizations per 100k:\\n {hospitalizations.get_value()[:3]}\")"
   ]
  },
  {
   "cell_type": "markdown",
   "metadata": {},
   "source": [
    "### **COVID-19 Reported Patient Impact and Hospital Capacity by Facility**\n",
    "This dataset is used to fetch hospitalization data for COVID-19 and other respiratory illnesses.\n",
    "\n",
    "- Supported attributes: covid_hospitalization_avg_facility, covid_hospitalization_sum_facility, influenza_hospitalization_avg_facility, influenza_hospitalization_sum_facility\n",
    "- Available date range: 12/13/2020 to 5/10/2023\n",
    "- Granularity: county, state\n",
    "\n",
    "https://healthdata.gov/Hospital/COVID-19-Reported-Patient-Impact-and-Hospital-Capa/anag-cw7u/about_data\n"
   ]
  },
  {
   "cell_type": "code",
   "execution_count": 4,
   "metadata": {},
   "outputs": [],
   "source": [
    "time_period = DateRange(date(2020, 12, 13), date(2023, 5, 10))\n",
    "\n",
    "covid_avg = maker.make_adrio(geo_attrib(\n",
    "    \"covid_hospitalization_avg_facility\", float, Shapes.TxN), county_scope, time_period)\n",
    "covid_sum = maker.make_adrio(geo_attrib(\n",
    "    \"covid_hospitalization_sum_facility\", int, Shapes.TxN), county_scope, time_period)\n",
    "flu_avg = maker.make_adrio(geo_attrib(\n",
    "    \"influenza_hospitalization_avg_facility\", float, Shapes.TxN), county_scope, time_period)\n",
    "flu_sum = maker.make_adrio(geo_attrib(\n",
    "    \"influenza_hospitalization_sum_facility\", int, Shapes.TxN), county_scope, time_period)"
   ]
  },
  {
   "cell_type": "code",
   "execution_count": 5,
   "metadata": {},
   "outputs": [
    {
     "name": "stdout",
     "output_type": "stream",
     "text": [
      "COVID hospitalization average:\n",
      " [('2020-12-13', array([ 6.40000e+00, -9.99999e+05, -9.99999e+05,  2.88000e+01,\n",
      "         2.48000e+01,  1.96000e+01, -9.99999e+05, -9.99999e+05,\n",
      "         7.29000e+01, -9.99999e+05,  1.65600e+02,  8.80000e+00,\n",
      "         2.21000e+02,  3.23200e+02,  1.60600e+02,  8.90000e+00,\n",
      "         1.44300e+02, -9.99999e+05, -9.99999e+05,  7.07000e+01,\n",
      "        -9.99999e+05,  0.00000e+00,  0.00000e+00,  0.00000e+00,\n",
      "         0.00000e+00,  7.89000e+01,  2.74000e+01, -9.99999e+05,\n",
      "        -9.99999e+05,  8.10000e+00,  0.00000e+00,  0.00000e+00,\n",
      "        -9.99999e+05,  0.00000e+00,  3.33000e+01, -9.99999e+05,\n",
      "         0.00000e+00,  0.00000e+00,  1.60000e+01, -9.99999e+05,\n",
      "         0.00000e+00,  0.00000e+00,  6.30000e+00,  5.26000e+01,\n",
      "        -9.99999e+05,  0.00000e+00,  1.04000e+01,  4.90000e+00,\n",
      "         8.40000e+00,  6.10000e+00,  0.00000e+00, -9.99999e+05,\n",
      "         1.14000e+01, -9.99999e+05,  0.00000e+00,  0.00000e+00,\n",
      "         0.00000e+00, -9.99999e+05,  0.00000e+00,  4.27000e+01,\n",
      "         0.00000e+00]))\n",
      " ('2020-12-20', array([ 1.28000e+01, -9.99999e+05,  1.03300e+02,  1.17000e+01,\n",
      "         1.11000e+01,  6.70000e+00, -9.99999e+05,  1.54200e+02,\n",
      "         6.50000e+01, -9.99999e+05,  1.66000e+02,  8.00000e+00,\n",
      "         2.48400e+02,  3.08000e+02,  1.31800e+02,  0.00000e+00,\n",
      "         4.74000e+01,  0.00000e+00, -9.99999e+05,  5.50000e+01,\n",
      "         0.00000e+00, -9.99999e+05,  0.00000e+00,  0.00000e+00,\n",
      "         1.19000e+01,  6.20000e+01,  3.66000e+01,  0.00000e+00,\n",
      "         1.01100e+02,  4.40000e+00, -9.99999e+05,  0.00000e+00,\n",
      "        -9.99999e+05,  0.00000e+00,  3.23000e+01,  0.00000e+00,\n",
      "         0.00000e+00, -9.99999e+05,  1.27000e+01, -9.99999e+05,\n",
      "         0.00000e+00,  0.00000e+00,  0.00000e+00,  1.18000e+01,\n",
      "        -9.99999e+05,  0.00000e+00,  0.00000e+00, -9.99999e+05,\n",
      "         0.00000e+00, -9.99999e+05,  0.00000e+00,  0.00000e+00,\n",
      "         1.13000e+01, -9.99999e+05,  0.00000e+00,  0.00000e+00,\n",
      "         0.00000e+00,  0.00000e+00,  0.00000e+00,  5.72000e+01,\n",
      "        -9.99999e+05]))\n",
      " ('2020-12-27', array([ 1.14000e+01, -9.99999e+05, -9.99999e+05,  3.48000e+01,\n",
      "         3.26000e+01,  5.80000e+00, -9.99999e+05,  2.31700e+02,\n",
      "         6.18000e+01, -9.99999e+05,  1.64900e+02,  9.20000e+00,\n",
      "         1.39300e+02,  2.70600e+02, -9.99999e+05,  6.70000e+00,\n",
      "         1.02500e+02, -9.99999e+05, -9.99999e+05,  4.29000e+01,\n",
      "         0.00000e+00, -9.99999e+05,  0.00000e+00,  0.00000e+00,\n",
      "         0.00000e+00,  7.56000e+01,  5.39000e+01, -9.99999e+05,\n",
      "         0.00000e+00,  0.00000e+00, -9.99999e+05,  0.00000e+00,\n",
      "         0.00000e+00, -9.99999e+05,  2.56000e+01,  0.00000e+00,\n",
      "        -9.99999e+05,  0.00000e+00,  1.36000e+01, -9.99999e+05,\n",
      "        -9.99999e+05, -9.99999e+05,  6.30000e+00,  3.31000e+01,\n",
      "        -9.99999e+05,  4.60000e+00,  0.00000e+00,  0.00000e+00,\n",
      "         5.40000e+00, -9.99999e+05,  0.00000e+00,  0.00000e+00,\n",
      "         6.30000e+00, -9.99999e+05,  0.00000e+00,  0.00000e+00,\n",
      "         0.00000e+00, -9.99999e+05, -9.99999e+05,  3.72000e+01,\n",
      "        -9.99999e+05]))                                                       ]\n",
      "\n",
      "COVID hospitalization sum:\n",
      " [('2020-12-13', array([     45,     448,     678,     201,     174,      98, -999999,\n",
      "        -999999,     510,    4685,    1158,      62,    1546,    2262,\n",
      "           1124,      62,    1010,       6,       6,     494, -999999,\n",
      "              0,       0,       0,       0,     552,     192,       8,\n",
      "           1479,      57,       0,       0,       5,       0,     233,\n",
      "        -999999,       0,       0,     112,      89,       0,       0,\n",
      "             44,     368,      26,       0,      73,      34,      59,\n",
      "             43,       0,      11,      80, -999999,       0,       0,\n",
      "              0,       6,       0,     299,       0]))\n",
      " ('2020-12-20', array([     90,     445,     723,      82,      78,      40,   24739,\n",
      "           1079,     374,    5148,    1162,      56,    1738,    2156,\n",
      "            922,       0,     332,       0,       5,     385,       0,\n",
      "             21,       0,       0,      83,     434,     256,       0,\n",
      "            708,      31,       9,       0,       9,       0,     226,\n",
      "              0,       0,       4,      89,     373,       0,       0,\n",
      "              0,      83,      17,       0,       0, -999999,       0,\n",
      "             12,       0,       0,      79,       4,       0,       0,\n",
      "              0,       0,       0,     400,      15]))\n",
      " ('2020-12-27', array([     80,     272,     751,     244,     228,      23,   33878,\n",
      "           1622,     432,    6180,    1154,      64,     975,    1894,\n",
      "            945,      47,     718,      14,      13,     300,       0,\n",
      "        -999999,       0,       0,       0,     529,     377,      12,\n",
      "              0,       0,      54,       0,       0,      13,     179,\n",
      "              0, -999999,       0,      95, -999999,       8, -999999,\n",
      "             44,     232,      19,      32,       0,       0,      38,\n",
      "             54,       0,       0,      44, -999999,       0,       0,\n",
      "              0,      11,       9,     260, -999999]))                               ]\n",
      "\n",
      "Influenza hospitalization average:\n",
      " [('2020-12-13', array([      0.,       0.,       0.,       0., -999999.,       0.,\n",
      "        -999999., -999999.,       0., -999999.,       0.,       0.,\n",
      "              0.,       0.,       0.,       0.,       0.,       0.,\n",
      "              0.,       0., -999999.,       0.,       0.,       0.,\n",
      "              0.,       0.,       0.,       0.,       0.,       0.,\n",
      "              0.,       0.,       0.,       0.,       0.,       0.,\n",
      "              0.,       0., -999999.,       0.,       0.,       0.,\n",
      "              0.,       0.,       0.,       0.,       0.,       0.,\n",
      "              0.,       0.,       0.,       0.,       0.,       0.,\n",
      "              0.,       0.,       0.,       0.,       0., -999999.,\n",
      "              0.]))\n",
      " ('2020-12-20', array([-999999.,       0.,       0.,       0.,       0.,       0.,\n",
      "        -999999.,       0.,       0., -999999.,       0.,       0.,\n",
      "              0.,       0., -999999.,       0.,       0.,       0.,\n",
      "              0.,       0.,       0.,       0.,       0.,       0.,\n",
      "              0.,       0.,       0.,       0.,       0.,       0.,\n",
      "              0.,       0.,       0.,       0.,       0.,       0.,\n",
      "              0.,       0., -999999.,       0.,       0.,       0.,\n",
      "              0.,       0.,       0.,       0.,       0.,       0.,\n",
      "              0.,       0.,       0.,       0.,       0.,       0.,\n",
      "              0.,       0.,       0.,       0.,       0., -999999.,\n",
      "              0.]))\n",
      " ('2020-12-27', array([-999999.,       0.,       0.,       0.,       0.,       0.,\n",
      "        -999999.,       0.,       0., -999999., -999999.,       0.,\n",
      "              0.,       0.,       0.,       0.,       0.,       0.,\n",
      "              0.,       0.,       0.,       0.,       0.,       0.,\n",
      "              0.,       0.,       0.,       0.,       0.,       0.,\n",
      "              0.,       0.,       0.,       0.,       0.,       0.,\n",
      "              0.,       0., -999999.,       0.,       0.,       0.,\n",
      "              0.,       0.,       0.,       0.,       0.,       0.,\n",
      "              0.,       0.,       0.,       0.,       0.,       0.,\n",
      "              0.,       0.,       0.,       0.,       0., -999999.,\n",
      "              0.]))                                                               ]\n",
      "\n",
      "Influenza hospitalization sum:\n",
      " [('2020-12-13', array([      0,       0,       0,       0, -999999,       0, -999999,\n",
      "        -999999,       0, -999999,       0,       0,       0,       0,\n",
      "              0,       0,       0,       0,       0,       0,       6,\n",
      "              0,       0,       0,       0,       0,       0,       0,\n",
      "              0,       0,       0,       0,       0,       0,       0,\n",
      "              0,       0,       0,       7,       0,       0,       0,\n",
      "              0,       0,       0,       0,       0,       0,       0,\n",
      "              0,       0,       0,       0,       0,       0,       0,\n",
      "              0,       0,       0,      14,       0]))\n",
      " ('2020-12-20', array([-999999,       0,       0,       0,       0,       0, -999999,\n",
      "              0,       0,      10,       0,       0,       0,       0,\n",
      "        -999999,       0,       0,       0,       0,       0,       0,\n",
      "              0,       0,       0,       0,       0,       0,       0,\n",
      "              0,       0,       0,       0,       0,       0,       0,\n",
      "              0,       0,       0,       7,       0,       0,       0,\n",
      "              0,       0,       0,       0,       0,       0,       0,\n",
      "              0,       0,       0,       0,       0,       0,       0,\n",
      "              0,       0,       0,      14,       0]))\n",
      " ('2020-12-27', array([-999999,       0,       0,       0,       0,       0, -999999,\n",
      "              0,       0, -999999, -999999,       0,       0,       0,\n",
      "              0,       0,       0,       0,       0,       0,       0,\n",
      "              0,       0,       0,       0,       0,       0,       0,\n",
      "              0,       0,       0,       0,       0,       0,       0,\n",
      "              0,       0,       0,       7,       0,       0,       0,\n",
      "              0,       0,       0,       0,       0,       0,       0,\n",
      "              0,       0,       0,       0,       0,       0,       0,\n",
      "              0,       0,       0,      14,       0]))                               ]\n"
     ]
    }
   ],
   "source": [
    "print(f\"COVID hospitalization average:\\n {covid_avg.get_value()[:3]}\\n\")\n",
    "print(f\"COVID hospitalization sum:\\n {covid_sum.get_value()[:3]}\\n\")\n",
    "print(f\"Influenza hospitalization average:\\n {flu_avg.get_value()[:3]}\\n\")\n",
    "print(f\"Influenza hospitalization sum:\\n {flu_sum.get_value()[:3]}\")"
   ]
  },
  {
   "cell_type": "markdown",
   "metadata": {},
   "source": [
    "### **Weekly United States Hospitalization Metrics by Jurisdiction**\n",
    "Like the previous dataset, this dataset is used to fetch hospitalization data for COVID-19 and other respiratory illnesses. Unlike the previous dataset however, it includes metrics reported voluntarily after the end of the manditory reporting period and is limited to state granularity.\n",
    "\n",
    "- Supported attributes: covid_hospitalization_avg_state, covid_hospitalization_sum_state, influenza_hospitalization_avg_state, influenza_hospitalization_sum_state\n",
    "- Available date range: 1/04/2020 to present. Data reported voluntary past 5/1/2024.\n",
    "- Granularity: state\n",
    "\n",
    "https://data.cdc.gov/Public-Health-Surveillance/Weekly-United-States-Hospitalization-Metrics-by-Ju/aemt-mg7g/about_data"
   ]
  },
  {
   "cell_type": "code",
   "execution_count": 6,
   "metadata": {},
   "outputs": [],
   "source": [
    "time_period = DateRange(date(2020, 12, 13), date(2024, 6, 28))\n",
    "\n",
    "covid_avg = maker.make_adrio(geo_attrib(\n",
    "    \"covid_hospitalization_avg_state\", float, Shapes.TxN), state_scope, time_period)\n",
    "covid_sum = maker.make_adrio(geo_attrib(\n",
    "    \"covid_hospitalization_sum_state\", int, Shapes.TxN), state_scope, time_period)\n",
    "flu_avg = maker.make_adrio(geo_attrib(\n",
    "    \"influenza_hospitalization_avg_state\", float, Shapes.TxN), state_scope, time_period)\n",
    "flu_sum = maker.make_adrio(geo_attrib(\n",
    "    \"influenza_hospitalization_sum_state\", int, Shapes.TxN), state_scope, time_period)"
   ]
  },
  {
   "cell_type": "code",
   "execution_count": 7,
   "metadata": {},
   "outputs": [
    {
     "name": "stderr",
     "output_type": "stream",
     "text": [
      "/home/waff/Desktop/CCL/Epymorph/epymorph/geo/adrio/cdc/adrio_cdc.py:201: UserWarning: State level hospitalization data is voluntary past 5/1/2024.\n",
      "  warn(\"State level hospitalization data is voluntary past 5/1/2024.\")\n"
     ]
    },
    {
     "name": "stdout",
     "output_type": "stream",
     "text": [
      "COVID hospitalization average:\n",
      " [('2020-12-19', array([452., 199.])) ('2020-12-26', array([472., 164.]))\n",
      " ('2021-01-02', array([495., 150.]))]\n",
      "...\n",
      "\n"
     ]
    },
    {
     "name": "stderr",
     "output_type": "stream",
     "text": [
      "/home/waff/Desktop/CCL/Epymorph/epymorph/geo/adrio/cdc/adrio_cdc.py:201: UserWarning: State level hospitalization data is voluntary past 5/1/2024.\n",
      "  warn(\"State level hospitalization data is voluntary past 5/1/2024.\")\n"
     ]
    },
    {
     "name": "stdout",
     "output_type": "stream",
     "text": [
      "COVID hospitalization sum:\n",
      " [('2020-12-19', array([3164, 1396])) ('2020-12-26', array([3307, 1148]))\n",
      " ('2021-01-02', array([3465, 1051]))]\n",
      "...\n",
      "\n"
     ]
    },
    {
     "name": "stderr",
     "output_type": "stream",
     "text": [
      "/home/waff/Desktop/CCL/Epymorph/epymorph/geo/adrio/cdc/adrio_cdc.py:201: UserWarning: State level hospitalization data is voluntary past 5/1/2024.\n",
      "  warn(\"State level hospitalization data is voluntary past 5/1/2024.\")\n"
     ]
    },
    {
     "name": "stdout",
     "output_type": "stream",
     "text": [
      "Influenza hospitalization average:\n",
      " [('2020-12-19', array([2., 1.])) ('2020-12-26', array([1., 1.]))\n",
      " ('2021-01-02', array([6., 0.]))]\n",
      "...\n",
      "\n"
     ]
    },
    {
     "name": "stderr",
     "output_type": "stream",
     "text": [
      "/home/waff/Desktop/CCL/Epymorph/epymorph/geo/adrio/cdc/adrio_cdc.py:201: UserWarning: State level hospitalization data is voluntary past 5/1/2024.\n",
      "  warn(\"State level hospitalization data is voluntary past 5/1/2024.\")\n"
     ]
    },
    {
     "name": "stdout",
     "output_type": "stream",
     "text": [
      "Influenza hospitalization sum:\n",
      " [('2020-12-19', array([11,  5])) ('2020-12-26', array([8, 5]))\n",
      " ('2021-01-02', array([44,  0]))]\n",
      "...\n"
     ]
    }
   ],
   "source": [
    "print(f\"COVID hospitalization average:\\n {covid_avg.get_value()[:3]}\\n...\\n\")\n",
    "print(f\"COVID hospitalization sum:\\n {covid_sum.get_value()[:3]}\\n...\\n\")\n",
    "print(f\"Influenza hospitalization average:\\n {flu_avg.get_value()[:3]}\\n...\\n\")\n",
    "print(f\"Influenza hospitalization sum:\\n {flu_sum.get_value()[:3]}\\n...\")"
   ]
  },
  {
   "cell_type": "markdown",
   "metadata": {},
   "source": [
    "### **COVID-19 Vaccinations in the United States,County**\n",
    "This dataset is used to fetch cumulative COVID-19 vaccination data.\n",
    "\n",
    "- Supported attributes: full_covid_vaccinations, one_dose_covid_vaccinations, covid_booster_doses\n",
    "- Available date range: 12/13/2020 to 5/10/2024.\n",
    "- Granularity: county, state\n",
    "\n",
    "https://data.cdc.gov/Vaccinations/COVID-19-Vaccinations-in-the-United-States-County/8xkx-amqh/about_data"
   ]
  },
  {
   "cell_type": "code",
   "execution_count": 8,
   "metadata": {},
   "outputs": [],
   "source": [
    "time_period = DateRange(date(2020, 12, 13), date(2024, 5, 10))\n",
    "\n",
    "full = maker.make_adrio(geo_attrib(\"full_covid_vaccinations\",\n",
    "                        int, Shapes.TxN), county_scope, time_period)\n",
    "one = maker.make_adrio(geo_attrib(\"one_dose_covid_vaccinations\",\n",
    "                       int, Shapes.TxN), county_scope, time_period)\n",
    "booster = maker.make_adrio(geo_attrib(\"covid_booster_doses\",\n",
    "                           int, Shapes.TxN), county_scope, time_period)"
   ]
  },
  {
   "cell_type": "code",
   "execution_count": 9,
   "metadata": {},
   "outputs": [
    {
     "name": "stdout",
     "output_type": "stream",
     "text": [
      "Full COVID vaccinations:\n",
      " [('2020-12-13', array([0, 0, 0, 0, 0, 0, 0, 0, 0, 0, 0, 0, 0, 0, 0, 0, 0, 0, 0, 0, 0, 0,\n",
      "        0, 0, 0, 0, 0, 0, 0, 0, 0, 0, 0, 0, 0, 0, 0, 0, 0, 0, 0, 0, 0, 0,\n",
      "        0, 0, 0, 0, 0, 0, 0, 0, 0, 0, 0, 0, 0, 0, 0, 0, 0, 0, 0, 0, 0, 0,\n",
      "        0, 0, 0, 0, 0, 0, 0, 0, 0, 0, 0, 0, 0]))\n",
      " ('2020-12-14', array([0, 0, 0, 0, 0, 0, 0, 0, 0, 0, 0, 0, 0, 0, 0, 0, 0, 0, 0, 0, 0, 0,\n",
      "        0, 0, 0, 0, 0, 0, 0, 0, 0, 0, 0, 0, 0, 0, 0, 0, 0, 0, 0, 0, 0, 0,\n",
      "        0, 0, 0, 0, 0, 0, 0, 0, 0, 0, 0, 0, 0, 0, 0, 0, 0, 0, 0, 0, 0, 0,\n",
      "        0, 0, 0, 0, 0, 0, 0, 0, 0, 0, 0, 0, 0]))\n",
      " ('2020-12-15', array([0, 0, 0, 0, 0, 0, 0, 0, 0, 0, 0, 0, 0, 0, 0, 0, 0, 0, 0, 0, 0, 0,\n",
      "        0, 0, 0, 0, 0, 0, 0, 0, 0, 0, 0, 0, 0, 0, 0, 0, 0, 0, 0, 0, 0, 0,\n",
      "        0, 0, 0, 0, 0, 0, 0, 0, 0, 0, 0, 0, 0, 0, 0, 0, 0, 0, 0, 0, 0, 0,\n",
      "        0, 0, 0, 0, 0, 0, 0, 0, 0, 0, 0, 0, 0]))                                        ]\n",
      "\n",
      "One dose COVID vaccinations:\n",
      " [('2020-12-13', array([0, 0, 0, 0, 0, 0, 0, 0, 0, 0, 0, 0, 0, 0, 0, 0, 0, 0, 0, 0, 0, 0,\n",
      "        0, 0, 0, 0, 0, 0, 0, 0, 0, 0, 0, 0, 0, 0, 0, 0, 0, 0, 0, 0, 0, 0,\n",
      "        0, 0, 0, 0, 0, 0, 0, 0, 0, 0, 0, 0, 0, 0, 0, 0, 0, 0, 0, 0, 0, 0,\n",
      "        0, 0, 0, 0, 0, 0, 0, 0, 0, 0, 0, 0, 0]))\n",
      " ('2020-12-14', array([0, 0, 0, 0, 0, 0, 0, 0, 0, 0, 0, 0, 0, 0, 0, 0, 0, 0, 0, 0, 0, 0,\n",
      "        0, 0, 0, 0, 0, 0, 0, 0, 0, 0, 0, 0, 0, 0, 0, 0, 0, 0, 0, 0, 0, 0,\n",
      "        0, 0, 0, 0, 0, 0, 0, 0, 0, 0, 0, 0, 0, 0, 0, 0, 0, 0, 0, 0, 0, 0,\n",
      "        0, 0, 0, 0, 0, 0, 0, 0, 0, 0, 0, 0, 0]))\n",
      " ('2020-12-15', array([0, 0, 0, 0, 0, 0, 0, 0, 0, 0, 0, 0, 0, 0, 0, 0, 0, 0, 0, 0, 0, 0,\n",
      "        0, 0, 0, 0, 0, 0, 0, 0, 0, 0, 0, 0, 0, 0, 0, 0, 0, 0, 0, 0, 0, 0,\n",
      "        0, 0, 0, 0, 0, 0, 0, 0, 0, 0, 0, 0, 0, 0, 0, 0, 0, 0, 0, 0, 0, 0,\n",
      "        0, 0, 0, 0, 0, 0, 0, 0, 0, 0, 0, 0, 0]))                                        ]\n",
      "\n",
      "COVID booster doses:\n",
      " [('2020-12-13', array([0, 0, 0, 0, 0, 0, 0, 0, 0, 0, 0, 0, 0, 0, 0, 0, 0, 0, 0, 0, 0, 0,\n",
      "        0, 0, 0, 0, 0, 0, 0, 0, 0, 0, 0, 0, 0, 0, 0, 0, 0, 0, 0, 0, 0, 0,\n",
      "        0, 0, 0, 0, 0, 0, 0, 0, 0, 0, 0, 0, 0, 0, 0, 0, 0, 0, 0, 0, 0, 0,\n",
      "        0, 0, 0, 0, 0, 0, 0, 0, 0, 0, 0, 0, 0]))\n",
      " ('2020-12-14', array([0, 0, 0, 0, 0, 0, 0, 0, 0, 0, 0, 0, 0, 0, 0, 0, 0, 0, 0, 0, 0, 0,\n",
      "        0, 0, 0, 0, 0, 0, 0, 0, 0, 0, 0, 0, 0, 0, 0, 0, 0, 0, 0, 0, 0, 0,\n",
      "        0, 0, 0, 0, 0, 0, 0, 0, 0, 0, 0, 0, 0, 0, 0, 0, 0, 0, 0, 0, 0, 0,\n",
      "        0, 0, 0, 0, 0, 0, 0, 0, 0, 0, 0, 0, 0]))\n",
      " ('2020-12-15', array([0, 0, 0, 0, 0, 0, 0, 0, 0, 0, 0, 0, 0, 0, 0, 0, 0, 0, 0, 0, 0, 0,\n",
      "        0, 0, 0, 0, 0, 0, 0, 0, 0, 0, 0, 0, 0, 0, 0, 0, 0, 0, 0, 0, 0, 0,\n",
      "        0, 0, 0, 0, 0, 0, 0, 0, 0, 0, 0, 0, 0, 0, 0, 0, 0, 0, 0, 0, 0, 0,\n",
      "        0, 0, 0, 0, 0, 0, 0, 0, 0, 0, 0, 0, 0]))                                        ]\n"
     ]
    }
   ],
   "source": [
    "print(f\"Full COVID vaccinations:\\n {full.get_value()[:3]}\\n\")\n",
    "print(f\"One dose COVID vaccinations:\\n {one.get_value()[:3]}\\n\")\n",
    "print(f\"COVID booster doses:\\n {booster.get_value()[:3]}\")"
   ]
  },
  {
   "cell_type": "markdown",
   "metadata": {},
   "source": [
    "### **AH COVID-19 Death Counts by County and Week, 2020-present**\n",
    "This dataset is used to fetch data on COVID-19 deaths.\n",
    "\n",
    "- Supported attributes: covid_deaths_county\n",
    "- Available date range: 1/4/2020 to 4/5/2024.\n",
    "- Granularity: county, state\n",
    "\n",
    "https://data.cdc.gov/NCHS/AH-COVID-19-Death-Counts-by-County-and-Week-2020-p/ite7-j2w7/about_data"
   ]
  },
  {
   "cell_type": "code",
   "execution_count": 10,
   "metadata": {},
   "outputs": [],
   "source": [
    "deaths = maker.make_adrio(geo_attrib(\"covid_deaths_county\", int, Shapes.TxN),\n",
    "                          county_scope, DateRange(date(2020, 1, 4), date(2024, 4, 5)))"
   ]
  },
  {
   "cell_type": "code",
   "execution_count": 11,
   "metadata": {},
   "outputs": [
    {
     "name": "stdout",
     "output_type": "stream",
     "text": [
      "COVID deaths:\n",
      " [('2020-01-04', array([0, 0, 0, 0, 0, 0, 0, 0, 0, 0, 0, 0, 0, 0, 0, 0, 0, 0, 0, 0, 0, 0,\n",
      "        0, 0, 0, 0, 0, 0, 0, 0, 0, 0, 0, 0, 0, 0, 0, 0, 0, 0, 0, 0, 0, 0,\n",
      "        0, 0, 0, 0, 0, 0, 0, 0, 0, 0, 0, 0, 0, 0, 0, 0, 0, 0, 0, 0, 0, 0,\n",
      "        0, 0, 0, 0, 0, 0, 0, 0, 0, 0, 0, 0, 0]))\n",
      " ('2020-01-11', array([0, 0, 0, 0, 0, 0, 0, 0, 0, 0, 0, 0, 0, 0, 0, 0, 0, 0, 0, 0, 0, 0,\n",
      "        0, 0, 0, 0, 0, 0, 0, 0, 0, 0, 0, 0, 0, 0, 0, 0, 0, 0, 0, 0, 0, 0,\n",
      "        0, 0, 0, 0, 0, 0, 0, 0, 0, 0, 0, 0, 0, 0, 0, 0, 0, 0, 0, 0, 0, 0,\n",
      "        0, 0, 0, 0, 0, 0, 0, 0, 0, 0, 0, 0, 0]))\n",
      " ('2020-01-18', array([0, 0, 0, 0, 0, 0, 0, 0, 0, 0, 0, 0, 0, 0, 0, 0, 0, 0, 0, 0, 0, 0,\n",
      "        0, 0, 0, 0, 0, 0, 0, 0, 0, 0, 0, 0, 0, 0, 0, 0, 0, 0, 0, 0, 0, 0,\n",
      "        0, 0, 0, 0, 0, 0, 0, 0, 0, 0, 0, 0, 0, 0, 0, 0, 0, 0, 0, 0, 0, 0,\n",
      "        0, 0, 0, 0, 0, 0, 0, 0, 0, 0, 0, 0, 0]))                                        ]\n",
      "\n"
     ]
    }
   ],
   "source": [
    "print(f\"COVID deaths:\\n {deaths.get_value()[:3]}\\n\")"
   ]
  },
  {
   "cell_type": "markdown",
   "metadata": {},
   "source": [
    "### **Provisional COVID-19 Death Counts by Week Ending Date and State**\n",
    "This dataset is used to fetch data on COVID-19 and influenza deaths. It is continuously updated but only available for state granularity.\n",
    "\n",
    "- Supported attributes: covid_deaths_state, influenza_deaths\n",
    "- Available date range: 1/4/2020 to present.\n",
    "- Granularity: state\n",
    "\n",
    "https://data.cdc.gov/NCHS/Provisional-COVID-19-Death-Counts-by-Week-Ending-D/r8kw-7aab/about_data"
   ]
  },
  {
   "cell_type": "code",
   "execution_count": 12,
   "metadata": {},
   "outputs": [],
   "source": [
    "time_period = DateRange(date(2020, 1, 4), date(2024, 4, 5))\n",
    "\n",
    "covid_deaths = maker.make_adrio(geo_attrib(\n",
    "    \"covid_deaths_state\", int, Shapes.TxN), state_scope, time_period)\n",
    "flu_deaths = maker.make_adrio(geo_attrib(\n",
    "    \"influenza_deaths\", int, Shapes.TxN), state_scope, time_period)"
   ]
  },
  {
   "cell_type": "code",
   "execution_count": 13,
   "metadata": {},
   "outputs": [
    {
     "name": "stdout",
     "output_type": "stream",
     "text": [
      "COVID deaths:\n",
      " [('2020-01-04', array([0, 0])) ('2020-01-11', array([0, 0]))\n",
      " ('2020-01-18', array([0, 0]))]\n",
      "...\n",
      "\n",
      "Influenza deaths:\n",
      " [('2020-01-04', array([0, 0])) ('2020-01-11', array([0, 0]))\n",
      " ('2020-01-18', array([11,  0]))]\n",
      "...\n"
     ]
    }
   ],
   "source": [
    "print(f\"COVID deaths:\\n {covid_deaths.get_value()[:3]}\\n...\\n\")\n",
    "print(f\"Influenza deaths:\\n {flu_deaths.get_value()[:3]}\\n...\")"
   ]
  }
 ],
 "metadata": {
  "kernelspec": {
   "display_name": ".venv",
   "language": "python",
   "name": "python3"
  },
  "language_info": {
   "codemirror_mode": {
    "name": "ipython",
    "version": 3
   },
   "file_extension": ".py",
   "mimetype": "text/x-python",
   "name": "python",
   "nbconvert_exporter": "python",
   "pygments_lexer": "ipython3",
   "version": "3.11.9"
  }
 },
 "nbformat": 4,
 "nbformat_minor": 2
}
