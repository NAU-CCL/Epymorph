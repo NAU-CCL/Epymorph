{
 "cells": [
  {
   "cell_type": "markdown",
   "metadata": {},
   "source": [
    "# 2024-07-03 CDC ADRIO Demo\n",
    "\n",
    "_author: Trevor Johnson_\n",
    "\n",
    "This devlog will demonstrate the functionality of a new 'CDC ADRIO maker' which fetches data from various CDC and HealthData datasets. Six datasets are currenlty included, each with their own limitations and set of supported attributes. A comprehensive list of attributes and their limitations can be found below."
   ]
  },
  {
   "cell_type": "markdown",
   "metadata": {},
   "source": [
    "| Attribute Name | Dates | Granularity | Dataset | Description |\n",
    "| --- | --- | --- | --- | --- |\n",
    "| covid_cases_per_100k | 2/24/2022 - 5/4/2023 | County, State | United States COVID 19 Community Levels by County | Weekly number of COVID\\-19 cases per 100k population. |\n",
    "| covid_hospitalizations_per_100k | 2/24/2022 - 5/4/2023 | County, State | United States COVID 19 Community Levels by County | Weekly number of COVID\\-19 hospitalizations per 100k population. |\n",
    "| covid_hospitalization_avg_facility | 12/13/2020 - 5/10/2023 | County, State | COVID-19 Reported Patient Impact and Hospital Capacity by Facility | Weekly averages of COVID\\-19 hospitalizations reported by facility. |\n",
    "| covid_hospitalization_sum_facility | 12/13/2020 - 5/10/2023 | County, State | COVID-19 Reported Patient Impact and Hospital Capacity by Facility | Weekly sums of COVID\\-19 hospitalizations reported by facility. |\n",
    "| influenza_hospitalization_avg_facility | 12/13/2020 - 5/10/2023 | County, State | COVID-19 Reported Patient Impact and Hospital Capacity by Facility | Weekly averages of influenza hospitalizations reported by facility. |\n",
    "| influenza_hospitalization_sum_facility | 12/13/2020 - 5/10/2023 | County, State | COVID-19 Reported Patient Impact and Hospital Capacity by Facility | Weekly sums of influenza hospitalizations reported by facility. |\n",
    "| covid_hospitalization_avg_state | 1/04/2020 - present | State | Weekly United States Hospitalization Metrics by Jurisdiction | Weekly averages of COVID\\-19 hospitalizations reported by state. |\n",
    "| covid_hospitalization_sum_state | 1/04/2020 - present | State | Weekly United States Hospitalization Metrics by Jurisdiction | Weekly sums of COVID\\-19 hospitalizations reported by state. |\n",
    "| influenza_hospitalization_avg_state | 1/04/2020 - present | State | Weekly United States Hospitalization Metrics by Jurisdiction | Weekly averages of influenza hospitalizations reported by state. |\n",
    "| influenza_hospitalization_avg_state | 1/04/2020 - present | State | Weekly United States Hospitalization Metrics by Jurisdiction | Weekly sums of influenza hospitalizations reported by state. |\n",
    "| full_covid_vaccinations | 12/13/2020 - 5/10/2024 | County, State | COVID-19 Vaccinations in the United States,County | Weekly cumulative total of individuals who have compeleted a series of COVID\\-19 vaccinations. |\n",
    "| one_dose_covid_vaccinations | 12/13/2020 - 5/10/2024 | County, State | COVID-19 Vaccinations in the United States,County | Weely cumulative total of individuals who have recieved at least one dose of COVID\\-19 vaccination. |\n",
    "| covid_booster_doses | 12/13/2020 - 5/10/2024 | County, State | COVID-19 Vaccinations in the United States,County | Weekly cumulative total of COVID\\-19 booster doses administered. |\n",
    "| covid_deaths_county | 1/4/2020 - 4/5/2024 | County, State | AH COVID-19 Death Counts by County and Week, 2020-present | Weekly number of COVID\\-19 deaths reported by county.  |\n",
    "| covid_deaths_state | 1/4/2020 - present | State | Provisional COVID-19 Death Counts by Week Ending Date and State | Weekly number of COVID\\-19 deaths reported by state. |\n",
    "| influenza_deaths | 1/4/2020 - present | State | Provisional COVID-19 Death Counts by Week Ending Date and State | Weekly number of influenza deaths reported by state. |"
   ]
  },
  {
   "cell_type": "markdown",
   "metadata": {},
   "source": [
    "## **Demo**\n",
    "ADRIO maker functionality will be demonstrated one dataset at a time. A brief description of each dataset will be given and one ADRIO for each of its attributes will be created and run."
   ]
  },
  {
   "cell_type": "code",
   "execution_count": 1,
   "metadata": {},
   "outputs": [],
   "source": [
    "from epymorph.geography.us_census import StateScope\n",
    "from epymorph.time import TimeFrame\n",
    "\n",
    "# We'll use these two scopes throughout...\n",
    "state_scope = StateScope.in_states([\"AZ\", \"CO\"], year=2022)\n",
    "county_scope = state_scope.lower_granularity()"
   ]
  },
  {
   "cell_type": "markdown",
   "metadata": {},
   "source": [
    "### **United States COVID 19 Community Levels by County**\n",
    "This dataset is used to fetch data on reported COVID-19 cases and hospitalizations per 100k population.\n",
    "\n",
    "- Supported attributes: covid_cases_per_100k, covid_hospitalizations_per_100k\n",
    "- Available date range: 2/24/2022 to 5/4/2023\n",
    "- Granularity: county, state\n",
    "\n",
    "https://healthdata.gov/dataset/United-States-COVID-19-Community-Levels-by-County/nn5b-j5u9/about_data"
   ]
  },
  {
   "cell_type": "code",
   "execution_count": 2,
   "metadata": {},
   "outputs": [
    {
     "name": "stdout",
     "output_type": "stream",
     "text": [
      "COVID cases per 100k:\n",
      "[[('2022-02-24',  3217.93) ('2022-02-24', 12475.51)]\n",
      " [('2022-03-03',  1018.81) ('2022-03-03',  8795.74)]\n",
      " [('2022-03-10',  1912.86) ('2022-03-10', 12280.08)]]\n",
      "\n",
      "COVID hospitalizations per 100k:\n",
      "[[('2022-02-24', 334.7) ('2022-02-24', 822.5)]\n",
      " [('2022-03-03', 232.6) ('2022-03-03', 445.5)]\n",
      " [('2022-03-10', 186. ) ('2022-03-10', 332.5)]]\n"
     ]
    }
   ],
   "source": [
    "from epymorph.adrio.cdc import CovidCasesPer100k, CovidHospitalizationsPer100k\n",
    "\n",
    "time = TimeFrame.range(\"2022-02-24\", \"2022-03-10\")\n",
    "context = {\"scope\": state_scope, \"time_frame\": time}\n",
    "\n",
    "cases = CovidCasesPer100k().with_context(**context).evaluate()\n",
    "print(f\"COVID cases per 100k:\\n{cases}\\n\")\n",
    "\n",
    "hospitalizations = CovidHospitalizationsPer100k().with_context(**context).evaluate()\n",
    "print(f\"COVID hospitalizations per 100k:\\n{hospitalizations}\")"
   ]
  },
  {
   "cell_type": "markdown",
   "metadata": {},
   "source": [
    "### **COVID-19 Reported Patient Impact and Hospital Capacity by Facility**\n",
    "This dataset is used to fetch hospitalization data for COVID-19 and other respiratory illnesses.\n",
    "\n",
    "- Supported attributes: covid_hospitalization_avg_facility, covid_hospitalization_sum_facility, influenza_hospitalization_avg_facility, influenza_hospitalization_sum_facility\n",
    "- Available date range: 12/13/2020 to 5/10/2023\n",
    "- Granularity: county, state\n",
    "\n",
    "https://healthdata.gov/Hospital/COVID-19-Reported-Patient-Impact-and-Hospital-Capa/anag-cw7u/about_data\n"
   ]
  },
  {
   "cell_type": "code",
   "execution_count": 3,
   "metadata": {},
   "outputs": [
    {
     "name": "stderr",
     "output_type": "stream",
     "text": [
      "/home/tcoles/Workspaces/Epymorph/epymorph/adrio/cdc.py:89: UserWarning: 173 values < 4 were replaced with 0 in returned data.\n",
      "  warn(\n"
     ]
    },
    {
     "name": "stdout",
     "output_type": "stream",
     "text": [
      "COVID hospitalization average:\n",
      "[[('2020-12-13',  6.4  ) ('2020-12-13',  7.425) ('2020-12-13', 23.3  )]\n",
      " [('2020-12-20',  6.4  ) ('2020-12-20',  6.9  ) ('2020-12-20', 26.85 )]\n",
      " [('2020-12-27',  5.7  ) ('2020-12-27',  7.275) ('2020-12-27', 25.85 )]\n",
      " [('2021-01-03',  5.3  ) ('2021-01-03',  8.575) ('2021-01-03', 33.65 )]\n",
      " [('2021-01-10',  5.9  ) ('2021-01-10',  8.025) ('2021-01-10', 30.2  )]]\n",
      "\n"
     ]
    },
    {
     "name": "stderr",
     "output_type": "stream",
     "text": [
      "/home/tcoles/Workspaces/Epymorph/epymorph/adrio/cdc.py:89: UserWarning: 38 values < 4 were replaced with 0 in returned data.\n",
      "  warn(\n"
     ]
    },
    {
     "name": "stdout",
     "output_type": "stream",
     "text": [
      "COVID hospitalization sum:\n",
      "[[('2020-12-13',  45.  ) ('2020-12-13',  59.  ) ('2020-12-13', 176.  )]\n",
      " [('2020-12-20',  45.  ) ('2020-12-20',  56.25) ('2020-12-20', 188.  )]\n",
      " [('2020-12-27',  40.  ) ('2020-12-27',  59.5 ) ('2020-12-27', 194.5 )]\n",
      " [('2021-01-03',  37.  ) ('2021-01-03',  66.25) ('2021-01-03', 235.5 )]\n",
      " [('2021-01-10',  41.  ) ('2021-01-10',  60.25) ('2021-01-10', 222.  )]]\n",
      "\n"
     ]
    },
    {
     "name": "stderr",
     "output_type": "stream",
     "text": [
      "/home/tcoles/Workspaces/Epymorph/epymorph/adrio/cdc.py:89: UserWarning: 308 values < 4 were replaced with 0 in returned data.\n",
      "  warn(\n"
     ]
    },
    {
     "name": "stdout",
     "output_type": "stream",
     "text": [
      "Influenza hospitalization average:\n",
      "[[('2022-11-13', 0.  ) ('2022-11-13', 0.  ) ('2022-11-13', 3.55)]\n",
      " [('2022-11-20', 0.  ) ('2022-11-20', 0.  ) ('2022-11-20', 4.35)]\n",
      " [('2022-11-27', 0.  ) ('2022-11-27', 0.  ) ('2022-11-27', 5.7 )]\n",
      " [('2022-12-04', 0.  ) ('2022-12-04', 0.  ) ('2022-12-04', 3.85)]\n",
      " [('2022-12-11', 0.  ) ('2022-12-11', 0.  ) ('2022-12-11', 3.5 )]]\n",
      "\n",
      "Influenza hospitalization sum:\n",
      "[[('2022-11-13',  0.  ) ('2022-11-13',  0.  ) ('2022-11-13', 29.5 )]\n",
      " [('2022-11-20',  0.  ) ('2022-11-20',  1.  ) ('2022-11-20', 30.5 )]\n",
      " [('2022-11-27', 10.  ) ('2022-11-27',  2.25) ('2022-11-27', 40.  )]\n",
      " [('2022-12-04',  5.  ) ('2022-12-04',  1.25) ('2022-12-04', 27.  )]\n",
      " [('2022-12-11',  8.  ) ('2022-12-11',  0.  ) ('2022-12-11', 24.5 )]]\n"
     ]
    },
    {
     "name": "stderr",
     "output_type": "stream",
     "text": [
      "/home/tcoles/Workspaces/Epymorph/epymorph/adrio/cdc.py:89: UserWarning: 95 values < 4 were replaced with 0 in returned data.\n",
      "  warn(\n"
     ]
    }
   ],
   "source": [
    "from epymorph.adrio.cdc import (\n",
    "    CovidHospitalizationAvgFacility,\n",
    "    CovidHospitalizationSumFacility,\n",
    "    InfluenzaHospitalizationSumFacility,\n",
    "    InfluenzaHosptializationAvgFacility,\n",
    ")\n",
    "\n",
    "\n",
    "# COVID\n",
    "\n",
    "time = TimeFrame.range(\"2020-12-13\", \"2021-01-10\")\n",
    "context = {\"scope\": county_scope, \"time_frame\": time}\n",
    "\n",
    "# these attributes contain many -999,999 \"sentinel values\" to suppress values < 4\n",
    "# an additional integer parameter 0-3 is required to specify what to replace these with\n",
    "covid_avg = CovidHospitalizationAvgFacility(0).with_context(**context).evaluate()\n",
    "print(f\"COVID hospitalization average:\\n{covid_avg[:, 0:3]}\\n\")\n",
    "\n",
    "covid_sum = CovidHospitalizationSumFacility(0).with_context(**context).evaluate()\n",
    "print(f\"COVID hospitalization sum:\\n{covid_sum[:, 0:3]}\\n\")\n",
    "\n",
    "\n",
    "# Flu\n",
    "\n",
    "time = TimeFrame.range(\"2022-11-13\", \"2022-12-11\")\n",
    "context = {\"scope\": county_scope, \"time_frame\": time}\n",
    "\n",
    "flu_avg = InfluenzaHosptializationAvgFacility(0).with_context(**context).evaluate()\n",
    "print(f\"Influenza hospitalization average:\\n{flu_avg[:, 0:3]}\\n\")\n",
    "\n",
    "flu_sum = InfluenzaHospitalizationSumFacility(0).with_context(**context).evaluate()\n",
    "print(f\"Influenza hospitalization sum:\\n{flu_sum[:, 0:3]}\")"
   ]
  },
  {
   "cell_type": "markdown",
   "metadata": {},
   "source": [
    "### **Weekly United States Hospitalization Metrics by Jurisdiction**\n",
    "Like the previous dataset, this dataset is used to fetch hospitalization data for COVID-19 and other respiratory illnesses. Unlike the previous dataset however, it includes metrics reported voluntarily after the end of the manditory reporting period and is limited to state granularity.\n",
    "\n",
    "- Supported attributes: covid_hospitalization_avg_state, covid_hospitalization_sum_state, influenza_hospitalization_avg_state, influenza_hospitalization_sum_state\n",
    "- Available date range: 1/04/2020 to present. Data reported voluntary past 5/1/2024.\n",
    "- Granularity: state\n",
    "\n",
    "https://data.cdc.gov/Public-Health-Surveillance/Weekly-United-States-Hospitalization-Metrics-by-Ju/aemt-mg7g/about_data"
   ]
  },
  {
   "cell_type": "code",
   "execution_count": 4,
   "metadata": {},
   "outputs": [
    {
     "name": "stdout",
     "output_type": "stream",
     "text": [
      "COVID hospitalization average:\n",
      "[[('2020-12-19', 452.  ) ('2020-12-19', 199.43)]\n",
      " [('2020-12-26', 472.43) ('2020-12-26', 164.  )]\n",
      " [('2021-01-02', 495.  ) ('2021-01-02', 150.14)]\n",
      " [('2021-01-09', 567.14) ('2021-01-09', 136.29)]\n",
      " [('2021-01-16', 536.57) ('2021-01-16', 129.57)]]\n",
      "\n",
      "COVID hospitalization sum:\n",
      "[[('2020-12-19', 3164.) ('2020-12-19', 1396.)]\n",
      " [('2020-12-26', 3307.) ('2020-12-26', 1148.)]\n",
      " [('2021-01-02', 3465.) ('2021-01-02', 1051.)]\n",
      " [('2021-01-09', 3970.) ('2021-01-09',  954.)]\n",
      " [('2021-01-16', 3756.) ('2021-01-16',  907.)]]\n",
      "\n",
      "Influenza hospitalization average:\n",
      "[[('2020-12-19', 1.57) ('2020-12-19', 0.71)]\n",
      " [('2020-12-26', 1.14) ('2020-12-26', 0.71)]\n",
      " [('2021-01-02', 6.29) ('2021-01-02', 0.  )]\n",
      " [('2021-01-09', 1.43) ('2021-01-09', 0.  )]\n",
      " [('2021-01-16', 2.  ) ('2021-01-16', 0.57)]]\n",
      "\n",
      "Influenza hospitalization sum:\n",
      "[[('2020-12-19', 11.) ('2020-12-19',  5.)]\n",
      " [('2020-12-26',  8.) ('2020-12-26',  5.)]\n",
      " [('2021-01-02', 44.) ('2021-01-02',  0.)]\n",
      " [('2021-01-09', 10.) ('2021-01-09',  0.)]\n",
      " [('2021-01-16', 14.) ('2021-01-16',  4.)]]\n",
      "\n"
     ]
    }
   ],
   "source": [
    "from epymorph.adrio.cdc import (\n",
    "    CovidHospitalizationAvgState,\n",
    "    CovidHospitalizationSumState,\n",
    "    InfluenzaHospitalizationAvgState,\n",
    "    InfluenzaHospitalizationSumState,\n",
    ")\n",
    "\n",
    "\n",
    "# COVID\n",
    "\n",
    "time = TimeFrame.range(\"2020-12-19\", \"2021-01-16\")\n",
    "context = {\"scope\": state_scope, \"time_frame\": time}\n",
    "\n",
    "covid_avg = CovidHospitalizationAvgState().with_context(**context).evaluate()\n",
    "print(f\"COVID hospitalization average:\\n{covid_avg}\\n\")\n",
    "\n",
    "covid_sum = CovidHospitalizationSumState().with_context(**context).evaluate()\n",
    "print(f\"COVID hospitalization sum:\\n{covid_sum}\\n\")\n",
    "\n",
    "\n",
    "# Flu\n",
    "\n",
    "flu_avg = InfluenzaHospitalizationAvgState().with_context(**context).evaluate()\n",
    "flu_sum = InfluenzaHospitalizationSumState().with_context(**context).evaluate()\n",
    "\n",
    "print(f\"Influenza hospitalization average:\\n{flu_avg}\\n\")\n",
    "print(f\"Influenza hospitalization sum:\\n{flu_sum}\\n\")"
   ]
  },
  {
   "cell_type": "markdown",
   "metadata": {},
   "source": [
    "### **COVID-19 Vaccinations in the United States,County**\n",
    "This dataset is used to fetch cumulative COVID-19 vaccination data.\n",
    "\n",
    "- Supported attributes: full_covid_vaccinations, one_dose_covid_vaccinations, covid_booster_doses\n",
    "- Available date range: 12/13/2020 to 5/10/2024.\n",
    "- Granularity: county, state\n",
    "\n",
    "https://data.cdc.gov/Vaccinations/COVID-19-Vaccinations-in-the-United-States-County/8xkx-amqh/about_data"
   ]
  },
  {
   "cell_type": "code",
   "execution_count": 5,
   "metadata": {},
   "outputs": [
    {
     "name": "stdout",
     "output_type": "stream",
     "text": [
      "Full COVID vaccinations:\n",
      "[[('2021-12-13', 3982347.) ('2021-12-13', 3641750.)]\n",
      " [('2021-12-14', 3984751.) ('2021-12-14', 3647478.)]\n",
      " [('2021-12-15', 3991116.) ('2021-12-15', 3653514.)]\n",
      " [('2021-12-16', 3997264.) ('2021-12-16', 3658734.)]\n",
      " [('2021-12-17', 4002606.) ('2021-12-17', 3663387.)]\n",
      " [('2021-12-18', 4008088.) ('2021-12-18', 3666965.)]\n",
      " [('2021-12-19', 4013034.) ('2021-12-19', 3671380.)]]\n",
      "\n",
      "One dose COVID vaccinations:\n",
      "[[('2021-12-13', 4670074.) ('2021-12-13', 4003978.)]\n",
      " [('2021-12-14', 4672924.) ('2021-12-14', 4007551.)]\n",
      " [('2021-12-15', 4679809.) ('2021-12-15', 4012785.)]\n",
      " [('2021-12-16', 4687174.) ('2021-12-16', 4018114.)]\n",
      " [('2021-12-17', 4693615.) ('2021-12-17', 4023444.)]\n",
      " [('2021-12-18', 4701618.) ('2021-12-18', 4028479.)]\n",
      " [('2021-12-19', 4709211.) ('2021-12-19', 4033860.)]]\n",
      "\n",
      "COVID booster doses:\n",
      "[[('2021-12-13',       0.) ('2021-12-13',       0.)]\n",
      " [('2021-12-14',       0.) ('2021-12-14',       0.)]\n",
      " [('2021-12-15', 1007483.) ('2021-12-15', 1284522.)]\n",
      " [('2021-12-16', 1026272.) ('2021-12-16', 1306366.)]\n",
      " [('2021-12-17', 1041676.) ('2021-12-17', 1328128.)]\n",
      " [('2021-12-18', 1058811.) ('2021-12-18', 1346785.)]\n",
      " [('2021-12-19', 1079057.) ('2021-12-19', 1366925.)]]\n"
     ]
    }
   ],
   "source": [
    "from epymorph.adrio.cdc import (\n",
    "    CovidBoosterDoses,\n",
    "    FullCovidVaccinations,\n",
    "    OneDoseCovidVaccinations,\n",
    ")\n",
    "\n",
    "time = TimeFrame.range(\"2021-12-13\", \"2021-12-19\")\n",
    "context = {\"scope\": state_scope, \"time_frame\": time}\n",
    "\n",
    "full = FullCovidVaccinations().with_context(**context).evaluate()\n",
    "print(f\"Full COVID vaccinations:\\n{full}\\n\")\n",
    "\n",
    "one = OneDoseCovidVaccinations().with_context(**context).evaluate()\n",
    "print(f\"One dose COVID vaccinations:\\n{one}\\n\")\n",
    "\n",
    "booster = CovidBoosterDoses().with_context(**context).evaluate()\n",
    "print(f\"COVID booster doses:\\n{booster}\")"
   ]
  },
  {
   "cell_type": "markdown",
   "metadata": {},
   "source": [
    "### **AH COVID-19 Death Counts by County and Week, 2020-present**\n",
    "This dataset is used to fetch data on COVID-19 deaths.\n",
    "\n",
    "- Supported attributes: covid_deaths_county\n",
    "- Available date range: 1/4/2020 to 4/5/2024.\n",
    "- Granularity: county, state\n",
    "\n",
    "https://data.cdc.gov/NCHS/AH-COVID-19-Death-Counts-by-County-and-Week-2020-p/ite7-j2w7/about_data"
   ]
  },
  {
   "cell_type": "code",
   "execution_count": 6,
   "metadata": {},
   "outputs": [
    {
     "name": "stdout",
     "output_type": "stream",
     "text": [
      "COVID deaths:\n",
      "[[('2021-01-09', 102.33333333) ('2021-01-09',   3.6       )]\n",
      " [('2021-01-16', 137.14285714) ('2021-01-16',   2.65957447)]\n",
      " [('2021-01-23', 115.75      ) ('2021-01-23',   2.06382979)]\n",
      " [('2021-01-30',  76.5       ) ('2021-01-30',   1.84      )]\n",
      " [('2021-02-06',  79.25      ) ('2021-02-06',   1.31914894)]]\n",
      "\n"
     ]
    }
   ],
   "source": [
    "from epymorph.adrio.cdc import CovidDeathsCounty\n",
    "\n",
    "time = TimeFrame.range(\"2021-01-04\", \"2021-02-06\")\n",
    "context = {\"scope\": state_scope, \"time_frame\": time}\n",
    "\n",
    "deaths = CovidDeathsCounty().with_context(**context).evaluate()\n",
    "print(f\"COVID deaths:\\n{deaths}\\n\")"
   ]
  },
  {
   "cell_type": "markdown",
   "metadata": {},
   "source": [
    "### **Provisional COVID-19 Death Counts by Week Ending Date and State**\n",
    "This dataset is used to fetch data on COVID-19 and influenza deaths. It is continuously updated but only available for state granularity.\n",
    "\n",
    "- Supported attributes: covid_deaths_state, influenza_deaths\n",
    "- Available date range: 1/4/2020 to present.\n",
    "- Granularity: state\n",
    "\n",
    "https://data.cdc.gov/NCHS/Provisional-COVID-19-Death-Counts-by-Week-Ending-D/r8kw-7aab/about_data"
   ]
  },
  {
   "cell_type": "code",
   "execution_count": 7,
   "metadata": {},
   "outputs": [
    {
     "name": "stdout",
     "output_type": "stream",
     "text": [
      "COVID deaths:\n",
      "[[('2021-01-09',  942.) ('2021-01-09',  211.)]\n",
      " [('2021-01-16',  996.) ('2021-01-16',  165.)]\n",
      " [('2021-01-23',  959.) ('2021-01-23',  158.)]\n",
      " [('2021-01-30',  776.) ('2021-01-30',  141.)]\n",
      " [('2021-01-31', 4032.) ('2021-01-31',  754.)]]\n",
      "\n",
      "Influenza deaths:\n",
      "[[('2022-11-26', nan) ('2022-11-26', 10.)]\n",
      " [('2022-11-30', 27.) ('2022-11-30', 30.)]\n",
      " [('2022-12-03', 11.) ('2022-12-03', 13.)]\n",
      " [('2022-12-10', 18.) ('2022-12-10', 15.)]\n",
      " [('2022-12-17', nan) ('2022-12-17', 10.)]]\n"
     ]
    }
   ],
   "source": [
    "from epymorph.adrio.cdc import CovidDeathsState, InfluenzaDeathsState\n",
    "\n",
    "# COVID\n",
    "\n",
    "time = TimeFrame.range(\"2021-01-04\", \"2021-01-31\")\n",
    "context = {\"scope\": state_scope, \"time_frame\": time}\n",
    "\n",
    "covid_deaths = CovidDeathsState().with_context(**context).evaluate()\n",
    "print(f\"COVID deaths:\\n{covid_deaths}\\n\")\n",
    "\n",
    "\n",
    "# Flu\n",
    "\n",
    "time = TimeFrame.range(\"2022-11-26\", \"2022-12-17\")\n",
    "context = {\"scope\": state_scope, \"time_frame\": time}\n",
    "\n",
    "flu_deaths = InfluenzaDeathsState().with_context(**context).evaluate()\n",
    "print(f\"Influenza deaths:\\n{flu_deaths}\")"
   ]
  }
 ],
 "metadata": {
  "kernelspec": {
   "display_name": ".venv",
   "language": "python",
   "name": "python3"
  },
  "language_info": {
   "codemirror_mode": {
    "name": "ipython",
    "version": 3
   },
   "file_extension": ".py",
   "mimetype": "text/x-python",
   "name": "python",
   "nbconvert_exporter": "python",
   "pygments_lexer": "ipython3",
   "version": "3.11.11"
  }
 },
 "nbformat": 4,
 "nbformat_minor": 2
}
