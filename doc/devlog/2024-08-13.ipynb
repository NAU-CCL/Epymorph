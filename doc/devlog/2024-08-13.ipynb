{
 "cells": [
  {
   "cell_type": "markdown",
   "metadata": {},
   "source": [
    "# devlog 2024-08-13\n",
    "\n",
    "Testing the `@adrio_cache` method for adding cache behavior to ADRIOs."
   ]
  },
  {
   "cell_type": "code",
   "execution_count": 1,
   "metadata": {},
   "outputs": [],
   "source": [
    "import numpy as np\n",
    "from numpy.typing import NDArray\n",
    "\n",
    "from epymorph import *\n",
    "from epymorph.adrio.adrio import Adrio, adrio_cache\n",
    "from epymorph.geography.us_census import StateScope\n",
    "from epymorph.simulator.data import evaluate_param"
   ]
  },
  {
   "cell_type": "markdown",
   "metadata": {},
   "source": [
    "## Test 1:\n",
    "\n",
    "A non-caching ADRIO will be evaluated every time."
   ]
  },
  {
   "cell_type": "code",
   "execution_count": 2,
   "metadata": {},
   "outputs": [
    {
     "name": "stdout",
     "output_type": "stream",
     "text": [
      "We should see '!!! calculating cosine !!!' three times...\n",
      "!!! calculating cosine !!!\n",
      "!!! calculating cosine !!!\n",
      "!!! calculating cosine !!!\n"
     ]
    }
   ],
   "source": [
    "class Cosine(Adrio[np.float64]):\n",
    "    \"\"\"Trivial ADRIO -- calculate a cosine curve.\"\"\"\n",
    "\n",
    "    requirements = [AttributeDef(\"gamma\", float, Shapes.S)]\n",
    "\n",
    "    def evaluate(self) -> NDArray[np.float64]:\n",
    "        print(\"!!! calculating cosine !!!\")\n",
    "        T = self.dim.days\n",
    "        t = np.arange(0, T)\n",
    "        gamma = self.data(\"gamma\")\n",
    "        return gamma * np.cos(2 * np.pi * t / T)\n",
    "\n",
    "\n",
    "rume1 = SingleStrataRume.build(\n",
    "    ipm_library[\"sirs\"](),\n",
    "    mm_library[\"no\"](),\n",
    "    init.NoInfection(),\n",
    "    StateScope.in_states([\"04\"]),\n",
    "    TimeFrame.of(\"2020-01-01\", 20),\n",
    "    {\n",
    "        \"population\": 100,\n",
    "        \"beta\": Cosine(),\n",
    "        \"gamma\": 2.0,\n",
    "        \"xi\": 1 / 10,\n",
    "    },\n",
    ")\n",
    "\n",
    "print(\"We should see '!!! calculating cosine !!!' three times...\")\n",
    "sim = BasicSimulator(rume1)\n",
    "out = sim.run()\n",
    "out = sim.run()\n",
    "out = sim.run()"
   ]
  },
  {
   "cell_type": "markdown",
   "metadata": {},
   "source": [
    "## Test 2:\n",
    "\n",
    "A caching ADRIO will be re-evaluated if its requirements change."
   ]
  },
  {
   "cell_type": "code",
   "execution_count": 3,
   "metadata": {},
   "outputs": [
    {
     "name": "stdout",
     "output_type": "stream",
     "text": [
      "We should see '!!! calculating cosine !!!' only twice...\n",
      "!!! calculating cosine !!!\n",
      "!!! calculating cosine !!!\n"
     ]
    }
   ],
   "source": [
    "@adrio_cache\n",
    "class CachedCosine(Adrio[np.float64]):\n",
    "    \"\"\"Trivial ADRIO -- calculate a cosine curve.\"\"\"\n",
    "\n",
    "    requirements = [AttributeDef(\"gamma\", float, Shapes.S)]\n",
    "\n",
    "    def evaluate(self) -> NDArray[np.float64]:\n",
    "        print(\"!!! calculating cosine !!!\")\n",
    "        T = self.dim.days\n",
    "        t = np.arange(0, T)\n",
    "        gamma = self.data(\"gamma\")\n",
    "        return gamma * np.cos(2 * np.pi * t / T)\n",
    "\n",
    "\n",
    "rume2 = SingleStrataRume.build(\n",
    "    ipm_library[\"sirs\"](),\n",
    "    mm_library[\"no\"](),\n",
    "    init.NoInfection(),\n",
    "    StateScope.in_states([\"04\"]),\n",
    "    TimeFrame.of(\"2020-01-01\", 20),\n",
    "    {\n",
    "        \"population\": 100,\n",
    "        \"beta\": CachedCosine(),\n",
    "        \"gamma\": 2.0,\n",
    "        \"xi\": 1 / 10,\n",
    "    },\n",
    ")\n",
    "\n",
    "print(\"We should see '!!! calculating cosine !!!' only twice...\")\n",
    "sim = BasicSimulator(rume2)\n",
    "out = sim.run()\n",
    "out = sim.run()\n",
    "out = sim.run()\n",
    "out = sim.run({\"gamma\": 22.0})"
   ]
  },
  {
   "cell_type": "markdown",
   "metadata": {},
   "source": [
    "## Test 3:\n",
    "\n",
    "If the scope or any SimDimension changes, the value should recalculate. (This is kind of an odd use-case, to share ADRIOs between RUMEs, but I wouldn't want this to cause problems if the user did it.)"
   ]
  },
  {
   "cell_type": "code",
   "execution_count": 4,
   "metadata": {},
   "outputs": [
    {
     "name": "stdout",
     "output_type": "stream",
     "text": [
      "should only see '!!! calculating cosine !!!' once here...\n",
      "!!! calculating cosine !!!\n",
      "\n",
      "and then we should see it three more times...\n",
      "!!! calculating cosine !!!\n",
      "!!! calculating cosine !!!\n",
      "!!! calculating cosine !!!\n"
     ]
    }
   ],
   "source": [
    "@adrio_cache\n",
    "class CachedCosine2(Adrio[np.float64]):\n",
    "    \"\"\"Trivial ADRIO -- calculate a cosine curve.\"\"\"\n",
    "\n",
    "    def evaluate(self) -> NDArray[np.float64]:\n",
    "        print(\"!!! calculating cosine !!!\")\n",
    "        T = self.dim.days\n",
    "        t = np.arange(0, T)\n",
    "        return 2.0 * np.cos(2 * np.pi * t / T)\n",
    "\n",
    "\n",
    "cosine = CachedCosine2()\n",
    "\n",
    "# Base RUME\n",
    "rume3 = SingleStrataRume.build(\n",
    "    ipm_library[\"sirs\"](),\n",
    "    mm_library[\"no\"](),\n",
    "    init.NoInfection(),\n",
    "    StateScope.in_states([\"04\"]),\n",
    "    TimeFrame.of(\"2020-01-01\", 20),\n",
    "    {\n",
    "        \"population\": 100,\n",
    "        \"beta\": cosine,\n",
    "        \"gamma\": 2.0,\n",
    "        \"xi\": 1 / 10,\n",
    "    },\n",
    ")\n",
    "\n",
    "# Nothing changed...\n",
    "rume3b = SingleStrataRume.build(\n",
    "    ipm_library[\"sirs\"](),\n",
    "    mm_library[\"no\"](),\n",
    "    init.NoInfection(),\n",
    "    StateScope.in_states([\"04\"]),\n",
    "    TimeFrame.of(\"2020-01-01\", 20),\n",
    "    {\n",
    "        \"population\": 100,\n",
    "        \"beta\": cosine,\n",
    "        \"gamma\": 2.0,\n",
    "        \"xi\": 1 / 10,\n",
    "    },\n",
    ")\n",
    "\n",
    "# Change scope\n",
    "rume4 = SingleStrataRume.build(\n",
    "    ipm_library[\"sirs\"](),\n",
    "    mm_library[\"no\"](),\n",
    "    init.NoInfection(),\n",
    "    StateScope.in_states([\"35\"]),\n",
    "    TimeFrame.of(\"2020-01-01\", 20),\n",
    "    {\n",
    "        \"population\": 100,\n",
    "        \"beta\": cosine,\n",
    "        \"gamma\": 2.0,\n",
    "        \"xi\": 1 / 10,\n",
    "    },\n",
    ")\n",
    "\n",
    "# Change start date\n",
    "rume5 = SingleStrataRume.build(\n",
    "    ipm_library[\"sirs\"](),\n",
    "    mm_library[\"no\"](),\n",
    "    init.NoInfection(),\n",
    "    StateScope.in_states([\"04\"]),\n",
    "    TimeFrame.of(\"2019-01-01\", 20),\n",
    "    {\n",
    "        \"population\": 100,\n",
    "        \"beta\": cosine,\n",
    "        \"gamma\": 2.0,\n",
    "        \"xi\": 1 / 10,\n",
    "    },\n",
    ")\n",
    "\n",
    "# Change duration\n",
    "rume6 = SingleStrataRume.build(\n",
    "    ipm_library[\"sirs\"](),\n",
    "    mm_library[\"no\"](),\n",
    "    init.NoInfection(),\n",
    "    StateScope.in_states([\"04\"]),\n",
    "    TimeFrame.of(\"2020-01-01\", 99),\n",
    "    {\n",
    "        \"population\": 100,\n",
    "        \"beta\": cosine,\n",
    "        \"gamma\": 2.0,\n",
    "        \"xi\": 1 / 10,\n",
    "    },\n",
    ")\n",
    "\n",
    "print(\"should only see '!!! calculating cosine !!!' once here...\")\n",
    "res1 = evaluate_param(rume3, \"beta\")\n",
    "res1 = evaluate_param(rume3, \"beta\")\n",
    "res1 = evaluate_param(rume3, \"beta\")\n",
    "res1 = evaluate_param(rume3b, \"beta\")\n",
    "print(\"\\nand then we should see it three more times...\")\n",
    "res1 = evaluate_param(rume4, \"beta\")\n",
    "res1 = evaluate_param(rume5, \"beta\")\n",
    "res1 = evaluate_param(rume6, \"beta\")"
   ]
  }
 ],
 "metadata": {
  "kernelspec": {
   "display_name": ".venv",
   "language": "python",
   "name": "python3"
  },
  "language_info": {
   "codemirror_mode": {
    "name": "ipython",
    "version": 3
   },
   "file_extension": ".py",
   "mimetype": "text/x-python",
   "name": "python",
   "nbconvert_exporter": "python",
   "pygments_lexer": "ipython3",
   "version": "3.11.9"
  }
 },
 "nbformat": 4,
 "nbformat_minor": 2
}
