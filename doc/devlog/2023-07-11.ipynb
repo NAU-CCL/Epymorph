{
 "cells": [
  {
   "cell_type": "markdown",
   "metadata": {},
   "source": [
    "# epymorph dev log 2023-07-11\n",
    "\n",
    "Demonstration of the Initializer prototype quickly hacked into place for Alex's SDH IPM.\n",
    "\n",
    "(Maybe this is a good candidate for the general initialization system?)\n",
    "\n",
    "## Initializers\n",
    "\n",
    "Looking ahead: know that we will have to construct the Simulation ourselves; the `run` command isn't capable of using Initializers yet.\n",
    "\n",
    "First, construct the SDH builder. It starts with the `DefaultInitializer` which initializes compartments like the run command does: taking params to seed an infection of a certain size in a single location (by index)."
   ]
  },
  {
   "cell_type": "code",
   "execution_count": 5,
   "metadata": {},
   "outputs": [
    {
     "data": {
      "text/plain": [
       "'DefaultInitializer'"
      ]
     },
     "execution_count": 5,
     "metadata": {},
     "output_type": "execute_result"
    }
   ],
   "source": [
    "from epymorph.data.ipm.sdh import sirhBuilder as SdhBuilder\n",
    "\n",
    "# Constructing the SDH builder.\n",
    "sdh_builder = SdhBuilder()\n",
    "\n",
    "sdh_builder.initializer.__class__.__name__"
   ]
  },
  {
   "cell_type": "markdown",
   "metadata": {},
   "source": [
    "But we can override the initializer by providing an alternative `Initializer` instance. There is a small suite of implementations already, but you can always extend `Initializer` yourself to implement custom logic.\n",
    "\n",
    "NOTE: Initializer constructor arguments can be given as param values instead. (But the constructor value, if given, has priority.)"
   ]
  },
  {
   "cell_type": "code",
   "execution_count": 6,
   "metadata": {},
   "outputs": [
    {
     "data": {
      "text/plain": [
       "<epymorph.data.ipm.initializer.TopLocsInitializer at 0x7f19c4180490>"
      ]
     },
     "execution_count": 6,
     "metadata": {},
     "output_type": "execute_result"
    }
   ],
   "source": [
    "from epymorph.data.ipm.initializer import BottomLocsInitializer, IndexedLocsInitializer, LabeledLocsInitializer, RandomLocsInitializer, TopLocsInitializer\n",
    "\n",
    "# Infect 10,000 people in 10 randomly chosen locations.\n",
    "RandomLocsInitializer(\n",
    "    infection_seed_size=10_000,\n",
    "    infection_locations=10\n",
    ")\n",
    "\n",
    "# Infect 10,000 people in these 4 location by index.\n",
    "IndexedLocsInitializer(\n",
    "    infection_seed_size=10_000,\n",
    "    infection_locations=[46, 104, 154, 2445]\n",
    ")\n",
    "\n",
    "# Infect 10,000 people in these 4 locations by label.\n",
    "LabeledLocsInitializer(\n",
    "    infection_seed_size=10_000,\n",
    "    infection_locations=['040130506101', '040130610161', '040130405211', '040138160001']\n",
    ")\n",
    "\n",
    "# Infect 10,000 people in the 10 locations with the least median age\n",
    "BottomLocsInitializer(\n",
    "    infection_seed_size=10_000,\n",
    "    infection_locations=10,\n",
    "    infection_attribute='median_age'\n",
    ")\n",
    "\n",
    "# Infect 10,000 people in the 10 locations with the highest population\n",
    "TopLocsInitializer(\n",
    "    infection_seed_size=10_000,\n",
    "    infection_locations=10,\n",
    "    infection_attribute='population'\n",
    ")\n"
   ]
  },
  {
   "cell_type": "markdown",
   "metadata": {},
   "source": [
    "## Running a sim\n",
    "\n",
    "Now that we've seen examples of the available initializers, let's put together a working simulation:"
   ]
  },
  {
   "cell_type": "code",
   "execution_count": 7,
   "metadata": {},
   "outputs": [
    {
     "name": "stdout",
     "output_type": "stream",
     "text": [
      "Compiled predef in 225.598 ms\n",
      "Selected 10 locations by geo[population]:\n",
      "   labels: ['040132168472' '040136103001' '040136109002' '040134226461'\n",
      " '040130822031' '040130506101' '040138160001' '040138152001'\n",
      " '040130405211' '040130610161']\n",
      "  indices: [1389 2017 2037 1969  383  104 2445 2427   46  154]\n",
      "   values: [6018 6235 6606 6867 7419 7808 9708 7788 8898 7929]\n"
     ]
    },
    {
     "data": {
      "text/plain": [
       "array([[1791,    0,    0,    0],\n",
       "       [2007,    0,    0,    0],\n",
       "       [1264,    0,    0,    0],\n",
       "       [1139,    0,    0,    0],\n",
       "       [1487,    0,    0,    0],\n",
       "       [2501,    0,    0,    0],\n",
       "       [2051,    0,    0,    0],\n",
       "       [1356,    0,    0,    0],\n",
       "       [1838,    0,    0,    0],\n",
       "       [ 647,    0,    0,    0]])"
      ]
     },
     "execution_count": 7,
     "metadata": {},
     "output_type": "execute_result"
    }
   ],
   "source": [
    "from datetime import date\n",
    "from epymorph.simulation import Simulation\n",
    "from epymorph.data import geo_library, mm_library\n",
    "from epymorph.data.ipm.initializer import TopLocsInitializer\n",
    "\n",
    "sdh_builder = SdhBuilder()\n",
    "sdh_builder.initializer = TopLocsInitializer(\n",
    "    infection_seed_size=10_000,\n",
    "    infection_locations=10,\n",
    "    infection_attribute='population'\n",
    ")\n",
    "\n",
    "sim = Simulation(\n",
    "    geo=geo_library['maricopa_cbg_2019'](),\n",
    "    ipm_builder=sdh_builder,\n",
    "    mvm_builder=mm_library['centroids']()\n",
    ")\n",
    "\n",
    "out = sim.run(\n",
    "    param={\n",
    "        'alpha': [0.1, 0.3, 0.2],\n",
    "        'theta': 0.1,\n",
    "        'gamma': 0.1000022,\n",
    "        'phi': 40,\n",
    "        'move_control': 0.9,\n",
    "        'infection_duration': 4.0,\n",
    "        'immunity_duration': 90.0,\n",
    "        'hospitalization_duration': 14.0,\n",
    "    },\n",
    "    start_date=date(2019, 1, 1),\n",
    "    duration_days=1\n",
    ")\n",
    "\n",
    "# This is not very interesting output, but you get the idea.\n",
    "out.prevalence[0, 0:10]"
   ]
  },
  {
   "cell_type": "markdown",
   "metadata": {},
   "source": [
    "And here's a version passing args via params, just to see what that looks like."
   ]
  },
  {
   "cell_type": "code",
   "execution_count": 8,
   "metadata": {},
   "outputs": [
    {
     "name": "stdout",
     "output_type": "stream",
     "text": [
      "Compiled predef in 211.713 ms\n",
      "Selected 10 locations by geo[population]:\n",
      "   labels: ['040132168472' '040136103001' '040136109002' '040134226461'\n",
      " '040130822031' '040130506101' '040138160001' '040138152001'\n",
      " '040130405211' '040130610161']\n",
      "  indices: [1389 2017 2037 1969  383  104 2445 2427   46  154]\n",
      "   values: [6018 6235 6606 6867 7419 7808 9708 7788 8898 7929]\n"
     ]
    },
    {
     "data": {
      "text/plain": [
       "array([[1791,    0,    0,    0],\n",
       "       [2007,    0,    0,    0],\n",
       "       [1264,    0,    0,    0],\n",
       "       [1139,    0,    0,    0],\n",
       "       [1487,    0,    0,    0],\n",
       "       [2501,    0,    0,    0],\n",
       "       [2051,    0,    0,    0],\n",
       "       [1356,    0,    0,    0],\n",
       "       [1838,    0,    0,    0],\n",
       "       [ 647,    0,    0,    0]])"
      ]
     },
     "execution_count": 8,
     "metadata": {},
     "output_type": "execute_result"
    }
   ],
   "source": [
    "from datetime import date\n",
    "from epymorph.simulation import Simulation\n",
    "from epymorph.data import geo_library, mm_library\n",
    "from epymorph.data.ipm.initializer import TopLocsInitializer\n",
    "\n",
    "sdh_builder = SdhBuilder()\n",
    "sdh_builder.initializer = TopLocsInitializer()\n",
    "\n",
    "sim = Simulation(\n",
    "    geo=geo_library['maricopa_cbg_2019'](),\n",
    "    ipm_builder=sdh_builder,\n",
    "    mvm_builder=mm_library['centroids']()\n",
    ")\n",
    "\n",
    "out = sim.run(\n",
    "    param={\n",
    "        'alpha': [0.1, 0.3, 0.2],\n",
    "        'theta': 0.1,\n",
    "        'gamma': 0.1000022,\n",
    "        'phi': 40,\n",
    "        'move_control': 0.9,\n",
    "        'infection_duration': 4.0,\n",
    "        'immunity_duration': 90.0,\n",
    "        'hospitalization_duration': 14.0,\n",
    "        # Here are my Initializer args, same name as in the constructor.\n",
    "        'infection_seed_size': 10_000,\n",
    "        'infection_locations': 10,\n",
    "        'infection_attribute': 'population'\n",
    "    },\n",
    "    start_date=date(2019, 1, 1),\n",
    "    duration_days=1\n",
    ")\n",
    "\n",
    "# This is not very interesting output, but you get the idea.\n",
    "out.prevalence[0, 0:10]"
   ]
  }
 ],
 "metadata": {
  "kernelspec": {
   "display_name": ".venv",
   "language": "python",
   "name": "python3"
  },
  "language_info": {
   "codemirror_mode": {
    "name": "ipython",
    "version": 3
   },
   "file_extension": ".py",
   "mimetype": "text/x-python",
   "name": "python",
   "nbconvert_exporter": "python",
   "pygments_lexer": "ipython3",
   "version": "3.11.0"
  },
  "orig_nbformat": 4
 },
 "nbformat": 4,
 "nbformat_minor": 2
}
