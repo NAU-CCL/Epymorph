{
 "cells": [
  {
   "cell_type": "markdown",
   "metadata": {},
   "source": [
    "# devlog 2024/04/05 IPM Error Handling\n",
    "_Author: Izaac Molina and Tyler Coles_\n",
    "\n",
    "Details additional exceptions implemented to catch common IPM simulation errors"
   ]
  },
  {
   "cell_type": "markdown",
   "metadata": {},
   "source": [
    "# Error Handling\n",
    "\n",
    "There are (at least) two error cases we're interested in trapping --\n",
    "1. something causes an IPM expression to go to zero or a negative value and results in a poisson draw with a lambda <= 0, and\n",
    "2. something causes the population of a node to go to zero (when a divisor isn't \"protected\" by a construction like Max(1, ...)) causing a divide by zero.\n",
    "\n",
    "## Case 1:\n",
    "\n",
    "If we just provide a negative value to beta in a classic SIRS model, this causes the first error.\n",
    "\n",
    "To handle this, the exception type `IpmSimLesstThanZeroException` is used in `ipm_exec.py` to catch the less than zero error.\n"
   ]
  },
  {
   "cell_type": "code",
   "execution_count": 6,
   "metadata": {},
   "outputs": [],
   "source": [
    "import numpy as np\n",
    "\n",
    "from epymorph.compartment_model import (CompartmentModel, compartment,\n",
    "                                        create_model, create_symbols, edge,\n",
    "                                        param)\n",
    "from epymorph.data_shape import Shapes\n",
    "from epymorph.params import ParamValue\n",
    "\n",
    "\n",
    "def load_ipm() -> CompartmentModel:\n",
    "    \"\"\"Load the 'sirs' IPM.\"\"\"\n",
    "    symbols = create_symbols(\n",
    "        compartments=[\n",
    "            compartment('S'),\n",
    "            compartment('I'),\n",
    "            compartment('R'),\n",
    "        ],\n",
    "        attributes=[\n",
    "            param('beta', shape=Shapes.TxN),  # infectivity\n",
    "            param('gamma', shape=Shapes.TxN),  # progression from infected to recovered\n",
    "            param('xi', shape=Shapes.TxN)  # progression from recovered to susceptible\n",
    "        ])\n",
    "\n",
    "    [S, I, R] = symbols.compartment_symbols\n",
    "    [β, γ, ξ] = symbols.attribute_symbols\n",
    "\n",
    "    # LOOK!\n",
    "    # N is NOT protected by Max(1, ...) here\n",
    "    # This isn't necessary for Case 1, but is necessary for Case 2.\n",
    "    N = S + I + R\n",
    "\n",
    "    return create_model(\n",
    "        symbols=symbols,\n",
    "        transitions=[\n",
    "            edge(S, I, rate=β * S * I / N),\n",
    "            edge(I, R, rate=γ * I),\n",
    "            edge(R, S, rate=ξ * R)\n",
    "        ])"
   ]
  },
  {
   "cell_type": "code",
   "execution_count": 7,
   "metadata": {},
   "outputs": [
    {
     "name": "stdout",
     "output_type": "stream",
     "text": [
      "Running simulation (StandardSimulation):\n",
      "• 2015-01-01 to 2015-05-31 (150 days)\n",
      "• 6 geo nodes\n",
      "|                    | 0% \r"
     ]
    },
    {
     "ename": "IpmSimLessThanZeroException",
     "evalue": "\nLess than zero rate detected. When providing or defining ipm parameters, ensure that\nthey will not result in a negative rate. Note: this can often happen unintentionally\nif a function is given as a parameter.\n\nShowing current ipm params\nbeta: 0.4\ngamma: -0.2\nxi: 0.01\n",
     "output_type": "error",
     "traceback": [
      "\u001b[1;31m---------------------------------------------------------------------------\u001b[0m",
      "\u001b[1;31mIpmSimLessThanZeroException\u001b[0m               Traceback (most recent call last)",
      "Cell \u001b[1;32mIn[7], line 24\u001b[0m\n\u001b[0;32m      8\u001b[0m sim \u001b[38;5;241m=\u001b[39m StandardSimulation(\n\u001b[0;32m      9\u001b[0m     geo\u001b[38;5;241m=\u001b[39mpei_geo,\n\u001b[0;32m     10\u001b[0m     ipm\u001b[38;5;241m=\u001b[39mload_ipm(),\n\u001b[1;32m   (...)\u001b[0m\n\u001b[0;32m     20\u001b[0m     rng\u001b[38;5;241m=\u001b[39mdefault_rng(\u001b[38;5;241m1\u001b[39m)\n\u001b[0;32m     21\u001b[0m )\n\u001b[0;32m     23\u001b[0m \u001b[38;5;28;01mwith\u001b[39;00m sim_messaging(sim):\n\u001b[1;32m---> 24\u001b[0m     out \u001b[38;5;241m=\u001b[39m \u001b[43msim\u001b[49m\u001b[38;5;241;43m.\u001b[39;49m\u001b[43mrun\u001b[49m\u001b[43m(\u001b[49m\u001b[43m)\u001b[49m\n",
      "File \u001b[1;32mc:\\Users\\izaac\\Documents\\EpiMoRPH\\Epymorph\\epymorph\\engine\\standard_sim.py:180\u001b[0m, in \u001b[0;36mStandardSimulation.run\u001b[1;34m(self)\u001b[0m\n\u001b[0;32m    178\u001b[0m \u001b[38;5;66;03m# Then do IPM\u001b[39;00m\n\u001b[0;32m    179\u001b[0m \u001b[38;5;28;01mwith\u001b[39;00m error_gate(\u001b[38;5;124m\"\u001b[39m\u001b[38;5;124mexecuting the IPM\u001b[39m\u001b[38;5;124m\"\u001b[39m, IpmSimException, AttributeException):\n\u001b[1;32m--> 180\u001b[0m     tick_events, tick_prevalence \u001b[38;5;241m=\u001b[39m \u001b[43mipm_exec\u001b[49m\u001b[38;5;241;43m.\u001b[39;49m\u001b[43mapply\u001b[49m\u001b[43m(\u001b[49m\u001b[43mworld\u001b[49m\u001b[43m,\u001b[49m\u001b[43m \u001b[49m\u001b[43mtick\u001b[49m\u001b[43m)\u001b[49m\n\u001b[0;32m    181\u001b[0m     out\u001b[38;5;241m.\u001b[39mincidence[tick\u001b[38;5;241m.\u001b[39mindex] \u001b[38;5;241m=\u001b[39m tick_events\n\u001b[0;32m    182\u001b[0m     out\u001b[38;5;241m.\u001b[39mprevalence[tick\u001b[38;5;241m.\u001b[39mindex] \u001b[38;5;241m=\u001b[39m tick_prevalence\n",
      "File \u001b[1;32mc:\\Users\\izaac\\Documents\\EpiMoRPH\\Epymorph\\epymorph\\engine\\ipm_exec.py:141\u001b[0m, in \u001b[0;36mStandardIpmExecutor.apply\u001b[1;34m(self, world, tick)\u001b[0m\n\u001b[0;32m    138\u001b[0m cohorts \u001b[38;5;241m=\u001b[39m world\u001b[38;5;241m.\u001b[39mget_cohort_array(node)\n\u001b[0;32m    139\u001b[0m effective \u001b[38;5;241m=\u001b[39m cohorts\u001b[38;5;241m.\u001b[39msum(axis\u001b[38;5;241m=\u001b[39m\u001b[38;5;241m0\u001b[39m, dtype\u001b[38;5;241m=\u001b[39mSimDType)\n\u001b[1;32m--> 141\u001b[0m occurrences \u001b[38;5;241m=\u001b[39m \u001b[38;5;28;43mself\u001b[39;49m\u001b[38;5;241;43m.\u001b[39;49m\u001b[43m_events\u001b[49m\u001b[43m(\u001b[49m\u001b[43mnode\u001b[49m\u001b[43m,\u001b[49m\u001b[43m \u001b[49m\u001b[43mtick\u001b[49m\u001b[43m,\u001b[49m\u001b[43m \u001b[49m\u001b[43meffective\u001b[49m\u001b[43m)\u001b[49m\n\u001b[0;32m    142\u001b[0m cohort_deltas \u001b[38;5;241m=\u001b[39m \u001b[38;5;28mself\u001b[39m\u001b[38;5;241m.\u001b[39m_distribute(cohorts, occurrences)\n\u001b[0;32m    143\u001b[0m world\u001b[38;5;241m.\u001b[39mapply_cohort_delta(node, cohort_deltas)\n",
      "File \u001b[1;32mc:\\Users\\izaac\\Documents\\EpiMoRPH\\Epymorph\\epymorph\\engine\\ipm_exec.py:165\u001b[0m, in \u001b[0;36mStandardIpmExecutor._events\u001b[1;34m(self, node, tick, effective_pop)\u001b[0m\n\u001b[0;32m    163\u001b[0m \u001b[38;5;28;01mcase\u001b[39;00m _IndependentTrx(rate_lambda):\n\u001b[0;32m    164\u001b[0m     rate \u001b[38;5;241m=\u001b[39m rate_lambda(rate_args)\n\u001b[1;32m--> 165\u001b[0m     \u001b[38;5;28;43mself\u001b[39;49m\u001b[38;5;241;43m.\u001b[39;49m\u001b[43m_check_rate\u001b[49m\u001b[43m(\u001b[49m\u001b[43mrate\u001b[49m\u001b[43m,\u001b[49m\u001b[43m \u001b[49m\u001b[43mrate_args\u001b[49m\u001b[43m[\u001b[49m\u001b[38;5;28;43mlen\u001b[39;49m\u001b[43m(\u001b[49m\u001b[43meffective_pop\u001b[49m\u001b[43m)\u001b[49m\u001b[43m:\u001b[49m\u001b[43m]\u001b[49m\u001b[43m)\u001b[49m\n\u001b[0;32m    166\u001b[0m     occur[index] \u001b[38;5;241m=\u001b[39m \u001b[38;5;28mself\u001b[39m\u001b[38;5;241m.\u001b[39m_ctx\u001b[38;5;241m.\u001b[39mrng\u001b[38;5;241m.\u001b[39mpoisson(rate \u001b[38;5;241m*\u001b[39m tick\u001b[38;5;241m.\u001b[39mtau)\n\u001b[0;32m    167\u001b[0m \u001b[38;5;28;01mcase\u001b[39;00m _ForkedTrx(size, rate_lambda, prob_lambda):\n",
      "File \u001b[1;32mc:\\Users\\izaac\\Documents\\EpiMoRPH\\Epymorph\\epymorph\\engine\\ipm_exec.py:211\u001b[0m, in \u001b[0;36mStandardIpmExecutor._check_rate\u001b[1;34m(self, rate, rate_attrs)\u001b[0m\n\u001b[0;32m    209\u001b[0m     \u001b[38;5;28;01mfor\u001b[39;00m attr_index \u001b[38;5;129;01min\u001b[39;00m \u001b[38;5;28mrange\u001b[39m(\u001b[38;5;28mlen\u001b[39m(attrs)):\n\u001b[0;32m    210\u001b[0m         attr_dict[attrs[attr_index]\u001b[38;5;241m.\u001b[39mname] \u001b[38;5;241m=\u001b[39m rate_attrs[attr_index]\n\u001b[1;32m--> 211\u001b[0m     \u001b[38;5;28;01mraise\u001b[39;00m IpmSimLessThanZeroException((\u001b[38;5;124m\"\u001b[39m\u001b[38;5;124mipm params\u001b[39m\u001b[38;5;124m\"\u001b[39m, attr_dict))\n\u001b[0;32m    212\u001b[0m \u001b[38;5;28;01melif\u001b[39;00m np\u001b[38;5;241m.\u001b[39misnan(rate):\n\u001b[0;32m    213\u001b[0m     event_dict \u001b[38;5;241m=\u001b[39m {}\n",
      "\u001b[1;31mIpmSimLessThanZeroException\u001b[0m: \nLess than zero rate detected. When providing or defining ipm parameters, ensure that\nthey will not result in a negative rate. Note: this can often happen unintentionally\nif a function is given as a parameter.\n\nShowing current ipm params\nbeta: 0.4\ngamma: -0.2\nxi: 0.01\n"
     ]
    }
   ],
   "source": [
    "from functools import partial\n",
    "\n",
    "from epymorph import *\n",
    "from epymorph.initializer import single_location\n",
    "\n",
    "pei_geo = geo_library['pei']()\n",
    "\n",
    "sim = StandardSimulation(\n",
    "    geo=pei_geo,\n",
    "    ipm=load_ipm(),\n",
    "    mm=mm_library['no'](),\n",
    "    params={\n",
    "        'phi': 40.0,\n",
    "        'beta': 0.4,\n",
    "        'gamma': -1 / 5,  # NEGATIVE NUMBER! WATCH OUT!\n",
    "        'xi': 1 / 100,\n",
    "    },\n",
    "    time_frame=TimeFrame.of(\"2015-01-01\", 150),\n",
    "    initializer=partial(single_location, location=1, seed_size=5),\n",
    "    rng=default_rng(1)\n",
    ")\n",
    "\n",
    "with sim_messaging(sim):\n",
    "    out = sim.run()"
   ]
  },
  {
   "cell_type": "markdown",
   "metadata": {},
   "source": [
    "## Test using function as a parameter"
   ]
  },
  {
   "cell_type": "code",
   "execution_count": 3,
   "metadata": {},
   "outputs": [
    {
     "name": "stdout",
     "output_type": "stream",
     "text": [
      "Running simulation (StandardSimulation):\n",
      "• 2015-01-01 to 2015-05-31 (150 days)\n",
      "• 6 geo nodes\n",
      "|                    | 0% \r"
     ]
    },
    {
     "ename": "IpmSimLessThanZeroException",
     "evalue": "\nLess than zero rate detected. When providing or defining ipm parameters, ensure that\nthey will not result in a negative rate. Note: this can often happen unintentionally\nif a function is given as a parameter.\n\nShowing current ipm params\nbeta: -0.35\ngamma: 0.16666666666666666\nxi: 0.011111111111111112\n",
     "output_type": "error",
     "traceback": [
      "\u001b[1;31m---------------------------------------------------------------------------\u001b[0m",
      "\u001b[1;31mIpmSimLessThanZeroException\u001b[0m               Traceback (most recent call last)",
      "Cell \u001b[1;32mIn[3], line 35\u001b[0m\n\u001b[0;32m     31\u001b[0m     \u001b[38;5;28;01mreturn\u001b[39;00m x\n\u001b[0;32m     34\u001b[0m \u001b[38;5;66;03m# The function is our beta value!\u001b[39;00m\n\u001b[1;32m---> 35\u001b[0m \u001b[43mrun_and_plot\u001b[49m\u001b[43m(\u001b[49m\u001b[43mbeta_fn\u001b[49m\u001b[43m)\u001b[49m\n",
      "Cell \u001b[1;32mIn[3], line 20\u001b[0m, in \u001b[0;36mrun_and_plot\u001b[1;34m(beta)\u001b[0m\n\u001b[0;32m      2\u001b[0m sim \u001b[38;5;241m=\u001b[39m StandardSimulation(\n\u001b[0;32m      3\u001b[0m     ipm\u001b[38;5;241m=\u001b[39mipm_library[\u001b[38;5;124m'\u001b[39m\u001b[38;5;124msirs\u001b[39m\u001b[38;5;124m'\u001b[39m](),\n\u001b[0;32m      4\u001b[0m     mm\u001b[38;5;241m=\u001b[39mmm_library[\u001b[38;5;124m'\u001b[39m\u001b[38;5;124mpei\u001b[39m\u001b[38;5;124m'\u001b[39m](),\n\u001b[1;32m   (...)\u001b[0m\n\u001b[0;32m     16\u001b[0m     initializer\u001b[38;5;241m=\u001b[39mpartial(single_location, location\u001b[38;5;241m=\u001b[39m\u001b[38;5;241m0\u001b[39m, seed_size\u001b[38;5;241m=\u001b[39m\u001b[38;5;241m10_000\u001b[39m),\n\u001b[0;32m     17\u001b[0m )\n\u001b[0;32m     19\u001b[0m \u001b[38;5;28;01mwith\u001b[39;00m sim_messaging(sim):\n\u001b[1;32m---> 20\u001b[0m     \u001b[43msim\u001b[49m\u001b[38;5;241;43m.\u001b[39;49m\u001b[43mrun\u001b[49m\u001b[43m(\u001b[49m\u001b[43m)\u001b[49m\n",
      "File \u001b[1;32mc:\\Users\\izaac\\Documents\\EpiMoRPH\\Epymorph\\epymorph\\engine\\standard_sim.py:180\u001b[0m, in \u001b[0;36mStandardSimulation.run\u001b[1;34m(self)\u001b[0m\n\u001b[0;32m    178\u001b[0m \u001b[38;5;66;03m# Then do IPM\u001b[39;00m\n\u001b[0;32m    179\u001b[0m \u001b[38;5;28;01mwith\u001b[39;00m error_gate(\u001b[38;5;124m\"\u001b[39m\u001b[38;5;124mexecuting the IPM\u001b[39m\u001b[38;5;124m\"\u001b[39m, IpmSimException, AttributeException):\n\u001b[1;32m--> 180\u001b[0m     tick_events, tick_prevalence \u001b[38;5;241m=\u001b[39m \u001b[43mipm_exec\u001b[49m\u001b[38;5;241;43m.\u001b[39;49m\u001b[43mapply\u001b[49m\u001b[43m(\u001b[49m\u001b[43mworld\u001b[49m\u001b[43m,\u001b[49m\u001b[43m \u001b[49m\u001b[43mtick\u001b[49m\u001b[43m)\u001b[49m\n\u001b[0;32m    181\u001b[0m     out\u001b[38;5;241m.\u001b[39mincidence[tick\u001b[38;5;241m.\u001b[39mindex] \u001b[38;5;241m=\u001b[39m tick_events\n\u001b[0;32m    182\u001b[0m     out\u001b[38;5;241m.\u001b[39mprevalence[tick\u001b[38;5;241m.\u001b[39mindex] \u001b[38;5;241m=\u001b[39m tick_prevalence\n",
      "File \u001b[1;32mc:\\Users\\izaac\\Documents\\EpiMoRPH\\Epymorph\\epymorph\\engine\\ipm_exec.py:141\u001b[0m, in \u001b[0;36mStandardIpmExecutor.apply\u001b[1;34m(self, world, tick)\u001b[0m\n\u001b[0;32m    138\u001b[0m cohorts \u001b[38;5;241m=\u001b[39m world\u001b[38;5;241m.\u001b[39mget_cohort_array(node)\n\u001b[0;32m    139\u001b[0m effective \u001b[38;5;241m=\u001b[39m cohorts\u001b[38;5;241m.\u001b[39msum(axis\u001b[38;5;241m=\u001b[39m\u001b[38;5;241m0\u001b[39m, dtype\u001b[38;5;241m=\u001b[39mSimDType)\n\u001b[1;32m--> 141\u001b[0m occurrences \u001b[38;5;241m=\u001b[39m \u001b[38;5;28;43mself\u001b[39;49m\u001b[38;5;241;43m.\u001b[39;49m\u001b[43m_events\u001b[49m\u001b[43m(\u001b[49m\u001b[43mnode\u001b[49m\u001b[43m,\u001b[49m\u001b[43m \u001b[49m\u001b[43mtick\u001b[49m\u001b[43m,\u001b[49m\u001b[43m \u001b[49m\u001b[43meffective\u001b[49m\u001b[43m)\u001b[49m\n\u001b[0;32m    142\u001b[0m cohort_deltas \u001b[38;5;241m=\u001b[39m \u001b[38;5;28mself\u001b[39m\u001b[38;5;241m.\u001b[39m_distribute(cohorts, occurrences)\n\u001b[0;32m    143\u001b[0m world\u001b[38;5;241m.\u001b[39mapply_cohort_delta(node, cohort_deltas)\n",
      "File \u001b[1;32mc:\\Users\\izaac\\Documents\\EpiMoRPH\\Epymorph\\epymorph\\engine\\ipm_exec.py:165\u001b[0m, in \u001b[0;36mStandardIpmExecutor._events\u001b[1;34m(self, node, tick, effective_pop)\u001b[0m\n\u001b[0;32m    163\u001b[0m \u001b[38;5;28;01mcase\u001b[39;00m _IndependentTrx(rate_lambda):\n\u001b[0;32m    164\u001b[0m     rate \u001b[38;5;241m=\u001b[39m rate_lambda(rate_args)\n\u001b[1;32m--> 165\u001b[0m     \u001b[38;5;28;43mself\u001b[39;49m\u001b[38;5;241;43m.\u001b[39;49m\u001b[43m_check_rate\u001b[49m\u001b[43m(\u001b[49m\u001b[43mrate\u001b[49m\u001b[43m,\u001b[49m\u001b[43m \u001b[49m\u001b[43mrate_args\u001b[49m\u001b[43m[\u001b[49m\u001b[38;5;28;43mlen\u001b[39;49m\u001b[43m(\u001b[49m\u001b[43meffective_pop\u001b[49m\u001b[43m)\u001b[49m\u001b[43m:\u001b[49m\u001b[43m]\u001b[49m\u001b[43m)\u001b[49m\n\u001b[0;32m    166\u001b[0m     occur[index] \u001b[38;5;241m=\u001b[39m \u001b[38;5;28mself\u001b[39m\u001b[38;5;241m.\u001b[39m_ctx\u001b[38;5;241m.\u001b[39mrng\u001b[38;5;241m.\u001b[39mpoisson(rate \u001b[38;5;241m*\u001b[39m tick\u001b[38;5;241m.\u001b[39mtau)\n\u001b[0;32m    167\u001b[0m \u001b[38;5;28;01mcase\u001b[39;00m _ForkedTrx(size, rate_lambda, prob_lambda):\n",
      "File \u001b[1;32mc:\\Users\\izaac\\Documents\\EpiMoRPH\\Epymorph\\epymorph\\engine\\ipm_exec.py:211\u001b[0m, in \u001b[0;36mStandardIpmExecutor._check_rate\u001b[1;34m(self, rate, rate_attrs)\u001b[0m\n\u001b[0;32m    209\u001b[0m     \u001b[38;5;28;01mfor\u001b[39;00m attr_index \u001b[38;5;129;01min\u001b[39;00m \u001b[38;5;28mrange\u001b[39m(\u001b[38;5;28mlen\u001b[39m(attrs)):\n\u001b[0;32m    210\u001b[0m         attr_dict[attrs[attr_index]\u001b[38;5;241m.\u001b[39mname] \u001b[38;5;241m=\u001b[39m rate_attrs[attr_index]\n\u001b[1;32m--> 211\u001b[0m     \u001b[38;5;28;01mraise\u001b[39;00m IpmSimLessThanZeroException((\u001b[38;5;124m\"\u001b[39m\u001b[38;5;124mipm params\u001b[39m\u001b[38;5;124m\"\u001b[39m, attr_dict))\n\u001b[0;32m    212\u001b[0m \u001b[38;5;28;01melif\u001b[39;00m np\u001b[38;5;241m.\u001b[39misnan(rate):\n\u001b[0;32m    213\u001b[0m     event_dict \u001b[38;5;241m=\u001b[39m {}\n",
      "\u001b[1;31mIpmSimLessThanZeroException\u001b[0m: \nLess than zero rate detected. When providing or defining ipm parameters, ensure that\nthey will not result in a negative rate. Note: this can often happen unintentionally\nif a function is given as a parameter.\n\nShowing current ipm params\nbeta: -0.35\ngamma: 0.16666666666666666\nxi: 0.011111111111111112\n"
     ]
    }
   ],
   "source": [
    "def run_and_plot(beta: ParamValue) -> None:\n",
    "    sim = StandardSimulation(\n",
    "        ipm=ipm_library['sirs'](),\n",
    "        mm=mm_library['pei'](),\n",
    "        geo=geo_library['pei'](),\n",
    "        params={\n",
    "            # IPM params\n",
    "            'beta': beta,\n",
    "            'gamma': 1 / 6,\n",
    "            'xi': 1 / 90,\n",
    "            # MM params\n",
    "            'theta': 0.1,\n",
    "            'move_control': 0.9,\n",
    "        },\n",
    "        time_frame=TimeFrame.of(\"2015-01-01\", 150),\n",
    "        initializer=partial(single_location, location=0, seed_size=10_000),\n",
    "    )\n",
    "\n",
    "    with sim_messaging(sim):\n",
    "        sim.run()\n",
    "\n",
    "\n",
    "def beta_fn(t, n):\n",
    "    # NEGATIVE VALUES PRODUCED BY FUNCTION\n",
    "    x = -0.35 + -0.05 * np.sin(-2 * np.pi * (t / dim.days))\n",
    "    cutoff = 50 + (n * 3)\n",
    "    if t > cutoff:\n",
    "        pop = geo['population'][n]\n",
    "        cut = 0.3 if pop < 9_000_000 else 0.25\n",
    "        x -= cut\n",
    "    return x\n",
    "\n",
    "\n",
    "# The function is our beta value!\n",
    "run_and_plot(beta_fn)"
   ]
  },
  {
   "cell_type": "markdown",
   "metadata": {},
   "source": [
    "## Test with fork"
   ]
  },
  {
   "cell_type": "code",
   "execution_count": 8,
   "metadata": {},
   "outputs": [
    {
     "name": "stdout",
     "output_type": "stream",
     "text": [
      "Running simulation (StandardSimulation):\n",
      "• 2015-01-01 to 2015-05-31 (150 days)\n",
      "• 6 geo nodes\n",
      "|                    | 0% \r"
     ]
    },
    {
     "ename": "IpmSimLessThanZeroException",
     "evalue": "\nLess than zero rate detected. When providing or defining ipm parameters, ensure that\nthey will not result in a negative rate. Note: this can often happen unintentionally\nif a function is given as a parameter.\n\nShowing current ipm params\nbeta: 0.4\ngamma: -0.2\nxi: 0.011111111111111112\nhospitalization_prob: 0.05\nhospitalization_duration: 15.0\n",
     "output_type": "error",
     "traceback": [
      "\u001b[1;31m---------------------------------------------------------------------------\u001b[0m",
      "\u001b[1;31mIpmSimLessThanZeroException\u001b[0m               Traceback (most recent call last)",
      "Cell \u001b[1;32mIn[8], line 18\u001b[0m\n\u001b[0;32m      1\u001b[0m sim \u001b[38;5;241m=\u001b[39m StandardSimulation(\n\u001b[0;32m      2\u001b[0m     geo\u001b[38;5;241m=\u001b[39mpei_geo,\n\u001b[0;32m      3\u001b[0m     ipm\u001b[38;5;241m=\u001b[39mipm_library[\u001b[38;5;124m'\u001b[39m\u001b[38;5;124msirh\u001b[39m\u001b[38;5;124m'\u001b[39m](),  \u001b[38;5;66;03m# SIRH model has a fork\u001b[39;00m\n\u001b[1;32m   (...)\u001b[0m\n\u001b[0;32m     14\u001b[0m     rng\u001b[38;5;241m=\u001b[39mdefault_rng(\u001b[38;5;241m1\u001b[39m)\n\u001b[0;32m     15\u001b[0m )\n\u001b[0;32m     17\u001b[0m \u001b[38;5;28;01mwith\u001b[39;00m sim_messaging(sim):\n\u001b[1;32m---> 18\u001b[0m     out \u001b[38;5;241m=\u001b[39m \u001b[43msim\u001b[49m\u001b[38;5;241;43m.\u001b[39;49m\u001b[43mrun\u001b[49m\u001b[43m(\u001b[49m\u001b[43m)\u001b[49m\n",
      "File \u001b[1;32mc:\\Users\\izaac\\Documents\\EpiMoRPH\\Epymorph\\epymorph\\engine\\standard_sim.py:180\u001b[0m, in \u001b[0;36mStandardSimulation.run\u001b[1;34m(self)\u001b[0m\n\u001b[0;32m    178\u001b[0m \u001b[38;5;66;03m# Then do IPM\u001b[39;00m\n\u001b[0;32m    179\u001b[0m \u001b[38;5;28;01mwith\u001b[39;00m error_gate(\u001b[38;5;124m\"\u001b[39m\u001b[38;5;124mexecuting the IPM\u001b[39m\u001b[38;5;124m\"\u001b[39m, IpmSimException, AttributeException):\n\u001b[1;32m--> 180\u001b[0m     tick_events, tick_prevalence \u001b[38;5;241m=\u001b[39m \u001b[43mipm_exec\u001b[49m\u001b[38;5;241;43m.\u001b[39;49m\u001b[43mapply\u001b[49m\u001b[43m(\u001b[49m\u001b[43mworld\u001b[49m\u001b[43m,\u001b[49m\u001b[43m \u001b[49m\u001b[43mtick\u001b[49m\u001b[43m)\u001b[49m\n\u001b[0;32m    181\u001b[0m     out\u001b[38;5;241m.\u001b[39mincidence[tick\u001b[38;5;241m.\u001b[39mindex] \u001b[38;5;241m=\u001b[39m tick_events\n\u001b[0;32m    182\u001b[0m     out\u001b[38;5;241m.\u001b[39mprevalence[tick\u001b[38;5;241m.\u001b[39mindex] \u001b[38;5;241m=\u001b[39m tick_prevalence\n",
      "File \u001b[1;32mc:\\Users\\izaac\\Documents\\EpiMoRPH\\Epymorph\\epymorph\\engine\\ipm_exec.py:141\u001b[0m, in \u001b[0;36mStandardIpmExecutor.apply\u001b[1;34m(self, world, tick)\u001b[0m\n\u001b[0;32m    138\u001b[0m cohorts \u001b[38;5;241m=\u001b[39m world\u001b[38;5;241m.\u001b[39mget_cohort_array(node)\n\u001b[0;32m    139\u001b[0m effective \u001b[38;5;241m=\u001b[39m cohorts\u001b[38;5;241m.\u001b[39msum(axis\u001b[38;5;241m=\u001b[39m\u001b[38;5;241m0\u001b[39m, dtype\u001b[38;5;241m=\u001b[39mSimDType)\n\u001b[1;32m--> 141\u001b[0m occurrences \u001b[38;5;241m=\u001b[39m \u001b[38;5;28;43mself\u001b[39;49m\u001b[38;5;241;43m.\u001b[39;49m\u001b[43m_events\u001b[49m\u001b[43m(\u001b[49m\u001b[43mnode\u001b[49m\u001b[43m,\u001b[49m\u001b[43m \u001b[49m\u001b[43mtick\u001b[49m\u001b[43m,\u001b[49m\u001b[43m \u001b[49m\u001b[43meffective\u001b[49m\u001b[43m)\u001b[49m\n\u001b[0;32m    142\u001b[0m cohort_deltas \u001b[38;5;241m=\u001b[39m \u001b[38;5;28mself\u001b[39m\u001b[38;5;241m.\u001b[39m_distribute(cohorts, occurrences)\n\u001b[0;32m    143\u001b[0m world\u001b[38;5;241m.\u001b[39mapply_cohort_delta(node, cohort_deltas)\n",
      "File \u001b[1;32mc:\\Users\\izaac\\Documents\\EpiMoRPH\\Epymorph\\epymorph\\engine\\ipm_exec.py:169\u001b[0m, in \u001b[0;36mStandardIpmExecutor._events\u001b[1;34m(self, node, tick, effective_pop)\u001b[0m\n\u001b[0;32m    167\u001b[0m \u001b[38;5;28;01mcase\u001b[39;00m _ForkedTrx(size, rate_lambda, prob_lambda):\n\u001b[0;32m    168\u001b[0m     rate \u001b[38;5;241m=\u001b[39m rate_lambda(rate_args)\n\u001b[1;32m--> 169\u001b[0m     \u001b[38;5;28;43mself\u001b[39;49m\u001b[38;5;241;43m.\u001b[39;49m\u001b[43m_check_rate\u001b[49m\u001b[43m(\u001b[49m\u001b[43mrate\u001b[49m\u001b[43m,\u001b[49m\u001b[43m \u001b[49m\u001b[43mrate_args\u001b[49m\u001b[43m[\u001b[49m\u001b[38;5;28;43mlen\u001b[39;49m\u001b[43m(\u001b[49m\u001b[43meffective_pop\u001b[49m\u001b[43m)\u001b[49m\u001b[43m:\u001b[49m\u001b[43m]\u001b[49m\u001b[43m)\u001b[49m\n\u001b[0;32m    170\u001b[0m     base \u001b[38;5;241m=\u001b[39m \u001b[38;5;28mself\u001b[39m\u001b[38;5;241m.\u001b[39m_ctx\u001b[38;5;241m.\u001b[39mrng\u001b[38;5;241m.\u001b[39mpoisson(rate \u001b[38;5;241m*\u001b[39m tick\u001b[38;5;241m.\u001b[39mtau)\n\u001b[0;32m    171\u001b[0m     prob \u001b[38;5;241m=\u001b[39m prob_lambda(rate_args)\n",
      "File \u001b[1;32mc:\\Users\\izaac\\Documents\\EpiMoRPH\\Epymorph\\epymorph\\engine\\ipm_exec.py:211\u001b[0m, in \u001b[0;36mStandardIpmExecutor._check_rate\u001b[1;34m(self, rate, rate_attrs)\u001b[0m\n\u001b[0;32m    209\u001b[0m     \u001b[38;5;28;01mfor\u001b[39;00m attr_index \u001b[38;5;129;01min\u001b[39;00m \u001b[38;5;28mrange\u001b[39m(\u001b[38;5;28mlen\u001b[39m(attrs)):\n\u001b[0;32m    210\u001b[0m         attr_dict[attrs[attr_index]\u001b[38;5;241m.\u001b[39mname] \u001b[38;5;241m=\u001b[39m rate_attrs[attr_index]\n\u001b[1;32m--> 211\u001b[0m     \u001b[38;5;28;01mraise\u001b[39;00m IpmSimLessThanZeroException((\u001b[38;5;124m\"\u001b[39m\u001b[38;5;124mipm params\u001b[39m\u001b[38;5;124m\"\u001b[39m, attr_dict))\n\u001b[0;32m    212\u001b[0m \u001b[38;5;28;01melif\u001b[39;00m np\u001b[38;5;241m.\u001b[39misnan(rate):\n\u001b[0;32m    213\u001b[0m     event_dict \u001b[38;5;241m=\u001b[39m {}\n",
      "\u001b[1;31mIpmSimLessThanZeroException\u001b[0m: \nLess than zero rate detected. When providing or defining ipm parameters, ensure that\nthey will not result in a negative rate. Note: this can often happen unintentionally\nif a function is given as a parameter.\n\nShowing current ipm params\nbeta: 0.4\ngamma: -0.2\nxi: 0.011111111111111112\nhospitalization_prob: 0.05\nhospitalization_duration: 15.0\n"
     ]
    }
   ],
   "source": [
    "sim = StandardSimulation(\n",
    "    geo=pei_geo,\n",
    "    ipm=ipm_library['sirh'](),  # SIRH model has a fork\n",
    "    mm=mm_library['no'](),\n",
    "    params={\n",
    "        'beta': 0.4,\n",
    "        'gamma': -1 / 5,  # gamma is used in fork rates\n",
    "        'xi': 1 / 90,\n",
    "        'hospitalization_prob': 1 / 20,\n",
    "        'hospitalization_duration': 15\n",
    "    },\n",
    "    time_frame=TimeFrame.of(\"2015-01-01\", 150),\n",
    "    initializer=partial(single_location, location=1, seed_size=5),\n",
    "    rng=default_rng(1)\n",
    ")\n",
    "\n",
    "with sim_messaging(sim):\n",
    "    out = sim.run()"
   ]
  },
  {
   "cell_type": "markdown",
   "metadata": {},
   "source": [
    "# Case 2:\n",
    "\n",
    "If we construct our geo to force a population at a node to be zero, we get the second error. (Note: this can also happen if a movement model moves everyone out of a node, so it's not as easy to fix as checking the geo before-hand.)\n",
    "\n",
    "To handle this, the exception type `IpmSimNaNException` is used in `ipm_exec.py` to catch the divide by zero error, as it results in a NaN (not a number) rate."
   ]
  },
  {
   "cell_type": "code",
   "execution_count": 9,
   "metadata": {},
   "outputs": [
    {
     "name": "stdout",
     "output_type": "stream",
     "text": [
      "Running simulation (StandardSimulation):\n",
      "• 2015-01-01 to 2015-05-31 (150 days)\n",
      "• 3 geo nodes\n",
      "|                    | 0% \r"
     ]
    },
    {
     "name": "stderr",
     "output_type": "stream",
     "text": [
      "<lambdifygenerated-21>:3: RuntimeWarning: invalid value encountered in scalar divide\n",
      "  return I*S*beta/(I + R + S)\n"
     ]
    },
    {
     "ename": "IpmSimNaNException",
     "evalue": "\nNaN (not a number) rate detected. This is often the result of a divide by zero error.\nWhen constructing the IPM, ensure that no edge transitions can result in division by zero\nThis commonly occurs when defining an S->I edge that is (some rate / sum of the compartments)\nTo fix this, change the edge to define the S->I edge as (some rate / Max(1/sum of the the compartments))\nSee examples of this in the provided example ipm definitions in the data/ipms folder.\n\nShowing current events\nS->I: I*S*beta/(I + R + S)\nI->R: I*gamma\nR->S: R*xi\n",
     "output_type": "error",
     "traceback": [
      "\u001b[1;31m---------------------------------------------------------------------------\u001b[0m",
      "\u001b[1;31mIpmSimNaNException\u001b[0m                        Traceback (most recent call last)",
      "Cell \u001b[1;32mIn[9], line 41\u001b[0m\n\u001b[0;32m     25\u001b[0m sim \u001b[38;5;241m=\u001b[39m StandardSimulation(\n\u001b[0;32m     26\u001b[0m     geo\u001b[38;5;241m=\u001b[39mmy_geo,\n\u001b[0;32m     27\u001b[0m     ipm\u001b[38;5;241m=\u001b[39mload_ipm(),\n\u001b[1;32m   (...)\u001b[0m\n\u001b[0;32m     37\u001b[0m     rng\u001b[38;5;241m=\u001b[39mdefault_rng(\u001b[38;5;241m1\u001b[39m)\n\u001b[0;32m     38\u001b[0m )\n\u001b[0;32m     40\u001b[0m \u001b[38;5;28;01mwith\u001b[39;00m sim_messaging(sim):\n\u001b[1;32m---> 41\u001b[0m     out \u001b[38;5;241m=\u001b[39m \u001b[43msim\u001b[49m\u001b[38;5;241;43m.\u001b[39;49m\u001b[43mrun\u001b[49m\u001b[43m(\u001b[49m\u001b[43m)\u001b[49m\n",
      "File \u001b[1;32mc:\\Users\\izaac\\Documents\\EpiMoRPH\\Epymorph\\epymorph\\engine\\standard_sim.py:180\u001b[0m, in \u001b[0;36mStandardSimulation.run\u001b[1;34m(self)\u001b[0m\n\u001b[0;32m    178\u001b[0m \u001b[38;5;66;03m# Then do IPM\u001b[39;00m\n\u001b[0;32m    179\u001b[0m \u001b[38;5;28;01mwith\u001b[39;00m error_gate(\u001b[38;5;124m\"\u001b[39m\u001b[38;5;124mexecuting the IPM\u001b[39m\u001b[38;5;124m\"\u001b[39m, IpmSimException, AttributeException):\n\u001b[1;32m--> 180\u001b[0m     tick_events, tick_prevalence \u001b[38;5;241m=\u001b[39m \u001b[43mipm_exec\u001b[49m\u001b[38;5;241;43m.\u001b[39;49m\u001b[43mapply\u001b[49m\u001b[43m(\u001b[49m\u001b[43mworld\u001b[49m\u001b[43m,\u001b[49m\u001b[43m \u001b[49m\u001b[43mtick\u001b[49m\u001b[43m)\u001b[49m\n\u001b[0;32m    181\u001b[0m     out\u001b[38;5;241m.\u001b[39mincidence[tick\u001b[38;5;241m.\u001b[39mindex] \u001b[38;5;241m=\u001b[39m tick_events\n\u001b[0;32m    182\u001b[0m     out\u001b[38;5;241m.\u001b[39mprevalence[tick\u001b[38;5;241m.\u001b[39mindex] \u001b[38;5;241m=\u001b[39m tick_prevalence\n",
      "File \u001b[1;32mc:\\Users\\izaac\\Documents\\EpiMoRPH\\Epymorph\\epymorph\\engine\\ipm_exec.py:141\u001b[0m, in \u001b[0;36mStandardIpmExecutor.apply\u001b[1;34m(self, world, tick)\u001b[0m\n\u001b[0;32m    138\u001b[0m cohorts \u001b[38;5;241m=\u001b[39m world\u001b[38;5;241m.\u001b[39mget_cohort_array(node)\n\u001b[0;32m    139\u001b[0m effective \u001b[38;5;241m=\u001b[39m cohorts\u001b[38;5;241m.\u001b[39msum(axis\u001b[38;5;241m=\u001b[39m\u001b[38;5;241m0\u001b[39m, dtype\u001b[38;5;241m=\u001b[39mSimDType)\n\u001b[1;32m--> 141\u001b[0m occurrences \u001b[38;5;241m=\u001b[39m \u001b[38;5;28;43mself\u001b[39;49m\u001b[38;5;241;43m.\u001b[39;49m\u001b[43m_events\u001b[49m\u001b[43m(\u001b[49m\u001b[43mnode\u001b[49m\u001b[43m,\u001b[49m\u001b[43m \u001b[49m\u001b[43mtick\u001b[49m\u001b[43m,\u001b[49m\u001b[43m \u001b[49m\u001b[43meffective\u001b[49m\u001b[43m)\u001b[49m\n\u001b[0;32m    142\u001b[0m cohort_deltas \u001b[38;5;241m=\u001b[39m \u001b[38;5;28mself\u001b[39m\u001b[38;5;241m.\u001b[39m_distribute(cohorts, occurrences)\n\u001b[0;32m    143\u001b[0m world\u001b[38;5;241m.\u001b[39mapply_cohort_delta(node, cohort_deltas)\n",
      "File \u001b[1;32mc:\\Users\\izaac\\Documents\\EpiMoRPH\\Epymorph\\epymorph\\engine\\ipm_exec.py:165\u001b[0m, in \u001b[0;36mStandardIpmExecutor._events\u001b[1;34m(self, node, tick, effective_pop)\u001b[0m\n\u001b[0;32m    163\u001b[0m \u001b[38;5;28;01mcase\u001b[39;00m _IndependentTrx(rate_lambda):\n\u001b[0;32m    164\u001b[0m     rate \u001b[38;5;241m=\u001b[39m rate_lambda(rate_args)\n\u001b[1;32m--> 165\u001b[0m     \u001b[38;5;28;43mself\u001b[39;49m\u001b[38;5;241;43m.\u001b[39;49m\u001b[43m_check_rate\u001b[49m\u001b[43m(\u001b[49m\u001b[43mrate\u001b[49m\u001b[43m,\u001b[49m\u001b[43m \u001b[49m\u001b[43mrate_args\u001b[49m\u001b[43m[\u001b[49m\u001b[38;5;28;43mlen\u001b[39;49m\u001b[43m(\u001b[49m\u001b[43meffective_pop\u001b[49m\u001b[43m)\u001b[49m\u001b[43m:\u001b[49m\u001b[43m]\u001b[49m\u001b[43m)\u001b[49m\n\u001b[0;32m    166\u001b[0m     occur[index] \u001b[38;5;241m=\u001b[39m \u001b[38;5;28mself\u001b[39m\u001b[38;5;241m.\u001b[39m_ctx\u001b[38;5;241m.\u001b[39mrng\u001b[38;5;241m.\u001b[39mpoisson(rate \u001b[38;5;241m*\u001b[39m tick\u001b[38;5;241m.\u001b[39mtau)\n\u001b[0;32m    167\u001b[0m \u001b[38;5;28;01mcase\u001b[39;00m _ForkedTrx(size, rate_lambda, prob_lambda):\n",
      "File \u001b[1;32mc:\\Users\\izaac\\Documents\\EpiMoRPH\\Epymorph\\epymorph\\engine\\ipm_exec.py:217\u001b[0m, in \u001b[0;36mStandardIpmExecutor._check_rate\u001b[1;34m(self, rate, rate_attrs)\u001b[0m\n\u001b[0;32m    214\u001b[0m \u001b[38;5;28;01mfor\u001b[39;00m event \u001b[38;5;129;01min\u001b[39;00m \u001b[38;5;28mself\u001b[39m\u001b[38;5;241m.\u001b[39m_ctx\u001b[38;5;241m.\u001b[39mipm\u001b[38;5;241m.\u001b[39mevents:\n\u001b[0;32m    215\u001b[0m     event_dict[\u001b[38;5;124mf\u001b[39m\u001b[38;5;124m\"\u001b[39m\u001b[38;5;132;01m{\u001b[39;00mevent\u001b[38;5;241m.\u001b[39mcompartment_from\u001b[38;5;132;01m}\u001b[39;00m\u001b[38;5;124m->\u001b[39m\u001b[38;5;132;01m{\u001b[39;00mevent\u001b[38;5;241m.\u001b[39mcompartment_to\u001b[38;5;132;01m}\u001b[39;00m\u001b[38;5;124m\"\u001b[39m] \u001b[38;5;241m=\u001b[39m event\u001b[38;5;241m.\u001b[39mrate\n\u001b[1;32m--> 217\u001b[0m \u001b[38;5;28;01mraise\u001b[39;00m IpmSimNaNException((\u001b[38;5;124m\"\u001b[39m\u001b[38;5;124mevents\u001b[39m\u001b[38;5;124m\"\u001b[39m, event_dict))\n",
      "\u001b[1;31mIpmSimNaNException\u001b[0m: \nNaN (not a number) rate detected. This is often the result of a divide by zero error.\nWhen constructing the IPM, ensure that no edge transitions can result in division by zero\nThis commonly occurs when defining an S->I edge that is (some rate / sum of the compartments)\nTo fix this, change the edge to define the S->I edge as (some rate / Max(1/sum of the the compartments))\nSee examples of this in the provided example ipm definitions in the data/ipms folder.\n\nShowing current events\nS->I: I*S*beta/(I + R + S)\nI->R: I*gamma\nR->S: R*xi\n"
     ]
    }
   ],
   "source": [
    "from functools import partial\n",
    "\n",
    "import numpy as np\n",
    "\n",
    "from epymorph import *\n",
    "from epymorph.geo.spec import NO_DURATION, AttribDef, StaticGeoSpec\n",
    "from epymorph.geo.static import StaticGeo\n",
    "from epymorph.initializer import single_location\n",
    "\n",
    "my_geo = StaticGeo(\n",
    "    spec=StaticGeoSpec(\n",
    "        attributes=[\n",
    "            AttribDef('label', dtype=str, shape=Shapes.N),\n",
    "            AttribDef('population', dtype=str, shape=Shapes.N),\n",
    "        ],\n",
    "        time_period=NO_DURATION,\n",
    "    ),\n",
    "    values={\n",
    "        'label': np.array(['a', 'b', 'c']),\n",
    "        'population': np.array([0, 10, 20], dtype=np.int64),\n",
    "    },\n",
    ")\n",
    "\n",
    "\n",
    "sim = StandardSimulation(\n",
    "    geo=my_geo,\n",
    "    ipm=load_ipm(),\n",
    "    mm=mm_library['no'](),\n",
    "    params={\n",
    "        'phi': 40.0,\n",
    "        'beta': 0.4,\n",
    "        'gamma': 1 / 5,\n",
    "        'xi': 1 / 90,\n",
    "    },\n",
    "    time_frame=TimeFrame.of(\"2015-01-01\", 150),\n",
    "    initializer=partial(single_location, location=1, seed_size=5),\n",
    "    rng=default_rng(1)\n",
    ")\n",
    "\n",
    "with sim_messaging(sim):\n",
    "    out = sim.run()"
   ]
  }
 ],
 "metadata": {
  "kernelspec": {
   "display_name": ".venv",
   "language": "python",
   "name": "python3"
  },
  "language_info": {
   "codemirror_mode": {
    "name": "ipython",
    "version": 3
   },
   "file_extension": ".py",
   "mimetype": "text/x-python",
   "name": "python",
   "nbconvert_exporter": "python",
   "pygments_lexer": "ipython3",
   "version": "3.11.9"
  }
 },
 "nbformat": 4,
 "nbformat_minor": 2
}
