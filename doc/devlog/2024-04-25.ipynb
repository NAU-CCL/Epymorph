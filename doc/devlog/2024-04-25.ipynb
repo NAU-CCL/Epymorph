{
 "cells": [
  {
   "cell_type": "markdown",
   "metadata": {},
   "source": [
    "# devlog 2024-04-25\n",
    "\n",
    "_Author: Tyler Coles_\n",
    "\n",
    "Testing cache utilities. This script:\n",
    "1. tests that reading and writing from archives works,\n",
    "2. checks that we can choose to gzip or not, and\n",
    "3. measures the impact of gzipping on read/write time and file size."
   ]
  },
  {
   "cell_type": "code",
   "execution_count": 2,
   "metadata": {},
   "outputs": [
    {
     "name": "stdout",
     "output_type": "stream",
     "text": [
      "Save a geo without compression:\n",
      "17.8 ms ± 2.71 ms per loop (mean ± std. dev. of 7 runs, 100 loops each)\n",
      "Read a geo without compression:\n",
      "3.74 ms ± 73.2 µs per loop (mean ± std. dev. of 7 runs, 100 loops each)\n",
      "\n",
      "Save a geo compressed:\n",
      "20.6 ms ± 134 µs per loop (mean ± std. dev. of 7 runs, 10 loops each)\n",
      "Read a geo with compression:\n",
      "4.87 ms ± 57.6 µs per loop (mean ± std. dev. of 7 runs, 100 loops each)\n",
      "\n",
      "Bytes as a tar:   153,600\n",
      "Bytes as a tgz:   134,722\n",
      "Compression ratio: 87.7%\n"
     ]
    }
   ],
   "source": [
    "import os\n",
    "import shutil\n",
    "import tempfile\n",
    "\n",
    "from epymorph import geo_library\n",
    "from epymorph.geo.static import StaticGeoFileOps as F\n",
    "\n",
    "# Our subject geo can be anything, but this one is a useful demo because it's sizeable.\n",
    "geo = geo_library['maricopa_cbg_2019']()\n",
    "\n",
    "tempdir = tempfile.mkdtemp()\n",
    "\n",
    "print(\"Save a geo without compression:\")\n",
    "%timeit F.save_as_archive(geo, f\"{tempdir}/geo.tar\")\n",
    "print(\"Read a geo without compression:\")\n",
    "%timeit F.load_from_archive(f\"{tempdir}/geo.tar\")\n",
    "\n",
    "print()\n",
    "\n",
    "print(\"Save a geo compressed:\")\n",
    "%timeit F.save_as_archive(geo, f\"{tempdir}/geo.tgz\")\n",
    "print(\"Read a geo with compression:\")\n",
    "%timeit F.load_from_archive(f\"{tempdir}/geo.tgz\")\n",
    "\n",
    "print()\n",
    "\n",
    "size_tar = os.path.getsize(f\"{tempdir}/geo.tar\")\n",
    "size_tgz = os.path.getsize(f\"{tempdir}/geo.tgz\")\n",
    "\n",
    "print(f\"Bytes as a tar: {size_tar:>9,}\")\n",
    "print(f\"Bytes as a tgz: {size_tgz:>9,}\")\n",
    "print(f\"Compression ratio: {(size_tgz / size_tar):.1%}\")\n",
    "\n",
    "shutil.rmtree(tempdir)\n",
    "\n",
    "# NOTE: the %timeit magics break isort and autopep8, so you're on your own for formatting"
   ]
  },
  {
   "cell_type": "markdown",
   "metadata": {},
   "source": [
    "## Conclusion\n",
    "\n",
    "We get decent savings in bytes by storing geos gzipped, and it doesn't take much longer to read and write. ✓"
   ]
  }
 ],
 "metadata": {
  "kernelspec": {
   "display_name": ".venv",
   "language": "python",
   "name": "python3"
  },
  "language_info": {
   "codemirror_mode": {
    "name": "ipython",
    "version": 3
   },
   "file_extension": ".py",
   "mimetype": "text/x-python",
   "name": "python",
   "nbconvert_exporter": "python",
   "pygments_lexer": "ipython3",
   "version": "3.11.9"
  }
 },
 "nbformat": 4,
 "nbformat_minor": 2
}
