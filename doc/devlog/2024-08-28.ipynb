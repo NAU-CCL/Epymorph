{
 "cells": [
  {
   "cell_type": "markdown",
   "metadata": {},
   "source": [
    "# devlog 2024-08-28\n",
    "\n",
    "_author: Trevor Johnson_\n",
    "\n",
    "Demonstration of NPY and NPZ numpy ADRIOs."
   ]
  },
  {
   "cell_type": "code",
   "execution_count": 1,
   "metadata": {},
   "outputs": [
    {
     "data": {
      "text/plain": [
       "array([1, 2, 3])"
      ]
     },
     "execution_count": 1,
     "metadata": {},
     "output_type": "execute_result"
    }
   ],
   "source": [
    "# save a simple array to an .npy file and load it back using an adrio\n",
    "from pathlib import Path\n",
    "\n",
    "import numpy as np\n",
    "\n",
    "from epymorph.adrio.numpy import NPY\n",
    "from epymorph.error import DataResourceException\n",
    "\n",
    "array = np.array([1, 2, 3])\n",
    "np.save(\"./scratch/npy_test.npy\", arr=array)\n",
    "\n",
    "adrio = NPY(Path(\"./scratch/npy_test.npy\"))\n",
    "adrio.evaluate()"
   ]
  },
  {
   "cell_type": "code",
   "execution_count": 2,
   "metadata": {},
   "outputs": [
    {
     "name": "stdout",
     "output_type": "stream",
     "text": [
      "[5.5 6.6]\n",
      "[(7.7, 8.8, 9.9)]\n"
     ]
    }
   ],
   "source": [
    "# save multiple arrays to an .npz file and load them back individually using adrios\n",
    "from epymorph.adrio.numpy import NPZ\n",
    "\n",
    "array = np.array([4.4, 5.5, 6.6])\n",
    "array2 = np.array(\n",
    "    [(7.7, 8.8, 9.9)],\n",
    "    dtype=[(\"data\", np.float64), (\"data2\", np.float64), (\"data3\", np.float64)],\n",
    ")\n",
    "np.savez(\"./scratch/npz_test.npz\", arr=array, arr2=array2)\n",
    "\n",
    "# this adrio usees a slice to exclude the first element\n",
    "adrio = NPZ(Path(\"./scratch/npz_test.npz\"), \"arr\", np.s_[1:3,])\n",
    "adrio2 = NPZ(Path(\"./scratch/npz_test.npz\"), \"arr2\")\n",
    "\n",
    "\n",
    "print(adrio.evaluate())\n",
    "print(adrio2.evaluate())"
   ]
  },
  {
   "cell_type": "code",
   "execution_count": 3,
   "metadata": {},
   "outputs": [
    {
     "data": {
      "text/plain": [
       "array([['is', 'an'],\n",
       "       ['of', 'strings']], dtype='<U7')"
      ]
     },
     "execution_count": 3,
     "metadata": {},
     "output_type": "execute_result"
    }
   ],
   "source": [
    "# save and load a multidimensional array\n",
    "array = np.array(\n",
    "    [[\"This\", \"is\", \"an\"], [\"array\", \"of\", \"strings\"], [\"for\", \"testing\", \".\"]]\n",
    ")\n",
    "np.savez(\"./scratch/npz_test2.npz\", array)\n",
    "\n",
    "# slice each axis of the array individually\n",
    "adrio = NPZ(Path(\"./scratch/npz_test2.npz\"), \"arr_0\", (slice(0, 2), slice(1, 3)))\n",
    "\n",
    "adrio.evaluate()"
   ]
  },
  {
   "cell_type": "code",
   "execution_count": 4,
   "metadata": {},
   "outputs": [
    {
     "data": {
      "text/plain": [
       "array([['This', 'is', 'an'],\n",
       "       ['for', 'testing', '.']], dtype='<U7')"
      ]
     },
     "execution_count": 4,
     "metadata": {},
     "output_type": "execute_result"
    }
   ],
   "source": [
    "# single slice\n",
    "adrio = NPZ(Path(\"./scratch/npz_test2.npz\"), \"arr_0\", slice(0, None, 2))\n",
    "adrio.evaluate()"
   ]
  },
  {
   "cell_type": "code",
   "execution_count": 5,
   "metadata": {},
   "outputs": [
    {
     "data": {
      "text/plain": [
       "array([['This', 'an'],\n",
       "       ['array', 'strings']], dtype='<U7')"
      ]
     },
     "execution_count": 5,
     "metadata": {},
     "output_type": "execute_result"
    }
   ],
   "source": [
    "# np.s_ support\n",
    "adrio = NPZ(Path(\"./scratch/npz_test2.npz\"), \"arr_0\", np.s_[0:2, ::2])\n",
    "adrio.evaluate()"
   ]
  },
  {
   "cell_type": "code",
   "execution_count": 6,
   "metadata": {},
   "outputs": [
    {
     "data": {
      "text/plain": [
       "array([['This', 'is', 'an'],\n",
       "       ['array', 'of', 'strings'],\n",
       "       ['for', 'testing', '.']], dtype='<U7')"
      ]
     },
     "execution_count": 6,
     "metadata": {},
     "output_type": "execute_result"
    }
   ],
   "source": [
    "# ellipsis support: note -- fewer indices than axes is actually allowable\n",
    "adrio = NPZ(Path(\"./scratch/npz_test2.npz\"), \"arr_0\", np.s_[...])\n",
    "adrio.evaluate()"
   ]
  },
  {
   "cell_type": "code",
   "execution_count": 7,
   "metadata": {},
   "outputs": [
    {
     "data": {
      "text/plain": [
       "array([['This', 'is', 'an'],\n",
       "       ['array', 'of', 'strings'],\n",
       "       ['for', 'testing', '.']], dtype='<U7')"
      ]
     },
     "execution_count": 7,
     "metadata": {},
     "output_type": "execute_result"
    }
   ],
   "source": [
    "# np.index_exp support\n",
    "adrio = NPZ(Path(\"./scratch/npz_test2.npz\"), \"arr_0\", np.index_exp[...])\n",
    "adrio.evaluate()"
   ]
  },
  {
   "cell_type": "code",
   "execution_count": 8,
   "metadata": {},
   "outputs": [
    {
     "name": "stdout",
     "output_type": "stream",
     "text": [
      "DataResourceException('Specified array slice is invalid for the shape of this data.')\n"
     ]
    }
   ],
   "source": [
    "# ERROR: too many indices\n",
    "try:\n",
    "    adrio = NPZ(Path(\"./scratch/npz_test2.npz\"), \"arr_0\", np.index_exp[1:3, 1:3, 1:3])\n",
    "    adrio.evaluate()\n",
    "except DataResourceException as e:\n",
    "    print(repr(e))"
   ]
  },
  {
   "cell_type": "code",
   "execution_count": 9,
   "metadata": {},
   "outputs": [
    {
     "name": "stdout",
     "output_type": "stream",
     "text": [
      "DataResourceException('Incorrect file type. Only .npy files can be loaded through NPY ADRIOs.')\n"
     ]
    }
   ],
   "source": [
    "# ERROR: wrong file type\n",
    "try:\n",
    "    adrio = NPY(Path(\"./scratch/npz_test2.npz\"))\n",
    "except DataResourceException as e:\n",
    "    print(repr(e))"
   ]
  }
 ],
 "metadata": {
  "kernelspec": {
   "display_name": ".venv",
   "language": "python",
   "name": "python3"
  },
  "language_info": {
   "codemirror_mode": {
    "name": "ipython",
    "version": 3
   },
   "file_extension": ".py",
   "mimetype": "text/x-python",
   "name": "python",
   "nbconvert_exporter": "python",
   "pygments_lexer": "ipython3",
   "version": "3.11.10"
  }
 },
 "nbformat": 4,
 "nbformat_minor": 2
}
