{
 "cells": [
  {
   "cell_type": "markdown",
   "metadata": {},
   "source": [
    "# devlog 2024-08-28\n",
    "\n",
    "_author: Trevor Johnson_\n",
    "\n",
    "Demonstration of NPY and NPZ numpy ADRIOs."
   ]
  },
  {
   "cell_type": "code",
   "execution_count": 2,
   "metadata": {},
   "outputs": [
    {
     "data": {
      "text/plain": [
       "array([1, 2, 3])"
      ]
     },
     "execution_count": 2,
     "metadata": {},
     "output_type": "execute_result"
    }
   ],
   "source": [
    "# save a simple array to an .npy file and load it back using an adrio\n",
    "from pathlib import Path\n",
    "\n",
    "import numpy as np\n",
    "\n",
    "from epymorph.adrio.numpy import NPY\n",
    "\n",
    "array = np.array([1, 2, 3])\n",
    "np.save('./scratch/npy_test.npy', arr=array)\n",
    "\n",
    "adrio = NPY(Path('./scratch/npy_test.npy'))\n",
    "adrio.evaluate()"
   ]
  },
  {
   "cell_type": "code",
   "execution_count": 3,
   "metadata": {},
   "outputs": [
    {
     "name": "stdout",
     "output_type": "stream",
     "text": [
      "[5.5 6.6]\n",
      "[(7.7, 8.8, 9.9)]\n"
     ]
    }
   ],
   "source": [
    "# save multiple arrays to an .npz file and load them back individually using adrios\n",
    "from epymorph.adrio.numpy import NPZ\n",
    "\n",
    "array = np.array([4.4, 5.5, 6.6])\n",
    "array2 = np.array([(7.7, 8.8, 9.9)],\n",
    "                  dtype=[('data', np.float64), ('data2', np.float64), ('data3', np.float64)])\n",
    "np.savez('./scratch/npz_test.npz', arr=array, arr2=array2)\n",
    "\n",
    "# this adrio usees a slice to exclude the first element\n",
    "adrio = NPZ(Path('./scratch/npz_test.npz'), 'arr', [slice(1, 3)])\n",
    "adrio2 = NPZ(Path('./scratch/npz_test.npz'), 'arr2')\n",
    "\n",
    "\n",
    "print(adrio.evaluate())\n",
    "print(adrio2.evaluate())"
   ]
  },
  {
   "cell_type": "code",
   "execution_count": 4,
   "metadata": {},
   "outputs": [
    {
     "data": {
      "text/plain": [
       "array([['is', 'an'],\n",
       "       ['of', 'strings']], dtype='<U7')"
      ]
     },
     "execution_count": 4,
     "metadata": {},
     "output_type": "execute_result"
    }
   ],
   "source": [
    "# save and load a multidimensional array\n",
    "array = np.array([['This', 'is', 'an'],\n",
    "                  ['array', 'of', 'strings'],\n",
    "                  ['for', 'testing', '.']])\n",
    "np.savez('./scratch/npz_test2.npz', array)\n",
    "\n",
    "# slice each axis of the array individually\n",
    "adrio = NPZ(Path('./scratch/npz_test2.npz'), 'arr_0', [slice(0, 2), slice(1, 3)])\n",
    "\n",
    "adrio.evaluate()"
   ]
  }
 ],
 "metadata": {
  "kernelspec": {
   "display_name": ".venv",
   "language": "python",
   "name": "python3"
  },
  "language_info": {
   "codemirror_mode": {
    "name": "ipython",
    "version": 3
   },
   "file_extension": ".py",
   "mimetype": "text/x-python",
   "name": "python",
   "nbconvert_exporter": "python",
   "pygments_lexer": "ipython3",
   "version": "3.11.9"
  }
 },
 "nbformat": 4,
 "nbformat_minor": 2
}
