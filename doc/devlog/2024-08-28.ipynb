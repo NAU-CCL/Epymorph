{
 "cells": [
  {
   "cell_type": "markdown",
   "metadata": {},
   "source": [
    "# devlog 2024-08-28\n",
    "\n",
    "_author: Trevor Johnson_\n",
    "\n",
    "Demonstration of NPY and NPZ numpy ADRIOs."
   ]
  },
  {
   "cell_type": "code",
   "execution_count": 1,
   "metadata": {},
   "outputs": [
    {
     "name": "stdout",
     "output_type": "stream",
     "text": [
      "[1 2 3]\n"
     ]
    }
   ],
   "source": [
    "# save a simple array to an .npy file and load it back using an adrio\n",
    "from pathlib import Path\n",
    "\n",
    "import numpy as np\n",
    "\n",
    "from epymorph.adrio.numpy import NPY\n",
    "\n",
    "array = np.array([1, 2, 3])\n",
    "np.save('./scratch/npy_test.npy', arr=array)\n",
    "\n",
    "adrio = NPY(Path('./scratch/npy_test.npy'))\n",
    "print(adrio.evaluate())"
   ]
  },
  {
   "cell_type": "code",
   "execution_count": 2,
   "metadata": {},
   "outputs": [
    {
     "name": "stdout",
     "output_type": "stream",
     "text": [
      "[1 2 3]\n",
      "[5 6]\n"
     ]
    }
   ],
   "source": [
    "# save multiple arrays to an .npz file and load them back individually using adrios\n",
    "from epymorph.adrio.numpy import NPZ\n",
    "\n",
    "array2 = np.array([4, 5, 6])\n",
    "np.savez('./scratch/npz_test.npz', arr=array, arr2=array2)\n",
    "\n",
    "adrio = NPZ(Path('./scratch/npz_test.npz'), 'arr')\n",
    "# this adrio slices the array to exclude the fist element\n",
    "adrio2 = NPZ(Path('./scratch/npz_test.npz'), 'arr2', [slice(1, 3)])\n",
    "\n",
    "print(adrio.evaluate())\n",
    "print(adrio2.evaluate())"
   ]
  },
  {
   "cell_type": "code",
   "execution_count": 3,
   "metadata": {},
   "outputs": [
    {
     "name": "stdout",
     "output_type": "stream",
     "text": [
      "[[2 3]\n",
      " [5 6]]\n"
     ]
    }
   ],
   "source": [
    "# save and load a multidimensional array\n",
    "array = np.array([[1, 2, 3], [4, 5, 6], [7, 8, 9]])\n",
    "np.savez('./scratch/npz_test2.npz', array)\n",
    "\n",
    "# slice each axis of the array individually\n",
    "adrio = NPZ(Path('./scratch/npz_test2.npz'), 'arr_0', [slice(0, 2), slice(1, 3)])\n",
    "\n",
    "print(adrio.evaluate())"
   ]
  }
 ],
 "metadata": {
  "kernelspec": {
   "display_name": ".venv",
   "language": "python",
   "name": "python3"
  },
  "language_info": {
   "codemirror_mode": {
    "name": "ipython",
    "version": 3
   },
   "file_extension": ".py",
   "mimetype": "text/x-python",
   "name": "python",
   "nbconvert_exporter": "python",
   "pygments_lexer": "ipython3",
   "version": "3.11.9"
  }
 },
 "nbformat": 4,
 "nbformat_minor": 2
}
