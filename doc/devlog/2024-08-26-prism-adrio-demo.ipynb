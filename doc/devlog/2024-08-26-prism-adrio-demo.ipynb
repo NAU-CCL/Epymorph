{
 "cells": [
  {
   "cell_type": "markdown",
   "metadata": {},
   "source": [
    "# 2024/08/26 PRISM ADRIO Demo\n",
    "_Author: Meaghan Freund_\n",
    "\n",
    "### **Background**\n",
    "\n",
    "PRISM (Parameter-elevation Regressions on Independent Slopes Model) is an Oregon state website that provides users with datasets covering observed climate variables across the 48 conterminous United States. The recorded values are displayed as a 4km resolution grid across the previously mentioned map, with a value of the climate attribute for each 4km square. For the climate variables, PRISM produces data on: \n",
    "\n",
    "- Precipitation (mm)\n",
    "- Minimum Temperature (°C)\n",
    "- Mean Temperature (°C)\n",
    "- Maximum Temperature (°C)\n",
    "- Minimum Vapor Pressure Deficit (hPa)\n",
    "- Maximum Vapor Pressure Deficit (hPa)\n",
    "- Mean Dew Point Temperature (°C)\n",
    "\n",
    "On the PRISM website, users are able to generate raster, or pixelated, graphics of recorded observations on a daily, monthly, or annual basis for any of these climate attributes. PRISM provides readable datasets as zip files for the monthly and daily data, being one zip file per variable and for each whole month or day. \n",
    "\n",
    "For more information, visit the PRISM website homepage: _https://prism.oregonstate.edu/_"
   ]
  },
  {
   "cell_type": "markdown",
   "metadata": {},
   "source": [
    "### **Simple Query**"
   ]
  },
  {
   "cell_type": "markdown",
   "metadata": {},
   "source": [
    "For a finer look at the raster data PRISM provides, the PRISM ADRIO template provides data within the daily granularity. For a basic example, a user may look at a single day with one climate variable. The \"Precipitation\" and the \"Mean Dew Point Temperature\" calls are quite simple as they exclude having a maximum or minimum, unlike the other calls. The below call uses the four provided counties and queries for June 1st, 2024."
   ]
  },
  {
   "cell_type": "markdown",
   "metadata": {},
   "source": [
    "#### Precipitation"
   ]
  },
  {
   "cell_type": "code",
   "execution_count": 1,
   "metadata": {},
   "outputs": [
    {
     "name": "stdout",
     "output_type": "stream",
     "text": [
      "Loading epymorph.adrio.us_tiger.GeometricCentroid:\n",
      "  |####################| 100%  (11.971s)\n",
      "Loading epymorph.adrio.prism.Precipitation:\n",
      "  |####################| 100%  (0.227s)\n"
     ]
    }
   ],
   "source": [
    "from epymorph.geography.us_census import CountyScope\n",
    "from epymorph import *\n",
    "from epymorph.adrio import acs5, us_tiger\n",
    "from epymorph.simulator.data import evaluate_param\n",
    "from datetime import date\n",
    "from epymorph.adrio import prism\n",
    "\n",
    "\n",
    "county_scope = CountyScope.in_counties([\"04013\", \"08041\", \"32003\", \"35001\"])\n",
    "time_period = TimeFrame.range(date(2024, 6, 1), date(2024, 6, 1))\n",
    "precipitation = prism.Precipitation(time_period)\n",
    "geoids = county_scope.get_node_ids()\n",
    "\n",
    "rume = SingleStrataRume.build(\n",
    "    ipm_library[\"no\"](),\n",
    "    mm_library[\"no\"](),\n",
    "    init.NoInfection(),\n",
    "    scope=county_scope,\n",
    "    time_frame=time_period,\n",
    "    params={\n",
    "        \"population\": acs5.Population(),\n",
    "        \"centroid\": us_tiger.GeometricCentroid(),\n",
    "        \"precipitation\": prism.Precipitation(time_period),\n",
    "    },\n",
    ")\n",
    "with sim_messaging():\n",
    "    precipitation = evaluate_param(rume, \"precipitation\")\n"
   ]
  },
  {
   "cell_type": "code",
   "execution_count": 3,
   "metadata": {},
   "outputs": [
    {
     "name": "stdout",
     "output_type": "stream",
     "text": [
      "Counties: ['04013' '08041' '32003' '35001']\n",
      "\n",
      "Precipitation in mm:\n",
      " [[0.         3.52799988 0.         0.        ]]\n",
      "\n"
     ]
    }
   ],
   "source": [
    "print(f\"Counties: {geoids}\\n\")\n",
    "\n",
    "print(f\"Precipitation in mm:\\n {precipitation}\\n\")"
   ]
  },
  {
   "cell_type": "markdown",
   "metadata": {},
   "source": [
    "### **Date Range**"
   ]
  },
  {
   "cell_type": "markdown",
   "metadata": {},
   "source": [
    "The above query calls for a \"date range\" of June 1st, 2024 to that same day, simply calling for that single day. The ADRIO template here can call from the beginning of the month to the end of that same month (may test to see if it can cross months). Changing the second date called will grab the climate data in between each given date inclusively."
   ]
  },
  {
   "cell_type": "markdown",
   "metadata": {},
   "source": [
    "### **Minimum, Maximum, and Mean**"
   ]
  },
  {
   "cell_type": "markdown",
   "metadata": {},
   "source": [
    "All of the observed climate variables are recorded differently, with some attributes providing a mean, minimum, or maximum. Precipitation is the only variable that does not record any of these, with the measure only being provided as a total accumulation. Below is the list of calls that are available to a user, with \"Precipitation\" and \"Dew Point Temperature\" having a single call type, as there are no other options. \n",
    "\n",
    "- Precipitation\n",
    "    - total accumulated\n",
    "\n",
    "- Dew Point Temperature\n",
    "    - mean\n",
    "\n",
    "- Temperature\n",
    "    - mean\n",
    "    - minimum\n",
    "    - maximum\n",
    "\n",
    "- Vapor Pressure Deficit\n",
    "    - minimum\n",
    "    - maximum\n",
    "\n",
    "When calling \"Temperature\" or \"Vapor Pressure Deficit\", specifying \"Mean\", \"Minimum\", or \"Maximum\" within the PRISM call will provide the desired information."
   ]
  },
  {
   "cell_type": "markdown",
   "metadata": {},
   "source": [
    "#### **Temperature for 30 Days**"
   ]
  },
  {
   "cell_type": "markdown",
   "metadata": {},
   "source": [
    "In the below instance, it is specified to get the mean temperature for the whole month of April in 2021."
   ]
  },
  {
   "cell_type": "code",
   "execution_count": 2,
   "metadata": {},
   "outputs": [
    {
     "name": "stdout",
     "output_type": "stream",
     "text": [
      "Loading epymorph.adrio.us_tiger.GeometricCentroid:\n",
      "  |####################| 100%  (3.046s)\n",
      "Loading epymorph.adrio.prism.Temperature:\n",
      "  |####################| 100%  (22.394s)\n"
     ]
    }
   ],
   "source": [
    "from epymorph.geography.us_census import StateScope\n",
    "from epymorph import *\n",
    "from epymorph.adrio import acs5, us_tiger\n",
    "from epymorph.simulator.data import evaluate_param\n",
    "from datetime import date\n",
    "from epymorph.adrio import prism\n",
    "\n",
    "state_scope = StateScope.in_states_by_code([\"AZ\"])\n",
    "time_period = TimeFrame.range(date(2021, 4, 1), date(2021, 4, 30))\n",
    "geoids = state_scope.get_node_ids()\n",
    "\n",
    "rume = SingleStrataRume.build(\n",
    "    ipm_library[\"no\"](),\n",
    "    mm_library[\"no\"](),\n",
    "    init.NoInfection(),\n",
    "    scope=state_scope,\n",
    "    time_frame=time_period,\n",
    "    params={\n",
    "        \"temperature\": prism.Temperature(time_period, \"Mean\"),\n",
    "        \"population\": acs5.Population(),\n",
    "        \"centroid\": us_tiger.GeometricCentroid(),\n",
    "    },\n",
    ")\n",
    "with sim_messaging():\n",
    "    temperature = evaluate_param(rume, \"temperature\")"
   ]
  },
  {
   "cell_type": "code",
   "execution_count": 3,
   "metadata": {},
   "outputs": [
    {
     "name": "stdout",
     "output_type": "stream",
     "text": [
      "Counties: ['04']\n",
      "\n",
      "Temperature in Celsius:\n",
      " [[18.10199928]\n",
      " [20.5033989 ]\n",
      " [21.53979874]\n",
      " [23.15460014]\n",
      " [23.13929939]\n",
      " [22.01089859]\n",
      " [19.28979874]\n",
      " [19.92639923]\n",
      " [20.50819969]\n",
      " [20.42409897]\n",
      " [19.83799934]\n",
      " [19.71660042]\n",
      " [20.21759987]\n",
      " [18.79469872]\n",
      " [18.23429871]\n",
      " [16.08849907]\n",
      " [16.52569962]\n",
      " [17.06690025]\n",
      " [17.06819916]\n",
      " [17.9034996 ]\n",
      " [18.67819977]\n",
      " [18.19149971]\n",
      " [16.32390022]\n",
      " [17.16259956]\n",
      " [18.77140045]\n",
      " [19.666399  ]\n",
      " [15.94489956]\n",
      " [13.77489948]\n",
      " [15.1602993 ]\n",
      " [20.76469994]]\n",
      "\n"
     ]
    }
   ],
   "source": [
    "print(f\"Counties: {geoids}\\n\")\n",
    "\n",
    "print(f\"Temperature in Celsius:\\n {temperature}\\n\")"
   ]
  }
 ],
 "metadata": {
  "kernelspec": {
   "display_name": ".venv",
   "language": "python",
   "name": "python3"
  },
  "language_info": {
   "codemirror_mode": {
    "name": "ipython",
    "version": 3
   },
   "file_extension": ".py",
   "mimetype": "text/x-python",
   "name": "python",
   "nbconvert_exporter": "python",
   "pygments_lexer": "ipython3",
   "version": "3.11.0rc1"
  }
 },
 "nbformat": 4,
 "nbformat_minor": 2
}
