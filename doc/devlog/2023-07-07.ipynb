{
 "cells": [
  {
   "cell_type": "markdown",
   "metadata": {},
   "source": [
    "# Devlog 2023-07-07\n",
    "\n",
    "Re-creating the us_states and us_counties GEOs as part of a data reconciliation effort.\n",
    "\n",
    "NOTE: running this notebook requires you to have a US Census API key in your environment. (A `.env` file will work!)"
   ]
  },
  {
   "cell_type": "code",
   "execution_count": 1,
   "metadata": {},
   "outputs": [],
   "source": [
    "import dataclasses\n",
    "import os\n",
    "from pathlib import Path\n",
    "\n",
    "import numpy as np\n",
    "import pandas as pd\n",
    "import pygris\n",
    "from census import Census\n",
    "\n",
    "from epymorph.data_shape import Shapes\n",
    "from epymorph.data_type import CentroidDType\n",
    "from epymorph.error import GeoValidationException\n",
    "from epymorph.geo.spec import LABEL, StaticGeoSpec, Year\n",
    "from epymorph.geo.static import StaticGeo\n",
    "from epymorph.geo.static import StaticGeoFileOps as F\n",
    "from epymorph.geography.us_census import StateScope\n",
    "from epymorph.simulation import AttributeDef\n",
    "\n",
    "YEAR = 2015\n",
    "NUM_STATES = 52\n",
    "NUM_COUNTIES = 3220\n",
    "\n",
    "state_scope = StateScope.all(year=YEAR)\n",
    "county_scope = state_scope.lower_granularity()\n",
    "\n",
    "# Both state and county geo will have the same attributes, just different scope.\n",
    "state_spec = StaticGeoSpec(\n",
    "    attributes=[\n",
    "        LABEL,\n",
    "        AttributeDef('geoid', str, Shapes.N),\n",
    "        AttributeDef('centroid', CentroidDType, Shapes.N),\n",
    "        AttributeDef('population', int, Shapes.N),\n",
    "        AttributeDef('commuters', int, Shapes.NxN),\n",
    "    ],\n",
    "    scope=state_scope,\n",
    "    time_period=Year(YEAR),\n",
    ")\n",
    "\n",
    "county_spec = dataclasses.replace(state_spec, scope=county_scope)\n",
    "\n",
    "# Initialize Census API\n",
    "census = Census(os.environ['CENSUS_API_KEY'])"
   ]
  },
  {
   "cell_type": "markdown",
   "metadata": {},
   "source": [
    "## States data"
   ]
  },
  {
   "cell_type": "code",
   "execution_count": 2,
   "metadata": {},
   "outputs": [],
   "source": [
    "state_query = {'for': 'state: *'}\n",
    "state_data = census.acs5.get(('NAME', 'B01003_001E'), state_query, year=YEAR)\n",
    "state_geog = pygris.states(year=YEAR, cache=True)"
   ]
  },
  {
   "cell_type": "code",
   "execution_count": 3,
   "metadata": {},
   "outputs": [],
   "source": [
    "# NOTE: this commflows data is also needed for counties... might as well just load it once.\n",
    "\n",
    "commflows_raw = pd.read_excel(\n",
    "    'https://www2.census.gov/programs-surveys/demo/tables/metro-micro/2015/commuting-flows-2015/table1.xlsx',\n",
    "    skiprows=6,\n",
    "    skipfooter=2,\n",
    "    names=[\n",
    "        \"res_state_fips\",\n",
    "        \"res_county_fips\",\n",
    "        \"res_state\",\n",
    "        \"res_county\",\n",
    "        \"wrk_state_fips\",\n",
    "        \"wrk_county_fips\",\n",
    "        \"wrk_state\",\n",
    "        \"wrk_county\",\n",
    "        \"workers\",\n",
    "        \"moe\",\n",
    "    ],\n",
    "    dtype=str\n",
    ")\n",
    "# non-US destinations will have NaN in either state or county fips column (or both)\n",
    "# filter those out\n",
    "commflows_raw = commflows_raw[\n",
    "    ~commflows_raw.isna().any(axis=1)\n",
    "]\n",
    "# reformat work state FIPS to two digits\n",
    "commflows_raw['wrk_state_fips'] = commflows_raw['wrk_state_fips'].str.slice(1)\n",
    "\n",
    "commflows_by_county = pd.DataFrame({\n",
    "    'res_geoid': commflows_raw['res_state_fips'] + commflows_raw['res_county_fips'],\n",
    "    'wrk_geoid': commflows_raw['wrk_state_fips'] + commflows_raw['wrk_county_fips'],\n",
    "    'workers': commflows_raw['workers'].astype(np.int64)\n",
    "})\n",
    "commflows_by_county = commflows_by_county[\n",
    "    ~commflows_by_county.isna().any(axis=1)\n",
    "]\n",
    "\n",
    "# county GEOID -> index\n",
    "county_geoids = {geoid: i for i, geoid\n",
    "                 in enumerate(commflows_by_county['res_geoid'].unique())}\n",
    "\n",
    "commflows_by_state = pd.DataFrame({\n",
    "    'res_geoid': commflows_raw['res_state_fips'],\n",
    "    'wrk_geoid': commflows_raw['wrk_state_fips'],\n",
    "    'workers': commflows_raw['workers'].astype(np.int64)\n",
    "})\n",
    "commflows_by_state = commflows_by_state[\n",
    "    ~commflows_by_state.isna().any(axis=1)\n",
    "]\n",
    "commflows_by_state = commflows_by_state\\\n",
    "    .groupby(['res_geoid', 'wrk_geoid'], as_index=False).sum()\n",
    "\n",
    "# state GEOID -> index\n",
    "state_geoids = {geoid: i for i, geoid\n",
    "                in enumerate(commflows_by_state['res_geoid'].unique())}"
   ]
  },
  {
   "cell_type": "code",
   "execution_count": 4,
   "metadata": {},
   "outputs": [],
   "source": [
    "# Get label, geoid, and population\n",
    "d = pd.DataFrame.from_records(state_data).astype({\n",
    "    'NAME': np.str_,\n",
    "    'B01003_001E': np.int64,\n",
    "    'state': np.str_,\n",
    "})\n",
    "d.rename(columns={\n",
    "    'NAME': 'label',\n",
    "    'B01003_001E': 'population',\n",
    "    'state': 'geoid'\n",
    "}, inplace=True)\n",
    "d.sort_values(by='geoid', inplace=True)\n",
    "d.reset_index(drop=True, inplace=True)\n",
    "\n",
    "# Get centroid and merge\n",
    "d = d.merge(pd.DataFrame({\n",
    "    'geoid': state_geog['GEOID'],\n",
    "    'centroid': state_geog['geometry'].apply(lambda row: row.centroid.coords[0])\n",
    "}), on='geoid')\n",
    "\n",
    "# Get commuters\n",
    "c = np.zeros(shape=(NUM_STATES, NUM_STATES), dtype=np.int64)\n",
    "for _, row in commflows_by_state.iterrows():\n",
    "    res_idx = state_geoids[row['res_geoid']]\n",
    "    wrk_idx = state_geoids[row['wrk_geoid']]\n",
    "    c[res_idx, wrk_idx] = row['workers']\n",
    "\n",
    "states_values = {\n",
    "    'label': d['label'].to_numpy(dtype=np.str_),\n",
    "    'geoid': d['geoid'].to_numpy(dtype=np.str_),\n",
    "    'centroid': d['centroid'].to_numpy(dtype=CentroidDType),\n",
    "    'population': d['population'].to_numpy(dtype=np.int64),\n",
    "    'commuters': c,\n",
    "}\n",
    "\n",
    "num_states = len(states_values['label'])\n",
    "if num_states != NUM_STATES:\n",
    "    print(f\"WARNING! Unexpected number of states ({num_states})!\")"
   ]
  },
  {
   "cell_type": "code",
   "execution_count": 5,
   "metadata": {},
   "outputs": [],
   "source": [
    "geofile = Path('epymorph/data/geo') / F.to_archive_filename('us_states_2015')\n",
    "try:\n",
    "    states_geo = StaticGeo(state_spec, states_values)\n",
    "    states_geo.validate()\n",
    "    states_geo.save(geofile)\n",
    "except GeoValidationException as e:\n",
    "    print(e.pretty())"
   ]
  },
  {
   "cell_type": "code",
   "execution_count": 6,
   "metadata": {},
   "outputs": [
    {
     "data": {
      "text/plain": [
       "<epymorph.geo.static.StaticGeo at 0x7f0c8a6dc390>"
      ]
     },
     "execution_count": 6,
     "metadata": {},
     "output_type": "execute_result"
    }
   ],
   "source": [
    "# Verify that we can load the file back.\n",
    "F.load_from_archive(geofile)"
   ]
  },
  {
   "cell_type": "markdown",
   "metadata": {},
   "source": [
    "## County data"
   ]
  },
  {
   "cell_type": "code",
   "execution_count": 7,
   "metadata": {},
   "outputs": [],
   "source": [
    "county_query = {'for': 'county: *'}\n",
    "county_data = census.acs5.get(('NAME', 'B01003_001E'), county_query, year=YEAR)\n",
    "county_geog = pygris.counties(year=YEAR, cache=True)"
   ]
  },
  {
   "cell_type": "code",
   "execution_count": 8,
   "metadata": {},
   "outputs": [],
   "source": [
    "# Get label, geoid, and population\n",
    "d = pd.DataFrame.from_records(county_data).astype({\n",
    "    'NAME': np.str_,\n",
    "    'B01003_001E': np.int64,\n",
    "})\n",
    "d.insert(1, 'geoid', d['state'] + d['county'])\n",
    "d.drop(columns=['state', 'county'], inplace=True)\n",
    "d.sort_values(by='geoid', inplace=True)\n",
    "d.rename(columns={\n",
    "    'B01003_001E': 'population',\n",
    "    'NAME': 'label'\n",
    "}, inplace=True)\n",
    "d.reset_index(drop=True, inplace=True)\n",
    "\n",
    "# Get centroid and merge\n",
    "d = d.merge(pd.DataFrame({\n",
    "    'geoid': county_geog['GEOID'],\n",
    "    'centroid': county_geog['geometry'].apply(lambda row: row.centroid.coords[0])\n",
    "}), on='geoid')\n",
    "\n",
    "# Get commuters\n",
    "c = np.zeros(shape=(NUM_COUNTIES, NUM_COUNTIES), dtype=np.int64)\n",
    "for _, row in commflows_by_county.iterrows():\n",
    "    res_idx = county_geoids[row['res_geoid']]\n",
    "    wrk_idx = county_geoids[row['wrk_geoid']]\n",
    "    c[res_idx, wrk_idx] = row['workers']\n",
    "\n",
    "counties_values = {\n",
    "    'label': d['label'].to_numpy(dtype=str),\n",
    "    'geoid': d['geoid'].to_numpy(dtype=str),\n",
    "    'centroid': d['centroid'].to_numpy(dtype=CentroidDType),\n",
    "    'population': d['population'].to_numpy(dtype=np.int64),\n",
    "    'commuters': c\n",
    "}\n",
    "\n",
    "num_counties = len(counties_values['label'])\n",
    "if num_counties != NUM_COUNTIES:\n",
    "    print(f\"WARNING! Unexpected number of counties ({num_counties})!\")"
   ]
  },
  {
   "cell_type": "code",
   "execution_count": 9,
   "metadata": {},
   "outputs": [],
   "source": [
    "geofile = Path('epymorph/data/geo') / F.to_archive_filename('us_counties_2015')\n",
    "try:\n",
    "    counties_geo = StaticGeo(county_spec, counties_values)\n",
    "    counties_geo.validate()\n",
    "    counties_geo.save(geofile)\n",
    "except GeoValidationException as e:\n",
    "    print(e.pretty())"
   ]
  },
  {
   "cell_type": "code",
   "execution_count": 10,
   "metadata": {},
   "outputs": [
    {
     "data": {
      "text/plain": [
       "<epymorph.geo.static.StaticGeo at 0x7f0c8f1db850>"
      ]
     },
     "execution_count": 10,
     "metadata": {},
     "output_type": "execute_result"
    }
   ],
   "source": [
    "# Verify that we can load the file back.\n",
    "F.load_from_archive(geofile)"
   ]
  }
 ],
 "metadata": {
  "kernelspec": {
   "display_name": ".venv",
   "language": "python",
   "name": "python3"
  },
  "language_info": {
   "codemirror_mode": {
    "name": "ipython",
    "version": 3
   },
   "file_extension": ".py",
   "mimetype": "text/x-python",
   "name": "python",
   "nbconvert_exporter": "python",
   "pygments_lexer": "ipython3",
   "version": "3.11.9"
  },
  "orig_nbformat": 4
 },
 "nbformat": 4,
 "nbformat_minor": 2
}
