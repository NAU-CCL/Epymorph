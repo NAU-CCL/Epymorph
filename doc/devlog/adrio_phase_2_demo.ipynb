{
 "cells": [
  {
   "cell_type": "code",
   "execution_count": 1,
   "metadata": {},
   "outputs": [],
   "source": [
    "from epymorph.geo.geo import GEOSpec, AttribDef\n",
    "from epymorph.geo import CentroidDType\n",
    "from epymorph.geo.adrio.census.adrio_census import Granularity\n",
    "import numpy as np\n",
    "\n",
    "spec = GEOSpec('us_sw_counties_2015', \n",
    "                  AttribDef('name', np.str_),\n",
    "                 [AttribDef('population', np.int64),\n",
    "                  AttribDef('population_by_age', np.int64),\n",
    "                  AttribDef('centroid', CentroidDType),\n",
    "                  AttribDef('geoid', np.int64),\n",
    "                  AttribDef('dissimilarity_index', np.float64),\n",
    "                  AttribDef('median_income', np.int64),\n",
    "                  AttribDef('pop_density_km2', np.float64)],\n",
    "                  Granularity.COUNTY.value,\n",
    "                  {'state': ['04','08','49','35','32'], 'county': ['*'], 'tract': ['*'], 'block group': ['*']},\n",
    "                  2015, 'Dynamic',\n",
    "                  {'name': 'Census', 'population': 'Census', 'population_by_age': 'Census', 'centroid': 'Census',\n",
    "                   'geoid': 'Census', 'dissimilarity_index': 'Census', 'median_income': 'Census', 'pop_density_km2': 'Census'})"
   ]
  },
  {
   "cell_type": "code",
   "execution_count": 2,
   "metadata": {},
   "outputs": [],
   "source": [
    "from epymorph.geo.geo import DynamicGeo\n",
    "\n",
    "geo = DynamicGeo(spec)"
   ]
  },
  {
   "cell_type": "code",
   "execution_count": 6,
   "metadata": {},
   "outputs": [
    {
     "name": "stdout",
     "output_type": "stream",
     "text": [
      "[array([['Apache County, Arizona'],\n",
      "       ['Cochise County, Arizona'],\n",
      "       ['Coconino County, Arizona'],\n",
      "       ['Gila County, Arizona'],\n",
      "       ['Graham County, Arizona']], dtype='<U29'), array([[ 72124],\n",
      "       [129647],\n",
      "       [136701],\n",
      "       [ 53165],\n",
      "       [ 37407]]), array([[ 22828,  39037,  10358],\n",
      "       [ 54262, 110146,  37560],\n",
      "       [ 88450, 196566,  53745],\n",
      "       [100071, 223219,  68724],\n",
      "       [111157, 244490,  73871]]), array([(-109.488846  , 35.39561637), (-109.75114065, 31.87956519),\n",
      "       (-111.77051224, 35.83872946), (-110.8117366 , 33.79975225),\n",
      "       (-109.88743768, 32.93271631)],\n",
      "      dtype=[('longitude', '<f8'), ('latitude', '<f8')]), array([4001, 4003, 4005, 4007, 4009]), array([[1.3906e+04, 2.8560e+03, 4.3400e+02, 8.0000e+00],\n",
      "       [7.3548e+04, 3.0196e+04, 4.6970e+03, 3.2600e+02],\n",
      "       [7.4746e+04, 1.1124e+04, 1.8740e+03, 2.6300e+02],\n",
      "       [3.3852e+04, 8.2250e+03, 3.3900e+02, 4.5000e+01],\n",
      "       [1.9337e+04, 9.4830e+03, 7.2400e+02, 5.8000e+01]]), array([[31757],\n",
      "       [45075],\n",
      "       [50234],\n",
      "       [39751],\n",
      "       [45964]]), array([[ 72124.],\n",
      "       [129647.],\n",
      "       [136701.],\n",
      "       [ 53165.],\n",
      "       [ 37407.]])]\n"
     ]
    }
   ],
   "source": [
    "values = [geo.__getitem__('label')[:5],\n",
    "          geo.__getitem__('population')[:5],\n",
    "          geo.__getitem__('population_by_age')[:5],\n",
    "          geo.__getitem__('centroid')[:5],\n",
    "          geo.__getitem__('geoid')[:5],\n",
    "          geo.__getitem__('dissimilarity_index')[:5],\n",
    "          geo.__getitem__('median_income')[:5],\n",
    "          geo.__getitem__('pop_density_km2')[:5]]\n",
    "\n",
    "print(values)"
   ]
  },
  {
   "cell_type": "code",
   "execution_count": 1,
   "metadata": {},
   "outputs": [],
   "source": [
    "from epymorph.geo.geo import GEOSpec, AttribDef\n",
    "from epymorph.geo.adrio.census.adrio_census import Granularity\n",
    "from epymorph.geo import CentroidDType\n",
    "import numpy as np\n",
    "\n",
    "pei = GEOSpec('pei', \n",
    "              AttribDef('name', np.str_),\n",
    "             [AttribDef('population', np.int64),\n",
    "              AttribDef('geoid', np.int64),\n",
    "              AttribDef('centroid', CentroidDType),\n",
    "              AttribDef('commuters', np.int64)],\n",
    "              Granularity.STATE.value,\n",
    "              {'state': ['12', '13', '45', '37', '51', '24'], 'county': ['*'], 'tract': ['*'], 'block group': ['*']},\n",
    "              2015, 'Dynamic',\n",
    "              {'name': 'Census', 'population': 'Census', 'geoid': 'Census', 'centroid': 'Census',\n",
    "               'commuters': 'Census'})"
   ]
  },
  {
   "cell_type": "code",
   "execution_count": 2,
   "metadata": {},
   "outputs": [],
   "source": [
    "from epymorph.geo.geo import DynamicGeo\n",
    "\n",
    "geo = DynamicGeo(pei)"
   ]
  },
  {
   "cell_type": "code",
   "execution_count": 3,
   "metadata": {},
   "outputs": [
    {
     "name": "stdout",
     "output_type": "stream",
     "text": [
      "[array([['Florida'],\n",
      "       ['Georgia'],\n",
      "       ['Maryland'],\n",
      "       ['North Carolina'],\n",
      "       ['South Carolina']], dtype='<U14'), array([[19645772],\n",
      "       [10006693],\n",
      "       [ 5930538],\n",
      "       [ 9845333],\n",
      "       [ 4777576]]), array([(-82.4974766 , 28.62843614), (-83.44633796, 32.64922284),\n",
      "       (-76.77245239, 39.03691447), (-79.37236353, 35.54153174),\n",
      "       (-80.89611244, 33.90795316)],\n",
      "      dtype=[('longitude', '<f8'), ('latitude', '<f8')]), array([12, 13, 24, 37, 45]), array([[8329464,   12995,    2145,    3659,    1874,    2271],\n",
      "       [  15309, 4219887,     770,    5502,   20877,    1533],\n",
      "       [    820,     525, 1987903,     902,     142,  101643],\n",
      "       [   3142,    6249,    1526, 4251623,   41999,    9564],\n",
      "       [   1476,   24861,     424,   67325, 1955631,     895]])]\n"
     ]
    }
   ],
   "source": [
    "values = [geo.__getitem__('label')[:5],\n",
    "          geo.__getitem__('population')[:5],\n",
    "          geo.__getitem__('centroid')[:5],\n",
    "          geo.__getitem__('geoid')[:5],\n",
    "          geo.__getitem__('commuters')[:5]]\n",
    "\n",
    "print(values)"
   ]
  }
 ],
 "metadata": {
  "kernelspec": {
   "display_name": ".venv",
   "language": "python",
   "name": "python3"
  },
  "language_info": {
   "codemirror_mode": {
    "name": "ipython",
    "version": 3
   },
   "file_extension": ".py",
   "mimetype": "text/x-python",
   "name": "python",
   "nbconvert_exporter": "python",
   "pygments_lexer": "ipython3",
   "version": "3.11.0rc1"
  },
  "orig_nbformat": 4
 },
 "nbformat": 4,
 "nbformat_minor": 2
}
