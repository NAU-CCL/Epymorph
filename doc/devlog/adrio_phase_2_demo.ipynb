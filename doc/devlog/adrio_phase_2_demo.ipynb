{
 "cells": [
  {
   "cell_type": "code",
   "execution_count": 1,
   "metadata": {},
   "outputs": [],
   "source": [
    "from epymorph.geo.geo import GEOSpec, AttribDef\n",
    "from epymorph.geo.common import CentroidDType\n",
    "from epymorph.geo.adrio.census.adrio_census import Granularity\n",
    "import numpy as np\n",
    "\n",
    "spec = GEOSpec(\n",
    "    id='us_sw_counties_2015',\n",
    "    attributes=[\n",
    "        AttribDef('label', np.str_),\n",
    "        AttribDef('population', np.int64),\n",
    "        AttribDef('population_by_age', np.int64),\n",
    "        AttribDef('centroid', CentroidDType),\n",
    "        AttribDef('geoid', np.int64),\n",
    "        AttribDef('dissimilarity_index', np.float64),\n",
    "        AttribDef('median_income', np.int64),\n",
    "        AttribDef('pop_density_km2', np.float64)\n",
    "    ],\n",
    "    granularity=Granularity.COUNTY.value,\n",
    "    nodes={\n",
    "        'state': ['04', '08', '49', '35', '32'],\n",
    "        'county': ['*'],\n",
    "        'tract': ['*'],\n",
    "        'block group': ['*']\n",
    "    },\n",
    "    year=2015,\n",
    "    type='Dynamic',\n",
    "    source={\n",
    "        'label': 'Census:name',\n",
    "        'population': 'Census',\n",
    "        'population_by_age': 'Census',\n",
    "        'centroid': 'Census',\n",
    "        'geoid': 'Census',\n",
    "        'dissimilarity_index': 'Census',\n",
    "        'median_income': 'Census',\n",
    "        'pop_density_km2': 'Census'\n",
    "    }\n",
    ")\n"
   ]
  },
  {
   "cell_type": "code",
   "execution_count": 2,
   "metadata": {},
   "outputs": [],
   "source": [
    "from epymorph.geo.adrio.census.adrio_census import ADRIOMakerCensus\n",
    "\n",
    "\n",
    "maker = ADRIOMakerCensus()\n",
    "df = maker.fetch_acs5(\n",
    "    maker.attrib_vars['population'],\n",
    "    granularity=spec.granularity,\n",
    "    nodes=spec.nodes,\n",
    "    year=spec.year\n",
    ")\n"
   ]
  },
  {
   "cell_type": "code",
   "execution_count": 3,
   "metadata": {},
   "outputs": [],
   "source": [
    "from epymorph.geo.dynamic import DynamicGeo\n",
    "\n",
    "geo = DynamicGeo(spec)\n"
   ]
  },
  {
   "cell_type": "code",
   "execution_count": 4,
   "metadata": {},
   "outputs": [
    {
     "name": "stdout",
     "output_type": "stream",
     "text": [
      "[array(['04001', '04003', '04005', '04007', '04009'], dtype='<U5'), array([ 72124, 129647, 136701,  53165,  37407]), array([[ 22828,  39037,  10358],\n",
      "       [ 54262, 110146,  37560],\n",
      "       [ 88450, 196566,  53745],\n",
      "       [100071, 223219,  68724],\n",
      "       [111157, 244490,  73871]]), array([(-109.488846  , 35.39561637), (-109.75114065, 31.87956519),\n",
      "       (-111.77051224, 35.83872946), (-110.8117366 , 33.79975225),\n",
      "       (-109.88743768, 32.93271631)],\n",
      "      dtype=[('longitude', '<f8'), ('latitude', '<f8')]), array([4001, 4003, 4005, 4007, 4009]), array([[1.3906e+04, 2.8560e+03, 4.3400e+02, 8.0000e+00],\n",
      "       [7.3548e+04, 3.0196e+04, 4.6970e+03, 3.2600e+02],\n",
      "       [7.4746e+04, 1.1124e+04, 1.8740e+03, 2.6300e+02],\n",
      "       [3.3852e+04, 8.2250e+03, 3.3900e+02, 4.5000e+01],\n",
      "       [1.9337e+04, 9.4830e+03, 7.2400e+02, 5.8000e+01]]), array([31757, 45075, 50234, 39751, 45964]), array([ 72124., 129647., 136701.,  53165.,  37407.])]\n"
     ]
    }
   ],
   "source": [
    "values = [geo['label'][:5],\n",
    "          geo['population'][:5],\n",
    "          geo['population_by_age'][:5],\n",
    "          geo['centroid'][:5],\n",
    "          geo['geoid'][:5],\n",
    "          geo['dissimilarity_index'][:5],\n",
    "          geo['median_income'][:5],\n",
    "          geo['pop_density_km2'][:5]]\n",
    "\n",
    "print(values)\n"
   ]
  },
  {
   "cell_type": "code",
   "execution_count": 5,
   "metadata": {},
   "outputs": [],
   "source": [
    "from epymorph.geo.geo import GEOSpec, AttribDef\n",
    "from epymorph.geo.adrio.census.adrio_census import Granularity\n",
    "from epymorph.geo.common import CentroidDType\n",
    "import numpy as np\n",
    "\n",
    "pei = GEOSpec(\n",
    "    id='pei',\n",
    "    attributes=[\n",
    "        AttribDef('label', np.str_),\n",
    "        AttribDef('population', np.int64),\n",
    "        AttribDef('geoid', np.int64),\n",
    "        AttribDef('centroid', CentroidDType),\n",
    "        AttribDef('commuters', np.int64)\n",
    "    ],\n",
    "    granularity=Granularity.STATE.value,\n",
    "    nodes={\n",
    "        'state': ['12', '13', '45', '37', '51', '24'],\n",
    "        'county': ['*'],\n",
    "        'tract': ['*'],\n",
    "        'block group': ['*']\n",
    "    },\n",
    "    year=2015,\n",
    "    type='Dynamic',\n",
    "    source={\n",
    "        'label': 'Census:name',\n",
    "        'population': 'Census',\n",
    "        'geoid': 'Census',\n",
    "        'centroid': 'Census',\n",
    "        'commuters': 'Census'\n",
    "    }\n",
    ")\n"
   ]
  },
  {
   "cell_type": "code",
   "execution_count": 6,
   "metadata": {},
   "outputs": [],
   "source": [
    "from epymorph.geo.dynamic import DynamicGeo\n",
    "\n",
    "geo = DynamicGeo(pei)\n"
   ]
  },
  {
   "cell_type": "code",
   "execution_count": 7,
   "metadata": {},
   "outputs": [
    {
     "name": "stdout",
     "output_type": "stream",
     "text": [
      "[array(['12', '13', '24', '37', '45'], dtype='<U2'), array([19645772, 10006693,  5930538,  9845333,  4777576]), array([(-82.4974766 , 28.62843614), (-83.44633796, 32.64922284),\n",
      "       (-76.77245239, 39.03691447), (-79.37236353, 35.54153174),\n",
      "       (-80.89611244, 33.90795316)],\n",
      "      dtype=[('longitude', '<f8'), ('latitude', '<f8')]), array([12, 13, 24, 37, 45]), array([[8329464,   12995,    2145,    3659,    1874,    2271],\n",
      "       [  15309, 4219887,     770,    5502,   20877,    1533],\n",
      "       [    820,     525, 1987903,     902,     142,  101643],\n",
      "       [   3142,    6249,    1526, 4251623,   41999,    9564],\n",
      "       [   1476,   24861,     424,   67325, 1955631,     895]])]\n"
     ]
    }
   ],
   "source": [
    "values = [geo['label'][:5],\n",
    "          geo['population'][:5],\n",
    "          geo['centroid'][:5],\n",
    "          geo['geoid'][:5],\n",
    "          geo['commuters'][:5]]\n",
    "\n",
    "print(values)\n"
   ]
  }
 ],
 "metadata": {
  "kernelspec": {
   "display_name": ".venv",
   "language": "python",
   "name": "python3"
  },
  "language_info": {
   "codemirror_mode": {
    "name": "ipython",
    "version": 3
   },
   "file_extension": ".py",
   "mimetype": "text/x-python",
   "name": "python",
   "nbconvert_exporter": "python",
   "pygments_lexer": "ipython3",
   "version": "3.11.5"
  },
  "orig_nbformat": 4
 },
 "nbformat": 4,
 "nbformat_minor": 2
}
