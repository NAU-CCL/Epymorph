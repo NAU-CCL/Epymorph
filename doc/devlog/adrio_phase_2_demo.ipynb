{
 "cells": [
  {
   "cell_type": "code",
   "execution_count": null,
   "metadata": {},
   "outputs": [],
   "source": [
    "from epymorph.geo import GEOSpec, AttribDef, CentroidDType\n",
    "from epymorph.adrio.census.adrio_census import Granularity\n",
    "import numpy as np\n",
    "\n",
    "spec = GEOSpec('us_sw_counties_2015', \n",
    "                  AttribDef('name', np.str_),\n",
    "                 [AttribDef('population', np.int64),\n",
    "                  AttribDef('population_by_age', np.int64),\n",
    "                  AttribDef('centroid', CentroidDType),\n",
    "                  AttribDef('geoid', np.int64),\n",
    "                  AttribDef('dissimilarity_index', np.float64),\n",
    "                  AttribDef('median_income', np.int64),\n",
    "                  AttribDef('pop_density_km2', np.float64)],\n",
    "                  Granularity.COUNTY.value,\n",
    "                  {'state': ['04','08','49','35','32'], 'county': ['*'], 'tract': ['*'], 'block group': ['*']},\n",
    "                  2015, 'Dynamic',\n",
    "                  {'name': 'Census', 'population': 'Census', 'population_by_age': 'Census', 'centroid': 'Census',\n",
    "                   'geoid': 'Census', 'dissimilarity_index': 'Census', 'median_income': 'Census', 'pop_density_mk2': 'Census'})"
   ]
  },
  {
   "cell_type": "code",
   "execution_count": null,
   "metadata": {},
   "outputs": [],
   "source": [
    "from epymorph.geo import DynamicGeo\n",
    "\n",
    "geo = DynamicGeo(spec)"
   ]
  }
 ],
 "metadata": {
  "kernelspec": {
   "display_name": ".venv",
   "language": "python",
   "name": "python3"
  },
  "language_info": {
   "codemirror_mode": {
    "name": "ipython",
    "version": 3
   },
   "file_extension": ".py",
   "mimetype": "text/x-python",
   "name": "python",
   "nbconvert_exporter": "python",
   "pygments_lexer": "ipython3",
   "version": "3.11.0rc1"
  },
  "orig_nbformat": 4
 },
 "nbformat": 4,
 "nbformat_minor": 2
}
