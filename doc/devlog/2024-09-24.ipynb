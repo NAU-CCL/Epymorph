{
 "cells": [
  {
   "cell_type": "markdown",
   "metadata": {},
   "source": [
    "# devlog 2024-09-24\n",
    "\n",
    "_Author: Tyler Coles_\n",
    "\n",
    "We recently added a framework for ADRIOs to report network activity during the fetching of data.\n",
    "\n",
    "While we don't have an ADRIO that uses this yet, it's easy enough to mock-up a simulated download just to see what the messaging looks like. (Of course you'll want to run it yourself to get the full effect.)"
   ]
  },
  {
   "cell_type": "code",
   "execution_count": 1,
   "metadata": {},
   "outputs": [
    {
     "name": "stdout",
     "output_type": "stream",
     "text": [
      "Loading __main__.SimulateDownloadN:\n",
      "  |####################| 100%  (26.512s)                 \n",
      "Running simulation (BasicSimulator):\n",
      "• 2015-01-01 to 2016-01-01 (365 days)\n",
      "• 48 geo nodes\n",
      "  |####################| 100% \n",
      "Runtime: 1.608s\n"
     ]
    }
   ],
   "source": [
    "from math import floor\n",
    "from time import sleep\n",
    "from epymorph import *\n",
    "from epymorph.adrio.adrio import Adrio\n",
    "from epymorph.data.ipm.sirs import Sirs\n",
    "from epymorph.data.mm.no import No\n",
    "from epymorph.event import DownloadActivity\n",
    "from epymorph.geography.us_census import CountyScope\n",
    "import numpy as np\n",
    "\n",
    "\n",
    "class SimulateDownloadN(Adrio[np.int64]):\n",
    "    \"\"\"Let's pretend like we're downloading something!\"\"\"\n",
    "\n",
    "    def evaluate_adrio(self):\n",
    "        N = self.dim.nodes  # number of nodes in scope\n",
    "        S = 1_000_000  # file size: 1 MB per node\n",
    "\n",
    "        # pre-computing all of the wait times is easier\n",
    "        waits = self.rng.lognormal(mean=1, sigma=0.2, size=N) / 5\n",
    "\n",
    "        # sleep for a bit and then report some progress\n",
    "        for i in range(N):\n",
    "            sleep(waits[i])\n",
    "            download = DownloadActivity(\n",
    "                total=N * S,\n",
    "                downloaded=i * S,\n",
    "                download_speed=floor(S / waits[i]),\n",
    "            )\n",
    "            self.progress((i + 1) / N, download)\n",
    "\n",
    "        # but our actual return value is just N fixed numbers\n",
    "        return np.full(shape=N, fill_value=100_000)\n",
    "\n",
    "\n",
    "rume = SingleStrataRume.build(\n",
    "    ipm=Sirs(),\n",
    "    mm=No(),\n",
    "    init=init.SingleLocation(location=0, seed_size=100),\n",
    "    scope=CountyScope.in_states_by_code([\"AZ\", \"NM\"], year=2015),\n",
    "    time_frame=TimeFrame.year(2015),\n",
    "    params={\n",
    "        \"ipm::beta\": 0.4,\n",
    "        \"ipm::gamma\": 1 / 5,\n",
    "        \"ipm::xi\": 1 / 90,\n",
    "        \"mm::phi\": 40.0,\n",
    "        \"population\": SimulateDownloadN(),\n",
    "    },\n",
    ")\n",
    "\n",
    "with sim_messaging():\n",
    "    BasicSimulator(rume).run()"
   ]
  }
 ],
 "metadata": {
  "kernelspec": {
   "display_name": ".venv",
   "language": "python",
   "name": "python3"
  },
  "language_info": {
   "codemirror_mode": {
    "name": "ipython",
    "version": 3
   },
   "file_extension": ".py",
   "mimetype": "text/x-python",
   "name": "python",
   "nbconvert_exporter": "python",
   "pygments_lexer": "ipython3",
   "version": "3.11.10"
  }
 },
 "nbformat": 4,
 "nbformat_minor": 2
}
