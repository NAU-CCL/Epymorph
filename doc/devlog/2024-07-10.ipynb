{
 "cells": [
  {
   "cell_type": "markdown",
   "metadata": {},
   "source": [
    "# devlog 2024-07-10\n",
    "\n",
    "_author: Trevor Johnson_\n",
    "\n",
    "Integration test for Census ADRIOs. This notebook ensures that Census data attributes are being fetched correctly by evaluating:\n",
    "- Attribute shape\n",
    "- Attribute data type\n",
    "- Attribute values\n",
    "- Attribute sort order"
   ]
  },
  {
   "cell_type": "code",
   "execution_count": 1,
   "metadata": {},
   "outputs": [
    {
     "name": "stdout",
     "output_type": "stream",
     "text": [
      "Loading epymorph.adrio.acs5.Population:\n",
      "  |####################| 100%  (1.293s)\n",
      "ACS5 attribute validation passed.\n",
      "\n",
      "Loading epymorph.adrio.us_tiger.GeometricCentroid:\n",
      "  |####################| 100%  (7.969s)\n",
      "Shapefile attribute validation passed.\n",
      "\n",
      "Loading epymorph.adrio.commuting_flows.Commuters:\n",
      "  |####################| 100%  (6.335s)\n",
      "Commuting flows attribute validation passed.\n",
      "\n"
     ]
    }
   ],
   "source": [
    "import numpy as np\n",
    "\n",
    "from epymorph import *\n",
    "from epymorph.adrio import acs5, commuting_flows, us_tiger\n",
    "from epymorph.data_shape import SimDimensions\n",
    "from epymorph.data_type import CentroidDType\n",
    "from epymorph.geography.us_census import CountyScope\n",
    "from epymorph.util import check_ndarray, match\n",
    "\n",
    "\n",
    "# Create a basic evaluation context\n",
    "scope = CountyScope.in_counties(\n",
    "    [\"04001\", \"04003\", \"04005\", \"04013\", \"04017\"],\n",
    "    year=2020,\n",
    ")\n",
    "time = TimeFrame.year(2020)\n",
    "dim = SimDimensions.build(\n",
    "    nodes=scope.nodes,\n",
    "    start_date=time.start_date,\n",
    "    days=time.duration_days,\n",
    "    tau_step_lengths=[1.0],\n",
    "    compartments=1,\n",
    "    events=0,\n",
    ")\n",
    "context = {\"scope\": scope, \"dim\": dim}\n",
    "\n",
    "\n",
    "# Population\n",
    "with sim_messaging():\n",
    "    # values retrieved manually from Census table B01001\n",
    "    pop_expected = [71714, 126442, 142254, 4412779, 110271]\n",
    "\n",
    "    pop_actual = acs5.Population().with_context(**context).evaluate()\n",
    "\n",
    "    check_ndarray(pop_actual, dtype=match.dtype(int))\n",
    "\n",
    "    if np.array_equal(pop_expected, pop_actual):\n",
    "        print(\"ACS5 attribute validation passed.\\n\")\n",
    "    else:\n",
    "        print(\"ACS5 attribute validation FAILED.\\n\")\n",
    "\n",
    "\n",
    "# Centroids\n",
    "with sim_messaging():\n",
    "    # values calculated manually using polygon centroid formula\n",
    "    # applied to TIGRIS shapefile polygons\n",
    "    centroid_expected = np.array(\n",
    "        [\n",
    "            (-109.48884962248498, 35.39552879677974),\n",
    "            (-109.75126313676874, 31.87963708630415),\n",
    "            (-111.77052095609857, 35.838724829519194),\n",
    "            (-112.49151143850366, 33.349039435609264),\n",
    "            (-110.32141934757458, 35.39955033687498),\n",
    "        ],\n",
    "        dtype=CentroidDType,\n",
    "    )\n",
    "\n",
    "    centroid_actual = us_tiger.GeometricCentroid().with_context(**context).evaluate()\n",
    "\n",
    "    check_ndarray(centroid_actual, dtype=match.dtype(CentroidDType))\n",
    "\n",
    "    if np.allclose(\n",
    "        centroid_expected[\"latitude\"],\n",
    "        centroid_actual[\"latitude\"],\n",
    "    ) and np.allclose(\n",
    "        centroid_expected[\"longitude\"],\n",
    "        centroid_actual[\"longitude\"],\n",
    "    ):\n",
    "        print(\"Shapefile attribute validation passed.\\n\")\n",
    "    else:\n",
    "        print(\"Shapefile attribute validation FAILED.\\n\")\n",
    "\n",
    "\n",
    "# Commuters\n",
    "with sim_messaging():\n",
    "    # values retrieved manually from ACS commuting flows table1 for 2020\n",
    "    commuters_expected = [\n",
    "        [14190, 0, 149, 347, 1668],\n",
    "        [0, 43820, 32, 160, 5],\n",
    "        [99, 17, 59440, 1160, 525],\n",
    "        [22, 52, 757, 2059135, 240],\n",
    "        [706, 14, 1347, 592, 30520],\n",
    "    ]\n",
    "\n",
    "    commuters_actual = commuting_flows.Commuters().with_context(**context).evaluate()\n",
    "\n",
    "    check_ndarray(commuters_actual, dtype=match.dtype(int))\n",
    "\n",
    "    if np.array_equal(commuters_expected, commuters_actual):\n",
    "        print(\"Commuting flows attribute validation passed.\\n\")\n",
    "    else:\n",
    "        print(\"Commuting flows attribute validation FAILED.\\n\")"
   ]
  },
  {
   "cell_type": "markdown",
   "metadata": {},
   "source": [
    "## Aside: calculating expected centroids\n",
    "\n",
    "The following cells caclulate geographic centroids from shapefiles and compare the result to values calculated by shapely."
   ]
  },
  {
   "cell_type": "code",
   "execution_count": 2,
   "metadata": {},
   "outputs": [],
   "source": [
    "from geopandas import read_file\n",
    "\n",
    "# load in shapefile data for use in centroid caclulations\n",
    "gdf = read_file(\n",
    "    \"https://www2.census.gov/geo/tiger/TIGER2020/COUNTY/tl_2020_us_county.zip\",\n",
    "    engine=\"fiona\",\n",
    "    ignore_geometry=False,\n",
    "    include_fields=[\"GEOID\", \"STUSPS\"],\n",
    ")\n",
    "gdf = gdf[gdf[\"GEOID\"].isin(scope.node_ids)]\n",
    "gdf = gdf.sort_values(by=\"GEOID\")"
   ]
  },
  {
   "cell_type": "code",
   "execution_count": 3,
   "metadata": {},
   "outputs": [
    {
     "name": "stdout",
     "output_type": "stream",
     "text": [
      "[(-109.48884962242164, 35.395528796753005), (-109.75126313669315, 31.87963708628258), (-111.77052095590304, 35.83872482945673), (-112.49151143850068, 33.34903943560914), (-110.32141934752828, 35.39955033686066)]\n"
     ]
    }
   ],
   "source": [
    "# centroids as calculated by shapely's centroid property (for reference)\n",
    "centroids = [x.centroid.coords[0] for x in gdf[\"geometry\"]]\n",
    "print(centroids)"
   ]
  },
  {
   "cell_type": "code",
   "execution_count": 4,
   "metadata": {},
   "outputs": [
    {
     "name": "stdout",
     "output_type": "stream",
     "text": [
      "[(-109.48884962248498, 35.39552879677974), (-109.75126313676874, 31.87963708630415), (-111.77052095609857, 35.838724829519194), (-112.49151143850366, 33.349039435609264), (-110.32141934757458, 35.39955033687498)]\n"
     ]
    }
   ],
   "source": [
    "# calculate centroids manually using polygon centroid formula https://en.wikipedia.org/wiki/Centroid#Of_a_polygon\n",
    "centroids = []\n",
    "for county in gdf[\"geometry\"]:\n",
    "    total = 0.0\n",
    "    coords = list(county.exterior.coords)\n",
    "    for point in range(len(coords) - 1):\n",
    "        total += (coords[point][0] * coords[point + 1][1]) - (\n",
    "            coords[point + 1][0] * coords[point][1]\n",
    "        )\n",
    "\n",
    "    a = total * 0.5\n",
    "\n",
    "    xsum = 0.0\n",
    "    ysum = 0.0\n",
    "    for point in range(len(coords) - 1):\n",
    "        xsum += (coords[point][0] + coords[point + 1][0]) * (\n",
    "            (coords[point][0] * coords[point + 1][1])\n",
    "            - (coords[point + 1][0] * coords[point][1])\n",
    "        )\n",
    "        ysum += (coords[point][1] + coords[point + 1][1]) * (\n",
    "            (coords[point][0] * coords[point + 1][1])\n",
    "            - (coords[point + 1][0] * coords[point][1])\n",
    "        )\n",
    "\n",
    "    cx = (1 / (6 * a)) * xsum\n",
    "    cy = (1 / (6 * a)) * ysum\n",
    "\n",
    "    centroids.append((cx, cy))\n",
    "\n",
    "print(centroids)"
   ]
  }
 ],
 "metadata": {
  "kernelspec": {
   "display_name": ".venv",
   "language": "python",
   "name": "python3"
  },
  "language_info": {
   "codemirror_mode": {
    "name": "ipython",
    "version": 3
   },
   "file_extension": ".py",
   "mimetype": "text/x-python",
   "name": "python",
   "nbconvert_exporter": "python",
   "pygments_lexer": "ipython3",
   "version": "3.11.10"
  }
 },
 "nbformat": 4,
 "nbformat_minor": 2
}
