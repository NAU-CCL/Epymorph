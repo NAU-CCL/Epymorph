{
 "cells": [
  {
   "cell_type": "markdown",
   "metadata": {},
   "source": [
    "# devlog 2024-07-10\n",
    "\n",
    "_author: Trevor Johnson_\n",
    "\n",
    "Integration test for Census ADRIOs. This notebook ensures that Census data attributes are being fetched correctly by evaluating:\n",
    "- Attribute shape\n",
    "- Attribute data type\n",
    "- Attribute sort order\n",
    "\n",
    "Sorting is evaluated by creating indivdual ADRIOs to fetch each attribute one county at a time in fips order and concatenating the result into a list to ensure the correct sort, then constructing a geo with all attributes and all of the individually fetched counties and comparing the outputs of each. "
   ]
  },
  {
   "cell_type": "code",
   "execution_count": null,
   "metadata": {},
   "outputs": [],
   "source": [
    "from epymorph.data_shape import Shapes\n",
    "from epymorph.geo.adrio.census.adrio_census import ADRIOMakerCensus\n",
    "from epymorph.geo.spec import Year\n",
    "from epymorph.geography.us_census import CountyScope\n",
    "from epymorph.simulation import geo_attrib\n",
    "\n",
    "maker = ADRIOMakerCensus()\n",
    "attributes = maker.attributes\n",
    "\n",
    "# tract median income is not available for county granularity\n",
    "attributes.remove(geo_attrib('tract_median_income', dtype=int, shape=Shapes.N,\n",
    "                             comment='The median income according to the Census Tract which encloses this place.'\n",
    "                             'This attribute is only valid if the geo granularity is below tract.'))\n",
    "# commuters cannot be retrieved one node at a time\n",
    "attributes.remove(geo_attrib('commuters', dtype=int, shape=Shapes.NxN,\n",
    "                             comment='The number of commuters between places, as reported by the ACS Commuting Flows data.'),)\n",
    "\n",
    "geoids = ['04001', '04003', '04005', '04013', '04017']\n",
    "\n",
    "# build 2d list of all attributes by fetching one county at a time in fips order, ensuring correct sort\n",
    "truth = [[maker.make_adrio(attribute, CountyScope.in_counties([county]), Year(\n",
    "    2020)).get_value().tolist() for county in geoids] for attribute in attributes]"
   ]
  },
  {
   "cell_type": "code",
   "execution_count": null,
   "metadata": {},
   "outputs": [],
   "source": [
    "from epymorph.data_shape import Shapes\n",
    "from epymorph.data_type import CentroidDType\n",
    "from epymorph.geo.adrio import adrio_maker_library\n",
    "from epymorph.geo.dynamic import DynamicGeo\n",
    "from epymorph.geo.spec import DynamicGeoSpec\n",
    "from epymorph.simulation import geo_attrib\n",
    "\n",
    "spec = DynamicGeoSpec(\n",
    "    attributes=[\n",
    "        geo_attrib('label', str, Shapes.N),\n",
    "        # duplicate name field so that it can be accessed by enumeration below\n",
    "        geo_attrib('name', str, Shapes.N),\n",
    "        geo_attrib('population', int, Shapes.N),\n",
    "        geo_attrib('population_by_age', int, Shapes.NxA(3)),\n",
    "        geo_attrib('population_by_age_x6', int, Shapes.NxA(6)),\n",
    "        geo_attrib('centroid', CentroidDType, Shapes.N),\n",
    "        geo_attrib('geoid', str, Shapes.N),\n",
    "        geo_attrib('average_household_size', int, Shapes.N),\n",
    "        geo_attrib('dissimilarity_index', float, Shapes.N),\n",
    "        geo_attrib('gini_index', float, Shapes.N),\n",
    "        geo_attrib('median_age', int, Shapes.N),\n",
    "        geo_attrib('median_income', int, Shapes.N),\n",
    "        geo_attrib('pop_density_km2', float, Shapes.N)\n",
    "    ],\n",
    "    time_period=Year(2020),\n",
    "    scope=CountyScope.in_counties(['04001', '04003', '04005', '04013', '04017']),\n",
    "    source={\n",
    "        'label': 'Census:name',\n",
    "        'name': 'Census',\n",
    "        'population': 'Census',\n",
    "        'population_by_age': 'Census',\n",
    "        'population_by_age_x6': 'Census',\n",
    "        'centroid': 'Census',\n",
    "        'geoid': 'Census',\n",
    "        'average_household_size': 'Census',\n",
    "        'dissimilarity_index': 'Census',\n",
    "        'gini_index': 'Census',\n",
    "        'median_age': 'Census',\n",
    "        'median_income': 'Census',\n",
    "        'pop_density_km2': 'Census',\n",
    "    }\n",
    ")\n",
    "\n",
    "geo = DynamicGeo.from_library(spec, adrio_maker_library)"
   ]
  },
  {
   "cell_type": "code",
   "execution_count": 9,
   "metadata": {},
   "outputs": [
    {
     "name": "stdout",
     "output_type": "stream",
     "text": [
      "Sort test passed.\n"
     ]
    }
   ],
   "source": [
    "from numpy import array_equal\n",
    "\n",
    "geo.validate()\n",
    "\n",
    "enum = enumerate(attributes)\n",
    "\n",
    "if all(array_equal(truth[attribute[0]], geo[attribute[1].name].tolist()) for attribute in enum):\n",
    "    print(\"Sort test passed.\")\n",
    "else:\n",
    "    print(\"Sort test failed.\")"
   ]
  }
 ],
 "metadata": {
  "kernelspec": {
   "display_name": ".venv",
   "language": "python",
   "name": "python3"
  },
  "language_info": {
   "codemirror_mode": {
    "name": "ipython",
    "version": 3
   },
   "file_extension": ".py",
   "mimetype": "text/x-python",
   "name": "python",
   "nbconvert_exporter": "python",
   "pygments_lexer": "ipython3",
   "version": "3.11.0"
  }
 },
 "nbformat": 4,
 "nbformat_minor": 2
}
