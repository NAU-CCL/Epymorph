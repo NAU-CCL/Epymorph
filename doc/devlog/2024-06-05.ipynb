{
 "cells": [
  {
   "cell_type": "markdown",
   "metadata": {},
   "source": [
    "# 2024/06/05 LODES User Manual\n",
    "_Author: Meaghan Freund_\n",
    "\n",
    "Queries and uses of the LODES ADRIO Template\n",
    "\n",
    "Set up for the LODES call, users are able to change the call depending on which states or further granularities they specifically want to  see\n",
    "\n",
    "**CHANGE FOR GEOSCOPES PENDING**"
   ]
  },
  {
   "cell_type": "code",
   "execution_count": null,
   "metadata": {
    "vscode": {
     "languageId": "plaintext"
    }
   },
   "outputs": [],
   "source": [
    "from epymorph.data_shape import Shapes\n",
    "from epymorph.data_type import CentroidDType\n",
    "from epymorph.geo.adrio.census.adrio_census import CensusGeography, Granularity\n",
    "from epymorph.geo.spec import DynamicGeoSpec, Year, attrib\n",
    "\n",
    "spec = DynamicGeoSpec(\n",
    "    attributes=[\n",
    "        attrib('label', dtype=str, shape=Shapes.N),\n",
    "        attrib('population', dtype=int, shape=Shapes.N),\n",
    "        attrib('population_by_age', dtype=int, shape=Shapes.NxA(3)),\n",
    "        attrib('centroid', dtype=CentroidDType, shape=Shapes.N),\n",
    "        attrib('geoid', dtype=str, shape=Shapes.N),\n",
    "        attrib('dissimilarity_index', dtype=float, shape=Shapes.N),\n",
    "        attrib('median_income', dtype=int, shape=Shapes.N),\n",
    "        attrib('pop_density_km2', dtype=float, shape=Shapes.N),\n",
    "        attrib('commuters', dtype=int, shape=Shapes.NxN),\n",
    "    ],\n",
    "    time_period=Year(2015),\n",
    "    geography=CensusGeography(granularity=Granularity.COUNTY, filter={\n",
    "        'state': ['04', '08', '49', '35', '32'],\n",
    "        'county': ['*'],\n",
    "        'tract': ['*'],\n",
    "        'block group': ['*']\n",
    "    }),\n",
    "    source={\n",
    "        'label': 'Census:name',\n",
    "        'population': 'Census',\n",
    "        'population_by_age': 'Census',\n",
    "        'centroid': 'Census',\n",
    "        'geoid': 'Census',\n",
    "        'dissimilarity_index': 'Census',\n",
    "        'median_income': 'Census',\n",
    "        'pop_density_km2': 'Census',\n",
    "        'commuters': 'Census',\n",
    "    }\n",
    ")\n",
    "\n",
    "with open('./epymorph/data/geo/us_sw_counties_2015.geo', mode='w', encoding='utf-8') as f:\n",
    "    json = spec.serialize()\n",
    "    f.write(json)"
   ]
  },
  {
   "cell_type": "code",
   "execution_count": null,
   "metadata": {
    "vscode": {
     "languageId": "plaintext"
    }
   },
   "outputs": [],
   "source": [
    "from epymorph.geo.adrio import adrio_maker_library\n",
    "from epymorph.geo.dynamic import DynamicGeo\n",
    "\n",
    "geo = DynamicGeo.from_library(spec, adrio_maker_library)"
   ]
  },
  {
   "cell_type": "markdown",
   "metadata": {},
   "source": [
    "# Query Types\n",
    "\n",
    "The first and most general type of query "
   ]
  }
 ],
 "metadata": {
  "language_info": {
   "name": "python"
  }
 },
 "nbformat": 4,
 "nbformat_minor": 2
}
