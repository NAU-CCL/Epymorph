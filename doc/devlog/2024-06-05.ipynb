{
 "cells": [
  {
   "cell_type": "markdown",
   "metadata": {},
   "source": [
    "# 2024/06/05 LODES User Manual\n",
    "_Author: Meaghan Freund_\n",
    "\n",
    "### **Introduction**\n",
    "LODES (LEHD Origin-Destination Employment Statistics) is a collection of state-organized data files, owned by the U.S. Census Bureau and is a part of the LEHD (Longitudinal Employer-Household Data) program. The datasets are collected through LEHD Census data, which is made through combining previously collected survey and administrative data from participating states on jobs, businesses, and workers. \n",
    "\n",
    "### **Data Collection and Updates**\n",
    "\n",
    "LODES data is collected and mapped at the smallest geographic unit that the Census Bureau collects: blocks. This data is collected annually and updated regularly through new versions of LODES. The most recent version, LODES8, spans from 2002-2021 inclusively and maps all blocks with 2020 Census delineations, including blocks that were originally defined in past Census delineations, such as from the 2010 Census.\n",
    "\n",
    "### **Geographic Coverage**\n",
    "\n",
    "LODES covers 51 states in the U.S., including defining Washington D.C. as its own state, and territorial partners such as Puerto Rico and the Virgin Islands. However, in LODES8, Puerto Rico is the only territorial partner that is covered. Similarly, certain states do not have files in specific years that LODES provides. Some of the reasons can include a lack of availability of data for a state or a location not being in regular production for LODES.\n",
    "The current list of exceptions includes:\n",
    "- *2002*: Arkansas, Arizona, DC, Massachusetts, Mississippi, New Hampshire\n",
    "- *2003*: Arizona, DC, Massachusetts, Mississippi\n",
    "- *2004-2009*: DC, Massachusetts\n",
    "- *2010*: Massachusetts\n",
    "- *2017-2018*: Alaska\n",
    "- *2019-2021*: Alaska, Arkansas, Mississippi\n",
    "\n",
    "These intersections do lack information concerning other files within LODES, but for the ADRIO maker, these exceptions are omitted from the calls altogether.\n",
    "\n",
    "### **Data Files**\n",
    "\n",
    "Of the three files available in LODES (RAC, WAC, and OD) the ADRIO maker relies on the Origin-Destination files to map worker flows between residence and workplace locations through matrices. The Origin-Destination files provide the number of individuals who live in a specific home GEOID and commute to a corresponding work GEOID.\n",
    "\n",
    "### **Additional Resources**\n",
    "\n",
    "For more detailed information:\n",
    "- Visit the [LEHD Data Page](https://lehd.ces.census.gov/data/#lodes) on the Census Bureau's website concerning the LODES files.\n",
    "- Refer to the documentation for the most recent version, [LODES8.1](https://lehd.ces.census.gov/data/lodes/LODES8/LODESTechDoc8.1.pdf)."
   ]
  },
  {
   "cell_type": "markdown",
   "metadata": {},
   "source": [
    "### **Basic Queries**\n",
    "\n",
    "The Commuters and Geoid calls are two simple yet imperative queries that show the basic functionality of the LODES ADRIO maker. The Geoid query represents the GEOIDs that are involved with the commuter matrices. The input given by the user for the scope, in this case being states, is translated into a list of GEOIDs. The Commuters query shows the total number of workers moving from a home GEOID to a work GEOID as a matrix. The matrix is read so that the rows represent the residence GEOID and the columns are the work location GEOID."
   ]
  },
  {
   "cell_type": "code",
   "execution_count": 1,
   "metadata": {},
   "outputs": [
    {
     "name": "stdout",
     "output_type": "stream",
     "text": [
      "ADRIO data usage estimation:\n",
      "- epymorph.adrio.acs5.Population (no estimate available)\n",
      "- epymorph.adrio.lodes.Commuters will be pulled from cache\n",
      "In total we will:\n",
      "- Download no additional data\n",
      "- Write no new data to disk cache\n"
     ]
    }
   ],
   "source": [
    "import numpy as np\n",
    "\n",
    "from epymorph.geography.us_census import StateScope\n",
    "from epymorph import *\n",
    "from epymorph.adrio import acs5\n",
    "from epymorph.adrio import lodes\n",
    "from epymorph.data.ipm.no import No as NoIpm\n",
    "from epymorph.data.mm.no import No as NoMm\n",
    "\n",
    "\n",
    "state_scope = StateScope.in_states([\"AZ\", \"CO\", \"NV\", \"NM\"], 2020)\n",
    "time_period = 2015\n",
    "geoids = state_scope.node_ids\n",
    "\n",
    "commuters_adrio = lodes.Commuters(time_period)\n",
    "\n",
    "rume = SingleStrataRume.build(\n",
    "    ipm=NoIpm(),\n",
    "    mm=NoMm(),\n",
    "    init=init.NoInfection(),\n",
    "    scope=state_scope,\n",
    "    time_frame=TimeFrame.year(time_period),\n",
    "    params={\n",
    "        \"population\": acs5.Population(),\n",
    "        \"commuters\": commuters_adrio,\n",
    "    },\n",
    ")\n",
    "\n",
    "rume.estimate_data()"
   ]
  },
  {
   "cell_type": "code",
   "execution_count": 2,
   "metadata": {},
   "outputs": [
    {
     "name": "stdout",
     "output_type": "stream",
     "text": [
      "Loading epymorph.adrio.lodes.Commuters:\n",
      "  |####################| 100%  (7.113s)\n"
     ]
    }
   ],
   "source": [
    "with sim_messaging():\n",
    "    commuters = commuters_adrio.with_context(scope=state_scope).evaluate()"
   ]
  },
  {
   "cell_type": "code",
   "execution_count": 3,
   "metadata": {},
   "outputs": [
    {
     "name": "stdout",
     "output_type": "stream",
     "text": [
      "Home/Work GEOIDs:\n",
      " ['04' '08' '32' '35']\n",
      "\n",
      "Commuters Matrix:\n",
      " [[2550132    2582   13263    8100]\n",
      " [   1202 2405258     382    5557]\n",
      " [   3552     535 1179411     361]\n",
      " [   6813    4824     409  764244]]\n",
      "\n"
     ]
    }
   ],
   "source": [
    "print(f\"Home/Work GEOIDs:\\n {geoids}\\n\")\n",
    "\n",
    "print(f\"Commuters Matrix:\\n {commuters}\\n\")"
   ]
  },
  {
   "cell_type": "markdown",
   "metadata": {},
   "source": [
    "# Attributes\n",
    "\n",
    "The Commuters class outputs the total number of workers commuting, but LODES provides three categories for attributes specifying the type of workers: Age, Monthly Income, and Industry Sectors. Within each category, there are three ranges within them, and the sum of the ranges equals the total number of workers. All of these categories and the total commuters are displayed as NxN matrices of integers, excluding the Geoid query.\n",
    "\n",
    "## Age\n",
    "- '29 and Under'\n",
    "    -  Commuters that are ages 29 and under.\n",
    "- ''30_54'\n",
    "    -  Commuters that are between the ages of 30 and 54.\n",
    "- '55 and Over'\n",
    "    -  Commuters that are ages 55 and over.\n",
    "\n",
    "## Monthly Income\n",
    "- '$1250 and Under'\n",
    "    -  Commuters that earn $1250 and under per month.\n",
    "- '$1251_$3333'\n",
    "    -  Commuters that earn between $1251 and $3333 per month.\n",
    "- '$3333 and Over'\n",
    "    -  Commuters that earn over $3333 per month.\n",
    "\n",
    "## Industry Sector\n",
    "- 'Goods Producing'\n",
    "    -  Commuters that work in Goods Producing industry sectors.\n",
    "- 'Trade Transport Utility'\n",
    "    -  Commuters that work in Trade, Transportation, and Utility industry sectors.\n",
    "- 'Other'\n",
    "    -  Commuters that work under all other service industry sectors other than the above claimed industries.\n"
   ]
  },
  {
   "cell_type": "markdown",
   "metadata": {},
   "source": [
    "## Job Type\n",
    "Along with the above categories, LODES provides files detailing different job types and the total number of jobs under that type. However, unlike the attributes, these matrices do not sum to be the total number of workers.\n",
    "\n",
    "- 'All Jobs'\n",
    "    -  All jobs regardless of job type. Allows for multiple jobs per person and is the default when calling the above attributes.\n",
    "- 'Primary Jobs'\n",
    "    -  Primary jobs, which a primary job is the highest paying job for an individual worker for the year. Limits to one job per worker.\n",
    "- 'All Private Jobs'\n",
    "    -  All private jobs, which are privately owned businesses and organizations excluding federal government jobs.\n",
    "- 'Private Primary Jobs'\n",
    "    -  Primary jobs within the private sector.\n",
    "- 'All Federal Jobs'\n",
    "    -  All jobs within the federal government sector.\n",
    "- 'Federal Primary Jobs\n",
    "    -  Jobs under the federal government sector that are defined as primary jobs.\n",
    "\n",
    "Job type is an additional variable that can be combined with the previously explained attributes. For example, a user may retrieve a matrix of commuters work for the Goods Producing industry sector for only Primary jobs. This variable is not required for all calls and the default value will be 'All Jobs'."
   ]
  },
  {
   "cell_type": "markdown",
   "metadata": {},
   "source": [
    "### Age Range Attribute Example\n",
    "\n",
    "Below is an example of calling the three different age ranges provided by LODES in a geo spec. The example here loads four counties into the matrices rather than the four states that was used previously."
   ]
  },
  {
   "cell_type": "code",
   "execution_count": 4,
   "metadata": {},
   "outputs": [
    {
     "name": "stdout",
     "output_type": "stream",
     "text": [
      "ADRIO data usage estimation:\n",
      "- epymorph.adrio.acs5.Population (no estimate available)\n",
      "- epymorph.adrio.lodes.CommutersByAge will be pulled from cache\n",
      "- epymorph.adrio.lodes.CommutersByAge will be pulled from cache\n",
      "- epymorph.adrio.lodes.CommutersByAge will be pulled from cache\n",
      "In total we will:\n",
      "- Download no additional data\n",
      "- Write no new data to disk cache\n"
     ]
    }
   ],
   "source": [
    "from epymorph.geography.us_census import CountyScope\n",
    "from epymorph import *\n",
    "from epymorph.adrio import acs5\n",
    "from epymorph.adrio import lodes\n",
    "\n",
    "time_period = 2015\n",
    "county_scope = CountyScope.in_counties([\"04013\", \"08041\", \"32003\", \"35001\"], year=2020)\n",
    "geoids = county_scope.node_ids\n",
    "\n",
    "commuters_29_under_adrio = lodes.CommutersByAge(time_period, \"29 and Under\")\n",
    "commuters_30_54_adrio = lodes.CommutersByAge(time_period, \"30_54\")\n",
    "commuters_55_over_adrio = lodes.CommutersByAge(time_period, \"55 and Over\")\n",
    "\n",
    "rume = SingleStrataRume.build(\n",
    "    ipm=NoIpm(),\n",
    "    mm=NoMm(),\n",
    "    init=init.NoInfection(),\n",
    "    scope=county_scope,\n",
    "    time_frame=TimeFrame.year(time_period),\n",
    "    params={\n",
    "        \"population\": acs5.Population(),\n",
    "        \"commuters_29_under\": commuters_29_under_adrio,\n",
    "        \"commuters_30_54\": commuters_30_54_adrio,\n",
    "        \"commuters_55_over\": commuters_55_over_adrio,\n",
    "    },\n",
    ")\n",
    "\n",
    "rume.estimate_data()"
   ]
  },
  {
   "cell_type": "code",
   "execution_count": 5,
   "metadata": {},
   "outputs": [
    {
     "name": "stdout",
     "output_type": "stream",
     "text": [
      "Loading epymorph.adrio.lodes.CommutersByAge:\n",
      "  |####################| 100%  (5.839s)\n",
      "Loading epymorph.adrio.lodes.CommutersByAge:\n",
      "  |####################| 100%  (5.998s)\n",
      "Loading epymorph.adrio.lodes.CommutersByAge:\n",
      "  |####################| 100%  (5.848s)\n"
     ]
    }
   ],
   "source": [
    "with sim_messaging():\n",
    "    commuters_29_under = commuters_29_under_adrio.with_context(\n",
    "        scope=county_scope\n",
    "    ).evaluate()\n",
    "    commuters_30_54 = commuters_30_54_adrio.with_context(scope=county_scope).evaluate()\n",
    "    commuters_55_over = commuters_55_over_adrio.with_context(\n",
    "        scope=county_scope\n",
    "    ).evaluate()"
   ]
  },
  {
   "cell_type": "code",
   "execution_count": 6,
   "metadata": {},
   "outputs": [
    {
     "name": "stdout",
     "output_type": "stream",
     "text": [
      "Commuters ages 29 and under:\n",
      " [[369848     11    287    195]\n",
      " [    12  43020      9     29]\n",
      " [   245     11 186798     48]\n",
      " [   119     26     41  55536]]\n",
      "\n",
      "Commuters between ages 30 and 54:\n",
      " [[369848     11    287    195]\n",
      " [    12  43020      9     29]\n",
      " [   245     11 186798     48]\n",
      " [   119     26     41  55536]]\n",
      "\n",
      "Commuters ages 55 and over:\n",
      " [[369848     11    287    195]\n",
      " [    12  43020      9     29]\n",
      " [   245     11 186798     48]\n",
      " [   119     26     41  55536]]\n",
      "\n"
     ]
    }
   ],
   "source": [
    "print(f\"Commuters ages 29 and under:\\n {commuters_29_under}\\n\")\n",
    "print(f\"Commuters between ages 30 and 54:\\n {commuters_30_54}\\n\")\n",
    "print(f\"Commuters ages 55 and over:\\n {commuters_55_over}\\n\")"
   ]
  }
 ],
 "metadata": {
  "kernelspec": {
   "display_name": ".venv",
   "language": "python",
   "name": "python3"
  },
  "language_info": {
   "codemirror_mode": {
    "name": "ipython",
    "version": 3
   },
   "file_extension": ".py",
   "mimetype": "text/x-python",
   "name": "python",
   "nbconvert_exporter": "python",
   "pygments_lexer": "ipython3",
   "version": "3.11.10"
  }
 },
 "nbformat": 4,
 "nbformat_minor": 2
}
