{
 "cells": [
  {
   "cell_type": "markdown",
   "metadata": {},
   "source": [
    "# 2024/06/05 LODES User Manual\n",
    "_Author: Meaghan Freund_\n",
    "\n",
    "Queries and uses of the LODES ADRIO Template\n",
    "\n",
    "Set up for the LODES call, users are able to change the call depending on which states or further granularities they specifically want to  see\n",
    "\n",
    "**CHANGE FOR GEOSCOPES PENDING**"
   ]
  },
  {
   "cell_type": "code",
   "execution_count": null,
   "metadata": {},
   "outputs": [],
   "source": [
    "from pathlib import Path\n",
    "\n",
    "import numpy as np\n",
    "\n",
    "from epymorph.data_shape import Shapes\n",
    "from epymorph.geo.spec import DynamicGeoSpec, Year, attrib\n",
    "from epymorph.geography.us_census import (BlockGroupScope, CountyScope,\n",
    "                                          StateScope, TractScope)\n",
    "\n",
    "spec = DynamicGeoSpec(\n",
    "    attributes=[\n",
    "        attrib('label', str, Shapes.N),\n",
    "        attrib('commuters', int, Shapes.NxN),\n",
    "        attrib('commuters_29_under', int, Shapes.NxN),\n",
    "        attrib('commuters_30_to_54', int, Shapes.NxN),\n",
    "        attrib('commuters_55_over', int, Shapes.NxN),\n",
    "        attrib('commuters_1250_under_earnings', int, Shapes.NxN),\n",
    "        attrib('commuters_1251_to_3333_earnings', int, Shapes.NxN),\n",
    "        attrib('commuters_3333_over_earnings', int, Shapes.NxN),\n",
    "        attrib('commuters_goods_producing_industry', int, Shapes.NxN),\n",
    "        attrib('commuters_trade_transport_utility_industry', int, Shapes.NxN),\n",
    "        attrib('commuters_3333_over_earnings', int, Shapes.NxN),\n",
    "        attrib('all_jobs', int, Shapes.NxN),\n",
    "        attrib('primary_jobs', int, Shapes.NxN),\n",
    "        attrib('all_private_jobs', int, Shapes.NxN),\n",
    "        attrib('private_primary_jobs', int, Shapes.NxN),\n",
    "        attrib('all_federal_jobs', int, Shapes.NxN),\n",
    "        attrib('federal_primary_jobs', int, Shapes.NxN)\n",
    "    ],\n",
    "    time_period=Year(2015),\n",
    "    scope=CountyScope.in_states_by_code([\"AZ\", \"NM\", \"CO\", \"UT\"]),\n",
    "    source={\n",
    "        'label': 'LODES:name',\n",
    "        'home_geoid': 'LODES',\n",
    "        'work_geoid': 'LODES',\n",
    "        'commuters': 'LODES',\n",
    "        'commuters_29_under': 'LODES',\n",
    "        'commuters_30_to_54': 'LODES',\n",
    "        'commuters_55_over': 'LODES',\n",
    "        'commuters_1250_under_earnings': 'LODES',\n",
    "        'commuters_1251_to_3333_earnings': 'LODES',\n",
    "        'commuters_3333_over_earnings': 'LODES',\n",
    "        'commuters_goods_producing_industry': 'LODES',\n",
    "        'commuters_trade_transport_utility_industry': 'LODES',\n",
    "        'commuters_other_industry': 'LODES',\n",
    "        'all_jobs': 'LODES',\n",
    "        'primary_jobs': 'LODES',\n",
    "        'all_private_jobs': 'LODES',\n",
    "        'private_primary_jobs': 'LODES',\n",
    "        'all_federal_jobs': 'LODES',\n",
    "        'federal_primary_jobs': 'LODES'\n",
    "    }\n",
    ")"
   ]
  },
  {
   "cell_type": "code",
   "execution_count": null,
   "metadata": {},
   "outputs": [],
   "source": [
    "from epymorph.geo.adrio import adrio_maker_library\n",
    "from epymorph.geo.dynamic import DynamicGeo\n",
    "\n",
    "geo = DynamicGeo.from_library(spec, adrio_maker_library)"
   ]
  },
  {
   "cell_type": "markdown",
   "metadata": {},
   "source": [
    "# Query Types\n",
    "\n",
    "## Label\n",
    "The first type of query outputs the gathered input to better represent how the matrix is being read and output."
   ]
  },
  {
   "cell_type": "code",
   "execution_count": null,
   "metadata": {},
   "outputs": [],
   "source": [
    "values = [geo['label']]\n",
    "\n",
    "print(values)"
   ]
  },
  {
   "cell_type": "markdown",
   "metadata": {},
   "source": [
    "## Total Commuters\n",
    "\n",
    "The first matrix query is the \"commuters\" call, which outputs a matrix with the given locations and granularities as the positions with the total number of commuters to and from each location."
   ]
  },
  {
   "cell_type": "code",
   "execution_count": null,
   "metadata": {},
   "outputs": [],
   "source": [
    "values = [geo['commuters']]\n",
    "\n",
    "print(values)"
   ]
  },
  {
   "cell_type": "markdown",
   "metadata": {},
   "source": [
    "## Query Workers by Categories\n",
    "\n",
    "Further beyond total commuters, LODES holds data about the type of workers that commute from location to location, being categorized under their age, monthly earnings, and the industry they work under."
   ]
  },
  {
   "cell_type": "markdown",
   "metadata": {},
   "source": [
    "## Commuters By Age\n",
    "\n",
    "LODES holds information about commuting employees age through three age ranges, being:\n",
    "- Workers 29 years old and younger\n",
    "- Workers 30 years old to 54 years old\n",
    "- Workers 55 years old and older\n",
    "\n",
    "The three ranges can be called as separate queries:\n",
    "\n",
    "### 29 and Younger"
   ]
  },
  {
   "cell_type": "code",
   "execution_count": null,
   "metadata": {},
   "outputs": [],
   "source": [
    "values = [geo['commuters_29_under']]\n",
    "\n",
    "print(values)"
   ]
  },
  {
   "cell_type": "markdown",
   "metadata": {},
   "source": [
    "### 30 to 54 Years Old"
   ]
  },
  {
   "cell_type": "code",
   "execution_count": null,
   "metadata": {},
   "outputs": [],
   "source": [
    "values = [geo['commuters_30_to_54']]\n",
    "\n",
    "print(values)"
   ]
  },
  {
   "cell_type": "markdown",
   "metadata": {},
   "source": [
    "### 55 and Older"
   ]
  },
  {
   "cell_type": "code",
   "execution_count": null,
   "metadata": {},
   "outputs": [],
   "source": [
    "values = [geo['commuters_55_over']]\n",
    "\n",
    "print(values)"
   ]
  },
  {
   "cell_type": "markdown",
   "metadata": {},
   "source": [
    "## Commuters by Earnings\n",
    "\n",
    "LODES datasets specify the earnings by monthly salaries, similarly to the age categories with the three different ranges. \n",
    "\n",
    "- Workers earning $1250 or under per month\n",
    "- Workers earning $1250+ to $3333 per month\n",
    "- Workers earning $3333+ per month\n",
    "\n",
    "With the same manner as the ages, these three categories can be called as three separate queries:"
   ]
  },
  {
   "cell_type": "markdown",
   "metadata": {},
   "source": [
    "### $1250 and Under Earned Monthly"
   ]
  },
  {
   "cell_type": "code",
   "execution_count": null,
   "metadata": {},
   "outputs": [],
   "source": [
    "values = [geo['commuters_1250_under_earnings']]\n",
    "\n",
    "print(values)"
   ]
  },
  {
   "cell_type": "markdown",
   "metadata": {},
   "source": [
    "### Between $1250.01 and $3333 Earned Monthly"
   ]
  },
  {
   "cell_type": "code",
   "execution_count": null,
   "metadata": {},
   "outputs": [],
   "source": [
    "values = [geo['commuters_1251_to_3333_earnings']]\n",
    "\n",
    "print(values)"
   ]
  },
  {
   "cell_type": "markdown",
   "metadata": {},
   "source": [
    "### Above $3333 Earned Monthly"
   ]
  },
  {
   "cell_type": "code",
   "execution_count": null,
   "metadata": {},
   "outputs": [],
   "source": [
    "values = [geo['commuters_3333_over_earnings']]\n",
    "\n",
    "print(values)"
   ]
  },
  {
   "cell_type": "markdown",
   "metadata": {},
   "source": [
    "## Commuters By Industry\n",
    "\n",
    "LODES also tracks the basic industry that commuters work under. Similar to age and earnings, LODES separates the industry into three categories, however, the categories are not split by ranges as industry is not as cut and dry as earnings or age.\n",
    "\n",
    "LODES splits commuters by the following industries:\n",
    "- Workers that work under the goods and producing industry\n",
    "- Workers that work under trade, transport, or utility industries\n",
    "- Workers that work under any industry other than the above claimed industries\n"
   ]
  },
  {
   "cell_type": "markdown",
   "metadata": {},
   "source": [
    "### Goods and Producing Industry"
   ]
  },
  {
   "cell_type": "code",
   "execution_count": null,
   "metadata": {},
   "outputs": [],
   "source": [
    "values = [geo['commuters_goods_producing_industry']]\n",
    "\n",
    "print(values)"
   ]
  },
  {
   "cell_type": "markdown",
   "metadata": {},
   "source": [
    "### Trade, Transport, Utility Industries"
   ]
  },
  {
   "cell_type": "code",
   "execution_count": null,
   "metadata": {},
   "outputs": [],
   "source": [
    "values = [geo['commuters_trade_transport_utility_industry']]\n",
    "\n",
    "print(values)"
   ]
  },
  {
   "cell_type": "markdown",
   "metadata": {},
   "source": [
    "### Any Other Industry"
   ]
  },
  {
   "cell_type": "code",
   "execution_count": null,
   "metadata": {},
   "outputs": [],
   "source": [
    "values = [geo['commuters_other_industry']]\n",
    "\n",
    "print(values)"
   ]
  }
 ],
 "metadata": {
  "kernelspec": {
   "display_name": ".venv",
   "language": "python",
   "name": "python3"
  },
  "language_info": {
   "codemirror_mode": {
    "name": "ipython",
    "version": 3
   },
   "file_extension": ".py",
   "mimetype": "text/x-python",
   "name": "python",
   "nbconvert_exporter": "python",
   "pygments_lexer": "ipython3",
   "version": "3.11.0rc1"
  }
 },
 "nbformat": 4,
 "nbformat_minor": 2
}
