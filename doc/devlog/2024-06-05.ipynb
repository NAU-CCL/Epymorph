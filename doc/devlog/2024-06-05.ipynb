{
 "cells": [
  {
   "cell_type": "markdown",
   "metadata": {},
   "source": [
    "# 2024/06/05 LODES User Manual\n",
    "_Author: Meaghan Freund_\n",
    "\n",
    "LODES (LEHD Origin-Destination Employment Statistics) is a collection of state-organized data files. The data consists of the number workers that move from a home geocode and/or a work geocode, with additional categories that characterize the types of workers.\n",
    "\n",
    "There are three types of data files:\n",
    "- RAC: Residence Area Characteristic data details the jobs totaled from home Census blocks\n",
    "- WAC: Workplace Area Characteristic data details the jobs totaled from work Census blocks\n",
    "- OD: Origin-Destination data details the jobs totaled from both the home and work Census blocks\n",
    "\n",
    "For the following queries, the ADRIO maker relies on the Origin-Destination data files to properly show the movement from a home Census geoid to a work Census geoid. LODES files are organized in block granularity, but a user can query to see the movement from higher granularities. "
   ]
  },
  {
   "cell_type": "markdown",
   "metadata": {},
   "source": [
    "## Queries and uses of the LODES ADRIO Template\n",
    "\n",
    "Below is the basic setup for calling the LODES ADRIO template, which varies depending on the granularity the user is seeking. In this case, the call makes ADRIOs based on a state granularity based on the given states in the input.\n",
    "\n",
    "State granularity will output all workers that move from one state to another."
   ]
  },
  {
   "cell_type": "code",
   "execution_count": 2,
   "metadata": {},
   "outputs": [],
   "source": [
    "from epymorph.geo.adrio import adrio_maker_library\n",
    "from epymorph.data_shape import Shapes\n",
    "from epymorph.geo.dynamic import DynamicGeo\n",
    "from epymorph.geo.spec import DynamicGeoSpec, Year, attrib\n",
    "from epymorph.geography.us_census import (BlockGroupScope, CountyScope,\n",
    "                                          StateScope, TractScope)\n",
    "default_num = 4\n",
    "\n",
    "spec = DynamicGeoSpec(\n",
    "    attributes=[\n",
    "        attrib('label', str, Shapes.N),\n",
    "        attrib('geoid', str, Shapes.N),\n",
    "        attrib('commuters', int, Shapes.NxN),\n",
    "        attrib('commuters_29_under', int, Shapes.NxN),\n",
    "        attrib('commuters_30_to_54', int, Shapes.NxN),\n",
    "        attrib('commuters_55_over', int, Shapes.NxN),\n",
    "        attrib('commuters_1250_under_earnings', int, Shapes.NxN),\n",
    "        attrib('commuters_1251_to_3333_earnings', int, Shapes.NxN),\n",
    "        attrib('commuters_3333_over_earnings', int, Shapes.NxN),\n",
    "        attrib('commuters_goods_producing_industry', int, Shapes.NxN),\n",
    "        attrib('commuters_trade_transport_utility_industry', int, Shapes.NxN),\n",
    "        attrib('commuters_3333_over_earnings', int, Shapes.NxN),\n",
    "        attrib('all_jobs', int, Shapes.NxN),\n",
    "        attrib('primary_jobs', int, Shapes.NxN),\n",
    "        attrib('all_private_jobs', int, Shapes.NxN),\n",
    "        attrib('private_primary_jobs', int, Shapes.NxN),\n",
    "        attrib('all_federal_jobs', int, Shapes.NxN),\n",
    "        attrib('federal_primary_jobs', int, Shapes.NxN)\n",
    "    ],\n",
    "    time_period=Year(2015),\n",
    "    scope=StateScope.in_states_by_code([\"AZ\", \"CO\", \"NV\", \"NM\"]),\n",
    "    source={\n",
    "        'label': 'LODES:name',\n",
    "        'geoid': 'LODES',\n",
    "        'commuters': 'LODES',\n",
    "        'commuters_29_under': 'LODES',\n",
    "        'commuters_30_to_54': 'LODES',\n",
    "        'commuters_55_over': 'LODES',\n",
    "        'commuters_1250_under_earnings': 'LODES',\n",
    "        'commuters_1251_to_3333_earnings': 'LODES',\n",
    "        'commuters_3333_over_earnings': 'LODES',\n",
    "        'commuters_goods_producing_industry': 'LODES',\n",
    "        'commuters_trade_transport_utility_industry': 'LODES',\n",
    "        'commuters_other_industry': 'LODES',\n",
    "        'all_jobs': 'LODES',\n",
    "        'primary_jobs': 'LODES',\n",
    "        'all_private_jobs': 'LODES',\n",
    "        'private_primary_jobs': 'LODES',\n",
    "        'all_federal_jobs': 'LODES',\n",
    "        'federal_primary_jobs': 'LODES'\n",
    "    }\n",
    ")\n",
    "\n",
    "geo = DynamicGeo.from_library(spec, adrio_maker_library)"
   ]
  },
  {
   "cell_type": "markdown",
   "metadata": {},
   "source": [
    "A user may replace the scope and change the granularity and input with a 'replace' function. The example below organizes matrices in a county granularity with a state input. This means that the program takes all counties in each given state and counts the workers moving between them."
   ]
  },
  {
   "cell_type": "code",
   "execution_count": 2,
   "metadata": {},
   "outputs": [],
   "source": [
    "from dataclasses import replace\n",
    "\n",
    "spec = replace(spec, scope=CountyScope.in_states_by_code([\"AZ\", \"CO\", \"NV\", \"NM\"]))\n",
    "geo = DynamicGeo.from_library(spec, adrio_maker_library)"
   ]
  },
  {
   "cell_type": "markdown",
   "metadata": {},
   "source": [
    "A user may also call specific geoids for an ADRIO, with the below example also organizing in the county granularity, but between the input county codes."
   ]
  },
  {
   "cell_type": "code",
   "execution_count": null,
   "metadata": {},
   "outputs": [],
   "source": [
    "from dataclasses import replace\n",
    "\n",
    "spec = replace(spec, scope=CountyScope.in_counties(\n",
    "    [\"04001\", \"04003\", \"04005\", \"04009\"]))\n",
    "geo = DynamicGeo.from_library(spec, adrio_maker_library)"
   ]
  },
  {
   "cell_type": "markdown",
   "metadata": {},
   "source": [
    "# Query Types\n",
    "\n",
    "## Label\n",
    "The first type of query outputs the proper names of the matrices to better represent how the matrix is being read and output. This only works under state and county granularities and will error under lower granularities."
   ]
  },
  {
   "cell_type": "code",
   "execution_count": 4,
   "metadata": {},
   "outputs": [
    {
     "name": "stdout",
     "output_type": "stream",
     "text": [
      "label: ['Arizona' 'Colorado' 'Nevada' 'New Mexico']\n"
     ]
    }
   ],
   "source": [
    "print(f\"label: {geo['label'][0:default_num]}\")"
   ]
  },
  {
   "cell_type": "markdown",
   "metadata": {},
   "source": [
    "## Geoid\n",
    "\n",
    "The 'geoid' query lists out all of the geoids that are incorporated in an ADRIO, whether that is only the geoids from the input, or all instances of a granularity due to a state call."
   ]
  },
  {
   "cell_type": "code",
   "execution_count": 5,
   "metadata": {},
   "outputs": [
    {
     "name": "stdout",
     "output_type": "stream",
     "text": [
      "geoid: ['04' '08' '32' '35']\n"
     ]
    }
   ],
   "source": [
    "print(f\"geoid: {geo['geoid'][0:default_num]}\")"
   ]
  },
  {
   "cell_type": "markdown",
   "metadata": {},
   "source": [
    "## Total Commuters\n",
    "\n",
    "The first matrix query is the \"commuters\" call, which outputs a matrix with the given locations and granularities as the positions with the total number of commuters to and from each location."
   ]
  },
  {
   "cell_type": "code",
   "execution_count": 6,
   "metadata": {},
   "outputs": [
    {
     "name": "stdout",
     "output_type": "stream",
     "text": [
      "total commuters:\n",
      "\n",
      "work geocode: Arizona [2550132    1202    3552    6813]\n",
      "work geocode: Colorado [   2582 2405258     535    4824]\n",
      "work geocode: Nevada [  13263     382 1179411     409]\n",
      "work geocode: New Mexico [  8100   5557    361 764244]\n"
     ]
    }
   ],
   "source": [
    "print(f\"total commuters:\\n\")\n",
    "\n",
    "for i in range(default_num):\n",
    "    print(f\"work geocode: {geo['geoid'][i]} {geo['commuters'][i]}\")"
   ]
  },
  {
   "cell_type": "markdown",
   "metadata": {},
   "source": [
    "# Query Workers by Job Type\n",
    "\n",
    "Under the Origin-Destination data files, there are multiple attributes that consist of one file. Files are specified by year, state, whether residence is only in-state or out-of-state, file type, and job type. Users can specify the type of job for the matrices, which the jobs are:\n",
    "- JT00: All Jobs\n",
    "- JT01: Primary Jobs\n",
    "- JT02: All Private Jobs\n",
    "- JT03: Private Primary Jobs\n",
    "- JT04: All Federal Jobs\n",
    "- JT05: Federal Primary Jobs\n",
    "\n",
    "With the exception of the 'all jobs' query, the queries only display the total number of workers under that job type."
   ]
  },
  {
   "cell_type": "markdown",
   "metadata": {},
   "source": [
    "## All Jobs\n",
    "\n",
    "All jobs is the default call and is currently the only one which can show different categories of these workers, which is shown below in the next section. Other jobs simply include the total workers under that job type."
   ]
  },
  {
   "cell_type": "code",
   "execution_count": null,
   "metadata": {},
   "outputs": [],
   "source": [
    "print(f\"total workers for all jobs:\\n\")\n",
    "\n",
    "for i in range(default_num):\n",
    "    print(f\"work geocode: {geo['geoid'][i]} {geo['all_jobs'][i]}\")"
   ]
  },
  {
   "cell_type": "markdown",
   "metadata": {},
   "source": [
    "## Primary Jobs"
   ]
  },
  {
   "cell_type": "code",
   "execution_count": 4,
   "metadata": {},
   "outputs": [
    {
     "name": "stdout",
     "output_type": "stream",
     "text": [
      "total workers only under primary jobs:\n",
      "\n",
      "work geocode: Arizona [2388534    1099    3244    6528]\n",
      "work geocode: Colorado [   2318 2251857     466    4417]\n",
      "work geocode: Nevada [  12181     349 1085723     380]\n",
      "work geocode: New Mexico [  7517   5101    331 715373]\n"
     ]
    }
   ],
   "source": [
    "print(f\"total workers only under primary jobs:\\n\")\n",
    "\n",
    "for i in range(default_num):\n",
    "    print(f\"work geocode: {geo['geoid'][i]} {geo['primary_jobs'][i]}\")"
   ]
  },
  {
   "cell_type": "markdown",
   "metadata": {},
   "source": [
    "## All Private Jobs\n"
   ]
  },
  {
   "cell_type": "code",
   "execution_count": null,
   "metadata": {},
   "outputs": [],
   "source": [
    "print(f\"total workers under all private jobs:\\n\")\n",
    "\n",
    "for i in range(default_num):\n",
    "    print(f\"work geocode: {geo['geoid'][i]} {geo['all_private_jobs'][i]}\")"
   ]
  },
  {
   "cell_type": "markdown",
   "metadata": {},
   "source": [
    "## Private Primary Jobs"
   ]
  },
  {
   "cell_type": "code",
   "execution_count": null,
   "metadata": {},
   "outputs": [],
   "source": [
    "print(f\"total workers only under private primary jobs:\\n\")\n",
    "\n",
    "for i in range(default_num):\n",
    "    print(f\"work geocode: {geo['geoid'][i]} {geo['private_primary_jobs'][i]}\")"
   ]
  },
  {
   "cell_type": "markdown",
   "metadata": {},
   "source": [
    "## All Federal Jobs"
   ]
  },
  {
   "cell_type": "code",
   "execution_count": null,
   "metadata": {},
   "outputs": [],
   "source": [
    "print(f\"total workers under all federal jobs:\\n\")\n",
    "\n",
    "for i in range(default_num):\n",
    "    print(f\"work geocode: {geo['geoid'][i]} {geo['all_federal_jobs'][i]}\")"
   ]
  },
  {
   "cell_type": "markdown",
   "metadata": {},
   "source": [
    "## Federal Primary Jobs"
   ]
  },
  {
   "cell_type": "code",
   "execution_count": null,
   "metadata": {},
   "outputs": [],
   "source": [
    "print(f\"total workers only under all federal primary jobs:\\n\")\n",
    "\n",
    "for i in range(default_num):\n",
    "    print(f\"work geocode: {geo['geoid'][i]} {geo['federal_primary_jobs'][i]}\")"
   ]
  },
  {
   "cell_type": "markdown",
   "metadata": {},
   "source": [
    "## Query Workers by Categories\n",
    "\n",
    "Further beyond total commuters, LODES holds data about the type of workers that commute from location to location, being categorized under their age, monthly earnings, and the industry they work under."
   ]
  },
  {
   "cell_type": "markdown",
   "metadata": {},
   "source": [
    "## Commuters By Age\n",
    "\n",
    "LODES holds information about commuting employees age through three age ranges, being:\n",
    "- Workers 29 years old and younger\n",
    "- Workers 30 years old to 54 years old\n",
    "- Workers 55 years old and older\n",
    "\n",
    "The three ranges can be called as separate queries:\n",
    "\n",
    "### 29 and Younger"
   ]
  },
  {
   "cell_type": "code",
   "execution_count": null,
   "metadata": {},
   "outputs": [],
   "source": [
    "print(f\"total commuters that are 29 or younger:\\n\")\n",
    "\n",
    "for i in range(default_num):\n",
    "    print(f\"work geocode: {geo['geoid'][i]}\\n  {geo['commuters_29_under'][i]}\")"
   ]
  },
  {
   "cell_type": "markdown",
   "metadata": {},
   "source": [
    "### 30 to 54 Years Old"
   ]
  },
  {
   "cell_type": "code",
   "execution_count": null,
   "metadata": {},
   "outputs": [],
   "source": [
    "print(f\"total commuters that are ages between 30 to 54:\\n\")\n",
    "\n",
    "for i in range(default_num):\n",
    "    print(f\"work geocode: {geo['geoid'][i]}\\n  {geo['commuters_30_to_54'][i]}\")"
   ]
  },
  {
   "cell_type": "markdown",
   "metadata": {},
   "source": [
    "### 55 and Older"
   ]
  },
  {
   "cell_type": "code",
   "execution_count": null,
   "metadata": {},
   "outputs": [],
   "source": [
    "print(f\"total commuters that are 55 or older:\\n\")\n",
    "\n",
    "for i in range(default_num):\n",
    "    print(f\"work geocode: {geo['geoid'][i]}\\n  {geo['commuters_55_over'][i]}\")"
   ]
  },
  {
   "cell_type": "markdown",
   "metadata": {},
   "source": [
    "## Commuters by Earnings\n",
    "\n",
    "LODES datasets specify the earnings by monthly salaries, similarly to the age categories with the three different ranges. \n",
    "\n",
    "- Workers earning $1250 or under per month\n",
    "- Workers earning $1250+ to $3333 per month\n",
    "- Workers earning $3333+ per month\n",
    "\n",
    "With the same manner as the ages, these three categories can be called as three separate queries:"
   ]
  },
  {
   "cell_type": "markdown",
   "metadata": {},
   "source": [
    "### $1250 and Under Earned Monthly"
   ]
  },
  {
   "cell_type": "code",
   "execution_count": null,
   "metadata": {},
   "outputs": [],
   "source": [
    "print(f\"total commuters that earn $1250 monthly:\\n\")\n",
    "\n",
    "for i in range(default_num):\n",
    "    print(\n",
    "        f\"work geocode: {geo['geoid'][i]}\\n  {geo['commuters_1250_under_earnings'][i]}\")"
   ]
  },
  {
   "cell_type": "markdown",
   "metadata": {},
   "source": [
    "### Between $1251 and $3333 Earned Monthly"
   ]
  },
  {
   "cell_type": "code",
   "execution_count": null,
   "metadata": {},
   "outputs": [],
   "source": [
    "print(f\"total commuters that earn between $1251-$3333 monthly:\\n\")\n",
    "\n",
    "for i in range(default_num):\n",
    "    print(\n",
    "        f\"work geocode: {geo['geoid'][i]}\\n  {geo['commuters_1251_to_3333_earnings'][i]}\")"
   ]
  },
  {
   "cell_type": "markdown",
   "metadata": {},
   "source": [
    "### Above $3333 Earned Monthly"
   ]
  },
  {
   "cell_type": "code",
   "execution_count": null,
   "metadata": {},
   "outputs": [],
   "source": [
    "print(f\"total commuters that earn greater than $3333 monthly:\\n\")\n",
    "\n",
    "for i in range(default_num):\n",
    "    print(\n",
    "        f\"work geocode: {geo['geoid'][i]}\\n  {geo['commuters_3333_over_earnings'][i]}\")"
   ]
  },
  {
   "cell_type": "markdown",
   "metadata": {},
   "source": [
    "## Commuters By Industry\n",
    "\n",
    "LODES also tracks the basic industry that commuters work under. Similar to age and earnings, LODES separates the industry into three categories, however, the categories are not split by ranges as industry is not as cut and dry as earnings or age.\n",
    "\n",
    "LODES splits commuters by the following industries:\n",
    "- Workers that work in Goods Producing industry sectors\n",
    "- Workers that work in Trade, Transportation, and Utility industry sectors\n",
    "- Workers that work under all other service industry sectors other than the above claimed industries\n"
   ]
  },
  {
   "cell_type": "markdown",
   "metadata": {},
   "source": [
    "### Goods and Producing Industry"
   ]
  },
  {
   "cell_type": "code",
   "execution_count": null,
   "metadata": {},
   "outputs": [],
   "source": [
    "print(f\"total commuters that work in Goods Producing industry sectors:\\n\")\n",
    "\n",
    "for i in range(default_num):\n",
    "    print(\n",
    "        f\"work geocode: {geo['geoid'][i]}\\n  {geo['commuters_goods_producing_industry'][i]}\")"
   ]
  },
  {
   "cell_type": "markdown",
   "metadata": {},
   "source": [
    "### Trade, Transport, Utility Industries"
   ]
  },
  {
   "cell_type": "code",
   "execution_count": null,
   "metadata": {},
   "outputs": [],
   "source": [
    "print(f\"total commuters that work in Trade, Transportation, and Utility industry sectors:\\n\")\n",
    "\n",
    "for i in range(default_num):\n",
    "    print(\n",
    "        f\"work geocode: {geo['geoid'][i]}\\n  {geo['commuters_trade_transport_utility_industry'][i]}\")"
   ]
  },
  {
   "cell_type": "markdown",
   "metadata": {},
   "source": [
    "### Any Other Industry"
   ]
  },
  {
   "cell_type": "code",
   "execution_count": null,
   "metadata": {},
   "outputs": [],
   "source": [
    "print(f\"total commuters that work in all other services industry sectors:\\n\")\n",
    "\n",
    "for i in range(default_num):\n",
    "    print(f\"work geocode: {geo['geoid'][i]}\\n  {geo['commuters_other_industry'][i]}\")"
   ]
  }
 ],
 "metadata": {
  "kernelspec": {
   "display_name": ".venv",
   "language": "python",
   "name": "python3"
  },
  "language_info": {
   "codemirror_mode": {
    "name": "ipython",
    "version": 3
   },
   "file_extension": ".py",
   "mimetype": "text/x-python",
   "name": "python",
   "nbconvert_exporter": "python",
   "pygments_lexer": "ipython3",
   "version": "3.11.0rc1"
  }
 },
 "nbformat": 4,
 "nbformat_minor": 2
}
