{
 "cells": [
  {
   "cell_type": "markdown",
   "metadata": {},
   "source": [
    "# 2024/06/05 LODES User Manual\n",
    "_Author: Meaghan Freund_\n",
    "\n",
    "LODES (LEHD Origin-Destination Employment Statistics) is a collection of state-organized data files. The data consists of the number workers that move from a home geocode or to a work geocode, which includes specifications of those workers through various categories, depending on the type of file being viewed.\n",
    "\n",
    "There are three types of data files:\n",
    "- RAC: Residence Area Characteristic data details the jobs totaled from home Census blocks\n",
    "- WAC: Workplace Area Characteristic data details the jobs totaled from work Census blocks\n",
    "- OD: Origin-Destination data details the jobs totaled from both the home and work Census blocks\n",
    "\n",
    "For the below queries, the ADRIO maker relies on the Origin-Destination data files to properly show the movement from a home Census block to a work Census block. \n",
    "\n",
    "## Queries and uses of the LODES ADRIO Template\n",
    "\n",
    "Set up for the LODES call, users are able to change the call depending on which states or further granularities they specifically want to  see."
   ]
  },
  {
   "cell_type": "markdown",
   "metadata": {},
   "source": [
    "### Example: getting all instances of counties from given states"
   ]
  },
  {
   "cell_type": "code",
   "execution_count": 1,
   "metadata": {},
   "outputs": [],
   "source": [
    "from pathlib import Path\n",
    "\n",
    "import numpy as np\n",
    "\n",
    "from epymorph.data_shape import Shapes\n",
    "from epymorph.geo.spec import DynamicGeoSpec, Year, attrib\n",
    "from epymorph.geography.us_census import (BlockGroupScope, CountyScope,\n",
    "                                          StateScope, TractScope)\n",
    "\n",
    "spec = DynamicGeoSpec(\n",
    "    attributes=[\n",
    "        attrib('label', str, Shapes.N),\n",
    "        attrib('commuters', int, Shapes.NxN),\n",
    "        attrib('commuters_29_under', int, Shapes.NxN),\n",
    "        attrib('commuters_30_to_54', int, Shapes.NxN),\n",
    "        attrib('commuters_55_over', int, Shapes.NxN),\n",
    "        attrib('commuters_1250_under_earnings', int, Shapes.NxN),\n",
    "        attrib('commuters_1251_to_3333_earnings', int, Shapes.NxN),\n",
    "        attrib('commuters_3333_over_earnings', int, Shapes.NxN),\n",
    "        attrib('commuters_goods_producing_industry', int, Shapes.NxN),\n",
    "        attrib('commuters_trade_transport_utility_industry', int, Shapes.NxN),\n",
    "        attrib('commuters_3333_over_earnings', int, Shapes.NxN),\n",
    "        attrib('all_jobs', int, Shapes.NxN),\n",
    "        attrib('primary_jobs', int, Shapes.NxN),\n",
    "        attrib('all_private_jobs', int, Shapes.NxN),\n",
    "        attrib('private_primary_jobs', int, Shapes.NxN),\n",
    "        attrib('all_federal_jobs', int, Shapes.NxN),\n",
    "        attrib('federal_primary_jobs', int, Shapes.NxN)\n",
    "    ],\n",
    "    time_period=Year(2015),\n",
    "    scope=CountyScope.in_states_by_code([\"AZ\", \"CO\", \"NV\", \"NM\"]),\n",
    "    source={\n",
    "        'label': 'LODES:name',\n",
    "        'home_geoid': 'LODES',\n",
    "        'work_geoid': 'LODES',\n",
    "        'commuters': 'LODES',\n",
    "        'commuters_29_under': 'LODES',\n",
    "        'commuters_30_to_54': 'LODES',\n",
    "        'commuters_55_over': 'LODES',\n",
    "        'commuters_1250_under_earnings': 'LODES',\n",
    "        'commuters_1251_to_3333_earnings': 'LODES',\n",
    "        'commuters_3333_over_earnings': 'LODES',\n",
    "        'commuters_goods_producing_industry': 'LODES',\n",
    "        'commuters_trade_transport_utility_industry': 'LODES',\n",
    "        'commuters_other_industry': 'LODES',\n",
    "        'all_jobs': 'LODES',\n",
    "        'primary_jobs': 'LODES',\n",
    "        'all_private_jobs': 'LODES',\n",
    "        'private_primary_jobs': 'LODES',\n",
    "        'all_federal_jobs': 'LODES',\n",
    "        'federal_primary_jobs': 'LODES'\n",
    "    }\n",
    ")"
   ]
  },
  {
   "cell_type": "markdown",
   "metadata": {},
   "source": [
    "### Example 2: only using specific county geoids given by the user"
   ]
  },
  {
   "cell_type": "code",
   "execution_count": null,
   "metadata": {},
   "outputs": [],
   "source": [
    "from pathlib import Path\n",
    "\n",
    "import numpy as np\n",
    "\n",
    "from epymorph.data_shape import Shapes\n",
    "from epymorph.geo.spec import DynamicGeoSpec, Year, attrib\n",
    "from epymorph.geography.us_census import (BlockGroupScope, CountyScope,\n",
    "                                          StateScope, TractScope)\n",
    "\n",
    "spec = DynamicGeoSpec(\n",
    "    attributes=[\n",
    "        attrib('label', str, Shapes.N),\n",
    "        attrib('geoid', str, Shapes.N),\n",
    "        attrib('commuters', int, Shapes.NxN),\n",
    "        attrib('commuters_29_under', int, Shapes.NxN),\n",
    "        attrib('commuters_30_to_54', int, Shapes.NxN),\n",
    "        attrib('commuters_55_over', int, Shapes.NxN),\n",
    "        attrib('commuters_1250_under_earnings', int, Shapes.NxN),\n",
    "        attrib('commuters_1251_to_3333_earnings', int, Shapes.NxN),\n",
    "        attrib('commuters_3333_over_earnings', int, Shapes.NxN),\n",
    "        attrib('commuters_goods_producing_industry', int, Shapes.NxN),\n",
    "        attrib('commuters_trade_transport_utility_industry', int, Shapes.NxN),\n",
    "        attrib('commuters_3333_over_earnings', int, Shapes.NxN),\n",
    "        attrib('all_jobs', int, Shapes.NxN),\n",
    "        attrib('primary_jobs', int, Shapes.NxN),\n",
    "        attrib('all_private_jobs', int, Shapes.NxN),\n",
    "        attrib('private_primary_jobs', int, Shapes.NxN),\n",
    "        attrib('all_federal_jobs', int, Shapes.NxN),\n",
    "        attrib('federal_primary_jobs', int, Shapes.NxN)\n",
    "    ],\n",
    "    time_period=Year(2021),\n",
    "    scope=CountyScope.in_counties([\"04001\", \"04003\", \"04005\", \"04009\"]),\n",
    "    source={\n",
    "        'label': 'LODES:name',\n",
    "        'geoid': 'LODES',\n",
    "        'commuters': 'LODES',\n",
    "        'commuters_29_under': 'LODES',\n",
    "        'commuters_30_to_54': 'LODES',\n",
    "        'commuters_55_over': 'LODES',\n",
    "        'commuters_1250_under_earnings': 'LODES',\n",
    "        'commuters_1251_to_3333_earnings': 'LODES',\n",
    "        'commuters_3333_over_earnings': 'LODES',\n",
    "        'commuters_goods_producing_industry': 'LODES',\n",
    "        'commuters_trade_transport_utility_industry': 'LODES',\n",
    "        'commuters_other_industry': 'LODES',\n",
    "        'all_jobs': 'LODES',\n",
    "        'primary_jobs': 'LODES',\n",
    "        'all_private_jobs': 'LODES',\n",
    "        'private_primary_jobs': 'LODES',\n",
    "        'all_federal_jobs': 'LODES',\n",
    "        'federal_primary_jobs': 'LODES'\n",
    "    }\n",
    ")"
   ]
  },
  {
   "cell_type": "code",
   "execution_count": 2,
   "metadata": {},
   "outputs": [],
   "source": [
    "from epymorph.geo.adrio import adrio_maker_library\n",
    "from epymorph.geo.dynamic import DynamicGeo\n",
    "\n",
    "geo = DynamicGeo.from_library(spec, adrio_maker_library)"
   ]
  },
  {
   "cell_type": "markdown",
   "metadata": {},
   "source": [
    "# Query Types\n",
    "\n",
    "## Label\n",
    "The first type of query outputs the gathered input to better represent how the matrix is being read and output."
   ]
  },
  {
   "cell_type": "code",
   "execution_count": 3,
   "metadata": {},
   "outputs": [
    {
     "name": "stdout",
     "output_type": "stream",
     "text": [
      "label: ['04001' '04003' '04005' '04007' '04009']\n"
     ]
    }
   ],
   "source": [
    "print(f\"label: {geo['label'][0:5]}\")"
   ]
  },
  {
   "cell_type": "markdown",
   "metadata": {},
   "source": [
    "## Total Commuters\n",
    "\n",
    "The first matrix query is the \"commuters\" call, which outputs a matrix with the given locations and granularities as the positions with the total number of commuters to and from each location."
   ]
  },
  {
   "cell_type": "code",
   "execution_count": 4,
   "metadata": {},
   "outputs": [
    {
     "name": "stdout",
     "output_type": "stream",
     "text": [
      "total commuters:\n",
      "\n",
      "work geocode: 04001\n",
      "  [7313   39 1109   12   30   12    6 1211   19 2177  244   95    8   56\n",
      "   11    1    0    5   14    0    0    0    0    0    0    0    0    0\n",
      "    0    0   18    0    0    0    0    0   18    0    0    0    0    0\n",
      "    0    0    0    2    0    0    0   57    1    0    0    0    0    0\n",
      "    0   35   19    0    0    0    0    1    0    0    0    0    0    0\n",
      "    0    2   10    0    0    0    0    3    0    1   22    0    0    0\n",
      "    0    0    0    0    0    0    2    0    0    2    0    1  502   16\n",
      "    0  101    0    1    0    0    0   22    1    0    2    1    0    1\n",
      "   15 2155    0    1    0    6    1   54  675    2   22   10   32    7\n",
      "    6    0   14]\n",
      "work geocode: 04003\n",
      "  [   21 21713    67    52   453    80    13  1045    93    64  2731   307\n",
      "   535   121    92     0     0     0     0     0     0     0     1     0\n",
      "     0     0     0     0     0     0     0     0     0     1     0     0\n",
      "     3     0     0     0     0     0     0     0     0     2     0     0\n",
      "     0     0     0     0     0     0     0     0     0     0     2     0\n",
      "     0     0     0     0     0     0     0     0     0     0     0     0\n",
      "     0     0     0     0     0     0     0     0     8     0     0     0\n",
      "     0     0     0     0     0     0     0     0     0     1     0     0\n",
      "    10     1     1     0     0     1     0     3     1    21     0     0\n",
      "    16     0     0     0     8     1     0     2     0     0     0     0\n",
      "     0     0     1     5     5     0     0     0     0]\n",
      "work geocode: 04005\n",
      "  [  649   108 36806    66    27     9    70  5804  1293  2053   585   338\n",
      "    28  5551   191     7     1    12     1     0     1    19     1     0\n",
      "     0     1     0     0     0     0     5     1     1     5     4     2\n",
      "    34     2     2     0     1     0     0     0     0    15     0     0\n",
      "     0     1    12     1     1     0     5     0     2     4     5     3\n",
      "     2     0     0     1     0     1     5     2     1     2     1     0\n",
      "     0     0     0     0     0     9     1     0   195     0     5     0\n",
      "     0     0     1     1     1     1     2     1     0    14     1     0\n",
      "    57     0     0    25     0     1     0     3     1     4     0     0\n",
      "     0     1     0     1     0    55     0     2     0     1     0    28\n",
      "    92     1    21     0     0     1     1     0    12]\n",
      "work geocode: 04007\n",
      "  [  58  104  173 7195  319   34    6 1605   74  248  303 1162   27  246\n",
      "   23    0    0    0    0    0    0    0    0    0    0    0    0    0\n",
      "    0    0    2    0    0    0    0    0    0    0    0    0    0    0\n",
      "    0    0    0    0    0    0    0    0    0    0    0    0    4    0\n",
      "    0    1    0    0    1    0    0    0    0    0    0    0    0    0\n",
      "    0    0    0    0    0    0    0    0    0    0    2    0    0    0\n",
      "    0    0    0    0    0    0    0    0    0    0    0    0    1    0\n",
      "    0    0    0    0    0    1    0    7    0    0    3    0    0    0\n",
      "    9    6    0    1    0    0    0    7    3    0    2    3    2    0\n",
      "    2    0    2]\n",
      "work geocode: 04009\n",
      "  [  41  677   31 1043 6654  169    0  549   11  142  407  289   54   41\n",
      "    0    0    0    1    0    0    0    0    0    0    0    0    0    0\n",
      "    1    0    0    0    0    1    0    0    0    0    0    0    0    0\n",
      "    0    0    0    1    0    0    0    1    0    0    0    0    0    0\n",
      "    0    0    0    0    0    0    0    0    0    0    0    0    0    0\n",
      "    0    0    0    0    0    0    0    0    0    2    0    0    1    0\n",
      "    0    0    0    0    0    1    0    0    0    2    0    0    4    2\n",
      "    0    1    0    0    0    0    0   44    0    0   14    0    0    0\n",
      "   20    4    0    0    0    0    0    5    0    0    4    9   14    0\n",
      "    0    0    2]\n"
     ]
    }
   ],
   "source": [
    "print(f\"total commuters:\\n\")\n",
    "\n",
    "for i in range(5):\n",
    "    print(f\"work geocode: {geo['label'][i]}\\n  {geo['commuters'][i]}\")"
   ]
  },
  {
   "cell_type": "markdown",
   "metadata": {},
   "source": [
    "# Query Workers by Job Type\n",
    "\n",
    "Under the Origin-Destination data files, there are multiple attributes that consist of one file. Files are specified by year, state, whether residence is only in-state or out-of-state, file type, and job type. Users can specify the type of job for the matrices, which the jobs are:\n",
    "- JT00: All Jobs\n",
    "- JT01: Primary Jobs\n",
    "- JT02: All Private Jobs\n",
    "- JT03: Private Primary Jobs\n",
    "- JT04: All Federal Jobs\n",
    "- JT05: Federal Primary Jobs"
   ]
  },
  {
   "cell_type": "markdown",
   "metadata": {},
   "source": [
    "## All Jobs\n",
    "\n",
    "All jobs is the default call and is currently the only one which can show different categories of these workers, which is shown below in the next section. "
   ]
  },
  {
   "cell_type": "code",
   "execution_count": null,
   "metadata": {},
   "outputs": [],
   "source": []
  },
  {
   "cell_type": "markdown",
   "metadata": {},
   "source": [
    "## Primary Jobs"
   ]
  },
  {
   "cell_type": "code",
   "execution_count": null,
   "metadata": {},
   "outputs": [],
   "source": []
  },
  {
   "cell_type": "markdown",
   "metadata": {},
   "source": [
    "## All Private Jobs"
   ]
  },
  {
   "cell_type": "code",
   "execution_count": null,
   "metadata": {},
   "outputs": [],
   "source": []
  },
  {
   "cell_type": "markdown",
   "metadata": {},
   "source": [
    "## Private Primary Jobs"
   ]
  },
  {
   "cell_type": "code",
   "execution_count": null,
   "metadata": {},
   "outputs": [],
   "source": []
  },
  {
   "cell_type": "markdown",
   "metadata": {},
   "source": [
    "## All Federal Jobs"
   ]
  },
  {
   "cell_type": "code",
   "execution_count": null,
   "metadata": {},
   "outputs": [],
   "source": []
  },
  {
   "cell_type": "markdown",
   "metadata": {},
   "source": [
    "## Federal Primary Jobs"
   ]
  },
  {
   "cell_type": "code",
   "execution_count": null,
   "metadata": {},
   "outputs": [],
   "source": []
  },
  {
   "cell_type": "markdown",
   "metadata": {},
   "source": [
    "## Query Workers by Categories\n",
    "\n",
    "Further beyond total commuters, LODES holds data about the type of workers that commute from location to location, being categorized under their age, monthly earnings, and the industry they work under."
   ]
  },
  {
   "cell_type": "markdown",
   "metadata": {},
   "source": [
    "## Commuters By Age\n",
    "\n",
    "LODES holds information about commuting employees age through three age ranges, being:\n",
    "- Workers 29 years old and younger\n",
    "- Workers 30 years old to 54 years old\n",
    "- Workers 55 years old and older\n",
    "\n",
    "The three ranges can be called as separate queries:\n",
    "\n",
    "### 29 and Younger"
   ]
  },
  {
   "cell_type": "code",
   "execution_count": 3,
   "metadata": {},
   "outputs": [
    {
     "name": "stdout",
     "output_type": "stream",
     "text": [
      "total commuters that are 29 or younger:\n",
      "\n",
      "work geocode: 04001\n",
      "  [866   9 150   2   3   5   0 239   7 332  57  25   4  15   5   1   0   0\n",
      "   3   0   0   0   0   0   0   0   0   0   0   0   3   0   0   0   0   0\n",
      "   0   0   0   0   0   0   0   0   0   1   0   0   0   9   1   0   0   0\n",
      "   0   0   0   2   5   0   0   0   0   0   0   0   0   0   0   0   0   0\n",
      "   2   0   0   0   0   3   0   0   4   0   0   0   0   0   0   0   0   0\n",
      "   0   0   0   0   0   0  56   1   0  20   0   1   0   0   0   7   0   0\n",
      "   1   1   0   0   3 261   0   0   0   0   0   5  96   0   2   4   7   1\n",
      "   0   0   1]\n",
      "work geocode: 04003\n",
      "  [   7 4126   13   14  102   27    2  248   11   14  571   61  127   20\n",
      "   20    0    0    0    0    0    0    0    0    0    0    0    0    0\n",
      "    0    0    0    0    0    0    0    0    1    0    0    0    0    0\n",
      "    0    0    0    1    0    0    0    0    0    0    0    0    0    0\n",
      "    0    0    0    0    0    0    0    0    0    0    0    0    0    0\n",
      "    0    0    0    0    0    0    0    0    0    0    6    0    0    0\n",
      "    0    0    0    0    0    0    0    0    0    0    0    0    1    0\n",
      "    1    0    0    1    0    0    0    4    0    0    2    0    0    0\n",
      "    2    0    0    0    0    0    0    0    0    0    1    3    1    0\n",
      "    0    0    0]\n",
      "work geocode: 04005\n",
      "  [ 165   37 8772   12    8    3   21 1750  386  504  177   82   11 1241\n",
      "   39    3    1    9    1    0    0    6    0    0    0    1    0    0\n",
      "    0    0    1    1    0    1    2    1   13    1    1    0    0    0\n",
      "    0    0    0    5    0    0    0    1    3    1    1    0    1    0\n",
      "    0    1    3    2    2    0    0    0    0    1    2    2    1    1\n",
      "    0    0    0    0    0    0    0    4    1    0   61    0    1    0\n",
      "    0    0    1    0    0    1    1    0    0    5    1    0   15    0\n",
      "    0    8    0    1    0    0    0    1    0    0    0    0    0    0\n",
      "    0   15    0    1    0    0    0   10   26    1    8    0    0    1\n",
      "    1    0    3]\n",
      "work geocode: 04007\n",
      "  [  11   20   43 1210   61    9    1  303   18   66   68  201    5   60\n",
      "    4    0    0    0    0    0    0    0    0    0    0    0    0    0\n",
      "    0    0    1    0    0    0    0    0    0    0    0    0    0    0\n",
      "    0    0    0    0    0    0    0    0    0    0    0    0    2    0\n",
      "    0    0    0    0    0    0    0    0    0    0    0    0    0    0\n",
      "    0    0    0    0    0    0    0    0    0    0    2    0    0    0\n",
      "    0    0    0    0    0    0    0    0    0    0    0    0    1    0\n",
      "    0    0    0    0    0    0    0    2    0    0    0    0    0    0\n",
      "    1    2    0    0    0    0    0    3    3    0    0    0    0    0\n",
      "    0    0    0]\n",
      "work geocode: 04009\n",
      "  [  12  125   14  242 1371   44    0  146    6   43   90   70   11   11\n",
      "    0    0    0    0    0    0    0    0    0    0    0    0    0    0\n",
      "    1    0    0    0    0    0    0    0    0    0    0    0    0    0\n",
      "    0    0    0    1    0    0    0    0    0    0    0    0    0    0\n",
      "    0    0    0    0    0    0    0    0    0    0    0    0    0    0\n",
      "    0    0    0    0    0    0    0    0    0    0    0    0    0    0\n",
      "    0    0    0    0    0    0    0    0    0    0    0    0    0    0\n",
      "    0    0    0    0    0    0    0    9    0    0    5    0    0    0\n",
      "    6    1    0    0    0    0    0    2    0    0    0    0    5    0\n",
      "    0    0    1]\n"
     ]
    },
    {
     "ename": "",
     "evalue": "",
     "output_type": "error",
     "traceback": [
      "\u001b[1;31mThe Kernel crashed while executing code in the current cell or a previous cell. \n",
      "\u001b[1;31mPlease review the code in the cell(s) to identify a possible cause of the failure. \n",
      "\u001b[1;31mClick <a href='https://aka.ms/vscodeJupyterKernelCrash'>here</a> for more info. \n",
      "\u001b[1;31mView Jupyter <a href='command:jupyter.viewOutput'>log</a> for further details."
     ]
    }
   ],
   "source": [
    "print(f\"total commuters that are 29 or younger:\\n\")\n",
    "\n",
    "for i in range(5):\n",
    "    print(f\"work geocode: {geo['label'][i]}\\n  {geo['commuters_29_under'][i]}\")"
   ]
  },
  {
   "cell_type": "markdown",
   "metadata": {},
   "source": [
    "### 30 to 54 Years Old"
   ]
  },
  {
   "cell_type": "code",
   "execution_count": null,
   "metadata": {},
   "outputs": [],
   "source": [
    "print(f\"total commuters that are ages between 30 to 54:\\n\")\n",
    "\n",
    "for i in range(5):\n",
    "    print(f\"work geocode: {geo['label'][i]}\\n  {geo['commuters_30_to_54'][i]}\")"
   ]
  },
  {
   "cell_type": "markdown",
   "metadata": {},
   "source": [
    "### 55 and Older"
   ]
  },
  {
   "cell_type": "code",
   "execution_count": null,
   "metadata": {},
   "outputs": [],
   "source": [
    "print(f\"total commuters that are 55 or older:\\n\")\n",
    "\n",
    "for i in range(5):\n",
    "    print(f\"work geocode: {geo['label'][i]}\\n  {geo['commuters_55_over'][i]}\")"
   ]
  },
  {
   "cell_type": "markdown",
   "metadata": {},
   "source": [
    "## Commuters by Earnings\n",
    "\n",
    "LODES datasets specify the earnings by monthly salaries, similarly to the age categories with the three different ranges. \n",
    "\n",
    "- Workers earning $1250 or under per month\n",
    "- Workers earning $1250+ to $3333 per month\n",
    "- Workers earning $3333+ per month\n",
    "\n",
    "With the same manner as the ages, these three categories can be called as three separate queries:"
   ]
  },
  {
   "cell_type": "markdown",
   "metadata": {},
   "source": [
    "### $1250 and Under Earned Monthly"
   ]
  },
  {
   "cell_type": "code",
   "execution_count": null,
   "metadata": {},
   "outputs": [],
   "source": [
    "print(f\"total commuters that earn $1250 monthly:\\n\")\n",
    "\n",
    "for i in range(5):\n",
    "    print(\n",
    "        f\"work geocode: {geo['label'][i]}\\n  {geo['commuters_1250_under_earnings'][i]}\")"
   ]
  },
  {
   "cell_type": "markdown",
   "metadata": {},
   "source": [
    "### Between $1251 and $3333 Earned Monthly"
   ]
  },
  {
   "cell_type": "code",
   "execution_count": null,
   "metadata": {},
   "outputs": [],
   "source": [
    "print(f\"total commuters that earn between $1251-$3333 monthly:\\n\")\n",
    "\n",
    "for i in range(5):\n",
    "    print(\n",
    "        f\"work geocode: {geo['label'][i]}\\n  {geo['commuters_1251_to_3333_earnings'][i]}\")"
   ]
  },
  {
   "cell_type": "markdown",
   "metadata": {},
   "source": [
    "### Above $3333 Earned Monthly"
   ]
  },
  {
   "cell_type": "code",
   "execution_count": null,
   "metadata": {},
   "outputs": [],
   "source": [
    "print(f\"total commuters that earn greater than $3333 monthly:\\n\")\n",
    "\n",
    "for i in range(5):\n",
    "    print(\n",
    "        f\"work geocode: {geo['label'][i]}\\n  {geo['commuters_3333_over_earnings'][i]}\")"
   ]
  },
  {
   "cell_type": "markdown",
   "metadata": {},
   "source": [
    "## Commuters By Industry\n",
    "\n",
    "LODES also tracks the basic industry that commuters work under. Similar to age and earnings, LODES separates the industry into three categories, however, the categories are not split by ranges as industry is not as cut and dry as earnings or age.\n",
    "\n",
    "LODES splits commuters by the following industries:\n",
    "- Workers that work in Goods Producing industry sectors\n",
    "- Workers that work in Trade, Transportation, and Utility industry sectors\n",
    "- Workers that work under all other service industry sectors other than the above claimed industries\n"
   ]
  },
  {
   "cell_type": "markdown",
   "metadata": {},
   "source": [
    "### Goods and Producing Industry"
   ]
  },
  {
   "cell_type": "code",
   "execution_count": null,
   "metadata": {},
   "outputs": [],
   "source": [
    "print(f\"total commuters that work in Goods Producing industry sectors:\\n\")\n",
    "\n",
    "for i in range(5):\n",
    "    print(\n",
    "        f\"work geocode: {geo['label'][i]}\\n  {geo['commuters_goods_producing_industry'][i]}\")"
   ]
  },
  {
   "cell_type": "markdown",
   "metadata": {},
   "source": [
    "### Trade, Transport, Utility Industries"
   ]
  },
  {
   "cell_type": "code",
   "execution_count": null,
   "metadata": {},
   "outputs": [],
   "source": [
    "print(f\"total commuters that work in Trade, Transportation, and Utility industry sectors:\\n\")\n",
    "\n",
    "for i in range(5):\n",
    "    print(\n",
    "        f\"work geocode: {geo['label'][i]}\\n  {geo['commuters_trade_transport_utility_industry'][i]}\")"
   ]
  },
  {
   "cell_type": "markdown",
   "metadata": {},
   "source": [
    "### Any Other Industry"
   ]
  },
  {
   "cell_type": "code",
   "execution_count": null,
   "metadata": {},
   "outputs": [],
   "source": [
    "print(f\"total commuters that work in all other services industry sectors:\\n\")\n",
    "\n",
    "for i in range(5):\n",
    "    print(f\"work geocode: {geo['label'][i]}\\n  {geo['commuters_other_industry'][i]}\")"
   ]
  }
 ],
 "metadata": {
  "kernelspec": {
   "display_name": ".venv",
   "language": "python",
   "name": "python3"
  },
  "language_info": {
   "codemirror_mode": {
    "name": "ipython",
    "version": 3
   },
   "file_extension": ".py",
   "mimetype": "text/x-python",
   "name": "python",
   "nbconvert_exporter": "python",
   "pygments_lexer": "ipython3",
   "version": "3.11.0"
  }
 },
 "nbformat": 4,
 "nbformat_minor": 2
}
