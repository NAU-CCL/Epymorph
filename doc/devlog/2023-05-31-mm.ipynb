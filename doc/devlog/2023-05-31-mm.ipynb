{
 "cells": [
  {
   "attachments": {},
   "cell_type": "markdown",
   "metadata": {},
   "source": [
    "## Epymorph dev log: May 31, 2023\n",
    "\n",
    "Author: Alexander Nez\n",
    "\n",
    "as of git hash: 50645d5e6efc58ffc1443a81c308b185288cdbbe\n",
    "\n",
    "Let's try running our different movement models with different models. \n",
    "\n",
    "### Ice cube movement"
   ]
  },
  {
   "attachments": {},
   "cell_type": "markdown",
   "metadata": {},
   "source": [
    "[move-steps: per-day=2; duration=[2/3, 1/3]]\n",
    "\n",
    "# A toy example: ice cube tray movement movement model\n",
    "# Each state sends a fixed number of commuters to the next\n",
    "# state in the line (without wraparound). \n",
    "[mtype: days=all; leave=1; duration=\"1d\"; return=2; function=]\n",
    "def icecube(t, src):\n",
    "    # using `zeros_like` here is just a convenient way\n",
    "    # to make an empty integer array of the correct length\n",
    "    commuters = zeros_like(geo['population'])\n",
    "    if (src + 1) < commuters.size:\n",
    "        commuters[src + 1] = 5000\n",
    "    return commuters\n",
    "]\n"
   ]
  },
  {
   "attachments": {},
   "cell_type": "markdown",
   "metadata": {},
   "source": [
    "###  No movement"
   ]
  },
  {
   "cell_type": "markdown",
   "metadata": {},
   "source": [
    "[move-steps: per-day=1; duration=[1]]\n",
    "\n",
    "# No movement at all.\n",
    "# Obviously this isn't the most-efficient-imaginable way to accomplish this,\n",
    "# but this way we don't have to write any new code, so here we are.\n",
    "[mtype: days=all; leave=1; duration=0d; return=1; function=\n",
    "def f(t, src, dst):\n",
    "    return 0\n",
    "]\n"
   ]
  },
  {
   "attachments": {},
   "cell_type": "markdown",
   "metadata": {},
   "source": [
    "### Pei movement"
   ]
  },
  {
   "cell_type": "markdown",
   "metadata": {},
   "source": [
    "[move-steps: per-day=2; duration=[2/3, 1/3]]\n",
    "\n",
    "# Commuter movement\n",
    "[mtype: days=all; leave=1; duration=0d; return=2; function=\n",
    "def commuters(t, src):\n",
    "    typical = geo['commuters_by_node'][src]\n",
    "    actual = binomial(typical, param['move_control'])\n",
    "    return multinomial(actual, geo['commuting_probability'][src, ...])\n",
    "]\n",
    "\n",
    "# Disperser movement\n",
    "[mtype: days=all; leave=1; duration=0d; return=2; function=\n",
    "def dispersers(t, src, dst):\n",
    "    avg = geo['commuters_average'][src, dst]\n",
    "    return poisson(avg * param['theta'])\n",
    "]\n"
   ]
  },
  {
   "attachments": {},
   "cell_type": "markdown",
   "metadata": {},
   "source": [
    "### Sparsmod movement "
   ]
  },
  {
   "cell_type": "markdown",
   "metadata": {},
   "source": [
    "[move-steps: per-day=2; duration=[2/3, 1/3]]\n",
    "\n",
    "# Commuter movement\n",
    "[mtype: days=all; leave=1; duration=0d; return=2; function=\n",
    "def sparse_commuters(t, src):\n",
    "    actual = geo['commuters'][src]\n",
    "    return multinomial(actual, geo['dispersal_kernel'][src, ...])\n",
    "]\n"
   ]
  }
 ],
 "metadata": {
  "kernelspec": {
   "display_name": "Python 3",
   "language": "python",
   "name": "python3"
  },
  "language_info": {
   "codemirror_mode": {
    "name": "ipython",
    "version": 3
   },
   "file_extension": ".py",
   "mimetype": "text/x-python",
   "name": "python",
   "nbconvert_exporter": "python",
   "pygments_lexer": "ipython3",
   "version": "3.11.3"
  },
  "orig_nbformat": 4
 },
 "nbformat": 4,
 "nbformat_minor": 2
}
