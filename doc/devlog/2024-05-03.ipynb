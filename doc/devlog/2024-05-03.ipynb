{
 "cells": [
  {
   "cell_type": "markdown",
   "metadata": {},
   "source": [
    "# devlog 2024-05-03\n",
    "\n",
    "_Author: Tyler Coles_\n",
    "\n",
    "Testing our us_census functions for loading canonical sets of IDs for Census granularities from state to block group for all supported TIGER years (2000 and 2009-2023).\n",
    "\n",
    "Since this is our source of truth for these delineations, we want to make sure we're getting complete data. One thing we can test is that at each level of granularity (above block group) each node should contain at least one child node. That is every state should contain a county, every county a tract, and every tract a block group. Otherwise we know something is missing.\n",
    "\n",
    "(This may seem like a trivial test, but in fact it discovered that my original assumptions about how TIGER provides the data were invalid and has already saved us from bugs!)\n",
    "\n",
    "WARNING: this will take a very long time if you don't have the TIGER files cached."
   ]
  },
  {
   "cell_type": "code",
   "execution_count": 1,
   "metadata": {},
   "outputs": [],
   "source": [
    "import epymorph.geography.us_census as c\n",
    "import epymorph.geography.us_tiger as t\n",
    "\n",
    "\n",
    "class Fail(Exception):\n",
    "    pass\n",
    "\n",
    "\n",
    "def test_year(year: int) -> None:\n",
    "    # 1. test that we have 52 states\n",
    "    states = c.get_us_states(year).geoid\n",
    "\n",
    "    if len(states) != 52:\n",
    "        raise Fail(\"There weren't 52 states!\")\n",
    "\n",
    "    # 2. test that each state contains at least one county\n",
    "    counties = c.get_us_counties(year).geoid\n",
    "    counties_by_state = c.STATE.grouped(counties)\n",
    "\n",
    "    exs = [\n",
    "        Fail(f\"State {x} does not have at least one county.\")\n",
    "        for x in states\n",
    "        if x not in counties_by_state or len(counties_by_state[x]) == 0\n",
    "    ]\n",
    "    if len(exs) > 0:\n",
    "        raise ExceptionGroup(\"Failed checking counties.\", exs)\n",
    "\n",
    "    # 3. test that each county contains at least one tract\n",
    "    tracts = c.get_us_tracts(year).geoid\n",
    "    tracts_by_county = c.COUNTY.grouped(tracts)\n",
    "\n",
    "    exs = []\n",
    "    for x in counties:\n",
    "        if x not in tracts_by_county or len(tracts_by_county[x]) == 0:\n",
    "            exs.append(Fail(f\"County {x} does not have at least one tract.\"))\n",
    "    if len(exs) > 0:\n",
    "        raise ExceptionGroup(\"Failed checking tracts.\", exs)\n",
    "\n",
    "    # 4. test that each tract contains at least one block group\n",
    "    cbgs = c.get_us_block_groups(year).geoid\n",
    "    cbgs_by_tract = c.TRACT.grouped(cbgs)\n",
    "\n",
    "    exs = []\n",
    "    for x in tracts:\n",
    "        if x not in cbgs_by_tract or len(cbgs_by_tract[x]) == 0:\n",
    "            exs.append(Fail(f\"Tract {x} does not have at least one block group.\"))\n",
    "    if len(exs) > 0:\n",
    "        raise ExceptionGroup(\"Failed checking block groups.\", exs)\n",
    "\n",
    "    print(f\"Census year {year} passed!\")"
   ]
  },
  {
   "cell_type": "code",
   "execution_count": 2,
   "metadata": {},
   "outputs": [
    {
     "name": "stdout",
     "output_type": "stream",
     "text": [
      "Census year 2000 passed!\n",
      "Census year 2009 passed!\n",
      "Census year 2010 passed!\n",
      "Census year 2011 passed!\n",
      "Census year 2012 passed!\n",
      "Census year 2013 passed!\n",
      "Census year 2014 passed!\n",
      "Census year 2015 passed!\n",
      "Census year 2016 passed!\n",
      "Census year 2017 passed!\n",
      "Census year 2018 passed!\n",
      "Census year 2019 passed!\n",
      "Census year 2020 passed!\n",
      "Census year 2021 passed!\n",
      "Census year 2022 passed!\n",
      "Census year 2023 passed!\n"
     ]
    }
   ],
   "source": [
    "for year in t.TIGER_YEARS:\n",
    "    test_year(year)"
   ]
  }
 ],
 "metadata": {
  "kernelspec": {
   "display_name": ".venv",
   "language": "python",
   "name": "python3"
  },
  "language_info": {
   "codemirror_mode": {
    "name": "ipython",
    "version": 3
   },
   "file_extension": ".py",
   "mimetype": "text/x-python",
   "name": "python",
   "nbconvert_exporter": "python",
   "pygments_lexer": "ipython3",
   "version": "3.11.9"
  }
 },
 "nbformat": 4,
 "nbformat_minor": 2
}
