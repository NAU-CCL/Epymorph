{
 "cells": [
  {
   "attachments": {},
   "cell_type": "markdown",
   "metadata": {},
   "source": [
    "### Active Data Resource Interface Objects (ADRIOs)\n",
    "\n",
    "The ADRIO system is being developed as a way to simplify the process of assembling GEOs as part of the simulation workflow. ADRIOs are derived from an abstract class and each exists to interface with a specific resource and extract specific data from that resource (doing any necessary filtering and transformation along the way). ADRIOs utilize templates for different data sources which contain the core logic for data retrieval from that source. The ADRIOs created thus far support attributes used in two pre-existing Geos, and all utilize a US Census template. The first set were created with the following use case in mind:\n",
    "\n",
    "I am a modeler working on a disease with human-to-human transmission and I believe certain social determinants of health are a significant factor in disease outcomes. I want to use EpiMoRPH to model a metapopulation at the county level in the US Southwest region. My existing disease data, that I hope to use for parameter fitting, comes from 2015. I need the following data for each county, filtering to Arizona, New Mexico, Nevada, Utah, and Colorado:\n",
    "\n",
    "- Each county’s name and state.\n",
    "- Geographic centroid.\n",
    "- Population in 2015, total as well as aggregated into age brackets: under 20, 20-to-64, and 65 and older.\n",
    "- Population density.\n",
    "- Median household annual income.\n",
    "- The [Dissimilarity Index](https://www.phenxtoolkit.org/protocols/view/211403) of racial segregation for selected minority groups (currently African Americans) calculated from the census tracts comprising each county.\n",
    "\n",
    "\n",
    "All data for this use case comes from Census tables and/or shape files. As such, a US Census API key is required to download much of it. These ADRIOs are configured to search for a key in an environment variable named \"CENSUS_API_KEY\". Please make sure you have an [API key](https://api.census.gov/data/key_signup.html) and have assigned it to an environment variable with this name if running the code yourself."
   ]
  },
  {
   "attachments": {},
   "cell_type": "markdown",
   "metadata": {},
   "source": [
    "### GEO Assembly\n",
    "\n",
    "Assembly of whole Geos is done through GEOSpecs. GEOSpecs are objects containing an ID, year, granularity level, list of geographic nodes, and a list of ADRIOSpec objects, which are simply used to specify which ADRIOs to call on by their class name.\n",
    "\n",
    "The below code creates a GEOSpec object through its initializer and serializes it to a .geo file using a predefined serialize method. With this file created, an entry can be added to the geo_library in epymorph.data.__init__, mapping the name of the Geo (in this case us_sw_counties_2015) to a string file path pointing to its .geo file."
   ]
  },
  {
   "cell_type": "code",
   "execution_count": 4,
   "metadata": {},
   "outputs": [],
   "source": [
    "from epymorph.adrio.adrio import GEOSpec, ADRIOSpec, serialize\n",
    "from epymorph.adrio.census.adrio_census import Granularity\n",
    "\n",
    "spec = GEOSpec('us_sw_counties_2015', Granularity.COUNTY.value,\n",
    "               {'state': ['04','08','49','35','32'], 'county': ['*'], 'tract': ['*'], 'block group': ['*']}, \n",
    "                                       ADRIOSpec('Name'),      # label ADRIO\n",
    "                                      [ADRIOSpec('GEOID'),\n",
    "                                       ADRIOSpec('Centroid'),\n",
    "                                       ADRIOSpec('MedianIncome'),\n",
    "                                       ADRIOSpec('Population'),\n",
    "                                       ADRIOSpec('PopulationByAge'),\n",
    "                                       ADRIOSpec('PopDensityKm2'),\n",
    "                                       ADRIOSpec('DissimilarityIndex')], 2015)\n",
    "\n",
    "serialize(spec, f'epymorph/data/geo/{spec.id}.geo')"
   ]
  },
  {
   "attachments": {},
   "cell_type": "markdown",
   "metadata": {},
   "source": [
    "With that done, the new Geo can be passed into the run command of the main epymorph program the same way existing .py Geo files have been. The only difference being that, instead of creating a Geo through the load function of a .py file, the Geo is created through a GEOBuilder, which uses a GEOSpec object to build a Geo through ADRIOs.\n",
    "\n",
    "The below code shows the run command being executed with an ADRIO-based Geo passed in. You can see the Geo's creation process execute after requirments are loaded."
   ]
  },
  {
   "cell_type": "code",
   "execution_count": 2,
   "metadata": {},
   "outputs": [
    {
     "name": "stdout",
     "output_type": "stream",
     "text": [
      "Loading requirements:\n",
      "[✓] IPM (sirs)\n",
      "[✓] MM (centroids)\n",
      "[✓] Geo (us_sw_counties_2015)\n",
      "Fetching GEO data from ADRIOs...\n",
      "Fetching name\n",
      "Fetching geoid\n",
      "Fetching centroid\n",
      "Fetching median_income\n",
      "Fetching population\n",
      "Fetching population_by_age\n",
      "Fetching pop_density_km2\n",
      "Fetching dissimilarity_index\n",
      "...done\n",
      "\n",
      "Running simulation (BasicEngine):\n",
      "• 2010-01-01 to 2010-05-31 (150 days)\n",
      "• 158 geo nodes\n",
      "|####################| 100% \n",
      "Runtime: 14.473s\n",
      "Done\n"
     ]
    }
   ],
   "source": [
    "from epymorph.run import run\n",
    "\n",
    "\"\"\"\n",
    "toml file contents:\n",
    "\n",
    "ipm = 'sirs'\n",
    "mm = 'centroids'\n",
    "geo = 'us_sw_counties_2015'\n",
    "start_date = '2010-01-01'\n",
    "duration = '150d'\n",
    "\n",
    "[init]\n",
    "initializer = \"single_location\"\n",
    "location = 0\n",
    "seed_size = 10000\n",
    "\n",
    "[params]\n",
    "beta = 0.4\n",
    "gamma = 0.25 # 1/4\n",
    "xi = 0.111 # 1/90\n",
    "phi = 40.0\n",
    "theta = 0.1\n",
    "move_control = 0.9\n",
    "infection_duration = 4.0\n",
    "immunity_duration = 90.0\n",
    "\"\"\"\n",
    "\n",
    "exit_code = run(\n",
    "    input_path=\"scratch/adrio_test.toml\",\n",
    "    out_path= None,\n",
    "    chart=None,\n",
    "    profiling= False,\n",
    "    engine_id=None\n",
    ")"
   ]
  },
  {
   "cell_type": "markdown",
   "metadata": {},
   "source": [
    "### Individual ADRIOS"
   ]
  },
  {
   "cell_type": "code",
   "execution_count": 3,
   "metadata": {},
   "outputs": [
    {
     "name": "stdout",
     "output_type": "stream",
     "text": [
      "['Arizona' 'Colorado' 'Nevada' 'New Mexico' 'Utah']\n"
     ]
    }
   ],
   "source": [
    "from epymorph.adrio.census.name import Name\n",
    "\n",
    "adrio = Name(spec=spec) # Name of state, county, tract, or block group\n",
    "\n",
    "data = adrio.fetch()\n",
    "\n",
    "print(data[:10])"
   ]
  },
  {
   "cell_type": "code",
   "execution_count": 4,
   "metadata": {},
   "outputs": [
    {
     "name": "stdout",
     "output_type": "stream",
     "text": [
      "['04' '08' '32' '35' '49']\n"
     ]
    }
   ],
   "source": [
    "from epymorph.adrio.census.geoid import GEOID\n",
    "\n",
    "adrio = GEOID(spec=spec) # GEOID\n",
    "\n",
    "data = adrio.fetch()\n",
    "\n",
    "print(data[:10])"
   ]
  },
  {
   "cell_type": "code",
   "execution_count": 5,
   "metadata": {},
   "outputs": [
    {
     "name": "stdout",
     "output_type": "stream",
     "text": [
      "[( -99.81080001, 41.52714193) (-120.44686425, 47.38096155)\n",
      " (-106.10837877, 34.42136519) (-100.23049794, 44.4361533 )\n",
      " ( -85.2904514 , 37.52666029) ( -83.44633796, 32.64922284)\n",
      " ( -92.43926114, 34.899739  ) ( -77.7995569 , 40.8738297 )\n",
      " ( -89.66520805, 32.75086061) (-105.54781457, 38.99854554)]\n"
     ]
    }
   ],
   "source": [
    "from epymorph.adrio.census.centroid import Centroid\n",
    "\n",
    "adrio = Centroid(spec=spec) # Geographic centroid\n",
    "\n",
    "data = adrio.fetch()\n",
    "\n",
    "print(data[:10])"
   ]
  },
  {
   "cell_type": "code",
   "execution_count": 3,
   "metadata": {},
   "outputs": [
    {
     "name": "stdout",
     "output_type": "stream",
     "text": [
      "[1512 4699 5999 5916 4382 3999 7294 3771 4938 5043]\n"
     ]
    }
   ],
   "source": [
    "from epymorph.adrio.census.population import Population\n",
    "\n",
    "adrio = Population(spec=spec)  # Total population\n",
    "\n",
    "data = adrio.fetch()\n",
    "\n",
    "print(data[:10])"
   ]
  },
  {
   "cell_type": "code",
   "execution_count": 4,
   "metadata": {},
   "outputs": [
    {
     "name": "stdout",
     "output_type": "stream",
     "text": [
      "[[4788  790  203]\n",
      " [5098 2499  743]\n",
      " [5640 3453  570]\n",
      " [5899 3214  462]\n",
      " [5863 2044  297]\n",
      " [5125 2273  418]\n",
      " [6329 3854  759]\n",
      " [5013 2105  485]\n",
      " [5321 2687  721]\n",
      " [5055 3092  738]]\n"
     ]
    }
   ],
   "source": [
    "from epymorph.adrio.census.population_by_age import PopulationByAge\n",
    "\n",
    "adrio = PopulationByAge(spec=spec)  # Aggregated population\n",
    "\n",
    "data = adrio.fetch()\n",
    "\n",
    "print(data[:10])"
   ]
  },
  {
   "cell_type": "code",
   "execution_count": 5,
   "metadata": {},
   "outputs": [
    {
     "name": "stdout",
     "output_type": "stream",
     "text": [
      "[20972 26676 32250 24667 33438 25353 24985 22552 19271 41102]\n"
     ]
    }
   ],
   "source": [
    "from epymorph.adrio.census.median_income import MedianIncome\n",
    "\n",
    "adrio = MedianIncome(spec=spec)  # Median income\n",
    "\n",
    "data = adrio.fetch()\n",
    "\n",
    "print(data[:10])"
   ]
  },
  {
   "cell_type": "code",
   "execution_count": 3,
   "metadata": {},
   "outputs": [
    {
     "name": "stdout",
     "output_type": "stream",
     "text": [
      "[  2.   8.   3.   4.   3.   2.   2. 169.   6.   4.]\n"
     ]
    }
   ],
   "source": [
    "from epymorph.adrio.census.pop_density_km2 import PopDensityKm2\n",
    "\n",
    "adrio = PopDensityKm2(spec=spec) # Population density\n",
    "\n",
    "data = adrio.fetch()\n",
    "\n",
    "print(data[:10])"
   ]
  },
  {
   "cell_type": "code",
   "execution_count": 7,
   "metadata": {},
   "outputs": [
    {
     "name": "stdout",
     "output_type": "stream",
     "text": [
      "[0.5        0.5        0.21551724 0.11406844 0.8778626  0.62809917\n",
      " 0.37078652 0.27702703 0.5        0.88292683]\n"
     ]
    }
   ],
   "source": [
    "from epymorph.adrio.census.dissimilarity_index import DissimilarityIndex\n",
    "\n",
    "adrio = DissimilarityIndex(spec=spec)    # Dissimilarity index for Afrian Americans\n",
    "\n",
    "data = adrio.fetch()\n",
    "\n",
    "print(data[:10])"
   ]
  },
  {
   "cell_type": "markdown",
   "metadata": {},
   "source": [
    "### MARICOPA ADRIOS\n",
    "\n",
    "The remaining cells are used to demonstrate ADRIOs for additional attributes used in the Maricopa county cbg 2019 geo."
   ]
  },
  {
   "cell_type": "code",
   "execution_count": 2,
   "metadata": {},
   "outputs": [],
   "source": [
    "from epymorph.adrio.adrio import GEOSpec, ADRIOSpec, serialize\n",
    "from epymorph.adrio.census.adrio_census import Granularity\n",
    "\n",
    "maricopa = GEOSpec('maricopa_cbg_2019', Granularity.CBG.value,\n",
    "               {'state': ['04'], 'county': ['013'], 'tract': ['*'], 'block group': ['*']}, \n",
    "                                       ADRIOSpec('Name'),      # label ADRIO\n",
    "                                      [ADRIOSpec('GEOID'),\n",
    "                                       ADRIOSpec('Centroid'),\n",
    "                                       ADRIOSpec('MedianIncome'),\n",
    "                                       ADRIOSpec('TractMedianIncome'),\n",
    "                                       ADRIOSpec('Population'),\n",
    "                                       ADRIOSpec('PopulationByAge'),\n",
    "                                       ADRIOSpec('PopulationByAgex6'),\n",
    "                                       ADRIOSpec('PopDensityKm2'),\n",
    "                                       ADRIOSpec('MedianAge'),\n",
    "                                       ADRIOSpec('AverageHouseholdSize'),\n",
    "                                       ADRIOSpec('GiniIndex')], 2015)\n",
    "\n",
    "serialize(maricopa, f'epymorph/data/geo/{maricopa.id}.geo')"
   ]
  },
  {
   "cell_type": "code",
   "execution_count": 3,
   "metadata": {},
   "outputs": [
    {
     "name": "stdout",
     "output_type": "stream",
     "text": [
      "Loading requirements:\n",
      "[✓] IPM (sirs)\n",
      "[✓] MM (centroids)\n",
      "[✓] Geo (maricopa_cbg_2019)\n",
      "Fetching GEO data from ADRIOs...\n",
      "Fetching name\n",
      "Fetching geoid\n",
      "Fetching centroid\n",
      "Fetching median_income\n",
      "Fetching tract_median_income\n",
      "Fetching population\n",
      "Fetching population_by_age\n",
      "Fetching population_by_age_x6\n",
      "Fetching pop_density_km2\n",
      "Fetching median_age\n",
      "Fetching average_household_size\n",
      "Fetching gini_index\n",
      "Gini Index cannot be retrieved for block group level, fetching tract level data instead.\n",
      "...done\n",
      "\n",
      "Running simulation (BasicEngine):\n",
      "• 2010-01-01 to 2010-05-31 (150 days)\n",
      "• 2505 geo nodes\n",
      "|                    | 0% \r"
     ]
    },
    {
     "ename": "KeyboardInterrupt",
     "evalue": "",
     "output_type": "error",
     "traceback": [
      "\u001b[0;31m---------------------------------------------------------------------------\u001b[0m",
      "\u001b[0;31mKeyboardInterrupt\u001b[0m                         Traceback (most recent call last)",
      "Cell \u001b[0;32mIn[3], line 28\u001b[0m\n\u001b[1;32m      1\u001b[0m \u001b[39mfrom\u001b[39;00m \u001b[39mepymorph\u001b[39;00m\u001b[39m.\u001b[39;00m\u001b[39mrun\u001b[39;00m \u001b[39mimport\u001b[39;00m run\n\u001b[1;32m      3\u001b[0m \u001b[39m\"\"\"\u001b[39;00m\n\u001b[1;32m      4\u001b[0m \u001b[39mtoml file contents:\u001b[39;00m\n\u001b[1;32m      5\u001b[0m \n\u001b[0;32m   (...)\u001b[0m\n\u001b[1;32m     25\u001b[0m \u001b[39mimmunity_duration = 90.0\u001b[39;00m\n\u001b[1;32m     26\u001b[0m \u001b[39m\"\"\"\u001b[39;00m\n\u001b[0;32m---> 28\u001b[0m exit_code \u001b[39m=\u001b[39m run(\n\u001b[1;32m     29\u001b[0m     input_path\u001b[39m=\u001b[39;49m\u001b[39m\"\u001b[39;49m\u001b[39mscratch/maricopa_adrio_test.toml\u001b[39;49m\u001b[39m\"\u001b[39;49m,\n\u001b[1;32m     30\u001b[0m     out_path\u001b[39m=\u001b[39;49m \u001b[39mNone\u001b[39;49;00m,\n\u001b[1;32m     31\u001b[0m     chart\u001b[39m=\u001b[39;49m\u001b[39mNone\u001b[39;49;00m,\n\u001b[1;32m     32\u001b[0m     profiling\u001b[39m=\u001b[39;49m \u001b[39mFalse\u001b[39;49;00m,\n\u001b[1;32m     33\u001b[0m     engine_id\u001b[39m=\u001b[39;49m\u001b[39mNone\u001b[39;49;00m\n\u001b[1;32m     34\u001b[0m )\n",
      "File \u001b[0;32m~/Desktop/CCL/Epymorph/epymorph/run.py:256\u001b[0m, in \u001b[0;36mrun\u001b[0;34m(input_path, engine_id, out_path, chart, profiling)\u001b[0m\n\u001b[1;32m    252\u001b[0m rng \u001b[39m=\u001b[39m \u001b[39mNone\u001b[39;00m \u001b[39mif\u001b[39;00m run_input\u001b[39m.\u001b[39mrng_seed \u001b[39mis\u001b[39;00m \u001b[39mNone\u001b[39;00m \\\n\u001b[1;32m    253\u001b[0m     \u001b[39melse\u001b[39;00m np\u001b[39m.\u001b[39mrandom\u001b[39m.\u001b[39mdefault_rng(run_input\u001b[39m.\u001b[39mrng_seed)\n\u001b[1;32m    255\u001b[0m t0 \u001b[39m=\u001b[39m time\u001b[39m.\u001b[39mperf_counter()\n\u001b[0;32m--> 256\u001b[0m out \u001b[39m=\u001b[39m sim\u001b[39m.\u001b[39;49mrun(run_input\u001b[39m.\u001b[39;49mparams, start_date, duration_days, initializer, rng)\n\u001b[1;32m    257\u001b[0m t1 \u001b[39m=\u001b[39m time\u001b[39m.\u001b[39mperf_counter()\n\u001b[1;32m    259\u001b[0m \u001b[39mprint\u001b[39m(\u001b[39mf\u001b[39m\u001b[39m\"\u001b[39m\u001b[39mRuntime: \u001b[39m\u001b[39m{\u001b[39;00m(t1\u001b[39m \u001b[39m\u001b[39m-\u001b[39m\u001b[39m \u001b[39mt0)\u001b[39m:\u001b[39;00m\u001b[39m.3f\u001b[39m\u001b[39m}\u001b[39;00m\u001b[39ms\u001b[39m\u001b[39m\"\u001b[39m)\n",
      "File \u001b[0;32m~/Desktop/CCL/Epymorph/epymorph/simulation.py:186\u001b[0m, in \u001b[0;36mSimulation.run\u001b[0;34m(self, param, start_date, duration_days, initializer, rng)\u001b[0m\n\u001b[1;32m    184\u001b[0m t \u001b[39m=\u001b[39m tick\u001b[39m.\u001b[39mindex\n\u001b[1;32m    185\u001b[0m \u001b[39m# First do movement\u001b[39;00m\n\u001b[0;32m--> 186\u001b[0m mvm\u001b[39m.\u001b[39;49mapply(tick)\n\u001b[1;32m    187\u001b[0m \u001b[39m# Then for each location:\u001b[39;00m\n\u001b[1;32m    188\u001b[0m \u001b[39mfor\u001b[39;00m p, loc \u001b[39min\u001b[39;00m \u001b[39menumerate\u001b[39m(mvm\u001b[39m.\u001b[39mget_locations()):\n\u001b[1;32m    189\u001b[0m     \u001b[39m# Calc events by compartment\u001b[39;00m\n",
      "File \u001b[0;32m~/Desktop/CCL/Epymorph/epymorph/movement/basic.py:154\u001b[0m, in \u001b[0;36mBasicEngine.apply\u001b[0;34m(self, tick)\u001b[0m\n\u001b[1;32m    151\u001b[0m getLogger(\u001b[39m'\u001b[39m\u001b[39mmovement\u001b[39m\u001b[39m'\u001b[39m)\u001b[39m.\u001b[39mdebug(\u001b[39m\"\u001b[39m\u001b[39mProcessing movement for day \u001b[39m\u001b[39m%s\u001b[39;00m\u001b[39m, step \u001b[39m\u001b[39m%s\u001b[39;00m\u001b[39m\"\u001b[39m,\n\u001b[1;32m    152\u001b[0m                             tick\u001b[39m.\u001b[39mday, tick\u001b[39m.\u001b[39mstep)\n\u001b[1;32m    153\u001b[0m \u001b[39m# Defer to base-class implementation.\u001b[39;00m\n\u001b[0;32m--> 154\u001b[0m \u001b[39mreturn\u001b[39;00m \u001b[39msuper\u001b[39;49m()\u001b[39m.\u001b[39;49mapply(tick)\n",
      "File \u001b[0;32m~/Desktop/CCL/Epymorph/epymorph/movement/engine.py:71\u001b[0m, in \u001b[0;36mMovementEngine.apply\u001b[0;34m(self, tick)\u001b[0m\n\u001b[1;32m     69\u001b[0m \u001b[39mmatch\u001b[39;00m clause:\n\u001b[1;32m     70\u001b[0m     \u001b[39mcase\u001b[39;00m ReturnClause():\n\u001b[0;32m---> 71\u001b[0m         \u001b[39mself\u001b[39;49m\u001b[39m.\u001b[39;49m_apply_return(clause, tick)\n\u001b[1;32m     72\u001b[0m     \u001b[39mcase\u001b[39;00m ArrayClause():\n\u001b[1;32m     73\u001b[0m         \u001b[39mself\u001b[39m\u001b[39m.\u001b[39m_apply_array(clause, tick)\n",
      "File \u001b[0;32m~/Desktop/CCL/Epymorph/epymorph/movement/basic.py:166\u001b[0m, in \u001b[0;36mBasicEngine._apply_return\u001b[0;34m(self, clause, tick)\u001b[0m\n\u001b[1;32m    164\u001b[0m     cohort\u001b[39m.\u001b[39mreturn_tick \u001b[39m=\u001b[39m HOME_TICK\n\u001b[1;32m    165\u001b[0m     new_cohorts[cohort\u001b[39m.\u001b[39mreturn_location]\u001b[39m.\u001b[39mappend(cohort)\n\u001b[0;32m--> 166\u001b[0m     total_movers \u001b[39m+\u001b[39m\u001b[39m=\u001b[39m cohort\u001b[39m.\u001b[39;49mcompartments\u001b[39m.\u001b[39;49msum()\n\u001b[1;32m    167\u001b[0m \u001b[39melse\u001b[39;00m:\n\u001b[1;32m    168\u001b[0m     \u001b[39m# cohort staying\u001b[39;00m\n\u001b[1;32m    169\u001b[0m     new_cohorts[loc\u001b[39m.\u001b[39mget_index()]\u001b[39m.\u001b[39mappend(cohort)\n",
      "File \u001b[0;32m~/Desktop/CCL/Epymorph/.venv/lib/python3.11/site-packages/numpy/core/_methods.py:49\u001b[0m, in \u001b[0;36m_sum\u001b[0;34m(a, axis, dtype, out, keepdims, initial, where)\u001b[0m\n\u001b[1;32m     47\u001b[0m \u001b[39mdef\u001b[39;00m \u001b[39m_sum\u001b[39m(a, axis\u001b[39m=\u001b[39m\u001b[39mNone\u001b[39;00m, dtype\u001b[39m=\u001b[39m\u001b[39mNone\u001b[39;00m, out\u001b[39m=\u001b[39m\u001b[39mNone\u001b[39;00m, keepdims\u001b[39m=\u001b[39m\u001b[39mFalse\u001b[39;00m,\n\u001b[1;32m     48\u001b[0m          initial\u001b[39m=\u001b[39m_NoValue, where\u001b[39m=\u001b[39m\u001b[39mTrue\u001b[39;00m):\n\u001b[0;32m---> 49\u001b[0m     \u001b[39mreturn\u001b[39;00m umr_sum(a, axis, dtype, out, keepdims, initial, where)\n",
      "\u001b[0;31mKeyboardInterrupt\u001b[0m: "
     ]
    }
   ],
   "source": [
    "from epymorph.run import run\n",
    "\n",
    "\"\"\"\n",
    "toml file contents:\n",
    "\n",
    "ipm = 'sirs'\n",
    "mm = 'centroids'\n",
    "geo = 'maricopa_cbg_2019'\n",
    "start_date = '2010-01-01'\n",
    "duration = '150d'\n",
    "\n",
    "[init]\n",
    "initializer = \"single_location\"\n",
    "location = 0\n",
    "seed_size = 100\n",
    "\n",
    "[params]\n",
    "beta = 0.4\n",
    "gamma = 0.25 # 1/4\n",
    "xi = 0.111 # 1/90\n",
    "phi = 40.0\n",
    "theta = 0.1\n",
    "move_control = 0.9\n",
    "infection_duration = 4.0\n",
    "immunity_duration = 90.0\n",
    "\"\"\"\n",
    "\n",
    "exit_code = run(\n",
    "    input_path=\"scratch/maricopa_adrio_test.toml\",\n",
    "    out_path= None,\n",
    "    chart=None,\n",
    "    profiling= False,\n",
    "    engine_id=None\n",
    ")"
   ]
  },
  {
   "cell_type": "code",
   "execution_count": 5,
   "metadata": {},
   "outputs": [
    {
     "name": "stdout",
     "output_type": "stream",
     "text": [
      "[106818 106818 106818 132822 132822 132822  97188  97188  97188  76069]\n"
     ]
    }
   ],
   "source": [
    "from epymorph.adrio.census.tract_median_income import TractMedianIncome\n",
    "\n",
    "adrio = TractMedianIncome(spec=maricopa)\n",
    "\n",
    "data = adrio.fetch()\n",
    "\n",
    "print(data[:10])"
   ]
  },
  {
   "cell_type": "code",
   "execution_count": 6,
   "metadata": {},
   "outputs": [
    {
     "name": "stdout",
     "output_type": "stream",
     "text": [
      "[44 58 71 58 63 66 65 62 69 66]\n"
     ]
    }
   ],
   "source": [
    "from epymorph.adrio.census.median_age import MedianAge\n",
    "\n",
    "adrio = MedianAge(spec=maricopa)\n",
    "\n",
    "data = adrio.fetch()\n",
    "\n",
    "print(data[:10])"
   ]
  },
  {
   "cell_type": "code",
   "execution_count": 7,
   "metadata": {},
   "outputs": [
    {
     "name": "stdout",
     "output_type": "stream",
     "text": [
      "[2 2 2 2 2 1 2 1 2 2]\n"
     ]
    }
   ],
   "source": [
    "from epymorph.adrio.census.average_household_size import AverageHouseholdSize\n",
    "\n",
    "adrio = AverageHouseholdSize(spec=maricopa)\n",
    "\n",
    "data = adrio.fetch()\n",
    "\n",
    "print(data[:10])"
   ]
  },
  {
   "cell_type": "code",
   "execution_count": 8,
   "metadata": {},
   "outputs": [
    {
     "name": "stdout",
     "output_type": "stream",
     "text": [
      "[[ 354  265  520  333   31   30]\n",
      " [ 529   58  454  305  432  399]\n",
      " [  78  145   73  195  354  493]\n",
      " [1475   40  237  366  209    0]\n",
      " [2218   17  271  316  515  346]\n",
      " [1492   26   62  453  511  514]\n",
      " [ 592  120  280  170  441  253]\n",
      " [ 642  105  236  292  602  158]\n",
      " [1991   16  199  132  243  452]\n",
      " [1489   13   32  143  152   88]]\n"
     ]
    }
   ],
   "source": [
    "from epymorph.adrio.census.population_by_age_x6 import PopulationByAgex6\n",
    "\n",
    "adrio = PopulationByAgex6(spec=maricopa)\n",
    "\n",
    "data = adrio.fetch()\n",
    "\n",
    "print(data[:10])"
   ]
  },
  {
   "cell_type": "code",
   "execution_count": 9,
   "metadata": {},
   "outputs": [
    {
     "name": "stdout",
     "output_type": "stream",
     "text": [
      "Gini Index cannot be retrieved for block group level, fetching tract level data instead.\n",
      "[0.4226 0.4226 0.4226 0.5013 0.5013 0.5013 0.5136 0.5136 0.5136 0.4608]\n"
     ]
    }
   ],
   "source": [
    "from epymorph.adrio.census.gini_index import GiniIndex\n",
    "\n",
    "adrio = GiniIndex(spec=maricopa)\n",
    "\n",
    "data = adrio.fetch()\n",
    "\n",
    "print(data[:10])"
   ]
  },
  {
   "cell_type": "code",
   "execution_count": 1,
   "metadata": {},
   "outputs": [],
   "source": [
    "from epymorph.adrio.adrio import GEOSpec, ADRIOSpec, serialize\n",
    "from epymorph.adrio.census.adrio_census import Granularity\n",
    "\n",
    "pei = GEOSpec('pei', Granularity.STATE.value,\n",
    "               {'state': ['12', '13', '45', '37', '51', '24'], 'county': ['*'], 'tract': ['*'], 'block group': ['*']}, \n",
    "                                       ADRIOSpec('Name'),      # label ADRIO\n",
    "                                      [ADRIOSpec('GEOID'),\n",
    "                                       ADRIOSpec('Population'),\n",
    "                                       ADRIOSpec('Commuters')], 2015)\n",
    "\n",
    "serialize(pei, f'epymorph/data/geo/{pei.id}.geo')"
   ]
  },
  {
   "cell_type": "code",
   "execution_count": 3,
   "metadata": {},
   "outputs": [
    {
     "name": "stdout",
     "output_type": "stream",
     "text": [
      "Loading requirements:\n",
      "[✓] IPM (pei)\n",
      "[✓] MM (pei)\n",
      "[✓] Geo (pei)\n",
      "Fetching GEO data from ADRIOs...\n",
      "Fetching name\n",
      "Fetching geoid\n",
      "Fetching population\n",
      "Fetching commuters\n",
      "Commuting data cannot be retrieved for 2016, fetching 2015 data instead.\n"
     ]
    },
    {
     "ename": "KeyboardInterrupt",
     "evalue": "",
     "output_type": "error",
     "traceback": [
      "\u001b[0;31m---------------------------------------------------------------------------\u001b[0m",
      "\u001b[0;31mKeyboardInterrupt\u001b[0m                         Traceback (most recent call last)",
      "Cell \u001b[0;32mIn[3], line 28\u001b[0m\n\u001b[1;32m      1\u001b[0m \u001b[39mfrom\u001b[39;00m \u001b[39mepymorph\u001b[39;00m\u001b[39m.\u001b[39;00m\u001b[39mrun\u001b[39;00m \u001b[39mimport\u001b[39;00m run\n\u001b[1;32m      3\u001b[0m \u001b[39m\"\"\"\u001b[39;00m\n\u001b[1;32m      4\u001b[0m \u001b[39mtoml file contents:\u001b[39;00m\n\u001b[1;32m      5\u001b[0m \n\u001b[0;32m   (...)\u001b[0m\n\u001b[1;32m     25\u001b[0m \u001b[39mimmunity_duration = 90.0\u001b[39;00m\n\u001b[1;32m     26\u001b[0m \u001b[39m\"\"\"\u001b[39;00m\n\u001b[0;32m---> 28\u001b[0m exit_code \u001b[39m=\u001b[39m run(\n\u001b[1;32m     29\u001b[0m     input_path\u001b[39m=\u001b[39;49m\u001b[39m\"\u001b[39;49m\u001b[39mscratch/pei_adrio_test.toml\u001b[39;49m\u001b[39m\"\u001b[39;49m,\n\u001b[1;32m     30\u001b[0m     out_path\u001b[39m=\u001b[39;49m \u001b[39mNone\u001b[39;49;00m,\n\u001b[1;32m     31\u001b[0m     chart\u001b[39m=\u001b[39;49m\u001b[39mNone\u001b[39;49;00m,\n\u001b[1;32m     32\u001b[0m     profiling\u001b[39m=\u001b[39;49m \u001b[39mFalse\u001b[39;49;00m,\n\u001b[1;32m     33\u001b[0m     engine_id\u001b[39m=\u001b[39;49m\u001b[39mNone\u001b[39;49;00m\n\u001b[1;32m     34\u001b[0m )\n",
      "File \u001b[0;32m~/Desktop/CCL/Epymorph/epymorph/run.py:239\u001b[0m, in \u001b[0;36mrun\u001b[0;34m(input_path, engine_id, out_path, chart, profiling)\u001b[0m\n\u001b[1;32m    235\u001b[0m duration_days \u001b[39m=\u001b[39m (end_date \u001b[39m-\u001b[39m start_date)\u001b[39m.\u001b[39mdays\n\u001b[1;32m    237\u001b[0m configure_sim_logging(enabled\u001b[39m=\u001b[39m\u001b[39mnot\u001b[39;00m profiling)\n\u001b[0;32m--> 239\u001b[0m geo \u001b[39m=\u001b[39m geo_builder()\n\u001b[1;32m    240\u001b[0m sim \u001b[39m=\u001b[39m Simulation(geo, ipm_builder(), mm_builder(), engine)\n\u001b[1;32m    242\u001b[0m \u001b[39mprint\u001b[39m()\n",
      "File \u001b[0;32m~/Desktop/CCL/Epymorph/epymorph/data/__init__.py:41\u001b[0m, in \u001b[0;36mgeo_spec_loader.<locals>.load\u001b[0;34m(force)\u001b[0m\n\u001b[1;32m     39\u001b[0m \u001b[39mdef\u001b[39;00m \u001b[39mload\u001b[39m(force\u001b[39m=\u001b[39m\u001b[39mFalse\u001b[39;00m) \u001b[39m-\u001b[39m\u001b[39m>\u001b[39m Geo:\n\u001b[1;32m     40\u001b[0m     spec_string \u001b[39m=\u001b[39m geo_spec_file\u001b[39m.\u001b[39mread_text(encoding\u001b[39m=\u001b[39m\u001b[39m\"\u001b[39m\u001b[39mutf-8\u001b[39m\u001b[39m\"\u001b[39m)\n\u001b[0;32m---> 41\u001b[0m     \u001b[39mreturn\u001b[39;00m GEOBuilder(spec_string)\u001b[39m.\u001b[39;49mbuild(force)\n",
      "File \u001b[0;32m~/Desktop/CCL/Epymorph/epymorph/geo.py:164\u001b[0m, in \u001b[0;36mGEOBuilder.build\u001b[0;34m(self, force)\u001b[0m\n\u001b[1;32m    160\u001b[0m thread_data \u001b[39m=\u001b[39m (executor\u001b[39m.\u001b[39msubmit(\u001b[39mself\u001b[39m\u001b[39m.\u001b[39mget_attribute, key, spec)\n\u001b[1;32m    161\u001b[0m                \u001b[39mfor\u001b[39;00m key, spec \u001b[39min\u001b[39;00m all_adrios)\n\u001b[1;32m    163\u001b[0m \u001b[39m# loop for threads as completed\u001b[39;00m\n\u001b[0;32m--> 164\u001b[0m \u001b[39mfor\u001b[39;00m future \u001b[39min\u001b[39;00m as_completed(thread_data):\n\u001b[1;32m    165\u001b[0m     \u001b[39m# get result of future\u001b[39;00m\n\u001b[1;32m    166\u001b[0m     curr_data \u001b[39m=\u001b[39m future\u001b[39m.\u001b[39mresult()\n\u001b[1;32m    168\u001b[0m     \u001b[39m# assign dictionary at attribute to resulting array\u001b[39;00m\n",
      "File \u001b[0;32m/usr/lib/python3.11/concurrent/futures/_base.py:243\u001b[0m, in \u001b[0;36mas_completed\u001b[0;34m(fs, timeout)\u001b[0m\n\u001b[1;32m    238\u001b[0m     \u001b[39mif\u001b[39;00m wait_timeout \u001b[39m<\u001b[39m \u001b[39m0\u001b[39m:\n\u001b[1;32m    239\u001b[0m         \u001b[39mraise\u001b[39;00m \u001b[39mTimeoutError\u001b[39;00m(\n\u001b[1;32m    240\u001b[0m                 \u001b[39m'\u001b[39m\u001b[39m%d\u001b[39;00m\u001b[39m (of \u001b[39m\u001b[39m%d\u001b[39;00m\u001b[39m) futures unfinished\u001b[39m\u001b[39m'\u001b[39m \u001b[39m%\u001b[39m (\n\u001b[1;32m    241\u001b[0m                 \u001b[39mlen\u001b[39m(pending), total_futures))\n\u001b[0;32m--> 243\u001b[0m waiter\u001b[39m.\u001b[39;49mevent\u001b[39m.\u001b[39;49mwait(wait_timeout)\n\u001b[1;32m    245\u001b[0m \u001b[39mwith\u001b[39;00m waiter\u001b[39m.\u001b[39mlock:\n\u001b[1;32m    246\u001b[0m     finished \u001b[39m=\u001b[39m waiter\u001b[39m.\u001b[39mfinished_futures\n",
      "File \u001b[0;32m/usr/lib/python3.11/threading.py:622\u001b[0m, in \u001b[0;36mEvent.wait\u001b[0;34m(self, timeout)\u001b[0m\n\u001b[1;32m    620\u001b[0m signaled \u001b[39m=\u001b[39m \u001b[39mself\u001b[39m\u001b[39m.\u001b[39m_flag\n\u001b[1;32m    621\u001b[0m \u001b[39mif\u001b[39;00m \u001b[39mnot\u001b[39;00m signaled:\n\u001b[0;32m--> 622\u001b[0m     signaled \u001b[39m=\u001b[39m \u001b[39mself\u001b[39;49m\u001b[39m.\u001b[39;49m_cond\u001b[39m.\u001b[39;49mwait(timeout)\n\u001b[1;32m    623\u001b[0m \u001b[39mreturn\u001b[39;00m signaled\n",
      "File \u001b[0;32m/usr/lib/python3.11/threading.py:320\u001b[0m, in \u001b[0;36mCondition.wait\u001b[0;34m(self, timeout)\u001b[0m\n\u001b[1;32m    318\u001b[0m \u001b[39mtry\u001b[39;00m:    \u001b[39m# restore state no matter what (e.g., KeyboardInterrupt)\u001b[39;00m\n\u001b[1;32m    319\u001b[0m     \u001b[39mif\u001b[39;00m timeout \u001b[39mis\u001b[39;00m \u001b[39mNone\u001b[39;00m:\n\u001b[0;32m--> 320\u001b[0m         waiter\u001b[39m.\u001b[39;49macquire()\n\u001b[1;32m    321\u001b[0m         gotit \u001b[39m=\u001b[39m \u001b[39mTrue\u001b[39;00m\n\u001b[1;32m    322\u001b[0m     \u001b[39melse\u001b[39;00m:\n",
      "\u001b[0;31mKeyboardInterrupt\u001b[0m: "
     ]
    }
   ],
   "source": [
    "from epymorph.run import run\n",
    "\n",
    "\"\"\"\n",
    "toml file contents:\n",
    "\n",
    "ipm = 'sirs'\n",
    "mm = 'centroids'\n",
    "geo = 'maricopa_cbg_2019'\n",
    "start_date = '2010-01-01'\n",
    "duration = '150d'\n",
    "\n",
    "[init]\n",
    "initializer = \"single_location\"\n",
    "location = 0\n",
    "seed_size = 100\n",
    "\n",
    "[params]\n",
    "beta = 0.4\n",
    "gamma = 0.25 # 1/4\n",
    "xi = 0.111 # 1/90\n",
    "phi = 40.0\n",
    "theta = 0.1\n",
    "move_control = 0.9\n",
    "infection_duration = 4.0\n",
    "immunity_duration = 90.0\n",
    "\"\"\"\n",
    "\n",
    "exit_code = run(\n",
    "    input_path=\"scratch/pei_adrio_test.toml\",\n",
    "    out_path= None,\n",
    "    chart=None,\n",
    "    profiling= False,\n",
    "    engine_id=None\n",
    ")"
   ]
  },
  {
   "attachments": {},
   "cell_type": "markdown",
   "metadata": {},
   "source": [
    "### Caching\n",
    "In order to prevent long wait times for data retrieval every time the simulation runs, data fetched by ADRIOs are cached in CSV files located in a .cache folder in the adrio directory. Once data has been fetched and cached once, future retrieval of that data is instant. A CLI command also exists to fetch and cache data from ADRIOs without running the simulation, allowing users to pre-load or refresh their cache at any time. This is demonstrated below."
   ]
  },
  {
   "cell_type": "code",
   "execution_count": 2,
   "metadata": {},
   "outputs": [
    {
     "name": "stdout",
     "output_type": "stream",
     "text": [
      "Fetching GEO data from ADRIOs...\n",
      "Fetching name_and_state\n",
      "Fetching geoid\n",
      "Fetching centroid\n",
      "Fetching median_income\n",
      "Fetching population\n",
      "Fetching population_by_age\n",
      "Fetching pop_density_km2\n",
      "Fetching dissimilarity_index\n",
      "...done\n",
      "Data successfully cached\n"
     ]
    }
   ],
   "source": [
    "from epymorph.cache import cache_geo\n",
    "\n",
    "# \"cache\" subcommand demo\n",
    "exit_code = cache_geo(\n",
    "    'us_sw_counties_2015',  # name of Geo\n",
    "    True                    # -f arg: determines whether to overwrite existing data\n",
    ")"
   ]
  }
 ],
 "metadata": {
  "kernelspec": {
   "display_name": ".venv",
   "language": "python",
   "name": "python3"
  },
  "language_info": {
   "codemirror_mode": {
    "name": "ipython",
    "version": 3
   },
   "file_extension": ".py",
   "mimetype": "text/x-python",
   "name": "python",
   "nbconvert_exporter": "python",
   "pygments_lexer": "ipython3",
   "version": "3.11.0rc1"
  },
  "orig_nbformat": 4
 },
 "nbformat": 4,
 "nbformat_minor": 2
}
