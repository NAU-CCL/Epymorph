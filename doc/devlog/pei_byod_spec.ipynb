{
 "cells": [
  {
   "cell_type": "code",
   "execution_count": 5,
   "metadata": {},
   "outputs": [],
   "source": [
    "from pathlib import Path\n",
    "\n",
    "import numpy as np\n",
    "\n",
    "from epymorph.data_shape import Shapes\n",
    "from epymorph.geo.adrio.census.adrio_census import CensusGeography, Granularity\n",
    "from epymorph.geo.spec import AttribDef, CentroidDType, DynamicGeoSpec, Year\n",
    "\n",
    "pei = DynamicGeoSpec(\n",
    "    attributes=[\n",
    "        AttribDef('label', np.str_, Shapes.N),\n",
    "        AttribDef('geoid', np.str_, Shapes.N),\n",
    "        AttribDef('centroid', CentroidDType, Shapes.N),\n",
    "        AttribDef('population', np.int64, Shapes.N),\n",
    "        AttribDef('commuters', np.int64, Shapes.NxN),\n",
    "    ],\n",
    "    geography=CensusGeography(granularity=Granularity.STATE, filter={\n",
    "        'state': ['12', '13', '24', '37', '45', '51'],\n",
    "        'county': ['*'],\n",
    "        'tract': ['*'],\n",
    "        'block group': ['*']\n",
    "    }),\n",
    "    time_period=Year(2015),\n",
    "    source={\n",
    "        'label': 'Census:name',\n",
    "        'population': 'File:./scratch/pei_population.csv:state_abbr',\n",
    "        'geoid': 'Census',\n",
    "        'centroid': 'Census',\n",
    "        'commuters': 'Census'\n",
    "    }\n",
    ")\n",
    "\n",
    "json = pei.serialize()\n",
    "with open(Path('./epymorph/data/geo/pei_BYOD.geo'), mode='w', encoding='utf-8') as f:\n",
    "    f.write(json)"
   ]
  }
 ],
 "metadata": {
  "kernelspec": {
   "display_name": ".venv",
   "language": "python",
   "name": "python3"
  },
  "language_info": {
   "codemirror_mode": {
    "name": "ipython",
    "version": 3
   },
   "file_extension": ".py",
   "mimetype": "text/x-python",
   "name": "python",
   "nbconvert_exporter": "python",
   "pygments_lexer": "ipython3",
   "version": "3.11.8"
  }
 },
 "nbformat": 4,
 "nbformat_minor": 2
}
