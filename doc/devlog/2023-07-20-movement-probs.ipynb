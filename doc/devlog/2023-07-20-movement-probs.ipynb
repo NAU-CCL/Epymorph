{
 "cells": [
  {
   "cell_type": "markdown",
   "metadata": {},
   "source": [
    "# On movement algorithms\n",
    "\n",
    "_author: Tyler Coles_\n",
    "\n",
    "Our movement processing works by taking sequential multivariate hypergeometric (mvhg) draws on a diminishing pool. Is this statistically correct?\n",
    "\n",
    "Because we process locations in a fixed order and locations may have drastically different numbers of movers, it's unclear to me if this could be skewing the chances that later/smaller populations receive individuals from certain compartments. In other words, do large movement vectors drain the pool of infecteds before smaller populations get a chance? (Especially when there's a relatively small number of infected individuals.)\n",
    "\n",
    "Let's test this experimentally.\n",
    "\n",
    "## Experiment setup\n",
    "\n",
    "Let's take a simplified example world with four populations: $a$, $b$, $c$, and $d$. Population $a$ will have one million people total with one thousand infected in a standard SIR model. In a normal movement cycle, ten thousand people go to $b$, and one hundred each go to $c$ and $d$.\n",
    "\n",
    "Defining a \"successful\" trial as an infected individual moving from $a$ to $d$, we can use the hypergeometric probability formula to calculate the expected odds of certain numbers of successes (we are sampling without replacement):\n",
    "\n",
    "$$P(X = k) = \\frac{\\binom{K}{k} \\binom{N - K}{n-k}}{\\binom{N}{n}}$$\n",
    "\n",
    "If our movement model is fair (not skewed) we should see similar experimental results (for a large number of random trials).\n"
   ]
  },
  {
   "cell_type": "code",
   "execution_count": 1,
   "metadata": {},
   "outputs": [
    {
     "name": "stdout",
     "output_type": "stream",
     "text": [
      "P(X = 0) = 90.479%\n",
      "P(X = 1) =  9.058%\n",
      "P(X = 2) =  0.448%\n",
      "P(X = 3) =  0.015%\n",
      "P(X = 4) =  0.000%\n",
      "P(X = 5) =  0.000%\n",
      "P(X = 6) =  0.000%\n",
      "P(X = 7) =  0.000%\n",
      "P(X = 8) =  0.000%\n",
      "P(X = 9) =  0.000%\n",
      " ...etc...\n",
      "P(X ≥ 1) =  9.521%\n"
     ]
    }
   ],
   "source": [
    "import math\n",
    "\n",
    "# size of the population\n",
    "N = 1_000_000\n",
    "# number of infected\n",
    "K = 1_000\n",
    "\n",
    "\n",
    "def prob(k: int, n: int) -> float:\n",
    "    \"\"\"hypergeometric distributed probability of k successes in n trials\"\"\"\n",
    "    return math.comb(K, k) * math.comb(N - K, n - k) / math.comb(N, n)\n",
    "\n",
    "\n",
    "probs = [prob(k, 100) for k in range(0, 10)]\n",
    "\n",
    "for k, p in enumerate(probs):\n",
    "    print(f\"P(X = {k}) = {p:>7.3%}\")\n",
    "print(\" ...etc...\")\n",
    "print(f\"P(X ≥ 1) = {(1 - probs[0]):>7.3%}\")"
   ]
  },
  {
   "cell_type": "code",
   "execution_count": 2,
   "metadata": {},
   "outputs": [],
   "source": [
    "import matplotlib.pyplot as plt\n",
    "import numpy as np\n",
    "from numpy.random import Generator\n",
    "\n",
    "# [S,I,R] compartments in a\n",
    "pop_a = np.array([N - K, K, 0], dtype=int)\n",
    "\n",
    "# we have pops [a,b,c,d]\n",
    "# number of movers from a to [a,b,c,d]\n",
    "mov_a = np.array([0, 10_000, 100, 100], dtype=int)\n",
    "\n",
    "total_movers = sum(mov_a)\n",
    "\n",
    "# normalized number of movers leaving\n",
    "# (aka, the probability that any given mover would go to a particular destination)\n",
    "mover_ps = mov_a / total_movers\n",
    "\n",
    "\n",
    "def run_trials(movement_func, trials):\n",
    "    \"\"\"exercise the given movement function a bunch of times then aggregate and display the results\"\"\"\n",
    "    rng = np.random.default_rng(1)\n",
    "\n",
    "    # collect the number of \"successes\":\n",
    "    # individuals moving from pop_1 (the first population) to pop_n (the last population) who are infected\n",
    "    res = np.fromiter((movement_func(rng)\n",
    "                      for _ in range(trials)), dtype=int, count=trials)\n",
    "\n",
    "    # count how many times each result happens and plot as bar chart\n",
    "    values, occurrences = np.unique(res, return_counts=True)\n",
    "    plt.bar(values, occurrences / trials)\n",
    "    plt.title('P(x infected movers from pop_1 to pop_n)')\n",
    "    plt.ylim((0, 1))\n",
    "    plt.xticks([0, 1, 2, 3, 4, 5])\n",
    "    plt.show()\n",
    "\n",
    "    # print the observed probability of each outcome\n",
    "    for value, occurs in zip(values, occurrences):\n",
    "        print(f\"Pr(X = {value}): {(occurs / trials):>7.3%}\")\n",
    "\n",
    "\n",
    "TRIALS = 10_000_000"
   ]
  },
  {
   "cell_type": "markdown",
   "metadata": {},
   "source": [
    "### Movement Scheme #1\n",
    "\n",
    "This movement scheme is roughly representative of our current algorithm.\n",
    "\n",
    "For each destination in sequence:\n",
    "\n",
    "1. perform a mvhg draw to select the individuals going to that destination,\n",
    "2. decrement the selected individuals from the source pool, and\n",
    "3. repeat.\n"
   ]
  },
  {
   "cell_type": "code",
   "execution_count": 3,
   "metadata": {},
   "outputs": [
    {
     "data": {
      "image/png": "[encoded data removed]",
      "text/plain": [
       "<Figure size 640x480 with 1 Axes>"
      ]
     },
     "metadata": {},
     "output_type": "display_data"
    },
    {
     "name": "stdout",
     "output_type": "stream",
     "text": [
      "Pr(X = 0): 90.474%\n",
      "Pr(X = 1):  9.063%\n",
      "Pr(X = 2):  0.448%\n",
      "Pr(X = 3):  0.015%\n",
      "Pr(X = 4):  0.000%\n",
      "Pr(X = 5):  0.000%\n"
     ]
    }
   ],
   "source": [
    "def movement_1(rng: Generator) -> int:\n",
    "    a = pop_a.copy()\n",
    "    a -= rng.multivariate_hypergeometric(a, mov_a[0])\n",
    "    a -= rng.multivariate_hypergeometric(a, mov_a[1])\n",
    "    a_to_d = rng.multivariate_hypergeometric(a, mov_a[2])\n",
    "    # return number of I going to d\n",
    "    return a_to_d[1]\n",
    "\n",
    "\n",
    "run_trials(movement_1, TRIALS)"
   ]
  },
  {
   "cell_type": "markdown",
   "metadata": {},
   "source": [
    "### Movement Scheme #2\n",
    "\n",
    "This movement scheme is a slightly different approach.\n",
    "\n",
    "1. Perform one mvhg draw to select every individual leaving from $a$, then\n",
    "2. distribute those individuals between all destinations using a multinomial draw for each compartment based on the destination's\n",
    "probability.\n"
   ]
  },
  {
   "cell_type": "code",
   "execution_count": 4,
   "metadata": {},
   "outputs": [
    {
     "data": {
      "image/png": "[encoded data removed]",
      "text/plain": [
       "<Figure size 640x480 with 1 Axes>"
      ]
     },
     "metadata": {},
     "output_type": "display_data"
    },
    {
     "name": "stdout",
     "output_type": "stream",
     "text": [
      "Pr(X = 0): 90.483%\n",
      "Pr(X = 1):  9.047%\n",
      "Pr(X = 2):  0.454%\n",
      "Pr(X = 3):  0.016%\n",
      "Pr(X = 4):  0.000%\n"
     ]
    }
   ],
   "source": [
    "def movement_2(rng: Generator) -> int:\n",
    "    a = pop_a.copy()  # this is only here to make runtime fairly comparable to movement_1\n",
    "\n",
    "    mover_cs = rng.multivariate_hypergeometric(pop_a, total_movers)\n",
    "    split_cs = rng.multinomial(mover_cs, mover_ps).T\n",
    "    # return number of I going to d\n",
    "    return split_cs[2, 1]\n",
    "\n",
    "\n",
    "run_trials(movement_2, TRIALS)"
   ]
  },
  {
   "cell_type": "markdown",
   "metadata": {},
   "source": [
    "### Statistical Results\n",
    "\n",
    "Both movement schemes reproduce our expectations! There is no obvious statistical difference between the two.\n",
    "\n",
    "## Runtime Analysis\n",
    "\n",
    "In terms of runtime, however, scheme #2 appears to have a small edge. But if we run this with 1000 populations instead, the performance difference is stark!"
   ]
  },
  {
   "cell_type": "code",
   "execution_count": 5,
   "metadata": {},
   "outputs": [
    {
     "data": {
      "text/plain": [
       "'Double-checking since we changed the population numbers:'"
      ]
     },
     "metadata": {},
     "output_type": "display_data"
    },
    {
     "data": {
      "text/plain": [
       "'P(X ≥ 1) =  9.521%'"
      ]
     },
     "metadata": {},
     "output_type": "display_data"
    }
   ],
   "source": [
    "import time\n",
    "\n",
    "# [S,I,R] compartments in A\n",
    "N = 10_000_000\n",
    "K = 10_000\n",
    "pop_a = np.array([N - K, K, 0], dtype=int)\n",
    "\n",
    "# we have 1000 pops, the last one is called Z\n",
    "# number of movers from A to all other pops\n",
    "# - the first entry is A itself\n",
    "# - then 10 pops with 1000 movers\n",
    "# - then the rest with 100 movers\n",
    "mov_a = np.concatenate((\n",
    "    np.array([0], dtype=int),\n",
    "    np.full(shape=(10,), fill_value=1000, dtype=int),\n",
    "    np.full(shape=(989,), fill_value=100, dtype=int),\n",
    "))\n",
    "\n",
    "total_movers = sum(mov_a)\n",
    "\n",
    "# normalized number of movers leaving\n",
    "# (aka, the probability that any given mover would go to a particular destination)\n",
    "mover_ps = mov_a / total_movers\n",
    "\n",
    "\n",
    "def prob(k: int, n: int) -> float:\n",
    "    \"\"\"hypergeometric distributed probability of k successes in n trials\"\"\"\n",
    "    return math.comb(K, k) * math.comb(N - K, n - k) / math.comb(N, n)\n",
    "\n",
    "\n",
    "display(\"Double-checking since we changed the population numbers:\")\n",
    "display(f\"P(X ≥ 1) = {(1 - prob(0,100)):>7.3%}\")\n",
    "\n",
    "TRIALS_PART_B = 10_000"
   ]
  },
  {
   "cell_type": "code",
   "execution_count": 6,
   "metadata": {},
   "outputs": [
    {
     "data": {
      "image/png": "[encoded data removed]",
      "text/plain": [
       "<Figure size 640x480 with 1 Axes>"
      ]
     },
     "metadata": {},
     "output_type": "display_data"
    },
    {
     "name": "stdout",
     "output_type": "stream",
     "text": [
      "Pr(X = 0): 90.530%\n",
      "Pr(X = 1):  9.100%\n",
      "Pr(X = 2):  0.370%\n"
     ]
    },
    {
     "data": {
      "text/plain": [
       "'Runtime: 96.355s'"
      ]
     },
     "execution_count": 6,
     "metadata": {},
     "output_type": "execute_result"
    }
   ],
   "source": [
    "def movement_1b(rng: Generator) -> int:\n",
    "    a = pop_a.copy()\n",
    "    last = np.zeros(3, dtype=int)\n",
    "    for movers in mov_a:\n",
    "        last = rng.multivariate_hypergeometric(a, movers)\n",
    "        a -= last\n",
    "    return last[1]\n",
    "\n",
    "\n",
    "t0 = time.perf_counter()\n",
    "run_trials(movement_1b, TRIALS_PART_B)\n",
    "t1 = time.perf_counter()\n",
    "f\"Runtime: {(t1 - t0):.3f}s\""
   ]
  },
  {
   "cell_type": "code",
   "execution_count": 7,
   "metadata": {},
   "outputs": [
    {
     "data": {
      "image/png": "[encoded data removed]",
      "text/plain": [
       "<Figure size 640x480 with 1 Axes>"
      ]
     },
     "metadata": {},
     "output_type": "display_data"
    },
    {
     "name": "stdout",
     "output_type": "stream",
     "text": [
      "Pr(X = 0): 90.240%\n",
      "Pr(X = 1):  9.280%\n",
      "Pr(X = 2):  0.460%\n",
      "Pr(X = 3):  0.020%\n"
     ]
    },
    {
     "data": {
      "text/plain": [
       "'Runtime: 1.314s'"
      ]
     },
     "execution_count": 7,
     "metadata": {},
     "output_type": "execute_result"
    }
   ],
   "source": [
    "def movement_2b(rng: Generator) -> int:\n",
    "    a = pop_a.copy()  # this is only here to make runtime fairly comparable to movement_1\n",
    "    mover_cs = rng.multivariate_hypergeometric(pop_a, total_movers)\n",
    "    split_cs = rng.multinomial(mover_cs, mover_ps).T\n",
    "    return split_cs[-1, 1]\n",
    "\n",
    "\n",
    "t0 = time.perf_counter()\n",
    "run_trials(movement_2b, TRIALS_PART_B)\n",
    "t1 = time.perf_counter()\n",
    "f\"Runtime: {(t1 - t0):.3f}s\""
   ]
  },
  {
   "cell_type": "markdown",
   "metadata": {},
   "source": [
    "## Conclusion\n",
    "\n",
    "These results strongly suggest that the order in which we process locations during movement does not matter!"
   ]
  }
 ],
 "metadata": {
  "kernelspec": {
   "display_name": ".venv",
   "language": "python",
   "name": "python3"
  },
  "language_info": {
   "codemirror_mode": {
    "name": "ipython",
    "version": 3
   },
   "file_extension": ".py",
   "mimetype": "text/x-python",
   "name": "python",
   "nbconvert_exporter": "python",
   "pygments_lexer": "ipython3",
   "version": "3.11.6"
  },
  "orig_nbformat": 4
 },
 "nbformat": 4,
 "nbformat_minor": 2
}
