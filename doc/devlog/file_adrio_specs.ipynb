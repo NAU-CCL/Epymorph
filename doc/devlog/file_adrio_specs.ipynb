{
 "cells": [
  {
   "cell_type": "code",
   "execution_count": null,
   "metadata": {},
   "outputs": [],
   "source": [
    "from pathlib import Path\n",
    "\n",
    "from epymorph.data_shape import Shapes\n",
    "from epymorph.data_type import CentroidDType\n",
    "from epymorph.geo.adrio.file.adrio_file import FileSpec\n",
    "from epymorph.geo.spec import DynamicGeoSpec, Year\n",
    "from epymorph.geography.us_census import StateScope\n",
    "from epymorph.simulation import geo_attrib\n",
    "\n",
    "spec = DynamicGeoSpec(\n",
    "    attributes=[\n",
    "        geo_attrib('label', str, Shapes.N),\n",
    "        geo_attrib('geoid', str, Shapes.N),\n",
    "        geo_attrib('centroid', CentroidDType, Shapes.N),\n",
    "        geo_attrib('population', int, Shapes.N),\n",
    "        geo_attrib('commuters', int, Shapes.NxN),\n",
    "    ],\n",
    "    scope=StateScope.in_states(['12', '13', '24', '37', '45', '51']),\n",
    "    time_period=Year(2015),\n",
    "    source={\n",
    "        'label': \"Census:name\",\n",
    "        'population': FileSpec(Path(\"./scratch/pei_population.csv\"), \"state_name\", [\"population\"], \"state_abbr\", \"csv\", 0),\n",
    "        'geoid': \"Census\",\n",
    "        'centroid': \"Census\",\n",
    "        'commuters': \"Census\"\n",
    "    }\n",
    ")"
   ]
  },
  {
   "cell_type": "code",
   "execution_count": null,
   "metadata": {},
   "outputs": [],
   "source": [
    "from pathlib import Path\n",
    "\n",
    "from epymorph.data_shape import Shapes\n",
    "from epymorph.data_type import CentroidDType\n",
    "from epymorph.geo.adrio.file.adrio_file import FileSpecTime\n",
    "from epymorph.geo.spec import DynamicGeoSpec, Year\n",
    "from epymorph.geography.us_census import CountyScope\n",
    "from epymorph.simulation import geo_attrib\n",
    "\n",
    "spec = DynamicGeoSpec(\n",
    "    attributes=[\n",
    "        geo_attrib('label', str, Shapes.N),\n",
    "        geo_attrib('population', int, Shapes.N),\n",
    "        geo_attrib('population_by_age', int, Shapes.NxA(3)),\n",
    "        geo_attrib('centroid', CentroidDType, Shapes.N),\n",
    "        geo_attrib('geoid', str, Shapes.N),\n",
    "        geo_attrib('dissimilarity_index', float, Shapes.N),\n",
    "        geo_attrib('median_income', int, Shapes.N),\n",
    "        geo_attrib('pop_density_km2', float, Shapes.N)\n",
    "    ],\n",
    "    time_period=Year(2015),\n",
    "    scope=CountyScope.in_states(['04', '08', '49', '35', '32']),\n",
    "    source={\n",
    "        'label': 'Census:name',\n",
    "        'population': 'Census',\n",
    "        'population_by_age': FileSpecTime(Path(\"./scratch/us_sw_counties_population.csv\"), \"County\", [\"Young\", \"Adult\", \"Elderly\"], \"county_state\", \"csv\", 0, \"Year\"),\n",
    "        'centroid': 'Census',\n",
    "        'geoid': 'Census',\n",
    "        'dissimilarity_index': 'Census',\n",
    "        'median_income': 'Census',\n",
    "        'pop_density_km2': 'Census'\n",
    "    }\n",
    ")"
   ]
  },
  {
   "cell_type": "code",
   "execution_count": null,
   "metadata": {},
   "outputs": [],
   "source": [
    "from pathlib import Path\n",
    "\n",
    "from epymorph.data_shape import Shapes\n",
    "from epymorph.data_type import CentroidDType\n",
    "from epymorph.geo.adrio.file.adrio_file import FileSpecTime\n",
    "from epymorph.geo.spec import DynamicGeoSpec, Year\n",
    "from epymorph.simulation import geo_attrib\n",
    "\n",
    "spec = DynamicGeoSpec(\n",
    "    attributes=[\n",
    "        geo_attrib('label', str, Shapes.N),\n",
    "        geo_attrib('population', int, Shapes.N),\n",
    "        geo_attrib('population_by_age', int, Shapes.NxA(3)),\n",
    "        geo_attrib('centroid', CentroidDType, Shapes.N),\n",
    "        geo_attrib('geoid', str, Shapes.N),\n",
    "        geo_attrib('dissimilarity_index', float, Shapes.N),\n",
    "        geo_attrib('median_income', int, Shapes.N),\n",
    "        geo_attrib('pop_density_km2', float, Shapes.N)\n",
    "    ],\n",
    "    time_period=Year(2015),\n",
    "    scope=CountyScope.in_states(['04', '08', '49', '35', '32']),\n",
    "    source={\n",
    "        'label': 'Census:name',\n",
    "        'population': 'Census',\n",
    "        'population_by_age': FileSpecTime(Path(\"./scratch/us_sw_counties_population.csv\"), 1, [2, 3, 4], \"county_state\", \"csv\", 1, 0),\n",
    "        'centroid': 'Census',\n",
    "        'geoid': 'Census',\n",
    "        'dissimilarity_index': 'Census',\n",
    "        'median_income': 'Census',\n",
    "        'pop_density_km2': 'Census'\n",
    "    }\n",
    ")"
   ]
  },
  {
   "cell_type": "code",
   "execution_count": null,
   "metadata": {},
   "outputs": [],
   "source": [
    "from epymorph.geo.adrio import adrio_maker_library\n",
    "from epymorph.geo.dynamic import DynamicGeo\n",
    "\n",
    "geo = DynamicGeo.from_library(spec, adrio_maker_library)"
   ]
  },
  {
   "cell_type": "code",
   "execution_count": null,
   "metadata": {},
   "outputs": [],
   "source": [
    "# geo['population']\n",
    "geo['population_by_age']\n",
    "# geo.validate()"
   ]
  }
 ],
 "metadata": {
  "kernelspec": {
   "display_name": ".venv",
   "language": "python",
   "name": "python3"
  },
  "language_info": {
   "codemirror_mode": {
    "name": "ipython",
    "version": 3
   },
   "file_extension": ".py",
   "mimetype": "text/x-python",
   "name": "python",
   "nbconvert_exporter": "python",
   "pygments_lexer": "ipython3",
   "version": "3.11.9"
  }
 },
 "nbformat": 4,
 "nbformat_minor": 2
}
