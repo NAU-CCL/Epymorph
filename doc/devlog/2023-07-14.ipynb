{
 "cells": [
  {
   "cell_type": "markdown",
   "metadata": {},
   "source": [
    "# Devlog 2023-07-14\n",
    "\n",
    "_author: Tyler Coles_\n",
    "\n",
    "Demonstrating the new `filter_geo` utility function.\n",
    "\n",
    "First we prepare a simulation as usual by selecting a GEO/IPM/MM and defining our simulation parameters."
   ]
  },
  {
   "cell_type": "code",
   "execution_count": 1,
   "metadata": {},
   "outputs": [
    {
     "name": "stdout",
     "output_type": "stream",
     "text": [
      "Geo contains 3220 nodes.\n"
     ]
    }
   ],
   "source": [
    "import time\n",
    "from datetime import date\n",
    "\n",
    "from epymorph.data import geo_library_static, ipm_library, mm_library\n",
    "from epymorph.simulation import Simulation\n",
    "\n",
    "geo = geo_library_static['us_counties_2015']()\n",
    "ipm_builder = ipm_library['sirs']()\n",
    "mvm_builder = mm_library['sparsemod']()\n",
    "\n",
    "param = {\n",
    "    # MM\n",
    "    'phi': 40.0,\n",
    "    # IPM\n",
    "    'beta': 0.4,\n",
    "    'gamma': 0.25,\n",
    "    'xi': 0.011,\n",
    "    # Initializer\n",
    "    'location': 0,\n",
    "    'seed_size': 1000\n",
    "}\n",
    "\n",
    "print(f\"Geo contains {geo.nodes} nodes.\")\n"
   ]
  },
  {
   "cell_type": "markdown",
   "metadata": {},
   "source": [
    "`us_counties_2015` is a big geo! Using the `sparsemod` movement model is going to take a while..."
   ]
  },
  {
   "cell_type": "code",
   "execution_count": 2,
   "metadata": {},
   "outputs": [
    {
     "name": "stdout",
     "output_type": "stream",
     "text": [
      "Complete in 270.819 s\n"
     ]
    }
   ],
   "source": [
    "sim = Simulation(geo, ipm_builder, mvm_builder)\n",
    "\n",
    "t0 = time.perf_counter()\n",
    "sim.run(param=param, start_date=date(2010, 1, 1), duration_days=30)\n",
    "t1 = time.perf_counter()\n",
    "print(f\"Complete in {(t1 - t0):.3f} s\")\n"
   ]
  },
  {
   "cell_type": "markdown",
   "metadata": {},
   "source": [
    "Whew. This is fine if we _need_ to run a full simulation, but what if we're working in some kind of implementation loop?\n",
    "\n",
    "Maybe we're tweaking parameters little by little based on the observation of our results. If the simulation runs faster, we can try more parameters. And maybe we don't need a full simulation to know if our parameters are good or not. For this kind of purpose, it would be handy to simulate on a subset of the nodes from the geo. But it would be a pain to create a whole new geo that is just a subset of another one.\n",
    "\n",
    "Now we can easily pull this off with geo filtering!\n",
    "\n",
    "The first step is to select which nodes should be in our subset, then we can create a filtered geo.\n",
    "\n",
    "Selections are nothing more than an array of indices. Utility function `top` is a convenient way to get the top-N nodes, but any method to choose a set of indices will work. (There's also `bottom` for instance.)"
   ]
  },
  {
   "cell_type": "code",
   "execution_count": 3,
   "metadata": {},
   "outputs": [
    {
     "name": "stdout",
     "output_type": "stream",
     "text": [
      "Original has 3220 nodes; filtered has 200.\n"
     ]
    }
   ],
   "source": [
    "from epymorph.util import top\n",
    "\n",
    "# Here we're selecting the 200 nodes with the most population.\n",
    "selection = top(200, geo['population'])\n",
    "\n",
    "# `filter_geo` then returns a new geo by applying a selection\n",
    "# to every attribute in the original geo.\n",
    "geo_filtered = geo.filter(selection)\n",
    "\n",
    "print(f\"Original has {geo.nodes} nodes; filtered has {geo_filtered.nodes}.\")\n"
   ]
  },
  {
   "cell_type": "markdown",
   "metadata": {},
   "source": [
    "Running the simulation on the filtered geo is much faster!"
   ]
  },
  {
   "cell_type": "code",
   "execution_count": 4,
   "metadata": {},
   "outputs": [
    {
     "name": "stdout",
     "output_type": "stream",
     "text": [
      "Complete in 16.025 s\n"
     ]
    }
   ],
   "source": [
    "sim = Simulation(geo_filtered, ipm_builder, mvm_builder)\n",
    "\n",
    "t0 = time.perf_counter()\n",
    "sim.run(param=param, start_date=date(2010, 1, 1), duration_days=30)\n",
    "t1 = time.perf_counter()\n",
    "print(f\"Complete in {(t1 - t0):.3f} s\")\n"
   ]
  }
 ],
 "metadata": {
  "kernelspec": {
   "display_name": ".venv",
   "language": "python",
   "name": "python3"
  },
  "language_info": {
   "codemirror_mode": {
    "name": "ipython",
    "version": 3
   },
   "file_extension": ".py",
   "mimetype": "text/x-python",
   "name": "python",
   "nbconvert_exporter": "python",
   "pygments_lexer": "ipython3",
   "version": "3.11.4"
  },
  "orig_nbformat": 4
 },
 "nbformat": 4,
 "nbformat_minor": 2
}
