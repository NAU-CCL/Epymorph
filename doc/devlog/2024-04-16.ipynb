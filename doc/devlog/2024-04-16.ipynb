{
 "cells": [
  {
   "cell_type": "markdown",
   "metadata": {},
   "source": [
    "# 2024/04/16 Error Handling\n",
    "_Author: Izaac Molina and Tyler Coles_\n",
    "\n",
    "Details additional exceptions implemented to catch common IPM simulation errors"
   ]
  },
  {
   "cell_type": "markdown",
   "metadata": {},
   "source": [
    "# Error Handling\n",
    "\n",
    "There are (at least) three error cases we're interested in trapping --\n",
    "1. something causes an IPM expression to go to zero or a negative value and results in a poisson draw with a lambda <= 0, and\n",
    "2. something causes the population of a node to go to zero (when a divisor isn't \"protected\" by a construction like Max(1, ...)) causing a divide by zero.\n",
    "3. similar to issue 1, a negative parameter can result in a negative probability in fork definitions\n",
    "\n",
    "## First, we define ipm functions for testing purposes"
   ]
  },
  {
   "cell_type": "code",
   "execution_count": 1,
   "metadata": {},
   "outputs": [],
   "source": [
    "import numpy as np\n",
    "\n",
    "from epymorph import *\n",
    "from epymorph.compartment_model import (CompartmentModel, compartment,\n",
    "                                        create_model, create_symbols, edge,\n",
    "                                        fork, param)\n",
    "from epymorph.data_shape import Shapes\n",
    "from epymorph.params import ParamValue\n",
    "\n",
    "\n",
    "def load_ipm() -> CompartmentModel:\n",
    "    \"\"\"Load the 'sirs' IPM.\"\"\"\n",
    "    symbols = create_symbols(\n",
    "        compartments=[\n",
    "            compartment('S'),\n",
    "            compartment('I'),\n",
    "            compartment('R'),\n",
    "        ],\n",
    "        attributes=[\n",
    "            param('beta', shape=Shapes.TxN),  # infectivity\n",
    "            param('gamma', shape=Shapes.TxN),  # progression from infected to recovered\n",
    "            param('xi', shape=Shapes.TxN)  # progression from recovered to susceptible\n",
    "        ])\n",
    "\n",
    "    [S, I, R] = symbols.compartment_symbols\n",
    "    [β, γ, ξ] = symbols.attribute_symbols\n",
    "\n",
    "    # LOOK!\n",
    "    # N is NOT protected by Max(1, ...) here\n",
    "    # This isn't necessary for Case 1, but is necessary for Case 2.\n",
    "    N = S + I + R\n",
    "\n",
    "    return create_model(\n",
    "        symbols=symbols,\n",
    "        transitions=[\n",
    "            edge(S, I, rate=β * S * I / N),\n",
    "            edge(I, R, rate=γ * I),\n",
    "            edge(R, S, rate=ξ * R)\n",
    "        ])"
   ]
  },
  {
   "cell_type": "code",
   "execution_count": 3,
   "metadata": {},
   "outputs": [],
   "source": [
    "def load_ipm_fork() -> CompartmentModel:\n",
    "    \"\"\"Load the 'sirs' IPM.\"\"\"\n",
    "    symbols = create_symbols(\n",
    "        compartments=[\n",
    "            compartment('S'),\n",
    "            compartment('I'),\n",
    "            compartment('R'),\n",
    "        ],\n",
    "        attributes=[\n",
    "            param('beta', shape=Shapes.TxN),  # infectivity\n",
    "            param('gamma', shape=Shapes.TxN),  # progression from infected to recovered\n",
    "            param('xi', shape=Shapes.TxN),  # progression from recovered to susceptible\n",
    "            param('prob1', shape=Shapes.TxN),\n",
    "            param('prob2', shape=Shapes.TxN)\n",
    "        ])\n",
    "\n",
    "    [S, I, R] = symbols.compartment_symbols\n",
    "    [β, γ, ξ, prob1, prob2] = symbols.attribute_symbols\n",
    "\n",
    "    # LOOK!\n",
    "    # N is NOT protected by Max(1, ...) here\n",
    "    # This isn't necessary for Case 1, but is necessary for Case 2.\n",
    "    N = S + I + R\n",
    "\n",
    "    return create_model(\n",
    "        symbols=symbols,\n",
    "        transitions=[\n",
    "            fork(\n",
    "                edge(S, I, rate=(β * S * I / N) * prob1),\n",
    "                edge(S, R, rate=(β * S * I / N) * prob2),\n",
    "            ),\n",
    "            edge(I, R, rate=γ * I),\n",
    "            edge(R, S, rate=ξ * R)\n",
    "        ])"
   ]
  },
  {
   "cell_type": "markdown",
   "metadata": {},
   "source": [
    "## Case 1:\n",
    "\n",
    "If we just provide a negative value to beta in a classic SIRS model, this causes the first error.\n",
    "\n",
    "To handle this, the exception type `IpmSimLesstThanZeroException` is used in `ipm_exec.py` to catch the less than zero error."
   ]
  },
  {
   "cell_type": "code",
   "execution_count": 4,
   "metadata": {},
   "outputs": [
    {
     "name": "stdout",
     "output_type": "stream",
     "text": [
      "Running simulation (StandardSimulation):\n",
      "• 2015-01-01 to 2015-05-31 (150 days)\n",
      "• 6 geo nodes\n",
      "|                    | 0% \r"
     ]
    },
    {
     "ename": "IpmSimLessThanZeroException",
     "evalue": "\nLess than zero rate detected. When providing or defining ipm parameters, ensure that\nthey will not result in a negative rate. Note: this can often happen unintentionally\nif a function is given as a parameter.\n\nShowing current Node : Timestep\n1: 0\n\nShowing current compartment values\nS: 9687648\nI: 5\nR: 0\n\nShowing current ipm params\nbeta: 0.4\ngamma: -0.2\nxi: 0.01\n\n",
     "output_type": "error",
     "traceback": [
      "\u001b[1;31m---------------------------------------------------------------------------\u001b[0m",
      "\u001b[1;31mIpmSimLessThanZeroException\u001b[0m               Traceback (most recent call last)",
      "Cell \u001b[1;32mIn[4], line 23\u001b[0m\n\u001b[0;32m      7\u001b[0m sim \u001b[38;5;241m=\u001b[39m StandardSimulation(\n\u001b[0;32m      8\u001b[0m     geo\u001b[38;5;241m=\u001b[39mpei_geo,\n\u001b[0;32m      9\u001b[0m     ipm\u001b[38;5;241m=\u001b[39mload_ipm(),\n\u001b[1;32m   (...)\u001b[0m\n\u001b[0;32m     19\u001b[0m     rng\u001b[38;5;241m=\u001b[39mdefault_rng(\u001b[38;5;241m1\u001b[39m)\n\u001b[0;32m     20\u001b[0m )\n\u001b[0;32m     22\u001b[0m \u001b[38;5;28;01mwith\u001b[39;00m sim_messaging(sim):\n\u001b[1;32m---> 23\u001b[0m     out \u001b[38;5;241m=\u001b[39m \u001b[43msim\u001b[49m\u001b[38;5;241;43m.\u001b[39;49m\u001b[43mrun\u001b[49m\u001b[43m(\u001b[49m\u001b[43m)\u001b[49m\n",
      "File \u001b[1;32mc:\\Users\\izaac\\Documents\\EpiMoRPH\\Epymorph\\epymorph\\engine\\standard_sim.py:180\u001b[0m, in \u001b[0;36mStandardSimulation.run\u001b[1;34m(self)\u001b[0m\n\u001b[0;32m    178\u001b[0m \u001b[38;5;66;03m# Then do IPM\u001b[39;00m\n\u001b[0;32m    179\u001b[0m \u001b[38;5;28;01mwith\u001b[39;00m error_gate(\u001b[38;5;124m\"\u001b[39m\u001b[38;5;124mexecuting the IPM\u001b[39m\u001b[38;5;124m\"\u001b[39m, IpmSimException, AttributeException):\n\u001b[1;32m--> 180\u001b[0m     tick_events, tick_prevalence \u001b[38;5;241m=\u001b[39m \u001b[43mipm_exec\u001b[49m\u001b[38;5;241;43m.\u001b[39;49m\u001b[43mapply\u001b[49m\u001b[43m(\u001b[49m\u001b[43mworld\u001b[49m\u001b[43m,\u001b[49m\u001b[43m \u001b[49m\u001b[43mtick\u001b[49m\u001b[43m)\u001b[49m\n\u001b[0;32m    181\u001b[0m     out\u001b[38;5;241m.\u001b[39mincidence[tick\u001b[38;5;241m.\u001b[39mindex] \u001b[38;5;241m=\u001b[39m tick_events\n\u001b[0;32m    182\u001b[0m     out\u001b[38;5;241m.\u001b[39mprevalence[tick\u001b[38;5;241m.\u001b[39mindex] \u001b[38;5;241m=\u001b[39m tick_prevalence\n",
      "File \u001b[1;32mc:\\Users\\izaac\\Documents\\EpiMoRPH\\Epymorph\\epymorph\\engine\\ipm_exec.py:148\u001b[0m, in \u001b[0;36mStandardIpmExecutor.apply\u001b[1;34m(self, world, tick)\u001b[0m\n\u001b[0;32m    145\u001b[0m cohorts \u001b[38;5;241m=\u001b[39m world\u001b[38;5;241m.\u001b[39mget_cohort_array(node)\n\u001b[0;32m    146\u001b[0m effective \u001b[38;5;241m=\u001b[39m cohorts\u001b[38;5;241m.\u001b[39msum(axis\u001b[38;5;241m=\u001b[39m\u001b[38;5;241m0\u001b[39m, dtype\u001b[38;5;241m=\u001b[39mSimDType)\n\u001b[1;32m--> 148\u001b[0m occurrences \u001b[38;5;241m=\u001b[39m \u001b[38;5;28;43mself\u001b[39;49m\u001b[38;5;241;43m.\u001b[39;49m\u001b[43m_events\u001b[49m\u001b[43m(\u001b[49m\u001b[43mnode\u001b[49m\u001b[43m,\u001b[49m\u001b[43m \u001b[49m\u001b[43mtick\u001b[49m\u001b[43m,\u001b[49m\u001b[43m \u001b[49m\u001b[43meffective\u001b[49m\u001b[43m)\u001b[49m\n\u001b[0;32m    149\u001b[0m cohort_deltas \u001b[38;5;241m=\u001b[39m \u001b[38;5;28mself\u001b[39m\u001b[38;5;241m.\u001b[39m_distribute(cohorts, occurrences)\n\u001b[0;32m    150\u001b[0m world\u001b[38;5;241m.\u001b[39mapply_cohort_delta(node, cohort_deltas)\n",
      "File \u001b[1;32mc:\\Users\\izaac\\Documents\\EpiMoRPH\\Epymorph\\epymorph\\engine\\ipm_exec.py:181\u001b[0m, in \u001b[0;36mStandardIpmExecutor._events\u001b[1;34m(self, node, tick, effective_pop)\u001b[0m\n\u001b[0;32m    179\u001b[0m     \u001b[38;5;66;03m# check for < 0 rate, throw error in this case\u001b[39;00m\n\u001b[0;32m    180\u001b[0m     \u001b[38;5;28;01mif\u001b[39;00m rate \u001b[38;5;241m<\u001b[39m \u001b[38;5;241m0\u001b[39m:\n\u001b[1;32m--> 181\u001b[0m         \u001b[38;5;28;01mraise\u001b[39;00m IpmSimLessThanZeroException(\n\u001b[0;32m    182\u001b[0m             \u001b[38;5;28mself\u001b[39m\u001b[38;5;241m.\u001b[39m_get_default_error_args(rate_args, node, tick)\n\u001b[0;32m    183\u001b[0m         )\n\u001b[0;32m    184\u001b[0m     occur[index] \u001b[38;5;241m=\u001b[39m \u001b[38;5;28mself\u001b[39m\u001b[38;5;241m.\u001b[39m_ctx\u001b[38;5;241m.\u001b[39mrng\u001b[38;5;241m.\u001b[39mpoisson(rate \u001b[38;5;241m*\u001b[39m tick\u001b[38;5;241m.\u001b[39mtau)\n\u001b[0;32m    185\u001b[0m \u001b[38;5;28;01mcase\u001b[39;00m _ForkedTrx(size, rate_lambda, prob_lambda):\n\u001b[0;32m    186\u001b[0m     \u001b[38;5;66;03m# get rate from lambda expression, catch divide by zero error\u001b[39;00m\n",
      "\u001b[1;31mIpmSimLessThanZeroException\u001b[0m: \nLess than zero rate detected. When providing or defining ipm parameters, ensure that\nthey will not result in a negative rate. Note: this can often happen unintentionally\nif a function is given as a parameter.\n\nShowing current Node : Timestep\n1: 0\n\nShowing current compartment values\nS: 9687648\nI: 5\nR: 0\n\nShowing current ipm params\nbeta: 0.4\ngamma: -0.2\nxi: 0.01\n\n"
     ]
    }
   ],
   "source": [
    "from functools import partial\n",
    "\n",
    "from epymorph.initializer import single_location\n",
    "\n",
    "pei_geo = geo_library['pei']()\n",
    "\n",
    "sim = StandardSimulation(\n",
    "    geo=pei_geo,\n",
    "    ipm=load_ipm(),\n",
    "    mm=mm_library['no'](),\n",
    "    params={\n",
    "        'phi': 40.0,\n",
    "        'beta': 0.4,\n",
    "        'gamma': -1 / 5,  # NEGATIVE NUMBER! WATCH OUT!\n",
    "        'xi': 1 / 100,\n",
    "    },\n",
    "    time_frame=TimeFrame.of(\"2015-01-01\", 150),\n",
    "    initializer=partial(single_location, location=1, seed_size=5),\n",
    "    rng=default_rng(1)\n",
    ")\n",
    "\n",
    "with sim_messaging(sim):\n",
    "    out = sim.run()"
   ]
  },
  {
   "cell_type": "markdown",
   "metadata": {},
   "source": [
    "## Test using function as a parameter"
   ]
  },
  {
   "cell_type": "code",
   "execution_count": 5,
   "metadata": {},
   "outputs": [
    {
     "name": "stdout",
     "output_type": "stream",
     "text": [
      "Running simulation (StandardSimulation):\n",
      "• 2015-01-01 to 2015-05-31 (150 days)\n",
      "• 6 geo nodes\n",
      "|                    | 0% \r"
     ]
    },
    {
     "ename": "IpmSimLessThanZeroException",
     "evalue": "\nLess than zero rate detected. When providing or defining ipm parameters, ensure that\nthey will not result in a negative rate. Note: this can often happen unintentionally\nif a function is given as a parameter.\n\nShowing current Node : Timestep\n0: 0\n\nShowing current compartment values\nS: 18798973\nI: 9988\nR: 0\n\nShowing current ipm params\nbeta: -0.35\ngamma: 0.16666666666666666\nxi: 0.011111111111111112\n\n",
     "output_type": "error",
     "traceback": [
      "\u001b[1;31m---------------------------------------------------------------------------\u001b[0m",
      "\u001b[1;31mIpmSimLessThanZeroException\u001b[0m               Traceback (most recent call last)",
      "Cell \u001b[1;32mIn[5], line 35\u001b[0m\n\u001b[0;32m     31\u001b[0m     \u001b[38;5;28;01mreturn\u001b[39;00m x\n\u001b[0;32m     34\u001b[0m \u001b[38;5;66;03m# The function is our beta value!\u001b[39;00m\n\u001b[1;32m---> 35\u001b[0m \u001b[43mrun_and_plot\u001b[49m\u001b[43m(\u001b[49m\u001b[43mbeta_fn\u001b[49m\u001b[43m)\u001b[49m\n",
      "Cell \u001b[1;32mIn[5], line 20\u001b[0m, in \u001b[0;36mrun_and_plot\u001b[1;34m(beta)\u001b[0m\n\u001b[0;32m      2\u001b[0m sim \u001b[38;5;241m=\u001b[39m StandardSimulation(\n\u001b[0;32m      3\u001b[0m     ipm\u001b[38;5;241m=\u001b[39mipm_library[\u001b[38;5;124m'\u001b[39m\u001b[38;5;124msirs\u001b[39m\u001b[38;5;124m'\u001b[39m](),\n\u001b[0;32m      4\u001b[0m     mm\u001b[38;5;241m=\u001b[39mmm_library[\u001b[38;5;124m'\u001b[39m\u001b[38;5;124mpei\u001b[39m\u001b[38;5;124m'\u001b[39m](),\n\u001b[1;32m   (...)\u001b[0m\n\u001b[0;32m     16\u001b[0m     initializer\u001b[38;5;241m=\u001b[39mpartial(single_location, location\u001b[38;5;241m=\u001b[39m\u001b[38;5;241m0\u001b[39m, seed_size\u001b[38;5;241m=\u001b[39m\u001b[38;5;241m10_000\u001b[39m),\n\u001b[0;32m     17\u001b[0m )\n\u001b[0;32m     19\u001b[0m \u001b[38;5;28;01mwith\u001b[39;00m sim_messaging(sim):\n\u001b[1;32m---> 20\u001b[0m     \u001b[43msim\u001b[49m\u001b[38;5;241;43m.\u001b[39;49m\u001b[43mrun\u001b[49m\u001b[43m(\u001b[49m\u001b[43m)\u001b[49m\n",
      "File \u001b[1;32mc:\\Users\\izaac\\Documents\\EpiMoRPH\\Epymorph\\epymorph\\engine\\standard_sim.py:180\u001b[0m, in \u001b[0;36mStandardSimulation.run\u001b[1;34m(self)\u001b[0m\n\u001b[0;32m    178\u001b[0m \u001b[38;5;66;03m# Then do IPM\u001b[39;00m\n\u001b[0;32m    179\u001b[0m \u001b[38;5;28;01mwith\u001b[39;00m error_gate(\u001b[38;5;124m\"\u001b[39m\u001b[38;5;124mexecuting the IPM\u001b[39m\u001b[38;5;124m\"\u001b[39m, IpmSimException, AttributeException):\n\u001b[1;32m--> 180\u001b[0m     tick_events, tick_prevalence \u001b[38;5;241m=\u001b[39m \u001b[43mipm_exec\u001b[49m\u001b[38;5;241;43m.\u001b[39;49m\u001b[43mapply\u001b[49m\u001b[43m(\u001b[49m\u001b[43mworld\u001b[49m\u001b[43m,\u001b[49m\u001b[43m \u001b[49m\u001b[43mtick\u001b[49m\u001b[43m)\u001b[49m\n\u001b[0;32m    181\u001b[0m     out\u001b[38;5;241m.\u001b[39mincidence[tick\u001b[38;5;241m.\u001b[39mindex] \u001b[38;5;241m=\u001b[39m tick_events\n\u001b[0;32m    182\u001b[0m     out\u001b[38;5;241m.\u001b[39mprevalence[tick\u001b[38;5;241m.\u001b[39mindex] \u001b[38;5;241m=\u001b[39m tick_prevalence\n",
      "File \u001b[1;32mc:\\Users\\izaac\\Documents\\EpiMoRPH\\Epymorph\\epymorph\\engine\\ipm_exec.py:148\u001b[0m, in \u001b[0;36mStandardIpmExecutor.apply\u001b[1;34m(self, world, tick)\u001b[0m\n\u001b[0;32m    145\u001b[0m cohorts \u001b[38;5;241m=\u001b[39m world\u001b[38;5;241m.\u001b[39mget_cohort_array(node)\n\u001b[0;32m    146\u001b[0m effective \u001b[38;5;241m=\u001b[39m cohorts\u001b[38;5;241m.\u001b[39msum(axis\u001b[38;5;241m=\u001b[39m\u001b[38;5;241m0\u001b[39m, dtype\u001b[38;5;241m=\u001b[39mSimDType)\n\u001b[1;32m--> 148\u001b[0m occurrences \u001b[38;5;241m=\u001b[39m \u001b[38;5;28;43mself\u001b[39;49m\u001b[38;5;241;43m.\u001b[39;49m\u001b[43m_events\u001b[49m\u001b[43m(\u001b[49m\u001b[43mnode\u001b[49m\u001b[43m,\u001b[49m\u001b[43m \u001b[49m\u001b[43mtick\u001b[49m\u001b[43m,\u001b[49m\u001b[43m \u001b[49m\u001b[43meffective\u001b[49m\u001b[43m)\u001b[49m\n\u001b[0;32m    149\u001b[0m cohort_deltas \u001b[38;5;241m=\u001b[39m \u001b[38;5;28mself\u001b[39m\u001b[38;5;241m.\u001b[39m_distribute(cohorts, occurrences)\n\u001b[0;32m    150\u001b[0m world\u001b[38;5;241m.\u001b[39mapply_cohort_delta(node, cohort_deltas)\n",
      "File \u001b[1;32mc:\\Users\\izaac\\Documents\\EpiMoRPH\\Epymorph\\epymorph\\engine\\ipm_exec.py:181\u001b[0m, in \u001b[0;36mStandardIpmExecutor._events\u001b[1;34m(self, node, tick, effective_pop)\u001b[0m\n\u001b[0;32m    179\u001b[0m     \u001b[38;5;66;03m# check for < 0 rate, throw error in this case\u001b[39;00m\n\u001b[0;32m    180\u001b[0m     \u001b[38;5;28;01mif\u001b[39;00m rate \u001b[38;5;241m<\u001b[39m \u001b[38;5;241m0\u001b[39m:\n\u001b[1;32m--> 181\u001b[0m         \u001b[38;5;28;01mraise\u001b[39;00m IpmSimLessThanZeroException(\n\u001b[0;32m    182\u001b[0m             \u001b[38;5;28mself\u001b[39m\u001b[38;5;241m.\u001b[39m_get_default_error_args(rate_args, node, tick)\n\u001b[0;32m    183\u001b[0m         )\n\u001b[0;32m    184\u001b[0m     occur[index] \u001b[38;5;241m=\u001b[39m \u001b[38;5;28mself\u001b[39m\u001b[38;5;241m.\u001b[39m_ctx\u001b[38;5;241m.\u001b[39mrng\u001b[38;5;241m.\u001b[39mpoisson(rate \u001b[38;5;241m*\u001b[39m tick\u001b[38;5;241m.\u001b[39mtau)\n\u001b[0;32m    185\u001b[0m \u001b[38;5;28;01mcase\u001b[39;00m _ForkedTrx(size, rate_lambda, prob_lambda):\n\u001b[0;32m    186\u001b[0m     \u001b[38;5;66;03m# get rate from lambda expression, catch divide by zero error\u001b[39;00m\n",
      "\u001b[1;31mIpmSimLessThanZeroException\u001b[0m: \nLess than zero rate detected. When providing or defining ipm parameters, ensure that\nthey will not result in a negative rate. Note: this can often happen unintentionally\nif a function is given as a parameter.\n\nShowing current Node : Timestep\n0: 0\n\nShowing current compartment values\nS: 18798973\nI: 9988\nR: 0\n\nShowing current ipm params\nbeta: -0.35\ngamma: 0.16666666666666666\nxi: 0.011111111111111112\n\n"
     ]
    }
   ],
   "source": [
    "def run_and_plot(beta: ParamValue) -> None:\n",
    "    sim = StandardSimulation(\n",
    "        ipm=ipm_library['sirs'](),\n",
    "        mm=mm_library['pei'](),\n",
    "        geo=geo_library['pei'](),\n",
    "        params={\n",
    "            # IPM params\n",
    "            'beta': beta,\n",
    "            'gamma': 1 / 6,\n",
    "            'xi': 1 / 90,\n",
    "            # MM params\n",
    "            'theta': 0.1,\n",
    "            'move_control': 0.9,\n",
    "        },\n",
    "        time_frame=TimeFrame.of(\"2015-01-01\", 150),\n",
    "        initializer=partial(single_location, location=0, seed_size=10_000),\n",
    "    )\n",
    "\n",
    "    with sim_messaging(sim):\n",
    "        sim.run()\n",
    "\n",
    "\n",
    "def beta_fn(t, n):\n",
    "    # NEGATIVE VALUES PRODUCED BY FUNCTION\n",
    "    x = -0.35 + -0.05 * np.sin(-2 * np.pi * (t / dim.days))\n",
    "    cutoff = 50 + (n * 3)\n",
    "    if t > cutoff:\n",
    "        pop = geo['population'][n]\n",
    "        cut = 0.3 if pop < 9_000_000 else 0.25\n",
    "        x -= cut\n",
    "    return x\n",
    "\n",
    "\n",
    "# The function is our beta value!\n",
    "run_and_plot(beta_fn)"
   ]
  },
  {
   "cell_type": "markdown",
   "metadata": {},
   "source": [
    "## Test with fork"
   ]
  },
  {
   "cell_type": "code",
   "execution_count": 6,
   "metadata": {},
   "outputs": [
    {
     "name": "stdout",
     "output_type": "stream",
     "text": [
      "Running simulation (StandardSimulation):\n",
      "• 2015-01-01 to 2015-05-31 (150 days)\n",
      "• 6 geo nodes\n",
      "|                    | 0% \r"
     ]
    },
    {
     "ename": "IpmSimLessThanZeroException",
     "evalue": "\nLess than zero rate detected. When providing or defining ipm parameters, ensure that\nthey will not result in a negative rate. Note: this can often happen unintentionally\nif a function is given as a parameter.\n\nShowing current Node : Timestep\n1: 0\n\nShowing current compartment values\nS: 9687648\nI: 5\nR: 0\n\nShowing current ipm params\nbeta: -0.4\ngamma: 0.2\nxi: 0.01\nprob1: 0.5\nprob2: 0.5\n\n",
     "output_type": "error",
     "traceback": [
      "\u001b[1;31m---------------------------------------------------------------------------\u001b[0m",
      "\u001b[1;31mIpmSimLessThanZeroException\u001b[0m               Traceback (most recent call last)",
      "Cell \u001b[1;32mIn[6], line 26\u001b[0m\n\u001b[0;32m      8\u001b[0m sim \u001b[38;5;241m=\u001b[39m StandardSimulation(\n\u001b[0;32m      9\u001b[0m     geo\u001b[38;5;241m=\u001b[39mpei_geo,\n\u001b[0;32m     10\u001b[0m     ipm\u001b[38;5;241m=\u001b[39mload_ipm_fork(),\n\u001b[1;32m   (...)\u001b[0m\n\u001b[0;32m     22\u001b[0m     rng\u001b[38;5;241m=\u001b[39mdefault_rng(\u001b[38;5;241m1\u001b[39m)\n\u001b[0;32m     23\u001b[0m )\n\u001b[0;32m     25\u001b[0m \u001b[38;5;28;01mwith\u001b[39;00m sim_messaging(sim):\n\u001b[1;32m---> 26\u001b[0m     out \u001b[38;5;241m=\u001b[39m \u001b[43msim\u001b[49m\u001b[38;5;241;43m.\u001b[39;49m\u001b[43mrun\u001b[49m\u001b[43m(\u001b[49m\u001b[43m)\u001b[49m\n",
      "File \u001b[1;32mc:\\Users\\izaac\\Documents\\EpiMoRPH\\Epymorph\\epymorph\\engine\\standard_sim.py:180\u001b[0m, in \u001b[0;36mStandardSimulation.run\u001b[1;34m(self)\u001b[0m\n\u001b[0;32m    178\u001b[0m \u001b[38;5;66;03m# Then do IPM\u001b[39;00m\n\u001b[0;32m    179\u001b[0m \u001b[38;5;28;01mwith\u001b[39;00m error_gate(\u001b[38;5;124m\"\u001b[39m\u001b[38;5;124mexecuting the IPM\u001b[39m\u001b[38;5;124m\"\u001b[39m, IpmSimException, AttributeException):\n\u001b[1;32m--> 180\u001b[0m     tick_events, tick_prevalence \u001b[38;5;241m=\u001b[39m \u001b[43mipm_exec\u001b[49m\u001b[38;5;241;43m.\u001b[39;49m\u001b[43mapply\u001b[49m\u001b[43m(\u001b[49m\u001b[43mworld\u001b[49m\u001b[43m,\u001b[49m\u001b[43m \u001b[49m\u001b[43mtick\u001b[49m\u001b[43m)\u001b[49m\n\u001b[0;32m    181\u001b[0m     out\u001b[38;5;241m.\u001b[39mincidence[tick\u001b[38;5;241m.\u001b[39mindex] \u001b[38;5;241m=\u001b[39m tick_events\n\u001b[0;32m    182\u001b[0m     out\u001b[38;5;241m.\u001b[39mprevalence[tick\u001b[38;5;241m.\u001b[39mindex] \u001b[38;5;241m=\u001b[39m tick_prevalence\n",
      "File \u001b[1;32mc:\\Users\\izaac\\Documents\\EpiMoRPH\\Epymorph\\epymorph\\engine\\ipm_exec.py:148\u001b[0m, in \u001b[0;36mStandardIpmExecutor.apply\u001b[1;34m(self, world, tick)\u001b[0m\n\u001b[0;32m    145\u001b[0m cohorts \u001b[38;5;241m=\u001b[39m world\u001b[38;5;241m.\u001b[39mget_cohort_array(node)\n\u001b[0;32m    146\u001b[0m effective \u001b[38;5;241m=\u001b[39m cohorts\u001b[38;5;241m.\u001b[39msum(axis\u001b[38;5;241m=\u001b[39m\u001b[38;5;241m0\u001b[39m, dtype\u001b[38;5;241m=\u001b[39mSimDType)\n\u001b[1;32m--> 148\u001b[0m occurrences \u001b[38;5;241m=\u001b[39m \u001b[38;5;28;43mself\u001b[39;49m\u001b[38;5;241;43m.\u001b[39;49m\u001b[43m_events\u001b[49m\u001b[43m(\u001b[49m\u001b[43mnode\u001b[49m\u001b[43m,\u001b[49m\u001b[43m \u001b[49m\u001b[43mtick\u001b[49m\u001b[43m,\u001b[49m\u001b[43m \u001b[49m\u001b[43meffective\u001b[49m\u001b[43m)\u001b[49m\n\u001b[0;32m    149\u001b[0m cohort_deltas \u001b[38;5;241m=\u001b[39m \u001b[38;5;28mself\u001b[39m\u001b[38;5;241m.\u001b[39m_distribute(cohorts, occurrences)\n\u001b[0;32m    150\u001b[0m world\u001b[38;5;241m.\u001b[39mapply_cohort_delta(node, cohort_deltas)\n",
      "File \u001b[1;32mc:\\Users\\izaac\\Documents\\EpiMoRPH\\Epymorph\\epymorph\\engine\\ipm_exec.py:196\u001b[0m, in \u001b[0;36mStandardIpmExecutor._events\u001b[1;34m(self, node, tick, effective_pop)\u001b[0m\n\u001b[0;32m    194\u001b[0m \u001b[38;5;66;03m# check for < 0 base, throw error in this case\u001b[39;00m\n\u001b[0;32m    195\u001b[0m \u001b[38;5;28;01mif\u001b[39;00m rate \u001b[38;5;241m<\u001b[39m \u001b[38;5;241m0\u001b[39m:\n\u001b[1;32m--> 196\u001b[0m     \u001b[38;5;28;01mraise\u001b[39;00m IpmSimLessThanZeroException(\n\u001b[0;32m    197\u001b[0m         \u001b[38;5;28mself\u001b[39m\u001b[38;5;241m.\u001b[39m_get_default_error_args(rate_args, node, tick)\n\u001b[0;32m    198\u001b[0m     )\n\u001b[0;32m    199\u001b[0m base \u001b[38;5;241m=\u001b[39m \u001b[38;5;28mself\u001b[39m\u001b[38;5;241m.\u001b[39m_ctx\u001b[38;5;241m.\u001b[39mrng\u001b[38;5;241m.\u001b[39mpoisson(rate \u001b[38;5;241m*\u001b[39m tick\u001b[38;5;241m.\u001b[39mtau)\n\u001b[0;32m    200\u001b[0m prob \u001b[38;5;241m=\u001b[39m prob_lambda(rate_args)\n",
      "\u001b[1;31mIpmSimLessThanZeroException\u001b[0m: \nLess than zero rate detected. When providing or defining ipm parameters, ensure that\nthey will not result in a negative rate. Note: this can often happen unintentionally\nif a function is given as a parameter.\n\nShowing current Node : Timestep\n1: 0\n\nShowing current compartment values\nS: 9687648\nI: 5\nR: 0\n\nShowing current ipm params\nbeta: -0.4\ngamma: 0.2\nxi: 0.01\nprob1: 0.5\nprob2: 0.5\n\n"
     ]
    }
   ],
   "source": [
    "from functools import partial\n",
    "\n",
    "from epymorph import *\n",
    "from epymorph.initializer import single_location\n",
    "\n",
    "pei_geo = geo_library['pei']()\n",
    "\n",
    "sim = StandardSimulation(\n",
    "    geo=pei_geo,\n",
    "    ipm=load_ipm_fork(),\n",
    "    mm=mm_library['no'](),\n",
    "    params={\n",
    "        'phi': 40.0,\n",
    "        'beta': -0.4,  # NEGATIVE NUMBER! WATCH OUT!\n",
    "        'gamma': 1 / 5,\n",
    "        'xi': 1 / 100,\n",
    "        'prob1': 1 / 2,\n",
    "        'prob2': 1 / 2\n",
    "    },\n",
    "    time_frame=TimeFrame.of(\"2015-01-01\", 150),\n",
    "    initializer=partial(single_location, location=1, seed_size=5),\n",
    "    rng=default_rng(1)\n",
    ")\n",
    "\n",
    "with sim_messaging(sim):\n",
    "    out = sim.run()"
   ]
  },
  {
   "cell_type": "markdown",
   "metadata": {},
   "source": [
    "# Case 2:\n",
    "\n",
    "If we construct our geo to force a population at a node to be zero, we get the second error. (Note: this can also happen if a movement model moves everyone out of a node, so it's not as easy to fix as checking the geo before-hand.)\n",
    "\n",
    "To handle this, the exception type `IpmSimNaNException` is used in `ipm_exec.py` to catch the divide by zero error, as it results in a NaN (not a number) rate."
   ]
  },
  {
   "cell_type": "code",
   "execution_count": 7,
   "metadata": {},
   "outputs": [
    {
     "name": "stdout",
     "output_type": "stream",
     "text": [
      "Running simulation (StandardSimulation):\n",
      "• 2015-01-01 to 2015-05-31 (150 days)\n",
      "• 3 geo nodes\n",
      "|                    | 0% \r"
     ]
    },
    {
     "ename": "IpmSimNaNException",
     "evalue": "\nNaN (not a number) rate detected. This is often the result of a divide by zero error.\nWhen constructing the IPM, ensure that no edge transitions can result in division by zero\nThis commonly occurs when defining an S->I edge that is (some rate / sum of the compartments)\nTo fix this, change the edge to define the S->I edge as (some rate / Max(1/sum of the the compartments))\nSee examples of this in the provided example ipm definitions in the data/ipms folder.\n\nShowing current Node : Timestep\n0: 0\n\nShowing current compartment values\nS: 0\nI: 0\nR: 0\n\nShowing current ipm params\nbeta: 0.4\ngamma: 0.2\nxi: 0.011111111111111112\n\nShowing current corresponding transition\nS->I: I*S*beta/(I + R + S)\n\n",
     "output_type": "error",
     "traceback": [
      "\u001b[1;31m---------------------------------------------------------------------------\u001b[0m",
      "\u001b[1;31mFloatingPointError\u001b[0m                        Traceback (most recent call last)",
      "File \u001b[1;32mc:\\Users\\izaac\\Documents\\EpiMoRPH\\Epymorph\\epymorph\\engine\\ipm_exec.py:173\u001b[0m, in \u001b[0;36mStandardIpmExecutor._events\u001b[1;34m(self, node, tick, effective_pop)\u001b[0m\n\u001b[0;32m    172\u001b[0m \u001b[38;5;28;01mtry\u001b[39;00m:\n\u001b[1;32m--> 173\u001b[0m     rate \u001b[38;5;241m=\u001b[39m \u001b[43mrate_lambda\u001b[49m\u001b[43m(\u001b[49m\u001b[43mrate_args\u001b[49m\u001b[43m)\u001b[49m\n\u001b[0;32m    174\u001b[0m \u001b[38;5;28;01mexcept\u001b[39;00m (\u001b[38;5;167;01mZeroDivisionError\u001b[39;00m, \u001b[38;5;167;01mFloatingPointError\u001b[39;00m):\n",
      "File \u001b[1;32m<lambdifygenerated-11>:3\u001b[0m, in \u001b[0;36m_lambdifygenerated\u001b[1;34m(_Dummy_46)\u001b[0m\n\u001b[0;32m      2\u001b[0m [S, I, R, beta, gamma, xi] \u001b[38;5;241m=\u001b[39m _Dummy_46\n\u001b[1;32m----> 3\u001b[0m \u001b[38;5;28;01mreturn\u001b[39;00m \u001b[43mI\u001b[49m\u001b[38;5;241;43m*\u001b[39;49m\u001b[43mS\u001b[49m\u001b[38;5;241;43m*\u001b[39;49m\u001b[43mbeta\u001b[49m\u001b[38;5;241;43m/\u001b[39;49m\u001b[43m(\u001b[49m\u001b[43mI\u001b[49m\u001b[43m \u001b[49m\u001b[38;5;241;43m+\u001b[39;49m\u001b[43m \u001b[49m\u001b[43mR\u001b[49m\u001b[43m \u001b[49m\u001b[38;5;241;43m+\u001b[39;49m\u001b[43m \u001b[49m\u001b[43mS\u001b[49m\u001b[43m)\u001b[49m\n",
      "\u001b[1;31mFloatingPointError\u001b[0m: invalid value encountered in scalar divide",
      "\nDuring handling of the above exception, another exception occurred:\n",
      "\u001b[1;31mIpmSimNaNException\u001b[0m                        Traceback (most recent call last)",
      "Cell \u001b[1;32mIn[7], line 41\u001b[0m\n\u001b[0;32m     25\u001b[0m sim \u001b[38;5;241m=\u001b[39m StandardSimulation(\n\u001b[0;32m     26\u001b[0m     geo\u001b[38;5;241m=\u001b[39mmy_geo,\n\u001b[0;32m     27\u001b[0m     ipm\u001b[38;5;241m=\u001b[39mload_ipm(),\n\u001b[1;32m   (...)\u001b[0m\n\u001b[0;32m     37\u001b[0m     rng\u001b[38;5;241m=\u001b[39mdefault_rng(\u001b[38;5;241m1\u001b[39m)\n\u001b[0;32m     38\u001b[0m )\n\u001b[0;32m     40\u001b[0m \u001b[38;5;28;01mwith\u001b[39;00m sim_messaging(sim):\n\u001b[1;32m---> 41\u001b[0m     out \u001b[38;5;241m=\u001b[39m \u001b[43msim\u001b[49m\u001b[38;5;241;43m.\u001b[39;49m\u001b[43mrun\u001b[49m\u001b[43m(\u001b[49m\u001b[43m)\u001b[49m\n",
      "File \u001b[1;32mc:\\Users\\izaac\\Documents\\EpiMoRPH\\Epymorph\\epymorph\\engine\\standard_sim.py:180\u001b[0m, in \u001b[0;36mStandardSimulation.run\u001b[1;34m(self)\u001b[0m\n\u001b[0;32m    178\u001b[0m \u001b[38;5;66;03m# Then do IPM\u001b[39;00m\n\u001b[0;32m    179\u001b[0m \u001b[38;5;28;01mwith\u001b[39;00m error_gate(\u001b[38;5;124m\"\u001b[39m\u001b[38;5;124mexecuting the IPM\u001b[39m\u001b[38;5;124m\"\u001b[39m, IpmSimException, AttributeException):\n\u001b[1;32m--> 180\u001b[0m     tick_events, tick_prevalence \u001b[38;5;241m=\u001b[39m \u001b[43mipm_exec\u001b[49m\u001b[38;5;241;43m.\u001b[39;49m\u001b[43mapply\u001b[49m\u001b[43m(\u001b[49m\u001b[43mworld\u001b[49m\u001b[43m,\u001b[49m\u001b[43m \u001b[49m\u001b[43mtick\u001b[49m\u001b[43m)\u001b[49m\n\u001b[0;32m    181\u001b[0m     out\u001b[38;5;241m.\u001b[39mincidence[tick\u001b[38;5;241m.\u001b[39mindex] \u001b[38;5;241m=\u001b[39m tick_events\n\u001b[0;32m    182\u001b[0m     out\u001b[38;5;241m.\u001b[39mprevalence[tick\u001b[38;5;241m.\u001b[39mindex] \u001b[38;5;241m=\u001b[39m tick_prevalence\n",
      "File \u001b[1;32mc:\\Users\\izaac\\Documents\\EpiMoRPH\\Epymorph\\epymorph\\engine\\ipm_exec.py:148\u001b[0m, in \u001b[0;36mStandardIpmExecutor.apply\u001b[1;34m(self, world, tick)\u001b[0m\n\u001b[0;32m    145\u001b[0m cohorts \u001b[38;5;241m=\u001b[39m world\u001b[38;5;241m.\u001b[39mget_cohort_array(node)\n\u001b[0;32m    146\u001b[0m effective \u001b[38;5;241m=\u001b[39m cohorts\u001b[38;5;241m.\u001b[39msum(axis\u001b[38;5;241m=\u001b[39m\u001b[38;5;241m0\u001b[39m, dtype\u001b[38;5;241m=\u001b[39mSimDType)\n\u001b[1;32m--> 148\u001b[0m occurrences \u001b[38;5;241m=\u001b[39m \u001b[38;5;28;43mself\u001b[39;49m\u001b[38;5;241;43m.\u001b[39;49m\u001b[43m_events\u001b[49m\u001b[43m(\u001b[49m\u001b[43mnode\u001b[49m\u001b[43m,\u001b[49m\u001b[43m \u001b[49m\u001b[43mtick\u001b[49m\u001b[43m,\u001b[49m\u001b[43m \u001b[49m\u001b[43meffective\u001b[49m\u001b[43m)\u001b[49m\n\u001b[0;32m    149\u001b[0m cohort_deltas \u001b[38;5;241m=\u001b[39m \u001b[38;5;28mself\u001b[39m\u001b[38;5;241m.\u001b[39m_distribute(cohorts, occurrences)\n\u001b[0;32m    150\u001b[0m world\u001b[38;5;241m.\u001b[39mapply_cohort_delta(node, cohort_deltas)\n",
      "File \u001b[1;32mc:\\Users\\izaac\\Documents\\EpiMoRPH\\Epymorph\\epymorph\\engine\\ipm_exec.py:175\u001b[0m, in \u001b[0;36mStandardIpmExecutor._events\u001b[1;34m(self, node, tick, effective_pop)\u001b[0m\n\u001b[0;32m    173\u001b[0m     rate \u001b[38;5;241m=\u001b[39m rate_lambda(rate_args)\n\u001b[0;32m    174\u001b[0m \u001b[38;5;28;01mexcept\u001b[39;00m (\u001b[38;5;167;01mZeroDivisionError\u001b[39;00m, \u001b[38;5;167;01mFloatingPointError\u001b[39;00m):\n\u001b[1;32m--> 175\u001b[0m     \u001b[38;5;28;01mraise\u001b[39;00m IpmSimNaNException(\n\u001b[0;32m    176\u001b[0m         \u001b[38;5;28mself\u001b[39m\u001b[38;5;241m.\u001b[39m_get_zero_division_args(\n\u001b[0;32m    177\u001b[0m             rate_args, node, tick, t)\n\u001b[0;32m    178\u001b[0m     )\n\u001b[0;32m    179\u001b[0m \u001b[38;5;66;03m# check for < 0 rate, throw error in this case\u001b[39;00m\n\u001b[0;32m    180\u001b[0m \u001b[38;5;28;01mif\u001b[39;00m rate \u001b[38;5;241m<\u001b[39m \u001b[38;5;241m0\u001b[39m:\n",
      "\u001b[1;31mIpmSimNaNException\u001b[0m: \nNaN (not a number) rate detected. This is often the result of a divide by zero error.\nWhen constructing the IPM, ensure that no edge transitions can result in division by zero\nThis commonly occurs when defining an S->I edge that is (some rate / sum of the compartments)\nTo fix this, change the edge to define the S->I edge as (some rate / Max(1/sum of the the compartments))\nSee examples of this in the provided example ipm definitions in the data/ipms folder.\n\nShowing current Node : Timestep\n0: 0\n\nShowing current compartment values\nS: 0\nI: 0\nR: 0\n\nShowing current ipm params\nbeta: 0.4\ngamma: 0.2\nxi: 0.011111111111111112\n\nShowing current corresponding transition\nS->I: I*S*beta/(I + R + S)\n\n"
     ]
    }
   ],
   "source": [
    "from functools import partial\n",
    "\n",
    "import numpy as np\n",
    "\n",
    "from epymorph import *\n",
    "from epymorph.geo.spec import NO_DURATION, AttribDef, StaticGeoSpec\n",
    "from epymorph.geo.static import StaticGeo\n",
    "from epymorph.initializer import single_location\n",
    "\n",
    "my_geo = StaticGeo(\n",
    "    spec=StaticGeoSpec(\n",
    "        attributes=[\n",
    "            AttribDef('label', dtype=str, shape=Shapes.N),\n",
    "            AttribDef('population', dtype=str, shape=Shapes.N),\n",
    "        ],\n",
    "        time_period=NO_DURATION,\n",
    "    ),\n",
    "    values={\n",
    "        'label': np.array(['a', 'b', 'c']),\n",
    "        'population': np.array([0, 10, 20], dtype=np.int64),\n",
    "    },\n",
    ")\n",
    "\n",
    "\n",
    "sim = StandardSimulation(\n",
    "    geo=my_geo,\n",
    "    ipm=load_ipm(),\n",
    "    mm=mm_library['no'](),\n",
    "    params={\n",
    "        'phi': 40.0,\n",
    "        'beta': 0.4,\n",
    "        'gamma': 1 / 5,\n",
    "        'xi': 1 / 90,\n",
    "    },\n",
    "    time_frame=TimeFrame.of(\"2015-01-01\", 150),\n",
    "    initializer=partial(single_location, location=1, seed_size=5),\n",
    "    rng=default_rng(1)\n",
    ")\n",
    "\n",
    "with sim_messaging(sim):\n",
    "    out = sim.run()"
   ]
  },
  {
   "cell_type": "markdown",
   "metadata": {},
   "source": [
    "## test with fork"
   ]
  },
  {
   "cell_type": "code",
   "execution_count": 8,
   "metadata": {},
   "outputs": [
    {
     "name": "stdout",
     "output_type": "stream",
     "text": [
      "Running simulation (StandardSimulation):\n",
      "• 2015-01-01 to 2015-05-31 (150 days)\n",
      "• 3 geo nodes\n",
      "|                    | 0% \r"
     ]
    },
    {
     "ename": "IpmSimNaNException",
     "evalue": "\nNaN (not a number) rate detected. This is often the result of a divide by zero error.\nWhen constructing the IPM, ensure that no edge transitions can result in division by zero\nThis commonly occurs when defining an S->I edge that is (some rate / sum of the compartments)\nTo fix this, change the edge to define the S->I edge as (some rate / Max(1/sum of the the compartments))\nSee examples of this in the provided example ipm definitions in the data/ipms folder.\n\nShowing current Node : Timestep\n0: 0\n\nShowing current compartment values\nS: 0\nI: 0\nR: 0\n\nShowing current ipm params\nbeta: 0.4\ngamma: 0.2\nxi: 0.011111111111111112\nprob1: 0.5\nprob2: 0.5\n\nShowing current corresponding fork transition\nS->(I, R): I*S*beta*(prob1 + prob2)/(I + R + S)\n\n",
     "output_type": "error",
     "traceback": [
      "\u001b[1;31m---------------------------------------------------------------------------\u001b[0m",
      "\u001b[1;31mFloatingPointError\u001b[0m                        Traceback (most recent call last)",
      "File \u001b[1;32mc:\\Users\\izaac\\Documents\\EpiMoRPH\\Epymorph\\epymorph\\engine\\ipm_exec.py:188\u001b[0m, in \u001b[0;36mStandardIpmExecutor._events\u001b[1;34m(self, node, tick, effective_pop)\u001b[0m\n\u001b[0;32m    187\u001b[0m \u001b[38;5;28;01mtry\u001b[39;00m:\n\u001b[1;32m--> 188\u001b[0m     rate \u001b[38;5;241m=\u001b[39m \u001b[43mrate_lambda\u001b[49m\u001b[43m(\u001b[49m\u001b[43mrate_args\u001b[49m\u001b[43m)\u001b[49m\n\u001b[0;32m    189\u001b[0m \u001b[38;5;28;01mexcept\u001b[39;00m (\u001b[38;5;167;01mZeroDivisionError\u001b[39;00m, \u001b[38;5;167;01mFloatingPointError\u001b[39;00m):\n",
      "File \u001b[1;32m<lambdifygenerated-14>:3\u001b[0m, in \u001b[0;36m_lambdifygenerated\u001b[1;34m(_Dummy_49)\u001b[0m\n\u001b[0;32m      2\u001b[0m [S, I, R, beta, gamma, xi, prob1, prob2] \u001b[38;5;241m=\u001b[39m _Dummy_49\n\u001b[1;32m----> 3\u001b[0m \u001b[38;5;28;01mreturn\u001b[39;00m \u001b[43mI\u001b[49m\u001b[38;5;241;43m*\u001b[39;49m\u001b[43mS\u001b[49m\u001b[38;5;241;43m*\u001b[39;49m\u001b[43mbeta\u001b[49m\u001b[38;5;241;43m*\u001b[39;49m\u001b[43m(\u001b[49m\u001b[43mprob1\u001b[49m\u001b[43m \u001b[49m\u001b[38;5;241;43m+\u001b[39;49m\u001b[43m \u001b[49m\u001b[43mprob2\u001b[49m\u001b[43m)\u001b[49m\u001b[38;5;241;43m/\u001b[39;49m\u001b[43m(\u001b[49m\u001b[43mI\u001b[49m\u001b[43m \u001b[49m\u001b[38;5;241;43m+\u001b[39;49m\u001b[43m \u001b[49m\u001b[43mR\u001b[49m\u001b[43m \u001b[49m\u001b[38;5;241;43m+\u001b[39;49m\u001b[43m \u001b[49m\u001b[43mS\u001b[49m\u001b[43m)\u001b[49m\n",
      "\u001b[1;31mFloatingPointError\u001b[0m: invalid value encountered in scalar divide",
      "\nDuring handling of the above exception, another exception occurred:\n",
      "\u001b[1;31mIpmSimNaNException\u001b[0m                        Traceback (most recent call last)",
      "Cell \u001b[1;32mIn[8], line 43\u001b[0m\n\u001b[0;32m     25\u001b[0m sim \u001b[38;5;241m=\u001b[39m StandardSimulation(\n\u001b[0;32m     26\u001b[0m     geo\u001b[38;5;241m=\u001b[39mmy_geo,\n\u001b[0;32m     27\u001b[0m     ipm\u001b[38;5;241m=\u001b[39mload_ipm_fork(),\n\u001b[1;32m   (...)\u001b[0m\n\u001b[0;32m     39\u001b[0m     rng\u001b[38;5;241m=\u001b[39mdefault_rng(\u001b[38;5;241m1\u001b[39m)\n\u001b[0;32m     40\u001b[0m )\n\u001b[0;32m     42\u001b[0m \u001b[38;5;28;01mwith\u001b[39;00m sim_messaging(sim):\n\u001b[1;32m---> 43\u001b[0m     out \u001b[38;5;241m=\u001b[39m \u001b[43msim\u001b[49m\u001b[38;5;241;43m.\u001b[39;49m\u001b[43mrun\u001b[49m\u001b[43m(\u001b[49m\u001b[43m)\u001b[49m\n",
      "File \u001b[1;32mc:\\Users\\izaac\\Documents\\EpiMoRPH\\Epymorph\\epymorph\\engine\\standard_sim.py:180\u001b[0m, in \u001b[0;36mStandardSimulation.run\u001b[1;34m(self)\u001b[0m\n\u001b[0;32m    178\u001b[0m \u001b[38;5;66;03m# Then do IPM\u001b[39;00m\n\u001b[0;32m    179\u001b[0m \u001b[38;5;28;01mwith\u001b[39;00m error_gate(\u001b[38;5;124m\"\u001b[39m\u001b[38;5;124mexecuting the IPM\u001b[39m\u001b[38;5;124m\"\u001b[39m, IpmSimException, AttributeException):\n\u001b[1;32m--> 180\u001b[0m     tick_events, tick_prevalence \u001b[38;5;241m=\u001b[39m \u001b[43mipm_exec\u001b[49m\u001b[38;5;241;43m.\u001b[39;49m\u001b[43mapply\u001b[49m\u001b[43m(\u001b[49m\u001b[43mworld\u001b[49m\u001b[43m,\u001b[49m\u001b[43m \u001b[49m\u001b[43mtick\u001b[49m\u001b[43m)\u001b[49m\n\u001b[0;32m    181\u001b[0m     out\u001b[38;5;241m.\u001b[39mincidence[tick\u001b[38;5;241m.\u001b[39mindex] \u001b[38;5;241m=\u001b[39m tick_events\n\u001b[0;32m    182\u001b[0m     out\u001b[38;5;241m.\u001b[39mprevalence[tick\u001b[38;5;241m.\u001b[39mindex] \u001b[38;5;241m=\u001b[39m tick_prevalence\n",
      "File \u001b[1;32mc:\\Users\\izaac\\Documents\\EpiMoRPH\\Epymorph\\epymorph\\engine\\ipm_exec.py:148\u001b[0m, in \u001b[0;36mStandardIpmExecutor.apply\u001b[1;34m(self, world, tick)\u001b[0m\n\u001b[0;32m    145\u001b[0m cohorts \u001b[38;5;241m=\u001b[39m world\u001b[38;5;241m.\u001b[39mget_cohort_array(node)\n\u001b[0;32m    146\u001b[0m effective \u001b[38;5;241m=\u001b[39m cohorts\u001b[38;5;241m.\u001b[39msum(axis\u001b[38;5;241m=\u001b[39m\u001b[38;5;241m0\u001b[39m, dtype\u001b[38;5;241m=\u001b[39mSimDType)\n\u001b[1;32m--> 148\u001b[0m occurrences \u001b[38;5;241m=\u001b[39m \u001b[38;5;28;43mself\u001b[39;49m\u001b[38;5;241;43m.\u001b[39;49m\u001b[43m_events\u001b[49m\u001b[43m(\u001b[49m\u001b[43mnode\u001b[49m\u001b[43m,\u001b[49m\u001b[43m \u001b[49m\u001b[43mtick\u001b[49m\u001b[43m,\u001b[49m\u001b[43m \u001b[49m\u001b[43meffective\u001b[49m\u001b[43m)\u001b[49m\n\u001b[0;32m    149\u001b[0m cohort_deltas \u001b[38;5;241m=\u001b[39m \u001b[38;5;28mself\u001b[39m\u001b[38;5;241m.\u001b[39m_distribute(cohorts, occurrences)\n\u001b[0;32m    150\u001b[0m world\u001b[38;5;241m.\u001b[39mapply_cohort_delta(node, cohort_deltas)\n",
      "File \u001b[1;32mc:\\Users\\izaac\\Documents\\EpiMoRPH\\Epymorph\\epymorph\\engine\\ipm_exec.py:190\u001b[0m, in \u001b[0;36mStandardIpmExecutor._events\u001b[1;34m(self, node, tick, effective_pop)\u001b[0m\n\u001b[0;32m    188\u001b[0m     rate \u001b[38;5;241m=\u001b[39m rate_lambda(rate_args)\n\u001b[0;32m    189\u001b[0m \u001b[38;5;28;01mexcept\u001b[39;00m (\u001b[38;5;167;01mZeroDivisionError\u001b[39;00m, \u001b[38;5;167;01mFloatingPointError\u001b[39;00m):\n\u001b[1;32m--> 190\u001b[0m     \u001b[38;5;28;01mraise\u001b[39;00m IpmSimNaNException(\n\u001b[0;32m    191\u001b[0m         \u001b[38;5;28mself\u001b[39m\u001b[38;5;241m.\u001b[39m_get_zero_division_args(\n\u001b[0;32m    192\u001b[0m             rate_args, node, tick, t)\n\u001b[0;32m    193\u001b[0m     )\n\u001b[0;32m    194\u001b[0m \u001b[38;5;66;03m# check for < 0 base, throw error in this case\u001b[39;00m\n\u001b[0;32m    195\u001b[0m \u001b[38;5;28;01mif\u001b[39;00m rate \u001b[38;5;241m<\u001b[39m \u001b[38;5;241m0\u001b[39m:\n",
      "\u001b[1;31mIpmSimNaNException\u001b[0m: \nNaN (not a number) rate detected. This is often the result of a divide by zero error.\nWhen constructing the IPM, ensure that no edge transitions can result in division by zero\nThis commonly occurs when defining an S->I edge that is (some rate / sum of the compartments)\nTo fix this, change the edge to define the S->I edge as (some rate / Max(1/sum of the the compartments))\nSee examples of this in the provided example ipm definitions in the data/ipms folder.\n\nShowing current Node : Timestep\n0: 0\n\nShowing current compartment values\nS: 0\nI: 0\nR: 0\n\nShowing current ipm params\nbeta: 0.4\ngamma: 0.2\nxi: 0.011111111111111112\nprob1: 0.5\nprob2: 0.5\n\nShowing current corresponding fork transition\nS->(I, R): I*S*beta*(prob1 + prob2)/(I + R + S)\n\n"
     ]
    }
   ],
   "source": [
    "\n",
    "from functools import partial\n",
    "\n",
    "import numpy as np\n",
    "\n",
    "from epymorph import *\n",
    "from epymorph.geo.spec import NO_DURATION, AttribDef, StaticGeoSpec\n",
    "from epymorph.geo.static import StaticGeo\n",
    "from epymorph.initializer import single_location\n",
    "\n",
    "my_geo = StaticGeo(\n",
    "    spec=StaticGeoSpec(\n",
    "        attributes=[\n",
    "            AttribDef('label', dtype=str, shape=Shapes.N),\n",
    "            AttribDef('population', dtype=str, shape=Shapes.N),\n",
    "        ],\n",
    "        time_period=NO_DURATION,\n",
    "    ),\n",
    "    values={\n",
    "        'label': np.array(['a', 'b', 'c']),\n",
    "        'population': np.array([0, 10, 20], dtype=np.int64),\n",
    "    },\n",
    ")\n",
    "\n",
    "\n",
    "sim = StandardSimulation(\n",
    "    geo=my_geo,\n",
    "    ipm=load_ipm_fork(),\n",
    "    mm=mm_library['no'](),\n",
    "    params={\n",
    "        'phi': 40.0,\n",
    "        'beta': 0.4,\n",
    "        'gamma': 1 / 5,\n",
    "        'xi': 1 / 90,\n",
    "        'prob1': 1 / 2,\n",
    "        'prob2': 1 / 2\n",
    "    },\n",
    "    time_frame=TimeFrame.of(\"2015-01-01\", 150),\n",
    "    initializer=partial(single_location, location=1, seed_size=5),\n",
    "    rng=default_rng(1)\n",
    ")\n",
    "\n",
    "with sim_messaging(sim):\n",
    "    out = sim.run()"
   ]
  },
  {
   "cell_type": "markdown",
   "metadata": {},
   "source": [
    "## Case 3:\n",
    "\n",
    "If we just provide a negative value to `prob1`, which is used in the demo fork ipm, we get a negative probability\n",
    "\n",
    "To handle this, the exception type `IpmSimInvalidProbsException` is used in `ipm_exec.py` to catch the less than zero error."
   ]
  },
  {
   "cell_type": "code",
   "execution_count": 9,
   "metadata": {},
   "outputs": [
    {
     "name": "stdout",
     "output_type": "stream",
     "text": [
      "Running simulation (StandardSimulation):\n",
      "• 2015-01-01 to 2015-05-31 (150 days)\n",
      "• 6 geo nodes\n",
      "|                    | 0% \r"
     ]
    },
    {
     "ename": "IpmSimInvalidProbsException",
     "evalue": "\nInvalid probabilities for fork definition detected. Probabilities for a \ngiven tick should always be nonnegative and sum to 1\n\nShowing current Node : Timestep\n0: 0\n\nShowing current compartment values\nS: 18811310\nI: 0\nR: 0\n\nShowing current ipm params\nbeta: 0.4\ngamma: 0.2\nxi: 0.011111111111111112\nprob1: -0.25\nprob2: 0.2\n\nShowing current corresponding fork transition and probabilities\nS->(I, R): I*S*beta*(prob1 + prob2)/(I + R + S)\nProbabilities: prob1/(prob1 + prob2), prob2/(prob1 + prob2)\n\n",
     "output_type": "error",
     "traceback": [
      "\u001b[1;31m---------------------------------------------------------------------------\u001b[0m",
      "\u001b[1;31mIpmSimInvalidProbsException\u001b[0m               Traceback (most recent call last)",
      "Cell \u001b[1;32mIn[9], line 18\u001b[0m\n\u001b[0;32m      1\u001b[0m sim \u001b[38;5;241m=\u001b[39m StandardSimulation(\n\u001b[0;32m      2\u001b[0m     geo\u001b[38;5;241m=\u001b[39mpei_geo,\n\u001b[0;32m      3\u001b[0m     ipm\u001b[38;5;241m=\u001b[39mload_ipm_fork(),\n\u001b[1;32m   (...)\u001b[0m\n\u001b[0;32m     14\u001b[0m     rng\u001b[38;5;241m=\u001b[39mdefault_rng(\u001b[38;5;241m1\u001b[39m)\n\u001b[0;32m     15\u001b[0m )\n\u001b[0;32m     17\u001b[0m \u001b[38;5;28;01mwith\u001b[39;00m sim_messaging(sim):\n\u001b[1;32m---> 18\u001b[0m     out \u001b[38;5;241m=\u001b[39m \u001b[43msim\u001b[49m\u001b[38;5;241;43m.\u001b[39;49m\u001b[43mrun\u001b[49m\u001b[43m(\u001b[49m\u001b[43m)\u001b[49m\n",
      "File \u001b[1;32mc:\\Users\\izaac\\Documents\\EpiMoRPH\\Epymorph\\epymorph\\engine\\standard_sim.py:180\u001b[0m, in \u001b[0;36mStandardSimulation.run\u001b[1;34m(self)\u001b[0m\n\u001b[0;32m    178\u001b[0m \u001b[38;5;66;03m# Then do IPM\u001b[39;00m\n\u001b[0;32m    179\u001b[0m \u001b[38;5;28;01mwith\u001b[39;00m error_gate(\u001b[38;5;124m\"\u001b[39m\u001b[38;5;124mexecuting the IPM\u001b[39m\u001b[38;5;124m\"\u001b[39m, IpmSimException, AttributeException):\n\u001b[1;32m--> 180\u001b[0m     tick_events, tick_prevalence \u001b[38;5;241m=\u001b[39m \u001b[43mipm_exec\u001b[49m\u001b[38;5;241;43m.\u001b[39;49m\u001b[43mapply\u001b[49m\u001b[43m(\u001b[49m\u001b[43mworld\u001b[49m\u001b[43m,\u001b[49m\u001b[43m \u001b[49m\u001b[43mtick\u001b[49m\u001b[43m)\u001b[49m\n\u001b[0;32m    181\u001b[0m     out\u001b[38;5;241m.\u001b[39mincidence[tick\u001b[38;5;241m.\u001b[39mindex] \u001b[38;5;241m=\u001b[39m tick_events\n\u001b[0;32m    182\u001b[0m     out\u001b[38;5;241m.\u001b[39mprevalence[tick\u001b[38;5;241m.\u001b[39mindex] \u001b[38;5;241m=\u001b[39m tick_prevalence\n",
      "File \u001b[1;32mc:\\Users\\izaac\\Documents\\EpiMoRPH\\Epymorph\\epymorph\\engine\\ipm_exec.py:148\u001b[0m, in \u001b[0;36mStandardIpmExecutor.apply\u001b[1;34m(self, world, tick)\u001b[0m\n\u001b[0;32m    145\u001b[0m cohorts \u001b[38;5;241m=\u001b[39m world\u001b[38;5;241m.\u001b[39mget_cohort_array(node)\n\u001b[0;32m    146\u001b[0m effective \u001b[38;5;241m=\u001b[39m cohorts\u001b[38;5;241m.\u001b[39msum(axis\u001b[38;5;241m=\u001b[39m\u001b[38;5;241m0\u001b[39m, dtype\u001b[38;5;241m=\u001b[39mSimDType)\n\u001b[1;32m--> 148\u001b[0m occurrences \u001b[38;5;241m=\u001b[39m \u001b[38;5;28;43mself\u001b[39;49m\u001b[38;5;241;43m.\u001b[39;49m\u001b[43m_events\u001b[49m\u001b[43m(\u001b[49m\u001b[43mnode\u001b[49m\u001b[43m,\u001b[49m\u001b[43m \u001b[49m\u001b[43mtick\u001b[49m\u001b[43m,\u001b[49m\u001b[43m \u001b[49m\u001b[43meffective\u001b[49m\u001b[43m)\u001b[49m\n\u001b[0;32m    149\u001b[0m cohort_deltas \u001b[38;5;241m=\u001b[39m \u001b[38;5;28mself\u001b[39m\u001b[38;5;241m.\u001b[39m_distribute(cohorts, occurrences)\n\u001b[0;32m    150\u001b[0m world\u001b[38;5;241m.\u001b[39mapply_cohort_delta(node, cohort_deltas)\n",
      "File \u001b[1;32mc:\\Users\\izaac\\Documents\\EpiMoRPH\\Epymorph\\epymorph\\engine\\ipm_exec.py:203\u001b[0m, in \u001b[0;36mStandardIpmExecutor._events\u001b[1;34m(self, node, tick, effective_pop)\u001b[0m\n\u001b[0;32m    201\u001b[0m \u001b[38;5;66;03m# check for negative probs\u001b[39;00m\n\u001b[0;32m    202\u001b[0m \u001b[38;5;28;01mif\u001b[39;00m \u001b[38;5;28many\u001b[39m(n \u001b[38;5;241m<\u001b[39m \u001b[38;5;241m0\u001b[39m \u001b[38;5;28;01mfor\u001b[39;00m n \u001b[38;5;129;01min\u001b[39;00m prob):\n\u001b[1;32m--> 203\u001b[0m     \u001b[38;5;28;01mraise\u001b[39;00m IpmSimInvalidProbsException(\n\u001b[0;32m    204\u001b[0m         \u001b[38;5;28mself\u001b[39m\u001b[38;5;241m.\u001b[39m_get_invalid_prob_args(rate_args, node, tick, t)\n\u001b[0;32m    205\u001b[0m     )\n\u001b[0;32m    206\u001b[0m stop \u001b[38;5;241m=\u001b[39m index \u001b[38;5;241m+\u001b[39m size\n\u001b[0;32m    207\u001b[0m occur[index:stop] \u001b[38;5;241m=\u001b[39m \u001b[38;5;28mself\u001b[39m\u001b[38;5;241m.\u001b[39m_ctx\u001b[38;5;241m.\u001b[39mrng\u001b[38;5;241m.\u001b[39mmultinomial(\n\u001b[0;32m    208\u001b[0m     base, prob)\n",
      "\u001b[1;31mIpmSimInvalidProbsException\u001b[0m: \nInvalid probabilities for fork definition detected. Probabilities for a \ngiven tick should always be nonnegative and sum to 1\n\nShowing current Node : Timestep\n0: 0\n\nShowing current compartment values\nS: 18811310\nI: 0\nR: 0\n\nShowing current ipm params\nbeta: 0.4\ngamma: 0.2\nxi: 0.011111111111111112\nprob1: -0.25\nprob2: 0.2\n\nShowing current corresponding fork transition and probabilities\nS->(I, R): I*S*beta*(prob1 + prob2)/(I + R + S)\nProbabilities: prob1/(prob1 + prob2), prob2/(prob1 + prob2)\n\n"
     ]
    }
   ],
   "source": [
    "sim = StandardSimulation(\n",
    "    geo=pei_geo,\n",
    "    ipm=load_ipm_fork(),\n",
    "    mm=mm_library['no'](),\n",
    "    params={\n",
    "        'beta': 0.4,\n",
    "        'gamma': 1 / 5,\n",
    "        'xi': 1 / 90,\n",
    "        'prob1': -1 / 4,  # WATCHOUT: negative value\n",
    "        'prob2': 1 / 5\n",
    "    },\n",
    "    time_frame=TimeFrame.of(\"2015-01-01\", 150),\n",
    "    initializer=partial(single_location, location=1, seed_size=5),\n",
    "    rng=default_rng(1)\n",
    ")\n",
    "\n",
    "with sim_messaging(sim):\n",
    "    out = sim.run()"
   ]
  },
  {
   "cell_type": "code",
   "execution_count": 12,
   "metadata": {},
   "outputs": [
    {
     "ename": "IpmSimInvalidProbsException",
     "evalue": "\nInvalid probabilities for fork definition detected. Probabilities for a \ngiven tick should always be nonnegative and sum to 1\n\nShowing current Node : Timestep\n0: 0\n\nShowing current compartment values\nS: 18811310\nI: 0\nR: 0\nH: 0\n\nShowing current ipm params\nbeta: 0.4\ngamma: 0.2\nxi: 0.01\nhospitalization_prob: -0.2\nhospitalization_duration: 15.0\n\nShowing current corresponding fork transition and probabilities\nI->(H, R): I*gamma\nProbabilities: hospitalization_prob, 1 - hospitalization_prob\n\n",
     "output_type": "error",
     "traceback": [
      "\u001b[1;31m---------------------------------------------------------------------------\u001b[0m",
      "\u001b[1;31mIpmSimInvalidProbsException\u001b[0m               Traceback (most recent call last)",
      "Cell \u001b[1;32mIn[12], line 17\u001b[0m\n\u001b[0;32m      1\u001b[0m sim \u001b[38;5;241m=\u001b[39m StandardSimulation(\n\u001b[0;32m      2\u001b[0m     geo\u001b[38;5;241m=\u001b[39mgeo_library[\u001b[38;5;124m'\u001b[39m\u001b[38;5;124mpei\u001b[39m\u001b[38;5;124m'\u001b[39m](),\n\u001b[0;32m      3\u001b[0m     ipm\u001b[38;5;241m=\u001b[39mipm_library[\u001b[38;5;124m'\u001b[39m\u001b[38;5;124msirh\u001b[39m\u001b[38;5;124m'\u001b[39m](),\n\u001b[1;32m   (...)\u001b[0m\n\u001b[0;32m     14\u001b[0m     rng\u001b[38;5;241m=\u001b[39mdefault_rng(\u001b[38;5;241m1\u001b[39m)\n\u001b[0;32m     15\u001b[0m )\n\u001b[1;32m---> 17\u001b[0m \u001b[43msim\u001b[49m\u001b[38;5;241;43m.\u001b[39;49m\u001b[43mrun\u001b[49m\u001b[43m(\u001b[49m\u001b[43m)\u001b[49m\n",
      "File \u001b[1;32mc:\\Users\\izaac\\Documents\\EpiMoRPH\\Epymorph\\epymorph\\engine\\standard_sim.py:180\u001b[0m, in \u001b[0;36mStandardSimulation.run\u001b[1;34m(self)\u001b[0m\n\u001b[0;32m    178\u001b[0m \u001b[38;5;66;03m# Then do IPM\u001b[39;00m\n\u001b[0;32m    179\u001b[0m \u001b[38;5;28;01mwith\u001b[39;00m error_gate(\u001b[38;5;124m\"\u001b[39m\u001b[38;5;124mexecuting the IPM\u001b[39m\u001b[38;5;124m\"\u001b[39m, IpmSimException, AttributeException):\n\u001b[1;32m--> 180\u001b[0m     tick_events, tick_prevalence \u001b[38;5;241m=\u001b[39m \u001b[43mipm_exec\u001b[49m\u001b[38;5;241;43m.\u001b[39;49m\u001b[43mapply\u001b[49m\u001b[43m(\u001b[49m\u001b[43mworld\u001b[49m\u001b[43m,\u001b[49m\u001b[43m \u001b[49m\u001b[43mtick\u001b[49m\u001b[43m)\u001b[49m\n\u001b[0;32m    181\u001b[0m     out\u001b[38;5;241m.\u001b[39mincidence[tick\u001b[38;5;241m.\u001b[39mindex] \u001b[38;5;241m=\u001b[39m tick_events\n\u001b[0;32m    182\u001b[0m     out\u001b[38;5;241m.\u001b[39mprevalence[tick\u001b[38;5;241m.\u001b[39mindex] \u001b[38;5;241m=\u001b[39m tick_prevalence\n",
      "File \u001b[1;32mc:\\Users\\izaac\\Documents\\EpiMoRPH\\Epymorph\\epymorph\\engine\\ipm_exec.py:148\u001b[0m, in \u001b[0;36mStandardIpmExecutor.apply\u001b[1;34m(self, world, tick)\u001b[0m\n\u001b[0;32m    145\u001b[0m cohorts \u001b[38;5;241m=\u001b[39m world\u001b[38;5;241m.\u001b[39mget_cohort_array(node)\n\u001b[0;32m    146\u001b[0m effective \u001b[38;5;241m=\u001b[39m cohorts\u001b[38;5;241m.\u001b[39msum(axis\u001b[38;5;241m=\u001b[39m\u001b[38;5;241m0\u001b[39m, dtype\u001b[38;5;241m=\u001b[39mSimDType)\n\u001b[1;32m--> 148\u001b[0m occurrences \u001b[38;5;241m=\u001b[39m \u001b[38;5;28;43mself\u001b[39;49m\u001b[38;5;241;43m.\u001b[39;49m\u001b[43m_events\u001b[49m\u001b[43m(\u001b[49m\u001b[43mnode\u001b[49m\u001b[43m,\u001b[49m\u001b[43m \u001b[49m\u001b[43mtick\u001b[49m\u001b[43m,\u001b[49m\u001b[43m \u001b[49m\u001b[43meffective\u001b[49m\u001b[43m)\u001b[49m\n\u001b[0;32m    149\u001b[0m cohort_deltas \u001b[38;5;241m=\u001b[39m \u001b[38;5;28mself\u001b[39m\u001b[38;5;241m.\u001b[39m_distribute(cohorts, occurrences)\n\u001b[0;32m    150\u001b[0m world\u001b[38;5;241m.\u001b[39mapply_cohort_delta(node, cohort_deltas)\n",
      "File \u001b[1;32mc:\\Users\\izaac\\Documents\\EpiMoRPH\\Epymorph\\epymorph\\engine\\ipm_exec.py:203\u001b[0m, in \u001b[0;36mStandardIpmExecutor._events\u001b[1;34m(self, node, tick, effective_pop)\u001b[0m\n\u001b[0;32m    201\u001b[0m \u001b[38;5;66;03m# check for negative probs\u001b[39;00m\n\u001b[0;32m    202\u001b[0m \u001b[38;5;28;01mif\u001b[39;00m \u001b[38;5;28many\u001b[39m(n \u001b[38;5;241m<\u001b[39m \u001b[38;5;241m0\u001b[39m \u001b[38;5;28;01mfor\u001b[39;00m n \u001b[38;5;129;01min\u001b[39;00m prob):\n\u001b[1;32m--> 203\u001b[0m     \u001b[38;5;28;01mraise\u001b[39;00m IpmSimInvalidProbsException(\n\u001b[0;32m    204\u001b[0m         \u001b[38;5;28mself\u001b[39m\u001b[38;5;241m.\u001b[39m_get_invalid_prob_args(rate_args, node, tick, t)\n\u001b[0;32m    205\u001b[0m     )\n\u001b[0;32m    206\u001b[0m stop \u001b[38;5;241m=\u001b[39m index \u001b[38;5;241m+\u001b[39m size\n\u001b[0;32m    207\u001b[0m occur[index:stop] \u001b[38;5;241m=\u001b[39m \u001b[38;5;28mself\u001b[39m\u001b[38;5;241m.\u001b[39m_ctx\u001b[38;5;241m.\u001b[39mrng\u001b[38;5;241m.\u001b[39mmultinomial(\n\u001b[0;32m    208\u001b[0m     base, prob)\n",
      "\u001b[1;31mIpmSimInvalidProbsException\u001b[0m: \nInvalid probabilities for fork definition detected. Probabilities for a \ngiven tick should always be nonnegative and sum to 1\n\nShowing current Node : Timestep\n0: 0\n\nShowing current compartment values\nS: 18811310\nI: 0\nR: 0\nH: 0\n\nShowing current ipm params\nbeta: 0.4\ngamma: 0.2\nxi: 0.01\nhospitalization_prob: -0.2\nhospitalization_duration: 15.0\n\nShowing current corresponding fork transition and probabilities\nI->(H, R): I*gamma\nProbabilities: hospitalization_prob, 1 - hospitalization_prob\n\n"
     ]
    }
   ],
   "source": [
    "\n",
    "sim = StandardSimulation(\n",
    "    geo=geo_library['pei'](),\n",
    "    ipm=ipm_library['sirh'](),\n",
    "    mm=mm_library['no'](),\n",
    "    params={\n",
    "        'beta': 0.4,\n",
    "        'gamma': 1 / 5,\n",
    "        'xi': 1 / 100,\n",
    "        'hospitalization_prob': -1 / 5,\n",
    "        'hospitalization_duration': 15\n",
    "    },\n",
    "    time_frame=TimeFrame.of(\"2015-01-01\", 150),\n",
    "    initializer=partial(single_location, location=1, seed_size=5),\n",
    "    rng=default_rng(1)\n",
    ")\n",
    "\n",
    "sim.run()"
   ]
  },
  {
   "cell_type": "markdown",
   "metadata": {},
   "source": [
    "# Extending this work\n",
    "Overall, this analysis has resulted in error handling for common ipm simulation errors. However, if more are to arise in the future, they can be expanded in the `epymorph/error.py` module\n",
    "by inhereting from `IpmSimException`, or `IpmSimExceptionWithFields` if simulation values are to be printed along with the error. See the definition of `IpmSimNanException` in `epymorph/error.py` for an example."
   ]
  }
 ],
 "metadata": {
  "kernelspec": {
   "display_name": ".venv",
   "language": "python",
   "name": "python3"
  },
  "language_info": {
   "codemirror_mode": {
    "name": "ipython",
    "version": 3
   },
   "file_extension": ".py",
   "mimetype": "text/x-python",
   "name": "python",
   "nbconvert_exporter": "python",
   "pygments_lexer": "ipython3",
   "version": "3.11.9"
  }
 },
 "nbformat": 4,
 "nbformat_minor": 2
}
