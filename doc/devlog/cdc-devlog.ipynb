{
 "cells": [
  {
   "cell_type": "code",
   "execution_count": 2,
   "metadata": {},
   "outputs": [],
   "source": [
    "from epymorph.data_shape import Shapes\n",
    "from epymorph.geo.adrio import adrio_maker_library\n",
    "from epymorph.geo.dynamic import DynamicGeo\n",
    "from epymorph.geo.spec import DynamicGeoSpec, Year\n",
    "from epymorph.geography.us_census import CountyScope, StateScope\n",
    "from epymorph.simulation import geo_attrib\n",
    "\n",
    "\n",
    "spec = DynamicGeoSpec(\n",
    "    attributes=[\n",
    "        geo_attrib('label', str, Shapes.N),\n",
    "        geo_attrib('population', int, Shapes.N),\n",
    "        geo_attrib(\"covid_cases_per_100k\", int, Shapes.N),\n",
    "        geo_attrib(\"covid_hospitalizations_per_100k\", int, Shapes.N),\n",
    "        geo_attrib(\"covid_hospitalization_avg\", float, Shapes.N),\n",
    "        geo_attrib(\"covid_hospitalization_sum\", int, Shapes.N),\n",
    "        geo_attrib(\"influenza_hospitalization_avg\", float, Shapes.N),\n",
    "        geo_attrib(\"influenza_hospitalization_sum\", int, Shapes.N),\n",
    "        geo_attrib(\"full_covid_vaccinations\", int, Shapes.N),\n",
    "        geo_attrib(\"one_dose_covid_vaccinations\", int, Shapes.N),\n",
    "        geo_attrib(\"covid_booster_doses\", int, Shapes.N),\n",
    "        geo_attrib(\"covid_deaths\", int, Shapes.N)\n",
    "    ],\n",
    "    time_period=Year(2022),\n",
    "    # scope=CountyScope.in_counties(['04007', '04013']),\n",
    "    # scope=CountyScope.in_states(['04', '08']),\n",
    "    scope=StateScope.in_states(['04', '08']),\n",
    "    source={\n",
    "        'label': 'Census:name',\n",
    "        'population': 'Census',\n",
    "        \"covid_cases_per_100k\": \"CDC\",\n",
    "        \"covid_hospitalizations_per_100k\": \"CDC\",\n",
    "        \"covid_hospitalization_avg\": \"CDC\",\n",
    "        \"covid_hospitalization_sum\": \"CDC\",\n",
    "        \"influenza_hospitalization_avg\": \"CDC\",\n",
    "        \"influenza_hospitalization_sum\": \"CDC\",\n",
    "        \"full_covid_vaccinations\": \"CDC\",\n",
    "        \"one_dose_covid_vaccinations\": \"CDC\",\n",
    "        \"covid_booster_doses\": \"CDC\",\n",
    "        \"covid_deaths\": \"CDC\"\n",
    "    }\n",
    ")\n",
    "\n",
    "geo = DynamicGeo.from_library(spec, adrio_maker_library)\n",
    "\n",
    "geo.fetch_all()\n",
    "# geo['covid_cases_100k']\n",
    "# geo['covid_hospitalization_avg']\n",
    "# geo['vaccinations']\n",
    "# geo['covid_deaths']"
   ]
  }
 ],
 "metadata": {
  "kernelspec": {
   "display_name": ".venv",
   "language": "python",
   "name": "python3"
  },
  "language_info": {
   "codemirror_mode": {
    "name": "ipython",
    "version": 3
   },
   "file_extension": ".py",
   "mimetype": "text/x-python",
   "name": "python",
   "nbconvert_exporter": "python",
   "pygments_lexer": "ipython3",
   "version": "3.11.9"
  }
 },
 "nbformat": 4,
 "nbformat_minor": 2
}
