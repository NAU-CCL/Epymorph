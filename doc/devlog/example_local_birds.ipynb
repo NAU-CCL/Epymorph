{
 "cells": [
  {
   "cell_type": "code",
   "execution_count": 2,
   "metadata": {},
   "outputs": [],
   "source": [
    "from datetime import date\n",
    "\n",
    "import matplotlib.pyplot as plt\n",
    "import numpy as np\n",
    "import pandas as pd\n",
    "import pygris\n",
    "from matplotlib.cm import ScalarMappable\n",
    "from matplotlib.colors import Normalize\n",
    "\n",
    "from epymorph.data import geo_library, ipm_library, mm_library\n",
    "from epymorph.initializer import bird_movement_initializer\n",
    "from epymorph.simulation import Simulation"
   ]
  },
  {
   "cell_type": "code",
   "execution_count": 3,
   "metadata": {},
   "outputs": [],
   "source": [
    "geo = geo_library['maricopa_cbg_2019']()\n",
    "\n",
    "source_node = '040130927211'\n",
    "birds = np.zeros(geo.nodes)\n",
    "birds[np.where(geo['geoid'] == source_node)] = 50000\n",
    "geo.values['bird_population'] = birds"
   ]
  },
  {
   "cell_type": "code",
   "execution_count": 6,
   "metadata": {},
   "outputs": [],
   "source": [
    "sim = Simulation(\n",
    "    geo=geo,\n",
    "    ipm_builder=ipm_library['no'](),\n",
    "    mvm_builder=mm_library['local_birds'](),\n",
    ")\n",
    "\n",
    "out = sim.run(\n",
    "    param={\n",
    "        'shape': 3,\n",
    "        'scale':3\n",
    "    },\n",
    "    start_date=date(2023, 1, 1),\n",
    "    duration_days=10,\n",
    "    initializer=bird_movement_initializer,\n",
    ")"
   ]
  },
  {
   "cell_type": "code",
   "execution_count": 7,
   "metadata": {},
   "outputs": [
    {
     "name": "stdout",
     "output_type": "stream",
     "text": [
      "Using FIPS code '04' for input 'Arizona'\n",
      "Using FIPS code '013' for input 'Maricopa'\n",
      "0           0\n",
      "1           0\n",
      "2          38\n",
      "3       45000\n",
      "4           6\n",
      "        ...  \n",
      "2489        0\n",
      "2490        0\n",
      "2491        0\n",
      "2492        0\n",
      "2493        0\n",
      "Name: visitors, Length: 2494, dtype: int64\n"
     ]
    }
   ],
   "source": [
    "df = pd.merge(\n",
    "    left=pygris.block_groups(\n",
    "        state=\"Arizona\",\n",
    "        county=\"Maricopa\",\n",
    "        year=2019,\n",
    "    ),\n",
    "    right=pd.DataFrame({\n",
    "        'GEOID': geo['geoid'],\n",
    "        'visitors': out.prevalence[0, :, 0],\n",
    "    }),\n",
    "    on='GEOID',\n",
    ")"
   ]
  },
  {
   "cell_type": "code",
   "execution_count": 10,
   "metadata": {},
   "outputs": [
    {
     "name": "stdout",
     "output_type": "stream",
     "text": [
      "     STATEFP COUNTYFP TRACTCE BLKGRPCE         GEOID       NAMELSAD  MTFCC  \\\n",
      "0         04      013  421702        3  040134217023  Block Group 3  G5030   \n",
      "1         04      013  040531        2  040130405312  Block Group 2  G5030   \n",
      "2         04      013  092312        1  040130923121  Block Group 1  G5030   \n",
      "3         04      013  092721        1  040130927211  Block Group 1  G5030   \n",
      "4         04      013  093104        1  040130931041  Block Group 1  G5030   \n",
      "...      ...      ...     ...      ...           ...            ...    ...   \n",
      "2489      04      013  811900        2  040138119002  Block Group 2  G5030   \n",
      "2490      04      013  812000        1  040138120001  Block Group 1  G5030   \n",
      "2491      04      013  812000        2  040138120002  Block Group 2  G5030   \n",
      "2492      04      013  523002        3  040135230023  Block Group 3  G5030   \n",
      "2493      04      013  523102        3  040135231023  Block Group 3  G5030   \n",
      "\n",
      "     FUNCSTAT    ALAND  AWATER     INTPTLAT      INTPTLON  \\\n",
      "0           S   310375       0  +33.4123043  -111.7788867   \n",
      "1           S   616061       0  +33.6422660  -112.3722104   \n",
      "2           S   295623       0  +33.5654583  -112.1989360   \n",
      "3           S  1108648       0  +33.5408739  -112.2472748   \n",
      "4           S   168697       0  +33.5113085  -112.1797305   \n",
      "...       ...      ...     ...          ...           ...   \n",
      "2489        S   771839       0  +33.2801026  -111.8638617   \n",
      "2490        S  1279036       0  +33.2802159  -111.8501034   \n",
      "2491        S  1360898       0  +33.2876864  -111.8502128   \n",
      "2492        S   666349       0  +33.3097028  -111.8546715   \n",
      "2493        S   953890       0  +33.2952931  -111.8306239   \n",
      "\n",
      "                                               geometry  visitors  \n",
      "0     POLYGON ((-111.78406 33.41540, -111.78259 33.4...         0  \n",
      "1     POLYGON ((-112.37679 33.64389, -112.37673 33.6...         0  \n",
      "2     POLYGON ((-112.20294 33.56672, -112.20293 33.5...        38  \n",
      "3     POLYGON ((-112.25507 33.53763, -112.25507 33.5...     45000  \n",
      "4     POLYGON ((-112.18194 33.50955, -112.18193 33.5...         6  \n",
      "...                                                 ...       ...  \n",
      "2489  POLYGON ((-111.87111 33.28352, -111.87031 33.2...         0  \n",
      "2490  POLYGON ((-111.85867 33.28374, -111.85848 33.2...         0  \n",
      "2491  POLYGON ((-111.85885 33.29153, -111.85853 33.2...         0  \n",
      "2492  POLYGON ((-111.85910 33.30737, -111.85908 33.3...         0  \n",
      "2493  POLYGON ((-111.83702 33.29890, -111.83656 33.2...         0  \n",
      "\n",
      "[2494 rows x 14 columns]\n"
     ]
    }
   ],
   "source": [
    "print(df)"
   ]
  },
  {
   "cell_type": "code",
   "execution_count": 1,
   "metadata": {},
   "outputs": [
    {
     "ename": "NameError",
     "evalue": "name 'plt' is not defined",
     "output_type": "error",
     "traceback": [
      "\u001b[1;31m---------------------------------------------------------------------------\u001b[0m",
      "\u001b[1;31mNameError\u001b[0m                                 Traceback (most recent call last)",
      "Cell \u001b[1;32mIn[1], line 1\u001b[0m\n\u001b[1;32m----> 1\u001b[0m fig, ax \u001b[38;5;241m=\u001b[39m \u001b[43mplt\u001b[49m\u001b[38;5;241m.\u001b[39msubplots(figsize\u001b[38;5;241m=\u001b[39m(\u001b[38;5;241m10\u001b[39m, \u001b[38;5;241m8\u001b[39m))\n\u001b[0;32m      2\u001b[0m norm \u001b[38;5;241m=\u001b[39m Normalize(vmin\u001b[38;5;241m=\u001b[39m\u001b[38;5;241m0\u001b[39m, vmax\u001b[38;5;241m=\u001b[39m\u001b[38;5;241m20\u001b[39m)\n\u001b[0;32m      3\u001b[0m sm \u001b[38;5;241m=\u001b[39m ScalarMappable(cmap\u001b[38;5;241m=\u001b[39m\u001b[38;5;124m'\u001b[39m\u001b[38;5;124mReds\u001b[39m\u001b[38;5;124m'\u001b[39m, norm\u001b[38;5;241m=\u001b[39mnorm)\n",
      "\u001b[1;31mNameError\u001b[0m: name 'plt' is not defined"
     ]
    }
   ],
   "source": [
    "fig, ax = plt.subplots(figsize=(10, 8))\n",
    "norm = Normalize(vmin=0, vmax=20)\n",
    "sm = ScalarMappable(cmap='Reds', norm=norm)\n",
    "df.plot(ax=ax, color=sm.to_rgba(df['visitors'].to_numpy()))\n",
    "cbar = plt.colorbar(sm, ax=ax, orientation='vertical')\n",
    "cbar.set_label('No of birds moved')\n",
    "plt.title('Bird Movement')\n",
    "plt.show()"
   ]
  }
 ],
 "metadata": {
  "kernelspec": {
   "display_name": ".venv",
   "language": "python",
   "name": "python3"
  },
  "language_info": {
   "codemirror_mode": {
    "name": "ipython",
    "version": 3
   },
   "file_extension": ".py",
   "mimetype": "text/x-python",
   "name": "python",
   "nbconvert_exporter": "python",
   "pygments_lexer": "ipython3",
   "version": "3.11.6"
  }
 },
 "nbformat": 4,
 "nbformat_minor": 2
}
