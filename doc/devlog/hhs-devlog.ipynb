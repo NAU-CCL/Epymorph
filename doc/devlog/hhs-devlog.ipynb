{
 "cells": [
  {
   "cell_type": "code",
   "execution_count": null,
   "metadata": {},
   "outputs": [],
   "source": [
    "from epymorph.data_shape import Shapes\n",
    "from epymorph.geo.adrio import adrio_maker_library\n",
    "from epymorph.geo.dynamic import DynamicGeo\n",
    "from epymorph.geo.spec import DynamicGeoSpec, Year\n",
    "from epymorph.geography.us_census import CountyScope\n",
    "from epymorph.simulation import geo_attrib\n",
    "\n",
    "\n",
    "spec = DynamicGeoSpec(\n",
    "    attributes=[\n",
    "        geo_attrib('label', str, Shapes.N),\n",
    "        geo_attrib('population', int, Shapes.N),\n",
    "        geo_attrib('covid_hospitalization_avg', float, Shapes.N)\n",
    "    ],\n",
    "    time_period=Year(2020),\n",
    "    # scope=CountyScope.in_counties(['04007', '04013']),\n",
    "    scope=CountyScope.in_states(['04', '08']),\n",
    "    source={\n",
    "        'label': 'Census:name',\n",
    "        'population': 'Census',\n",
    "        'covid_hospitalization_avg': 'HHS'\n",
    "    }\n",
    ")\n",
    "\n",
    "geo = DynamicGeo.from_library(spec, adrio_maker_library)\n",
    "\n",
    "geo['covid_hospitalization_avg']"
   ]
  }
 ],
 "metadata": {
  "kernelspec": {
   "display_name": ".venv",
   "language": "python",
   "name": "python3"
  },
  "language_info": {
   "codemirror_mode": {
    "name": "ipython",
    "version": 3
   },
   "file_extension": ".py",
   "mimetype": "text/x-python",
   "name": "python",
   "nbconvert_exporter": "python",
   "pygments_lexer": "ipython3",
   "version": "3.11.0"
  }
 },
 "nbformat": 4,
 "nbformat_minor": 2
}
