{
 "cells": [
  {
   "cell_type": "code",
   "execution_count": 1,
   "metadata": {},
   "outputs": [],
   "source": [
    "from epymorph.data_shape import Shapes\n",
    "from epymorph.geo.spec import DynamicGeoSpec, Year, attrib\n",
    "from epymorph.geography.us_census import (BlockGroupScope, CountyScope,\n",
    "                                          StateScope, TractScope)\n",
    "\n",
    "spec = DynamicGeoSpec(\n",
    "    attributes=[\n",
    "        attrib('label', str, Shapes.N),\n",
    "        attrib('geoid', str, Shapes.N),\n",
    "        attrib('commuters', int, Shapes.NxN),\n",
    "        attrib('commuters_29_under', int, Shapes.NxN),\n",
    "        attrib('commuters_30_to_54', int, Shapes.NxN),\n",
    "        attrib('commuters_55_over', int, Shapes.NxN),\n",
    "        attrib('commuters_1250_under_earnings', int, Shapes.NxN),\n",
    "        attrib('commuters_1251_to_3333_earnings', int, Shapes.NxN),\n",
    "        attrib('commuters_3333_over_earnings', int, Shapes.NxN),\n",
    "        attrib('commuters_goods_producing_industry', int, Shapes.NxN),\n",
    "        attrib('commuters_trade_transport_utility_industry', int, Shapes.NxN),\n",
    "        attrib('commuters_other_industry', int, Shapes.NxN),\n",
    "        attrib('all_jobs', int, Shapes.NxN),\n",
    "        attrib('primary_jobs', int, Shapes.NxN),\n",
    "        attrib('all_private_jobs', int, Shapes.NxN),\n",
    "        attrib('private_primary_jobs', int, Shapes.NxN),\n",
    "        attrib('all_federal_jobs', int, Shapes.NxN),\n",
    "        attrib('federal_primary_jobs', int, Shapes.NxN)\n",
    "    ],\n",
    "    time_period=Year(2015),\n",
    "    scope=CountyScope.in_states_by_code([\"AZ\", \"CO\", \"NM\", \"NV\"]),\n",
    "    source={\n",
    "        'label': 'LODES:geoid',\n",
    "        'commuters': 'LODES',\n",
    "        'commuters_29_under': 'LODES',\n",
    "        'commuters_30_to_54': 'LODES',\n",
    "        'commuters_55_over': 'LODES',\n",
    "        'commuters_1250_under_earnings': 'LODES',\n",
    "        'commuters_1251_to_3333_earnings': 'LODES',\n",
    "        'commuters_3333_over_earnings': 'LODES',\n",
    "        'commuters_goods_producing_industry': 'LODES',\n",
    "        'commuters_trade_transport_utility_industry': 'LODES',\n",
    "        'commuters_other_industry': 'LODES',\n",
    "        'all_jobs': 'LODES',\n",
    "        'primary_jobs': 'LODES',\n",
    "        'all_private_jobs': 'LODES',\n",
    "        'private_primary_jobs': 'LODES',\n",
    "        'all_federal_jobs': 'LODES',\n",
    "        'federal_primary_jobs': 'LODES'\n",
    "    }\n",
    ")"
   ]
  },
  {
   "cell_type": "code",
   "execution_count": 2,
   "metadata": {},
   "outputs": [
    {
     "ename": "GeoValidationException",
     "evalue": "Missing source for attribute: geoid.",
     "output_type": "error",
     "traceback": [
      "\u001b[0;31m---------------------------------------------------------------------------\u001b[0m",
      "\u001b[0;31mGeoValidationException\u001b[0m                    Traceback (most recent call last)",
      "Cell \u001b[0;32mIn[2], line 4\u001b[0m\n\u001b[1;32m      1\u001b[0m \u001b[38;5;28;01mfrom\u001b[39;00m \u001b[38;5;21;01mepymorph\u001b[39;00m\u001b[38;5;21;01m.\u001b[39;00m\u001b[38;5;21;01mgeo\u001b[39;00m\u001b[38;5;21;01m.\u001b[39;00m\u001b[38;5;21;01madrio\u001b[39;00m \u001b[38;5;28;01mimport\u001b[39;00m adrio_maker_library\n\u001b[1;32m      2\u001b[0m \u001b[38;5;28;01mfrom\u001b[39;00m \u001b[38;5;21;01mepymorph\u001b[39;00m\u001b[38;5;21;01m.\u001b[39;00m\u001b[38;5;21;01mgeo\u001b[39;00m\u001b[38;5;21;01m.\u001b[39;00m\u001b[38;5;21;01mdynamic\u001b[39;00m \u001b[38;5;28;01mimport\u001b[39;00m DynamicGeo\n\u001b[0;32m----> 4\u001b[0m geo \u001b[38;5;241m=\u001b[39m \u001b[43mDynamicGeo\u001b[49m\u001b[38;5;241;43m.\u001b[39;49m\u001b[43mfrom_library\u001b[49m\u001b[43m(\u001b[49m\u001b[43mspec\u001b[49m\u001b[43m,\u001b[49m\u001b[43m \u001b[49m\u001b[43madrio_maker_library\u001b[49m\u001b[43m)\u001b[49m\n",
      "File \u001b[0;32m~/College/Epymorph/epymorph/geo/dynamic.py:57\u001b[0m, in \u001b[0;36mDynamicGeo.from_library\u001b[0;34m(cls, spec, adrio_maker_library)\u001b[0m\n\u001b[1;32m     55\u001b[0m \u001b[38;5;28;01mif\u001b[39;00m source \u001b[38;5;129;01mis\u001b[39;00m \u001b[38;5;28;01mNone\u001b[39;00m:\n\u001b[1;32m     56\u001b[0m     msg \u001b[38;5;241m=\u001b[39m \u001b[38;5;124mf\u001b[39m\u001b[38;5;124m\"\u001b[39m\u001b[38;5;124mMissing source for attribute: \u001b[39m\u001b[38;5;132;01m{\u001b[39;00mattr\u001b[38;5;241m.\u001b[39mname\u001b[38;5;132;01m}\u001b[39;00m\u001b[38;5;124m.\u001b[39m\u001b[38;5;124m\"\u001b[39m\n\u001b[0;32m---> 57\u001b[0m     \u001b[38;5;28;01mraise\u001b[39;00m GeoValidationException(msg)\n\u001b[1;32m     59\u001b[0m \u001b[38;5;28;01mif\u001b[39;00m \u001b[38;5;28misinstance\u001b[39m(source, \u001b[38;5;28mstr\u001b[39m):\n\u001b[1;32m     60\u001b[0m     maker_name \u001b[38;5;241m=\u001b[39m source\n",
      "\u001b[0;31mGeoValidationException\u001b[0m: Missing source for attribute: geoid."
     ]
    }
   ],
   "source": [
    "from epymorph.geo.adrio import adrio_maker_library\n",
    "from epymorph.geo.dynamic import DynamicGeo\n",
    "\n",
    "geo = DynamicGeo.from_library(spec, adrio_maker_library)"
   ]
  },
  {
   "cell_type": "code",
   "execution_count": null,
   "metadata": {},
   "outputs": [
    {
     "name": "stdout",
     "output_type": "stream",
     "text": [
      "[array(['04001', '04003', '04005', '04007', '04009', '04011', '04012',\n",
      "       '04013', '04015', '04017', '04019', '04021', '04023', '04025',\n",
      "       '04027', '08001', '08003', '08005', '08007', '08009', '08011',\n",
      "       '08013', '08014', '08015', '08017', '08019', '08021', '08023',\n",
      "       '08025', '08027', '08029', '08031', '08033', '08035', '08037',\n",
      "       '08039', '08041', '08043', '08045', '08047', '08049', '08051',\n",
      "       '08053', '08055', '08057', '08059', '08061', '08063', '08065',\n",
      "       '08067', '08069', '08071', '08073', '08075', '08077', '08079',\n",
      "       '08081', '08083', '08085', '08087', '08089', '08091', '08093',\n",
      "       '08095', '08097', '08099', '08101', '08103', '08105', '08107',\n",
      "       '08109', '08111', '08113', '08115', '08117', '08119', '08121',\n",
      "       '08123', '08125', '32001', '32003', '32005', '32007', '32009',\n",
      "       '32011', '32013', '32015', '32017', '32019', '32021', '32023',\n",
      "       '32027', '32029', '32031', '32033', '32510', '35001', '35003',\n",
      "       '35005', '35006', '35007', '35009', '35011', '35013', '35015',\n",
      "       '35017', '35019', '35021', '35023', '35025', '35027', '35028',\n",
      "       '35029', '35031', '35033', '35035', '35037', '35039', '35041',\n",
      "       '35043', '35045', '35047', '35049', '35051', '35053', '35055',\n",
      "       '35057', '35059', '35061'], dtype='<U5')]\n"
     ]
    }
   ],
   "source": [
    "values = [geo['label'], geo['commuters']]\n",
    "\n",
    "print(values)"
   ]
  }
 ],
 "metadata": {
  "kernelspec": {
   "display_name": ".venv",
   "language": "python",
   "name": "python3"
  },
  "language_info": {
   "codemirror_mode": {
    "name": "ipython",
    "version": 3
   },
   "file_extension": ".py",
   "mimetype": "text/x-python",
   "name": "python",
   "nbconvert_exporter": "python",
   "pygments_lexer": "ipython3",
   "version": "3.11.0rc1"
  }
 },
 "nbformat": 4,
 "nbformat_minor": 2
}
