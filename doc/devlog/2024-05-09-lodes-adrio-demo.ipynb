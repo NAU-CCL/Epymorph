{
 "cells": [
  {
   "cell_type": "code",
   "execution_count": 1,
   "metadata": {},
   "outputs": [],
   "source": [
    "from epymorph.data_shape import Shapes\n",
    "from epymorph.geo.spec import DynamicGeoSpec, Year, attrib\n",
    "from epymorph.geography.us_census import (BlockGroupScope, CountyScope,\n",
    "                                          StateScope, TractScope)\n",
    "\n",
    "spec = DynamicGeoSpec(\n",
    "    attributes=[\n",
    "        attrib('label', str, Shapes.N),\n",
    "        attrib('geoid', str, Shapes.N),\n",
    "        attrib('commuters', int, Shapes.NxN),\n",
    "        attrib('commuters_29_under', int, Shapes.NxN),\n",
    "        attrib('commuters_30_to_54', int, Shapes.NxN),\n",
    "        attrib('commuters_55_over', int, Shapes.NxN),\n",
    "        attrib('commuters_1250_under_earnings', int, Shapes.NxN),\n",
    "        attrib('commuters_1251_to_3333_earnings', int, Shapes.NxN),\n",
    "        attrib('commuters_3333_over_earnings', int, Shapes.NxN),\n",
    "        attrib('commuters_goods_producing_industry', int, Shapes.NxN),\n",
    "        attrib('commuters_trade_transport_utility_industry', int, Shapes.NxN),\n",
    "        attrib('commuters_other_industry', int, Shapes.NxN),\n",
    "        attrib('all_jobs', int, Shapes.NxN),\n",
    "        attrib('primary_jobs', int, Shapes.NxN),\n",
    "        attrib('all_private_jobs', int, Shapes.NxN),\n",
    "        attrib('private_primary_jobs', int, Shapes.NxN),\n",
    "        attrib('all_federal_jobs', int, Shapes.NxN),\n",
    "        attrib('federal_primary_jobs', int, Shapes.NxN)\n",
    "    ],\n",
    "    time_period=Year(2015),\n",
    "    scope=TractScope.in_states_by_code([\"AZ\", \"CO\", \"NM\", \"NV\"]),\n",
    "    source={\n",
    "        'label': 'LODES:name',\n",
    "        'geoid': 'LODES',\n",
    "        'commuters': 'LODES',\n",
    "        'commuters_29_under': 'LODES',\n",
    "        'commuters_30_to_54': 'LODES',\n",
    "        'commuters_55_over': 'LODES',\n",
    "        'commuters_1250_under_earnings': 'LODES',\n",
    "        'commuters_1251_to_3333_earnings': 'LODES',\n",
    "        'commuters_3333_over_earnings': 'LODES',\n",
    "        'commuters_goods_producing_industry': 'LODES',\n",
    "        'commuters_trade_transport_utility_industry': 'LODES',\n",
    "        'commuters_other_industry': 'LODES',\n",
    "        'all_jobs': 'LODES',\n",
    "        'primary_jobs': 'LODES',\n",
    "        'all_private_jobs': 'LODES',\n",
    "        'private_primary_jobs': 'LODES',\n",
    "        'all_federal_jobs': 'LODES',\n",
    "        'federal_primary_jobs': 'LODES'\n",
    "    }\n",
    ")"
   ]
  },
  {
   "cell_type": "code",
   "execution_count": 2,
   "metadata": {},
   "outputs": [],
   "source": [
    "from epymorph.geo.adrio import adrio_maker_library\n",
    "from epymorph.geo.dynamic import DynamicGeo\n",
    "\n",
    "geo = DynamicGeo.from_library(spec, adrio_maker_library)"
   ]
  },
  {
   "cell_type": "code",
   "execution_count": 3,
   "metadata": {},
   "outputs": [
    {
     "name": "stdout",
     "output_type": "stream",
     "text": [
      "[array(['0', '0', '0', ..., '3', '3', '3'], dtype='<U1'), array([[  0,   0,   0, ...,   0,   0,   0],\n",
      "       [ 10, 139,   0, ...,   0,   0,   0],\n",
      "       [ 12,  29, 304, ...,   0,   0,   0],\n",
      "       ...,\n",
      "       [  0,   0,   0, ...,   0,   0,   0],\n",
      "       [  0,   0,   0, ...,   0,   0,   0],\n",
      "       [  0,   0,   0, ...,   0,   0,   0]])]\n"
     ]
    }
   ],
   "source": [
    "values = [geo['geoid'], geo['commuters']]\n",
    "\n",
    "print(values)"
   ]
  }
 ],
 "metadata": {
  "kernelspec": {
   "display_name": ".venv",
   "language": "python",
   "name": "python3"
  },
  "language_info": {
   "codemirror_mode": {
    "name": "ipython",
    "version": 3
   },
   "file_extension": ".py",
   "mimetype": "text/x-python",
   "name": "python",
   "nbconvert_exporter": "python",
   "pygments_lexer": "ipython3",
   "version": "3.11.0rc1"
  }
 },
 "nbformat": 4,
 "nbformat_minor": 2
}
