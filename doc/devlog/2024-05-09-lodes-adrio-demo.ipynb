{
 "cells": [
  {
   "cell_type": "code",
   "execution_count": 1,
   "metadata": {},
   "outputs": [],
   "source": [
    "from pathlib import Path\n",
    "\n",
    "import numpy as np\n",
    "\n",
    "from epymorph.data_shape import Shapes\n",
    "from epymorph.geo.adrio.census.lodes import Granularity, LodesGeography\n",
    "from epymorph.geo.spec import DynamicGeoSpec, Year, attrib\n",
    "\n",
    "spec = DynamicGeoSpec(\n",
    "    attributes=[\n",
    "        attrib('label', str, Shapes.N),\n",
    "        attrib('commuters', int, Shapes.NxN),\n",
    "        attrib('commuters_29_under', int, Shapes.NxN),\n",
    "        attrib('commuters_30_to_54', int, Shapes.NxN),\n",
    "        attrib('commuters_55_over', int, Shapes.NxN),\n",
    "        attrib('commuters_1250_under_earnings', int, Shapes.NxN),\n",
    "        attrib('commuters_1251_to_3333_earnings', int, Shapes.NxN),\n",
    "        attrib('commuters_3333_over_earnings', int, Shapes.NxN),\n",
    "        attrib('commuters_goods_producing_industry', int, Shapes.NxN),\n",
    "        attrib('commuters_trade_transport_utility_industry', int, Shapes.NxN),\n",
    "        attrib('commuters_3333_over_earnings', int, Shapes.NxN),\n",
    "        attrib('all_jobs', int, Shapes.NxN),\n",
    "        attrib('primary_jobs', int, Shapes.NxN),\n",
    "        attrib('all_private_jobs', int, Shapes.NxN),\n",
    "        attrib('private_primary_jobs', int, Shapes.NxN),\n",
    "        attrib('all_federal_jobs', int, Shapes.NxN),\n",
    "        attrib('federal_primary_jobs', int, Shapes.NxN)\n",
    "\n",
    "    ],\n",
    "    time_period=Year(2015),\n",
    "    geography=LodesGeography(\n",
    "        granularity=Granularity.COUNTY, filter={\n",
    "            'state': ['04', '08', '32', '35'],\n",
    "            'county': ['*'],\n",
    "            'tract': ['*'],\n",
    "            'block group': ['*'],\n",
    "            'block': ['*']\n",
    "        }),\n",
    "    source={\n",
    "        'label': 'LODES:name',\n",
    "        'home_geoid': 'LODES',\n",
    "        'work_geoid': 'LODES',\n",
    "        'commuters': 'LODES',\n",
    "        'commuters_29_under': 'LODES',\n",
    "        'commuters_30_to_54': 'LODES',\n",
    "        'commuters_55_over': 'LODES',\n",
    "        'commuters_1250_under_earnings': 'LODES',\n",
    "        'commuters_1251_to_3333_earnings': 'LODES',\n",
    "        'commuters_3333_over_earnings': 'LODES',\n",
    "        'commuters_goods_producing_industry': 'LODES',\n",
    "        'commuters_trade_transport_utility_industry': 'LODES',\n",
    "        'commuters_other_industry': 'LODES',\n",
    "        'all_jobs': 'LODES',\n",
    "        'primary_jobs': 'LODES',\n",
    "        'all_private_jobs': 'LODES',\n",
    "        'private_primary_jobs': 'LODES',\n",
    "        'all_federal_jobs': 'LODES',\n",
    "        'federal_primary_jobs': 'LODES'\n",
    "    }\n",
    ")"
   ]
  },
  {
   "cell_type": "code",
   "execution_count": 2,
   "metadata": {},
   "outputs": [
    {
     "name": "stdout",
     "output_type": "stream",
     "text": [
      "Fetching data from URL: https://lehd.ces.census.gov/data/lodes/LODES8/az/od/az_od_main_JT00_2015.csv.gz\n",
      "Fetching data from URL: https://lehd.ces.census.gov/data/lodes/LODES8/az/od/az_od_main_JT00_2015.csv.gz\n",
      "Load from cache\n",
      "\n",
      "Fetching data from URL: https://lehd.ces.census.gov/data/lodes/LODES8/co/od/co_od_main_JT00_2015.csv.gz\n",
      "Fetching data from URL: https://lehd.ces.census.gov/data/lodes/LODES8/co/od/co_od_main_JT00_2015.csv.gz\n",
      "Load from cache\n",
      "\n",
      "Fetching data from URL: https://lehd.ces.census.gov/data/lodes/LODES8/nv/od/nv_od_main_JT00_2015.csv.gz\n",
      "Fetching data from URL: https://lehd.ces.census.gov/data/lodes/LODES8/nv/od/nv_od_main_JT00_2015.csv.gz\n",
      "Load from cache\n",
      "\n",
      "Fetching data from URL: https://lehd.ces.census.gov/data/lodes/LODES8/nm/od/nm_od_main_JT00_2015.csv.gz\n",
      "Fetching data from URL: https://lehd.ces.census.gov/data/lodes/LODES8/nm/od/nm_od_main_JT00_2015.csv.gz\n",
      "Load from cache\n",
      "\n"
     ]
    }
   ],
   "source": [
    "from epymorph.geo.adrio import adrio_maker_library\n",
    "from epymorph.geo.dynamic import DynamicGeo\n",
    "\n",
    "geo = DynamicGeo.from_library(spec, adrio_maker_library)"
   ]
  },
  {
   "cell_type": "code",
   "execution_count": 3,
   "metadata": {},
   "outputs": [
    {
     "name": "stdout",
     "output_type": "stream",
     "text": [
      "Fetching data from URL: https://lehd.ces.census.gov/data/lodes/LODES8/az/od/az_od_main_JT00_2015.csv.gz\n",
      "Fetching data from URL: https://lehd.ces.census.gov/data/lodes/LODES8/az/od/az_od_main_JT00_2015.csv.gz\n",
      "Load from cache\n",
      "\n",
      "Fetching data from URL: https://lehd.ces.census.gov/data/lodes/LODES8/co/od/co_od_main_JT00_2015.csv.gz\n",
      "Fetching data from URL: https://lehd.ces.census.gov/data/lodes/LODES8/co/od/co_od_main_JT00_2015.csv.gz\n",
      "Load from cache\n",
      "\n",
      "Fetching data from URL: https://lehd.ces.census.gov/data/lodes/LODES8/nv/od/nv_od_main_JT00_2015.csv.gz\n",
      "Fetching data from URL: https://lehd.ces.census.gov/data/lodes/LODES8/nv/od/nv_od_main_JT00_2015.csv.gz\n",
      "Load from cache\n",
      "\n",
      "Fetching data from URL: https://lehd.ces.census.gov/data/lodes/LODES8/nm/od/nm_od_main_JT00_2015.csv.gz\n",
      "Fetching data from URL: https://lehd.ces.census.gov/data/lodes/LODES8/nm/od/nm_od_main_JT00_2015.csv.gz\n",
      "Load from cache\n",
      "\n",
      "[array(['04013', '08013', '08101', '32013', '35013'], dtype=object), array([[1629509,      29,      19,       3,      85],\n",
      "       [     40,   80435,     406,       0,       0],\n",
      "       [      6,     226,   43075,       0,       1],\n",
      "       [      4,       0,       0,    5411,       0],\n",
      "       [    162,       0,       4,       0,   50494]])]\n"
     ]
    }
   ],
   "source": [
    "values = [geo['label'],\n",
    "          geo['commuters']]\n",
    "\n",
    "print(values)"
   ]
  }
 ],
 "metadata": {
  "kernelspec": {
   "display_name": ".venv",
   "language": "python",
   "name": "python3"
  },
  "language_info": {
   "codemirror_mode": {
    "name": "ipython",
    "version": 3
   },
   "file_extension": ".py",
   "mimetype": "text/x-python",
   "name": "python",
   "nbconvert_exporter": "python",
   "pygments_lexer": "ipython3",
   "version": "3.11.0rc1"
  }
 },
 "nbformat": 4,
 "nbformat_minor": 2
}
