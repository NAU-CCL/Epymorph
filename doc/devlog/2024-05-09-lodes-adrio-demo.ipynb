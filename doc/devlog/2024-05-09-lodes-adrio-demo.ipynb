{
 "cells": [
  {
   "cell_type": "code",
   "execution_count": 1,
   "metadata": {},
   "outputs": [],
   "source": [
    "from pathlib import Path\n",
    "\n",
    "import numpy as np\n",
    "\n",
    "from epymorph.data_shape import Shapes\n",
    "from epymorph.geo.adrio.census.lodes import Granularity, LodesGeography\n",
    "from epymorph.geo.spec import AttribDef, CentroidDType, DynamicGeoSpec, Year\n",
    "\n",
    "spec = DynamicGeoSpec(\n",
    "    attributes=[\n",
    "        AttribDef('label', np.str_, Shapes.N),\n",
    "        AttribDef('home_geoid', np.str_, Shapes.N),\n",
    "        AttribDef('work_geoid', np.str_, Shapes.N),\n",
    "        AttribDef('commuters', np.int64, Shapes.NxN),\n",
    "        AttribDef('commuters_29_under', np.int64, Shapes.NxN),\n",
    "        AttribDef('commuters_30_to_54', np.int64, Shapes.NxN),\n",
    "        AttribDef('commuters_55_over', np.int64, Shapes.NxN),\n",
    "        AttribDef('commuters_1250_under_earnings', np.int64, Shapes.NxN),\n",
    "        AttribDef('commuters_1251_to_3333_earnings', np.int64, Shapes.NxN),\n",
    "        AttribDef('commuters_3333_over_earnings', np.int64, Shapes.NxN),\n",
    "        AttribDef('commuters_goods_producing_industry', np.int64, Shapes.NxN),\n",
    "        AttribDef('commuters_trade_transport_utility_industry', np.int64, Shapes.NxN),\n",
    "        AttribDef('commuters_3333_over_earnings', np.int64, Shapes.NxN),\n",
    "        AttribDef('all_jobs', np.int64, Shapes.NxN),\n",
    "        AttribDef('primary_jobs', np.int64, Shapes.NxN),\n",
    "        AttribDef('all_private_jobs', np.int64, Shapes.NxN),\n",
    "        AttribDef('private_primary_jobs', np.int64, Shapes.NxN),\n",
    "        AttribDef('all_federal_jobs', np.int64, Shapes.NxN),\n",
    "        AttribDef('federal_primary_jobs', np.int64, Shapes.NxN)\n",
    "\n",
    "    ],\n",
    "    time_period=Year(2016),\n",
    "    geography=LodesGeography(granularity=Granularity.TRACT, filter={\n",
    "        'state': ['04', '08', '32', '35'],\n",
    "        'county': ['013', '041', '003', '001'],\n",
    "        'tract': ['030401', '005119', '005347', '000112'],\n",
    "        'block group': ['*'],\n",
    "        'block': ['*']\n",
    "    }),\n",
    "    source={\n",
    "        'label': 'LODES:name',\n",
    "        'home_geoid': 'LODES',\n",
    "        'work_geoid': 'LODES',\n",
    "        'commuters': 'LODES',\n",
    "        'commuters_29_under': 'LODES',\n",
    "        'commuters_30_to_54': 'LODES',\n",
    "        'commuters_55_over': 'LODES',\n",
    "        'commuters_1250_under_earnings': 'LODES',\n",
    "        'commuters_1251_to_3333_earnings': 'LODES',\n",
    "        'commuters_3333_over_earnings': 'LODES',\n",
    "        'commuters_goods_producing_industry': 'LODES',\n",
    "        'commuters_trade_transport_utility_industry': 'LODES',\n",
    "        'commuters_other_industry': 'LODES',\n",
    "        'all_jobs': 'LODES',\n",
    "        'primary_jobs': 'LODES',\n",
    "        'all_private_jobs': 'LODES',\n",
    "        'private_primary_jobs': 'LODES',\n",
    "        'all_federal_jobs': 'LODES',\n",
    "        'federal_primary_jobs': 'LODES'\n",
    "    }\n",
    ")"
   ]
  },
  {
   "cell_type": "code",
   "execution_count": 2,
   "metadata": {},
   "outputs": [],
   "source": [
    "from epymorph.geo.adrio import adrio_maker_library\n",
    "from epymorph.geo.dynamic import DynamicGeo\n",
    "\n",
    "geo = DynamicGeo.from_library(spec, adrio_maker_library)"
   ]
  },
  {
   "cell_type": "code",
   "execution_count": 3,
   "metadata": {},
   "outputs": [
    {
     "name": "stdout",
     "output_type": "stream",
     "text": [
      "Fetching data from URL: https://lehd.ces.census.gov/data/lodes/LODES8/az/od/az_od_main_JT00_2016.csv.gz\n",
      "Fetching data from URL: https://lehd.ces.census.gov/data/lodes/LODES8/az/od/az_od_main_JT00_2016.csv.gz\n",
      "Load from cache\n",
      "\n",
      "Fetching data from URL: https://lehd.ces.census.gov/data/lodes/LODES8/co/od/co_od_main_JT00_2016.csv.gz\n",
      "Fetching data from URL: https://lehd.ces.census.gov/data/lodes/LODES8/co/od/co_od_main_JT00_2016.csv.gz\n",
      "Load from cache\n",
      "\n",
      "Fetching data from URL: https://lehd.ces.census.gov/data/lodes/LODES8/nv/od/nv_od_main_JT00_2016.csv.gz\n",
      "Fetching data from URL: https://lehd.ces.census.gov/data/lodes/LODES8/nv/od/nv_od_main_JT00_2016.csv.gz\n",
      "Load from cache\n",
      "\n",
      "Fetching data from URL: https://lehd.ces.census.gov/data/lodes/LODES8/nm/od/nm_od_main_JT00_2016.csv.gz\n",
      "Fetching data from URL: https://lehd.ces.census.gov/data/lodes/LODES8/nm/od/nm_od_main_JT00_2016.csv.gz\n",
      "Load from cache\n",
      "\n",
      "[array(['04013', '08041', '32003', '35001'], dtype=object), array([[1673304,      61,    1141,     403],\n",
      "       [     35,  197065,       6,      62],\n",
      "       [   1403,      43,  887810,     207],\n",
      "       [    760,      43,     151,  250402]])]\n"
     ]
    }
   ],
   "source": [
    "values = [geo['label'],\n",
    "          geo['commuters']]\n",
    "\n",
    "print(values)"
   ]
  }
 ],
 "metadata": {
  "kernelspec": {
   "display_name": ".venv",
   "language": "python",
   "name": "python3"
  },
  "language_info": {
   "codemirror_mode": {
    "name": "ipython",
    "version": 3
   },
   "file_extension": ".py",
   "mimetype": "text/x-python",
   "name": "python",
   "nbconvert_exporter": "python",
   "pygments_lexer": "ipython3",
   "version": "3.11.0rc1"
  }
 },
 "nbformat": 4,
 "nbformat_minor": 2
}
