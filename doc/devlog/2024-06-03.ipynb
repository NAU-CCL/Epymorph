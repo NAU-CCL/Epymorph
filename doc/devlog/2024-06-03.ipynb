{
 "cells": [
  {
   "cell_type": "markdown",
   "metadata": {},
   "source": [
    "# devlog 2024-06-03\n",
    "\n",
    "_author: Trevor Johnson_\n",
    "\n",
    "ADRIOMakerCensus has been refactored to utilize the recently added GeoScope class heirarchy. This notebook tests the correct functionality of Census-based ADRIOs post-refactor by creating a DynamicGeo for each granularity and populating them with every attribute that is valid for their granularity.\n",
    "\n",
    "Additional cases can be tested by changing the type of the scope objects, changing the year in time period or scope, or changing the includes attribute of the scope object."
   ]
  },
  {
   "cell_type": "code",
   "execution_count": null,
   "metadata": {},
   "outputs": [],
   "source": [
    "from epymorph.data_shape import Shapes\n",
    "from epymorph.data_type import CentroidDType\n",
    "from epymorph.geo.adrio import adrio_maker_library\n",
    "from epymorph.geo.dynamic import DynamicGeo\n",
    "from epymorph.geo.spec import DynamicGeoSpec, Year\n",
    "from epymorph.geography.us_census import DEFAULT_YEAR, StateScopeAll\n",
    "from epymorph.simulation import geo_attrib\n",
    "\n",
    "spec = DynamicGeoSpec(\n",
    "    attributes=[\n",
    "        geo_attrib('label', str, Shapes.N),\n",
    "        geo_attrib('population', int, Shapes.N),\n",
    "        geo_attrib('population_by_age', int, Shapes.NxA(3)),\n",
    "        geo_attrib('population_by_age_x6', int, Shapes.NxA(6)),\n",
    "        geo_attrib('centroid', CentroidDType, Shapes.N),\n",
    "        geo_attrib('geoid', str, Shapes.N),\n",
    "        geo_attrib('average_household_size', int, Shapes.N),\n",
    "        geo_attrib('dissimilarity_index', float, Shapes.N),\n",
    "        geo_attrib('commuters', int, Shapes.NxN),\n",
    "        geo_attrib('gini_index', float, Shapes.N),\n",
    "        geo_attrib('median_age', int, Shapes.N),\n",
    "        geo_attrib('median_income', int, Shapes.N),\n",
    "        geo_attrib('pop_density_km2', float, Shapes.N)\n",
    "    ],\n",
    "    time_period=Year(2020),\n",
    "    scope=StateScopeAll(DEFAULT_YEAR),\n",
    "    source={\n",
    "        'label': 'Census:name',\n",
    "        'population': 'Census',\n",
    "        'population_by_age': 'Census',\n",
    "        'population_by_age_x6': 'Census',\n",
    "        'centroid': 'Census',\n",
    "        'geoid': 'Census',\n",
    "        'average_household_size': 'Census',\n",
    "        'dissimilarity_index': 'Census',\n",
    "        'commuters': 'Census',\n",
    "        'gini_index': 'Census',\n",
    "        'median_age': 'Census',\n",
    "        'median_income': 'Census',\n",
    "        'pop_density_km2': 'Census',\n",
    "        'tract_median_income': 'Census'\n",
    "    }\n",
    ")\n",
    "\n",
    "geo = DynamicGeo.from_library(spec, adrio_maker_library)"
   ]
  },
  {
   "cell_type": "code",
   "execution_count": null,
   "metadata": {},
   "outputs": [],
   "source": [
    "geo.validate()"
   ]
  },
  {
   "cell_type": "code",
   "execution_count": null,
   "metadata": {},
   "outputs": [],
   "source": [
    "from dataclasses import replace\n",
    "\n",
    "from epymorph.geography.us_census import (DEFAULT_YEAR, BlockGroupScope,\n",
    "                                          CountyScope, StateScope, TractScope)\n",
    "\n",
    "spec = replace(spec, scope=StateScope('state', ['04', '08'], DEFAULT_YEAR))\n",
    "geo = DynamicGeo.from_library(spec, adrio_maker_library)"
   ]
  },
  {
   "cell_type": "code",
   "execution_count": null,
   "metadata": {},
   "outputs": [],
   "source": [
    "geo.validate()"
   ]
  },
  {
   "cell_type": "code",
   "execution_count": null,
   "metadata": {},
   "outputs": [],
   "source": [
    "spec = replace(spec, scope=CountyScope(\n",
    "    'county', ['35001', '04013', '04017'], DEFAULT_YEAR))\n",
    "geo = DynamicGeo.from_library(spec, adrio_maker_library)"
   ]
  },
  {
   "cell_type": "code",
   "execution_count": null,
   "metadata": {},
   "outputs": [],
   "source": [
    "geo.validate()"
   ]
  },
  {
   "cell_type": "code",
   "execution_count": null,
   "metadata": {},
   "outputs": [],
   "source": [
    "spec = replace(spec, scope=TractScope('tract', ['35001000720', '35001000904', '35001000906',\n",
    "                                                '04027011405', '04027011407'], DEFAULT_YEAR), attributes=[\n",
    "    geo_attrib('label', str, Shapes.N),\n",
    "    geo_attrib('population', int, Shapes.N),\n",
    "    geo_attrib('population_by_age', int, Shapes.NxA(3)),\n",
    "    geo_attrib('population_by_age_x6', int, Shapes.NxA(6)),\n",
    "    geo_attrib('centroid', CentroidDType, Shapes.N),\n",
    "    geo_attrib('geoid', str, Shapes.N),\n",
    "    geo_attrib('average_household_size', int, Shapes.N),\n",
    "    geo_attrib('dissimilarity_index', float, Shapes.N),\n",
    "    geo_attrib('gini_index', float, Shapes.N),\n",
    "    geo_attrib('median_age', int, Shapes.N),\n",
    "    geo_attrib('median_income', int, Shapes.N),\n",
    "    geo_attrib('pop_density_km2', float, Shapes.N)\n",
    "])\n",
    "\n",
    "geo = DynamicGeo.from_library(spec, adrio_maker_library)"
   ]
  },
  {
   "cell_type": "code",
   "execution_count": null,
   "metadata": {},
   "outputs": [],
   "source": [
    "# tract and block group geos fetch shape file attributes prior to validating so that the kernel\n",
    "# is not overwhelmed by several large shapefile requests in parallel\n",
    "geo['centroid']\n",
    "geo['pop_density_km2']\n",
    "geo.validate()"
   ]
  },
  {
   "cell_type": "code",
   "execution_count": null,
   "metadata": {},
   "outputs": [],
   "source": [
    "spec = replace(spec, scope=BlockGroupScope('block group', ['350010007201', '350010009041', '350010009061',\n",
    "                                                           '040270114053', '040270114072'], DEFAULT_YEAR), attributes=[\n",
    "    geo_attrib('label', str, Shapes.N),\n",
    "    geo_attrib('population', int, Shapes.N),\n",
    "    geo_attrib('population_by_age', int, Shapes.NxA(3)),\n",
    "    geo_attrib('population_by_age_x6', int, Shapes.NxA(6)),\n",
    "    geo_attrib('centroid', CentroidDType, Shapes.N),\n",
    "    geo_attrib('geoid', str, Shapes.N),\n",
    "    geo_attrib('average_household_size', int, Shapes.N),\n",
    "    geo_attrib('gini_index', float, Shapes.N),\n",
    "    geo_attrib('median_age', int, Shapes.N),\n",
    "    geo_attrib('median_income', int, Shapes.N),\n",
    "    geo_attrib('pop_density_km2', float, Shapes.N),\n",
    "    geo_attrib('tract_median_income', int, Shapes.N)\n",
    "])\n",
    "\n",
    "geo = DynamicGeo.from_library(spec, adrio_maker_library)"
   ]
  },
  {
   "cell_type": "code",
   "execution_count": null,
   "metadata": {},
   "outputs": [],
   "source": [
    "geo['centroid']\n",
    "geo['pop_density_km2']\n",
    "geo.validate()"
   ]
  }
 ],
 "metadata": {
  "kernelspec": {
   "display_name": ".venv",
   "language": "python",
   "name": "python3"
  },
  "language_info": {
   "codemirror_mode": {
    "name": "ipython",
    "version": 3
   },
   "file_extension": ".py",
   "mimetype": "text/x-python",
   "name": "python",
   "nbconvert_exporter": "python",
   "pygments_lexer": "ipython3",
   "version": "3.11.9"
  }
 },
 "nbformat": 4,
 "nbformat_minor": 2
}
